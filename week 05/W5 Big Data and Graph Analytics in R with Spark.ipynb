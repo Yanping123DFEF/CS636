{
 "cells": [
  {
   "cell_type": "code",
   "execution_count": 1,
   "metadata": {
    "scrolled": true
   },
   "outputs": [
    {
     "name": "stderr",
     "output_type": "stream",
     "text": [
      "Installing package into 'C:/Users/David Li/Documents/R/win-library/3.6'\n",
      "(as 'lib' is unspecified)\n",
      "\n",
      "also installing the dependencies 'tidyselect', 'plogr', 'config', 'DBI', 'dplyr', 'dbplyr', 'forge', 'generics', 'r2d3', 'rappdirs', 'tidyr'\n",
      "\n",
      "\n"
     ]
    },
    {
     "name": "stdout",
     "output_type": "stream",
     "text": [
      "package 'tidyselect' successfully unpacked and MD5 sums checked\n",
      "package 'plogr' successfully unpacked and MD5 sums checked\n",
      "package 'config' successfully unpacked and MD5 sums checked\n",
      "package 'DBI' successfully unpacked and MD5 sums checked\n",
      "package 'dplyr' successfully unpacked and MD5 sums checked\n",
      "package 'dbplyr' successfully unpacked and MD5 sums checked\n",
      "package 'forge' successfully unpacked and MD5 sums checked\n",
      "package 'generics' successfully unpacked and MD5 sums checked\n",
      "package 'r2d3' successfully unpacked and MD5 sums checked\n",
      "package 'rappdirs' successfully unpacked and MD5 sums checked\n",
      "package 'tidyr' successfully unpacked and MD5 sums checked\n",
      "package 'sparklyr' successfully unpacked and MD5 sums checked\n",
      "\n",
      "The downloaded binary packages are in\n",
      "\tC:\\Users\\David Li\\AppData\\Local\\Temp\\Rtmp0WPJy2\\downloaded_packages\n"
     ]
    }
   ],
   "source": [
    "install.packages(\"sparklyr\")"
   ]
  },
  {
   "cell_type": "code",
   "execution_count": 12,
   "metadata": {
    "scrolled": true
   },
   "outputs": [
    {
     "data": {
      "text/plain": [
       "[1] ‘1.3.0’"
      ]
     },
     "metadata": {},
     "output_type": "display_data"
    }
   ],
   "source": [
    "packageVersion(\"sparklyr\")"
   ]
  },
  {
   "cell_type": "code",
   "execution_count": 13,
   "metadata": {
    "scrolled": true
   },
   "outputs": [],
   "source": [
    "library(sparklyr)\n",
    "library(dplyr)\n"
   ]
  },
  {
   "cell_type": "code",
   "execution_count": 14,
   "metadata": {},
   "outputs": [
    {
     "data": {
      "text/plain": [
       "[1] ‘3.6.1’"
      ]
     },
     "metadata": {},
     "output_type": "display_data"
    }
   ],
   "source": [
    "getRversion()"
   ]
  },
  {
   "cell_type": "code",
   "execution_count": 15,
   "metadata": {
    "scrolled": true
   },
   "outputs": [],
   "source": [
    "library(rlang)"
   ]
  },
  {
   "cell_type": "code",
   "execution_count": 16,
   "metadata": {
    "scrolled": true
   },
   "outputs": [
    {
     "data": {
      "text/html": [
       "<table>\n",
       "<caption>A data.frame: 7 × 1</caption>\n",
       "<thead>\n",
       "\t<tr><th scope=col>spark</th></tr>\n",
       "\t<tr><th scope=col>&lt;chr&gt;</th></tr>\n",
       "</thead>\n",
       "<tbody>\n",
       "\t<tr><td>1.6</td></tr>\n",
       "\t<tr><td>2.0</td></tr>\n",
       "\t<tr><td>2.1</td></tr>\n",
       "\t<tr><td>2.2</td></tr>\n",
       "\t<tr><td>2.3</td></tr>\n",
       "\t<tr><td>2.4</td></tr>\n",
       "\t<tr><td>3.0</td></tr>\n",
       "</tbody>\n",
       "</table>\n"
      ],
      "text/latex": [
       "A data.frame: 7 × 1\n",
       "\\begin{tabular}{l}\n",
       " spark\\\\\n",
       " <chr>\\\\\n",
       "\\hline\n",
       "\t 1.6\\\\\n",
       "\t 2.0\\\\\n",
       "\t 2.1\\\\\n",
       "\t 2.2\\\\\n",
       "\t 2.3\\\\\n",
       "\t 2.4\\\\\n",
       "\t 3.0\\\\\n",
       "\\end{tabular}\n"
      ],
      "text/markdown": [
       "\n",
       "A data.frame: 7 × 1\n",
       "\n",
       "| spark &lt;chr&gt; |\n",
       "|---|\n",
       "| 1.6 |\n",
       "| 2.0 |\n",
       "| 2.1 |\n",
       "| 2.2 |\n",
       "| 2.3 |\n",
       "| 2.4 |\n",
       "| 3.0 |\n",
       "\n"
      ],
      "text/plain": [
       "  spark\n",
       "1 1.6  \n",
       "2 2.0  \n",
       "3 2.1  \n",
       "4 2.2  \n",
       "5 2.3  \n",
       "6 2.4  \n",
       "7 3.0  "
      ]
     },
     "metadata": {},
     "output_type": "display_data"
    }
   ],
   "source": [
    "spark_available_versions()"
   ]
  },
  {
   "cell_type": "code",
   "execution_count": 17,
   "metadata": {},
   "outputs": [],
   "source": [
    "system(\"java -version\")  #wrong result on my machine. You should get the java version."
   ]
  },
  {
   "cell_type": "code",
   "execution_count": 18,
   "metadata": {},
   "outputs": [],
   "source": [
    "spark_install(\"3.0.0\")"
   ]
  },
  {
   "cell_type": "code",
   "execution_count": 8,
   "metadata": {},
   "outputs": [],
   "source": [
    "?spark_install"
   ]
  },
  {
   "cell_type": "code",
   "execution_count": 19,
   "metadata": {},
   "outputs": [
    {
     "data": {
      "text/html": [
       "'/Users/wyp/spark'"
      ],
      "text/latex": [
       "'/Users/wyp/spark'"
      ],
      "text/markdown": [
       "'/Users/wyp/spark'"
      ],
      "text/plain": [
       "[1] \"/Users/wyp/spark\""
      ]
     },
     "metadata": {},
     "output_type": "display_data"
    }
   ],
   "source": [
    "spark_install_dir()"
   ]
  },
  {
   "cell_type": "code",
   "execution_count": 20,
   "metadata": {
    "scrolled": true
   },
   "outputs": [
    {
     "data": {
      "text/html": [
       "<table>\n",
       "<caption>A data.frame: 2 × 3</caption>\n",
       "<thead>\n",
       "\t<tr><th scope=col>spark</th><th scope=col>hadoop</th><th scope=col>dir</th></tr>\n",
       "\t<tr><th scope=col>&lt;chr&gt;</th><th scope=col>&lt;chr&gt;</th><th scope=col>&lt;chr&gt;</th></tr>\n",
       "</thead>\n",
       "<tbody>\n",
       "\t<tr><td>2.4.5</td><td>2.7</td><td>/Users/wyp/spark/spark-2.4.5-bin-hadoop2.7</td></tr>\n",
       "\t<tr><td>3.0.0</td><td>2.7</td><td>/Users/wyp/spark/spark-3.0.0-bin-hadoop2.7</td></tr>\n",
       "</tbody>\n",
       "</table>\n"
      ],
      "text/latex": [
       "A data.frame: 2 × 3\n",
       "\\begin{tabular}{lll}\n",
       " spark & hadoop & dir\\\\\n",
       " <chr> & <chr> & <chr>\\\\\n",
       "\\hline\n",
       "\t 2.4.5 & 2.7 & /Users/wyp/spark/spark-2.4.5-bin-hadoop2.7\\\\\n",
       "\t 3.0.0 & 2.7 & /Users/wyp/spark/spark-3.0.0-bin-hadoop2.7\\\\\n",
       "\\end{tabular}\n"
      ],
      "text/markdown": [
       "\n",
       "A data.frame: 2 × 3\n",
       "\n",
       "| spark &lt;chr&gt; | hadoop &lt;chr&gt; | dir &lt;chr&gt; |\n",
       "|---|---|---|\n",
       "| 2.4.5 | 2.7 | /Users/wyp/spark/spark-2.4.5-bin-hadoop2.7 |\n",
       "| 3.0.0 | 2.7 | /Users/wyp/spark/spark-3.0.0-bin-hadoop2.7 |\n",
       "\n"
      ],
      "text/plain": [
       "  spark hadoop dir                                       \n",
       "1 2.4.5 2.7    /Users/wyp/spark/spark-2.4.5-bin-hadoop2.7\n",
       "2 3.0.0 2.7    /Users/wyp/spark/spark-3.0.0-bin-hadoop2.7"
      ]
     },
     "metadata": {},
     "output_type": "display_data"
    }
   ],
   "source": [
    "spark_installed_versions()"
   ]
  },
  {
   "cell_type": "markdown",
   "metadata": {},
   "source": [
    "* Running Spark on Windows requires the Microsoft Visual C++ 2010 SP1 Redistributable Package. Please download and install from: \n",
    "\n",
    "  https://www.microsoft.com/download/en/details.aspx?id=13523\n",
    "\n",
    "    Then restart R after the installation completes\n",
    "\n",
    "\n",
    "* To run Spark on Windows you need a copy of Hadoop winutils.exe:\n",
    "\n",
    "    1. Download Hadoop winutils.exe from:\n",
    "\n",
    "    https://github.com/steveloughran/winutils/raw/master/hadoop-2.6.0/bin/ (I think it should be 2.7 here)\n",
    "\n",
    "    2. Copy winutils.exe to C:\\Users\\David Li\\AppData\\Local\\spark\\spark-2.3.3-bin-hadoop2.7\\tmp\\hadoop\\bin\n",
    "\n",
    "    Alternatively, if you are using RStudio you can install the RStudio Preview Release,\n",
    "    which includes an embedded copy of Hadoop winutils.exe:\n",
    "    https://www.rstudio.com/products/rstudio/download/preview/"
   ]
  },
  {
   "cell_type": "code",
   "execution_count": 32,
   "metadata": {},
   "outputs": [],
   "source": [
    "# sc <- spark_connect(master = \"local\", spark_home=\"C:/spark-2.4.4-bin-hadoop2.7\")"
   ]
  },
  {
   "cell_type": "code",
   "execution_count": 21,
   "metadata": {},
   "outputs": [
    {
     "name": "stderr",
     "output_type": "stream",
     "text": [
      "Re-using existing Spark connection to local\n",
      "\n"
     ]
    }
   ],
   "source": [
    "sc <- spark_connect(master = \"local\")"
   ]
  },
  {
   "cell_type": "code",
   "execution_count": 22,
   "metadata": {},
   "outputs": [],
   "source": [
    "cars <- copy_to(sc, mtcars)"
   ]
  },
  {
   "cell_type": "code",
   "execution_count": 23,
   "metadata": {
    "scrolled": true
   },
   "outputs": [
    {
     "data": {
      "text/plain": [
       "\u001b[38;5;246m# Source: spark<mtcars> [?? x 11]\u001b[39m\n",
       "     mpg   cyl  disp    hp  drat    wt  qsec    vs    am  gear  carb\n",
       "   \u001b[3m\u001b[38;5;246m<dbl>\u001b[39m\u001b[23m \u001b[3m\u001b[38;5;246m<dbl>\u001b[39m\u001b[23m \u001b[3m\u001b[38;5;246m<dbl>\u001b[39m\u001b[23m \u001b[3m\u001b[38;5;246m<dbl>\u001b[39m\u001b[23m \u001b[3m\u001b[38;5;246m<dbl>\u001b[39m\u001b[23m \u001b[3m\u001b[38;5;246m<dbl>\u001b[39m\u001b[23m \u001b[3m\u001b[38;5;246m<dbl>\u001b[39m\u001b[23m \u001b[3m\u001b[38;5;246m<dbl>\u001b[39m\u001b[23m \u001b[3m\u001b[38;5;246m<dbl>\u001b[39m\u001b[23m \u001b[3m\u001b[38;5;246m<dbl>\u001b[39m\u001b[23m \u001b[3m\u001b[38;5;246m<dbl>\u001b[39m\u001b[23m\n",
       "\u001b[38;5;250m 1\u001b[39m  21       6  160    110  3.9   2.62  16.5     0     1     4     4\n",
       "\u001b[38;5;250m 2\u001b[39m  21       6  160    110  3.9   2.88  17.0     0     1     4     4\n",
       "\u001b[38;5;250m 3\u001b[39m  22.8     4  108     93  3.85  2.32  18.6     1     1     4     1\n",
       "\u001b[38;5;250m 4\u001b[39m  21.4     6  258    110  3.08  3.22  19.4     1     0     3     1\n",
       "\u001b[38;5;250m 5\u001b[39m  18.7     8  360    175  3.15  3.44  17.0     0     0     3     2\n",
       "\u001b[38;5;250m 6\u001b[39m  18.1     6  225    105  2.76  3.46  20.2     1     0     3     1\n",
       "\u001b[38;5;250m 7\u001b[39m  14.3     8  360    245  3.21  3.57  15.8     0     0     3     4\n",
       "\u001b[38;5;250m 8\u001b[39m  24.4     4  147.    62  3.69  3.19  20       1     0     4     2\n",
       "\u001b[38;5;250m 9\u001b[39m  22.8     4  141.    95  3.92  3.15  22.9     1     0     4     2\n",
       "\u001b[38;5;250m10\u001b[39m  19.2     6  168.   123  3.92  3.44  18.3     1     0     4     4\n",
       "\u001b[38;5;246m# … with more rows\u001b[39m"
      ]
     },
     "metadata": {},
     "output_type": "display_data"
    }
   ],
   "source": [
    "cars"
   ]
  },
  {
   "cell_type": "code",
   "execution_count": 15,
   "metadata": {},
   "outputs": [],
   "source": [
    "spark_web(sc)"
   ]
  },
  {
   "cell_type": "code",
   "execution_count": 16,
   "metadata": {
    "scrolled": true
   },
   "outputs": [
    {
     "data": {
      "text/html": [
       "<table>\n",
       "<caption>A data.frame: 1 × 1</caption>\n",
       "<thead>\n",
       "\t<tr><th scope=col>count(1)</th></tr>\n",
       "\t<tr><th scope=col>&lt;dbl&gt;</th></tr>\n",
       "</thead>\n",
       "<tbody>\n",
       "\t<tr><td>32</td></tr>\n",
       "</tbody>\n",
       "</table>\n"
      ],
      "text/latex": [
       "A data.frame: 1 × 1\n",
       "\\begin{tabular}{l}\n",
       " count(1)\\\\\n",
       " <dbl>\\\\\n",
       "\\hline\n",
       "\t 32\\\\\n",
       "\\end{tabular}\n"
      ],
      "text/markdown": [
       "\n",
       "A data.frame: 1 × 1\n",
       "\n",
       "| count(1) &lt;dbl&gt; |\n",
       "|---|\n",
       "| 32 |\n",
       "\n"
      ],
      "text/plain": [
       "  count(1)\n",
       "1 32      "
      ]
     },
     "metadata": {},
     "output_type": "display_data"
    }
   ],
   "source": [
    "library(DBI)\n",
    "dbGetQuery(sc, \"SELECT count(*) FROM mtcars\")"
   ]
  },
  {
   "cell_type": "code",
   "execution_count": 17,
   "metadata": {
    "scrolled": false
   },
   "outputs": [
    {
     "name": "stderr",
     "output_type": "stream",
     "text": [
      "\n",
      "Attaching package: 'dplyr'\n",
      "\n",
      "\n",
      "The following objects are masked from 'package:stats':\n",
      "\n",
      "    filter, lag\n",
      "\n",
      "\n",
      "The following objects are masked from 'package:base':\n",
      "\n",
      "    intersect, setdiff, setequal, union\n",
      "\n",
      "\n"
     ]
    },
    {
     "data": {
      "image/png": "[encoded data removed]",
      "text/plain": [
       "plot without title"
      ]
     },
     "metadata": {
      "image/png": {
       "height": 420,
       "width": 420
      }
     },
     "output_type": "display_data"
    }
   ],
   "source": [
    "library(dplyr)\n",
    "\n",
    "select(cars, hp, mpg) %>%\n",
    "  sample_n(100) %>%\n",
    "  collect() %>%\n",
    "  plot()"
   ]
  },
  {
   "cell_type": "code",
   "execution_count": 26,
   "metadata": {
    "scrolled": true
   },
   "outputs": [
    {
     "data": {
      "text/plain": [
       "Formula: mpg ~ hp\n",
       "\n",
       "Coefficients:\n",
       "(Intercept)          hp \n",
       "30.09886054 -0.06822828 "
      ]
     },
     "metadata": {},
     "output_type": "display_data"
    }
   ],
   "source": [
    "model <- ml_linear_regression(cars, mpg ~ hp)\n",
    "model"
   ]
  },
  {
   "cell_type": "code",
   "execution_count": 28,
   "metadata": {
    "scrolled": true
   },
   "outputs": [
    {
     "name": "stderr",
     "output_type": "stream",
     "text": [
      "Joining, by = c(\"hp\", \"mpg\")\n",
      "\n"
     ]
    },
    {
     "data": {
      "image/png": "[encoded data removed]",
      "text/plain": [
       "plot without title"
      ]
     },
     "metadata": {
      "image/png": {
       "height": 420,
       "width": 420
      }
     },
     "output_type": "display_data"
    }
   ],
   "source": [
    "model %>%\n",
    "  ml_predict(copy_to(sc, data.frame(hp = 250 + 10 * 1:10))) %>%\n",
    "  transmute(hp = hp, mpg = prediction) %>%\n",
    "  full_join(select(cars, hp, mpg)) %>%\n",
    "  collect() %>%\n",
    "  plot()"
   ]
  },
  {
   "cell_type": "code",
   "execution_count": 32,
   "metadata": {
    "scrolled": true
   },
   "outputs": [
    {
     "name": "stderr",
     "output_type": "stream",
     "text": [
      "Installing packages into 'C:/Users/David Li/Documents/R/win-library/3.6'\n",
      "(as 'lib' is unspecified)\n",
      "\n"
     ]
    },
    {
     "name": "stdout",
     "output_type": "stream",
     "text": [
      "package 'nycflights13' successfully unpacked and MD5 sums checked\n",
      "package 'Lahman' successfully unpacked and MD5 sums checked\n",
      "\n",
      "The downloaded binary packages are in\n",
      "\tC:\\Users\\David Li\\AppData\\Local\\Temp\\RtmpmI1zQQ\\downloaded_packages\n"
     ]
    }
   ],
   "source": [
    "install.packages(c(\"nycflights13\", \"Lahman\"))"
   ]
  },
  {
   "cell_type": "code",
   "execution_count": 33,
   "metadata": {},
   "outputs": [],
   "source": [
    "flights_tbl <- copy_to(sc, nycflights13::flights, \"flights\")"
   ]
  },
  {
   "cell_type": "code",
   "execution_count": 34,
   "metadata": {
    "scrolled": true
   },
   "outputs": [
    {
     "data": {
      "text/plain": [
       "\u001b[90m# Source: spark<?> [?? x 19]\u001b[39m\n",
       "    year month   day dep_time sched_dep_time dep_delay arr_time sched_arr_time\n",
       "   \u001b[3m\u001b[90m<int>\u001b[39m\u001b[23m \u001b[3m\u001b[90m<int>\u001b[39m\u001b[23m \u001b[3m\u001b[90m<int>\u001b[39m\u001b[23m    \u001b[3m\u001b[90m<int>\u001b[39m\u001b[23m          \u001b[3m\u001b[90m<int>\u001b[39m\u001b[23m     \u001b[3m\u001b[90m<dbl>\u001b[39m\u001b[23m    \u001b[3m\u001b[90m<int>\u001b[39m\u001b[23m          \u001b[3m\u001b[90m<int>\u001b[39m\u001b[23m\n",
       "\u001b[90m 1\u001b[39m  \u001b[4m2\u001b[24m013     1     1      517            515         2      830            819\n",
       "\u001b[90m 2\u001b[39m  \u001b[4m2\u001b[24m013     1     1      542            540         2      923            850\n",
       "\u001b[90m 3\u001b[39m  \u001b[4m2\u001b[24m013     1     1      702            700         2     \u001b[4m1\u001b[24m058           \u001b[4m1\u001b[24m014\n",
       "\u001b[90m 4\u001b[39m  \u001b[4m2\u001b[24m013     1     1      715            713         2      911            850\n",
       "\u001b[90m 5\u001b[39m  \u001b[4m2\u001b[24m013     1     1      752            750         2     \u001b[4m1\u001b[24m025           \u001b[4m1\u001b[24m029\n",
       "\u001b[90m 6\u001b[39m  \u001b[4m2\u001b[24m013     1     1      917            915         2     \u001b[4m1\u001b[24m206           \u001b[4m1\u001b[24m211\n",
       "\u001b[90m 7\u001b[39m  \u001b[4m2\u001b[24m013     1     1      932            930         2     \u001b[4m1\u001b[24m219           \u001b[4m1\u001b[24m225\n",
       "\u001b[90m 8\u001b[39m  \u001b[4m2\u001b[24m013     1     1     \u001b[4m1\u001b[24m028           \u001b[4m1\u001b[24m026         2     \u001b[4m1\u001b[24m350           \u001b[4m1\u001b[24m339\n",
       "\u001b[90m 9\u001b[39m  \u001b[4m2\u001b[24m013     1     1     \u001b[4m1\u001b[24m042           \u001b[4m1\u001b[24m040         2     \u001b[4m1\u001b[24m325           \u001b[4m1\u001b[24m326\n",
       "\u001b[90m10\u001b[39m  \u001b[4m2\u001b[24m013     1     1     \u001b[4m1\u001b[24m231           \u001b[4m1\u001b[24m229         2     \u001b[4m1\u001b[24m523           \u001b[4m1\u001b[24m529\n",
       "\u001b[90m# ... with more rows, and 11 more variables: arr_delay \u001b[3m\u001b[90m<dbl>\u001b[90m\u001b[23m, carrier \u001b[3m\u001b[90m<chr>\u001b[90m\u001b[23m,\n",
       "#   flight \u001b[3m\u001b[90m<int>\u001b[90m\u001b[23m, tailnum \u001b[3m\u001b[90m<chr>\u001b[90m\u001b[23m, origin \u001b[3m\u001b[90m<chr>\u001b[90m\u001b[23m, dest \u001b[3m\u001b[90m<chr>\u001b[90m\u001b[23m, air_time \u001b[3m\u001b[90m<dbl>\u001b[90m\u001b[23m,\n",
       "#   distance \u001b[3m\u001b[90m<dbl>\u001b[90m\u001b[23m, hour \u001b[3m\u001b[90m<dbl>\u001b[90m\u001b[23m, minute \u001b[3m\u001b[90m<dbl>\u001b[90m\u001b[23m, time_hour \u001b[3m\u001b[90m<dttm>\u001b[90m\u001b[23m\u001b[39m"
      ]
     },
     "metadata": {},
     "output_type": "display_data"
    }
   ],
   "source": [
    "flights_tbl %>% filter(dep_delay == 2)"
   ]
  },
  {
   "cell_type": "code",
   "execution_count": 35,
   "metadata": {},
   "outputs": [],
   "source": [
    "iris_tbl = copy_to(sc, iris, overwrite=TRUE)"
   ]
  },
  {
   "cell_type": "code",
   "execution_count": 36,
   "metadata": {
    "scrolled": true
   },
   "outputs": [
    {
     "data": {
      "text/plain": [
       "\u001b[90m# Source: spark<iris> [?? x 5]\u001b[39m\n",
       "   Sepal_Length Sepal_Width Petal_Length Petal_Width Species\n",
       "          \u001b[3m\u001b[90m<dbl>\u001b[39m\u001b[23m       \u001b[3m\u001b[90m<dbl>\u001b[39m\u001b[23m        \u001b[3m\u001b[90m<dbl>\u001b[39m\u001b[23m       \u001b[3m\u001b[90m<dbl>\u001b[39m\u001b[23m \u001b[3m\u001b[90m<chr>\u001b[39m\u001b[23m  \n",
       "\u001b[90m 1\u001b[39m          5.1         3.5          1.4         0.2 setosa \n",
       "\u001b[90m 2\u001b[39m          4.9         3            1.4         0.2 setosa \n",
       "\u001b[90m 3\u001b[39m          4.7         3.2          1.3         0.2 setosa \n",
       "\u001b[90m 4\u001b[39m          4.6         3.1          1.5         0.2 setosa \n",
       "\u001b[90m 5\u001b[39m          5           3.6          1.4         0.2 setosa \n",
       "\u001b[90m 6\u001b[39m          5.4         3.9          1.7         0.4 setosa \n",
       "\u001b[90m 7\u001b[39m          4.6         3.4          1.4         0.3 setosa \n",
       "\u001b[90m 8\u001b[39m          5           3.4          1.5         0.2 setosa \n",
       "\u001b[90m 9\u001b[39m          4.4         2.9          1.4         0.2 setosa \n",
       "\u001b[90m10\u001b[39m          4.9         3.1          1.5         0.1 setosa \n",
       "\u001b[90m# ... with more rows\u001b[39m"
      ]
     },
     "metadata": {},
     "output_type": "display_data"
    }
   ],
   "source": [
    "iris_tbl"
   ]
  },
  {
   "cell_type": "code",
   "execution_count": 39,
   "metadata": {},
   "outputs": [
    {
     "data": {
      "text/html": [
       "<style>\n",
       ".list-inline {list-style: none; margin:0; padding: 0}\n",
       ".list-inline>li {display: inline-block}\n",
       ".list-inline>li:not(:last-child)::after {content: \"\\00b7\"; padding: 0 .5ex}\n",
       "</style>\n",
       "<ol class=list-inline><li>'tbl_spark'</li><li>'tbl_sql'</li><li>'tbl_lazy'</li><li>'tbl'</li></ol>\n"
      ],
      "text/latex": [
       "\\begin{enumerate*}\n",
       "\\item 'tbl\\_spark'\n",
       "\\item 'tbl\\_sql'\n",
       "\\item 'tbl\\_lazy'\n",
       "\\item 'tbl'\n",
       "\\end{enumerate*}\n"
      ],
      "text/markdown": [
       "1. 'tbl_spark'\n",
       "2. 'tbl_sql'\n",
       "3. 'tbl_lazy'\n",
       "4. 'tbl'\n",
       "\n",
       "\n"
      ],
      "text/plain": [
       "[1] \"tbl_spark\" \"tbl_sql\"   \"tbl_lazy\"  \"tbl\"      "
      ]
     },
     "metadata": {},
     "output_type": "display_data"
    }
   ],
   "source": [
    "class(iris_tbl)"
   ]
  },
  {
   "cell_type": "code",
   "execution_count": 41,
   "metadata": {
    "scrolled": true
   },
   "outputs": [
    {
     "data": {
      "text/html": [
       "'list'"
      ],
      "text/latex": [
       "'list'"
      ],
      "text/markdown": [
       "'list'"
      ],
      "text/plain": [
       "[1] \"list\""
      ]
     },
     "metadata": {},
     "output_type": "display_data"
    }
   ],
   "source": [
    "typeof(iris_tbl)"
   ]
  },
  {
   "cell_type": "code",
   "execution_count": 42,
   "metadata": {},
   "outputs": [],
   "source": [
    "library(dplyr)"
   ]
  },
  {
   "cell_type": "code",
   "execution_count": 43,
   "metadata": {
    "scrolled": true
   },
   "outputs": [
    {
     "data": {
      "text/html": [
       "<table>\n",
       "<caption>A data.frame: 6 × 5</caption>\n",
       "<thead>\n",
       "\t<tr><th></th><th scope=col>Sepal.Length</th><th scope=col>Sepal.Width</th><th scope=col>Petal.Length</th><th scope=col>Petal.Width</th><th scope=col>Species</th></tr>\n",
       "\t<tr><th></th><th scope=col>&lt;dbl&gt;</th><th scope=col>&lt;dbl&gt;</th><th scope=col>&lt;dbl&gt;</th><th scope=col>&lt;dbl&gt;</th><th scope=col>&lt;fct&gt;</th></tr>\n",
       "</thead>\n",
       "<tbody>\n",
       "\t<tr><th scope=row>1</th><td>5.1</td><td>3.5</td><td>1.4</td><td>0.2</td><td>setosa</td></tr>\n",
       "\t<tr><th scope=row>2</th><td>4.9</td><td>3.0</td><td>1.4</td><td>0.2</td><td>setosa</td></tr>\n",
       "\t<tr><th scope=row>3</th><td>4.7</td><td>3.2</td><td>1.3</td><td>0.2</td><td>setosa</td></tr>\n",
       "\t<tr><th scope=row>4</th><td>4.6</td><td>3.1</td><td>1.5</td><td>0.2</td><td>setosa</td></tr>\n",
       "\t<tr><th scope=row>5</th><td>5.0</td><td>3.6</td><td>1.4</td><td>0.2</td><td>setosa</td></tr>\n",
       "\t<tr><th scope=row>6</th><td>5.4</td><td>3.9</td><td>1.7</td><td>0.4</td><td>setosa</td></tr>\n",
       "</tbody>\n",
       "</table>\n"
      ],
      "text/latex": [
       "A data.frame: 6 × 5\n",
       "\\begin{tabular}{r|lllll}\n",
       "  & Sepal.Length & Sepal.Width & Petal.Length & Petal.Width & Species\\\\\n",
       "  & <dbl> & <dbl> & <dbl> & <dbl> & <fct>\\\\\n",
       "\\hline\n",
       "\t1 & 5.1 & 3.5 & 1.4 & 0.2 & setosa\\\\\n",
       "\t2 & 4.9 & 3.0 & 1.4 & 0.2 & setosa\\\\\n",
       "\t3 & 4.7 & 3.2 & 1.3 & 0.2 & setosa\\\\\n",
       "\t4 & 4.6 & 3.1 & 1.5 & 0.2 & setosa\\\\\n",
       "\t5 & 5.0 & 3.6 & 1.4 & 0.2 & setosa\\\\\n",
       "\t6 & 5.4 & 3.9 & 1.7 & 0.4 & setosa\\\\\n",
       "\\end{tabular}\n"
      ],
      "text/markdown": [
       "\n",
       "A data.frame: 6 × 5\n",
       "\n",
       "| <!--/--> | Sepal.Length &lt;dbl&gt; | Sepal.Width &lt;dbl&gt; | Petal.Length &lt;dbl&gt; | Petal.Width &lt;dbl&gt; | Species &lt;fct&gt; |\n",
       "|---|---|---|---|---|---|\n",
       "| 1 | 5.1 | 3.5 | 1.4 | 0.2 | setosa |\n",
       "| 2 | 4.9 | 3.0 | 1.4 | 0.2 | setosa |\n",
       "| 3 | 4.7 | 3.2 | 1.3 | 0.2 | setosa |\n",
       "| 4 | 4.6 | 3.1 | 1.5 | 0.2 | setosa |\n",
       "| 5 | 5.0 | 3.6 | 1.4 | 0.2 | setosa |\n",
       "| 6 | 5.4 | 3.9 | 1.7 | 0.4 | setosa |\n",
       "\n"
      ],
      "text/plain": [
       "  Sepal.Length Sepal.Width Petal.Length Petal.Width Species\n",
       "1 5.1          3.5         1.4          0.2         setosa \n",
       "2 4.9          3.0         1.4          0.2         setosa \n",
       "3 4.7          3.2         1.3          0.2         setosa \n",
       "4 4.6          3.1         1.5          0.2         setosa \n",
       "5 5.0          3.6         1.4          0.2         setosa \n",
       "6 5.4          3.9         1.7          0.4         setosa "
      ]
     },
     "metadata": {},
     "output_type": "display_data"
    }
   ],
   "source": [
    "head(iris)"
   ]
  },
  {
   "cell_type": "code",
   "execution_count": 54,
   "metadata": {
    "scrolled": true
   },
   "outputs": [
    {
     "data": {
      "text/plain": [
       "\u001b[90m# Source: spark<mtcars> [?? x 11]\u001b[39m\n",
       "     mpg   cyl  disp    hp  drat    wt  qsec    vs    am  gear  carb\n",
       "   \u001b[3m\u001b[90m<dbl>\u001b[39m\u001b[23m \u001b[3m\u001b[90m<dbl>\u001b[39m\u001b[23m \u001b[3m\u001b[90m<dbl>\u001b[39m\u001b[23m \u001b[3m\u001b[90m<dbl>\u001b[39m\u001b[23m \u001b[3m\u001b[90m<dbl>\u001b[39m\u001b[23m \u001b[3m\u001b[90m<dbl>\u001b[39m\u001b[23m \u001b[3m\u001b[90m<dbl>\u001b[39m\u001b[23m \u001b[3m\u001b[90m<dbl>\u001b[39m\u001b[23m \u001b[3m\u001b[90m<dbl>\u001b[39m\u001b[23m \u001b[3m\u001b[90m<dbl>\u001b[39m\u001b[23m \u001b[3m\u001b[90m<dbl>\u001b[39m\u001b[23m\n",
       "\u001b[90m 1\u001b[39m  21       6  160    110  3.9   2.62  16.5     0     1     4     4\n",
       "\u001b[90m 2\u001b[39m  21       6  160    110  3.9   2.88  17.0     0     1     4     4\n",
       "\u001b[90m 3\u001b[39m  22.8     4  108     93  3.85  2.32  18.6     1     1     4     1\n",
       "\u001b[90m 4\u001b[39m  21.4     6  258    110  3.08  3.22  19.4     1     0     3     1\n",
       "\u001b[90m 5\u001b[39m  18.7     8  360    175  3.15  3.44  17.0     0     0     3     2\n",
       "\u001b[90m 6\u001b[39m  18.1     6  225    105  2.76  3.46  20.2     1     0     3     1\n",
       "\u001b[90m 7\u001b[39m  14.3     8  360    245  3.21  3.57  15.8     0     0     3     4\n",
       "\u001b[90m 8\u001b[39m  24.4     4  147.    62  3.69  3.19  20       1     0     4     2\n",
       "\u001b[90m 9\u001b[39m  22.8     4  141.    95  3.92  3.15  22.9     1     0     4     2\n",
       "\u001b[90m10\u001b[39m  19.2     6  168.   123  3.92  3.44  18.3     1     0     4     4\n",
       "\u001b[90m# ... with more rows\u001b[39m"
      ]
     },
     "metadata": {},
     "output_type": "display_data"
    }
   ],
   "source": [
    "cars"
   ]
  },
  {
   "cell_type": "code",
   "execution_count": 45,
   "metadata": {
    "scrolled": true
   },
   "outputs": [
    {
     "data": {
      "text/html": [
       "<style>\n",
       ".list-inline {list-style: none; margin:0; padding: 0}\n",
       ".list-inline>li {display: inline-block}\n",
       ".list-inline>li:not(:last-child)::after {content: \"\\00b7\"; padding: 0 .5ex}\n",
       "</style>\n",
       "<ol class=list-inline><li>'tbl_spark'</li><li>'tbl_sql'</li><li>'tbl_lazy'</li><li>'tbl'</li></ol>\n"
      ],
      "text/latex": [
       "\\begin{enumerate*}\n",
       "\\item 'tbl\\_spark'\n",
       "\\item 'tbl\\_sql'\n",
       "\\item 'tbl\\_lazy'\n",
       "\\item 'tbl'\n",
       "\\end{enumerate*}\n"
      ],
      "text/markdown": [
       "1. 'tbl_spark'\n",
       "2. 'tbl_sql'\n",
       "3. 'tbl_lazy'\n",
       "4. 'tbl'\n",
       "\n",
       "\n"
      ],
      "text/plain": [
       "[1] \"tbl_spark\" \"tbl_sql\"   \"tbl_lazy\"  \"tbl\"      "
      ]
     },
     "metadata": {},
     "output_type": "display_data"
    }
   ],
   "source": [
    "class(cars)"
   ]
  },
  {
   "cell_type": "code",
   "execution_count": 46,
   "metadata": {
    "scrolled": true
   },
   "outputs": [
    {
     "data": {
      "text/html": [
       "'list'"
      ],
      "text/latex": [
       "'list'"
      ],
      "text/markdown": [
       "'list'"
      ],
      "text/plain": [
       "[1] \"list\""
      ]
     },
     "metadata": {},
     "output_type": "display_data"
    }
   ],
   "source": [
    "typeof(cars)"
   ]
  },
  {
   "cell_type": "code",
   "execution_count": 48,
   "metadata": {
    "scrolled": true
   },
   "outputs": [
    {
     "data": {
      "text/plain": [
       "\u001b[90m# Source: spark<?> [?? x 1]\u001b[39m\n",
       "      n\n",
       "  \u001b[3m\u001b[90m<dbl>\u001b[39m\u001b[23m\n",
       "\u001b[90m1\u001b[39m    32"
      ]
     },
     "metadata": {},
     "output_type": "display_data"
    }
   ],
   "source": [
    "count(cars)"
   ]
  },
  {
   "cell_type": "code",
   "execution_count": 18,
   "metadata": {
    "scrolled": false
   },
   "outputs": [
    {
     "data": {
      "text/html": [
       "<table>\n",
       "<caption>A tibble: 32 × 2</caption>\n",
       "<thead>\n",
       "\t<tr><th scope=col>hp</th><th scope=col>mpg</th></tr>\n",
       "\t<tr><th scope=col>&lt;dbl&gt;</th><th scope=col>&lt;dbl&gt;</th></tr>\n",
       "</thead>\n",
       "<tbody>\n",
       "\t<tr><td>110</td><td>21.0</td></tr>\n",
       "\t<tr><td>110</td><td>21.0</td></tr>\n",
       "\t<tr><td> 93</td><td>22.8</td></tr>\n",
       "\t<tr><td>110</td><td>21.4</td></tr>\n",
       "\t<tr><td>175</td><td>18.7</td></tr>\n",
       "\t<tr><td>105</td><td>18.1</td></tr>\n",
       "\t<tr><td>245</td><td>14.3</td></tr>\n",
       "\t<tr><td> 62</td><td>24.4</td></tr>\n",
       "\t<tr><td> 95</td><td>22.8</td></tr>\n",
       "\t<tr><td>123</td><td>19.2</td></tr>\n",
       "\t<tr><td>123</td><td>17.8</td></tr>\n",
       "\t<tr><td>180</td><td>16.4</td></tr>\n",
       "\t<tr><td>180</td><td>17.3</td></tr>\n",
       "\t<tr><td>180</td><td>15.2</td></tr>\n",
       "\t<tr><td>205</td><td>10.4</td></tr>\n",
       "\t<tr><td>215</td><td>10.4</td></tr>\n",
       "\t<tr><td>230</td><td>14.7</td></tr>\n",
       "\t<tr><td> 66</td><td>32.4</td></tr>\n",
       "\t<tr><td> 52</td><td>30.4</td></tr>\n",
       "\t<tr><td> 65</td><td>33.9</td></tr>\n",
       "\t<tr><td> 97</td><td>21.5</td></tr>\n",
       "\t<tr><td>150</td><td>15.5</td></tr>\n",
       "\t<tr><td>150</td><td>15.2</td></tr>\n",
       "\t<tr><td>245</td><td>13.3</td></tr>\n",
       "\t<tr><td>175</td><td>19.2</td></tr>\n",
       "\t<tr><td> 66</td><td>27.3</td></tr>\n",
       "\t<tr><td> 91</td><td>26.0</td></tr>\n",
       "\t<tr><td>113</td><td>30.4</td></tr>\n",
       "\t<tr><td>264</td><td>15.8</td></tr>\n",
       "\t<tr><td>175</td><td>19.7</td></tr>\n",
       "\t<tr><td>335</td><td>15.0</td></tr>\n",
       "\t<tr><td>109</td><td>21.4</td></tr>\n",
       "</tbody>\n",
       "</table>\n"
      ],
      "text/latex": [
       "A tibble: 32 × 2\n",
       "\\begin{tabular}{ll}\n",
       " hp & mpg\\\\\n",
       " <dbl> & <dbl>\\\\\n",
       "\\hline\n",
       "\t 110 & 21.0\\\\\n",
       "\t 110 & 21.0\\\\\n",
       "\t  93 & 22.8\\\\\n",
       "\t 110 & 21.4\\\\\n",
       "\t 175 & 18.7\\\\\n",
       "\t 105 & 18.1\\\\\n",
       "\t 245 & 14.3\\\\\n",
       "\t  62 & 24.4\\\\\n",
       "\t  95 & 22.8\\\\\n",
       "\t 123 & 19.2\\\\\n",
       "\t 123 & 17.8\\\\\n",
       "\t 180 & 16.4\\\\\n",
       "\t 180 & 17.3\\\\\n",
       "\t 180 & 15.2\\\\\n",
       "\t 205 & 10.4\\\\\n",
       "\t 215 & 10.4\\\\\n",
       "\t 230 & 14.7\\\\\n",
       "\t  66 & 32.4\\\\\n",
       "\t  52 & 30.4\\\\\n",
       "\t  65 & 33.9\\\\\n",
       "\t  97 & 21.5\\\\\n",
       "\t 150 & 15.5\\\\\n",
       "\t 150 & 15.2\\\\\n",
       "\t 245 & 13.3\\\\\n",
       "\t 175 & 19.2\\\\\n",
       "\t  66 & 27.3\\\\\n",
       "\t  91 & 26.0\\\\\n",
       "\t 113 & 30.4\\\\\n",
       "\t 264 & 15.8\\\\\n",
       "\t 175 & 19.7\\\\\n",
       "\t 335 & 15.0\\\\\n",
       "\t 109 & 21.4\\\\\n",
       "\\end{tabular}\n"
      ],
      "text/markdown": [
       "\n",
       "A tibble: 32 × 2\n",
       "\n",
       "| hp &lt;dbl&gt; | mpg &lt;dbl&gt; |\n",
       "|---|---|\n",
       "| 110 | 21.0 |\n",
       "| 110 | 21.0 |\n",
       "|  93 | 22.8 |\n",
       "| 110 | 21.4 |\n",
       "| 175 | 18.7 |\n",
       "| 105 | 18.1 |\n",
       "| 245 | 14.3 |\n",
       "|  62 | 24.4 |\n",
       "|  95 | 22.8 |\n",
       "| 123 | 19.2 |\n",
       "| 123 | 17.8 |\n",
       "| 180 | 16.4 |\n",
       "| 180 | 17.3 |\n",
       "| 180 | 15.2 |\n",
       "| 205 | 10.4 |\n",
       "| 215 | 10.4 |\n",
       "| 230 | 14.7 |\n",
       "|  66 | 32.4 |\n",
       "|  52 | 30.4 |\n",
       "|  65 | 33.9 |\n",
       "|  97 | 21.5 |\n",
       "| 150 | 15.5 |\n",
       "| 150 | 15.2 |\n",
       "| 245 | 13.3 |\n",
       "| 175 | 19.2 |\n",
       "|  66 | 27.3 |\n",
       "|  91 | 26.0 |\n",
       "| 113 | 30.4 |\n",
       "| 264 | 15.8 |\n",
       "| 175 | 19.7 |\n",
       "| 335 | 15.0 |\n",
       "| 109 | 21.4 |\n",
       "\n"
      ],
      "text/plain": [
       "   hp  mpg \n",
       "1  110 21.0\n",
       "2  110 21.0\n",
       "3   93 22.8\n",
       "4  110 21.4\n",
       "5  175 18.7\n",
       "6  105 18.1\n",
       "7  245 14.3\n",
       "8   62 24.4\n",
       "9   95 22.8\n",
       "10 123 19.2\n",
       "11 123 17.8\n",
       "12 180 16.4\n",
       "13 180 17.3\n",
       "14 180 15.2\n",
       "15 205 10.4\n",
       "16 215 10.4\n",
       "17 230 14.7\n",
       "18  66 32.4\n",
       "19  52 30.4\n",
       "20  65 33.9\n",
       "21  97 21.5\n",
       "22 150 15.5\n",
       "23 150 15.2\n",
       "24 245 13.3\n",
       "25 175 19.2\n",
       "26  66 27.3\n",
       "27  91 26.0\n",
       "28 113 30.4\n",
       "29 264 15.8\n",
       "30 175 19.7\n",
       "31 335 15.0\n",
       "32 109 21.4"
      ]
     },
     "metadata": {},
     "output_type": "display_data"
    }
   ],
   "source": [
    "select(cars, hp, mpg) %>% collect()"
   ]
  },
  {
   "cell_type": "code",
   "execution_count": 53,
   "metadata": {
    "scrolled": true
   },
   "outputs": [
    {
     "data": {
      "text/html": [
       "'data.frame'"
      ],
      "text/latex": [
       "'data.frame'"
      ],
      "text/markdown": [
       "'data.frame'"
      ],
      "text/plain": [
       "[1] \"data.frame\""
      ]
     },
     "metadata": {},
     "output_type": "display_data"
    }
   ],
   "source": [
    "class(mtcars)"
   ]
  },
  {
   "cell_type": "code",
   "execution_count": 57,
   "metadata": {},
   "outputs": [],
   "source": [
    "library(rlang)"
   ]
  },
  {
   "cell_type": "code",
   "execution_count": 21,
   "metadata": {
    "scrolled": false
   },
   "outputs": [
    {
     "data": {
      "text/plain": [
       "\u001b[90m# Source: spark<?> [?? x 11]\u001b[39m\n",
       "     mpg   cyl   disp     hp  drat    wt  qsec    vs    am  gear  carb\n",
       "   \u001b[3m\u001b[90m<dbl>\u001b[39m\u001b[23m \u001b[3m\u001b[90m<dbl>\u001b[39m\u001b[23m  \u001b[3m\u001b[90m<dbl>\u001b[39m\u001b[23m  \u001b[3m\u001b[90m<dbl>\u001b[39m\u001b[23m \u001b[3m\u001b[90m<dbl>\u001b[39m\u001b[23m \u001b[3m\u001b[90m<dbl>\u001b[39m\u001b[23m \u001b[3m\u001b[90m<dbl>\u001b[39m\u001b[23m \u001b[3m\u001b[90m<dbl>\u001b[39m\u001b[23m \u001b[3m\u001b[90m<dbl>\u001b[39m\u001b[23m \u001b[3m\u001b[90m<dbl>\u001b[39m\u001b[23m \u001b[3m\u001b[90m<dbl>\u001b[39m\u001b[23m\n",
       "\u001b[90m 1\u001b[39m \u001b[4m2\u001b[24m\u001b[4m1\u001b[24m000  \u001b[4m6\u001b[24m000 \u001b[4m1\u001b[24m\u001b[4m6\u001b[24m\u001b[4m0\u001b[24m000 \u001b[4m1\u001b[24m\u001b[4m1\u001b[24m\u001b[4m0\u001b[24m000  \u001b[4m3\u001b[24m900  \u001b[4m2\u001b[24m620 \u001b[4m1\u001b[24m\u001b[4m6\u001b[24m460     0  \u001b[4m1\u001b[24m000  \u001b[4m4\u001b[24m000  \u001b[4m4\u001b[24m000\n",
       "\u001b[90m 2\u001b[39m \u001b[4m2\u001b[24m\u001b[4m1\u001b[24m000  \u001b[4m6\u001b[24m000 \u001b[4m1\u001b[24m\u001b[4m6\u001b[24m\u001b[4m0\u001b[24m000 \u001b[4m1\u001b[24m\u001b[4m1\u001b[24m\u001b[4m0\u001b[24m000  \u001b[4m3\u001b[24m900  \u001b[4m2\u001b[24m875 \u001b[4m1\u001b[24m\u001b[4m7\u001b[24m020     0  \u001b[4m1\u001b[24m000  \u001b[4m4\u001b[24m000  \u001b[4m4\u001b[24m000\n",
       "\u001b[90m 3\u001b[39m \u001b[4m2\u001b[24m\u001b[4m2\u001b[24m800  \u001b[4m4\u001b[24m000 \u001b[4m1\u001b[24m\u001b[4m0\u001b[24m\u001b[4m8\u001b[24m000  \u001b[4m9\u001b[24m\u001b[4m3\u001b[24m000  \u001b[4m3\u001b[24m850  \u001b[4m2\u001b[24m320 \u001b[4m1\u001b[24m\u001b[4m8\u001b[24m610  \u001b[4m1\u001b[24m000  \u001b[4m1\u001b[24m000  \u001b[4m4\u001b[24m000  \u001b[4m1\u001b[24m000\n",
       "\u001b[90m 4\u001b[39m \u001b[4m2\u001b[24m\u001b[4m1\u001b[24m400  \u001b[4m6\u001b[24m000 \u001b[4m2\u001b[24m\u001b[4m5\u001b[24m\u001b[4m8\u001b[24m000 \u001b[4m1\u001b[24m\u001b[4m1\u001b[24m\u001b[4m0\u001b[24m000  \u001b[4m3\u001b[24m080  \u001b[4m3\u001b[24m215 \u001b[4m1\u001b[24m\u001b[4m9\u001b[24m440  \u001b[4m1\u001b[24m000     0  \u001b[4m3\u001b[24m000  \u001b[4m1\u001b[24m000\n",
       "\u001b[90m 5\u001b[39m \u001b[4m1\u001b[24m\u001b[4m8\u001b[24m700  \u001b[4m8\u001b[24m000 \u001b[4m3\u001b[24m\u001b[4m6\u001b[24m\u001b[4m0\u001b[24m000 \u001b[4m1\u001b[24m\u001b[4m7\u001b[24m\u001b[4m5\u001b[24m000  \u001b[4m3\u001b[24m150  \u001b[4m3\u001b[24m440 \u001b[4m1\u001b[24m\u001b[4m7\u001b[24m020     0     0  \u001b[4m3\u001b[24m000  \u001b[4m2\u001b[24m000\n",
       "\u001b[90m 6\u001b[39m \u001b[4m1\u001b[24m\u001b[4m8\u001b[24m100  \u001b[4m6\u001b[24m000 \u001b[4m2\u001b[24m\u001b[4m2\u001b[24m\u001b[4m5\u001b[24m000 \u001b[4m1\u001b[24m\u001b[4m0\u001b[24m\u001b[4m5\u001b[24m000  \u001b[4m2\u001b[24m760  \u001b[4m3\u001b[24m460 \u001b[4m2\u001b[24m\u001b[4m0\u001b[24m220  \u001b[4m1\u001b[24m000     0  \u001b[4m3\u001b[24m000  \u001b[4m1\u001b[24m000\n",
       "\u001b[90m 7\u001b[39m \u001b[4m1\u001b[24m\u001b[4m4\u001b[24m300  \u001b[4m8\u001b[24m000 \u001b[4m3\u001b[24m\u001b[4m6\u001b[24m\u001b[4m0\u001b[24m000 \u001b[4m2\u001b[24m\u001b[4m4\u001b[24m\u001b[4m5\u001b[24m000  \u001b[4m3\u001b[24m210  \u001b[4m3\u001b[24m570 \u001b[4m1\u001b[24m\u001b[4m5\u001b[24m840     0     0  \u001b[4m3\u001b[24m000  \u001b[4m4\u001b[24m000\n",
       "\u001b[90m 8\u001b[39m \u001b[4m2\u001b[24m\u001b[4m4\u001b[24m400  \u001b[4m4\u001b[24m000 \u001b[4m1\u001b[24m\u001b[4m4\u001b[24m\u001b[4m6\u001b[24m700  \u001b[4m6\u001b[24m\u001b[4m2\u001b[24m000  \u001b[4m3\u001b[24m690  \u001b[4m3\u001b[24m190 \u001b[4m2\u001b[24m\u001b[4m0\u001b[24m000  \u001b[4m1\u001b[24m000     0  \u001b[4m4\u001b[24m000  \u001b[4m2\u001b[24m000\n",
       "\u001b[90m 9\u001b[39m \u001b[4m2\u001b[24m\u001b[4m2\u001b[24m800  \u001b[4m4\u001b[24m000 \u001b[4m1\u001b[24m\u001b[4m4\u001b[24m\u001b[4m0\u001b[24m800  \u001b[4m9\u001b[24m\u001b[4m5\u001b[24m000  \u001b[4m3\u001b[24m920  \u001b[4m3\u001b[24m150 \u001b[4m2\u001b[24m\u001b[4m2\u001b[24m900  \u001b[4m1\u001b[24m000     0  \u001b[4m4\u001b[24m000  \u001b[4m2\u001b[24m000\n",
       "\u001b[90m10\u001b[39m \u001b[4m1\u001b[24m\u001b[4m9\u001b[24m200  \u001b[4m6\u001b[24m000 \u001b[4m1\u001b[24m\u001b[4m6\u001b[24m\u001b[4m7\u001b[24m600 \u001b[4m1\u001b[24m\u001b[4m2\u001b[24m\u001b[4m3\u001b[24m000  \u001b[4m3\u001b[24m920  \u001b[4m3\u001b[24m440 \u001b[4m1\u001b[24m\u001b[4m8\u001b[24m300  \u001b[4m1\u001b[24m000     0  \u001b[4m4\u001b[24m000  \u001b[4m4\u001b[24m000\n",
       "\u001b[90m# ... with more rows\u001b[39m"
      ]
     },
     "metadata": {},
     "output_type": "display_data"
    }
   ],
   "source": [
    "cars %>% spark_apply(function(x)(x*1000))"
   ]
  },
  {
   "cell_type": "markdown",
   "metadata": {},
   "source": [
    "#### if you see the below error,  it could be Rscript not in PATH\n",
    "\n",
    "Error: org.apache.spark.SparkException: Job aborted due to stage failure: Task 0 in stage 60.0 failed 1 times, most recent failure: Lost task 0.0 in stage 60.0 (TID 67, localhost, executor driver): java.io.IOException: Cannot run program \"Rscript\" (in directory \"C:\\Users\\David Li\\AppData\\Local\\spark\\spark-2.4.4-bin-hadoop2.7\\tmp\\local\\spark-1b019f39-8deb-46a6-8c54-3f259878d2c4\\userFiles-25d1df40-3f25-4da4-84f5-d4f96cbcf16a\"): CreateProcess error=2, <U+7CFB><U+7EDF><U+627E><U+4E0D><U+5230><U+6307><U+5B9A><U+7684><U+6587><U+4EF6><U+3002>\n",
    "\n",
    "\n",
    "#### set PATH=C:\\Program Files\\R\\R-3.6.2\\bin;%PATH%"
   ]
  },
  {
   "cell_type": "code",
   "execution_count": 23,
   "metadata": {
    "scrolled": true
   },
   "outputs": [
    {
     "data": {
      "text/html": [
       "<table>\n",
       "<caption>A data.frame: 32 × 11</caption>\n",
       "<thead>\n",
       "\t<tr><th></th><th scope=col>mpg</th><th scope=col>cyl</th><th scope=col>disp</th><th scope=col>hp</th><th scope=col>drat</th><th scope=col>wt</th><th scope=col>qsec</th><th scope=col>vs</th><th scope=col>am</th><th scope=col>gear</th><th scope=col>carb</th></tr>\n",
       "\t<tr><th></th><th scope=col>&lt;dbl&gt;</th><th scope=col>&lt;dbl&gt;</th><th scope=col>&lt;dbl&gt;</th><th scope=col>&lt;dbl&gt;</th><th scope=col>&lt;dbl&gt;</th><th scope=col>&lt;dbl&gt;</th><th scope=col>&lt;dbl&gt;</th><th scope=col>&lt;dbl&gt;</th><th scope=col>&lt;dbl&gt;</th><th scope=col>&lt;dbl&gt;</th><th scope=col>&lt;dbl&gt;</th></tr>\n",
       "</thead>\n",
       "<tbody>\n",
       "\t<tr><th scope=row>Mazda RX4</th><td>21000</td><td>6000</td><td>160000</td><td>110000</td><td>3900</td><td>2620</td><td>16460</td><td>   0</td><td>1000</td><td>4000</td><td>4000</td></tr>\n",
       "\t<tr><th scope=row>Mazda RX4 Wag</th><td>21000</td><td>6000</td><td>160000</td><td>110000</td><td>3900</td><td>2875</td><td>17020</td><td>   0</td><td>1000</td><td>4000</td><td>4000</td></tr>\n",
       "\t<tr><th scope=row>Datsun 710</th><td>22800</td><td>4000</td><td>108000</td><td> 93000</td><td>3850</td><td>2320</td><td>18610</td><td>1000</td><td>1000</td><td>4000</td><td>1000</td></tr>\n",
       "\t<tr><th scope=row>Hornet 4 Drive</th><td>21400</td><td>6000</td><td>258000</td><td>110000</td><td>3080</td><td>3215</td><td>19440</td><td>1000</td><td>   0</td><td>3000</td><td>1000</td></tr>\n",
       "\t<tr><th scope=row>Hornet Sportabout</th><td>18700</td><td>8000</td><td>360000</td><td>175000</td><td>3150</td><td>3440</td><td>17020</td><td>   0</td><td>   0</td><td>3000</td><td>2000</td></tr>\n",
       "\t<tr><th scope=row>Valiant</th><td>18100</td><td>6000</td><td>225000</td><td>105000</td><td>2760</td><td>3460</td><td>20220</td><td>1000</td><td>   0</td><td>3000</td><td>1000</td></tr>\n",
       "\t<tr><th scope=row>Duster 360</th><td>14300</td><td>8000</td><td>360000</td><td>245000</td><td>3210</td><td>3570</td><td>15840</td><td>   0</td><td>   0</td><td>3000</td><td>4000</td></tr>\n",
       "\t<tr><th scope=row>Merc 240D</th><td>24400</td><td>4000</td><td>146700</td><td> 62000</td><td>3690</td><td>3190</td><td>20000</td><td>1000</td><td>   0</td><td>4000</td><td>2000</td></tr>\n",
       "\t<tr><th scope=row>Merc 230</th><td>22800</td><td>4000</td><td>140800</td><td> 95000</td><td>3920</td><td>3150</td><td>22900</td><td>1000</td><td>   0</td><td>4000</td><td>2000</td></tr>\n",
       "\t<tr><th scope=row>Merc 280</th><td>19200</td><td>6000</td><td>167600</td><td>123000</td><td>3920</td><td>3440</td><td>18300</td><td>1000</td><td>   0</td><td>4000</td><td>4000</td></tr>\n",
       "\t<tr><th scope=row>Merc 280C</th><td>17800</td><td>6000</td><td>167600</td><td>123000</td><td>3920</td><td>3440</td><td>18900</td><td>1000</td><td>   0</td><td>4000</td><td>4000</td></tr>\n",
       "\t<tr><th scope=row>Merc 450SE</th><td>16400</td><td>8000</td><td>275800</td><td>180000</td><td>3070</td><td>4070</td><td>17400</td><td>   0</td><td>   0</td><td>3000</td><td>3000</td></tr>\n",
       "\t<tr><th scope=row>Merc 450SL</th><td>17300</td><td>8000</td><td>275800</td><td>180000</td><td>3070</td><td>3730</td><td>17600</td><td>   0</td><td>   0</td><td>3000</td><td>3000</td></tr>\n",
       "\t<tr><th scope=row>Merc 450SLC</th><td>15200</td><td>8000</td><td>275800</td><td>180000</td><td>3070</td><td>3780</td><td>18000</td><td>   0</td><td>   0</td><td>3000</td><td>3000</td></tr>\n",
       "\t<tr><th scope=row>Cadillac Fleetwood</th><td>10400</td><td>8000</td><td>472000</td><td>205000</td><td>2930</td><td>5250</td><td>17980</td><td>   0</td><td>   0</td><td>3000</td><td>4000</td></tr>\n",
       "\t<tr><th scope=row>Lincoln Continental</th><td>10400</td><td>8000</td><td>460000</td><td>215000</td><td>3000</td><td>5424</td><td>17820</td><td>   0</td><td>   0</td><td>3000</td><td>4000</td></tr>\n",
       "\t<tr><th scope=row>Chrysler Imperial</th><td>14700</td><td>8000</td><td>440000</td><td>230000</td><td>3230</td><td>5345</td><td>17420</td><td>   0</td><td>   0</td><td>3000</td><td>4000</td></tr>\n",
       "\t<tr><th scope=row>Fiat 128</th><td>32400</td><td>4000</td><td> 78700</td><td> 66000</td><td>4080</td><td>2200</td><td>19470</td><td>1000</td><td>1000</td><td>4000</td><td>1000</td></tr>\n",
       "\t<tr><th scope=row>Honda Civic</th><td>30400</td><td>4000</td><td> 75700</td><td> 52000</td><td>4930</td><td>1615</td><td>18520</td><td>1000</td><td>1000</td><td>4000</td><td>2000</td></tr>\n",
       "\t<tr><th scope=row>Toyota Corolla</th><td>33900</td><td>4000</td><td> 71100</td><td> 65000</td><td>4220</td><td>1835</td><td>19900</td><td>1000</td><td>1000</td><td>4000</td><td>1000</td></tr>\n",
       "\t<tr><th scope=row>Toyota Corona</th><td>21500</td><td>4000</td><td>120100</td><td> 97000</td><td>3700</td><td>2465</td><td>20010</td><td>1000</td><td>   0</td><td>3000</td><td>1000</td></tr>\n",
       "\t<tr><th scope=row>Dodge Challenger</th><td>15500</td><td>8000</td><td>318000</td><td>150000</td><td>2760</td><td>3520</td><td>16870</td><td>   0</td><td>   0</td><td>3000</td><td>2000</td></tr>\n",
       "\t<tr><th scope=row>AMC Javelin</th><td>15200</td><td>8000</td><td>304000</td><td>150000</td><td>3150</td><td>3435</td><td>17300</td><td>   0</td><td>   0</td><td>3000</td><td>2000</td></tr>\n",
       "\t<tr><th scope=row>Camaro Z28</th><td>13300</td><td>8000</td><td>350000</td><td>245000</td><td>3730</td><td>3840</td><td>15410</td><td>   0</td><td>   0</td><td>3000</td><td>4000</td></tr>\n",
       "\t<tr><th scope=row>Pontiac Firebird</th><td>19200</td><td>8000</td><td>400000</td><td>175000</td><td>3080</td><td>3845</td><td>17050</td><td>   0</td><td>   0</td><td>3000</td><td>2000</td></tr>\n",
       "\t<tr><th scope=row>Fiat X1-9</th><td>27300</td><td>4000</td><td> 79000</td><td> 66000</td><td>4080</td><td>1935</td><td>18900</td><td>1000</td><td>1000</td><td>4000</td><td>1000</td></tr>\n",
       "\t<tr><th scope=row>Porsche 914-2</th><td>26000</td><td>4000</td><td>120300</td><td> 91000</td><td>4430</td><td>2140</td><td>16700</td><td>   0</td><td>1000</td><td>5000</td><td>2000</td></tr>\n",
       "\t<tr><th scope=row>Lotus Europa</th><td>30400</td><td>4000</td><td> 95100</td><td>113000</td><td>3770</td><td>1513</td><td>16900</td><td>1000</td><td>1000</td><td>5000</td><td>2000</td></tr>\n",
       "\t<tr><th scope=row>Ford Pantera L</th><td>15800</td><td>8000</td><td>351000</td><td>264000</td><td>4220</td><td>3170</td><td>14500</td><td>   0</td><td>1000</td><td>5000</td><td>4000</td></tr>\n",
       "\t<tr><th scope=row>Ferrari Dino</th><td>19700</td><td>6000</td><td>145000</td><td>175000</td><td>3620</td><td>2770</td><td>15500</td><td>   0</td><td>1000</td><td>5000</td><td>6000</td></tr>\n",
       "\t<tr><th scope=row>Maserati Bora</th><td>15000</td><td>8000</td><td>301000</td><td>335000</td><td>3540</td><td>3570</td><td>14600</td><td>   0</td><td>1000</td><td>5000</td><td>8000</td></tr>\n",
       "\t<tr><th scope=row>Volvo 142E</th><td>21400</td><td>4000</td><td>121000</td><td>109000</td><td>4110</td><td>2780</td><td>18600</td><td>1000</td><td>1000</td><td>4000</td><td>2000</td></tr>\n",
       "</tbody>\n",
       "</table>\n"
      ],
      "text/latex": [
       "A data.frame: 32 × 11\n",
       "\\begin{tabular}{r|lllllllllll}\n",
       "  & mpg & cyl & disp & hp & drat & wt & qsec & vs & am & gear & carb\\\\\n",
       "  & <dbl> & <dbl> & <dbl> & <dbl> & <dbl> & <dbl> & <dbl> & <dbl> & <dbl> & <dbl> & <dbl>\\\\\n",
       "\\hline\n",
       "\tMazda RX4 & 21000 & 6000 & 160000 & 110000 & 3900 & 2620 & 16460 &    0 & 1000 & 4000 & 4000\\\\\n",
       "\tMazda RX4 Wag & 21000 & 6000 & 160000 & 110000 & 3900 & 2875 & 17020 &    0 & 1000 & 4000 & 4000\\\\\n",
       "\tDatsun 710 & 22800 & 4000 & 108000 &  93000 & 3850 & 2320 & 18610 & 1000 & 1000 & 4000 & 1000\\\\\n",
       "\tHornet 4 Drive & 21400 & 6000 & 258000 & 110000 & 3080 & 3215 & 19440 & 1000 &    0 & 3000 & 1000\\\\\n",
       "\tHornet Sportabout & 18700 & 8000 & 360000 & 175000 & 3150 & 3440 & 17020 &    0 &    0 & 3000 & 2000\\\\\n",
       "\tValiant & 18100 & 6000 & 225000 & 105000 & 2760 & 3460 & 20220 & 1000 &    0 & 3000 & 1000\\\\\n",
       "\tDuster 360 & 14300 & 8000 & 360000 & 245000 & 3210 & 3570 & 15840 &    0 &    0 & 3000 & 4000\\\\\n",
       "\tMerc 240D & 24400 & 4000 & 146700 &  62000 & 3690 & 3190 & 20000 & 1000 &    0 & 4000 & 2000\\\\\n",
       "\tMerc 230 & 22800 & 4000 & 140800 &  95000 & 3920 & 3150 & 22900 & 1000 &    0 & 4000 & 2000\\\\\n",
       "\tMerc 280 & 19200 & 6000 & 167600 & 123000 & 3920 & 3440 & 18300 & 1000 &    0 & 4000 & 4000\\\\\n",
       "\tMerc 280C & 17800 & 6000 & 167600 & 123000 & 3920 & 3440 & 18900 & 1000 &    0 & 4000 & 4000\\\\\n",
       "\tMerc 450SE & 16400 & 8000 & 275800 & 180000 & 3070 & 4070 & 17400 &    0 &    0 & 3000 & 3000\\\\\n",
       "\tMerc 450SL & 17300 & 8000 & 275800 & 180000 & 3070 & 3730 & 17600 &    0 &    0 & 3000 & 3000\\\\\n",
       "\tMerc 450SLC & 15200 & 8000 & 275800 & 180000 & 3070 & 3780 & 18000 &    0 &    0 & 3000 & 3000\\\\\n",
       "\tCadillac Fleetwood & 10400 & 8000 & 472000 & 205000 & 2930 & 5250 & 17980 &    0 &    0 & 3000 & 4000\\\\\n",
       "\tLincoln Continental & 10400 & 8000 & 460000 & 215000 & 3000 & 5424 & 17820 &    0 &    0 & 3000 & 4000\\\\\n",
       "\tChrysler Imperial & 14700 & 8000 & 440000 & 230000 & 3230 & 5345 & 17420 &    0 &    0 & 3000 & 4000\\\\\n",
       "\tFiat 128 & 32400 & 4000 &  78700 &  66000 & 4080 & 2200 & 19470 & 1000 & 1000 & 4000 & 1000\\\\\n",
       "\tHonda Civic & 30400 & 4000 &  75700 &  52000 & 4930 & 1615 & 18520 & 1000 & 1000 & 4000 & 2000\\\\\n",
       "\tToyota Corolla & 33900 & 4000 &  71100 &  65000 & 4220 & 1835 & 19900 & 1000 & 1000 & 4000 & 1000\\\\\n",
       "\tToyota Corona & 21500 & 4000 & 120100 &  97000 & 3700 & 2465 & 20010 & 1000 &    0 & 3000 & 1000\\\\\n",
       "\tDodge Challenger & 15500 & 8000 & 318000 & 150000 & 2760 & 3520 & 16870 &    0 &    0 & 3000 & 2000\\\\\n",
       "\tAMC Javelin & 15200 & 8000 & 304000 & 150000 & 3150 & 3435 & 17300 &    0 &    0 & 3000 & 2000\\\\\n",
       "\tCamaro Z28 & 13300 & 8000 & 350000 & 245000 & 3730 & 3840 & 15410 &    0 &    0 & 3000 & 4000\\\\\n",
       "\tPontiac Firebird & 19200 & 8000 & 400000 & 175000 & 3080 & 3845 & 17050 &    0 &    0 & 3000 & 2000\\\\\n",
       "\tFiat X1-9 & 27300 & 4000 &  79000 &  66000 & 4080 & 1935 & 18900 & 1000 & 1000 & 4000 & 1000\\\\\n",
       "\tPorsche 914-2 & 26000 & 4000 & 120300 &  91000 & 4430 & 2140 & 16700 &    0 & 1000 & 5000 & 2000\\\\\n",
       "\tLotus Europa & 30400 & 4000 &  95100 & 113000 & 3770 & 1513 & 16900 & 1000 & 1000 & 5000 & 2000\\\\\n",
       "\tFord Pantera L & 15800 & 8000 & 351000 & 264000 & 4220 & 3170 & 14500 &    0 & 1000 & 5000 & 4000\\\\\n",
       "\tFerrari Dino & 19700 & 6000 & 145000 & 175000 & 3620 & 2770 & 15500 &    0 & 1000 & 5000 & 6000\\\\\n",
       "\tMaserati Bora & 15000 & 8000 & 301000 & 335000 & 3540 & 3570 & 14600 &    0 & 1000 & 5000 & 8000\\\\\n",
       "\tVolvo 142E & 21400 & 4000 & 121000 & 109000 & 4110 & 2780 & 18600 & 1000 & 1000 & 4000 & 2000\\\\\n",
       "\\end{tabular}\n"
      ],
      "text/markdown": [
       "\n",
       "A data.frame: 32 × 11\n",
       "\n",
       "| <!--/--> | mpg &lt;dbl&gt; | cyl &lt;dbl&gt; | disp &lt;dbl&gt; | hp &lt;dbl&gt; | drat &lt;dbl&gt; | wt &lt;dbl&gt; | qsec &lt;dbl&gt; | vs &lt;dbl&gt; | am &lt;dbl&gt; | gear &lt;dbl&gt; | carb &lt;dbl&gt; |\n",
       "|---|---|---|---|---|---|---|---|---|---|---|---|\n",
       "| Mazda RX4 | 21000 | 6000 | 160000 | 110000 | 3900 | 2620 | 16460 |    0 | 1000 | 4000 | 4000 |\n",
       "| Mazda RX4 Wag | 21000 | 6000 | 160000 | 110000 | 3900 | 2875 | 17020 |    0 | 1000 | 4000 | 4000 |\n",
       "| Datsun 710 | 22800 | 4000 | 108000 |  93000 | 3850 | 2320 | 18610 | 1000 | 1000 | 4000 | 1000 |\n",
       "| Hornet 4 Drive | 21400 | 6000 | 258000 | 110000 | 3080 | 3215 | 19440 | 1000 |    0 | 3000 | 1000 |\n",
       "| Hornet Sportabout | 18700 | 8000 | 360000 | 175000 | 3150 | 3440 | 17020 |    0 |    0 | 3000 | 2000 |\n",
       "| Valiant | 18100 | 6000 | 225000 | 105000 | 2760 | 3460 | 20220 | 1000 |    0 | 3000 | 1000 |\n",
       "| Duster 360 | 14300 | 8000 | 360000 | 245000 | 3210 | 3570 | 15840 |    0 |    0 | 3000 | 4000 |\n",
       "| Merc 240D | 24400 | 4000 | 146700 |  62000 | 3690 | 3190 | 20000 | 1000 |    0 | 4000 | 2000 |\n",
       "| Merc 230 | 22800 | 4000 | 140800 |  95000 | 3920 | 3150 | 22900 | 1000 |    0 | 4000 | 2000 |\n",
       "| Merc 280 | 19200 | 6000 | 167600 | 123000 | 3920 | 3440 | 18300 | 1000 |    0 | 4000 | 4000 |\n",
       "| Merc 280C | 17800 | 6000 | 167600 | 123000 | 3920 | 3440 | 18900 | 1000 |    0 | 4000 | 4000 |\n",
       "| Merc 450SE | 16400 | 8000 | 275800 | 180000 | 3070 | 4070 | 17400 |    0 |    0 | 3000 | 3000 |\n",
       "| Merc 450SL | 17300 | 8000 | 275800 | 180000 | 3070 | 3730 | 17600 |    0 |    0 | 3000 | 3000 |\n",
       "| Merc 450SLC | 15200 | 8000 | 275800 | 180000 | 3070 | 3780 | 18000 |    0 |    0 | 3000 | 3000 |\n",
       "| Cadillac Fleetwood | 10400 | 8000 | 472000 | 205000 | 2930 | 5250 | 17980 |    0 |    0 | 3000 | 4000 |\n",
       "| Lincoln Continental | 10400 | 8000 | 460000 | 215000 | 3000 | 5424 | 17820 |    0 |    0 | 3000 | 4000 |\n",
       "| Chrysler Imperial | 14700 | 8000 | 440000 | 230000 | 3230 | 5345 | 17420 |    0 |    0 | 3000 | 4000 |\n",
       "| Fiat 128 | 32400 | 4000 |  78700 |  66000 | 4080 | 2200 | 19470 | 1000 | 1000 | 4000 | 1000 |\n",
       "| Honda Civic | 30400 | 4000 |  75700 |  52000 | 4930 | 1615 | 18520 | 1000 | 1000 | 4000 | 2000 |\n",
       "| Toyota Corolla | 33900 | 4000 |  71100 |  65000 | 4220 | 1835 | 19900 | 1000 | 1000 | 4000 | 1000 |\n",
       "| Toyota Corona | 21500 | 4000 | 120100 |  97000 | 3700 | 2465 | 20010 | 1000 |    0 | 3000 | 1000 |\n",
       "| Dodge Challenger | 15500 | 8000 | 318000 | 150000 | 2760 | 3520 | 16870 |    0 |    0 | 3000 | 2000 |\n",
       "| AMC Javelin | 15200 | 8000 | 304000 | 150000 | 3150 | 3435 | 17300 |    0 |    0 | 3000 | 2000 |\n",
       "| Camaro Z28 | 13300 | 8000 | 350000 | 245000 | 3730 | 3840 | 15410 |    0 |    0 | 3000 | 4000 |\n",
       "| Pontiac Firebird | 19200 | 8000 | 400000 | 175000 | 3080 | 3845 | 17050 |    0 |    0 | 3000 | 2000 |\n",
       "| Fiat X1-9 | 27300 | 4000 |  79000 |  66000 | 4080 | 1935 | 18900 | 1000 | 1000 | 4000 | 1000 |\n",
       "| Porsche 914-2 | 26000 | 4000 | 120300 |  91000 | 4430 | 2140 | 16700 |    0 | 1000 | 5000 | 2000 |\n",
       "| Lotus Europa | 30400 | 4000 |  95100 | 113000 | 3770 | 1513 | 16900 | 1000 | 1000 | 5000 | 2000 |\n",
       "| Ford Pantera L | 15800 | 8000 | 351000 | 264000 | 4220 | 3170 | 14500 |    0 | 1000 | 5000 | 4000 |\n",
       "| Ferrari Dino | 19700 | 6000 | 145000 | 175000 | 3620 | 2770 | 15500 |    0 | 1000 | 5000 | 6000 |\n",
       "| Maserati Bora | 15000 | 8000 | 301000 | 335000 | 3540 | 3570 | 14600 |    0 | 1000 | 5000 | 8000 |\n",
       "| Volvo 142E | 21400 | 4000 | 121000 | 109000 | 4110 | 2780 | 18600 | 1000 | 1000 | 4000 | 2000 |\n",
       "\n"
      ],
      "text/plain": [
       "                    mpg   cyl  disp   hp     drat wt   qsec  vs   am   gear\n",
       "Mazda RX4           21000 6000 160000 110000 3900 2620 16460    0 1000 4000\n",
       "Mazda RX4 Wag       21000 6000 160000 110000 3900 2875 17020    0 1000 4000\n",
       "Datsun 710          22800 4000 108000  93000 3850 2320 18610 1000 1000 4000\n",
       "Hornet 4 Drive      21400 6000 258000 110000 3080 3215 19440 1000    0 3000\n",
       "Hornet Sportabout   18700 8000 360000 175000 3150 3440 17020    0    0 3000\n",
       "Valiant             18100 6000 225000 105000 2760 3460 20220 1000    0 3000\n",
       "Duster 360          14300 8000 360000 245000 3210 3570 15840    0    0 3000\n",
       "Merc 240D           24400 4000 146700  62000 3690 3190 20000 1000    0 4000\n",
       "Merc 230            22800 4000 140800  95000 3920 3150 22900 1000    0 4000\n",
       "Merc 280            19200 6000 167600 123000 3920 3440 18300 1000    0 4000\n",
       "Merc 280C           17800 6000 167600 123000 3920 3440 18900 1000    0 4000\n",
       "Merc 450SE          16400 8000 275800 180000 3070 4070 17400    0    0 3000\n",
       "Merc 450SL          17300 8000 275800 180000 3070 3730 17600    0    0 3000\n",
       "Merc 450SLC         15200 8000 275800 180000 3070 3780 18000    0    0 3000\n",
       "Cadillac Fleetwood  10400 8000 472000 205000 2930 5250 17980    0    0 3000\n",
       "Lincoln Continental 10400 8000 460000 215000 3000 5424 17820    0    0 3000\n",
       "Chrysler Imperial   14700 8000 440000 230000 3230 5345 17420    0    0 3000\n",
       "Fiat 128            32400 4000  78700  66000 4080 2200 19470 1000 1000 4000\n",
       "Honda Civic         30400 4000  75700  52000 4930 1615 18520 1000 1000 4000\n",
       "Toyota Corolla      33900 4000  71100  65000 4220 1835 19900 1000 1000 4000\n",
       "Toyota Corona       21500 4000 120100  97000 3700 2465 20010 1000    0 3000\n",
       "Dodge Challenger    15500 8000 318000 150000 2760 3520 16870    0    0 3000\n",
       "AMC Javelin         15200 8000 304000 150000 3150 3435 17300    0    0 3000\n",
       "Camaro Z28          13300 8000 350000 245000 3730 3840 15410    0    0 3000\n",
       "Pontiac Firebird    19200 8000 400000 175000 3080 3845 17050    0    0 3000\n",
       "Fiat X1-9           27300 4000  79000  66000 4080 1935 18900 1000 1000 4000\n",
       "Porsche 914-2       26000 4000 120300  91000 4430 2140 16700    0 1000 5000\n",
       "Lotus Europa        30400 4000  95100 113000 3770 1513 16900 1000 1000 5000\n",
       "Ford Pantera L      15800 8000 351000 264000 4220 3170 14500    0 1000 5000\n",
       "Ferrari Dino        19700 6000 145000 175000 3620 2770 15500    0 1000 5000\n",
       "Maserati Bora       15000 8000 301000 335000 3540 3570 14600    0 1000 5000\n",
       "Volvo 142E          21400 4000 121000 109000 4110 2780 18600 1000 1000 4000\n",
       "                    carb\n",
       "Mazda RX4           4000\n",
       "Mazda RX4 Wag       4000\n",
       "Datsun 710          1000\n",
       "Hornet 4 Drive      1000\n",
       "Hornet Sportabout   2000\n",
       "Valiant             1000\n",
       "Duster 360          4000\n",
       "Merc 240D           2000\n",
       "Merc 230            2000\n",
       "Merc 280            4000\n",
       "Merc 280C           4000\n",
       "Merc 450SE          3000\n",
       "Merc 450SL          3000\n",
       "Merc 450SLC         3000\n",
       "Cadillac Fleetwood  4000\n",
       "Lincoln Continental 4000\n",
       "Chrysler Imperial   4000\n",
       "Fiat 128            1000\n",
       "Honda Civic         2000\n",
       "Toyota Corolla      1000\n",
       "Toyota Corona       1000\n",
       "Dodge Challenger    2000\n",
       "AMC Javelin         2000\n",
       "Camaro Z28          4000\n",
       "Pontiac Firebird    2000\n",
       "Fiat X1-9           1000\n",
       "Porsche 914-2       2000\n",
       "Lotus Europa        2000\n",
       "Ford Pantera L      4000\n",
       "Ferrari Dino        6000\n",
       "Maserati Bora       8000\n",
       "Volvo 142E          2000"
      ]
     },
     "metadata": {},
     "output_type": "display_data"
    }
   ],
   "source": [
    "mtcars*1000"
   ]
  },
  {
   "cell_type": "code",
   "execution_count": 25,
   "metadata": {
    "scrolled": true
   },
   "outputs": [
    {
     "data": {
      "text/plain": [
       "\u001b[90m# Source: spark<?> [?? x 11]\u001b[39m\n",
       "     mpg   cyl   disp     hp  drat    wt  qsec    vs    am  gear  carb\n",
       "   \u001b[3m\u001b[90m<dbl>\u001b[39m\u001b[23m \u001b[3m\u001b[90m<dbl>\u001b[39m\u001b[23m  \u001b[3m\u001b[90m<dbl>\u001b[39m\u001b[23m  \u001b[3m\u001b[90m<dbl>\u001b[39m\u001b[23m \u001b[3m\u001b[90m<dbl>\u001b[39m\u001b[23m \u001b[3m\u001b[90m<dbl>\u001b[39m\u001b[23m \u001b[3m\u001b[90m<dbl>\u001b[39m\u001b[23m \u001b[3m\u001b[90m<dbl>\u001b[39m\u001b[23m \u001b[3m\u001b[90m<dbl>\u001b[39m\u001b[23m \u001b[3m\u001b[90m<dbl>\u001b[39m\u001b[23m \u001b[3m\u001b[90m<dbl>\u001b[39m\u001b[23m\n",
       "\u001b[90m 1\u001b[39m \u001b[4m2\u001b[24m\u001b[4m1\u001b[24m000  \u001b[4m6\u001b[24m000 \u001b[4m1\u001b[24m\u001b[4m6\u001b[24m\u001b[4m0\u001b[24m000 \u001b[4m1\u001b[24m\u001b[4m1\u001b[24m\u001b[4m0\u001b[24m000  \u001b[4m3\u001b[24m900  \u001b[4m2\u001b[24m620 \u001b[4m1\u001b[24m\u001b[4m6\u001b[24m460     0  \u001b[4m1\u001b[24m000  \u001b[4m4\u001b[24m000  \u001b[4m4\u001b[24m000\n",
       "\u001b[90m 2\u001b[39m \u001b[4m2\u001b[24m\u001b[4m1\u001b[24m000  \u001b[4m6\u001b[24m000 \u001b[4m1\u001b[24m\u001b[4m6\u001b[24m\u001b[4m0\u001b[24m000 \u001b[4m1\u001b[24m\u001b[4m1\u001b[24m\u001b[4m0\u001b[24m000  \u001b[4m3\u001b[24m900  \u001b[4m2\u001b[24m875 \u001b[4m1\u001b[24m\u001b[4m7\u001b[24m020     0  \u001b[4m1\u001b[24m000  \u001b[4m4\u001b[24m000  \u001b[4m4\u001b[24m000\n",
       "\u001b[90m 3\u001b[39m \u001b[4m2\u001b[24m\u001b[4m2\u001b[24m800  \u001b[4m4\u001b[24m000 \u001b[4m1\u001b[24m\u001b[4m0\u001b[24m\u001b[4m8\u001b[24m000  \u001b[4m9\u001b[24m\u001b[4m3\u001b[24m000  \u001b[4m3\u001b[24m850  \u001b[4m2\u001b[24m320 \u001b[4m1\u001b[24m\u001b[4m8\u001b[24m610  \u001b[4m1\u001b[24m000  \u001b[4m1\u001b[24m000  \u001b[4m4\u001b[24m000  \u001b[4m1\u001b[24m000\n",
       "\u001b[90m 4\u001b[39m \u001b[4m2\u001b[24m\u001b[4m1\u001b[24m400  \u001b[4m6\u001b[24m000 \u001b[4m2\u001b[24m\u001b[4m5\u001b[24m\u001b[4m8\u001b[24m000 \u001b[4m1\u001b[24m\u001b[4m1\u001b[24m\u001b[4m0\u001b[24m000  \u001b[4m3\u001b[24m080  \u001b[4m3\u001b[24m215 \u001b[4m1\u001b[24m\u001b[4m9\u001b[24m440  \u001b[4m1\u001b[24m000     0  \u001b[4m3\u001b[24m000  \u001b[4m1\u001b[24m000\n",
       "\u001b[90m 5\u001b[39m \u001b[4m1\u001b[24m\u001b[4m8\u001b[24m700  \u001b[4m8\u001b[24m000 \u001b[4m3\u001b[24m\u001b[4m6\u001b[24m\u001b[4m0\u001b[24m000 \u001b[4m1\u001b[24m\u001b[4m7\u001b[24m\u001b[4m5\u001b[24m000  \u001b[4m3\u001b[24m150  \u001b[4m3\u001b[24m440 \u001b[4m1\u001b[24m\u001b[4m7\u001b[24m020     0     0  \u001b[4m3\u001b[24m000  \u001b[4m2\u001b[24m000\n",
       "\u001b[90m 6\u001b[39m \u001b[4m1\u001b[24m\u001b[4m8\u001b[24m100  \u001b[4m6\u001b[24m000 \u001b[4m2\u001b[24m\u001b[4m2\u001b[24m\u001b[4m5\u001b[24m000 \u001b[4m1\u001b[24m\u001b[4m0\u001b[24m\u001b[4m5\u001b[24m000  \u001b[4m2\u001b[24m760  \u001b[4m3\u001b[24m460 \u001b[4m2\u001b[24m\u001b[4m0\u001b[24m220  \u001b[4m1\u001b[24m000     0  \u001b[4m3\u001b[24m000  \u001b[4m1\u001b[24m000\n",
       "\u001b[90m 7\u001b[39m \u001b[4m1\u001b[24m\u001b[4m4\u001b[24m300  \u001b[4m8\u001b[24m000 \u001b[4m3\u001b[24m\u001b[4m6\u001b[24m\u001b[4m0\u001b[24m000 \u001b[4m2\u001b[24m\u001b[4m4\u001b[24m\u001b[4m5\u001b[24m000  \u001b[4m3\u001b[24m210  \u001b[4m3\u001b[24m570 \u001b[4m1\u001b[24m\u001b[4m5\u001b[24m840     0     0  \u001b[4m3\u001b[24m000  \u001b[4m4\u001b[24m000\n",
       "\u001b[90m 8\u001b[39m \u001b[4m2\u001b[24m\u001b[4m4\u001b[24m400  \u001b[4m4\u001b[24m000 \u001b[4m1\u001b[24m\u001b[4m4\u001b[24m\u001b[4m6\u001b[24m700  \u001b[4m6\u001b[24m\u001b[4m2\u001b[24m000  \u001b[4m3\u001b[24m690  \u001b[4m3\u001b[24m190 \u001b[4m2\u001b[24m\u001b[4m0\u001b[24m000  \u001b[4m1\u001b[24m000     0  \u001b[4m4\u001b[24m000  \u001b[4m2\u001b[24m000\n",
       "\u001b[90m 9\u001b[39m \u001b[4m2\u001b[24m\u001b[4m2\u001b[24m800  \u001b[4m4\u001b[24m000 \u001b[4m1\u001b[24m\u001b[4m4\u001b[24m\u001b[4m0\u001b[24m800  \u001b[4m9\u001b[24m\u001b[4m5\u001b[24m000  \u001b[4m3\u001b[24m920  \u001b[4m3\u001b[24m150 \u001b[4m2\u001b[24m\u001b[4m2\u001b[24m900  \u001b[4m1\u001b[24m000     0  \u001b[4m4\u001b[24m000  \u001b[4m2\u001b[24m000\n",
       "\u001b[90m10\u001b[39m \u001b[4m1\u001b[24m\u001b[4m9\u001b[24m200  \u001b[4m6\u001b[24m000 \u001b[4m1\u001b[24m\u001b[4m6\u001b[24m\u001b[4m7\u001b[24m600 \u001b[4m1\u001b[24m\u001b[4m2\u001b[24m\u001b[4m3\u001b[24m000  \u001b[4m3\u001b[24m920  \u001b[4m3\u001b[24m440 \u001b[4m1\u001b[24m\u001b[4m8\u001b[24m300  \u001b[4m1\u001b[24m000     0  \u001b[4m4\u001b[24m000  \u001b[4m4\u001b[24m000\n",
       "\u001b[90m# ... with more rows\u001b[39m"
      ]
     },
     "metadata": {},
     "output_type": "display_data"
    }
   ],
   "source": [
    "cars %>% spark_apply(~.x*1000)"
   ]
  },
  {
   "cell_type": "code",
   "execution_count": 27,
   "metadata": {},
   "outputs": [
    {
     "data": {
      "text/html": [
       "<table>\n",
       "<caption>A data.frame: 3 × 2</caption>\n",
       "<thead>\n",
       "\t<tr><th scope=col>x</th><th scope=col>y</th></tr>\n",
       "\t<tr><th scope=col>&lt;int&gt;</th><th scope=col>&lt;int&gt;</th></tr>\n",
       "</thead>\n",
       "<tbody>\n",
       "\t<tr><td>1</td><td>4</td></tr>\n",
       "\t<tr><td>2</td><td>5</td></tr>\n",
       "\t<tr><td>3</td><td>6</td></tr>\n",
       "</tbody>\n",
       "</table>\n"
      ],
      "text/latex": [
       "A data.frame: 3 × 2\n",
       "\\begin{tabular}{ll}\n",
       " x & y\\\\\n",
       " <int> & <int>\\\\\n",
       "\\hline\n",
       "\t 1 & 4\\\\\n",
       "\t 2 & 5\\\\\n",
       "\t 3 & 6\\\\\n",
       "\\end{tabular}\n"
      ],
      "text/markdown": [
       "\n",
       "A data.frame: 3 × 2\n",
       "\n",
       "| x &lt;int&gt; | y &lt;int&gt; |\n",
       "|---|---|\n",
       "| 1 | 4 |\n",
       "| 2 | 5 |\n",
       "| 3 | 6 |\n",
       "\n"
      ],
      "text/plain": [
       "  x y\n",
       "1 1 4\n",
       "2 2 5\n",
       "3 3 6"
      ]
     },
     "metadata": {},
     "output_type": "display_data"
    }
   ],
   "source": [
    "data.frame(x=1:3, y=4:6)"
   ]
  },
  {
   "cell_type": "code",
   "execution_count": 28,
   "metadata": {
    "scrolled": true
   },
   "outputs": [
    {
     "data": {
      "text/plain": [
       "\u001b[90m# Source: spark<?> [?? x 2]\u001b[39m\n",
       "      x     y\n",
       "  \u001b[3m\u001b[90m<dbl>\u001b[39m\u001b[23m \u001b[3m\u001b[90m<dbl>\u001b[39m\u001b[23m\n",
       "\u001b[90m1\u001b[39m    10    40\n",
       "\u001b[90m2\u001b[39m    20    50\n",
       "\u001b[90m3\u001b[39m    30    60"
      ]
     },
     "metadata": {},
     "output_type": "display_data"
    }
   ],
   "source": [
    "copy_to(sc, data.frame(x=1:3, y=4:6)) %>% spark_apply(~ 10 * .x)"
   ]
  },
  {
   "cell_type": "code",
   "execution_count": 49,
   "metadata": {},
   "outputs": [],
   "source": [
    "fx=rlang::as_function(~ 10 * .x)"
   ]
  },
  {
   "cell_type": "code",
   "execution_count": 46,
   "metadata": {
    "scrolled": true
   },
   "outputs": [
    {
     "data": {
      "text/html": [
       "100"
      ],
      "text/latex": [
       "100"
      ],
      "text/markdown": [
       "100"
      ],
      "text/plain": [
       "[1] 100"
      ]
     },
     "metadata": {},
     "output_type": "display_data"
    }
   ],
   "source": [
    "fx(10)"
   ]
  },
  {
   "cell_type": "code",
   "execution_count": 47,
   "metadata": {
    "scrolled": true
   },
   "outputs": [
    {
     "data": {
      "text/html": [
       "<table>\n",
       "<caption>A data.frame: 3 × 2</caption>\n",
       "<thead>\n",
       "\t<tr><th scope=col>x</th><th scope=col>y</th></tr>\n",
       "\t<tr><th scope=col>&lt;dbl&gt;</th><th scope=col>&lt;dbl&gt;</th></tr>\n",
       "</thead>\n",
       "<tbody>\n",
       "\t<tr><td>10</td><td>40</td></tr>\n",
       "\t<tr><td>20</td><td>50</td></tr>\n",
       "\t<tr><td>30</td><td>60</td></tr>\n",
       "</tbody>\n",
       "</table>\n"
      ],
      "text/latex": [
       "A data.frame: 3 × 2\n",
       "\\begin{tabular}{ll}\n",
       " x & y\\\\\n",
       " <dbl> & <dbl>\\\\\n",
       "\\hline\n",
       "\t 10 & 40\\\\\n",
       "\t 20 & 50\\\\\n",
       "\t 30 & 60\\\\\n",
       "\\end{tabular}\n"
      ],
      "text/markdown": [
       "\n",
       "A data.frame: 3 × 2\n",
       "\n",
       "| x &lt;dbl&gt; | y &lt;dbl&gt; |\n",
       "|---|---|\n",
       "| 10 | 40 |\n",
       "| 20 | 50 |\n",
       "| 30 | 60 |\n",
       "\n"
      ],
      "text/plain": [
       "  x  y \n",
       "1 10 40\n",
       "2 20 50\n",
       "3 30 60"
      ]
     },
     "metadata": {},
     "output_type": "display_data"
    }
   ],
   "source": [
    "fx(data.frame(x=1:3, y=4:6))"
   ]
  },
  {
   "cell_type": "code",
   "execution_count": 50,
   "metadata": {},
   "outputs": [],
   "source": [
    "f=function(x)(x*10)"
   ]
  },
  {
   "cell_type": "code",
   "execution_count": 51,
   "metadata": {},
   "outputs": [
    {
     "data": {
      "text/html": [
       "100"
      ],
      "text/latex": [
       "100"
      ],
      "text/markdown": [
       "100"
      ],
      "text/plain": [
       "[1] 100"
      ]
     },
     "metadata": {},
     "output_type": "display_data"
    }
   ],
   "source": [
    "f(10)"
   ]
  },
  {
   "cell_type": "code",
   "execution_count": 52,
   "metadata": {
    "scrolled": true
   },
   "outputs": [
    {
     "data": {
      "text/html": [
       "<table>\n",
       "<caption>A data.frame: 3 × 2</caption>\n",
       "<thead>\n",
       "\t<tr><th scope=col>x</th><th scope=col>y</th></tr>\n",
       "\t<tr><th scope=col>&lt;dbl&gt;</th><th scope=col>&lt;dbl&gt;</th></tr>\n",
       "</thead>\n",
       "<tbody>\n",
       "\t<tr><td>10</td><td>40</td></tr>\n",
       "\t<tr><td>20</td><td>50</td></tr>\n",
       "\t<tr><td>30</td><td>60</td></tr>\n",
       "</tbody>\n",
       "</table>\n"
      ],
      "text/latex": [
       "A data.frame: 3 × 2\n",
       "\\begin{tabular}{ll}\n",
       " x & y\\\\\n",
       " <dbl> & <dbl>\\\\\n",
       "\\hline\n",
       "\t 10 & 40\\\\\n",
       "\t 20 & 50\\\\\n",
       "\t 30 & 60\\\\\n",
       "\\end{tabular}\n"
      ],
      "text/markdown": [
       "\n",
       "A data.frame: 3 × 2\n",
       "\n",
       "| x &lt;dbl&gt; | y &lt;dbl&gt; |\n",
       "|---|---|\n",
       "| 10 | 40 |\n",
       "| 20 | 50 |\n",
       "| 30 | 60 |\n",
       "\n"
      ],
      "text/plain": [
       "  x  y \n",
       "1 10 40\n",
       "2 20 50\n",
       "3 30 60"
      ]
     },
     "metadata": {},
     "output_type": "display_data"
    }
   ],
   "source": [
    "f(data.frame(x=1:3, y=4:6))"
   ]
  },
  {
   "cell_type": "code",
   "execution_count": 42,
   "metadata": {
    "scrolled": true
   },
   "outputs": [
    {
     "data": {
      "text/html": [
       "<table>\n",
       "<caption>A tibble: 3 × 1</caption>\n",
       "<thead>\n",
       "\t<tr><th scope=col>a</th></tr>\n",
       "\t<tr><th scope=col>&lt;dbl&gt;</th></tr>\n",
       "</thead>\n",
       "<tbody>\n",
       "\t<tr><td>10</td></tr>\n",
       "\t<tr><td>20</td></tr>\n",
       "\t<tr><td>30</td></tr>\n",
       "</tbody>\n",
       "</table>\n"
      ],
      "text/latex": [
       "A tibble: 3 × 1\n",
       "\\begin{tabular}{l}\n",
       " a\\\\\n",
       " <dbl>\\\\\n",
       "\\hline\n",
       "\t 10\\\\\n",
       "\t 20\\\\\n",
       "\t 30\\\\\n",
       "\\end{tabular}\n"
      ],
      "text/markdown": [
       "\n",
       "A tibble: 3 × 1\n",
       "\n",
       "| a &lt;dbl&gt; |\n",
       "|---|\n",
       "| 10 |\n",
       "| 20 |\n",
       "| 30 |\n",
       "\n"
      ],
      "text/plain": [
       "  a \n",
       "1 10\n",
       "2 20\n",
       "3 30"
      ]
     },
     "metadata": {},
     "output_type": "display_data"
    }
   ],
   "source": [
    "copy_to(sc, data.frame(a=1:3)) %>% \n",
    "    spark_apply(function(x)(x*10)) %>%\n",
    "                collect()"
   ]
  },
  {
   "cell_type": "code",
   "execution_count": 59,
   "metadata": {},
   "outputs": [
    {
     "data": {
      "text/html": [
       "<table>\n",
       "<caption>A tibble: 3 × 1</caption>\n",
       "<thead>\n",
       "\t<tr><th scope=col>a</th></tr>\n",
       "\t<tr><th scope=col>&lt;dbl&gt;</th></tr>\n",
       "</thead>\n",
       "<tbody>\n",
       "\t<tr><td>10</td></tr>\n",
       "\t<tr><td>20</td></tr>\n",
       "\t<tr><td>30</td></tr>\n",
       "</tbody>\n",
       "</table>\n"
      ],
      "text/latex": [
       "A tibble: 3 × 1\n",
       "\\begin{tabular}{l}\n",
       " a\\\\\n",
       " <dbl>\\\\\n",
       "\\hline\n",
       "\t 10\\\\\n",
       "\t 20\\\\\n",
       "\t 30\\\\\n",
       "\\end{tabular}\n"
      ],
      "text/markdown": [
       "\n",
       "A tibble: 3 × 1\n",
       "\n",
       "| a &lt;dbl&gt; |\n",
       "|---|\n",
       "| 10 |\n",
       "| 20 |\n",
       "| 30 |\n",
       "\n"
      ],
      "text/plain": [
       "  a \n",
       "1 10\n",
       "2 20\n",
       "3 30"
      ]
     },
     "metadata": {},
     "output_type": "display_data"
    }
   ],
   "source": [
    "copy_to(sc, data.frame(a=1:3)) %>% \n",
    "    spark_apply(f) %>%\n",
    "                collect()"
   ]
  },
  {
   "cell_type": "code",
   "execution_count": 58,
   "metadata": {
    "scrolled": false
   },
   "outputs": [
    {
     "data": {
      "text/html": [
       "<table>\n",
       "<caption>A tibble: 3 × 1</caption>\n",
       "<thead>\n",
       "\t<tr><th scope=col>a</th></tr>\n",
       "\t<tr><th scope=col>&lt;dbl&gt;</th></tr>\n",
       "</thead>\n",
       "<tbody>\n",
       "\t<tr><td>10</td></tr>\n",
       "\t<tr><td>20</td></tr>\n",
       "\t<tr><td>30</td></tr>\n",
       "</tbody>\n",
       "</table>\n"
      ],
      "text/latex": [
       "A tibble: 3 × 1\n",
       "\\begin{tabular}{l}\n",
       " a\\\\\n",
       " <dbl>\\\\\n",
       "\\hline\n",
       "\t 10\\\\\n",
       "\t 20\\\\\n",
       "\t 30\\\\\n",
       "\\end{tabular}\n"
      ],
      "text/markdown": [
       "\n",
       "A tibble: 3 × 1\n",
       "\n",
       "| a &lt;dbl&gt; |\n",
       "|---|\n",
       "| 10 |\n",
       "| 20 |\n",
       "| 30 |\n",
       "\n"
      ],
      "text/plain": [
       "  a \n",
       "1 10\n",
       "2 20\n",
       "3 30"
      ]
     },
     "metadata": {},
     "output_type": "display_data"
    }
   ],
   "source": [
    "copy_to(sc, data.frame(a=1:3)) %>% \n",
    "    spark_apply(~ .x*10) %>%\n",
    "                collect()"
   ]
  },
  {
   "cell_type": "code",
   "execution_count": 61,
   "metadata": {},
   "outputs": [
    {
     "data": {
      "text/plain": [
       "\u001b[90m# Source: spark<?> [?? x 2]\u001b[39m\n",
       "  Species    result\n",
       "  \u001b[3m\u001b[90m<chr>\u001b[39m\u001b[23m       \u001b[3m\u001b[90m<int>\u001b[39m\u001b[23m\n",
       "\u001b[90m1\u001b[39m setosa         50\n",
       "\u001b[90m2\u001b[39m versicolor     50\n",
       "\u001b[90m3\u001b[39m virginica      50"
      ]
     },
     "metadata": {},
     "output_type": "display_data"
    }
   ],
   "source": [
    "iris <- copy_to(sc, datasets::iris)\n",
    "\n",
    "iris %>%\n",
    "  spark_apply(nrow, group_by = \"Species\")"
   ]
  },
  {
   "cell_type": "code",
   "execution_count": 66,
   "metadata": {
    "scrolled": true
   },
   "outputs": [
    {
     "data": {
      "text/plain": [
       "\u001b[90m# Source: spark<?> [?? x 1]\u001b[39m\n",
       "  result\n",
       "   \u001b[3m\u001b[90m<int>\u001b[39m\u001b[23m\n",
       "\u001b[90m1\u001b[39m     50\n",
       "\u001b[90m2\u001b[39m     50"
      ]
     },
     "metadata": {},
     "output_type": "display_data"
    }
   ],
   "source": [
    "copy_to(sc, data.frame(1:100), repartition =2) %>%\n",
    "  spark_apply(~nrow(.x))"
   ]
  },
  {
   "cell_type": "code",
   "execution_count": 71,
   "metadata": {
    "scrolled": true
   },
   "outputs": [
    {
     "data": {
      "text/plain": [
       "\u001b[90m# Source: spark<?> [?? x 1]\u001b[39m\n",
       "  result\n",
       "   \u001b[3m\u001b[90m<int>\u001b[39m\u001b[23m\n",
       "\u001b[90m1\u001b[39m    100"
      ]
     },
     "metadata": {},
     "output_type": "display_data"
    }
   ],
   "source": [
    "copy_to(sc, data.frame(1:100), repartition =2) %>%\n",
    "  spark_apply(~nrow(.x)) %>%\n",
    "  sdf_repartition(1) %>%\n",
    "  spark_apply(~sum(.x))"
   ]
  },
  {
   "cell_type": "code",
   "execution_count": 77,
   "metadata": {
    "scrolled": false
   },
   "outputs": [
    {
     "data": {
      "text/plain": [
       "\u001b[90m# Source: spark<?> [?? x 1]\u001b[39m\n",
       "      a\n",
       "  \u001b[3m\u001b[90m<dbl>\u001b[39m\u001b[23m\n",
       "\u001b[90m1\u001b[39m   100\n",
       "\u001b[90m2\u001b[39m   200\n",
       "\u001b[90m3\u001b[39m   300\n",
       "\u001b[90m4\u001b[39m   400"
      ]
     },
     "metadata": {},
     "output_type": "display_data"
    }
   ],
   "source": [
    "copy_to(sc, data.frame(a=1:4), repartition=2) %>% \n",
    "    spark_apply(function(x, context) x*context, context=100)"
   ]
  },
  {
   "cell_type": "code",
   "execution_count": 78,
   "metadata": {},
   "outputs": [
    {
     "data": {
      "text/plain": [
       "\u001b[90m# Source: spark<?> [?? x 1]\u001b[39m\n",
       "      a\n",
       "  \u001b[3m\u001b[90m<dbl>\u001b[39m\u001b[23m\n",
       "\u001b[90m1\u001b[39m   105\n",
       "\u001b[90m2\u001b[39m   205\n",
       "\u001b[90m3\u001b[39m   305\n",
       "\u001b[90m4\u001b[39m   405"
      ]
     },
     "metadata": {},
     "output_type": "display_data"
    }
   ],
   "source": [
    "copy_to(sc, data.frame(a=1:4), repartition=2) %>% \n",
    "    spark_apply(function(x, context) x*context$a+context$b, \n",
    "                context=list(a=100, b=5))"
   ]
  },
  {
   "cell_type": "code",
   "execution_count": 74,
   "metadata": {
    "scrolled": false
   },
   "outputs": [
    {
     "data": {
      "text/plain": [
       "\u001b[90m# Source: spark<?> [?? x 1]\u001b[39m\n",
       "     id\n",
       "  \u001b[3m\u001b[90m<dbl>\u001b[39m\u001b[23m\n",
       "\u001b[90m1\u001b[39m   100\n",
       "\u001b[90m2\u001b[39m   200\n",
       "\u001b[90m3\u001b[39m   300\n",
       "\u001b[90m4\u001b[39m   400"
      ]
     },
     "metadata": {},
     "output_type": "display_data"
    }
   ],
   "source": [
    "sdf_len(sc, 4) %>%\n",
    "  spark_apply(\n",
    "    function(data, context) context * data,\n",
    "    context = 100\n",
    "  )"
   ]
  },
  {
   "cell_type": "code",
   "execution_count": 1,
   "metadata": {
    "scrolled": true
   },
   "outputs": [],
   "source": [
    "install.packages(\"ggraph\")\n",
    "install.packages(\"igraph\")\n",
    "install.packages(\"graphframes\")"
   ]
  },
  {
   "cell_type": "code",
   "execution_count": 1,
   "metadata": {},
   "outputs": [
    {
     "name": "stderr",
     "output_type": "stream",
     "text": [
      "\n",
      "Attaching package: 'dplyr'\n",
      "\n",
      "\n",
      "The following objects are masked from 'package:stats':\n",
      "\n",
      "    filter, lag\n",
      "\n",
      "\n",
      "The following objects are masked from 'package:base':\n",
      "\n",
      "    intersect, setdiff, setequal, union\n",
      "\n",
      "\n",
      "Warning message:\n",
      "\"package 'ggraph' was built under R version 3.6.3\"\n",
      "Loading required package: ggplot2\n",
      "\n",
      "Warning message:\n",
      "\"package 'igraph' was built under R version 3.6.3\"\n",
      "\n",
      "Attaching package: 'igraph'\n",
      "\n",
      "\n",
      "The following objects are masked from 'package:dplyr':\n",
      "\n",
      "    as_data_frame, groups, union\n",
      "\n",
      "\n",
      "The following objects are masked from 'package:stats':\n",
      "\n",
      "    decompose, spectrum\n",
      "\n",
      "\n",
      "The following object is masked from 'package:base':\n",
      "\n",
      "    union\n",
      "\n",
      "\n",
      "Warning message:\n",
      "\"package 'graphframes' was built under R version 3.6.3\"\n"
     ]
    }
   ],
   "source": [
    "library(sparklyr)\n",
    "library(dplyr)\n",
    "library(ggraph)\n",
    "library(igraph)\n",
    "library(graphframes)"
   ]
  },
  {
   "cell_type": "code",
   "execution_count": 2,
   "metadata": {
    "scrolled": true
   },
   "outputs": [
    {
     "data": {
      "text/html": [
       "<table>\n",
       "<caption>A data.frame: 6 × 3</caption>\n",
       "<thead>\n",
       "\t<tr><th></th><th scope=col>from</th><th scope=col>to</th><th scope=col>year</th></tr>\n",
       "\t<tr><th></th><th scope=col>&lt;dbl&gt;</th><th scope=col>&lt;dbl&gt;</th><th scope=col>&lt;dbl&gt;</th></tr>\n",
       "</thead>\n",
       "<tbody>\n",
       "\t<tr><th scope=row>1</th><td>1</td><td>14</td><td>1957</td></tr>\n",
       "\t<tr><th scope=row>2</th><td>1</td><td>15</td><td>1957</td></tr>\n",
       "\t<tr><th scope=row>3</th><td>1</td><td>21</td><td>1957</td></tr>\n",
       "\t<tr><th scope=row>4</th><td>1</td><td>54</td><td>1957</td></tr>\n",
       "\t<tr><th scope=row>5</th><td>1</td><td>55</td><td>1957</td></tr>\n",
       "\t<tr><th scope=row>6</th><td>2</td><td>21</td><td>1957</td></tr>\n",
       "</tbody>\n",
       "</table>\n"
      ],
      "text/latex": [
       "A data.frame: 6 × 3\n",
       "\\begin{tabular}{r|lll}\n",
       "  & from & to & year\\\\\n",
       "  & <dbl> & <dbl> & <dbl>\\\\\n",
       "\\hline\n",
       "\t1 & 1 & 14 & 1957\\\\\n",
       "\t2 & 1 & 15 & 1957\\\\\n",
       "\t3 & 1 & 21 & 1957\\\\\n",
       "\t4 & 1 & 54 & 1957\\\\\n",
       "\t5 & 1 & 55 & 1957\\\\\n",
       "\t6 & 2 & 21 & 1957\\\\\n",
       "\\end{tabular}\n"
      ],
      "text/markdown": [
       "\n",
       "A data.frame: 6 × 3\n",
       "\n",
       "| <!--/--> | from &lt;dbl&gt; | to &lt;dbl&gt; | year &lt;dbl&gt; |\n",
       "|---|---|---|---|\n",
       "| 1 | 1 | 14 | 1957 |\n",
       "| 2 | 1 | 15 | 1957 |\n",
       "| 3 | 1 | 21 | 1957 |\n",
       "| 4 | 1 | 54 | 1957 |\n",
       "| 5 | 1 | 55 | 1957 |\n",
       "| 6 | 2 | 21 | 1957 |\n",
       "\n"
      ],
      "text/plain": [
       "  from to year\n",
       "1 1    14 1957\n",
       "2 1    15 1957\n",
       "3 1    21 1957\n",
       "4 1    54 1957\n",
       "5 1    55 1957\n",
       "6 2    21 1957"
      ]
     },
     "metadata": {},
     "output_type": "display_data"
    }
   ],
   "source": [
    "head(highschool)"
   ]
  },
  {
   "cell_type": "code",
   "execution_count": 4,
   "metadata": {},
   "outputs": [
    {
     "data": {
      "text/html": [
       "<table>\n",
       "<caption>A data.frame: 506 × 3</caption>\n",
       "<thead>\n",
       "\t<tr><th></th><th scope=col>from</th><th scope=col>to</th><th scope=col>year</th></tr>\n",
       "\t<tr><th></th><th scope=col>&lt;dbl&gt;</th><th scope=col>&lt;dbl&gt;</th><th scope=col>&lt;dbl&gt;</th></tr>\n",
       "</thead>\n",
       "<tbody>\n",
       "\t<tr><th scope=row>1</th><td> 1</td><td>14</td><td>1957</td></tr>\n",
       "\t<tr><th scope=row>2</th><td> 1</td><td>15</td><td>1957</td></tr>\n",
       "\t<tr><th scope=row>3</th><td> 1</td><td>21</td><td>1957</td></tr>\n",
       "\t<tr><th scope=row>4</th><td> 1</td><td>54</td><td>1957</td></tr>\n",
       "\t<tr><th scope=row>5</th><td> 1</td><td>55</td><td>1957</td></tr>\n",
       "\t<tr><th scope=row>6</th><td> 2</td><td>21</td><td>1957</td></tr>\n",
       "\t<tr><th scope=row>7</th><td> 2</td><td>22</td><td>1957</td></tr>\n",
       "\t<tr><th scope=row>8</th><td> 3</td><td> 9</td><td>1957</td></tr>\n",
       "\t<tr><th scope=row>9</th><td> 3</td><td>15</td><td>1957</td></tr>\n",
       "\t<tr><th scope=row>10</th><td> 4</td><td> 5</td><td>1957</td></tr>\n",
       "\t<tr><th scope=row>11</th><td> 4</td><td>18</td><td>1957</td></tr>\n",
       "\t<tr><th scope=row>12</th><td> 4</td><td>19</td><td>1957</td></tr>\n",
       "\t<tr><th scope=row>13</th><td> 4</td><td>43</td><td>1957</td></tr>\n",
       "\t<tr><th scope=row>14</th><td> 5</td><td>19</td><td>1957</td></tr>\n",
       "\t<tr><th scope=row>15</th><td> 5</td><td>43</td><td>1957</td></tr>\n",
       "\t<tr><th scope=row>16</th><td> 6</td><td>13</td><td>1957</td></tr>\n",
       "\t<tr><th scope=row>17</th><td> 6</td><td>20</td><td>1957</td></tr>\n",
       "\t<tr><th scope=row>18</th><td> 6</td><td>22</td><td>1957</td></tr>\n",
       "\t<tr><th scope=row>19</th><td> 7</td><td>17</td><td>1957</td></tr>\n",
       "\t<tr><th scope=row>20</th><td> 8</td><td>14</td><td>1957</td></tr>\n",
       "\t<tr><th scope=row>21</th><td> 8</td><td>17</td><td>1957</td></tr>\n",
       "\t<tr><th scope=row>22</th><td> 9</td><td>12</td><td>1957</td></tr>\n",
       "\t<tr><th scope=row>23</th><td> 9</td><td>20</td><td>1957</td></tr>\n",
       "\t<tr><th scope=row>24</th><td> 9</td><td>21</td><td>1957</td></tr>\n",
       "\t<tr><th scope=row>25</th><td> 9</td><td>22</td><td>1957</td></tr>\n",
       "\t<tr><th scope=row>26</th><td> 9</td><td>51</td><td>1957</td></tr>\n",
       "\t<tr><th scope=row>27</th><td>11</td><td>19</td><td>1957</td></tr>\n",
       "\t<tr><th scope=row>28</th><td>11</td><td>50</td><td>1957</td></tr>\n",
       "\t<tr><th scope=row>29</th><td>11</td><td>52</td><td>1957</td></tr>\n",
       "\t<tr><th scope=row>30</th><td>11</td><td>53</td><td>1957</td></tr>\n",
       "\t<tr><th scope=row>...</th><td>...</td><td>...</td><td>...</td></tr>\n",
       "\t<tr><th scope=row>477</th><td>65</td><td>70</td><td>1958</td></tr>\n",
       "\t<tr><th scope=row>478</th><td>65</td><td>71</td><td>1958</td></tr>\n",
       "\t<tr><th scope=row>479</th><td>66</td><td>63</td><td>1958</td></tr>\n",
       "\t<tr><th scope=row>480</th><td>66</td><td>64</td><td>1958</td></tr>\n",
       "\t<tr><th scope=row>481</th><td>66</td><td>67</td><td>1958</td></tr>\n",
       "\t<tr><th scope=row>482</th><td>66</td><td>70</td><td>1958</td></tr>\n",
       "\t<tr><th scope=row>483</th><td>66</td><td>71</td><td>1958</td></tr>\n",
       "\t<tr><th scope=row>484</th><td>67</td><td>60</td><td>1958</td></tr>\n",
       "\t<tr><th scope=row>485</th><td>67</td><td>63</td><td>1958</td></tr>\n",
       "\t<tr><th scope=row>486</th><td>67</td><td>66</td><td>1958</td></tr>\n",
       "\t<tr><th scope=row>487</th><td>67</td><td>70</td><td>1958</td></tr>\n",
       "\t<tr><th scope=row>488</th><td>67</td><td>71</td><td>1958</td></tr>\n",
       "\t<tr><th scope=row>489</th><td>68</td><td>62</td><td>1958</td></tr>\n",
       "\t<tr><th scope=row>490</th><td>68</td><td>70</td><td>1958</td></tr>\n",
       "\t<tr><th scope=row>491</th><td>68</td><td>71</td><td>1958</td></tr>\n",
       "\t<tr><th scope=row>492</th><td>69</td><td>63</td><td>1958</td></tr>\n",
       "\t<tr><th scope=row>493</th><td>69</td><td>64</td><td>1958</td></tr>\n",
       "\t<tr><th scope=row>494</th><td>69</td><td>66</td><td>1958</td></tr>\n",
       "\t<tr><th scope=row>495</th><td>69</td><td>67</td><td>1958</td></tr>\n",
       "\t<tr><th scope=row>496</th><td>69</td><td>71</td><td>1958</td></tr>\n",
       "\t<tr><th scope=row>497</th><td>70</td><td>63</td><td>1958</td></tr>\n",
       "\t<tr><th scope=row>498</th><td>70</td><td>66</td><td>1958</td></tr>\n",
       "\t<tr><th scope=row>499</th><td>70</td><td>67</td><td>1958</td></tr>\n",
       "\t<tr><th scope=row>500</th><td>70</td><td>69</td><td>1958</td></tr>\n",
       "\t<tr><th scope=row>501</th><td>70</td><td>71</td><td>1958</td></tr>\n",
       "\t<tr><th scope=row>502</th><td>71</td><td>56</td><td>1958</td></tr>\n",
       "\t<tr><th scope=row>503</th><td>71</td><td>62</td><td>1958</td></tr>\n",
       "\t<tr><th scope=row>504</th><td>71</td><td>66</td><td>1958</td></tr>\n",
       "\t<tr><th scope=row>505</th><td>71</td><td>67</td><td>1958</td></tr>\n",
       "\t<tr><th scope=row>506</th><td>71</td><td>70</td><td>1958</td></tr>\n",
       "</tbody>\n",
       "</table>\n"
      ],
      "text/latex": [
       "A data.frame: 506 × 3\n",
       "\\begin{tabular}{r|lll}\n",
       "  & from & to & year\\\\\n",
       "  & <dbl> & <dbl> & <dbl>\\\\\n",
       "\\hline\n",
       "\t1 &  1 & 14 & 1957\\\\\n",
       "\t2 &  1 & 15 & 1957\\\\\n",
       "\t3 &  1 & 21 & 1957\\\\\n",
       "\t4 &  1 & 54 & 1957\\\\\n",
       "\t5 &  1 & 55 & 1957\\\\\n",
       "\t6 &  2 & 21 & 1957\\\\\n",
       "\t7 &  2 & 22 & 1957\\\\\n",
       "\t8 &  3 &  9 & 1957\\\\\n",
       "\t9 &  3 & 15 & 1957\\\\\n",
       "\t10 &  4 &  5 & 1957\\\\\n",
       "\t11 &  4 & 18 & 1957\\\\\n",
       "\t12 &  4 & 19 & 1957\\\\\n",
       "\t13 &  4 & 43 & 1957\\\\\n",
       "\t14 &  5 & 19 & 1957\\\\\n",
       "\t15 &  5 & 43 & 1957\\\\\n",
       "\t16 &  6 & 13 & 1957\\\\\n",
       "\t17 &  6 & 20 & 1957\\\\\n",
       "\t18 &  6 & 22 & 1957\\\\\n",
       "\t19 &  7 & 17 & 1957\\\\\n",
       "\t20 &  8 & 14 & 1957\\\\\n",
       "\t21 &  8 & 17 & 1957\\\\\n",
       "\t22 &  9 & 12 & 1957\\\\\n",
       "\t23 &  9 & 20 & 1957\\\\\n",
       "\t24 &  9 & 21 & 1957\\\\\n",
       "\t25 &  9 & 22 & 1957\\\\\n",
       "\t26 &  9 & 51 & 1957\\\\\n",
       "\t27 & 11 & 19 & 1957\\\\\n",
       "\t28 & 11 & 50 & 1957\\\\\n",
       "\t29 & 11 & 52 & 1957\\\\\n",
       "\t30 & 11 & 53 & 1957\\\\\n",
       "\t... & ... & ... & ...\\\\\n",
       "\t477 & 65 & 70 & 1958\\\\\n",
       "\t478 & 65 & 71 & 1958\\\\\n",
       "\t479 & 66 & 63 & 1958\\\\\n",
       "\t480 & 66 & 64 & 1958\\\\\n",
       "\t481 & 66 & 67 & 1958\\\\\n",
       "\t482 & 66 & 70 & 1958\\\\\n",
       "\t483 & 66 & 71 & 1958\\\\\n",
       "\t484 & 67 & 60 & 1958\\\\\n",
       "\t485 & 67 & 63 & 1958\\\\\n",
       "\t486 & 67 & 66 & 1958\\\\\n",
       "\t487 & 67 & 70 & 1958\\\\\n",
       "\t488 & 67 & 71 & 1958\\\\\n",
       "\t489 & 68 & 62 & 1958\\\\\n",
       "\t490 & 68 & 70 & 1958\\\\\n",
       "\t491 & 68 & 71 & 1958\\\\\n",
       "\t492 & 69 & 63 & 1958\\\\\n",
       "\t493 & 69 & 64 & 1958\\\\\n",
       "\t494 & 69 & 66 & 1958\\\\\n",
       "\t495 & 69 & 67 & 1958\\\\\n",
       "\t496 & 69 & 71 & 1958\\\\\n",
       "\t497 & 70 & 63 & 1958\\\\\n",
       "\t498 & 70 & 66 & 1958\\\\\n",
       "\t499 & 70 & 67 & 1958\\\\\n",
       "\t500 & 70 & 69 & 1958\\\\\n",
       "\t501 & 70 & 71 & 1958\\\\\n",
       "\t502 & 71 & 56 & 1958\\\\\n",
       "\t503 & 71 & 62 & 1958\\\\\n",
       "\t504 & 71 & 66 & 1958\\\\\n",
       "\t505 & 71 & 67 & 1958\\\\\n",
       "\t506 & 71 & 70 & 1958\\\\\n",
       "\\end{tabular}\n"
      ],
      "text/markdown": [
       "\n",
       "A data.frame: 506 × 3\n",
       "\n",
       "| <!--/--> | from &lt;dbl&gt; | to &lt;dbl&gt; | year &lt;dbl&gt; |\n",
       "|---|---|---|---|\n",
       "| 1 |  1 | 14 | 1957 |\n",
       "| 2 |  1 | 15 | 1957 |\n",
       "| 3 |  1 | 21 | 1957 |\n",
       "| 4 |  1 | 54 | 1957 |\n",
       "| 5 |  1 | 55 | 1957 |\n",
       "| 6 |  2 | 21 | 1957 |\n",
       "| 7 |  2 | 22 | 1957 |\n",
       "| 8 |  3 |  9 | 1957 |\n",
       "| 9 |  3 | 15 | 1957 |\n",
       "| 10 |  4 |  5 | 1957 |\n",
       "| 11 |  4 | 18 | 1957 |\n",
       "| 12 |  4 | 19 | 1957 |\n",
       "| 13 |  4 | 43 | 1957 |\n",
       "| 14 |  5 | 19 | 1957 |\n",
       "| 15 |  5 | 43 | 1957 |\n",
       "| 16 |  6 | 13 | 1957 |\n",
       "| 17 |  6 | 20 | 1957 |\n",
       "| 18 |  6 | 22 | 1957 |\n",
       "| 19 |  7 | 17 | 1957 |\n",
       "| 20 |  8 | 14 | 1957 |\n",
       "| 21 |  8 | 17 | 1957 |\n",
       "| 22 |  9 | 12 | 1957 |\n",
       "| 23 |  9 | 20 | 1957 |\n",
       "| 24 |  9 | 21 | 1957 |\n",
       "| 25 |  9 | 22 | 1957 |\n",
       "| 26 |  9 | 51 | 1957 |\n",
       "| 27 | 11 | 19 | 1957 |\n",
       "| 28 | 11 | 50 | 1957 |\n",
       "| 29 | 11 | 52 | 1957 |\n",
       "| 30 | 11 | 53 | 1957 |\n",
       "| ... | ... | ... | ... |\n",
       "| 477 | 65 | 70 | 1958 |\n",
       "| 478 | 65 | 71 | 1958 |\n",
       "| 479 | 66 | 63 | 1958 |\n",
       "| 480 | 66 | 64 | 1958 |\n",
       "| 481 | 66 | 67 | 1958 |\n",
       "| 482 | 66 | 70 | 1958 |\n",
       "| 483 | 66 | 71 | 1958 |\n",
       "| 484 | 67 | 60 | 1958 |\n",
       "| 485 | 67 | 63 | 1958 |\n",
       "| 486 | 67 | 66 | 1958 |\n",
       "| 487 | 67 | 70 | 1958 |\n",
       "| 488 | 67 | 71 | 1958 |\n",
       "| 489 | 68 | 62 | 1958 |\n",
       "| 490 | 68 | 70 | 1958 |\n",
       "| 491 | 68 | 71 | 1958 |\n",
       "| 492 | 69 | 63 | 1958 |\n",
       "| 493 | 69 | 64 | 1958 |\n",
       "| 494 | 69 | 66 | 1958 |\n",
       "| 495 | 69 | 67 | 1958 |\n",
       "| 496 | 69 | 71 | 1958 |\n",
       "| 497 | 70 | 63 | 1958 |\n",
       "| 498 | 70 | 66 | 1958 |\n",
       "| 499 | 70 | 67 | 1958 |\n",
       "| 500 | 70 | 69 | 1958 |\n",
       "| 501 | 70 | 71 | 1958 |\n",
       "| 502 | 71 | 56 | 1958 |\n",
       "| 503 | 71 | 62 | 1958 |\n",
       "| 504 | 71 | 66 | 1958 |\n",
       "| 505 | 71 | 67 | 1958 |\n",
       "| 506 | 71 | 70 | 1958 |\n",
       "\n"
      ],
      "text/plain": [
       "    from to  year\n",
       "1    1   14  1957\n",
       "2    1   15  1957\n",
       "3    1   21  1957\n",
       "4    1   54  1957\n",
       "5    1   55  1957\n",
       "6    2   21  1957\n",
       "7    2   22  1957\n",
       "8    3    9  1957\n",
       "9    3   15  1957\n",
       "10   4    5  1957\n",
       "11   4   18  1957\n",
       "12   4   19  1957\n",
       "13   4   43  1957\n",
       "14   5   19  1957\n",
       "15   5   43  1957\n",
       "16   6   13  1957\n",
       "17   6   20  1957\n",
       "18   6   22  1957\n",
       "19   7   17  1957\n",
       "20   8   14  1957\n",
       "21   8   17  1957\n",
       "22   9   12  1957\n",
       "23   9   20  1957\n",
       "24   9   21  1957\n",
       "25   9   22  1957\n",
       "26   9   51  1957\n",
       "27  11   19  1957\n",
       "28  11   50  1957\n",
       "29  11   52  1957\n",
       "30  11   53  1957\n",
       "... ...  ... ... \n",
       "477 65   70  1958\n",
       "478 65   71  1958\n",
       "479 66   63  1958\n",
       "480 66   64  1958\n",
       "481 66   67  1958\n",
       "482 66   70  1958\n",
       "483 66   71  1958\n",
       "484 67   60  1958\n",
       "485 67   63  1958\n",
       "486 67   66  1958\n",
       "487 67   70  1958\n",
       "488 67   71  1958\n",
       "489 68   62  1958\n",
       "490 68   70  1958\n",
       "491 68   71  1958\n",
       "492 69   63  1958\n",
       "493 69   64  1958\n",
       "494 69   66  1958\n",
       "495 69   67  1958\n",
       "496 69   71  1958\n",
       "497 70   63  1958\n",
       "498 70   66  1958\n",
       "499 70   67  1958\n",
       "500 70   69  1958\n",
       "501 70   71  1958\n",
       "502 71   56  1958\n",
       "503 71   62  1958\n",
       "504 71   66  1958\n",
       "505 71   67  1958\n",
       "506 71   70  1958"
      ]
     },
     "metadata": {},
     "output_type": "display_data"
    }
   ],
   "source": [
    "ggraph::highschool"
   ]
  },
  {
   "cell_type": "code",
   "execution_count": 3,
   "metadata": {},
   "outputs": [],
   "source": [
    "Sys.setenv(JAVA_HOME=\"C:/Java/jre1.8.0_221\") #you need to change to your path\n",
    "Sys.setenv(SPARK_HOME=\"C:/spark-2.4.4-bin-hadoop2.7\") #you need to change to your path"
   ]
  },
  {
   "cell_type": "markdown",
   "metadata": {},
   "source": [
    "### if you see error\n",
    "### Exception in thread \"main\" java.lang.RuntimeException: [unresolved dependency: graphframes#graphframes;0.6.0-spark2.4-s_2.11: not found]\n",
    "### please go to http://dl.bintray.com/spark-packages/maven/graphframes/graphframes/0.6.0-spark2.3-s_2.11/graphframes-0.6.0-spark2.3-s_2.11.jar\n",
    "### rename it to graphframes.jar and then store it to \n",
    "### C:\\Users\\YOUR USERNAME\\\\.ivy2\\local\\graphframes\\graphframes\\0.6.0-spark2.4-s_2.11\\jars"
   ]
  },
  {
   "cell_type": "code",
   "execution_count": 4,
   "metadata": {},
   "outputs": [],
   "source": [
    "sc=spark_connect(master = \"local\")\n",
    "highschool_tbl <- copy_to(sc, highschool, \"highschool\", overwrite = TRUE)"
   ]
  },
  {
   "cell_type": "code",
   "execution_count": 7,
   "metadata": {
    "scrolled": true
   },
   "outputs": [
    {
     "data": {
      "text/plain": [
       "\u001b[90m# Source: spark<highschool> [?? x 3]\u001b[39m\n",
       "    from    to  year\n",
       "   \u001b[3m\u001b[90m<dbl>\u001b[39m\u001b[23m \u001b[3m\u001b[90m<dbl>\u001b[39m\u001b[23m \u001b[3m\u001b[90m<dbl>\u001b[39m\u001b[23m\n",
       "\u001b[90m 1\u001b[39m     1    14  \u001b[4m1\u001b[24m957\n",
       "\u001b[90m 2\u001b[39m     1    15  \u001b[4m1\u001b[24m957\n",
       "\u001b[90m 3\u001b[39m     1    21  \u001b[4m1\u001b[24m957\n",
       "\u001b[90m 4\u001b[39m     1    54  \u001b[4m1\u001b[24m957\n",
       "\u001b[90m 5\u001b[39m     1    55  \u001b[4m1\u001b[24m957\n",
       "\u001b[90m 6\u001b[39m     2    21  \u001b[4m1\u001b[24m957\n",
       "\u001b[90m 7\u001b[39m     2    22  \u001b[4m1\u001b[24m957\n",
       "\u001b[90m 8\u001b[39m     3     9  \u001b[4m1\u001b[24m957\n",
       "\u001b[90m 9\u001b[39m     3    15  \u001b[4m1\u001b[24m957\n",
       "\u001b[90m10\u001b[39m     4     5  \u001b[4m1\u001b[24m957\n",
       "\u001b[90m# ... with more rows\u001b[39m"
      ]
     },
     "metadata": {},
     "output_type": "display_data"
    }
   ],
   "source": [
    "highschool_tbl"
   ]
  },
  {
   "cell_type": "code",
   "execution_count": 35,
   "metadata": {},
   "outputs": [],
   "source": [
    "highschool_tbl <- copy_to(sc, \n",
    "                          highschool, \n",
    "                          \"highschool\", \n",
    "                          overwrite = TRUE) %>%\n",
    "  filter(year == 1957) %>%\n",
    "  transmute(from = as.character(as.integer(from)),\n",
    "            to = as.character(as.integer(to)))"
   ]
  },
  {
   "cell_type": "code",
   "execution_count": 36,
   "metadata": {
    "scrolled": true
   },
   "outputs": [
    {
     "data": {
      "text/plain": [
       "\u001b[90m# Source: spark<?> [?? x 2]\u001b[39m\n",
       "   from  to   \n",
       "   \u001b[3m\u001b[90m<chr>\u001b[39m\u001b[23m \u001b[3m\u001b[90m<chr>\u001b[39m\u001b[23m\n",
       "\u001b[90m 1\u001b[39m 1     14   \n",
       "\u001b[90m 2\u001b[39m 1     15   \n",
       "\u001b[90m 3\u001b[39m 1     21   \n",
       "\u001b[90m 4\u001b[39m 1     54   \n",
       "\u001b[90m 5\u001b[39m 1     55   \n",
       "\u001b[90m 6\u001b[39m 2     21   \n",
       "\u001b[90m 7\u001b[39m 2     22   \n",
       "\u001b[90m 8\u001b[39m 3     9    \n",
       "\u001b[90m 9\u001b[39m 3     15   \n",
       "\u001b[90m10\u001b[39m 4     5    \n",
       "\u001b[90m# ... with more rows\u001b[39m"
      ]
     },
     "metadata": {},
     "output_type": "display_data"
    }
   ],
   "source": [
    "highschool_tbl"
   ]
  },
  {
   "cell_type": "code",
   "execution_count": 37,
   "metadata": {
    "scrolled": true
   },
   "outputs": [
    {
     "data": {
      "text/plain": [
       "\u001b[90m# Source: spark<?> [?? x 1]\u001b[39m\n",
       "   id   \n",
       "   \u001b[3m\u001b[90m<chr>\u001b[39m\u001b[23m\n",
       "\u001b[90m 1\u001b[39m 1    \n",
       "\u001b[90m 2\u001b[39m 3    \n",
       "\u001b[90m 3\u001b[39m 4    \n",
       "\u001b[90m 4\u001b[39m 8    \n",
       "\u001b[90m 5\u001b[39m 12   \n",
       "\u001b[90m 6\u001b[39m 17   \n",
       "\u001b[90m 7\u001b[39m 20   \n",
       "\u001b[90m 8\u001b[39m 27   \n",
       "\u001b[90m 9\u001b[39m 29   \n",
       "\u001b[90m10\u001b[39m 31   \n",
       "\u001b[90m# ... with more rows\u001b[39m"
      ]
     },
     "metadata": {},
     "output_type": "display_data"
    }
   ],
   "source": [
    "from_tbl <- highschool_tbl %>% \n",
    "    distinct(from) %>% \n",
    "    transmute(id = from)\n",
    "from_tbl"
   ]
  },
  {
   "cell_type": "code",
   "execution_count": 38,
   "metadata": {
    "scrolled": true
   },
   "outputs": [
    {
     "data": {
      "text/plain": [
       "\u001b[90m# Source: spark<?> [?? x 1]\u001b[39m\n",
       "   id   \n",
       "   \u001b[3m\u001b[90m<chr>\u001b[39m\u001b[23m\n",
       "\u001b[90m 1\u001b[39m 43   \n",
       "\u001b[90m 2\u001b[39m 20   \n",
       "\u001b[90m 3\u001b[39m 17   \n",
       "\u001b[90m 4\u001b[39m 12   \n",
       "\u001b[90m 5\u001b[39m 8    \n",
       "\u001b[90m 6\u001b[39m 4    \n",
       "\u001b[90m 7\u001b[39m 27   \n",
       "\u001b[90m 8\u001b[39m 60   \n",
       "\u001b[90m 9\u001b[39m 65   \n",
       "\u001b[90m10\u001b[39m 68   \n",
       "\u001b[90m# ... with more rows\u001b[39m"
      ]
     },
     "metadata": {},
     "output_type": "display_data"
    }
   ],
   "source": [
    "to_tbl <- highschool_tbl %>% \n",
    "    distinct(to) %>% \n",
    "    transmute(id = to)\n",
    "to_tbl"
   ]
  },
  {
   "cell_type": "code",
   "execution_count": 39,
   "metadata": {},
   "outputs": [
    {
     "data": {
      "text/plain": [
       "\u001b[90m# Source: spark<?> [?? x 1]\u001b[39m\n",
       "   id   \n",
       "   \u001b[3m\u001b[90m<chr>\u001b[39m\u001b[23m\n",
       "\u001b[90m 1\u001b[39m 1    \n",
       "\u001b[90m 2\u001b[39m 3    \n",
       "\u001b[90m 3\u001b[39m 4    \n",
       "\u001b[90m 4\u001b[39m 8    \n",
       "\u001b[90m 5\u001b[39m 12   \n",
       "\u001b[90m 6\u001b[39m 17   \n",
       "\u001b[90m 7\u001b[39m 20   \n",
       "\u001b[90m 8\u001b[39m 27   \n",
       "\u001b[90m 9\u001b[39m 29   \n",
       "\u001b[90m10\u001b[39m 31   \n",
       "\u001b[90m# ... with more rows\u001b[39m"
      ]
     },
     "metadata": {},
     "output_type": "display_data"
    }
   ],
   "source": [
    "vertices_tbl <- distinct(sdf_bind_rows(from_tbl, to_tbl))\n",
    "vertices_tbl"
   ]
  },
  {
   "cell_type": "code",
   "execution_count": 40,
   "metadata": {
    "scrolled": false
   },
   "outputs": [
    {
     "data": {
      "text/plain": [
       "\u001b[90m# Source: spark<?> [?? x 2]\u001b[39m\n",
       "   src   dst  \n",
       "   \u001b[3m\u001b[90m<chr>\u001b[39m\u001b[23m \u001b[3m\u001b[90m<chr>\u001b[39m\u001b[23m\n",
       "\u001b[90m 1\u001b[39m 1     14   \n",
       "\u001b[90m 2\u001b[39m 1     15   \n",
       "\u001b[90m 3\u001b[39m 1     21   \n",
       "\u001b[90m 4\u001b[39m 1     54   \n",
       "\u001b[90m 5\u001b[39m 1     55   \n",
       "\u001b[90m 6\u001b[39m 2     21   \n",
       "\u001b[90m 7\u001b[39m 2     22   \n",
       "\u001b[90m 8\u001b[39m 3     9    \n",
       "\u001b[90m 9\u001b[39m 3     15   \n",
       "\u001b[90m10\u001b[39m 4     5    \n",
       "\u001b[90m# ... with more rows\u001b[39m"
      ]
     },
     "metadata": {},
     "output_type": "display_data"
    }
   ],
   "source": [
    "edges_tbl <- highschool_tbl %>% \n",
    "    transmute(src = from, dst = to)\n",
    "edges_tbl"
   ]
  },
  {
   "cell_type": "code",
   "execution_count": 58,
   "metadata": {
    "scrolled": true
   },
   "outputs": [
    {
     "data": {
      "text/plain": [
       "\u001b[90m# Source: spark<?> [?? x 2]\u001b[39m\n",
       "  src   dst  \n",
       "  \u001b[3m\u001b[90m<chr>\u001b[39m\u001b[23m \u001b[3m\u001b[90m<chr>\u001b[39m\u001b[23m\n",
       "\u001b[90m1\u001b[39m 1     14   \n",
       "\u001b[90m2\u001b[39m 8     14   "
      ]
     },
     "metadata": {},
     "output_type": "display_data"
    }
   ],
   "source": [
    "filter(edges_tbl, dst==14)"
   ]
  },
  {
   "cell_type": "code",
   "execution_count": 60,
   "metadata": {
    "scrolled": true
   },
   "outputs": [
    {
     "data": {
      "text/plain": [
       "\u001b[90m# Source: spark<?> [?? x 2]\u001b[39m\n",
       "  src   dst  \n",
       "  \u001b[3m\u001b[90m<chr>\u001b[39m\u001b[23m \u001b[3m\u001b[90m<chr>\u001b[39m\u001b[23m\n",
       "\u001b[90m1\u001b[39m 29    13   \n",
       "\u001b[90m2\u001b[39m 29    38   "
      ]
     },
     "metadata": {},
     "output_type": "display_data"
    },
    {
     "data": {
      "text/plain": [
       "\u001b[90m# Source: spark<?> [?? x 2]\u001b[39m\n",
       "  src   dst  \n",
       "  \u001b[3m\u001b[90m<chr>\u001b[39m\u001b[23m \u001b[3m\u001b[90m<chr>\u001b[39m\u001b[23m\n",
       "\u001b[90m1\u001b[39m 13    17   \n",
       "\u001b[90m2\u001b[39m 13    20   \n",
       "\u001b[90m3\u001b[39m 13    21   \n",
       "\u001b[90m4\u001b[39m 13    22   "
      ]
     },
     "metadata": {},
     "output_type": "display_data"
    }
   ],
   "source": [
    "filter(edges_tbl, src==29)\n",
    "filter(edges_tbl, src==13)"
   ]
  },
  {
   "cell_type": "markdown",
   "metadata": {},
   "source": [
    "### put scala-logging-slf4j_2.10-2.1.2.jar into C:\\Java\\jre1.8.0_221\\lib\\ext or your JAVA_HOME's same folder\n",
    "### You can download this file on canvas W7 page. DO NOT download elsewhere because I modified this jar to make life easier."
   ]
  },
  {
   "cell_type": "code",
   "execution_count": 41,
   "metadata": {},
   "outputs": [
    {
     "data": {
      "text/plain": [
       "GraphFrame\n",
       "Vertices:\n",
       "  Database: spark_connection\n",
       "  $ id \u001b[3m\u001b[90m<chr>\u001b[39m\u001b[23m \"1\", \"3\", \"4\", \"8\", \"12\", \"17\", \"20\", \"27\", \"29\", \"31\", \"34\", \"3...\n",
       "Edges:\n",
       "  Database: spark_connection\n",
       "  $ src \u001b[3m\u001b[90m<chr>\u001b[39m\u001b[23m \"1\", \"1\", \"1\", \"1\", \"1\", \"2\", \"2\", \"3\", \"3\", \"4\", \"4\", \"4\", \"4\"...\n",
       "  $ dst \u001b[3m\u001b[90m<chr>\u001b[39m\u001b[23m \"14\", \"15\", \"21\", \"54\", \"55\", \"21\", \"22\", \"9\", \"15\", \"5\", \"18\",..."
      ]
     },
     "metadata": {},
     "output_type": "display_data"
    }
   ],
   "source": [
    "graph <- gf_graphframe(vertices_tbl, edges_tbl)\n",
    "graph"
   ]
  },
  {
   "cell_type": "code",
   "execution_count": 42,
   "metadata": {},
   "outputs": [],
   "source": [
    "?gf_degrees"
   ]
  },
  {
   "cell_type": "code",
   "execution_count": 43,
   "metadata": {},
   "outputs": [
    {
     "data": {
      "text/plain": [
       "\u001b[90m# Source: spark<?> [?? x 2]\u001b[39m\n",
       "   id    degree\n",
       "   \u001b[3m\u001b[90m<chr>\u001b[39m\u001b[23m  \u001b[3m\u001b[90m<int>\u001b[39m\u001b[23m\n",
       "\u001b[90m 1\u001b[39m 1          5\n",
       "\u001b[90m 2\u001b[39m 3          2\n",
       "\u001b[90m 3\u001b[39m 4          5\n",
       "\u001b[90m 4\u001b[39m 43        12\n",
       "\u001b[90m 5\u001b[39m 20        11\n",
       "\u001b[90m 6\u001b[39m 17         5\n",
       "\u001b[90m 7\u001b[39m 8          3\n",
       "\u001b[90m 8\u001b[39m 12         5\n",
       "\u001b[90m 9\u001b[39m 27         4\n",
       "\u001b[90m10\u001b[39m 60         7\n",
       "\u001b[90m# ... with more rows\u001b[39m"
      ]
     },
     "metadata": {},
     "output_type": "display_data"
    }
   ],
   "source": [
    "gf_degrees(graph)"
   ]
  },
  {
   "cell_type": "code",
   "execution_count": 44,
   "metadata": {},
   "outputs": [
    {
     "data": {
      "text/plain": [
       "\u001b[90m# Source:     spark<?> [?? x 2]\u001b[39m\n",
       "\u001b[90m# Ordered by: desc(degree)\u001b[39m\n",
       "   id    degree\n",
       "   \u001b[3m\u001b[90m<chr>\u001b[39m\u001b[23m  \u001b[3m\u001b[90m<int>\u001b[39m\u001b[23m\n",
       "\u001b[90m 1\u001b[39m 71        16\n",
       "\u001b[90m 2\u001b[39m 21        14\n",
       "\u001b[90m 3\u001b[39m 22        14\n",
       "\u001b[90m 4\u001b[39m 70        13\n",
       "\u001b[90m 5\u001b[39m 54        13\n",
       "\u001b[90m 6\u001b[39m 69        12\n",
       "\u001b[90m 7\u001b[39m 43        12\n",
       "\u001b[90m 8\u001b[39m 66        12\n",
       "\u001b[90m 9\u001b[39m 52        11\n",
       "\u001b[90m10\u001b[39m 67        11\n",
       "\u001b[90m# ... with more rows\u001b[39m"
      ]
     },
     "metadata": {},
     "output_type": "display_data"
    }
   ],
   "source": [
    "gf_degrees(graph) %>% arrange(desc(degree))"
   ]
  },
  {
   "cell_type": "code",
   "execution_count": 45,
   "metadata": {
    "scrolled": false
   },
   "outputs": [
    {
     "data": {
      "text/plain": [
       "\u001b[90m# Source: spark<?> [?? x 1]\u001b[39m\n",
       "  friends\n",
       "    \u001b[3m\u001b[90m<dbl>\u001b[39m\u001b[23m\n",
       "\u001b[90m1\u001b[39m    6.94"
      ]
     },
     "metadata": {},
     "output_type": "display_data"
    }
   ],
   "source": [
    "gf_degrees(graph) %>% summarise(friends = mean(degree, na.rm = TRUE))"
   ]
  },
  {
   "cell_type": "code",
   "execution_count": 56,
   "metadata": {},
   "outputs": [
    {
     "data": {
      "text/plain": [
       "\u001b[90m# Source: spark<?> [?? x 2]\u001b[39m\n",
       "   id    distances       \n",
       "   \u001b[3m\u001b[90m<chr>\u001b[39m\u001b[23m \u001b[3m\u001b[90m<list>\u001b[39m\u001b[23m          \n",
       "\u001b[90m 1\u001b[39m 17    \u001b[90m<named list [1]>\u001b[39m\n",
       "\u001b[90m 2\u001b[39m 27    \u001b[90m<named list [0]>\u001b[39m\n",
       "\u001b[90m 3\u001b[39m 29    \u001b[90m<named list [1]>\u001b[39m\n",
       "\u001b[90m 4\u001b[39m 34    \u001b[90m<named list [1]>\u001b[39m\n",
       "\u001b[90m 5\u001b[39m 43    \u001b[90m<named list [0]>\u001b[39m\n",
       "\u001b[90m 6\u001b[39m 45    \u001b[90m<named list [0]>\u001b[39m\n",
       "\u001b[90m 7\u001b[39m 47    \u001b[90m<named list [0]>\u001b[39m\n",
       "\u001b[90m 8\u001b[39m 49    \u001b[90m<named list [0]>\u001b[39m\n",
       "\u001b[90m 9\u001b[39m 56    \u001b[90m<named list [0]>\u001b[39m\n",
       "\u001b[90m10\u001b[39m 57    \u001b[90m<named list [0]>\u001b[39m\n",
       "\u001b[90m# ... with more rows\u001b[39m"
      ]
     },
     "metadata": {},
     "output_type": "display_data"
    }
   ],
   "source": [
    "gf_shortest_paths(graph, 14)"
   ]
  },
  {
   "cell_type": "code",
   "execution_count": 61,
   "metadata": {},
   "outputs": [
    {
     "data": {
      "text/plain": [
       "\u001b[90m# Source: spark<?> [?? x 2]\u001b[39m\n",
       "   id    distance\n",
       "   \u001b[3m\u001b[90m<chr>\u001b[39m\u001b[23m    \u001b[3m\u001b[90m<int>\u001b[39m\u001b[23m\n",
       "\u001b[90m 1\u001b[39m 17           2\n",
       "\u001b[90m 2\u001b[39m 29           4\n",
       "\u001b[90m 3\u001b[39m 34           6\n",
       "\u001b[90m 4\u001b[39m 8            1\n",
       "\u001b[90m 5\u001b[39m 13           3\n",
       "\u001b[90m 6\u001b[39m 14           0\n",
       "\u001b[90m 7\u001b[39m 22           6\n",
       "\u001b[90m 8\u001b[39m 24           8\n",
       "\u001b[90m 9\u001b[39m 28           6\n",
       "\u001b[90m10\u001b[39m 38           7\n",
       "\u001b[90m# ... with more rows\u001b[39m"
      ]
     },
     "metadata": {},
     "output_type": "display_data"
    }
   ],
   "source": [
    "gf_shortest_paths(graph, 14) %>%\n",
    "  filter(size(distances) > 0) %>%\n",
    "  mutate(distance = explode(map_values(distances))) %>%\n",
    "  select(id, distance) "
   ]
  },
  {
   "cell_type": "code",
   "execution_count": 63,
   "metadata": {},
   "outputs": [
    {
     "data": {
      "text/plain": [
       "\u001b[90m# Source: spark<?> [?? x 1]\u001b[39m\n",
       "  influence\n",
       "      \u001b[3m\u001b[90m<dbl>\u001b[39m\u001b[23m\n",
       "\u001b[90m1\u001b[39m      4.96"
      ]
     },
     "metadata": {},
     "output_type": "display_data"
    }
   ],
   "source": [
    "gf_shortest_paths(graph, 14) %>%\n",
    "    filter(size(distances) > 0) %>%\n",
    "    mutate(distance = explode(map_values(distances))) %>%\n",
    "    select(id, distance) %>% \n",
    "    summarise(influence = mean(distance, na.rm = TRUE))"
   ]
  },
  {
   "cell_type": "code",
   "execution_count": 64,
   "metadata": {},
   "outputs": [
    {
     "data": {
      "text/plain": [
       "\u001b[90m# Source: spark<?> [?? x 1]\u001b[39m\n",
       "  influence\n",
       "      \u001b[3m\u001b[90m<dbl>\u001b[39m\u001b[23m\n",
       "\u001b[90m1\u001b[39m      3.33"
      ]
     },
     "metadata": {},
     "output_type": "display_data"
    }
   ],
   "source": [
    "gf_shortest_paths(graph, 33) %>%\n",
    "    filter(size(distances) > 0) %>%\n",
    "    mutate(distance = explode(map_values(distances))) %>%\n",
    "    select(id, distance) %>% \n",
    "    summarise(influence = mean(distance, na.rm = TRUE))"
   ]
  },
  {
   "cell_type": "code",
   "execution_count": 54,
   "metadata": {},
   "outputs": [],
   "source": [
    "?gf_shortest_paths"
   ]
  },
  {
   "cell_type": "code",
   "execution_count": 18,
   "metadata": {},
   "outputs": [
    {
     "data": {
      "text/plain": [
       "GraphFrame\n",
       "Vertices:\n",
       "  Database: spark_connection\n",
       "  $ id       \u001b[3m\u001b[90m<chr>\u001b[39m\u001b[23m \"17\", \"27\", \"29\", \"34\", \"43\", \"45\", \"47\", \"49\", \"56\", \"57\"...\n",
       "  $ pagerank \u001b[3m\u001b[90m<dbl>\u001b[39m\u001b[23m 0.9584287, 0.2465494, 0.2567435, 0.3430992, 1.0834154, 0.8...\n",
       "Edges:\n",
       "  Database: spark_connection\n",
       "  $ src    \u001b[3m\u001b[90m<chr>\u001b[39m\u001b[23m \"1\", \"1\", \"12\", \"20\", \"20\", \"20\", \"27\", \"29\", \"3\", \"31\", \"31...\n",
       "  $ dst    \u001b[3m\u001b[90m<chr>\u001b[39m\u001b[23m \"15\", \"21\", \"20\", \"12\", \"21\", \"22\", \"40\", \"38\", \"15\", \"37\", ...\n",
       "  $ weight \u001b[3m\u001b[90m<dbl>\u001b[39m\u001b[23m 0.2000000, 0.2000000, 0.3333333, 0.2000000, 0.2000000, 0.200..."
      ]
     },
     "metadata": {},
     "output_type": "display_data"
    }
   ],
   "source": [
    "gf_graphframe(vertices_tbl, edges_tbl) %>%\n",
    "  gf_pagerank(reset_prob = 0.15, max_iter = 10L)"
   ]
  },
  {
   "cell_type": "code",
   "execution_count": 65,
   "metadata": {},
   "outputs": [
    {
     "data": {
      "image/png": "[encoded data removed]",
      "text/plain": [
       "plot without title"
      ]
     },
     "metadata": {
      "image/png": {
       "height": 420,
       "width": 420
      }
     },
     "output_type": "display_data"
    }
   ],
   "source": [
    "library(ggraph)\n",
    "highschool_tbl %>%\n",
    "  igraph::graph_from_data_frame(directed = FALSE) %>%\n",
    "  ggraph(layout = 'kk') + \n",
    "    geom_edge_link(alpha = 0.2,\n",
    "                   arrow = arrow(length = unit(2, 'mm')),\n",
    "                   end_cap = circle(2, 'mm'),\n",
    "                   start_cap = circle(2, 'mm')) + \n",
    "    geom_node_point(size = 2, alpha = 0.4)"
   ]
  },
  {
   "cell_type": "code",
   "execution_count": null,
   "metadata": {},
   "outputs": [],
   "source": []
  }
 ],
 "metadata": {
  "kernelspec": {
   "display_name": "R",
   "language": "R",
   "name": "ir"
  },
  "language_info": {
   "codemirror_mode": "r",
   "file_extension": ".r",
   "mimetype": "text/x-r-source",
   "name": "R",
   "pygments_lexer": "r",
   "version": "3.6.1"
  }
 },
 "nbformat": 4,
 "nbformat_minor": 2
}
