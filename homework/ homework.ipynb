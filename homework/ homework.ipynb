{
 "cells": [
  {
   "cell_type": "code",
   "execution_count": 1,
   "metadata": {},
   "outputs": [
    {
     "name": "stderr",
     "output_type": "stream",
     "text": [
      "\n",
      "Attaching package: ‘dplyr’\n",
      "\n",
      "\n",
      "The following objects are masked from ‘package:stats’:\n",
      "\n",
      "    filter, lag\n",
      "\n",
      "\n",
      "The following objects are masked from ‘package:base’:\n",
      "\n",
      "    intersect, setdiff, setequal, union\n",
      "\n",
      "\n"
     ]
    },
    {
     "data": {
      "text/html": [
       "<table>\n",
       "<caption>A data.frame: 6 × 6</caption>\n",
       "<thead>\n",
       "\t<tr><th></th><th scope=col>IBM.dailyprice</th><th scope=col>MSFT.dailyprice</th><th scope=col>GOOG.dailyprice</th><th scope=col>AAPL.dailyprice</th><th scope=col>AMZN.dailyprice</th><th scope=col>FB.dailyprice</th></tr>\n",
       "\t<tr><th></th><th scope=col>&lt;dbl&gt;</th><th scope=col>&lt;dbl&gt;</th><th scope=col>&lt;dbl&gt;</th><th scope=col>&lt;dbl&gt;</th><th scope=col>&lt;dbl&gt;</th><th scope=col>&lt;dbl&gt;</th></tr>\n",
       "</thead>\n",
       "<tbody>\n",
       "\t<tr><th scope=row>1</th><td>137.5211</td><td>82.79900</td><td>1065.00</td><td>166.3537</td><td>1189.01</td><td>181.42</td></tr>\n",
       "\t<tr><th scope=row>2</th><td>141.3013</td><td>83.18433</td><td>1082.48</td><td>166.3247</td><td>1204.20</td><td>184.67</td></tr>\n",
       "\t<tr><th scope=row>3</th><td>144.1631</td><td>83.91647</td><td>1086.40</td><td>167.0973</td><td>1209.59</td><td>184.33</td></tr>\n",
       "\t<tr><th scope=row>4</th><td>144.8675</td><td>84.95689</td><td>1102.23</td><td>168.9997</td><td>1229.14</td><td>186.85</td></tr>\n",
       "\t<tr><th scope=row>5</th><td>145.7412</td><td>85.04357</td><td>1106.94</td><td>168.3720</td><td>1246.87</td><td>188.28</td></tr>\n",
       "\t<tr><th scope=row>6</th><td>146.0621</td><td>84.98579</td><td>1106.26</td><td>168.3527</td><td>1252.70</td><td>187.87</td></tr>\n",
       "</tbody>\n",
       "</table>\n"
      ],
      "text/latex": [
       "A data.frame: 6 × 6\n",
       "\\begin{tabular}{r|llllll}\n",
       "  & IBM.dailyprice & MSFT.dailyprice & GOOG.dailyprice & AAPL.dailyprice & AMZN.dailyprice & FB.dailyprice\\\\\n",
       "  & <dbl> & <dbl> & <dbl> & <dbl> & <dbl> & <dbl>\\\\\n",
       "\\hline\n",
       "\t1 & 137.5211 & 82.79900 & 1065.00 & 166.3537 & 1189.01 & 181.42\\\\\n",
       "\t2 & 141.3013 & 83.18433 & 1082.48 & 166.3247 & 1204.20 & 184.67\\\\\n",
       "\t3 & 144.1631 & 83.91647 & 1086.40 & 167.0973 & 1209.59 & 184.33\\\\\n",
       "\t4 & 144.8675 & 84.95689 & 1102.23 & 168.9997 & 1229.14 & 186.85\\\\\n",
       "\t5 & 145.7412 & 85.04357 & 1106.94 & 168.3720 & 1246.87 & 188.28\\\\\n",
       "\t6 & 146.0621 & 84.98579 & 1106.26 & 168.3527 & 1252.70 & 187.87\\\\\n",
       "\\end{tabular}\n"
      ],
      "text/markdown": [
       "\n",
       "A data.frame: 6 × 6\n",
       "\n",
       "| <!--/--> | IBM.dailyprice &lt;dbl&gt; | MSFT.dailyprice &lt;dbl&gt; | GOOG.dailyprice &lt;dbl&gt; | AAPL.dailyprice &lt;dbl&gt; | AMZN.dailyprice &lt;dbl&gt; | FB.dailyprice &lt;dbl&gt; |\n",
       "|---|---|---|---|---|---|---|\n",
       "| 1 | 137.5211 | 82.79900 | 1065.00 | 166.3537 | 1189.01 | 181.42 |\n",
       "| 2 | 141.3013 | 83.18433 | 1082.48 | 166.3247 | 1204.20 | 184.67 |\n",
       "| 3 | 144.1631 | 83.91647 | 1086.40 | 167.0973 | 1209.59 | 184.33 |\n",
       "| 4 | 144.8675 | 84.95689 | 1102.23 | 168.9997 | 1229.14 | 186.85 |\n",
       "| 5 | 145.7412 | 85.04357 | 1106.94 | 168.3720 | 1246.87 | 188.28 |\n",
       "| 6 | 146.0621 | 84.98579 | 1106.26 | 168.3527 | 1252.70 | 187.87 |\n",
       "\n"
      ],
      "text/plain": [
       "  IBM.dailyprice MSFT.dailyprice GOOG.dailyprice AAPL.dailyprice\n",
       "1 137.5211       82.79900        1065.00         166.3537       \n",
       "2 141.3013       83.18433        1082.48         166.3247       \n",
       "3 144.1631       83.91647        1086.40         167.0973       \n",
       "4 144.8675       84.95689        1102.23         168.9997       \n",
       "5 145.7412       85.04357        1106.94         168.3720       \n",
       "6 146.0621       84.98579        1106.26         168.3527       \n",
       "  AMZN.dailyprice FB.dailyprice\n",
       "1 1189.01         181.42       \n",
       "2 1204.20         184.67       \n",
       "3 1209.59         184.33       \n",
       "4 1229.14         186.85       \n",
       "5 1246.87         188.28       \n",
       "6 1252.70         187.87       "
      ]
     },
     "metadata": {},
     "output_type": "display_data"
    }
   ],
   "source": [
    "#problem 1\n",
    "#1)\n",
    "IBM<-read.csv(\"IBM.csv\")\n",
    "MSFT<-read.csv(\"MSFT.csv\")\n",
    "GOOG<-read.csv(\"GOOG.csv\")\n",
    "AAPL<-read.csv(\"AAPL.csv\")\n",
    "AMZN<-read.csv(\"AMZN.csv\")\n",
    "FB<-read.csv(\"FB.csv\")\n",
    "library(dplyr)\n",
    "a<-select(IBM, Adj.Close)\n",
    "b<-select(MSFT,Adj.Close)\n",
    "c<-select(GOOG,Adj.Close)\n",
    "d<-select(AAPL,Adj.Close)\n",
    "e<-select(AMZN,Adj.Close)\n",
    "f<-select(FB,Adj.Close)\n",
    "mydata<-data.frame(a,b,c,d,e,f)\n",
    "mydata<-rename(mydata,IBM.dailyprice=Adj.Close,MSFT.dailyprice=Adj.Close.1,GOOG.dailyprice=Adj.Close.2,\n",
    "       AAPL.dailyprice=Adj.Close.3,AMZN.dailyprice=Adj.Close.4,FB.dailyprice=Adj.Close.5)\n",
    "head(mydata)"
   ]
  },
  {
   "cell_type": "code",
   "execution_count": 17,
   "metadata": {},
   "outputs": [
    {
     "data": {
      "text/html": [
       "<table>\n",
       "<caption>A data.frame: 6 × 7</caption>\n",
       "<thead>\n",
       "\t<tr><th></th><th scope=col>Date</th><th scope=col>Open</th><th scope=col>High</th><th scope=col>Low</th><th scope=col>Close</th><th scope=col>Adj.Close</th><th scope=col>Volume</th></tr>\n",
       "\t<tr><th></th><th scope=col>&lt;fct&gt;</th><th scope=col>&lt;dbl&gt;</th><th scope=col>&lt;dbl&gt;</th><th scope=col>&lt;dbl&gt;</th><th scope=col>&lt;dbl&gt;</th><th scope=col>&lt;dbl&gt;</th><th scope=col>&lt;int&gt;</th></tr>\n",
       "</thead>\n",
       "<tbody>\n",
       "\t<tr><th scope=row>1</th><td>2018-01-02</td><td>154.50</td><td>154.81</td><td>153.54</td><td>154.25</td><td>137.5211</td><td>4202500</td></tr>\n",
       "\t<tr><th scope=row>2</th><td>2018-01-03</td><td>157.34</td><td>159.81</td><td>156.33</td><td>158.49</td><td>141.3013</td><td>9441600</td></tr>\n",
       "\t<tr><th scope=row>3</th><td>2018-01-04</td><td>159.65</td><td>162.32</td><td>159.37</td><td>161.70</td><td>144.1631</td><td>7556200</td></tr>\n",
       "\t<tr><th scope=row>4</th><td>2018-01-05</td><td>162.44</td><td>162.90</td><td>161.10</td><td>162.49</td><td>144.8675</td><td>5195800</td></tr>\n",
       "\t<tr><th scope=row>5</th><td>2018-01-08</td><td>162.66</td><td>163.91</td><td>161.70</td><td>163.47</td><td>145.7412</td><td>5237500</td></tr>\n",
       "\t<tr><th scope=row>6</th><td>2018-01-09</td><td>163.90</td><td>164.53</td><td>163.06</td><td>163.83</td><td>146.0621</td><td>4341800</td></tr>\n",
       "</tbody>\n",
       "</table>\n"
      ],
      "text/latex": [
       "A data.frame: 6 × 7\n",
       "\\begin{tabular}{r|lllllll}\n",
       "  & Date & Open & High & Low & Close & Adj.Close & Volume\\\\\n",
       "  & <fct> & <dbl> & <dbl> & <dbl> & <dbl> & <dbl> & <int>\\\\\n",
       "\\hline\n",
       "\t1 & 2018-01-02 & 154.50 & 154.81 & 153.54 & 154.25 & 137.5211 & 4202500\\\\\n",
       "\t2 & 2018-01-03 & 157.34 & 159.81 & 156.33 & 158.49 & 141.3013 & 9441600\\\\\n",
       "\t3 & 2018-01-04 & 159.65 & 162.32 & 159.37 & 161.70 & 144.1631 & 7556200\\\\\n",
       "\t4 & 2018-01-05 & 162.44 & 162.90 & 161.10 & 162.49 & 144.8675 & 5195800\\\\\n",
       "\t5 & 2018-01-08 & 162.66 & 163.91 & 161.70 & 163.47 & 145.7412 & 5237500\\\\\n",
       "\t6 & 2018-01-09 & 163.90 & 164.53 & 163.06 & 163.83 & 146.0621 & 4341800\\\\\n",
       "\\end{tabular}\n"
      ],
      "text/markdown": [
       "\n",
       "A data.frame: 6 × 7\n",
       "\n",
       "| <!--/--> | Date &lt;fct&gt; | Open &lt;dbl&gt; | High &lt;dbl&gt; | Low &lt;dbl&gt; | Close &lt;dbl&gt; | Adj.Close &lt;dbl&gt; | Volume &lt;int&gt; |\n",
       "|---|---|---|---|---|---|---|---|\n",
       "| 1 | 2018-01-02 | 154.50 | 154.81 | 153.54 | 154.25 | 137.5211 | 4202500 |\n",
       "| 2 | 2018-01-03 | 157.34 | 159.81 | 156.33 | 158.49 | 141.3013 | 9441600 |\n",
       "| 3 | 2018-01-04 | 159.65 | 162.32 | 159.37 | 161.70 | 144.1631 | 7556200 |\n",
       "| 4 | 2018-01-05 | 162.44 | 162.90 | 161.10 | 162.49 | 144.8675 | 5195800 |\n",
       "| 5 | 2018-01-08 | 162.66 | 163.91 | 161.70 | 163.47 | 145.7412 | 5237500 |\n",
       "| 6 | 2018-01-09 | 163.90 | 164.53 | 163.06 | 163.83 | 146.0621 | 4341800 |\n",
       "\n"
      ],
      "text/plain": [
       "  Date       Open   High   Low    Close  Adj.Close Volume \n",
       "1 2018-01-02 154.50 154.81 153.54 154.25 137.5211  4202500\n",
       "2 2018-01-03 157.34 159.81 156.33 158.49 141.3013  9441600\n",
       "3 2018-01-04 159.65 162.32 159.37 161.70 144.1631  7556200\n",
       "4 2018-01-05 162.44 162.90 161.10 162.49 144.8675  5195800\n",
       "5 2018-01-08 162.66 163.91 161.70 163.47 145.7412  5237500\n",
       "6 2018-01-09 163.90 164.53 163.06 163.83 146.0621  4341800"
      ]
     },
     "metadata": {},
     "output_type": "display_data"
    },
    {
     "data": {
      "text/html": [
       "'data.frame'"
      ],
      "text/latex": [
       "'data.frame'"
      ],
      "text/markdown": [
       "'data.frame'"
      ],
      "text/plain": [
       "[1] \"data.frame\""
      ]
     },
     "metadata": {},
     "output_type": "display_data"
    },
    {
     "data": {
      "text/html": [
       "<table>\n",
       "<caption>A data.frame: 2 × 2</caption>\n",
       "<thead>\n",
       "\t<tr><th></th><th scope=col>Date</th><th scope=col>Adj.Close</th></tr>\n",
       "\t<tr><th></th><th scope=col>&lt;fct&gt;</th><th scope=col>&lt;dbl&gt;</th></tr>\n",
       "</thead>\n",
       "<tbody>\n",
       "\t<tr><th scope=row>1</th><td>2018-01-02</td><td>137.5211</td></tr>\n",
       "\t<tr><th scope=row>6</th><td>2018-01-09</td><td>146.0621</td></tr>\n",
       "</tbody>\n",
       "</table>\n"
      ],
      "text/latex": [
       "A data.frame: 2 × 2\n",
       "\\begin{tabular}{r|ll}\n",
       "  & Date & Adj.Close\\\\\n",
       "  & <fct> & <dbl>\\\\\n",
       "\\hline\n",
       "\t1 & 2018-01-02 & 137.5211\\\\\n",
       "\t6 & 2018-01-09 & 146.0621\\\\\n",
       "\\end{tabular}\n"
      ],
      "text/markdown": [
       "\n",
       "A data.frame: 2 × 2\n",
       "\n",
       "| <!--/--> | Date &lt;fct&gt; | Adj.Close &lt;dbl&gt; |\n",
       "|---|---|---|\n",
       "| 1 | 2018-01-02 | 137.5211 |\n",
       "| 6 | 2018-01-09 | 146.0621 |\n",
       "\n"
      ],
      "text/plain": [
       "  Date       Adj.Close\n",
       "1 2018-01-02 137.5211 \n",
       "6 2018-01-09 146.0621 "
      ]
     },
     "metadata": {},
     "output_type": "display_data"
    }
   ],
   "source": [
    "head(IBM)\n",
    "class(IBM)\n",
    "a<-IBM[[\"Date\"]][1:5]#取data.frame里面日期的前五个数\n",
    "IBM[c(1,6),c(1,6)]"
   ]
  },
  {
   "cell_type": "code",
   "execution_count": 4,
   "metadata": {},
   "outputs": [
    {
     "data": {
      "text/html": [
       "<table>\n",
       "<caption>A matrix: 6 × 6 of type dbl</caption>\n",
       "<thead>\n",
       "\t<tr><th></th><th scope=col>IBM.dailyprice</th><th scope=col>MSFT.dailyprice</th><th scope=col>GOOG.dailyprice</th><th scope=col>AAPL.dailyprice</th><th scope=col>AMZN.dailyprice</th><th scope=col>FB.dailyprice</th></tr>\n",
       "</thead>\n",
       "<tbody>\n",
       "\t<tr><th scope=row>IBM.dailyprice</th><td> 1.000</td><td>-0.418</td><td>0.427</td><td>-0.011</td><td>-0.094</td><td> 0.630</td></tr>\n",
       "\t<tr><th scope=row>MSFT.dailyprice</th><td>-0.418</td><td> 1.000</td><td>0.461</td><td> 0.787</td><td> 0.873</td><td>-0.294</td></tr>\n",
       "\t<tr><th scope=row>GOOG.dailyprice</th><td> 0.427</td><td> 0.461</td><td>1.000</td><td> 0.586</td><td> 0.660</td><td> 0.529</td></tr>\n",
       "\t<tr><th scope=row>AAPL.dailyprice</th><td>-0.011</td><td> 0.787</td><td>0.586</td><td> 1.000</td><td> 0.840</td><td>-0.027</td></tr>\n",
       "\t<tr><th scope=row>AMZN.dailyprice</th><td>-0.094</td><td> 0.873</td><td>0.660</td><td> 0.840</td><td> 1.000</td><td> 0.053</td></tr>\n",
       "\t<tr><th scope=row>FB.dailyprice</th><td> 0.630</td><td>-0.294</td><td>0.529</td><td>-0.027</td><td> 0.053</td><td> 1.000</td></tr>\n",
       "</tbody>\n",
       "</table>\n"
      ],
      "text/latex": [
       "A matrix: 6 × 6 of type dbl\n",
       "\\begin{tabular}{r|llllll}\n",
       "  & IBM.dailyprice & MSFT.dailyprice & GOOG.dailyprice & AAPL.dailyprice & AMZN.dailyprice & FB.dailyprice\\\\\n",
       "\\hline\n",
       "\tIBM.dailyprice &  1.000 & -0.418 & 0.427 & -0.011 & -0.094 &  0.630\\\\\n",
       "\tMSFT.dailyprice & -0.418 &  1.000 & 0.461 &  0.787 &  0.873 & -0.294\\\\\n",
       "\tGOOG.dailyprice &  0.427 &  0.461 & 1.000 &  0.586 &  0.660 &  0.529\\\\\n",
       "\tAAPL.dailyprice & -0.011 &  0.787 & 0.586 &  1.000 &  0.840 & -0.027\\\\\n",
       "\tAMZN.dailyprice & -0.094 &  0.873 & 0.660 &  0.840 &  1.000 &  0.053\\\\\n",
       "\tFB.dailyprice &  0.630 & -0.294 & 0.529 & -0.027 &  0.053 &  1.000\\\\\n",
       "\\end{tabular}\n"
      ],
      "text/markdown": [
       "\n",
       "A matrix: 6 × 6 of type dbl\n",
       "\n",
       "| <!--/--> | IBM.dailyprice | MSFT.dailyprice | GOOG.dailyprice | AAPL.dailyprice | AMZN.dailyprice | FB.dailyprice |\n",
       "|---|---|---|---|---|---|---|\n",
       "| IBM.dailyprice |  1.000 | -0.418 | 0.427 | -0.011 | -0.094 |  0.630 |\n",
       "| MSFT.dailyprice | -0.418 |  1.000 | 0.461 |  0.787 |  0.873 | -0.294 |\n",
       "| GOOG.dailyprice |  0.427 |  0.461 | 1.000 |  0.586 |  0.660 |  0.529 |\n",
       "| AAPL.dailyprice | -0.011 |  0.787 | 0.586 |  1.000 |  0.840 | -0.027 |\n",
       "| AMZN.dailyprice | -0.094 |  0.873 | 0.660 |  0.840 |  1.000 |  0.053 |\n",
       "| FB.dailyprice |  0.630 | -0.294 | 0.529 | -0.027 |  0.053 |  1.000 |\n",
       "\n"
      ],
      "text/plain": [
       "                IBM.dailyprice MSFT.dailyprice GOOG.dailyprice AAPL.dailyprice\n",
       "IBM.dailyprice   1.000         -0.418          0.427           -0.011         \n",
       "MSFT.dailyprice -0.418          1.000          0.461            0.787         \n",
       "GOOG.dailyprice  0.427          0.461          1.000            0.586         \n",
       "AAPL.dailyprice -0.011          0.787          0.586            1.000         \n",
       "AMZN.dailyprice -0.094          0.873          0.660            0.840         \n",
       "FB.dailyprice    0.630         -0.294          0.529           -0.027         \n",
       "                AMZN.dailyprice FB.dailyprice\n",
       "IBM.dailyprice  -0.094           0.630       \n",
       "MSFT.dailyprice  0.873          -0.294       \n",
       "GOOG.dailyprice  0.660           0.529       \n",
       "AAPL.dailyprice  0.840          -0.027       \n",
       "AMZN.dailyprice  1.000           0.053       \n",
       "FB.dailyprice    0.053           1.000       "
      ]
     },
     "metadata": {},
     "output_type": "display_data"
    },
    {
     "data": {
      "text/html": [
       "<table>\n",
       "<caption>A matrix: 15 × 1 of type dbl</caption>\n",
       "<tbody>\n",
       "\t<tr><th scope=row>MSFT:AMZN</th><td> 0.873</td></tr>\n",
       "\t<tr><th scope=row>AAPL:AMZN</th><td> 0.840</td></tr>\n",
       "\t<tr><th scope=row>MSFT:AAPL</th><td> 0.787</td></tr>\n",
       "\t<tr><th scope=row>GOOG:AMZN</th><td> 0.660</td></tr>\n",
       "\t<tr><th scope=row>IBM:FB</th><td> 0.630</td></tr>\n",
       "\t<tr><th scope=row>GOOG:AAPL</th><td> 0.586</td></tr>\n",
       "\t<tr><th scope=row>GOOG:FB</th><td> 0.529</td></tr>\n",
       "\t<tr><th scope=row>MSFT:GOOG</th><td> 0.461</td></tr>\n",
       "\t<tr><th scope=row>IBM:GOOG</th><td> 0.427</td></tr>\n",
       "\t<tr><th scope=row>AMZN:FB</th><td> 0.053</td></tr>\n",
       "\t<tr><th scope=row>IBM:AAPL</th><td>-0.011</td></tr>\n",
       "\t<tr><th scope=row>AAPL:FB</th><td>-0.027</td></tr>\n",
       "\t<tr><th scope=row>IBM:AMZN</th><td>-0.094</td></tr>\n",
       "\t<tr><th scope=row>MSFT:FB</th><td>-0.294</td></tr>\n",
       "\t<tr><th scope=row>IBM:MSFT</th><td>-0.418</td></tr>\n",
       "</tbody>\n",
       "</table>\n"
      ],
      "text/latex": [
       "A matrix: 15 × 1 of type dbl\n",
       "\\begin{tabular}{r|l}\n",
       "\tMSFT:AMZN &  0.873\\\\\n",
       "\tAAPL:AMZN &  0.840\\\\\n",
       "\tMSFT:AAPL &  0.787\\\\\n",
       "\tGOOG:AMZN &  0.660\\\\\n",
       "\tIBM:FB &  0.630\\\\\n",
       "\tGOOG:AAPL &  0.586\\\\\n",
       "\tGOOG:FB &  0.529\\\\\n",
       "\tMSFT:GOOG &  0.461\\\\\n",
       "\tIBM:GOOG &  0.427\\\\\n",
       "\tAMZN:FB &  0.053\\\\\n",
       "\tIBM:AAPL & -0.011\\\\\n",
       "\tAAPL:FB & -0.027\\\\\n",
       "\tIBM:AMZN & -0.094\\\\\n",
       "\tMSFT:FB & -0.294\\\\\n",
       "\tIBM:MSFT & -0.418\\\\\n",
       "\\end{tabular}\n"
      ],
      "text/markdown": [
       "\n",
       "A matrix: 15 × 1 of type dbl\n",
       "\n",
       "| MSFT:AMZN |  0.873 |\n",
       "| AAPL:AMZN |  0.840 |\n",
       "| MSFT:AAPL |  0.787 |\n",
       "| GOOG:AMZN |  0.660 |\n",
       "| IBM:FB |  0.630 |\n",
       "| GOOG:AAPL |  0.586 |\n",
       "| GOOG:FB |  0.529 |\n",
       "| MSFT:GOOG |  0.461 |\n",
       "| IBM:GOOG |  0.427 |\n",
       "| AMZN:FB |  0.053 |\n",
       "| IBM:AAPL | -0.011 |\n",
       "| AAPL:FB | -0.027 |\n",
       "| IBM:AMZN | -0.094 |\n",
       "| MSFT:FB | -0.294 |\n",
       "| IBM:MSFT | -0.418 |\n",
       "\n"
      ],
      "text/plain": [
       "          [,1]  \n",
       "MSFT:AMZN  0.873\n",
       "AAPL:AMZN  0.840\n",
       "MSFT:AAPL  0.787\n",
       "GOOG:AMZN  0.660\n",
       "IBM:FB     0.630\n",
       "GOOG:AAPL  0.586\n",
       "GOOG:FB    0.529\n",
       "MSFT:GOOG  0.461\n",
       "IBM:GOOG   0.427\n",
       "AMZN:FB    0.053\n",
       "IBM:AAPL  -0.011\n",
       "AAPL:FB   -0.027\n",
       "IBM:AMZN  -0.094\n",
       "MSFT:FB   -0.294\n",
       "IBM:MSFT  -0.418"
      ]
     },
     "metadata": {},
     "output_type": "display_data"
    }
   ],
   "source": [
    "#2)\n",
    "mydata2<-cor(mydata)\n",
    "mydata2<-round(mydata2,3)\n",
    "head(mydata2)\n",
    "x1<-mydata2[2,1]\n",
    "x2<-mydata2[3,1]\n",
    "x3<-mydata2[4,1]\n",
    "x4<-mydata2[5,1]\n",
    "x5<-mydata2[6,1]\n",
    "x6<-mydata2[3,2]\n",
    "x7<-mydata2[4,2]\n",
    "x8<-mydata2[5,2]\n",
    "x9<-mydata2[6,2]\n",
    "x10<-mydata2[4,3]\n",
    "x11<-mydata2[5,3]\n",
    "x12<-mydata2[6,3]\n",
    "x13<-mydata2[5,4]\n",
    "x14<-mydata2[6,4]\n",
    "x15<-mydata2[6,5]\n",
    "mydata3<-data.frame(x1,x2,x3,x4,x5,x6,x7,x8,x9,x10,x11,x12,x13,x14,x15)\n",
    "mydata3<-rename(mydata3,\"IBM:MSFT\"=x1,\"IBM:GOOG\"=x2,\"IBM:AAPL\"=x3,\"IBM:AMZN\"=x4,\"IBM:FB\"=x5,\"MSFT:GOOG\"=x6,\n",
    "       \"MSFT:AAPL\"=x7,\"MSFT:AMZN\"=x8,\"MSFT:FB\"=x9,\"GOOG:AAPL\"=x10,\"GOOG:AMZN\"=x11,\"GOOG:FB\"=x12,\n",
    "       \"AAPL:AMZN\"=x13,\"AAPL:FB\"=x14,\"AMZN:FB\"=x15)\n",
    "t(mydata3[order(mydata3,decreasing = TRUE)])"
   ]
  },
  {
   "cell_type": "code",
   "execution_count": 21,
   "metadata": {},
   "outputs": [
    {
     "name": "stderr",
     "output_type": "stream",
     "text": [
      "Warning message in read.table(file = file, header = header, sep = sep, quote = quote, :\n",
      "“incomplete final line found by readTableHeader on 'https://query1.finance.yahoo.com/v7/finance/download/IBM?period1=1514764800&period2=1546214400&interval=1d&events=div&crumb=a6jsHBSVizl'”\n"
     ]
    },
    {
     "data": {
      "text/plain": [
       "           IBM.div\n",
       "2018-02-08    1.50\n",
       "2018-05-09    1.57\n",
       "2018-08-09    1.57\n",
       "2018-11-08    1.57"
      ]
     },
     "metadata": {},
     "output_type": "display_data"
    }
   ],
   "source": [
    "getDividends(\"IBM\",from = \"2018-01-01\",to=\"2018-12-31\", src=read.csv(\"AAPL.csv\"))"
   ]
  },
  {
   "cell_type": "code",
   "execution_count": 23,
   "metadata": {},
   "outputs": [
    {
     "name": "stderr",
     "output_type": "stream",
     "text": [
      "Warning message in read.table(file = file, header = header, sep = sep, quote = quote, :\n",
      "“incomplete final line found by readTableHeader on 'https://query1.finance.yahoo.com/v7/finance/download/MSFT?period1=1514764800&period2=1546214400&interval=1d&events=div&crumb=a6jsHBSVizl'”\n"
     ]
    },
    {
     "data": {
      "text/plain": [
       "           MSFT.div\n",
       "2018-02-14     0.42\n",
       "2018-05-16     0.42\n",
       "2018-08-15     0.42\n",
       "2018-11-14     0.46"
      ]
     },
     "metadata": {},
     "output_type": "display_data"
    }
   ],
   "source": [
    "getDividends(\"MSFT\",from = \"2018-01-01\",to=\"2018-12-31\", src=read.csv(\"MSFT.csv\"))"
   ]
  },
  {
   "cell_type": "code",
   "execution_count": 24,
   "metadata": {},
   "outputs": [
    {
     "name": "stderr",
     "output_type": "stream",
     "text": [
      "Warning message in read.table(file = file, header = header, sep = sep, quote = quote, :\n",
      "“incomplete final line found by readTableHeader on 'https://query2.finance.yahoo.com/v7/finance/download/GOOG?period1=1514764800&period2=1546214400&interval=1d&events=div&crumb=a6jsHBSVizl'”\n",
      "Warning message in read.table(file = file, header = header, sep = sep, quote = quote, :\n",
      "“incomplete final line found by readTableHeader on 'https://query2.finance.yahoo.com/v7/finance/download/GOOG?period1=-2208988800&period2=1591920000&interval=1d&events=split&crumb=a6jsHBSVizl'”\n"
     ]
    },
    {
     "data": {
      "text/plain": [
       "     GOOG.div"
      ]
     },
     "metadata": {},
     "output_type": "display_data"
    }
   ],
   "source": [
    "getDividends(\"GOOG\",from = \"2018-01-01\",to=\"2018-12-31\", src=\"yahoo\")"
   ]
  },
  {
   "cell_type": "code",
   "execution_count": 25,
   "metadata": {},
   "outputs": [
    {
     "name": "stderr",
     "output_type": "stream",
     "text": [
      "Warning message in read.table(file = file, header = header, sep = sep, quote = quote, :\n",
      "“incomplete final line found by readTableHeader on 'https://query1.finance.yahoo.com/v7/finance/download/AAPL?period1=1514764800&period2=1546214400&interval=1d&events=div&crumb=a6jsHBSVizl'”\n",
      "Warning message in read.table(file = file, header = header, sep = sep, quote = quote, :\n",
      "“incomplete final line found by readTableHeader on 'https://query1.finance.yahoo.com/v7/finance/download/AAPL?period1=-2208988800&period2=1591920000&interval=1d&events=split&crumb=a6jsHBSVizl'”\n"
     ]
    },
    {
     "data": {
      "text/plain": [
       "           AAPL.div\n",
       "2018-02-09     0.63\n",
       "2018-05-11     0.73\n",
       "2018-08-10     0.73\n",
       "2018-11-08     0.73"
      ]
     },
     "metadata": {},
     "output_type": "display_data"
    }
   ],
   "source": [
    "getDividends(\"AAPL\",from = \"2018-01-01\",to=\"2018-12-31\", src=\"yahoo\")"
   ]
  },
  {
   "cell_type": "code",
   "execution_count": 38,
   "metadata": {},
   "outputs": [
    {
     "name": "stderr",
     "output_type": "stream",
     "text": [
      "Warning message in read.table(file = file, header = header, sep = sep, quote = quote, :\n",
      "“incomplete final line found by readTableHeader on 'https://query2.finance.yahoo.com/v7/finance/download/AMZN?period1=1514764800&period2=1546214400&interval=1d&events=div&crumb=G3oEUYEFhEf'”\n",
      "Warning message in read.table(file = file, header = header, sep = sep, quote = quote, :\n",
      "“incomplete final line found by readTableHeader on 'https://query1.finance.yahoo.com/v7/finance/download/AMZN?period1=-2208988800&period2=1591920000&interval=1d&events=split&crumb=G3oEUYEFhEf'”\n"
     ]
    },
    {
     "data": {
      "text/plain": [
       "     AMZN.div"
      ]
     },
     "metadata": {},
     "output_type": "display_data"
    }
   ],
   "source": [
    "getDividends(\"AMZN\",from = \"2018-01-01\",to=\"2018-12-31\", src=\"yahoo\")"
   ]
  },
  {
   "cell_type": "code",
   "execution_count": 39,
   "metadata": {},
   "outputs": [
    {
     "name": "stderr",
     "output_type": "stream",
     "text": [
      "Warning message in read.table(file = file, header = header, sep = sep, quote = quote, :\n",
      "“incomplete final line found by readTableHeader on 'https://query2.finance.yahoo.com/v7/finance/download/FB?period1=1514764800&period2=1546214400&interval=1d&events=div&crumb=G3oEUYEFhEf'”\n",
      "Warning message in read.table(file = file, header = header, sep = sep, quote = quote, :\n",
      "“incomplete final line found by readTableHeader on 'https://query1.finance.yahoo.com/v7/finance/download/FB?period1=-2208988800&period2=1591920000&interval=1d&events=split&crumb=G3oEUYEFhEf'”\n"
     ]
    },
    {
     "data": {
      "text/plain": [
       "     FB.div"
      ]
     },
     "metadata": {},
     "output_type": "display_data"
    }
   ],
   "source": [
    "getDividends(\"FB\",from = \"2018-01-01\",to=\"2018-12-31\", src=\"yahoo\")"
   ]
  }
 ],
 "metadata": {
  "kernelspec": {
   "display_name": "R",
   "language": "R",
   "name": "ir"
  },
  "language_info": {
   "codemirror_mode": "r",
   "file_extension": ".r",
   "mimetype": "text/x-r-source",
   "name": "R",
   "pygments_lexer": "r",
   "version": "3.6.1"
  }
 },
 "nbformat": 4,
 "nbformat_minor": 4
}
