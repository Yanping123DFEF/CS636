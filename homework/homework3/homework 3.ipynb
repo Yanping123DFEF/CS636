{
 "cells": [
  {
   "cell_type": "code",
   "execution_count": 21,
   "metadata": {},
   "outputs": [
    {
     "data": {
      "text/html": [
       "0.682689492137086"
      ],
      "text/latex": [
       "0.682689492137086"
      ],
      "text/markdown": [
       "0.682689492137086"
      ],
      "text/plain": [
       "[1] 0.6826895"
      ]
     },
     "metadata": {},
     "output_type": "display_data"
    },
    {
     "data": {
      "text/html": [
       "0.954499736103642"
      ],
      "text/latex": [
       "0.954499736103642"
      ],
      "text/markdown": [
       "0.954499736103642"
      ],
      "text/plain": [
       "[1] 0.9544997"
      ]
     },
     "metadata": {},
     "output_type": "display_data"
    },
    {
     "data": {
      "text/html": [
       "0.99730020393674"
      ],
      "text/latex": [
       "0.99730020393674"
      ],
      "text/markdown": [
       "0.99730020393674"
      ],
      "text/plain": [
       "[1] 0.9973002"
      ]
     },
     "metadata": {},
     "output_type": "display_data"
    },
    {
     "data": {
      "text/html": [
       "0.999999998026825"
      ],
      "text/latex": [
       "0.999999998026825"
      ],
      "text/markdown": [
       "0.999999998026825"
      ],
      "text/plain": [
       "[1] 1"
      ]
     },
     "metadata": {},
     "output_type": "display_data"
    },
    {
     "data": {
      "text/html": [
       "0.99999664831086"
      ],
      "text/latex": [
       "0.99999664831086"
      ],
      "text/markdown": [
       "0.99999664831086"
      ],
      "text/plain": [
       "[1] 0.9999966"
      ]
     },
     "metadata": {},
     "output_type": "display_data"
    }
   ],
   "source": [
    "#problem 1.1\n",
    "#within 1 standard deviation\n",
    "pnorm(1, lower.tail = TRUE) - pnorm(-1, lower.tail = TRUE)\n",
    "#within 2 standard deviation\n",
    "pnorm(2, lower.tail = TRUE) - pnorm(-2, lower.tail = TRUE)\n",
    "#within 3 standard deviation\n",
    "pnorm(3, lower.tail = TRUE) - pnorm(-3, lower.tail = TRUE)\n",
    "\n",
    "#problem 1.2\n",
    "pnorm(6, lower.tail = TRUE) - pnorm(-6, lower.tail = TRUE)\n",
    "# within the 6 standard deviation, the result is not the paobability 99.999966%.\n",
    "pnorm(4.648, lower.tail = TRUE) - pnorm(-4.648, lower.tail = TRUE)\n",
    "#within the 4.648 standard deviation ,the result is approxmately 99.99966%."
   ]
  },
  {
   "cell_type": "code",
   "execution_count": 30,
   "metadata": {},
   "outputs": [
    {
     "data": {
      "text/html": [
       "0.633967658726771"
      ],
      "text/latex": [
       "0.633967658726771"
      ],
      "text/markdown": [
       "0.633967658726771"
      ],
      "text/plain": [
       "[1] 0.6339677"
      ]
     },
     "metadata": {},
     "output_type": "display_data"
    },
    {
     "data": {
      "text/html": [
       "0.63396765872677"
      ],
      "text/latex": [
       "0.63396765872677"
      ],
      "text/markdown": [
       "0.63396765872677"
      ],
      "text/plain": [
       "[1] 0.6339677"
      ]
     },
     "metadata": {},
     "output_type": "display_data"
    },
    {
     "data": {
      "text/plain": [
       "\n",
       " 0  1 \n",
       "65 35 "
      ]
     },
     "metadata": {},
     "output_type": "display_data"
    },
    {
     "data": {
      "text/html": [
       "230"
      ],
      "text/latex": [
       "230"
      ],
      "text/markdown": [
       "230"
      ],
      "text/plain": [
       "[1] 230"
      ]
     },
     "metadata": {},
     "output_type": "display_data"
    }
   ],
   "source": [
    "#problem 2.1\n",
    "1-0.99^100\n",
    "#problem 2.2\n",
    "1-pbinom(0,100,0.01)\n",
    "#problem 2.3\n",
    "x1<-(1-0.99^100)\n",
    "x2<-(0.99^100)\n",
    "table(sample(0:1,size=100,replace=TRUE,prob=c(x1,x2)))\n",
    "#using the sampling function,we estimate the answer is 0.65,Approximating the result of mathematical expression\n",
    "#problem 2.4\n",
    "p(zero job offer)<-1-0.9(at least one job offer)\n",
    "n<-log(0.1)/log(0.99)\n",
    "ceiling(n)\n"
   ]
  },
  {
   "cell_type": "code",
   "execution_count": 5,
   "metadata": {},
   "outputs": [
    {
     "data": {
      "text/html": [
       "1.36423206065217e-10"
      ],
      "text/latex": [
       "1.36423206065217e-10"
      ],
      "text/markdown": [
       "1.36423206065217e-10"
      ],
      "text/plain": [
       "[1] 1.364232e-10"
      ]
     },
     "metadata": {},
     "output_type": "display_data"
    },
    {
     "data": {
      "text/html": [
       "1.90878646222359e-10"
      ],
      "text/latex": [
       "1.90878646222359e-10"
      ],
      "text/markdown": [
       "1.90878646222359e-10"
      ],
      "text/plain": [
       "[1] 1.908786e-10"
      ]
     },
     "metadata": {},
     "output_type": "display_data"
    }
   ],
   "source": [
    "#problem 3.1\n",
    "1-pbinom(599,1000,0.5)\n",
    "#problem 3.2\n",
    "1-pnorm(599,mean=500,sd=sqrt(250))"
   ]
  }
 ],
 "metadata": {
  "kernelspec": {
   "display_name": "R",
   "language": "R",
   "name": "ir"
  },
  "language_info": {
   "codemirror_mode": "r",
   "file_extension": ".r",
   "mimetype": "text/x-r-source",
   "name": "R",
   "pygments_lexer": "r",
   "version": "3.6.1"
  }
 },
 "nbformat": 4,
 "nbformat_minor": 4
}
