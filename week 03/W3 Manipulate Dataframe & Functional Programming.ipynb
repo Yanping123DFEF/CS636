{
 "cells": [
  {
   "cell_type": "markdown",
   "metadata": {},
   "source": [
    "## Manipulate Dataframe"
   ]
  },
  {
   "cell_type": "code",
   "execution_count": 18,
   "metadata": {
    "scrolled": true
   },
   "outputs": [
    {
     "name": "stderr",
     "output_type": "stream",
     "text": [
      "\n",
      "Attaching package: ‘dplyr’\n",
      "\n",
      "\n",
      "The following objects are masked from ‘package:stats’:\n",
      "\n",
      "    filter, lag\n",
      "\n",
      "\n",
      "The following objects are masked from ‘package:base’:\n",
      "\n",
      "    intersect, setdiff, setequal, union\n",
      "\n",
      "\n"
     ]
    }
   ],
   "source": [
    "library(dplyr) #warning shows name conflict with other libs"
   ]
  },
  {
   "cell_type": "code",
   "execution_count": 2,
   "metadata": {
    "scrolled": false
   },
   "outputs": [
    {
     "data": {
      "text/html": [
       "<table>\n",
       "<caption>A data.frame: 6 × 11</caption>\n",
       "<thead>\n",
       "\t<tr><th></th><th scope=col>mpg</th><th scope=col>cyl</th><th scope=col>disp</th><th scope=col>hp</th><th scope=col>drat</th><th scope=col>wt</th><th scope=col>qsec</th><th scope=col>vs</th><th scope=col>am</th><th scope=col>gear</th><th scope=col>carb</th></tr>\n",
       "\t<tr><th></th><th scope=col>&lt;dbl&gt;</th><th scope=col>&lt;dbl&gt;</th><th scope=col>&lt;dbl&gt;</th><th scope=col>&lt;dbl&gt;</th><th scope=col>&lt;dbl&gt;</th><th scope=col>&lt;dbl&gt;</th><th scope=col>&lt;dbl&gt;</th><th scope=col>&lt;dbl&gt;</th><th scope=col>&lt;dbl&gt;</th><th scope=col>&lt;dbl&gt;</th><th scope=col>&lt;dbl&gt;</th></tr>\n",
       "</thead>\n",
       "<tbody>\n",
       "\t<tr><th scope=row>Mazda RX4</th><td>21.0</td><td>6</td><td>160</td><td>110</td><td>3.90</td><td>2.620</td><td>16.46</td><td>0</td><td>1</td><td>4</td><td>4</td></tr>\n",
       "\t<tr><th scope=row>Mazda RX4 Wag</th><td>21.0</td><td>6</td><td>160</td><td>110</td><td>3.90</td><td>2.875</td><td>17.02</td><td>0</td><td>1</td><td>4</td><td>4</td></tr>\n",
       "\t<tr><th scope=row>Datsun 710</th><td>22.8</td><td>4</td><td>108</td><td> 93</td><td>3.85</td><td>2.320</td><td>18.61</td><td>1</td><td>1</td><td>4</td><td>1</td></tr>\n",
       "\t<tr><th scope=row>Hornet 4 Drive</th><td>21.4</td><td>6</td><td>258</td><td>110</td><td>3.08</td><td>3.215</td><td>19.44</td><td>1</td><td>0</td><td>3</td><td>1</td></tr>\n",
       "\t<tr><th scope=row>Hornet Sportabout</th><td>18.7</td><td>8</td><td>360</td><td>175</td><td>3.15</td><td>3.440</td><td>17.02</td><td>0</td><td>0</td><td>3</td><td>2</td></tr>\n",
       "\t<tr><th scope=row>Valiant</th><td>18.1</td><td>6</td><td>225</td><td>105</td><td>2.76</td><td>3.460</td><td>20.22</td><td>1</td><td>0</td><td>3</td><td>1</td></tr>\n",
       "</tbody>\n",
       "</table>\n"
      ],
      "text/latex": [
       "A data.frame: 6 × 11\n",
       "\\begin{tabular}{r|lllllllllll}\n",
       "  & mpg & cyl & disp & hp & drat & wt & qsec & vs & am & gear & carb\\\\\n",
       "  & <dbl> & <dbl> & <dbl> & <dbl> & <dbl> & <dbl> & <dbl> & <dbl> & <dbl> & <dbl> & <dbl>\\\\\n",
       "\\hline\n",
       "\tMazda RX4 & 21.0 & 6 & 160 & 110 & 3.90 & 2.620 & 16.46 & 0 & 1 & 4 & 4\\\\\n",
       "\tMazda RX4 Wag & 21.0 & 6 & 160 & 110 & 3.90 & 2.875 & 17.02 & 0 & 1 & 4 & 4\\\\\n",
       "\tDatsun 710 & 22.8 & 4 & 108 &  93 & 3.85 & 2.320 & 18.61 & 1 & 1 & 4 & 1\\\\\n",
       "\tHornet 4 Drive & 21.4 & 6 & 258 & 110 & 3.08 & 3.215 & 19.44 & 1 & 0 & 3 & 1\\\\\n",
       "\tHornet Sportabout & 18.7 & 8 & 360 & 175 & 3.15 & 3.440 & 17.02 & 0 & 0 & 3 & 2\\\\\n",
       "\tValiant & 18.1 & 6 & 225 & 105 & 2.76 & 3.460 & 20.22 & 1 & 0 & 3 & 1\\\\\n",
       "\\end{tabular}\n"
      ],
      "text/markdown": [
       "\n",
       "A data.frame: 6 × 11\n",
       "\n",
       "| <!--/--> | mpg &lt;dbl&gt; | cyl &lt;dbl&gt; | disp &lt;dbl&gt; | hp &lt;dbl&gt; | drat &lt;dbl&gt; | wt &lt;dbl&gt; | qsec &lt;dbl&gt; | vs &lt;dbl&gt; | am &lt;dbl&gt; | gear &lt;dbl&gt; | carb &lt;dbl&gt; |\n",
       "|---|---|---|---|---|---|---|---|---|---|---|---|\n",
       "| Mazda RX4 | 21.0 | 6 | 160 | 110 | 3.90 | 2.620 | 16.46 | 0 | 1 | 4 | 4 |\n",
       "| Mazda RX4 Wag | 21.0 | 6 | 160 | 110 | 3.90 | 2.875 | 17.02 | 0 | 1 | 4 | 4 |\n",
       "| Datsun 710 | 22.8 | 4 | 108 |  93 | 3.85 | 2.320 | 18.61 | 1 | 1 | 4 | 1 |\n",
       "| Hornet 4 Drive | 21.4 | 6 | 258 | 110 | 3.08 | 3.215 | 19.44 | 1 | 0 | 3 | 1 |\n",
       "| Hornet Sportabout | 18.7 | 8 | 360 | 175 | 3.15 | 3.440 | 17.02 | 0 | 0 | 3 | 2 |\n",
       "| Valiant | 18.1 | 6 | 225 | 105 | 2.76 | 3.460 | 20.22 | 1 | 0 | 3 | 1 |\n",
       "\n"
      ],
      "text/plain": [
       "                  mpg  cyl disp hp  drat wt    qsec  vs am gear carb\n",
       "Mazda RX4         21.0 6   160  110 3.90 2.620 16.46 0  1  4    4   \n",
       "Mazda RX4 Wag     21.0 6   160  110 3.90 2.875 17.02 0  1  4    4   \n",
       "Datsun 710        22.8 4   108   93 3.85 2.320 18.61 1  1  4    1   \n",
       "Hornet 4 Drive    21.4 6   258  110 3.08 3.215 19.44 1  0  3    1   \n",
       "Hornet Sportabout 18.7 8   360  175 3.15 3.440 17.02 0  0  3    2   \n",
       "Valiant           18.1 6   225  105 2.76 3.460 20.22 1  0  3    1   "
      ]
     },
     "metadata": {},
     "output_type": "display_data"
    }
   ],
   "source": [
    "head(mtcars)"
   ]
  },
  {
   "cell_type": "code",
   "execution_count": 9,
   "metadata": {},
   "outputs": [
    {
     "data": {
      "text/html": [
       "6"
      ],
      "text/latex": [
       "6"
      ],
      "text/markdown": [
       "6"
      ],
      "text/plain": [
       "[1] 6"
      ]
     },
     "metadata": {},
     "output_type": "display_data"
    }
   ],
   "source": [
    "mtcars[1, 2] #by index"
   ]
  },
  {
   "cell_type": "code",
   "execution_count": 4,
   "metadata": {
    "scrolled": true
   },
   "outputs": [
    {
     "data": {
      "text/html": [
       "6"
      ],
      "text/latex": [
       "6"
      ],
      "text/markdown": [
       "6"
      ],
      "text/plain": [
       "[1] 6"
      ]
     },
     "metadata": {},
     "output_type": "display_data"
    }
   ],
   "source": [
    "mtcars[\"Mazda RX4\", \"cyl\"]  #by name"
   ]
  },
  {
   "cell_type": "code",
   "execution_count": 5,
   "metadata": {
    "scrolled": false
   },
   "outputs": [
    {
     "data": {
      "text/html": [
       "32"
      ],
      "text/latex": [
       "32"
      ],
      "text/markdown": [
       "32"
      ],
      "text/plain": [
       "[1] 32"
      ]
     },
     "metadata": {},
     "output_type": "display_data"
    },
    {
     "data": {
      "text/html": [
       "11"
      ],
      "text/latex": [
       "11"
      ],
      "text/markdown": [
       "11"
      ],
      "text/plain": [
       "[1] 11"
      ]
     },
     "metadata": {},
     "output_type": "display_data"
    }
   ],
   "source": [
    "nrow(mtcars) # number of data rows \n",
    "ncol(mtcars) # number of columns"
   ]
  },
  {
   "cell_type": "markdown",
   "metadata": {},
   "source": [
    "### Access column as vector"
   ]
  },
  {
   "cell_type": "code",
   "execution_count": 6,
   "metadata": {
    "code_folding": [],
    "scrolled": true
   },
   "outputs": [
    {
     "data": {
      "text/html": [
       "<ol class=list-inline>\n",
       "\t<li>21</li>\n",
       "\t<li>21</li>\n",
       "\t<li>22.8</li>\n",
       "\t<li>21.4</li>\n",
       "\t<li>18.7</li>\n",
       "\t<li>18.1</li>\n",
       "\t<li>14.3</li>\n",
       "\t<li>24.4</li>\n",
       "\t<li>22.8</li>\n",
       "\t<li>19.2</li>\n",
       "\t<li>17.8</li>\n",
       "\t<li>16.4</li>\n",
       "\t<li>17.3</li>\n",
       "\t<li>15.2</li>\n",
       "\t<li>10.4</li>\n",
       "\t<li>10.4</li>\n",
       "\t<li>14.7</li>\n",
       "\t<li>32.4</li>\n",
       "\t<li>30.4</li>\n",
       "\t<li>33.9</li>\n",
       "\t<li>21.5</li>\n",
       "\t<li>15.5</li>\n",
       "\t<li>15.2</li>\n",
       "\t<li>13.3</li>\n",
       "\t<li>19.2</li>\n",
       "\t<li>27.3</li>\n",
       "\t<li>26</li>\n",
       "\t<li>30.4</li>\n",
       "\t<li>15.8</li>\n",
       "\t<li>19.7</li>\n",
       "\t<li>15</li>\n",
       "\t<li>21.4</li>\n",
       "</ol>\n"
      ],
      "text/latex": [
       "\\begin{enumerate*}\n",
       "\\item 21\n",
       "\\item 21\n",
       "\\item 22.8\n",
       "\\item 21.4\n",
       "\\item 18.7\n",
       "\\item 18.1\n",
       "\\item 14.3\n",
       "\\item 24.4\n",
       "\\item 22.8\n",
       "\\item 19.2\n",
       "\\item 17.8\n",
       "\\item 16.4\n",
       "\\item 17.3\n",
       "\\item 15.2\n",
       "\\item 10.4\n",
       "\\item 10.4\n",
       "\\item 14.7\n",
       "\\item 32.4\n",
       "\\item 30.4\n",
       "\\item 33.9\n",
       "\\item 21.5\n",
       "\\item 15.5\n",
       "\\item 15.2\n",
       "\\item 13.3\n",
       "\\item 19.2\n",
       "\\item 27.3\n",
       "\\item 26\n",
       "\\item 30.4\n",
       "\\item 15.8\n",
       "\\item 19.7\n",
       "\\item 15\n",
       "\\item 21.4\n",
       "\\end{enumerate*}\n"
      ],
      "text/markdown": [
       "1. 21\n",
       "2. 21\n",
       "3. 22.8\n",
       "4. 21.4\n",
       "5. 18.7\n",
       "6. 18.1\n",
       "7. 14.3\n",
       "8. 24.4\n",
       "9. 22.8\n",
       "10. 19.2\n",
       "11. 17.8\n",
       "12. 16.4\n",
       "13. 17.3\n",
       "14. 15.2\n",
       "15. 10.4\n",
       "16. 10.4\n",
       "17. 14.7\n",
       "18. 32.4\n",
       "19. 30.4\n",
       "20. 33.9\n",
       "21. 21.5\n",
       "22. 15.5\n",
       "23. 15.2\n",
       "24. 13.3\n",
       "25. 19.2\n",
       "26. 27.3\n",
       "27. 26\n",
       "28. 30.4\n",
       "29. 15.8\n",
       "30. 19.7\n",
       "31. 15\n",
       "32. 21.4\n",
       "\n",
       "\n"
      ],
      "text/plain": [
       " [1] 21.0 21.0 22.8 21.4 18.7 18.1 14.3 24.4 22.8 19.2 17.8 16.4 17.3 15.2 10.4\n",
       "[16] 10.4 14.7 32.4 30.4 33.9 21.5 15.5 15.2 13.3 19.2 27.3 26.0 30.4 15.8 19.7\n",
       "[31] 15.0 21.4"
      ]
     },
     "metadata": {},
     "output_type": "display_data"
    }
   ],
   "source": [
    "mtcars[[1]] #dataframe is just a list of vectors"
   ]
  },
  {
   "cell_type": "code",
   "execution_count": 7,
   "metadata": {
    "scrolled": true
   },
   "outputs": [
    {
     "data": {
      "text/html": [
       "<ol class=list-inline>\n",
       "\t<li>21</li>\n",
       "\t<li>21</li>\n",
       "\t<li>22.8</li>\n",
       "\t<li>21.4</li>\n",
       "\t<li>18.7</li>\n",
       "\t<li>18.1</li>\n",
       "\t<li>14.3</li>\n",
       "\t<li>24.4</li>\n",
       "\t<li>22.8</li>\n",
       "\t<li>19.2</li>\n",
       "\t<li>17.8</li>\n",
       "\t<li>16.4</li>\n",
       "\t<li>17.3</li>\n",
       "\t<li>15.2</li>\n",
       "\t<li>10.4</li>\n",
       "\t<li>10.4</li>\n",
       "\t<li>14.7</li>\n",
       "\t<li>32.4</li>\n",
       "\t<li>30.4</li>\n",
       "\t<li>33.9</li>\n",
       "\t<li>21.5</li>\n",
       "\t<li>15.5</li>\n",
       "\t<li>15.2</li>\n",
       "\t<li>13.3</li>\n",
       "\t<li>19.2</li>\n",
       "\t<li>27.3</li>\n",
       "\t<li>26</li>\n",
       "\t<li>30.4</li>\n",
       "\t<li>15.8</li>\n",
       "\t<li>19.7</li>\n",
       "\t<li>15</li>\n",
       "\t<li>21.4</li>\n",
       "</ol>\n"
      ],
      "text/latex": [
       "\\begin{enumerate*}\n",
       "\\item 21\n",
       "\\item 21\n",
       "\\item 22.8\n",
       "\\item 21.4\n",
       "\\item 18.7\n",
       "\\item 18.1\n",
       "\\item 14.3\n",
       "\\item 24.4\n",
       "\\item 22.8\n",
       "\\item 19.2\n",
       "\\item 17.8\n",
       "\\item 16.4\n",
       "\\item 17.3\n",
       "\\item 15.2\n",
       "\\item 10.4\n",
       "\\item 10.4\n",
       "\\item 14.7\n",
       "\\item 32.4\n",
       "\\item 30.4\n",
       "\\item 33.9\n",
       "\\item 21.5\n",
       "\\item 15.5\n",
       "\\item 15.2\n",
       "\\item 13.3\n",
       "\\item 19.2\n",
       "\\item 27.3\n",
       "\\item 26\n",
       "\\item 30.4\n",
       "\\item 15.8\n",
       "\\item 19.7\n",
       "\\item 15\n",
       "\\item 21.4\n",
       "\\end{enumerate*}\n"
      ],
      "text/markdown": [
       "1. 21\n",
       "2. 21\n",
       "3. 22.8\n",
       "4. 21.4\n",
       "5. 18.7\n",
       "6. 18.1\n",
       "7. 14.3\n",
       "8. 24.4\n",
       "9. 22.8\n",
       "10. 19.2\n",
       "11. 17.8\n",
       "12. 16.4\n",
       "13. 17.3\n",
       "14. 15.2\n",
       "15. 10.4\n",
       "16. 10.4\n",
       "17. 14.7\n",
       "18. 32.4\n",
       "19. 30.4\n",
       "20. 33.9\n",
       "21. 21.5\n",
       "22. 15.5\n",
       "23. 15.2\n",
       "24. 13.3\n",
       "25. 19.2\n",
       "26. 27.3\n",
       "27. 26\n",
       "28. 30.4\n",
       "29. 15.8\n",
       "30. 19.7\n",
       "31. 15\n",
       "32. 21.4\n",
       "\n",
       "\n"
      ],
      "text/plain": [
       " [1] 21.0 21.0 22.8 21.4 18.7 18.1 14.3 24.4 22.8 19.2 17.8 16.4 17.3 15.2 10.4\n",
       "[16] 10.4 14.7 32.4 30.4 33.9 21.5 15.5 15.2 13.3 19.2 27.3 26.0 30.4 15.8 19.7\n",
       "[31] 15.0 21.4"
      ]
     },
     "metadata": {},
     "output_type": "display_data"
    }
   ],
   "source": [
    "mtcars[[\"mpg\"]] "
   ]
  },
  {
   "cell_type": "code",
   "execution_count": 3,
   "metadata": {
    "scrolled": true
   },
   "outputs": [
    {
     "data": {
      "text/html": [
       "<style>\n",
       ".list-inline {list-style: none; margin:0; padding: 0}\n",
       ".list-inline>li {display: inline-block}\n",
       ".list-inline>li:not(:last-child)::after {content: \"\\00b7\"; padding: 0 .5ex}\n",
       "</style>\n",
       "<ol class=list-inline><li>21</li><li>21</li><li>22.8</li><li>21.4</li><li>18.7</li><li>18.1</li><li>14.3</li><li>24.4</li><li>22.8</li><li>19.2</li><li>17.8</li><li>16.4</li><li>17.3</li><li>15.2</li><li>10.4</li><li>10.4</li><li>14.7</li><li>32.4</li><li>30.4</li><li>33.9</li><li>21.5</li><li>15.5</li><li>15.2</li><li>13.3</li><li>19.2</li><li>27.3</li><li>26</li><li>30.4</li><li>15.8</li><li>19.7</li><li>15</li><li>21.4</li></ol>\n"
      ],
      "text/latex": [
       "\\begin{enumerate*}\n",
       "\\item 21\n",
       "\\item 21\n",
       "\\item 22.8\n",
       "\\item 21.4\n",
       "\\item 18.7\n",
       "\\item 18.1\n",
       "\\item 14.3\n",
       "\\item 24.4\n",
       "\\item 22.8\n",
       "\\item 19.2\n",
       "\\item 17.8\n",
       "\\item 16.4\n",
       "\\item 17.3\n",
       "\\item 15.2\n",
       "\\item 10.4\n",
       "\\item 10.4\n",
       "\\item 14.7\n",
       "\\item 32.4\n",
       "\\item 30.4\n",
       "\\item 33.9\n",
       "\\item 21.5\n",
       "\\item 15.5\n",
       "\\item 15.2\n",
       "\\item 13.3\n",
       "\\item 19.2\n",
       "\\item 27.3\n",
       "\\item 26\n",
       "\\item 30.4\n",
       "\\item 15.8\n",
       "\\item 19.7\n",
       "\\item 15\n",
       "\\item 21.4\n",
       "\\end{enumerate*}\n"
      ],
      "text/markdown": [
       "1. 21\n",
       "2. 21\n",
       "3. 22.8\n",
       "4. 21.4\n",
       "5. 18.7\n",
       "6. 18.1\n",
       "7. 14.3\n",
       "8. 24.4\n",
       "9. 22.8\n",
       "10. 19.2\n",
       "11. 17.8\n",
       "12. 16.4\n",
       "13. 17.3\n",
       "14. 15.2\n",
       "15. 10.4\n",
       "16. 10.4\n",
       "17. 14.7\n",
       "18. 32.4\n",
       "19. 30.4\n",
       "20. 33.9\n",
       "21. 21.5\n",
       "22. 15.5\n",
       "23. 15.2\n",
       "24. 13.3\n",
       "25. 19.2\n",
       "26. 27.3\n",
       "27. 26\n",
       "28. 30.4\n",
       "29. 15.8\n",
       "30. 19.7\n",
       "31. 15\n",
       "32. 21.4\n",
       "\n",
       "\n"
      ],
      "text/plain": [
       " [1] 21.0 21.0 22.8 21.4 18.7 18.1 14.3 24.4 22.8 19.2 17.8 16.4 17.3 15.2 10.4\n",
       "[16] 10.4 14.7 32.4 30.4 33.9 21.5 15.5 15.2 13.3 19.2 27.3 26.0 30.4 15.8 19.7\n",
       "[31] 15.0 21.4"
      ]
     },
     "metadata": {},
     "output_type": "display_data"
    }
   ],
   "source": [
    "mtcars$mpg"
   ]
  },
  {
   "cell_type": "code",
   "execution_count": 9,
   "metadata": {
    "scrolled": false
   },
   "outputs": [
    {
     "data": {
      "text/html": [
       "<ol class=list-inline>\n",
       "\t<li>21</li>\n",
       "\t<li>21</li>\n",
       "\t<li>22.8</li>\n",
       "\t<li>21.4</li>\n",
       "\t<li>18.7</li>\n",
       "\t<li>18.1</li>\n",
       "\t<li>14.3</li>\n",
       "\t<li>24.4</li>\n",
       "\t<li>22.8</li>\n",
       "\t<li>19.2</li>\n",
       "\t<li>17.8</li>\n",
       "\t<li>16.4</li>\n",
       "\t<li>17.3</li>\n",
       "\t<li>15.2</li>\n",
       "\t<li>10.4</li>\n",
       "\t<li>10.4</li>\n",
       "\t<li>14.7</li>\n",
       "\t<li>32.4</li>\n",
       "\t<li>30.4</li>\n",
       "\t<li>33.9</li>\n",
       "\t<li>21.5</li>\n",
       "\t<li>15.5</li>\n",
       "\t<li>15.2</li>\n",
       "\t<li>13.3</li>\n",
       "\t<li>19.2</li>\n",
       "\t<li>27.3</li>\n",
       "\t<li>26</li>\n",
       "\t<li>30.4</li>\n",
       "\t<li>15.8</li>\n",
       "\t<li>19.7</li>\n",
       "\t<li>15</li>\n",
       "\t<li>21.4</li>\n",
       "</ol>\n"
      ],
      "text/latex": [
       "\\begin{enumerate*}\n",
       "\\item 21\n",
       "\\item 21\n",
       "\\item 22.8\n",
       "\\item 21.4\n",
       "\\item 18.7\n",
       "\\item 18.1\n",
       "\\item 14.3\n",
       "\\item 24.4\n",
       "\\item 22.8\n",
       "\\item 19.2\n",
       "\\item 17.8\n",
       "\\item 16.4\n",
       "\\item 17.3\n",
       "\\item 15.2\n",
       "\\item 10.4\n",
       "\\item 10.4\n",
       "\\item 14.7\n",
       "\\item 32.4\n",
       "\\item 30.4\n",
       "\\item 33.9\n",
       "\\item 21.5\n",
       "\\item 15.5\n",
       "\\item 15.2\n",
       "\\item 13.3\n",
       "\\item 19.2\n",
       "\\item 27.3\n",
       "\\item 26\n",
       "\\item 30.4\n",
       "\\item 15.8\n",
       "\\item 19.7\n",
       "\\item 15\n",
       "\\item 21.4\n",
       "\\end{enumerate*}\n"
      ],
      "text/markdown": [
       "1. 21\n",
       "2. 21\n",
       "3. 22.8\n",
       "4. 21.4\n",
       "5. 18.7\n",
       "6. 18.1\n",
       "7. 14.3\n",
       "8. 24.4\n",
       "9. 22.8\n",
       "10. 19.2\n",
       "11. 17.8\n",
       "12. 16.4\n",
       "13. 17.3\n",
       "14. 15.2\n",
       "15. 10.4\n",
       "16. 10.4\n",
       "17. 14.7\n",
       "18. 32.4\n",
       "19. 30.4\n",
       "20. 33.9\n",
       "21. 21.5\n",
       "22. 15.5\n",
       "23. 15.2\n",
       "24. 13.3\n",
       "25. 19.2\n",
       "26. 27.3\n",
       "27. 26\n",
       "28. 30.4\n",
       "29. 15.8\n",
       "30. 19.7\n",
       "31. 15\n",
       "32. 21.4\n",
       "\n",
       "\n"
      ],
      "text/plain": [
       " [1] 21.0 21.0 22.8 21.4 18.7 18.1 14.3 24.4 22.8 19.2 17.8 16.4 17.3 15.2 10.4\n",
       "[16] 10.4 14.7 32.4 30.4 33.9 21.5 15.5 15.2 13.3 19.2 27.3 26.0 30.4 15.8 19.7\n",
       "[31] 15.0 21.4"
      ]
     },
     "metadata": {},
     "output_type": "display_data"
    }
   ],
   "source": [
    "mtcars[, 'mpg']"
   ]
  },
  {
   "cell_type": "markdown",
   "metadata": {},
   "source": [
    "### Access column as dataframe"
   ]
  },
  {
   "cell_type": "code",
   "execution_count": 10,
   "metadata": {
    "scrolled": true
   },
   "outputs": [
    {
     "data": {
      "text/html": [
       "<table>\n",
       "<thead><tr><th></th><th scope=col>mpg</th></tr></thead>\n",
       "<tbody>\n",
       "\t<tr><th scope=row>Mazda RX4</th><td>21.0</td></tr>\n",
       "\t<tr><th scope=row>Mazda RX4 Wag</th><td>21.0</td></tr>\n",
       "\t<tr><th scope=row>Datsun 710</th><td>22.8</td></tr>\n",
       "\t<tr><th scope=row>Hornet 4 Drive</th><td>21.4</td></tr>\n",
       "\t<tr><th scope=row>Hornet Sportabout</th><td>18.7</td></tr>\n",
       "\t<tr><th scope=row>Valiant</th><td>18.1</td></tr>\n",
       "\t<tr><th scope=row>Duster 360</th><td>14.3</td></tr>\n",
       "\t<tr><th scope=row>Merc 240D</th><td>24.4</td></tr>\n",
       "\t<tr><th scope=row>Merc 230</th><td>22.8</td></tr>\n",
       "\t<tr><th scope=row>Merc 280</th><td>19.2</td></tr>\n",
       "\t<tr><th scope=row>Merc 280C</th><td>17.8</td></tr>\n",
       "\t<tr><th scope=row>Merc 450SE</th><td>16.4</td></tr>\n",
       "\t<tr><th scope=row>Merc 450SL</th><td>17.3</td></tr>\n",
       "\t<tr><th scope=row>Merc 450SLC</th><td>15.2</td></tr>\n",
       "\t<tr><th scope=row>Cadillac Fleetwood</th><td>10.4</td></tr>\n",
       "\t<tr><th scope=row>Lincoln Continental</th><td>10.4</td></tr>\n",
       "\t<tr><th scope=row>Chrysler Imperial</th><td>14.7</td></tr>\n",
       "\t<tr><th scope=row>Fiat 128</th><td>32.4</td></tr>\n",
       "\t<tr><th scope=row>Honda Civic</th><td>30.4</td></tr>\n",
       "\t<tr><th scope=row>Toyota Corolla</th><td>33.9</td></tr>\n",
       "\t<tr><th scope=row>Toyota Corona</th><td>21.5</td></tr>\n",
       "\t<tr><th scope=row>Dodge Challenger</th><td>15.5</td></tr>\n",
       "\t<tr><th scope=row>AMC Javelin</th><td>15.2</td></tr>\n",
       "\t<tr><th scope=row>Camaro Z28</th><td>13.3</td></tr>\n",
       "\t<tr><th scope=row>Pontiac Firebird</th><td>19.2</td></tr>\n",
       "\t<tr><th scope=row>Fiat X1-9</th><td>27.3</td></tr>\n",
       "\t<tr><th scope=row>Porsche 914-2</th><td>26.0</td></tr>\n",
       "\t<tr><th scope=row>Lotus Europa</th><td>30.4</td></tr>\n",
       "\t<tr><th scope=row>Ford Pantera L</th><td>15.8</td></tr>\n",
       "\t<tr><th scope=row>Ferrari Dino</th><td>19.7</td></tr>\n",
       "\t<tr><th scope=row>Maserati Bora</th><td>15.0</td></tr>\n",
       "\t<tr><th scope=row>Volvo 142E</th><td>21.4</td></tr>\n",
       "</tbody>\n",
       "</table>\n"
      ],
      "text/latex": [
       "\\begin{tabular}{r|l}\n",
       "  & mpg\\\\\n",
       "\\hline\n",
       "\tMazda RX4 & 21.0\\\\\n",
       "\tMazda RX4 Wag & 21.0\\\\\n",
       "\tDatsun 710 & 22.8\\\\\n",
       "\tHornet 4 Drive & 21.4\\\\\n",
       "\tHornet Sportabout & 18.7\\\\\n",
       "\tValiant & 18.1\\\\\n",
       "\tDuster 360 & 14.3\\\\\n",
       "\tMerc 240D & 24.4\\\\\n",
       "\tMerc 230 & 22.8\\\\\n",
       "\tMerc 280 & 19.2\\\\\n",
       "\tMerc 280C & 17.8\\\\\n",
       "\tMerc 450SE & 16.4\\\\\n",
       "\tMerc 450SL & 17.3\\\\\n",
       "\tMerc 450SLC & 15.2\\\\\n",
       "\tCadillac Fleetwood & 10.4\\\\\n",
       "\tLincoln Continental & 10.4\\\\\n",
       "\tChrysler Imperial & 14.7\\\\\n",
       "\tFiat 128 & 32.4\\\\\n",
       "\tHonda Civic & 30.4\\\\\n",
       "\tToyota Corolla & 33.9\\\\\n",
       "\tToyota Corona & 21.5\\\\\n",
       "\tDodge Challenger & 15.5\\\\\n",
       "\tAMC Javelin & 15.2\\\\\n",
       "\tCamaro Z28 & 13.3\\\\\n",
       "\tPontiac Firebird & 19.2\\\\\n",
       "\tFiat X1-9 & 27.3\\\\\n",
       "\tPorsche 914-2 & 26.0\\\\\n",
       "\tLotus Europa & 30.4\\\\\n",
       "\tFord Pantera L & 15.8\\\\\n",
       "\tFerrari Dino & 19.7\\\\\n",
       "\tMaserati Bora & 15.0\\\\\n",
       "\tVolvo 142E & 21.4\\\\\n",
       "\\end{tabular}\n"
      ],
      "text/markdown": [
       "\n",
       "| <!--/--> | mpg | \n",
       "|---|---|---|---|---|---|---|---|---|---|---|---|---|---|---|---|---|---|---|---|---|---|---|---|---|---|---|---|---|---|---|---|\n",
       "| Mazda RX4 | 21.0 | \n",
       "| Mazda RX4 Wag | 21.0 | \n",
       "| Datsun 710 | 22.8 | \n",
       "| Hornet 4 Drive | 21.4 | \n",
       "| Hornet Sportabout | 18.7 | \n",
       "| Valiant | 18.1 | \n",
       "| Duster 360 | 14.3 | \n",
       "| Merc 240D | 24.4 | \n",
       "| Merc 230 | 22.8 | \n",
       "| Merc 280 | 19.2 | \n",
       "| Merc 280C | 17.8 | \n",
       "| Merc 450SE | 16.4 | \n",
       "| Merc 450SL | 17.3 | \n",
       "| Merc 450SLC | 15.2 | \n",
       "| Cadillac Fleetwood | 10.4 | \n",
       "| Lincoln Continental | 10.4 | \n",
       "| Chrysler Imperial | 14.7 | \n",
       "| Fiat 128 | 32.4 | \n",
       "| Honda Civic | 30.4 | \n",
       "| Toyota Corolla | 33.9 | \n",
       "| Toyota Corona | 21.5 | \n",
       "| Dodge Challenger | 15.5 | \n",
       "| AMC Javelin | 15.2 | \n",
       "| Camaro Z28 | 13.3 | \n",
       "| Pontiac Firebird | 19.2 | \n",
       "| Fiat X1-9 | 27.3 | \n",
       "| Porsche 914-2 | 26.0 | \n",
       "| Lotus Europa | 30.4 | \n",
       "| Ford Pantera L | 15.8 | \n",
       "| Ferrari Dino | 19.7 | \n",
       "| Maserati Bora | 15.0 | \n",
       "| Volvo 142E | 21.4 | \n",
       "\n",
       "\n"
      ],
      "text/plain": [
       "                    mpg \n",
       "Mazda RX4           21.0\n",
       "Mazda RX4 Wag       21.0\n",
       "Datsun 710          22.8\n",
       "Hornet 4 Drive      21.4\n",
       "Hornet Sportabout   18.7\n",
       "Valiant             18.1\n",
       "Duster 360          14.3\n",
       "Merc 240D           24.4\n",
       "Merc 230            22.8\n",
       "Merc 280            19.2\n",
       "Merc 280C           17.8\n",
       "Merc 450SE          16.4\n",
       "Merc 450SL          17.3\n",
       "Merc 450SLC         15.2\n",
       "Cadillac Fleetwood  10.4\n",
       "Lincoln Continental 10.4\n",
       "Chrysler Imperial   14.7\n",
       "Fiat 128            32.4\n",
       "Honda Civic         30.4\n",
       "Toyota Corolla      33.9\n",
       "Toyota Corona       21.5\n",
       "Dodge Challenger    15.5\n",
       "AMC Javelin         15.2\n",
       "Camaro Z28          13.3\n",
       "Pontiac Firebird    19.2\n",
       "Fiat X1-9           27.3\n",
       "Porsche 914-2       26.0\n",
       "Lotus Europa        30.4\n",
       "Ford Pantera L      15.8\n",
       "Ferrari Dino        19.7\n",
       "Maserati Bora       15.0\n",
       "Volvo 142E          21.4"
      ]
     },
     "metadata": {},
     "output_type": "display_data"
    }
   ],
   "source": [
    "mtcars[1]"
   ]
  },
  {
   "cell_type": "code",
   "execution_count": 11,
   "metadata": {
    "scrolled": true
   },
   "outputs": [
    {
     "data": {
      "text/html": [
       "<table>\n",
       "<thead><tr><th></th><th scope=col>mpg</th></tr></thead>\n",
       "<tbody>\n",
       "\t<tr><th scope=row>Mazda RX4</th><td>21.0</td></tr>\n",
       "\t<tr><th scope=row>Mazda RX4 Wag</th><td>21.0</td></tr>\n",
       "\t<tr><th scope=row>Datsun 710</th><td>22.8</td></tr>\n",
       "\t<tr><th scope=row>Hornet 4 Drive</th><td>21.4</td></tr>\n",
       "\t<tr><th scope=row>Hornet Sportabout</th><td>18.7</td></tr>\n",
       "\t<tr><th scope=row>Valiant</th><td>18.1</td></tr>\n",
       "\t<tr><th scope=row>Duster 360</th><td>14.3</td></tr>\n",
       "\t<tr><th scope=row>Merc 240D</th><td>24.4</td></tr>\n",
       "\t<tr><th scope=row>Merc 230</th><td>22.8</td></tr>\n",
       "\t<tr><th scope=row>Merc 280</th><td>19.2</td></tr>\n",
       "\t<tr><th scope=row>Merc 280C</th><td>17.8</td></tr>\n",
       "\t<tr><th scope=row>Merc 450SE</th><td>16.4</td></tr>\n",
       "\t<tr><th scope=row>Merc 450SL</th><td>17.3</td></tr>\n",
       "\t<tr><th scope=row>Merc 450SLC</th><td>15.2</td></tr>\n",
       "\t<tr><th scope=row>Cadillac Fleetwood</th><td>10.4</td></tr>\n",
       "\t<tr><th scope=row>Lincoln Continental</th><td>10.4</td></tr>\n",
       "\t<tr><th scope=row>Chrysler Imperial</th><td>14.7</td></tr>\n",
       "\t<tr><th scope=row>Fiat 128</th><td>32.4</td></tr>\n",
       "\t<tr><th scope=row>Honda Civic</th><td>30.4</td></tr>\n",
       "\t<tr><th scope=row>Toyota Corolla</th><td>33.9</td></tr>\n",
       "\t<tr><th scope=row>Toyota Corona</th><td>21.5</td></tr>\n",
       "\t<tr><th scope=row>Dodge Challenger</th><td>15.5</td></tr>\n",
       "\t<tr><th scope=row>AMC Javelin</th><td>15.2</td></tr>\n",
       "\t<tr><th scope=row>Camaro Z28</th><td>13.3</td></tr>\n",
       "\t<tr><th scope=row>Pontiac Firebird</th><td>19.2</td></tr>\n",
       "\t<tr><th scope=row>Fiat X1-9</th><td>27.3</td></tr>\n",
       "\t<tr><th scope=row>Porsche 914-2</th><td>26.0</td></tr>\n",
       "\t<tr><th scope=row>Lotus Europa</th><td>30.4</td></tr>\n",
       "\t<tr><th scope=row>Ford Pantera L</th><td>15.8</td></tr>\n",
       "\t<tr><th scope=row>Ferrari Dino</th><td>19.7</td></tr>\n",
       "\t<tr><th scope=row>Maserati Bora</th><td>15.0</td></tr>\n",
       "\t<tr><th scope=row>Volvo 142E</th><td>21.4</td></tr>\n",
       "</tbody>\n",
       "</table>\n"
      ],
      "text/latex": [
       "\\begin{tabular}{r|l}\n",
       "  & mpg\\\\\n",
       "\\hline\n",
       "\tMazda RX4 & 21.0\\\\\n",
       "\tMazda RX4 Wag & 21.0\\\\\n",
       "\tDatsun 710 & 22.8\\\\\n",
       "\tHornet 4 Drive & 21.4\\\\\n",
       "\tHornet Sportabout & 18.7\\\\\n",
       "\tValiant & 18.1\\\\\n",
       "\tDuster 360 & 14.3\\\\\n",
       "\tMerc 240D & 24.4\\\\\n",
       "\tMerc 230 & 22.8\\\\\n",
       "\tMerc 280 & 19.2\\\\\n",
       "\tMerc 280C & 17.8\\\\\n",
       "\tMerc 450SE & 16.4\\\\\n",
       "\tMerc 450SL & 17.3\\\\\n",
       "\tMerc 450SLC & 15.2\\\\\n",
       "\tCadillac Fleetwood & 10.4\\\\\n",
       "\tLincoln Continental & 10.4\\\\\n",
       "\tChrysler Imperial & 14.7\\\\\n",
       "\tFiat 128 & 32.4\\\\\n",
       "\tHonda Civic & 30.4\\\\\n",
       "\tToyota Corolla & 33.9\\\\\n",
       "\tToyota Corona & 21.5\\\\\n",
       "\tDodge Challenger & 15.5\\\\\n",
       "\tAMC Javelin & 15.2\\\\\n",
       "\tCamaro Z28 & 13.3\\\\\n",
       "\tPontiac Firebird & 19.2\\\\\n",
       "\tFiat X1-9 & 27.3\\\\\n",
       "\tPorsche 914-2 & 26.0\\\\\n",
       "\tLotus Europa & 30.4\\\\\n",
       "\tFord Pantera L & 15.8\\\\\n",
       "\tFerrari Dino & 19.7\\\\\n",
       "\tMaserati Bora & 15.0\\\\\n",
       "\tVolvo 142E & 21.4\\\\\n",
       "\\end{tabular}\n"
      ],
      "text/markdown": [
       "\n",
       "| <!--/--> | mpg | \n",
       "|---|---|---|---|---|---|---|---|---|---|---|---|---|---|---|---|---|---|---|---|---|---|---|---|---|---|---|---|---|---|---|---|\n",
       "| Mazda RX4 | 21.0 | \n",
       "| Mazda RX4 Wag | 21.0 | \n",
       "| Datsun 710 | 22.8 | \n",
       "| Hornet 4 Drive | 21.4 | \n",
       "| Hornet Sportabout | 18.7 | \n",
       "| Valiant | 18.1 | \n",
       "| Duster 360 | 14.3 | \n",
       "| Merc 240D | 24.4 | \n",
       "| Merc 230 | 22.8 | \n",
       "| Merc 280 | 19.2 | \n",
       "| Merc 280C | 17.8 | \n",
       "| Merc 450SE | 16.4 | \n",
       "| Merc 450SL | 17.3 | \n",
       "| Merc 450SLC | 15.2 | \n",
       "| Cadillac Fleetwood | 10.4 | \n",
       "| Lincoln Continental | 10.4 | \n",
       "| Chrysler Imperial | 14.7 | \n",
       "| Fiat 128 | 32.4 | \n",
       "| Honda Civic | 30.4 | \n",
       "| Toyota Corolla | 33.9 | \n",
       "| Toyota Corona | 21.5 | \n",
       "| Dodge Challenger | 15.5 | \n",
       "| AMC Javelin | 15.2 | \n",
       "| Camaro Z28 | 13.3 | \n",
       "| Pontiac Firebird | 19.2 | \n",
       "| Fiat X1-9 | 27.3 | \n",
       "| Porsche 914-2 | 26.0 | \n",
       "| Lotus Europa | 30.4 | \n",
       "| Ford Pantera L | 15.8 | \n",
       "| Ferrari Dino | 19.7 | \n",
       "| Maserati Bora | 15.0 | \n",
       "| Volvo 142E | 21.4 | \n",
       "\n",
       "\n"
      ],
      "text/plain": [
       "                    mpg \n",
       "Mazda RX4           21.0\n",
       "Mazda RX4 Wag       21.0\n",
       "Datsun 710          22.8\n",
       "Hornet 4 Drive      21.4\n",
       "Hornet Sportabout   18.7\n",
       "Valiant             18.1\n",
       "Duster 360          14.3\n",
       "Merc 240D           24.4\n",
       "Merc 230            22.8\n",
       "Merc 280            19.2\n",
       "Merc 280C           17.8\n",
       "Merc 450SE          16.4\n",
       "Merc 450SL          17.3\n",
       "Merc 450SLC         15.2\n",
       "Cadillac Fleetwood  10.4\n",
       "Lincoln Continental 10.4\n",
       "Chrysler Imperial   14.7\n",
       "Fiat 128            32.4\n",
       "Honda Civic         30.4\n",
       "Toyota Corolla      33.9\n",
       "Toyota Corona       21.5\n",
       "Dodge Challenger    15.5\n",
       "AMC Javelin         15.2\n",
       "Camaro Z28          13.3\n",
       "Pontiac Firebird    19.2\n",
       "Fiat X1-9           27.3\n",
       "Porsche 914-2       26.0\n",
       "Lotus Europa        30.4\n",
       "Ford Pantera L      15.8\n",
       "Ferrari Dino        19.7\n",
       "Maserati Bora       15.0\n",
       "Volvo 142E          21.4"
      ]
     },
     "metadata": {},
     "output_type": "display_data"
    }
   ],
   "source": [
    "mtcars[\"mpg\"]"
   ]
  },
  {
   "cell_type": "code",
   "execution_count": 12,
   "metadata": {
    "scrolled": true
   },
   "outputs": [
    {
     "data": {
      "text/html": [
       "<table>\n",
       "<thead><tr><th></th><th scope=col>mpg</th><th scope=col>hp</th></tr></thead>\n",
       "<tbody>\n",
       "\t<tr><th scope=row>Mazda RX4</th><td>21.0</td><td>110 </td></tr>\n",
       "\t<tr><th scope=row>Mazda RX4 Wag</th><td>21.0</td><td>110 </td></tr>\n",
       "\t<tr><th scope=row>Datsun 710</th><td>22.8</td><td> 93 </td></tr>\n",
       "\t<tr><th scope=row>Hornet 4 Drive</th><td>21.4</td><td>110 </td></tr>\n",
       "\t<tr><th scope=row>Hornet Sportabout</th><td>18.7</td><td>175 </td></tr>\n",
       "\t<tr><th scope=row>Valiant</th><td>18.1</td><td>105 </td></tr>\n",
       "\t<tr><th scope=row>Duster 360</th><td>14.3</td><td>245 </td></tr>\n",
       "\t<tr><th scope=row>Merc 240D</th><td>24.4</td><td> 62 </td></tr>\n",
       "\t<tr><th scope=row>Merc 230</th><td>22.8</td><td> 95 </td></tr>\n",
       "\t<tr><th scope=row>Merc 280</th><td>19.2</td><td>123 </td></tr>\n",
       "\t<tr><th scope=row>Merc 280C</th><td>17.8</td><td>123 </td></tr>\n",
       "\t<tr><th scope=row>Merc 450SE</th><td>16.4</td><td>180 </td></tr>\n",
       "\t<tr><th scope=row>Merc 450SL</th><td>17.3</td><td>180 </td></tr>\n",
       "\t<tr><th scope=row>Merc 450SLC</th><td>15.2</td><td>180 </td></tr>\n",
       "\t<tr><th scope=row>Cadillac Fleetwood</th><td>10.4</td><td>205 </td></tr>\n",
       "\t<tr><th scope=row>Lincoln Continental</th><td>10.4</td><td>215 </td></tr>\n",
       "\t<tr><th scope=row>Chrysler Imperial</th><td>14.7</td><td>230 </td></tr>\n",
       "\t<tr><th scope=row>Fiat 128</th><td>32.4</td><td> 66 </td></tr>\n",
       "\t<tr><th scope=row>Honda Civic</th><td>30.4</td><td> 52 </td></tr>\n",
       "\t<tr><th scope=row>Toyota Corolla</th><td>33.9</td><td> 65 </td></tr>\n",
       "\t<tr><th scope=row>Toyota Corona</th><td>21.5</td><td> 97 </td></tr>\n",
       "\t<tr><th scope=row>Dodge Challenger</th><td>15.5</td><td>150 </td></tr>\n",
       "\t<tr><th scope=row>AMC Javelin</th><td>15.2</td><td>150 </td></tr>\n",
       "\t<tr><th scope=row>Camaro Z28</th><td>13.3</td><td>245 </td></tr>\n",
       "\t<tr><th scope=row>Pontiac Firebird</th><td>19.2</td><td>175 </td></tr>\n",
       "\t<tr><th scope=row>Fiat X1-9</th><td>27.3</td><td> 66 </td></tr>\n",
       "\t<tr><th scope=row>Porsche 914-2</th><td>26.0</td><td> 91 </td></tr>\n",
       "\t<tr><th scope=row>Lotus Europa</th><td>30.4</td><td>113 </td></tr>\n",
       "\t<tr><th scope=row>Ford Pantera L</th><td>15.8</td><td>264 </td></tr>\n",
       "\t<tr><th scope=row>Ferrari Dino</th><td>19.7</td><td>175 </td></tr>\n",
       "\t<tr><th scope=row>Maserati Bora</th><td>15.0</td><td>335 </td></tr>\n",
       "\t<tr><th scope=row>Volvo 142E</th><td>21.4</td><td>109 </td></tr>\n",
       "</tbody>\n",
       "</table>\n"
      ],
      "text/latex": [
       "\\begin{tabular}{r|ll}\n",
       "  & mpg & hp\\\\\n",
       "\\hline\n",
       "\tMazda RX4 & 21.0 & 110 \\\\\n",
       "\tMazda RX4 Wag & 21.0 & 110 \\\\\n",
       "\tDatsun 710 & 22.8 &  93 \\\\\n",
       "\tHornet 4 Drive & 21.4 & 110 \\\\\n",
       "\tHornet Sportabout & 18.7 & 175 \\\\\n",
       "\tValiant & 18.1 & 105 \\\\\n",
       "\tDuster 360 & 14.3 & 245 \\\\\n",
       "\tMerc 240D & 24.4 &  62 \\\\\n",
       "\tMerc 230 & 22.8 &  95 \\\\\n",
       "\tMerc 280 & 19.2 & 123 \\\\\n",
       "\tMerc 280C & 17.8 & 123 \\\\\n",
       "\tMerc 450SE & 16.4 & 180 \\\\\n",
       "\tMerc 450SL & 17.3 & 180 \\\\\n",
       "\tMerc 450SLC & 15.2 & 180 \\\\\n",
       "\tCadillac Fleetwood & 10.4 & 205 \\\\\n",
       "\tLincoln Continental & 10.4 & 215 \\\\\n",
       "\tChrysler Imperial & 14.7 & 230 \\\\\n",
       "\tFiat 128 & 32.4 &  66 \\\\\n",
       "\tHonda Civic & 30.4 &  52 \\\\\n",
       "\tToyota Corolla & 33.9 &  65 \\\\\n",
       "\tToyota Corona & 21.5 &  97 \\\\\n",
       "\tDodge Challenger & 15.5 & 150 \\\\\n",
       "\tAMC Javelin & 15.2 & 150 \\\\\n",
       "\tCamaro Z28 & 13.3 & 245 \\\\\n",
       "\tPontiac Firebird & 19.2 & 175 \\\\\n",
       "\tFiat X1-9 & 27.3 &  66 \\\\\n",
       "\tPorsche 914-2 & 26.0 &  91 \\\\\n",
       "\tLotus Europa & 30.4 & 113 \\\\\n",
       "\tFord Pantera L & 15.8 & 264 \\\\\n",
       "\tFerrari Dino & 19.7 & 175 \\\\\n",
       "\tMaserati Bora & 15.0 & 335 \\\\\n",
       "\tVolvo 142E & 21.4 & 109 \\\\\n",
       "\\end{tabular}\n"
      ],
      "text/markdown": [
       "\n",
       "| <!--/--> | mpg | hp | \n",
       "|---|---|---|---|---|---|---|---|---|---|---|---|---|---|---|---|---|---|---|---|---|---|---|---|---|---|---|---|---|---|---|---|\n",
       "| Mazda RX4 | 21.0 | 110  | \n",
       "| Mazda RX4 Wag | 21.0 | 110  | \n",
       "| Datsun 710 | 22.8 |  93  | \n",
       "| Hornet 4 Drive | 21.4 | 110  | \n",
       "| Hornet Sportabout | 18.7 | 175  | \n",
       "| Valiant | 18.1 | 105  | \n",
       "| Duster 360 | 14.3 | 245  | \n",
       "| Merc 240D | 24.4 |  62  | \n",
       "| Merc 230 | 22.8 |  95  | \n",
       "| Merc 280 | 19.2 | 123  | \n",
       "| Merc 280C | 17.8 | 123  | \n",
       "| Merc 450SE | 16.4 | 180  | \n",
       "| Merc 450SL | 17.3 | 180  | \n",
       "| Merc 450SLC | 15.2 | 180  | \n",
       "| Cadillac Fleetwood | 10.4 | 205  | \n",
       "| Lincoln Continental | 10.4 | 215  | \n",
       "| Chrysler Imperial | 14.7 | 230  | \n",
       "| Fiat 128 | 32.4 |  66  | \n",
       "| Honda Civic | 30.4 |  52  | \n",
       "| Toyota Corolla | 33.9 |  65  | \n",
       "| Toyota Corona | 21.5 |  97  | \n",
       "| Dodge Challenger | 15.5 | 150  | \n",
       "| AMC Javelin | 15.2 | 150  | \n",
       "| Camaro Z28 | 13.3 | 245  | \n",
       "| Pontiac Firebird | 19.2 | 175  | \n",
       "| Fiat X1-9 | 27.3 |  66  | \n",
       "| Porsche 914-2 | 26.0 |  91  | \n",
       "| Lotus Europa | 30.4 | 113  | \n",
       "| Ford Pantera L | 15.8 | 264  | \n",
       "| Ferrari Dino | 19.7 | 175  | \n",
       "| Maserati Bora | 15.0 | 335  | \n",
       "| Volvo 142E | 21.4 | 109  | \n",
       "\n",
       "\n"
      ],
      "text/plain": [
       "                    mpg  hp \n",
       "Mazda RX4           21.0 110\n",
       "Mazda RX4 Wag       21.0 110\n",
       "Datsun 710          22.8  93\n",
       "Hornet 4 Drive      21.4 110\n",
       "Hornet Sportabout   18.7 175\n",
       "Valiant             18.1 105\n",
       "Duster 360          14.3 245\n",
       "Merc 240D           24.4  62\n",
       "Merc 230            22.8  95\n",
       "Merc 280            19.2 123\n",
       "Merc 280C           17.8 123\n",
       "Merc 450SE          16.4 180\n",
       "Merc 450SL          17.3 180\n",
       "Merc 450SLC         15.2 180\n",
       "Cadillac Fleetwood  10.4 205\n",
       "Lincoln Continental 10.4 215\n",
       "Chrysler Imperial   14.7 230\n",
       "Fiat 128            32.4  66\n",
       "Honda Civic         30.4  52\n",
       "Toyota Corolla      33.9  65\n",
       "Toyota Corona       21.5  97\n",
       "Dodge Challenger    15.5 150\n",
       "AMC Javelin         15.2 150\n",
       "Camaro Z28          13.3 245\n",
       "Pontiac Firebird    19.2 175\n",
       "Fiat X1-9           27.3  66\n",
       "Porsche 914-2       26.0  91\n",
       "Lotus Europa        30.4 113\n",
       "Ford Pantera L      15.8 264\n",
       "Ferrari Dino        19.7 175\n",
       "Maserati Bora       15.0 335\n",
       "Volvo 142E          21.4 109"
      ]
     },
     "metadata": {},
     "output_type": "display_data"
    }
   ],
   "source": [
    "mtcars[c(\"mpg\",\"hp\")]"
   ]
  },
  {
   "cell_type": "markdown",
   "metadata": {},
   "source": [
    "### Access row as dataframe"
   ]
  },
  {
   "cell_type": "code",
   "execution_count": 13,
   "metadata": {
    "scrolled": true
   },
   "outputs": [
    {
     "data": {
      "text/html": [
       "<table>\n",
       "<thead><tr><th></th><th scope=col>mpg</th><th scope=col>cyl</th><th scope=col>disp</th><th scope=col>hp</th><th scope=col>drat</th><th scope=col>wt</th><th scope=col>qsec</th><th scope=col>vs</th><th scope=col>am</th><th scope=col>gear</th><th scope=col>carb</th></tr></thead>\n",
       "<tbody>\n",
       "\t<tr><th scope=row>Mazda RX4 Wag</th><td>21   </td><td>6    </td><td>160  </td><td>110  </td><td>3.9  </td><td>2.875</td><td>17.02</td><td>0    </td><td>1    </td><td>4    </td><td>4    </td></tr>\n",
       "</tbody>\n",
       "</table>\n"
      ],
      "text/latex": [
       "\\begin{tabular}{r|lllllllllll}\n",
       "  & mpg & cyl & disp & hp & drat & wt & qsec & vs & am & gear & carb\\\\\n",
       "\\hline\n",
       "\tMazda RX4 Wag & 21    & 6     & 160   & 110   & 3.9   & 2.875 & 17.02 & 0     & 1     & 4     & 4    \\\\\n",
       "\\end{tabular}\n"
      ],
      "text/markdown": [
       "\n",
       "| <!--/--> | mpg | cyl | disp | hp | drat | wt | qsec | vs | am | gear | carb | \n",
       "|---|\n",
       "| Mazda RX4 Wag | 21    | 6     | 160   | 110   | 3.9   | 2.875 | 17.02 | 0     | 1     | 4     | 4     | \n",
       "\n",
       "\n"
      ],
      "text/plain": [
       "              mpg cyl disp hp  drat wt    qsec  vs am gear carb\n",
       "Mazda RX4 Wag 21  6   160  110 3.9  2.875 17.02 0  1  4    4   "
      ]
     },
     "metadata": {},
     "output_type": "display_data"
    }
   ],
   "source": [
    "mtcars[2,] "
   ]
  },
  {
   "cell_type": "code",
   "execution_count": 14,
   "metadata": {
    "scrolled": true
   },
   "outputs": [
    {
     "data": {
      "text/html": [
       "<table>\n",
       "<thead><tr><th></th><th scope=col>mpg</th><th scope=col>cyl</th><th scope=col>disp</th><th scope=col>hp</th><th scope=col>drat</th><th scope=col>wt</th><th scope=col>qsec</th><th scope=col>vs</th><th scope=col>am</th><th scope=col>gear</th><th scope=col>carb</th></tr></thead>\n",
       "<tbody>\n",
       "\t<tr><th scope=row>Mazda RX4</th><td>21.0 </td><td>6    </td><td>160  </td><td>110  </td><td>3.90 </td><td>2.62 </td><td>16.46</td><td>0    </td><td>1    </td><td>4    </td><td>4    </td></tr>\n",
       "\t<tr><th scope=row>Datsun 710</th><td>22.8 </td><td>4    </td><td>108  </td><td> 93  </td><td>3.85 </td><td>2.32 </td><td>18.61</td><td>1    </td><td>1    </td><td>4    </td><td>1    </td></tr>\n",
       "</tbody>\n",
       "</table>\n"
      ],
      "text/latex": [
       "\\begin{tabular}{r|lllllllllll}\n",
       "  & mpg & cyl & disp & hp & drat & wt & qsec & vs & am & gear & carb\\\\\n",
       "\\hline\n",
       "\tMazda RX4 & 21.0  & 6     & 160   & 110   & 3.90  & 2.62  & 16.46 & 0     & 1     & 4     & 4    \\\\\n",
       "\tDatsun 710 & 22.8  & 4     & 108   &  93   & 3.85  & 2.32  & 18.61 & 1     & 1     & 4     & 1    \\\\\n",
       "\\end{tabular}\n"
      ],
      "text/markdown": [
       "\n",
       "| <!--/--> | mpg | cyl | disp | hp | drat | wt | qsec | vs | am | gear | carb | \n",
       "|---|---|\n",
       "| Mazda RX4 | 21.0  | 6     | 160   | 110   | 3.90  | 2.62  | 16.46 | 0     | 1     | 4     | 4     | \n",
       "| Datsun 710 | 22.8  | 4     | 108   |  93   | 3.85  | 2.32  | 18.61 | 1     | 1     | 4     | 1     | \n",
       "\n",
       "\n"
      ],
      "text/plain": [
       "           mpg  cyl disp hp  drat wt   qsec  vs am gear carb\n",
       "Mazda RX4  21.0 6   160  110 3.90 2.62 16.46 0  1  4    4   \n",
       "Datsun 710 22.8 4   108   93 3.85 2.32 18.61 1  1  4    1   "
      ]
     },
     "metadata": {},
     "output_type": "display_data"
    }
   ],
   "source": [
    "mtcars[c(1,3),] "
   ]
  },
  {
   "cell_type": "code",
   "execution_count": 15,
   "metadata": {
    "scrolled": true
   },
   "outputs": [
    {
     "data": {
      "text/html": [
       "<table>\n",
       "<thead><tr><th></th><th scope=col>mpg</th><th scope=col>cyl</th><th scope=col>disp</th><th scope=col>hp</th><th scope=col>drat</th><th scope=col>wt</th><th scope=col>qsec</th><th scope=col>vs</th><th scope=col>am</th><th scope=col>gear</th><th scope=col>carb</th></tr></thead>\n",
       "<tbody>\n",
       "\t<tr><th scope=row>Mazda RX4 Wag</th><td>21   </td><td>6    </td><td>160  </td><td>110  </td><td>3.9  </td><td>2.875</td><td>17.02</td><td>0    </td><td>1    </td><td>4    </td><td>4    </td></tr>\n",
       "</tbody>\n",
       "</table>\n"
      ],
      "text/latex": [
       "\\begin{tabular}{r|lllllllllll}\n",
       "  & mpg & cyl & disp & hp & drat & wt & qsec & vs & am & gear & carb\\\\\n",
       "\\hline\n",
       "\tMazda RX4 Wag & 21    & 6     & 160   & 110   & 3.9   & 2.875 & 17.02 & 0     & 1     & 4     & 4    \\\\\n",
       "\\end{tabular}\n"
      ],
      "text/markdown": [
       "\n",
       "| <!--/--> | mpg | cyl | disp | hp | drat | wt | qsec | vs | am | gear | carb | \n",
       "|---|\n",
       "| Mazda RX4 Wag | 21    | 6     | 160   | 110   | 3.9   | 2.875 | 17.02 | 0     | 1     | 4     | 4     | \n",
       "\n",
       "\n"
      ],
      "text/plain": [
       "              mpg cyl disp hp  drat wt    qsec  vs am gear carb\n",
       "Mazda RX4 Wag 21  6   160  110 3.9  2.875 17.02 0  1  4    4   "
      ]
     },
     "metadata": {},
     "output_type": "display_data"
    }
   ],
   "source": [
    "mtcars[\"Mazda RX4 Wag\",] "
   ]
  },
  {
   "cell_type": "code",
   "execution_count": 16,
   "metadata": {
    "scrolled": false
   },
   "outputs": [
    {
     "data": {
      "text/html": [
       "<table>\n",
       "<thead><tr><th></th><th scope=col>mpg</th><th scope=col>cyl</th><th scope=col>disp</th><th scope=col>hp</th><th scope=col>drat</th><th scope=col>wt</th><th scope=col>qsec</th><th scope=col>vs</th><th scope=col>am</th><th scope=col>gear</th><th scope=col>carb</th></tr></thead>\n",
       "<tbody>\n",
       "\t<tr><th scope=row>Mazda RX4</th><td>21.0 </td><td>6    </td><td>160  </td><td>110  </td><td>3.90 </td><td>2.62 </td><td>16.46</td><td>0    </td><td>1    </td><td>4    </td><td>4    </td></tr>\n",
       "\t<tr><th scope=row>Datsun 710</th><td>22.8 </td><td>4    </td><td>108  </td><td> 93  </td><td>3.85 </td><td>2.32 </td><td>18.61</td><td>1    </td><td>1    </td><td>4    </td><td>1    </td></tr>\n",
       "</tbody>\n",
       "</table>\n"
      ],
      "text/latex": [
       "\\begin{tabular}{r|lllllllllll}\n",
       "  & mpg & cyl & disp & hp & drat & wt & qsec & vs & am & gear & carb\\\\\n",
       "\\hline\n",
       "\tMazda RX4 & 21.0  & 6     & 160   & 110   & 3.90  & 2.62  & 16.46 & 0     & 1     & 4     & 4    \\\\\n",
       "\tDatsun 710 & 22.8  & 4     & 108   &  93   & 3.85  & 2.32  & 18.61 & 1     & 1     & 4     & 1    \\\\\n",
       "\\end{tabular}\n"
      ],
      "text/markdown": [
       "\n",
       "| <!--/--> | mpg | cyl | disp | hp | drat | wt | qsec | vs | am | gear | carb | \n",
       "|---|---|\n",
       "| Mazda RX4 | 21.0  | 6     | 160   | 110   | 3.90  | 2.62  | 16.46 | 0     | 1     | 4     | 4     | \n",
       "| Datsun 710 | 22.8  | 4     | 108   |  93   | 3.85  | 2.32  | 18.61 | 1     | 1     | 4     | 1     | \n",
       "\n",
       "\n"
      ],
      "text/plain": [
       "           mpg  cyl disp hp  drat wt   qsec  vs am gear carb\n",
       "Mazda RX4  21.0 6   160  110 3.90 2.62 16.46 0  1  4    4   \n",
       "Datsun 710 22.8 4   108   93 3.85 2.32 18.61 1  1  4    1   "
      ]
     },
     "metadata": {},
     "output_type": "display_data"
    }
   ],
   "source": [
    "mtcars[c(\"Mazda RX4\", \"Datsun 710\"),] "
   ]
  },
  {
   "cell_type": "markdown",
   "metadata": {},
   "source": [
    "### Filter rows"
   ]
  },
  {
   "cell_type": "code",
   "execution_count": 8,
   "metadata": {
    "scrolled": true
   },
   "outputs": [
    {
     "data": {
      "text/html": [
       "<style>\n",
       ".list-inline {list-style: none; margin:0; padding: 0}\n",
       ".list-inline>li {display: inline-block}\n",
       ".list-inline>li:not(:last-child)::after {content: \"\\00b7\"; padding: 0 .5ex}\n",
       "</style>\n",
       "<ol class=list-inline><li>TRUE</li><li>TRUE</li><li>FALSE</li><li>TRUE</li><li>TRUE</li><li>TRUE</li><li>TRUE</li><li>FALSE</li><li>FALSE</li><li>TRUE</li><li>TRUE</li><li>TRUE</li><li>TRUE</li><li>TRUE</li><li>TRUE</li><li>TRUE</li><li>TRUE</li><li>FALSE</li><li>FALSE</li><li>FALSE</li><li>TRUE</li><li>TRUE</li><li>TRUE</li><li>TRUE</li><li>TRUE</li><li>FALSE</li><li>FALSE</li><li>FALSE</li><li>TRUE</li><li>TRUE</li><li>TRUE</li><li>TRUE</li></ol>\n"
      ],
      "text/latex": [
       "\\begin{enumerate*}\n",
       "\\item TRUE\n",
       "\\item TRUE\n",
       "\\item FALSE\n",
       "\\item TRUE\n",
       "\\item TRUE\n",
       "\\item TRUE\n",
       "\\item TRUE\n",
       "\\item FALSE\n",
       "\\item FALSE\n",
       "\\item TRUE\n",
       "\\item TRUE\n",
       "\\item TRUE\n",
       "\\item TRUE\n",
       "\\item TRUE\n",
       "\\item TRUE\n",
       "\\item TRUE\n",
       "\\item TRUE\n",
       "\\item FALSE\n",
       "\\item FALSE\n",
       "\\item FALSE\n",
       "\\item TRUE\n",
       "\\item TRUE\n",
       "\\item TRUE\n",
       "\\item TRUE\n",
       "\\item TRUE\n",
       "\\item FALSE\n",
       "\\item FALSE\n",
       "\\item FALSE\n",
       "\\item TRUE\n",
       "\\item TRUE\n",
       "\\item TRUE\n",
       "\\item TRUE\n",
       "\\end{enumerate*}\n"
      ],
      "text/markdown": [
       "1. TRUE\n",
       "2. TRUE\n",
       "3. FALSE\n",
       "4. TRUE\n",
       "5. TRUE\n",
       "6. TRUE\n",
       "7. TRUE\n",
       "8. FALSE\n",
       "9. FALSE\n",
       "10. TRUE\n",
       "11. TRUE\n",
       "12. TRUE\n",
       "13. TRUE\n",
       "14. TRUE\n",
       "15. TRUE\n",
       "16. TRUE\n",
       "17. TRUE\n",
       "18. FALSE\n",
       "19. FALSE\n",
       "20. FALSE\n",
       "21. TRUE\n",
       "22. TRUE\n",
       "23. TRUE\n",
       "24. TRUE\n",
       "25. TRUE\n",
       "26. FALSE\n",
       "27. FALSE\n",
       "28. FALSE\n",
       "29. TRUE\n",
       "30. TRUE\n",
       "31. TRUE\n",
       "32. TRUE\n",
       "\n",
       "\n"
      ],
      "text/plain": [
       " [1]  TRUE  TRUE FALSE  TRUE  TRUE  TRUE  TRUE FALSE FALSE  TRUE  TRUE  TRUE\n",
       "[13]  TRUE  TRUE  TRUE  TRUE  TRUE FALSE FALSE FALSE  TRUE  TRUE  TRUE  TRUE\n",
       "[25]  TRUE FALSE FALSE FALSE  TRUE  TRUE  TRUE  TRUE"
      ]
     },
     "metadata": {},
     "output_type": "display_data"
    }
   ],
   "source": [
    "low_mpg = mtcars$mpg < 22 ; low_mpg"
   ]
  },
  {
   "cell_type": "code",
   "execution_count": 9,
   "metadata": {
    "scrolled": false
   },
   "outputs": [
    {
     "data": {
      "text/html": [
       "<table>\n",
       "<caption>A data.frame: 23 × 11</caption>\n",
       "<thead>\n",
       "\t<tr><th></th><th scope=col>mpg</th><th scope=col>cyl</th><th scope=col>disp</th><th scope=col>hp</th><th scope=col>drat</th><th scope=col>wt</th><th scope=col>qsec</th><th scope=col>vs</th><th scope=col>am</th><th scope=col>gear</th><th scope=col>carb</th></tr>\n",
       "\t<tr><th></th><th scope=col>&lt;dbl&gt;</th><th scope=col>&lt;dbl&gt;</th><th scope=col>&lt;dbl&gt;</th><th scope=col>&lt;dbl&gt;</th><th scope=col>&lt;dbl&gt;</th><th scope=col>&lt;dbl&gt;</th><th scope=col>&lt;dbl&gt;</th><th scope=col>&lt;dbl&gt;</th><th scope=col>&lt;dbl&gt;</th><th scope=col>&lt;dbl&gt;</th><th scope=col>&lt;dbl&gt;</th></tr>\n",
       "</thead>\n",
       "<tbody>\n",
       "\t<tr><th scope=row>Mazda RX4</th><td>21.0</td><td>6</td><td>160.0</td><td>110</td><td>3.90</td><td>2.620</td><td>16.46</td><td>0</td><td>1</td><td>4</td><td>4</td></tr>\n",
       "\t<tr><th scope=row>Mazda RX4 Wag</th><td>21.0</td><td>6</td><td>160.0</td><td>110</td><td>3.90</td><td>2.875</td><td>17.02</td><td>0</td><td>1</td><td>4</td><td>4</td></tr>\n",
       "\t<tr><th scope=row>Hornet 4 Drive</th><td>21.4</td><td>6</td><td>258.0</td><td>110</td><td>3.08</td><td>3.215</td><td>19.44</td><td>1</td><td>0</td><td>3</td><td>1</td></tr>\n",
       "\t<tr><th scope=row>Hornet Sportabout</th><td>18.7</td><td>8</td><td>360.0</td><td>175</td><td>3.15</td><td>3.440</td><td>17.02</td><td>0</td><td>0</td><td>3</td><td>2</td></tr>\n",
       "\t<tr><th scope=row>Valiant</th><td>18.1</td><td>6</td><td>225.0</td><td>105</td><td>2.76</td><td>3.460</td><td>20.22</td><td>1</td><td>0</td><td>3</td><td>1</td></tr>\n",
       "\t<tr><th scope=row>Duster 360</th><td>14.3</td><td>8</td><td>360.0</td><td>245</td><td>3.21</td><td>3.570</td><td>15.84</td><td>0</td><td>0</td><td>3</td><td>4</td></tr>\n",
       "\t<tr><th scope=row>Merc 280</th><td>19.2</td><td>6</td><td>167.6</td><td>123</td><td>3.92</td><td>3.440</td><td>18.30</td><td>1</td><td>0</td><td>4</td><td>4</td></tr>\n",
       "\t<tr><th scope=row>Merc 280C</th><td>17.8</td><td>6</td><td>167.6</td><td>123</td><td>3.92</td><td>3.440</td><td>18.90</td><td>1</td><td>0</td><td>4</td><td>4</td></tr>\n",
       "\t<tr><th scope=row>Merc 450SE</th><td>16.4</td><td>8</td><td>275.8</td><td>180</td><td>3.07</td><td>4.070</td><td>17.40</td><td>0</td><td>0</td><td>3</td><td>3</td></tr>\n",
       "\t<tr><th scope=row>Merc 450SL</th><td>17.3</td><td>8</td><td>275.8</td><td>180</td><td>3.07</td><td>3.730</td><td>17.60</td><td>0</td><td>0</td><td>3</td><td>3</td></tr>\n",
       "\t<tr><th scope=row>Merc 450SLC</th><td>15.2</td><td>8</td><td>275.8</td><td>180</td><td>3.07</td><td>3.780</td><td>18.00</td><td>0</td><td>0</td><td>3</td><td>3</td></tr>\n",
       "\t<tr><th scope=row>Cadillac Fleetwood</th><td>10.4</td><td>8</td><td>472.0</td><td>205</td><td>2.93</td><td>5.250</td><td>17.98</td><td>0</td><td>0</td><td>3</td><td>4</td></tr>\n",
       "\t<tr><th scope=row>Lincoln Continental</th><td>10.4</td><td>8</td><td>460.0</td><td>215</td><td>3.00</td><td>5.424</td><td>17.82</td><td>0</td><td>0</td><td>3</td><td>4</td></tr>\n",
       "\t<tr><th scope=row>Chrysler Imperial</th><td>14.7</td><td>8</td><td>440.0</td><td>230</td><td>3.23</td><td>5.345</td><td>17.42</td><td>0</td><td>0</td><td>3</td><td>4</td></tr>\n",
       "\t<tr><th scope=row>Toyota Corona</th><td>21.5</td><td>4</td><td>120.1</td><td> 97</td><td>3.70</td><td>2.465</td><td>20.01</td><td>1</td><td>0</td><td>3</td><td>1</td></tr>\n",
       "\t<tr><th scope=row>Dodge Challenger</th><td>15.5</td><td>8</td><td>318.0</td><td>150</td><td>2.76</td><td>3.520</td><td>16.87</td><td>0</td><td>0</td><td>3</td><td>2</td></tr>\n",
       "\t<tr><th scope=row>AMC Javelin</th><td>15.2</td><td>8</td><td>304.0</td><td>150</td><td>3.15</td><td>3.435</td><td>17.30</td><td>0</td><td>0</td><td>3</td><td>2</td></tr>\n",
       "\t<tr><th scope=row>Camaro Z28</th><td>13.3</td><td>8</td><td>350.0</td><td>245</td><td>3.73</td><td>3.840</td><td>15.41</td><td>0</td><td>0</td><td>3</td><td>4</td></tr>\n",
       "\t<tr><th scope=row>Pontiac Firebird</th><td>19.2</td><td>8</td><td>400.0</td><td>175</td><td>3.08</td><td>3.845</td><td>17.05</td><td>0</td><td>0</td><td>3</td><td>2</td></tr>\n",
       "\t<tr><th scope=row>Ford Pantera L</th><td>15.8</td><td>8</td><td>351.0</td><td>264</td><td>4.22</td><td>3.170</td><td>14.50</td><td>0</td><td>1</td><td>5</td><td>4</td></tr>\n",
       "\t<tr><th scope=row>Ferrari Dino</th><td>19.7</td><td>6</td><td>145.0</td><td>175</td><td>3.62</td><td>2.770</td><td>15.50</td><td>0</td><td>1</td><td>5</td><td>6</td></tr>\n",
       "\t<tr><th scope=row>Maserati Bora</th><td>15.0</td><td>8</td><td>301.0</td><td>335</td><td>3.54</td><td>3.570</td><td>14.60</td><td>0</td><td>1</td><td>5</td><td>8</td></tr>\n",
       "\t<tr><th scope=row>Volvo 142E</th><td>21.4</td><td>4</td><td>121.0</td><td>109</td><td>4.11</td><td>2.780</td><td>18.60</td><td>1</td><td>1</td><td>4</td><td>2</td></tr>\n",
       "</tbody>\n",
       "</table>\n"
      ],
      "text/latex": [
       "A data.frame: 23 × 11\n",
       "\\begin{tabular}{r|lllllllllll}\n",
       "  & mpg & cyl & disp & hp & drat & wt & qsec & vs & am & gear & carb\\\\\n",
       "  & <dbl> & <dbl> & <dbl> & <dbl> & <dbl> & <dbl> & <dbl> & <dbl> & <dbl> & <dbl> & <dbl>\\\\\n",
       "\\hline\n",
       "\tMazda RX4 & 21.0 & 6 & 160.0 & 110 & 3.90 & 2.620 & 16.46 & 0 & 1 & 4 & 4\\\\\n",
       "\tMazda RX4 Wag & 21.0 & 6 & 160.0 & 110 & 3.90 & 2.875 & 17.02 & 0 & 1 & 4 & 4\\\\\n",
       "\tHornet 4 Drive & 21.4 & 6 & 258.0 & 110 & 3.08 & 3.215 & 19.44 & 1 & 0 & 3 & 1\\\\\n",
       "\tHornet Sportabout & 18.7 & 8 & 360.0 & 175 & 3.15 & 3.440 & 17.02 & 0 & 0 & 3 & 2\\\\\n",
       "\tValiant & 18.1 & 6 & 225.0 & 105 & 2.76 & 3.460 & 20.22 & 1 & 0 & 3 & 1\\\\\n",
       "\tDuster 360 & 14.3 & 8 & 360.0 & 245 & 3.21 & 3.570 & 15.84 & 0 & 0 & 3 & 4\\\\\n",
       "\tMerc 280 & 19.2 & 6 & 167.6 & 123 & 3.92 & 3.440 & 18.30 & 1 & 0 & 4 & 4\\\\\n",
       "\tMerc 280C & 17.8 & 6 & 167.6 & 123 & 3.92 & 3.440 & 18.90 & 1 & 0 & 4 & 4\\\\\n",
       "\tMerc 450SE & 16.4 & 8 & 275.8 & 180 & 3.07 & 4.070 & 17.40 & 0 & 0 & 3 & 3\\\\\n",
       "\tMerc 450SL & 17.3 & 8 & 275.8 & 180 & 3.07 & 3.730 & 17.60 & 0 & 0 & 3 & 3\\\\\n",
       "\tMerc 450SLC & 15.2 & 8 & 275.8 & 180 & 3.07 & 3.780 & 18.00 & 0 & 0 & 3 & 3\\\\\n",
       "\tCadillac Fleetwood & 10.4 & 8 & 472.0 & 205 & 2.93 & 5.250 & 17.98 & 0 & 0 & 3 & 4\\\\\n",
       "\tLincoln Continental & 10.4 & 8 & 460.0 & 215 & 3.00 & 5.424 & 17.82 & 0 & 0 & 3 & 4\\\\\n",
       "\tChrysler Imperial & 14.7 & 8 & 440.0 & 230 & 3.23 & 5.345 & 17.42 & 0 & 0 & 3 & 4\\\\\n",
       "\tToyota Corona & 21.5 & 4 & 120.1 &  97 & 3.70 & 2.465 & 20.01 & 1 & 0 & 3 & 1\\\\\n",
       "\tDodge Challenger & 15.5 & 8 & 318.0 & 150 & 2.76 & 3.520 & 16.87 & 0 & 0 & 3 & 2\\\\\n",
       "\tAMC Javelin & 15.2 & 8 & 304.0 & 150 & 3.15 & 3.435 & 17.30 & 0 & 0 & 3 & 2\\\\\n",
       "\tCamaro Z28 & 13.3 & 8 & 350.0 & 245 & 3.73 & 3.840 & 15.41 & 0 & 0 & 3 & 4\\\\\n",
       "\tPontiac Firebird & 19.2 & 8 & 400.0 & 175 & 3.08 & 3.845 & 17.05 & 0 & 0 & 3 & 2\\\\\n",
       "\tFord Pantera L & 15.8 & 8 & 351.0 & 264 & 4.22 & 3.170 & 14.50 & 0 & 1 & 5 & 4\\\\\n",
       "\tFerrari Dino & 19.7 & 6 & 145.0 & 175 & 3.62 & 2.770 & 15.50 & 0 & 1 & 5 & 6\\\\\n",
       "\tMaserati Bora & 15.0 & 8 & 301.0 & 335 & 3.54 & 3.570 & 14.60 & 0 & 1 & 5 & 8\\\\\n",
       "\tVolvo 142E & 21.4 & 4 & 121.0 & 109 & 4.11 & 2.780 & 18.60 & 1 & 1 & 4 & 2\\\\\n",
       "\\end{tabular}\n"
      ],
      "text/markdown": [
       "\n",
       "A data.frame: 23 × 11\n",
       "\n",
       "| <!--/--> | mpg &lt;dbl&gt; | cyl &lt;dbl&gt; | disp &lt;dbl&gt; | hp &lt;dbl&gt; | drat &lt;dbl&gt; | wt &lt;dbl&gt; | qsec &lt;dbl&gt; | vs &lt;dbl&gt; | am &lt;dbl&gt; | gear &lt;dbl&gt; | carb &lt;dbl&gt; |\n",
       "|---|---|---|---|---|---|---|---|---|---|---|---|\n",
       "| Mazda RX4 | 21.0 | 6 | 160.0 | 110 | 3.90 | 2.620 | 16.46 | 0 | 1 | 4 | 4 |\n",
       "| Mazda RX4 Wag | 21.0 | 6 | 160.0 | 110 | 3.90 | 2.875 | 17.02 | 0 | 1 | 4 | 4 |\n",
       "| Hornet 4 Drive | 21.4 | 6 | 258.0 | 110 | 3.08 | 3.215 | 19.44 | 1 | 0 | 3 | 1 |\n",
       "| Hornet Sportabout | 18.7 | 8 | 360.0 | 175 | 3.15 | 3.440 | 17.02 | 0 | 0 | 3 | 2 |\n",
       "| Valiant | 18.1 | 6 | 225.0 | 105 | 2.76 | 3.460 | 20.22 | 1 | 0 | 3 | 1 |\n",
       "| Duster 360 | 14.3 | 8 | 360.0 | 245 | 3.21 | 3.570 | 15.84 | 0 | 0 | 3 | 4 |\n",
       "| Merc 280 | 19.2 | 6 | 167.6 | 123 | 3.92 | 3.440 | 18.30 | 1 | 0 | 4 | 4 |\n",
       "| Merc 280C | 17.8 | 6 | 167.6 | 123 | 3.92 | 3.440 | 18.90 | 1 | 0 | 4 | 4 |\n",
       "| Merc 450SE | 16.4 | 8 | 275.8 | 180 | 3.07 | 4.070 | 17.40 | 0 | 0 | 3 | 3 |\n",
       "| Merc 450SL | 17.3 | 8 | 275.8 | 180 | 3.07 | 3.730 | 17.60 | 0 | 0 | 3 | 3 |\n",
       "| Merc 450SLC | 15.2 | 8 | 275.8 | 180 | 3.07 | 3.780 | 18.00 | 0 | 0 | 3 | 3 |\n",
       "| Cadillac Fleetwood | 10.4 | 8 | 472.0 | 205 | 2.93 | 5.250 | 17.98 | 0 | 0 | 3 | 4 |\n",
       "| Lincoln Continental | 10.4 | 8 | 460.0 | 215 | 3.00 | 5.424 | 17.82 | 0 | 0 | 3 | 4 |\n",
       "| Chrysler Imperial | 14.7 | 8 | 440.0 | 230 | 3.23 | 5.345 | 17.42 | 0 | 0 | 3 | 4 |\n",
       "| Toyota Corona | 21.5 | 4 | 120.1 |  97 | 3.70 | 2.465 | 20.01 | 1 | 0 | 3 | 1 |\n",
       "| Dodge Challenger | 15.5 | 8 | 318.0 | 150 | 2.76 | 3.520 | 16.87 | 0 | 0 | 3 | 2 |\n",
       "| AMC Javelin | 15.2 | 8 | 304.0 | 150 | 3.15 | 3.435 | 17.30 | 0 | 0 | 3 | 2 |\n",
       "| Camaro Z28 | 13.3 | 8 | 350.0 | 245 | 3.73 | 3.840 | 15.41 | 0 | 0 | 3 | 4 |\n",
       "| Pontiac Firebird | 19.2 | 8 | 400.0 | 175 | 3.08 | 3.845 | 17.05 | 0 | 0 | 3 | 2 |\n",
       "| Ford Pantera L | 15.8 | 8 | 351.0 | 264 | 4.22 | 3.170 | 14.50 | 0 | 1 | 5 | 4 |\n",
       "| Ferrari Dino | 19.7 | 6 | 145.0 | 175 | 3.62 | 2.770 | 15.50 | 0 | 1 | 5 | 6 |\n",
       "| Maserati Bora | 15.0 | 8 | 301.0 | 335 | 3.54 | 3.570 | 14.60 | 0 | 1 | 5 | 8 |\n",
       "| Volvo 142E | 21.4 | 4 | 121.0 | 109 | 4.11 | 2.780 | 18.60 | 1 | 1 | 4 | 2 |\n",
       "\n"
      ],
      "text/plain": [
       "                    mpg  cyl disp  hp  drat wt    qsec  vs am gear carb\n",
       "Mazda RX4           21.0 6   160.0 110 3.90 2.620 16.46 0  1  4    4   \n",
       "Mazda RX4 Wag       21.0 6   160.0 110 3.90 2.875 17.02 0  1  4    4   \n",
       "Hornet 4 Drive      21.4 6   258.0 110 3.08 3.215 19.44 1  0  3    1   \n",
       "Hornet Sportabout   18.7 8   360.0 175 3.15 3.440 17.02 0  0  3    2   \n",
       "Valiant             18.1 6   225.0 105 2.76 3.460 20.22 1  0  3    1   \n",
       "Duster 360          14.3 8   360.0 245 3.21 3.570 15.84 0  0  3    4   \n",
       "Merc 280            19.2 6   167.6 123 3.92 3.440 18.30 1  0  4    4   \n",
       "Merc 280C           17.8 6   167.6 123 3.92 3.440 18.90 1  0  4    4   \n",
       "Merc 450SE          16.4 8   275.8 180 3.07 4.070 17.40 0  0  3    3   \n",
       "Merc 450SL          17.3 8   275.8 180 3.07 3.730 17.60 0  0  3    3   \n",
       "Merc 450SLC         15.2 8   275.8 180 3.07 3.780 18.00 0  0  3    3   \n",
       "Cadillac Fleetwood  10.4 8   472.0 205 2.93 5.250 17.98 0  0  3    4   \n",
       "Lincoln Continental 10.4 8   460.0 215 3.00 5.424 17.82 0  0  3    4   \n",
       "Chrysler Imperial   14.7 8   440.0 230 3.23 5.345 17.42 0  0  3    4   \n",
       "Toyota Corona       21.5 4   120.1  97 3.70 2.465 20.01 1  0  3    1   \n",
       "Dodge Challenger    15.5 8   318.0 150 2.76 3.520 16.87 0  0  3    2   \n",
       "AMC Javelin         15.2 8   304.0 150 3.15 3.435 17.30 0  0  3    2   \n",
       "Camaro Z28          13.3 8   350.0 245 3.73 3.840 15.41 0  0  3    4   \n",
       "Pontiac Firebird    19.2 8   400.0 175 3.08 3.845 17.05 0  0  3    2   \n",
       "Ford Pantera L      15.8 8   351.0 264 4.22 3.170 14.50 0  1  5    4   \n",
       "Ferrari Dino        19.7 6   145.0 175 3.62 2.770 15.50 0  1  5    6   \n",
       "Maserati Bora       15.0 8   301.0 335 3.54 3.570 14.60 0  1  5    8   \n",
       "Volvo 142E          21.4 4   121.0 109 4.11 2.780 18.60 1  1  4    2   "
      ]
     },
     "metadata": {},
     "output_type": "display_data"
    }
   ],
   "source": [
    "mtcars[low_mpg,] #use logical vector"
   ]
  },
  {
   "cell_type": "code",
   "execution_count": 19,
   "metadata": {},
   "outputs": [
    {
     "data": {
      "text/html": [
       "<ol class=list-inline>\n",
       "\t<li>2.62</li>\n",
       "\t<li>2.875</li>\n",
       "\t<li>3.215</li>\n",
       "\t<li>3.44</li>\n",
       "\t<li>3.46</li>\n",
       "\t<li>3.57</li>\n",
       "\t<li>3.44</li>\n",
       "\t<li>3.44</li>\n",
       "\t<li>4.07</li>\n",
       "\t<li>3.73</li>\n",
       "\t<li>3.78</li>\n",
       "\t<li>5.25</li>\n",
       "\t<li>5.424</li>\n",
       "\t<li>5.345</li>\n",
       "\t<li>2.465</li>\n",
       "\t<li>3.52</li>\n",
       "\t<li>3.435</li>\n",
       "\t<li>3.84</li>\n",
       "\t<li>3.845</li>\n",
       "\t<li>3.17</li>\n",
       "\t<li>2.77</li>\n",
       "\t<li>3.57</li>\n",
       "\t<li>2.78</li>\n",
       "</ol>\n"
      ],
      "text/latex": [
       "\\begin{enumerate*}\n",
       "\\item 2.62\n",
       "\\item 2.875\n",
       "\\item 3.215\n",
       "\\item 3.44\n",
       "\\item 3.46\n",
       "\\item 3.57\n",
       "\\item 3.44\n",
       "\\item 3.44\n",
       "\\item 4.07\n",
       "\\item 3.73\n",
       "\\item 3.78\n",
       "\\item 5.25\n",
       "\\item 5.424\n",
       "\\item 5.345\n",
       "\\item 2.465\n",
       "\\item 3.52\n",
       "\\item 3.435\n",
       "\\item 3.84\n",
       "\\item 3.845\n",
       "\\item 3.17\n",
       "\\item 2.77\n",
       "\\item 3.57\n",
       "\\item 2.78\n",
       "\\end{enumerate*}\n"
      ],
      "text/markdown": [
       "1. 2.62\n",
       "2. 2.875\n",
       "3. 3.215\n",
       "4. 3.44\n",
       "5. 3.46\n",
       "6. 3.57\n",
       "7. 3.44\n",
       "8. 3.44\n",
       "9. 4.07\n",
       "10. 3.73\n",
       "11. 3.78\n",
       "12. 5.25\n",
       "13. 5.424\n",
       "14. 5.345\n",
       "15. 2.465\n",
       "16. 3.52\n",
       "17. 3.435\n",
       "18. 3.84\n",
       "19. 3.845\n",
       "20. 3.17\n",
       "21. 2.77\n",
       "22. 3.57\n",
       "23. 2.78\n",
       "\n",
       "\n"
      ],
      "text/plain": [
       " [1] 2.620 2.875 3.215 3.440 3.460 3.570 3.440 3.440 4.070 3.730 3.780 5.250\n",
       "[13] 5.424 5.345 2.465 3.520 3.435 3.840 3.845 3.170 2.770 3.570 2.780"
      ]
     },
     "metadata": {},
     "output_type": "display_data"
    }
   ],
   "source": [
    "mtcars[low_mpg,]$wt"
   ]
  },
  {
   "cell_type": "code",
   "execution_count": 5,
   "metadata": {
    "scrolled": false
   },
   "outputs": [
    {
     "data": {
      "text/html": [
       "<table>\n",
       "<caption>A data.frame: 6 × 2</caption>\n",
       "<thead>\n",
       "\t<tr><th></th><th scope=col>expend</th><th scope=col>stature</th></tr>\n",
       "\t<tr><th></th><th scope=col>&lt;dbl&gt;</th><th scope=col>&lt;fct&gt;</th></tr>\n",
       "</thead>\n",
       "<tbody>\n",
       "\t<tr><th scope=row>1</th><td> 9.21</td><td>obese</td></tr>\n",
       "\t<tr><th scope=row>2</th><td> 7.53</td><td>lean </td></tr>\n",
       "\t<tr><th scope=row>3</th><td> 7.48</td><td>lean </td></tr>\n",
       "\t<tr><th scope=row>4</th><td> 8.08</td><td>lean </td></tr>\n",
       "\t<tr><th scope=row>5</th><td> 8.09</td><td>lean </td></tr>\n",
       "\t<tr><th scope=row>6</th><td>10.15</td><td>lean </td></tr>\n",
       "</tbody>\n",
       "</table>\n"
      ],
      "text/latex": [
       "A data.frame: 6 × 2\n",
       "\\begin{tabular}{r|ll}\n",
       "  & expend & stature\\\\\n",
       "  & <dbl> & <fct>\\\\\n",
       "\\hline\n",
       "\t1 &  9.21 & obese\\\\\n",
       "\t2 &  7.53 & lean \\\\\n",
       "\t3 &  7.48 & lean \\\\\n",
       "\t4 &  8.08 & lean \\\\\n",
       "\t5 &  8.09 & lean \\\\\n",
       "\t6 & 10.15 & lean \\\\\n",
       "\\end{tabular}\n"
      ],
      "text/markdown": [
       "\n",
       "A data.frame: 6 × 2\n",
       "\n",
       "| <!--/--> | expend &lt;dbl&gt; | stature &lt;fct&gt; |\n",
       "|---|---|---|\n",
       "| 1 |  9.21 | obese |\n",
       "| 2 |  7.53 | lean  |\n",
       "| 3 |  7.48 | lean  |\n",
       "| 4 |  8.08 | lean  |\n",
       "| 5 |  8.09 | lean  |\n",
       "| 6 | 10.15 | lean  |\n",
       "\n"
      ],
      "text/plain": [
       "  expend stature\n",
       "1  9.21  obese  \n",
       "2  7.53  lean   \n",
       "3  7.48  lean   \n",
       "4  8.08  lean   \n",
       "5  8.09  lean   \n",
       "6 10.15  lean   "
      ]
     },
     "metadata": {},
     "output_type": "display_data"
    }
   ],
   "source": [
    "library(ISwR)\n",
    "data(energy)\n",
    "head(energy)"
   ]
  },
  {
   "cell_type": "code",
   "execution_count": 11,
   "metadata": {},
   "outputs": [
    {
     "data": {
      "text/html": [
       "<table>\n",
       "<caption>A data.frame: 1 × 2</caption>\n",
       "<thead>\n",
       "\t<tr><th></th><th scope=col>expend</th><th scope=col>stature</th></tr>\n",
       "\t<tr><th></th><th scope=col>&lt;dbl&gt;</th><th scope=col>&lt;fct&gt;</th></tr>\n",
       "</thead>\n",
       "<tbody>\n",
       "\t<tr><th scope=row>2</th><td>7.53</td><td>lean</td></tr>\n",
       "</tbody>\n",
       "</table>\n"
      ],
      "text/latex": [
       "A data.frame: 1 × 2\n",
       "\\begin{tabular}{r|ll}\n",
       "  & expend & stature\\\\\n",
       "  & <dbl> & <fct>\\\\\n",
       "\\hline\n",
       "\t2 & 7.53 & lean\\\\\n",
       "\\end{tabular}\n"
      ],
      "text/markdown": [
       "\n",
       "A data.frame: 1 × 2\n",
       "\n",
       "| <!--/--> | expend &lt;dbl&gt; | stature &lt;fct&gt; |\n",
       "|---|---|---|\n",
       "| 2 | 7.53 | lean |\n",
       "\n"
      ],
      "text/plain": [
       "  expend stature\n",
       "2 7.53   lean   "
      ]
     },
     "metadata": {},
     "output_type": "display_data"
    }
   ],
   "source": [
    "energy[2,]"
   ]
  },
  {
   "cell_type": "code",
   "execution_count": 12,
   "metadata": {
    "scrolled": false
   },
   "outputs": [
    {
     "data": {
      "text/html": [
       "<table>\n",
       "<caption>A data.frame: 13 × 2</caption>\n",
       "<thead>\n",
       "\t<tr><th></th><th scope=col>expend</th><th scope=col>stature</th></tr>\n",
       "\t<tr><th></th><th scope=col>&lt;dbl&gt;</th><th scope=col>&lt;fct&gt;</th></tr>\n",
       "</thead>\n",
       "<tbody>\n",
       "\t<tr><th scope=row>2</th><td> 7.53</td><td>lean</td></tr>\n",
       "\t<tr><th scope=row>3</th><td> 7.48</td><td>lean</td></tr>\n",
       "\t<tr><th scope=row>4</th><td> 8.08</td><td>lean</td></tr>\n",
       "\t<tr><th scope=row>5</th><td> 8.09</td><td>lean</td></tr>\n",
       "\t<tr><th scope=row>6</th><td>10.15</td><td>lean</td></tr>\n",
       "\t<tr><th scope=row>7</th><td> 8.40</td><td>lean</td></tr>\n",
       "\t<tr><th scope=row>8</th><td>10.88</td><td>lean</td></tr>\n",
       "\t<tr><th scope=row>9</th><td> 6.13</td><td>lean</td></tr>\n",
       "\t<tr><th scope=row>10</th><td> 7.90</td><td>lean</td></tr>\n",
       "\t<tr><th scope=row>13</th><td> 7.05</td><td>lean</td></tr>\n",
       "\t<tr><th scope=row>16</th><td> 7.48</td><td>lean</td></tr>\n",
       "\t<tr><th scope=row>20</th><td> 7.58</td><td>lean</td></tr>\n",
       "\t<tr><th scope=row>22</th><td> 8.11</td><td>lean</td></tr>\n",
       "</tbody>\n",
       "</table>\n"
      ],
      "text/latex": [
       "A data.frame: 13 × 2\n",
       "\\begin{tabular}{r|ll}\n",
       "  & expend & stature\\\\\n",
       "  & <dbl> & <fct>\\\\\n",
       "\\hline\n",
       "\t2 &  7.53 & lean\\\\\n",
       "\t3 &  7.48 & lean\\\\\n",
       "\t4 &  8.08 & lean\\\\\n",
       "\t5 &  8.09 & lean\\\\\n",
       "\t6 & 10.15 & lean\\\\\n",
       "\t7 &  8.40 & lean\\\\\n",
       "\t8 & 10.88 & lean\\\\\n",
       "\t9 &  6.13 & lean\\\\\n",
       "\t10 &  7.90 & lean\\\\\n",
       "\t13 &  7.05 & lean\\\\\n",
       "\t16 &  7.48 & lean\\\\\n",
       "\t20 &  7.58 & lean\\\\\n",
       "\t22 &  8.11 & lean\\\\\n",
       "\\end{tabular}\n"
      ],
      "text/markdown": [
       "\n",
       "A data.frame: 13 × 2\n",
       "\n",
       "| <!--/--> | expend &lt;dbl&gt; | stature &lt;fct&gt; |\n",
       "|---|---|---|\n",
       "| 2 |  7.53 | lean |\n",
       "| 3 |  7.48 | lean |\n",
       "| 4 |  8.08 | lean |\n",
       "| 5 |  8.09 | lean |\n",
       "| 6 | 10.15 | lean |\n",
       "| 7 |  8.40 | lean |\n",
       "| 8 | 10.88 | lean |\n",
       "| 9 |  6.13 | lean |\n",
       "| 10 |  7.90 | lean |\n",
       "| 13 |  7.05 | lean |\n",
       "| 16 |  7.48 | lean |\n",
       "| 20 |  7.58 | lean |\n",
       "| 22 |  8.11 | lean |\n",
       "\n"
      ],
      "text/plain": [
       "   expend stature\n",
       "2   7.53  lean   \n",
       "3   7.48  lean   \n",
       "4   8.08  lean   \n",
       "5   8.09  lean   \n",
       "6  10.15  lean   \n",
       "7   8.40  lean   \n",
       "8  10.88  lean   \n",
       "9   6.13  lean   \n",
       "10  7.90  lean   \n",
       "13  7.05  lean   \n",
       "16  7.48  lean   \n",
       "20  7.58  lean   \n",
       "22  8.11  lean   "
      ]
     },
     "metadata": {},
     "output_type": "display_data"
    }
   ],
   "source": [
    "energy[energy$stature== \"lean\",]"
   ]
  },
  {
   "cell_type": "code",
   "execution_count": 9,
   "metadata": {},
   "outputs": [
    {
     "data": {
      "text/html": [
       "<style>\n",
       ".list-inline {list-style: none; margin:0; padding: 0}\n",
       ".list-inline>li {display: inline-block}\n",
       ".list-inline>li:not(:last-child)::after {content: \"\\00b7\"; padding: 0 .5ex}\n",
       "</style>\n",
       "<ol class=list-inline><li>9</li><li>13</li><li>3</li><li>16</li><li>2</li><li>20</li><li>10</li><li>4</li><li>5</li><li>22</li><li>7</li><li>17</li><li>21</li><li>1</li><li>19</li><li>18</li><li>15</li><li>6</li><li>8</li><li>11</li><li>14</li><li>12</li></ol>\n"
      ],
      "text/latex": [
       "\\begin{enumerate*}\n",
       "\\item 9\n",
       "\\item 13\n",
       "\\item 3\n",
       "\\item 16\n",
       "\\item 2\n",
       "\\item 20\n",
       "\\item 10\n",
       "\\item 4\n",
       "\\item 5\n",
       "\\item 22\n",
       "\\item 7\n",
       "\\item 17\n",
       "\\item 21\n",
       "\\item 1\n",
       "\\item 19\n",
       "\\item 18\n",
       "\\item 15\n",
       "\\item 6\n",
       "\\item 8\n",
       "\\item 11\n",
       "\\item 14\n",
       "\\item 12\n",
       "\\end{enumerate*}\n"
      ],
      "text/markdown": [
       "1. 9\n",
       "2. 13\n",
       "3. 3\n",
       "4. 16\n",
       "5. 2\n",
       "6. 20\n",
       "7. 10\n",
       "8. 4\n",
       "9. 5\n",
       "10. 22\n",
       "11. 7\n",
       "12. 17\n",
       "13. 21\n",
       "14. 1\n",
       "15. 19\n",
       "16. 18\n",
       "17. 15\n",
       "18. 6\n",
       "19. 8\n",
       "20. 11\n",
       "21. 14\n",
       "22. 12\n",
       "\n",
       "\n"
      ],
      "text/plain": [
       " [1]  9 13  3 16  2 20 10  4  5 22  7 17 21  1 19 18 15  6  8 11 14 12"
      ]
     },
     "metadata": {},
     "output_type": "display_data"
    }
   ],
   "source": [
    "order(energy$expend) #we learned order/rank/sort"
   ]
  },
  {
   "cell_type": "code",
   "execution_count": 14,
   "metadata": {
    "scrolled": false
   },
   "outputs": [
    {
     "data": {
      "text/html": [
       "<table>\n",
       "<caption>A data.frame: 22 × 2</caption>\n",
       "<thead>\n",
       "\t<tr><th></th><th scope=col>expend</th><th scope=col>stature</th></tr>\n",
       "\t<tr><th></th><th scope=col>&lt;dbl&gt;</th><th scope=col>&lt;fct&gt;</th></tr>\n",
       "</thead>\n",
       "<tbody>\n",
       "\t<tr><th scope=row>9</th><td> 6.13</td><td>lean </td></tr>\n",
       "\t<tr><th scope=row>13</th><td> 7.05</td><td>lean </td></tr>\n",
       "\t<tr><th scope=row>3</th><td> 7.48</td><td>lean </td></tr>\n",
       "\t<tr><th scope=row>16</th><td> 7.48</td><td>lean </td></tr>\n",
       "\t<tr><th scope=row>2</th><td> 7.53</td><td>lean </td></tr>\n",
       "\t<tr><th scope=row>20</th><td> 7.58</td><td>lean </td></tr>\n",
       "\t<tr><th scope=row>10</th><td> 7.90</td><td>lean </td></tr>\n",
       "\t<tr><th scope=row>4</th><td> 8.08</td><td>lean </td></tr>\n",
       "\t<tr><th scope=row>5</th><td> 8.09</td><td>lean </td></tr>\n",
       "\t<tr><th scope=row>22</th><td> 8.11</td><td>lean </td></tr>\n",
       "\t<tr><th scope=row>7</th><td> 8.40</td><td>lean </td></tr>\n",
       "\t<tr><th scope=row>17</th><td> 8.79</td><td>obese</td></tr>\n",
       "\t<tr><th scope=row>21</th><td> 9.19</td><td>obese</td></tr>\n",
       "\t<tr><th scope=row>1</th><td> 9.21</td><td>obese</td></tr>\n",
       "\t<tr><th scope=row>19</th><td> 9.68</td><td>obese</td></tr>\n",
       "\t<tr><th scope=row>18</th><td> 9.69</td><td>obese</td></tr>\n",
       "\t<tr><th scope=row>15</th><td> 9.97</td><td>obese</td></tr>\n",
       "\t<tr><th scope=row>6</th><td>10.15</td><td>lean </td></tr>\n",
       "\t<tr><th scope=row>8</th><td>10.88</td><td>lean </td></tr>\n",
       "\t<tr><th scope=row>11</th><td>11.51</td><td>obese</td></tr>\n",
       "\t<tr><th scope=row>14</th><td>11.85</td><td>obese</td></tr>\n",
       "\t<tr><th scope=row>12</th><td>12.79</td><td>obese</td></tr>\n",
       "</tbody>\n",
       "</table>\n"
      ],
      "text/latex": [
       "A data.frame: 22 × 2\n",
       "\\begin{tabular}{r|ll}\n",
       "  & expend & stature\\\\\n",
       "  & <dbl> & <fct>\\\\\n",
       "\\hline\n",
       "\t9 &  6.13 & lean \\\\\n",
       "\t13 &  7.05 & lean \\\\\n",
       "\t3 &  7.48 & lean \\\\\n",
       "\t16 &  7.48 & lean \\\\\n",
       "\t2 &  7.53 & lean \\\\\n",
       "\t20 &  7.58 & lean \\\\\n",
       "\t10 &  7.90 & lean \\\\\n",
       "\t4 &  8.08 & lean \\\\\n",
       "\t5 &  8.09 & lean \\\\\n",
       "\t22 &  8.11 & lean \\\\\n",
       "\t7 &  8.40 & lean \\\\\n",
       "\t17 &  8.79 & obese\\\\\n",
       "\t21 &  9.19 & obese\\\\\n",
       "\t1 &  9.21 & obese\\\\\n",
       "\t19 &  9.68 & obese\\\\\n",
       "\t18 &  9.69 & obese\\\\\n",
       "\t15 &  9.97 & obese\\\\\n",
       "\t6 & 10.15 & lean \\\\\n",
       "\t8 & 10.88 & lean \\\\\n",
       "\t11 & 11.51 & obese\\\\\n",
       "\t14 & 11.85 & obese\\\\\n",
       "\t12 & 12.79 & obese\\\\\n",
       "\\end{tabular}\n"
      ],
      "text/markdown": [
       "\n",
       "A data.frame: 22 × 2\n",
       "\n",
       "| <!--/--> | expend &lt;dbl&gt; | stature &lt;fct&gt; |\n",
       "|---|---|---|\n",
       "| 9 |  6.13 | lean  |\n",
       "| 13 |  7.05 | lean  |\n",
       "| 3 |  7.48 | lean  |\n",
       "| 16 |  7.48 | lean  |\n",
       "| 2 |  7.53 | lean  |\n",
       "| 20 |  7.58 | lean  |\n",
       "| 10 |  7.90 | lean  |\n",
       "| 4 |  8.08 | lean  |\n",
       "| 5 |  8.09 | lean  |\n",
       "| 22 |  8.11 | lean  |\n",
       "| 7 |  8.40 | lean  |\n",
       "| 17 |  8.79 | obese |\n",
       "| 21 |  9.19 | obese |\n",
       "| 1 |  9.21 | obese |\n",
       "| 19 |  9.68 | obese |\n",
       "| 18 |  9.69 | obese |\n",
       "| 15 |  9.97 | obese |\n",
       "| 6 | 10.15 | lean  |\n",
       "| 8 | 10.88 | lean  |\n",
       "| 11 | 11.51 | obese |\n",
       "| 14 | 11.85 | obese |\n",
       "| 12 | 12.79 | obese |\n",
       "\n"
      ],
      "text/plain": [
       "   expend stature\n",
       "9   6.13  lean   \n",
       "13  7.05  lean   \n",
       "3   7.48  lean   \n",
       "16  7.48  lean   \n",
       "2   7.53  lean   \n",
       "20  7.58  lean   \n",
       "10  7.90  lean   \n",
       "4   8.08  lean   \n",
       "5   8.09  lean   \n",
       "22  8.11  lean   \n",
       "7   8.40  lean   \n",
       "17  8.79  obese  \n",
       "21  9.19  obese  \n",
       "1   9.21  obese  \n",
       "19  9.68  obese  \n",
       "18  9.69  obese  \n",
       "15  9.97  obese  \n",
       "6  10.15  lean   \n",
       "8  10.88  lean   \n",
       "11 11.51  obese  \n",
       "14 11.85  obese  \n",
       "12 12.79  obese  "
      ]
     },
     "metadata": {},
     "output_type": "display_data"
    }
   ],
   "source": [
    "energy[order(energy$expend),]"
   ]
  },
  {
   "cell_type": "code",
   "execution_count": 15,
   "metadata": {},
   "outputs": [
    {
     "data": {
      "text/html": [
       "<style>\n",
       ".list-inline {list-style: none; margin:0; padding: 0}\n",
       ".list-inline>li {display: inline-block}\n",
       ".list-inline>li:not(:last-child)::after {content: \"\\00b7\"; padding: 0 .5ex}\n",
       "</style>\n",
       "<ol class=list-inline><li>FALSE</li><li>FALSE</li><li>FALSE</li><li>TRUE</li><li>TRUE</li><li>TRUE</li><li>TRUE</li><li>TRUE</li><li>FALSE</li><li>FALSE</li><li>FALSE</li><li>FALSE</li><li>FALSE</li><li>FALSE</li><li>FALSE</li><li>FALSE</li><li>FALSE</li><li>FALSE</li><li>FALSE</li><li>FALSE</li><li>FALSE</li><li>TRUE</li></ol>\n"
      ],
      "text/latex": [
       "\\begin{enumerate*}\n",
       "\\item FALSE\n",
       "\\item FALSE\n",
       "\\item FALSE\n",
       "\\item TRUE\n",
       "\\item TRUE\n",
       "\\item TRUE\n",
       "\\item TRUE\n",
       "\\item TRUE\n",
       "\\item FALSE\n",
       "\\item FALSE\n",
       "\\item FALSE\n",
       "\\item FALSE\n",
       "\\item FALSE\n",
       "\\item FALSE\n",
       "\\item FALSE\n",
       "\\item FALSE\n",
       "\\item FALSE\n",
       "\\item FALSE\n",
       "\\item FALSE\n",
       "\\item FALSE\n",
       "\\item FALSE\n",
       "\\item TRUE\n",
       "\\end{enumerate*}\n"
      ],
      "text/markdown": [
       "1. FALSE\n",
       "2. FALSE\n",
       "3. FALSE\n",
       "4. TRUE\n",
       "5. TRUE\n",
       "6. TRUE\n",
       "7. TRUE\n",
       "8. TRUE\n",
       "9. FALSE\n",
       "10. FALSE\n",
       "11. FALSE\n",
       "12. FALSE\n",
       "13. FALSE\n",
       "14. FALSE\n",
       "15. FALSE\n",
       "16. FALSE\n",
       "17. FALSE\n",
       "18. FALSE\n",
       "19. FALSE\n",
       "20. FALSE\n",
       "21. FALSE\n",
       "22. TRUE\n",
       "\n",
       "\n"
      ],
      "text/plain": [
       " [1] FALSE FALSE FALSE  TRUE  TRUE  TRUE  TRUE  TRUE FALSE FALSE FALSE FALSE\n",
       "[13] FALSE FALSE FALSE FALSE FALSE FALSE FALSE FALSE FALSE  TRUE"
      ]
     },
     "metadata": {},
     "output_type": "display_data"
    }
   ],
   "source": [
    "energy$stature==\"lean\" & energy$expend>8"
   ]
  },
  {
   "cell_type": "code",
   "execution_count": 16,
   "metadata": {
    "scrolled": true
   },
   "outputs": [
    {
     "data": {
      "text/html": [
       "<table>\n",
       "<caption>A data.frame: 6 × 2</caption>\n",
       "<thead>\n",
       "\t<tr><th></th><th scope=col>expend</th><th scope=col>stature</th></tr>\n",
       "\t<tr><th></th><th scope=col>&lt;dbl&gt;</th><th scope=col>&lt;fct&gt;</th></tr>\n",
       "</thead>\n",
       "<tbody>\n",
       "\t<tr><th scope=row>4</th><td> 8.08</td><td>lean</td></tr>\n",
       "\t<tr><th scope=row>5</th><td> 8.09</td><td>lean</td></tr>\n",
       "\t<tr><th scope=row>6</th><td>10.15</td><td>lean</td></tr>\n",
       "\t<tr><th scope=row>7</th><td> 8.40</td><td>lean</td></tr>\n",
       "\t<tr><th scope=row>8</th><td>10.88</td><td>lean</td></tr>\n",
       "\t<tr><th scope=row>22</th><td> 8.11</td><td>lean</td></tr>\n",
       "</tbody>\n",
       "</table>\n"
      ],
      "text/latex": [
       "A data.frame: 6 × 2\n",
       "\\begin{tabular}{r|ll}\n",
       "  & expend & stature\\\\\n",
       "  & <dbl> & <fct>\\\\\n",
       "\\hline\n",
       "\t4 &  8.08 & lean\\\\\n",
       "\t5 &  8.09 & lean\\\\\n",
       "\t6 & 10.15 & lean\\\\\n",
       "\t7 &  8.40 & lean\\\\\n",
       "\t8 & 10.88 & lean\\\\\n",
       "\t22 &  8.11 & lean\\\\\n",
       "\\end{tabular}\n"
      ],
      "text/markdown": [
       "\n",
       "A data.frame: 6 × 2\n",
       "\n",
       "| <!--/--> | expend &lt;dbl&gt; | stature &lt;fct&gt; |\n",
       "|---|---|---|\n",
       "| 4 |  8.08 | lean |\n",
       "| 5 |  8.09 | lean |\n",
       "| 6 | 10.15 | lean |\n",
       "| 7 |  8.40 | lean |\n",
       "| 8 | 10.88 | lean |\n",
       "| 22 |  8.11 | lean |\n",
       "\n"
      ],
      "text/plain": [
       "   expend stature\n",
       "4   8.08  lean   \n",
       "5   8.09  lean   \n",
       "6  10.15  lean   \n",
       "7   8.40  lean   \n",
       "8  10.88  lean   \n",
       "22  8.11  lean   "
      ]
     },
     "metadata": {},
     "output_type": "display_data"
    }
   ],
   "source": [
    "subset(energy, stature==\"lean\" & expend>8)"
   ]
  },
  {
   "cell_type": "code",
   "execution_count": 17,
   "metadata": {},
   "outputs": [
    {
     "data": {
      "text/html": [
       "'list'"
      ],
      "text/latex": [
       "'list'"
      ],
      "text/markdown": [
       "'list'"
      ],
      "text/plain": [
       "[1] \"list\""
      ]
     },
     "metadata": {},
     "output_type": "display_data"
    },
    {
     "data": {
      "text/html": [
       "<dl>\n",
       "\t<dt>$lean</dt>\n",
       "\t\t<dd><style>\n",
       ".list-inline {list-style: none; margin:0; padding: 0}\n",
       ".list-inline>li {display: inline-block}\n",
       ".list-inline>li:not(:last-child)::after {content: \"\\00b7\"; padding: 0 .5ex}\n",
       "</style>\n",
       "<ol class=list-inline><li>7.53</li><li>7.48</li><li>8.08</li><li>8.09</li><li>10.15</li><li>8.4</li><li>10.88</li><li>6.13</li><li>7.9</li><li>7.05</li><li>7.48</li><li>7.58</li><li>8.11</li></ol>\n",
       "</dd>\n",
       "\t<dt>$obese</dt>\n",
       "\t\t<dd><style>\n",
       ".list-inline {list-style: none; margin:0; padding: 0}\n",
       ".list-inline>li {display: inline-block}\n",
       ".list-inline>li:not(:last-child)::after {content: \"\\00b7\"; padding: 0 .5ex}\n",
       "</style>\n",
       "<ol class=list-inline><li>9.21</li><li>11.51</li><li>12.79</li><li>11.85</li><li>9.97</li><li>8.79</li><li>9.69</li><li>9.68</li><li>9.19</li></ol>\n",
       "</dd>\n",
       "</dl>\n"
      ],
      "text/latex": [
       "\\begin{description}\n",
       "\\item[\\$lean] \\begin{enumerate*}\n",
       "\\item 7.53\n",
       "\\item 7.48\n",
       "\\item 8.08\n",
       "\\item 8.09\n",
       "\\item 10.15\n",
       "\\item 8.4\n",
       "\\item 10.88\n",
       "\\item 6.13\n",
       "\\item 7.9\n",
       "\\item 7.05\n",
       "\\item 7.48\n",
       "\\item 7.58\n",
       "\\item 8.11\n",
       "\\end{enumerate*}\n",
       "\n",
       "\\item[\\$obese] \\begin{enumerate*}\n",
       "\\item 9.21\n",
       "\\item 11.51\n",
       "\\item 12.79\n",
       "\\item 11.85\n",
       "\\item 9.97\n",
       "\\item 8.79\n",
       "\\item 9.69\n",
       "\\item 9.68\n",
       "\\item 9.19\n",
       "\\end{enumerate*}\n",
       "\n",
       "\\end{description}\n"
      ],
      "text/markdown": [
       "$lean\n",
       ":   1. 7.53\n",
       "2. 7.48\n",
       "3. 8.08\n",
       "4. 8.09\n",
       "5. 10.15\n",
       "6. 8.4\n",
       "7. 10.88\n",
       "8. 6.13\n",
       "9. 7.9\n",
       "10. 7.05\n",
       "11. 7.48\n",
       "12. 7.58\n",
       "13. 8.11\n",
       "\n",
       "\n",
       "\n",
       "$obese\n",
       ":   1. 9.21\n",
       "2. 11.51\n",
       "3. 12.79\n",
       "4. 11.85\n",
       "5. 9.97\n",
       "6. 8.79\n",
       "7. 9.69\n",
       "8. 9.68\n",
       "9. 9.19\n",
       "\n",
       "\n",
       "\n",
       "\n",
       "\n"
      ],
      "text/plain": [
       "$lean\n",
       " [1]  7.53  7.48  8.08  8.09 10.15  8.40 10.88  6.13  7.90  7.05  7.48  7.58\n",
       "[13]  8.11\n",
       "\n",
       "$obese\n",
       "[1]  9.21 11.51 12.79 11.85  9.97  8.79  9.69  9.68  9.19\n"
      ]
     },
     "metadata": {},
     "output_type": "display_data"
    }
   ],
   "source": [
    "x=split(energy$expend, energy$stature) #groupby\n",
    "class(x)\n",
    "x"
   ]
  },
  {
   "cell_type": "code",
   "execution_count": 15,
   "metadata": {
    "scrolled": true
   },
   "outputs": [
    {
     "data": {
      "text/html": [
       "<style>\n",
       ".list-inline {list-style: none; margin:0; padding: 0}\n",
       ".list-inline>li {display: inline-block}\n",
       ".list-inline>li:not(:last-child)::after {content: \"\\00b7\"; padding: 0 .5ex}\n",
       "</style>\n",
       "<ol class=list-inline><li>'tbl_df'</li><li>'tbl'</li><li>'data.frame'</li></ol>\n"
      ],
      "text/latex": [
       "\\begin{enumerate*}\n",
       "\\item 'tbl\\_df'\n",
       "\\item 'tbl'\n",
       "\\item 'data.frame'\n",
       "\\end{enumerate*}\n"
      ],
      "text/markdown": [
       "1. 'tbl_df'\n",
       "2. 'tbl'\n",
       "3. 'data.frame'\n",
       "\n",
       "\n"
      ],
      "text/plain": [
       "[1] \"tbl_df\"     \"tbl\"        \"data.frame\""
      ]
     },
     "metadata": {},
     "output_type": "display_data"
    },
    {
     "data": {
      "text/html": [
       "<table>\n",
       "<caption>A tibble: 6 × 11</caption>\n",
       "<thead>\n",
       "\t<tr><th scope=col>name</th><th scope=col>genus</th><th scope=col>vore</th><th scope=col>order</th><th scope=col>conservation</th><th scope=col>sleep_total</th><th scope=col>sleep_rem</th><th scope=col>sleep_cycle</th><th scope=col>awake</th><th scope=col>brainwt</th><th scope=col>bodywt</th></tr>\n",
       "\t<tr><th scope=col>&lt;chr&gt;</th><th scope=col>&lt;chr&gt;</th><th scope=col>&lt;chr&gt;</th><th scope=col>&lt;chr&gt;</th><th scope=col>&lt;chr&gt;</th><th scope=col>&lt;dbl&gt;</th><th scope=col>&lt;dbl&gt;</th><th scope=col>&lt;dbl&gt;</th><th scope=col>&lt;dbl&gt;</th><th scope=col>&lt;dbl&gt;</th><th scope=col>&lt;dbl&gt;</th></tr>\n",
       "</thead>\n",
       "<tbody>\n",
       "\t<tr><td>Cheetah                   </td><td>Acinonyx  </td><td>carni</td><td>Carnivora   </td><td>lc          </td><td>12.1</td><td> NA</td><td>       NA</td><td>11.9</td><td>     NA</td><td> 50.000</td></tr>\n",
       "\t<tr><td>Owl monkey                </td><td>Aotus     </td><td>omni </td><td>Primates    </td><td>NA          </td><td>17.0</td><td>1.8</td><td>       NA</td><td> 7.0</td><td>0.01550</td><td>  0.480</td></tr>\n",
       "\t<tr><td>Mountain beaver           </td><td>Aplodontia</td><td>herbi</td><td>Rodentia    </td><td>nt          </td><td>14.4</td><td>2.4</td><td>       NA</td><td> 9.6</td><td>     NA</td><td>  1.350</td></tr>\n",
       "\t<tr><td>Greater short-tailed shrew</td><td>Blarina   </td><td>omni </td><td>Soricomorpha</td><td>lc          </td><td>14.9</td><td>2.3</td><td>0.1333333</td><td> 9.1</td><td>0.00029</td><td>  0.019</td></tr>\n",
       "\t<tr><td>Cow                       </td><td>Bos       </td><td>herbi</td><td>Artiodactyla</td><td>domesticated</td><td> 4.0</td><td>0.7</td><td>0.6666667</td><td>20.0</td><td>0.42300</td><td>600.000</td></tr>\n",
       "\t<tr><td>Three-toed sloth          </td><td>Bradypus  </td><td>herbi</td><td>Pilosa      </td><td>NA          </td><td>14.4</td><td>2.2</td><td>0.7666667</td><td> 9.6</td><td>     NA</td><td>  3.850</td></tr>\n",
       "</tbody>\n",
       "</table>\n"
      ],
      "text/latex": [
       "A tibble: 6 × 11\n",
       "\\begin{tabular}{lllllllllll}\n",
       " name & genus & vore & order & conservation & sleep\\_total & sleep\\_rem & sleep\\_cycle & awake & brainwt & bodywt\\\\\n",
       " <chr> & <chr> & <chr> & <chr> & <chr> & <dbl> & <dbl> & <dbl> & <dbl> & <dbl> & <dbl>\\\\\n",
       "\\hline\n",
       "\t Cheetah                    & Acinonyx   & carni & Carnivora    & lc           & 12.1 &  NA &        NA & 11.9 &      NA &  50.000\\\\\n",
       "\t Owl monkey                 & Aotus      & omni  & Primates     & NA           & 17.0 & 1.8 &        NA &  7.0 & 0.01550 &   0.480\\\\\n",
       "\t Mountain beaver            & Aplodontia & herbi & Rodentia     & nt           & 14.4 & 2.4 &        NA &  9.6 &      NA &   1.350\\\\\n",
       "\t Greater short-tailed shrew & Blarina    & omni  & Soricomorpha & lc           & 14.9 & 2.3 & 0.1333333 &  9.1 & 0.00029 &   0.019\\\\\n",
       "\t Cow                        & Bos        & herbi & Artiodactyla & domesticated &  4.0 & 0.7 & 0.6666667 & 20.0 & 0.42300 & 600.000\\\\\n",
       "\t Three-toed sloth           & Bradypus   & herbi & Pilosa       & NA           & 14.4 & 2.2 & 0.7666667 &  9.6 &      NA &   3.850\\\\\n",
       "\\end{tabular}\n"
      ],
      "text/markdown": [
       "\n",
       "A tibble: 6 × 11\n",
       "\n",
       "| name &lt;chr&gt; | genus &lt;chr&gt; | vore &lt;chr&gt; | order &lt;chr&gt; | conservation &lt;chr&gt; | sleep_total &lt;dbl&gt; | sleep_rem &lt;dbl&gt; | sleep_cycle &lt;dbl&gt; | awake &lt;dbl&gt; | brainwt &lt;dbl&gt; | bodywt &lt;dbl&gt; |\n",
       "|---|---|---|---|---|---|---|---|---|---|---|\n",
       "| Cheetah                    | Acinonyx   | carni | Carnivora    | lc           | 12.1 |  NA |        NA | 11.9 |      NA |  50.000 |\n",
       "| Owl monkey                 | Aotus      | omni  | Primates     | NA           | 17.0 | 1.8 |        NA |  7.0 | 0.01550 |   0.480 |\n",
       "| Mountain beaver            | Aplodontia | herbi | Rodentia     | nt           | 14.4 | 2.4 |        NA |  9.6 |      NA |   1.350 |\n",
       "| Greater short-tailed shrew | Blarina    | omni  | Soricomorpha | lc           | 14.9 | 2.3 | 0.1333333 |  9.1 | 0.00029 |   0.019 |\n",
       "| Cow                        | Bos        | herbi | Artiodactyla | domesticated |  4.0 | 0.7 | 0.6666667 | 20.0 | 0.42300 | 600.000 |\n",
       "| Three-toed sloth           | Bradypus   | herbi | Pilosa       | NA           | 14.4 | 2.2 | 0.7666667 |  9.6 |      NA |   3.850 |\n",
       "\n"
      ],
      "text/plain": [
       "  name                       genus      vore  order        conservation\n",
       "1 Cheetah                    Acinonyx   carni Carnivora    lc          \n",
       "2 Owl monkey                 Aotus      omni  Primates     NA          \n",
       "3 Mountain beaver            Aplodontia herbi Rodentia     nt          \n",
       "4 Greater short-tailed shrew Blarina    omni  Soricomorpha lc          \n",
       "5 Cow                        Bos        herbi Artiodactyla domesticated\n",
       "6 Three-toed sloth           Bradypus   herbi Pilosa       NA          \n",
       "  sleep_total sleep_rem sleep_cycle awake brainwt bodywt \n",
       "1 12.1         NA              NA   11.9       NA  50.000\n",
       "2 17.0        1.8              NA    7.0  0.01550   0.480\n",
       "3 14.4        2.4              NA    9.6       NA   1.350\n",
       "4 14.9        2.3       0.1333333    9.1  0.00029   0.019\n",
       "5  4.0        0.7       0.6666667   20.0  0.42300 600.000\n",
       "6 14.4        2.2       0.7666667    9.6       NA   3.850"
      ]
     },
     "metadata": {},
     "output_type": "display_data"
    }
   ],
   "source": [
    "\n",
    "library(ggplot2)\n",
    "class(msleep)\n",
    "head(msleep)"
   ]
  },
  {
   "cell_type": "code",
   "execution_count": 16,
   "metadata": {
    "scrolled": true
   },
   "outputs": [
    {
     "name": "stdout",
     "output_type": "stream",
     "text": [
      "tibble [83 × 11] (S3: tbl_df/tbl/data.frame)\n",
      " $ name        : chr [1:83] \"Cheetah\" \"Owl monkey\" \"Mountain beaver\" \"Greater short-tailed shrew\" ...\n",
      " $ genus       : chr [1:83] \"Acinonyx\" \"Aotus\" \"Aplodontia\" \"Blarina\" ...\n",
      " $ vore        : chr [1:83] \"carni\" \"omni\" \"herbi\" \"omni\" ...\n",
      " $ order       : chr [1:83] \"Carnivora\" \"Primates\" \"Rodentia\" \"Soricomorpha\" ...\n",
      " $ conservation: chr [1:83] \"lc\" NA \"nt\" \"lc\" ...\n",
      " $ sleep_total : num [1:83] 12.1 17 14.4 14.9 4 14.4 8.7 7 10.1 3 ...\n",
      " $ sleep_rem   : num [1:83] NA 1.8 2.4 2.3 0.7 2.2 1.4 NA 2.9 NA ...\n",
      " $ sleep_cycle : num [1:83] NA NA NA 0.133 0.667 ...\n",
      " $ awake       : num [1:83] 11.9 7 9.6 9.1 20 9.6 15.3 17 13.9 21 ...\n",
      " $ brainwt     : num [1:83] NA 0.0155 NA 0.00029 0.423 NA NA NA 0.07 0.0982 ...\n",
      " $ bodywt      : num [1:83] 50 0.48 1.35 0.019 600 ...\n"
     ]
    },
    {
     "data": {
      "text/html": [
       "<style>\n",
       ".list-inline {list-style: none; margin:0; padding: 0}\n",
       ".list-inline>li {display: inline-block}\n",
       ".list-inline>li:not(:last-child)::after {content: \"\\00b7\"; padding: 0 .5ex}\n",
       "</style>\n",
       "<ol class=list-inline><li>'1'</li><li>'2'</li><li>'3'</li><li>'4'</li><li>'5'</li><li>'6'</li><li>'7'</li><li>'8'</li><li>'9'</li><li>'10'</li><li>'11'</li><li>'12'</li><li>'13'</li><li>'14'</li><li>'15'</li><li>'16'</li><li>'17'</li><li>'18'</li><li>'19'</li><li>'20'</li><li>'21'</li><li>'22'</li><li>'23'</li><li>'24'</li><li>'25'</li><li>'26'</li><li>'27'</li><li>'28'</li><li>'29'</li><li>'30'</li><li>'31'</li><li>'32'</li><li>'33'</li><li>'34'</li><li>'35'</li><li>'36'</li><li>'37'</li><li>'38'</li><li>'39'</li><li>'40'</li><li>'41'</li><li>'42'</li><li>'43'</li><li>'44'</li><li>'45'</li><li>'46'</li><li>'47'</li><li>'48'</li><li>'49'</li><li>'50'</li><li>'51'</li><li>'52'</li><li>'53'</li><li>'54'</li><li>'55'</li><li>'56'</li><li>'57'</li><li>'58'</li><li>'59'</li><li>'60'</li><li>'61'</li><li>'62'</li><li>'63'</li><li>'64'</li><li>'65'</li><li>'66'</li><li>'67'</li><li>'68'</li><li>'69'</li><li>'70'</li><li>'71'</li><li>'72'</li><li>'73'</li><li>'74'</li><li>'75'</li><li>'76'</li><li>'77'</li><li>'78'</li><li>'79'</li><li>'80'</li><li>'81'</li><li>'82'</li><li>'83'</li></ol>\n"
      ],
      "text/latex": [
       "\\begin{enumerate*}\n",
       "\\item '1'\n",
       "\\item '2'\n",
       "\\item '3'\n",
       "\\item '4'\n",
       "\\item '5'\n",
       "\\item '6'\n",
       "\\item '7'\n",
       "\\item '8'\n",
       "\\item '9'\n",
       "\\item '10'\n",
       "\\item '11'\n",
       "\\item '12'\n",
       "\\item '13'\n",
       "\\item '14'\n",
       "\\item '15'\n",
       "\\item '16'\n",
       "\\item '17'\n",
       "\\item '18'\n",
       "\\item '19'\n",
       "\\item '20'\n",
       "\\item '21'\n",
       "\\item '22'\n",
       "\\item '23'\n",
       "\\item '24'\n",
       "\\item '25'\n",
       "\\item '26'\n",
       "\\item '27'\n",
       "\\item '28'\n",
       "\\item '29'\n",
       "\\item '30'\n",
       "\\item '31'\n",
       "\\item '32'\n",
       "\\item '33'\n",
       "\\item '34'\n",
       "\\item '35'\n",
       "\\item '36'\n",
       "\\item '37'\n",
       "\\item '38'\n",
       "\\item '39'\n",
       "\\item '40'\n",
       "\\item '41'\n",
       "\\item '42'\n",
       "\\item '43'\n",
       "\\item '44'\n",
       "\\item '45'\n",
       "\\item '46'\n",
       "\\item '47'\n",
       "\\item '48'\n",
       "\\item '49'\n",
       "\\item '50'\n",
       "\\item '51'\n",
       "\\item '52'\n",
       "\\item '53'\n",
       "\\item '54'\n",
       "\\item '55'\n",
       "\\item '56'\n",
       "\\item '57'\n",
       "\\item '58'\n",
       "\\item '59'\n",
       "\\item '60'\n",
       "\\item '61'\n",
       "\\item '62'\n",
       "\\item '63'\n",
       "\\item '64'\n",
       "\\item '65'\n",
       "\\item '66'\n",
       "\\item '67'\n",
       "\\item '68'\n",
       "\\item '69'\n",
       "\\item '70'\n",
       "\\item '71'\n",
       "\\item '72'\n",
       "\\item '73'\n",
       "\\item '74'\n",
       "\\item '75'\n",
       "\\item '76'\n",
       "\\item '77'\n",
       "\\item '78'\n",
       "\\item '79'\n",
       "\\item '80'\n",
       "\\item '81'\n",
       "\\item '82'\n",
       "\\item '83'\n",
       "\\end{enumerate*}\n"
      ],
      "text/markdown": [
       "1. '1'\n",
       "2. '2'\n",
       "3. '3'\n",
       "4. '4'\n",
       "5. '5'\n",
       "6. '6'\n",
       "7. '7'\n",
       "8. '8'\n",
       "9. '9'\n",
       "10. '10'\n",
       "11. '11'\n",
       "12. '12'\n",
       "13. '13'\n",
       "14. '14'\n",
       "15. '15'\n",
       "16. '16'\n",
       "17. '17'\n",
       "18. '18'\n",
       "19. '19'\n",
       "20. '20'\n",
       "21. '21'\n",
       "22. '22'\n",
       "23. '23'\n",
       "24. '24'\n",
       "25. '25'\n",
       "26. '26'\n",
       "27. '27'\n",
       "28. '28'\n",
       "29. '29'\n",
       "30. '30'\n",
       "31. '31'\n",
       "32. '32'\n",
       "33. '33'\n",
       "34. '34'\n",
       "35. '35'\n",
       "36. '36'\n",
       "37. '37'\n",
       "38. '38'\n",
       "39. '39'\n",
       "40. '40'\n",
       "41. '41'\n",
       "42. '42'\n",
       "43. '43'\n",
       "44. '44'\n",
       "45. '45'\n",
       "46. '46'\n",
       "47. '47'\n",
       "48. '48'\n",
       "49. '49'\n",
       "50. '50'\n",
       "51. '51'\n",
       "52. '52'\n",
       "53. '53'\n",
       "54. '54'\n",
       "55. '55'\n",
       "56. '56'\n",
       "57. '57'\n",
       "58. '58'\n",
       "59. '59'\n",
       "60. '60'\n",
       "61. '61'\n",
       "62. '62'\n",
       "63. '63'\n",
       "64. '64'\n",
       "65. '65'\n",
       "66. '66'\n",
       "67. '67'\n",
       "68. '68'\n",
       "69. '69'\n",
       "70. '70'\n",
       "71. '71'\n",
       "72. '72'\n",
       "73. '73'\n",
       "74. '74'\n",
       "75. '75'\n",
       "76. '76'\n",
       "77. '77'\n",
       "78. '78'\n",
       "79. '79'\n",
       "80. '80'\n",
       "81. '81'\n",
       "82. '82'\n",
       "83. '83'\n",
       "\n",
       "\n"
      ],
      "text/plain": [
       " [1] \"1\"  \"2\"  \"3\"  \"4\"  \"5\"  \"6\"  \"7\"  \"8\"  \"9\"  \"10\" \"11\" \"12\" \"13\" \"14\" \"15\"\n",
       "[16] \"16\" \"17\" \"18\" \"19\" \"20\" \"21\" \"22\" \"23\" \"24\" \"25\" \"26\" \"27\" \"28\" \"29\" \"30\"\n",
       "[31] \"31\" \"32\" \"33\" \"34\" \"35\" \"36\" \"37\" \"38\" \"39\" \"40\" \"41\" \"42\" \"43\" \"44\" \"45\"\n",
       "[46] \"46\" \"47\" \"48\" \"49\" \"50\" \"51\" \"52\" \"53\" \"54\" \"55\" \"56\" \"57\" \"58\" \"59\" \"60\"\n",
       "[61] \"61\" \"62\" \"63\" \"64\" \"65\" \"66\" \"67\" \"68\" \"69\" \"70\" \"71\" \"72\" \"73\" \"74\" \"75\"\n",
       "[76] \"76\" \"77\" \"78\" \"79\" \"80\" \"81\" \"82\" \"83\""
      ]
     },
     "metadata": {},
     "output_type": "display_data"
    }
   ],
   "source": [
    "str(msleep)\n",
    "row.names(msleep)"
   ]
  },
  {
   "cell_type": "markdown",
   "metadata": {},
   "source": [
    "### select columns by name"
   ]
  },
  {
   "cell_type": "code",
   "execution_count": 19,
   "metadata": {
    "scrolled": true
   },
   "outputs": [
    {
     "data": {
      "text/html": [
       "<table>\n",
       "<caption>A tibble: 6 × 3</caption>\n",
       "<thead>\n",
       "\t<tr><th scope=col>name</th><th scope=col>sleep_total</th><th scope=col>order</th></tr>\n",
       "\t<tr><th scope=col>&lt;chr&gt;</th><th scope=col>&lt;dbl&gt;</th><th scope=col>&lt;chr&gt;</th></tr>\n",
       "</thead>\n",
       "<tbody>\n",
       "\t<tr><td>Cheetah                   </td><td>12.1</td><td>Carnivora   </td></tr>\n",
       "\t<tr><td>Owl monkey                </td><td>17.0</td><td>Primates    </td></tr>\n",
       "\t<tr><td>Mountain beaver           </td><td>14.4</td><td>Rodentia    </td></tr>\n",
       "\t<tr><td>Greater short-tailed shrew</td><td>14.9</td><td>Soricomorpha</td></tr>\n",
       "\t<tr><td>Cow                       </td><td> 4.0</td><td>Artiodactyla</td></tr>\n",
       "\t<tr><td>Three-toed sloth          </td><td>14.4</td><td>Pilosa      </td></tr>\n",
       "</tbody>\n",
       "</table>\n"
      ],
      "text/latex": [
       "A tibble: 6 × 3\n",
       "\\begin{tabular}{lll}\n",
       " name & sleep\\_total & order\\\\\n",
       " <chr> & <dbl> & <chr>\\\\\n",
       "\\hline\n",
       "\t Cheetah                    & 12.1 & Carnivora   \\\\\n",
       "\t Owl monkey                 & 17.0 & Primates    \\\\\n",
       "\t Mountain beaver            & 14.4 & Rodentia    \\\\\n",
       "\t Greater short-tailed shrew & 14.9 & Soricomorpha\\\\\n",
       "\t Cow                        &  4.0 & Artiodactyla\\\\\n",
       "\t Three-toed sloth           & 14.4 & Pilosa      \\\\\n",
       "\\end{tabular}\n"
      ],
      "text/markdown": [
       "\n",
       "A tibble: 6 × 3\n",
       "\n",
       "| name &lt;chr&gt; | sleep_total &lt;dbl&gt; | order &lt;chr&gt; |\n",
       "|---|---|---|\n",
       "| Cheetah                    | 12.1 | Carnivora    |\n",
       "| Owl monkey                 | 17.0 | Primates     |\n",
       "| Mountain beaver            | 14.4 | Rodentia     |\n",
       "| Greater short-tailed shrew | 14.9 | Soricomorpha |\n",
       "| Cow                        |  4.0 | Artiodactyla |\n",
       "| Three-toed sloth           | 14.4 | Pilosa       |\n",
       "\n"
      ],
      "text/plain": [
       "  name                       sleep_total order       \n",
       "1 Cheetah                    12.1        Carnivora   \n",
       "2 Owl monkey                 17.0        Primates    \n",
       "3 Mountain beaver            14.4        Rodentia    \n",
       "4 Greater short-tailed shrew 14.9        Soricomorpha\n",
       "5 Cow                         4.0        Artiodactyla\n",
       "6 Three-toed sloth           14.4        Pilosa      "
      ]
     },
     "metadata": {},
     "output_type": "display_data"
    }
   ],
   "source": [
    "x=msleep[,c('name', 'sleep_total', 'order')]\n",
    "head(x)"
   ]
  },
  {
   "cell_type": "code",
   "execution_count": 20,
   "metadata": {
    "scrolled": false
   },
   "outputs": [
    {
     "data": {
      "text/html": [
       "<table>\n",
       "<caption>A tibble: 6 × 3</caption>\n",
       "<thead>\n",
       "\t<tr><th scope=col>name</th><th scope=col>sleep_total</th><th scope=col>order</th></tr>\n",
       "\t<tr><th scope=col>&lt;chr&gt;</th><th scope=col>&lt;dbl&gt;</th><th scope=col>&lt;chr&gt;</th></tr>\n",
       "</thead>\n",
       "<tbody>\n",
       "\t<tr><td>Cheetah                   </td><td>12.1</td><td>Carnivora   </td></tr>\n",
       "\t<tr><td>Owl monkey                </td><td>17.0</td><td>Primates    </td></tr>\n",
       "\t<tr><td>Mountain beaver           </td><td>14.4</td><td>Rodentia    </td></tr>\n",
       "\t<tr><td>Greater short-tailed shrew</td><td>14.9</td><td>Soricomorpha</td></tr>\n",
       "\t<tr><td>Cow                       </td><td> 4.0</td><td>Artiodactyla</td></tr>\n",
       "\t<tr><td>Three-toed sloth          </td><td>14.4</td><td>Pilosa      </td></tr>\n",
       "</tbody>\n",
       "</table>\n"
      ],
      "text/latex": [
       "A tibble: 6 × 3\n",
       "\\begin{tabular}{lll}\n",
       " name & sleep\\_total & order\\\\\n",
       " <chr> & <dbl> & <chr>\\\\\n",
       "\\hline\n",
       "\t Cheetah                    & 12.1 & Carnivora   \\\\\n",
       "\t Owl monkey                 & 17.0 & Primates    \\\\\n",
       "\t Mountain beaver            & 14.4 & Rodentia    \\\\\n",
       "\t Greater short-tailed shrew & 14.9 & Soricomorpha\\\\\n",
       "\t Cow                        &  4.0 & Artiodactyla\\\\\n",
       "\t Three-toed sloth           & 14.4 & Pilosa      \\\\\n",
       "\\end{tabular}\n"
      ],
      "text/markdown": [
       "\n",
       "A tibble: 6 × 3\n",
       "\n",
       "| name &lt;chr&gt; | sleep_total &lt;dbl&gt; | order &lt;chr&gt; |\n",
       "|---|---|---|\n",
       "| Cheetah                    | 12.1 | Carnivora    |\n",
       "| Owl monkey                 | 17.0 | Primates     |\n",
       "| Mountain beaver            | 14.4 | Rodentia     |\n",
       "| Greater short-tailed shrew | 14.9 | Soricomorpha |\n",
       "| Cow                        |  4.0 | Artiodactyla |\n",
       "| Three-toed sloth           | 14.4 | Pilosa       |\n",
       "\n"
      ],
      "text/plain": [
       "  name                       sleep_total order       \n",
       "1 Cheetah                    12.1        Carnivora   \n",
       "2 Owl monkey                 17.0        Primates    \n",
       "3 Mountain beaver            14.4        Rodentia    \n",
       "4 Greater short-tailed shrew 14.9        Soricomorpha\n",
       "5 Cow                         4.0        Artiodactyla\n",
       "6 Three-toed sloth           14.4        Pilosa      "
      ]
     },
     "metadata": {},
     "output_type": "display_data"
    }
   ],
   "source": [
    "x=select(msleep, name, sleep_total, order) #only when the name doesn't contain spaces\n",
    "head(x)"
   ]
  },
  {
   "cell_type": "code",
   "execution_count": 22,
   "metadata": {},
   "outputs": [
    {
     "data": {
      "text/html": [
       "<table>\n",
       "<caption>A data.frame: 6 × 3</caption>\n",
       "<thead>\n",
       "\t<tr><th></th><th scope=col>name</th><th scope=col>sleep_total</th><th scope=col>order</th></tr>\n",
       "\t<tr><th></th><th scope=col>&lt;fct&gt;</th><th scope=col>&lt;dbl&gt;</th><th scope=col>&lt;fct&gt;</th></tr>\n",
       "</thead>\n",
       "<tbody>\n",
       "\t<tr><th scope=row>1</th><td>Cheetah                   </td><td>12.1</td><td>Carnivora   </td></tr>\n",
       "\t<tr><th scope=row>2</th><td>Owl monkey                </td><td>17.0</td><td>Primates    </td></tr>\n",
       "\t<tr><th scope=row>3</th><td>Mountain beaver           </td><td>14.4</td><td>Rodentia    </td></tr>\n",
       "\t<tr><th scope=row>4</th><td>Greater short-tailed shrew</td><td>14.9</td><td>Soricomorpha</td></tr>\n",
       "\t<tr><th scope=row>5</th><td>Cow                       </td><td> 4.0</td><td>Artiodactyla</td></tr>\n",
       "\t<tr><th scope=row>6</th><td>Three-toed sloth          </td><td>14.4</td><td>Pilosa      </td></tr>\n",
       "</tbody>\n",
       "</table>\n"
      ],
      "text/latex": [
       "A data.frame: 6 × 3\n",
       "\\begin{tabular}{r|lll}\n",
       "  & name & sleep\\_total & order\\\\\n",
       "  & <fct> & <dbl> & <fct>\\\\\n",
       "\\hline\n",
       "\t1 & Cheetah                    & 12.1 & Carnivora   \\\\\n",
       "\t2 & Owl monkey                 & 17.0 & Primates    \\\\\n",
       "\t3 & Mountain beaver            & 14.4 & Rodentia    \\\\\n",
       "\t4 & Greater short-tailed shrew & 14.9 & Soricomorpha\\\\\n",
       "\t5 & Cow                        &  4.0 & Artiodactyla\\\\\n",
       "\t6 & Three-toed sloth           & 14.4 & Pilosa      \\\\\n",
       "\\end{tabular}\n"
      ],
      "text/markdown": [
       "\n",
       "A data.frame: 6 × 3\n",
       "\n",
       "| <!--/--> | name &lt;fct&gt; | sleep_total &lt;dbl&gt; | order &lt;fct&gt; |\n",
       "|---|---|---|---|\n",
       "| 1 | Cheetah                    | 12.1 | Carnivora    |\n",
       "| 2 | Owl monkey                 | 17.0 | Primates     |\n",
       "| 3 | Mountain beaver            | 14.4 | Rodentia     |\n",
       "| 4 | Greater short-tailed shrew | 14.9 | Soricomorpha |\n",
       "| 5 | Cow                        |  4.0 | Artiodactyla |\n",
       "| 6 | Three-toed sloth           | 14.4 | Pilosa       |\n",
       "\n"
      ],
      "text/plain": [
       "  name                       sleep_total order       \n",
       "1 Cheetah                    12.1        Carnivora   \n",
       "2 Owl monkey                 17.0        Primates    \n",
       "3 Mountain beaver            14.4        Rodentia    \n",
       "4 Greater short-tailed shrew 14.9        Soricomorpha\n",
       "5 Cow                         4.0        Artiodactyla\n",
       "6 Three-toed sloth           14.4        Pilosa      "
      ]
     },
     "metadata": {},
     "output_type": "display_data"
    },
    {
     "data": {
      "text/html": [
       "<table>\n",
       "<caption>A data.frame: 6 × 3</caption>\n",
       "<thead>\n",
       "\t<tr><th></th><th scope=col>name</th><th scope=col>sleep_total</th><th scope=col>order</th></tr>\n",
       "\t<tr><th></th><th scope=col>&lt;fct&gt;</th><th scope=col>&lt;dbl&gt;</th><th scope=col>&lt;fct&gt;</th></tr>\n",
       "</thead>\n",
       "<tbody>\n",
       "\t<tr><th scope=row>1</th><td>Cheetah                   </td><td>12.1</td><td>Carnivora   </td></tr>\n",
       "\t<tr><th scope=row>2</th><td>Owl monkey                </td><td>17.0</td><td>Primates    </td></tr>\n",
       "\t<tr><th scope=row>3</th><td>Mountain beaver           </td><td>14.4</td><td>Rodentia    </td></tr>\n",
       "\t<tr><th scope=row>4</th><td>Greater short-tailed shrew</td><td>14.9</td><td>Soricomorpha</td></tr>\n",
       "\t<tr><th scope=row>5</th><td>Cow                       </td><td> 4.0</td><td>Artiodactyla</td></tr>\n",
       "\t<tr><th scope=row>6</th><td>Three-toed sloth          </td><td>14.4</td><td>Pilosa      </td></tr>\n",
       "</tbody>\n",
       "</table>\n"
      ],
      "text/latex": [
       "A data.frame: 6 × 3\n",
       "\\begin{tabular}{r|lll}\n",
       "  & name & sleep\\_total & order\\\\\n",
       "  & <fct> & <dbl> & <fct>\\\\\n",
       "\\hline\n",
       "\t1 & Cheetah                    & 12.1 & Carnivora   \\\\\n",
       "\t2 & Owl monkey                 & 17.0 & Primates    \\\\\n",
       "\t3 & Mountain beaver            & 14.4 & Rodentia    \\\\\n",
       "\t4 & Greater short-tailed shrew & 14.9 & Soricomorpha\\\\\n",
       "\t5 & Cow                        &  4.0 & Artiodactyla\\\\\n",
       "\t6 & Three-toed sloth           & 14.4 & Pilosa      \\\\\n",
       "\\end{tabular}\n"
      ],
      "text/markdown": [
       "\n",
       "A data.frame: 6 × 3\n",
       "\n",
       "| <!--/--> | name &lt;fct&gt; | sleep_total &lt;dbl&gt; | order &lt;fct&gt; |\n",
       "|---|---|---|---|\n",
       "| 1 | Cheetah                    | 12.1 | Carnivora    |\n",
       "| 2 | Owl monkey                 | 17.0 | Primates     |\n",
       "| 3 | Mountain beaver            | 14.4 | Rodentia     |\n",
       "| 4 | Greater short-tailed shrew | 14.9 | Soricomorpha |\n",
       "| 5 | Cow                        |  4.0 | Artiodactyla |\n",
       "| 6 | Three-toed sloth           | 14.4 | Pilosa       |\n",
       "\n"
      ],
      "text/plain": [
       "  name                       sleep_total order       \n",
       "1 Cheetah                    12.1        Carnivora   \n",
       "2 Owl monkey                 17.0        Primates    \n",
       "3 Mountain beaver            14.4        Rodentia    \n",
       "4 Greater short-tailed shrew 14.9        Soricomorpha\n",
       "5 Cow                         4.0        Artiodactyla\n",
       "6 Three-toed sloth           14.4        Pilosa      "
      ]
     },
     "metadata": {},
     "output_type": "display_data"
    }
   ],
   "source": [
    "x=select(msleep, c('name', 'sleep_total', 'order'))\n",
    "head(x)\n",
    "x=select(msleep, 'name', 'sleep_total', 'order')\n",
    "head(x)"
   ]
  },
  {
   "cell_type": "code",
   "execution_count": 23,
   "metadata": {
    "scrolled": false
   },
   "outputs": [
    {
     "data": {
      "text/html": [
       "<table>\n",
       "<caption>A data.frame: 6 × 8</caption>\n",
       "<thead>\n",
       "\t<tr><th></th><th scope=col>genus</th><th scope=col>vore</th><th scope=col>conservation</th><th scope=col>sleep_rem</th><th scope=col>sleep_cycle</th><th scope=col>awake</th><th scope=col>brainwt</th><th scope=col>bodywt</th></tr>\n",
       "\t<tr><th></th><th scope=col>&lt;fct&gt;</th><th scope=col>&lt;fct&gt;</th><th scope=col>&lt;fct&gt;</th><th scope=col>&lt;dbl&gt;</th><th scope=col>&lt;dbl&gt;</th><th scope=col>&lt;dbl&gt;</th><th scope=col>&lt;dbl&gt;</th><th scope=col>&lt;dbl&gt;</th></tr>\n",
       "</thead>\n",
       "<tbody>\n",
       "\t<tr><th scope=row>1</th><td>Acinonyx  </td><td>carni</td><td>lc          </td><td> NA</td><td>       NA</td><td>11.9</td><td>     NA</td><td> 50.000</td></tr>\n",
       "\t<tr><th scope=row>2</th><td>Aotus     </td><td>omni </td><td>NA          </td><td>1.8</td><td>       NA</td><td> 7.0</td><td>0.01550</td><td>  0.480</td></tr>\n",
       "\t<tr><th scope=row>3</th><td>Aplodontia</td><td>herbi</td><td>nt          </td><td>2.4</td><td>       NA</td><td> 9.6</td><td>     NA</td><td>  1.350</td></tr>\n",
       "\t<tr><th scope=row>4</th><td>Blarina   </td><td>omni </td><td>lc          </td><td>2.3</td><td>0.1333333</td><td> 9.1</td><td>0.00029</td><td>  0.019</td></tr>\n",
       "\t<tr><th scope=row>5</th><td>Bos       </td><td>herbi</td><td>domesticated</td><td>0.7</td><td>0.6666667</td><td>20.0</td><td>0.42300</td><td>600.000</td></tr>\n",
       "\t<tr><th scope=row>6</th><td>Bradypus  </td><td>herbi</td><td>NA          </td><td>2.2</td><td>0.7666667</td><td> 9.6</td><td>     NA</td><td>  3.850</td></tr>\n",
       "</tbody>\n",
       "</table>\n"
      ],
      "text/latex": [
       "A data.frame: 6 × 8\n",
       "\\begin{tabular}{r|llllllll}\n",
       "  & genus & vore & conservation & sleep\\_rem & sleep\\_cycle & awake & brainwt & bodywt\\\\\n",
       "  & <fct> & <fct> & <fct> & <dbl> & <dbl> & <dbl> & <dbl> & <dbl>\\\\\n",
       "\\hline\n",
       "\t1 & Acinonyx   & carni & lc           &  NA &        NA & 11.9 &      NA &  50.000\\\\\n",
       "\t2 & Aotus      & omni  & NA           & 1.8 &        NA &  7.0 & 0.01550 &   0.480\\\\\n",
       "\t3 & Aplodontia & herbi & nt           & 2.4 &        NA &  9.6 &      NA &   1.350\\\\\n",
       "\t4 & Blarina    & omni  & lc           & 2.3 & 0.1333333 &  9.1 & 0.00029 &   0.019\\\\\n",
       "\t5 & Bos        & herbi & domesticated & 0.7 & 0.6666667 & 20.0 & 0.42300 & 600.000\\\\\n",
       "\t6 & Bradypus   & herbi & NA           & 2.2 & 0.7666667 &  9.6 &      NA &   3.850\\\\\n",
       "\\end{tabular}\n"
      ],
      "text/markdown": [
       "\n",
       "A data.frame: 6 × 8\n",
       "\n",
       "| <!--/--> | genus &lt;fct&gt; | vore &lt;fct&gt; | conservation &lt;fct&gt; | sleep_rem &lt;dbl&gt; | sleep_cycle &lt;dbl&gt; | awake &lt;dbl&gt; | brainwt &lt;dbl&gt; | bodywt &lt;dbl&gt; |\n",
       "|---|---|---|---|---|---|---|---|---|\n",
       "| 1 | Acinonyx   | carni | lc           |  NA |        NA | 11.9 |      NA |  50.000 |\n",
       "| 2 | Aotus      | omni  | NA           | 1.8 |        NA |  7.0 | 0.01550 |   0.480 |\n",
       "| 3 | Aplodontia | herbi | nt           | 2.4 |        NA |  9.6 |      NA |   1.350 |\n",
       "| 4 | Blarina    | omni  | lc           | 2.3 | 0.1333333 |  9.1 | 0.00029 |   0.019 |\n",
       "| 5 | Bos        | herbi | domesticated | 0.7 | 0.6666667 | 20.0 | 0.42300 | 600.000 |\n",
       "| 6 | Bradypus   | herbi | NA           | 2.2 | 0.7666667 |  9.6 |      NA |   3.850 |\n",
       "\n"
      ],
      "text/plain": [
       "  genus      vore  conservation sleep_rem sleep_cycle awake brainwt bodywt \n",
       "1 Acinonyx   carni lc            NA              NA   11.9       NA  50.000\n",
       "2 Aotus      omni  NA           1.8              NA    7.0  0.01550   0.480\n",
       "3 Aplodontia herbi nt           2.4              NA    9.6       NA   1.350\n",
       "4 Blarina    omni  lc           2.3       0.1333333    9.1  0.00029   0.019\n",
       "5 Bos        herbi domesticated 0.7       0.6666667   20.0  0.42300 600.000\n",
       "6 Bradypus   herbi NA           2.2       0.7666667    9.6       NA   3.850"
      ]
     },
     "metadata": {},
     "output_type": "display_data"
    }
   ],
   "source": [
    "x=select(msleep, -name, -sleep_total, -order) #negative means \"exclude\"\n",
    "head(x)"
   ]
  },
  {
   "cell_type": "code",
   "execution_count": 24,
   "metadata": {},
   "outputs": [
    {
     "data": {
      "text/html": [
       "<table>\n",
       "<caption>A data.frame: 6 × 10</caption>\n",
       "<thead>\n",
       "\t<tr><th></th><th scope=col>genus</th><th scope=col>vore</th><th scope=col>order</th><th scope=col>conservation</th><th scope=col>sleep_total</th><th scope=col>sleep_rem</th><th scope=col>sleep_cycle</th><th scope=col>awake</th><th scope=col>brainwt</th><th scope=col>bodywt</th></tr>\n",
       "\t<tr><th></th><th scope=col>&lt;fct&gt;</th><th scope=col>&lt;fct&gt;</th><th scope=col>&lt;fct&gt;</th><th scope=col>&lt;fct&gt;</th><th scope=col>&lt;dbl&gt;</th><th scope=col>&lt;dbl&gt;</th><th scope=col>&lt;dbl&gt;</th><th scope=col>&lt;dbl&gt;</th><th scope=col>&lt;dbl&gt;</th><th scope=col>&lt;dbl&gt;</th></tr>\n",
       "</thead>\n",
       "<tbody>\n",
       "\t<tr><th scope=row>1</th><td>Acinonyx  </td><td>carni</td><td>Carnivora   </td><td>lc          </td><td>12.1</td><td> NA</td><td>       NA</td><td>11.9</td><td>     NA</td><td> 50.000</td></tr>\n",
       "\t<tr><th scope=row>2</th><td>Aotus     </td><td>omni </td><td>Primates    </td><td>NA          </td><td>17.0</td><td>1.8</td><td>       NA</td><td> 7.0</td><td>0.01550</td><td>  0.480</td></tr>\n",
       "\t<tr><th scope=row>3</th><td>Aplodontia</td><td>herbi</td><td>Rodentia    </td><td>nt          </td><td>14.4</td><td>2.4</td><td>       NA</td><td> 9.6</td><td>     NA</td><td>  1.350</td></tr>\n",
       "\t<tr><th scope=row>4</th><td>Blarina   </td><td>omni </td><td>Soricomorpha</td><td>lc          </td><td>14.9</td><td>2.3</td><td>0.1333333</td><td> 9.1</td><td>0.00029</td><td>  0.019</td></tr>\n",
       "\t<tr><th scope=row>5</th><td>Bos       </td><td>herbi</td><td>Artiodactyla</td><td>domesticated</td><td> 4.0</td><td>0.7</td><td>0.6666667</td><td>20.0</td><td>0.42300</td><td>600.000</td></tr>\n",
       "\t<tr><th scope=row>6</th><td>Bradypus  </td><td>herbi</td><td>Pilosa      </td><td>NA          </td><td>14.4</td><td>2.2</td><td>0.7666667</td><td> 9.6</td><td>     NA</td><td>  3.850</td></tr>\n",
       "</tbody>\n",
       "</table>\n"
      ],
      "text/latex": [
       "A data.frame: 6 × 10\n",
       "\\begin{tabular}{r|llllllllll}\n",
       "  & genus & vore & order & conservation & sleep\\_total & sleep\\_rem & sleep\\_cycle & awake & brainwt & bodywt\\\\\n",
       "  & <fct> & <fct> & <fct> & <fct> & <dbl> & <dbl> & <dbl> & <dbl> & <dbl> & <dbl>\\\\\n",
       "\\hline\n",
       "\t1 & Acinonyx   & carni & Carnivora    & lc           & 12.1 &  NA &        NA & 11.9 &      NA &  50.000\\\\\n",
       "\t2 & Aotus      & omni  & Primates     & NA           & 17.0 & 1.8 &        NA &  7.0 & 0.01550 &   0.480\\\\\n",
       "\t3 & Aplodontia & herbi & Rodentia     & nt           & 14.4 & 2.4 &        NA &  9.6 &      NA &   1.350\\\\\n",
       "\t4 & Blarina    & omni  & Soricomorpha & lc           & 14.9 & 2.3 & 0.1333333 &  9.1 & 0.00029 &   0.019\\\\\n",
       "\t5 & Bos        & herbi & Artiodactyla & domesticated &  4.0 & 0.7 & 0.6666667 & 20.0 & 0.42300 & 600.000\\\\\n",
       "\t6 & Bradypus   & herbi & Pilosa       & NA           & 14.4 & 2.2 & 0.7666667 &  9.6 &      NA &   3.850\\\\\n",
       "\\end{tabular}\n"
      ],
      "text/markdown": [
       "\n",
       "A data.frame: 6 × 10\n",
       "\n",
       "| <!--/--> | genus &lt;fct&gt; | vore &lt;fct&gt; | order &lt;fct&gt; | conservation &lt;fct&gt; | sleep_total &lt;dbl&gt; | sleep_rem &lt;dbl&gt; | sleep_cycle &lt;dbl&gt; | awake &lt;dbl&gt; | brainwt &lt;dbl&gt; | bodywt &lt;dbl&gt; |\n",
       "|---|---|---|---|---|---|---|---|---|---|---|\n",
       "| 1 | Acinonyx   | carni | Carnivora    | lc           | 12.1 |  NA |        NA | 11.9 |      NA |  50.000 |\n",
       "| 2 | Aotus      | omni  | Primates     | NA           | 17.0 | 1.8 |        NA |  7.0 | 0.01550 |   0.480 |\n",
       "| 3 | Aplodontia | herbi | Rodentia     | nt           | 14.4 | 2.4 |        NA |  9.6 |      NA |   1.350 |\n",
       "| 4 | Blarina    | omni  | Soricomorpha | lc           | 14.9 | 2.3 | 0.1333333 |  9.1 | 0.00029 |   0.019 |\n",
       "| 5 | Bos        | herbi | Artiodactyla | domesticated |  4.0 | 0.7 | 0.6666667 | 20.0 | 0.42300 | 600.000 |\n",
       "| 6 | Bradypus   | herbi | Pilosa       | NA           | 14.4 | 2.2 | 0.7666667 |  9.6 |      NA |   3.850 |\n",
       "\n"
      ],
      "text/plain": [
       "  genus      vore  order        conservation sleep_total sleep_rem sleep_cycle\n",
       "1 Acinonyx   carni Carnivora    lc           12.1         NA              NA  \n",
       "2 Aotus      omni  Primates     NA           17.0        1.8              NA  \n",
       "3 Aplodontia herbi Rodentia     nt           14.4        2.4              NA  \n",
       "4 Blarina    omni  Soricomorpha lc           14.9        2.3       0.1333333  \n",
       "5 Bos        herbi Artiodactyla domesticated  4.0        0.7       0.6666667  \n",
       "6 Bradypus   herbi Pilosa       NA           14.4        2.2       0.7666667  \n",
       "  awake brainwt bodywt \n",
       "1 11.9       NA  50.000\n",
       "2  7.0  0.01550   0.480\n",
       "3  9.6       NA   1.350\n",
       "4  9.1  0.00029   0.019\n",
       "5 20.0  0.42300 600.000\n",
       "6  9.6       NA   3.850"
      ]
     },
     "metadata": {},
     "output_type": "display_data"
    },
    {
     "data": {
      "text/html": [
       "<table>\n",
       "<caption>A data.frame: 6 × 11</caption>\n",
       "<thead>\n",
       "\t<tr><th></th><th scope=col>name</th><th scope=col>genus</th><th scope=col>vore</th><th scope=col>order</th><th scope=col>conservation</th><th scope=col>sleep_total</th><th scope=col>sleep_rem</th><th scope=col>sleep_cycle</th><th scope=col>awake</th><th scope=col>brainwt</th><th scope=col>bodywt</th></tr>\n",
       "\t<tr><th></th><th scope=col>&lt;fct&gt;</th><th scope=col>&lt;fct&gt;</th><th scope=col>&lt;fct&gt;</th><th scope=col>&lt;fct&gt;</th><th scope=col>&lt;fct&gt;</th><th scope=col>&lt;dbl&gt;</th><th scope=col>&lt;dbl&gt;</th><th scope=col>&lt;dbl&gt;</th><th scope=col>&lt;dbl&gt;</th><th scope=col>&lt;dbl&gt;</th><th scope=col>&lt;dbl&gt;</th></tr>\n",
       "</thead>\n",
       "<tbody>\n",
       "\t<tr><th scope=row>1</th><td>Cheetah                   </td><td>Acinonyx  </td><td>carni</td><td>Carnivora   </td><td>lc          </td><td>12.1</td><td> NA</td><td>       NA</td><td>11.9</td><td>     NA</td><td> 50.000</td></tr>\n",
       "\t<tr><th scope=row>2</th><td>Owl monkey                </td><td>Aotus     </td><td>omni </td><td>Primates    </td><td>NA          </td><td>17.0</td><td>1.8</td><td>       NA</td><td> 7.0</td><td>0.01550</td><td>  0.480</td></tr>\n",
       "\t<tr><th scope=row>3</th><td>Mountain beaver           </td><td>Aplodontia</td><td>herbi</td><td>Rodentia    </td><td>nt          </td><td>14.4</td><td>2.4</td><td>       NA</td><td> 9.6</td><td>     NA</td><td>  1.350</td></tr>\n",
       "\t<tr><th scope=row>4</th><td>Greater short-tailed shrew</td><td>Blarina   </td><td>omni </td><td>Soricomorpha</td><td>lc          </td><td>14.9</td><td>2.3</td><td>0.1333333</td><td> 9.1</td><td>0.00029</td><td>  0.019</td></tr>\n",
       "\t<tr><th scope=row>5</th><td>Cow                       </td><td>Bos       </td><td>herbi</td><td>Artiodactyla</td><td>domesticated</td><td> 4.0</td><td>0.7</td><td>0.6666667</td><td>20.0</td><td>0.42300</td><td>600.000</td></tr>\n",
       "\t<tr><th scope=row>6</th><td>Three-toed sloth          </td><td>Bradypus  </td><td>herbi</td><td>Pilosa      </td><td>NA          </td><td>14.4</td><td>2.2</td><td>0.7666667</td><td> 9.6</td><td>     NA</td><td>  3.850</td></tr>\n",
       "</tbody>\n",
       "</table>\n"
      ],
      "text/latex": [
       "A data.frame: 6 × 11\n",
       "\\begin{tabular}{r|lllllllllll}\n",
       "  & name & genus & vore & order & conservation & sleep\\_total & sleep\\_rem & sleep\\_cycle & awake & brainwt & bodywt\\\\\n",
       "  & <fct> & <fct> & <fct> & <fct> & <fct> & <dbl> & <dbl> & <dbl> & <dbl> & <dbl> & <dbl>\\\\\n",
       "\\hline\n",
       "\t1 & Cheetah                    & Acinonyx   & carni & Carnivora    & lc           & 12.1 &  NA &        NA & 11.9 &      NA &  50.000\\\\\n",
       "\t2 & Owl monkey                 & Aotus      & omni  & Primates     & NA           & 17.0 & 1.8 &        NA &  7.0 & 0.01550 &   0.480\\\\\n",
       "\t3 & Mountain beaver            & Aplodontia & herbi & Rodentia     & nt           & 14.4 & 2.4 &        NA &  9.6 &      NA &   1.350\\\\\n",
       "\t4 & Greater short-tailed shrew & Blarina    & omni  & Soricomorpha & lc           & 14.9 & 2.3 & 0.1333333 &  9.1 & 0.00029 &   0.019\\\\\n",
       "\t5 & Cow                        & Bos        & herbi & Artiodactyla & domesticated &  4.0 & 0.7 & 0.6666667 & 20.0 & 0.42300 & 600.000\\\\\n",
       "\t6 & Three-toed sloth           & Bradypus   & herbi & Pilosa       & NA           & 14.4 & 2.2 & 0.7666667 &  9.6 &      NA &   3.850\\\\\n",
       "\\end{tabular}\n"
      ],
      "text/markdown": [
       "\n",
       "A data.frame: 6 × 11\n",
       "\n",
       "| <!--/--> | name &lt;fct&gt; | genus &lt;fct&gt; | vore &lt;fct&gt; | order &lt;fct&gt; | conservation &lt;fct&gt; | sleep_total &lt;dbl&gt; | sleep_rem &lt;dbl&gt; | sleep_cycle &lt;dbl&gt; | awake &lt;dbl&gt; | brainwt &lt;dbl&gt; | bodywt &lt;dbl&gt; |\n",
       "|---|---|---|---|---|---|---|---|---|---|---|---|\n",
       "| 1 | Cheetah                    | Acinonyx   | carni | Carnivora    | lc           | 12.1 |  NA |        NA | 11.9 |      NA |  50.000 |\n",
       "| 2 | Owl monkey                 | Aotus      | omni  | Primates     | NA           | 17.0 | 1.8 |        NA |  7.0 | 0.01550 |   0.480 |\n",
       "| 3 | Mountain beaver            | Aplodontia | herbi | Rodentia     | nt           | 14.4 | 2.4 |        NA |  9.6 |      NA |   1.350 |\n",
       "| 4 | Greater short-tailed shrew | Blarina    | omni  | Soricomorpha | lc           | 14.9 | 2.3 | 0.1333333 |  9.1 | 0.00029 |   0.019 |\n",
       "| 5 | Cow                        | Bos        | herbi | Artiodactyla | domesticated |  4.0 | 0.7 | 0.6666667 | 20.0 | 0.42300 | 600.000 |\n",
       "| 6 | Three-toed sloth           | Bradypus   | herbi | Pilosa       | NA           | 14.4 | 2.2 | 0.7666667 |  9.6 |      NA |   3.850 |\n",
       "\n"
      ],
      "text/plain": [
       "  name                       genus      vore  order        conservation\n",
       "1 Cheetah                    Acinonyx   carni Carnivora    lc          \n",
       "2 Owl monkey                 Aotus      omni  Primates     NA          \n",
       "3 Mountain beaver            Aplodontia herbi Rodentia     nt          \n",
       "4 Greater short-tailed shrew Blarina    omni  Soricomorpha lc          \n",
       "5 Cow                        Bos        herbi Artiodactyla domesticated\n",
       "6 Three-toed sloth           Bradypus   herbi Pilosa       NA          \n",
       "  sleep_total sleep_rem sleep_cycle awake brainwt bodywt \n",
       "1 12.1         NA              NA   11.9       NA  50.000\n",
       "2 17.0        1.8              NA    7.0  0.01550   0.480\n",
       "3 14.4        2.4              NA    9.6       NA   1.350\n",
       "4 14.9        2.3       0.1333333    9.1  0.00029   0.019\n",
       "5  4.0        0.7       0.6666667   20.0  0.42300 600.000\n",
       "6 14.4        2.2       0.7666667    9.6       NA   3.850"
      ]
     },
     "metadata": {},
     "output_type": "display_data"
    }
   ],
   "source": [
    "x=select(msleep, -name, order)  # don't mix them together. what exactly do you want?\n",
    "head(x)\n",
    "head(msleep)"
   ]
  },
  {
   "cell_type": "code",
   "execution_count": 25,
   "metadata": {
    "scrolled": true
   },
   "outputs": [
    {
     "data": {
      "text/html": [
       "<table>\n",
       "<caption>A data.frame: 6 × 6</caption>\n",
       "<thead>\n",
       "\t<tr><th></th><th scope=col>order</th><th scope=col>conservation</th><th scope=col>sleep_total</th><th scope=col>sleep_rem</th><th scope=col>sleep_cycle</th><th scope=col>awake</th></tr>\n",
       "\t<tr><th></th><th scope=col>&lt;fct&gt;</th><th scope=col>&lt;fct&gt;</th><th scope=col>&lt;dbl&gt;</th><th scope=col>&lt;dbl&gt;</th><th scope=col>&lt;dbl&gt;</th><th scope=col>&lt;dbl&gt;</th></tr>\n",
       "</thead>\n",
       "<tbody>\n",
       "\t<tr><th scope=row>1</th><td>Carnivora   </td><td>lc          </td><td>12.1</td><td> NA</td><td>       NA</td><td>11.9</td></tr>\n",
       "\t<tr><th scope=row>2</th><td>Primates    </td><td>NA          </td><td>17.0</td><td>1.8</td><td>       NA</td><td> 7.0</td></tr>\n",
       "\t<tr><th scope=row>3</th><td>Rodentia    </td><td>nt          </td><td>14.4</td><td>2.4</td><td>       NA</td><td> 9.6</td></tr>\n",
       "\t<tr><th scope=row>4</th><td>Soricomorpha</td><td>lc          </td><td>14.9</td><td>2.3</td><td>0.1333333</td><td> 9.1</td></tr>\n",
       "\t<tr><th scope=row>5</th><td>Artiodactyla</td><td>domesticated</td><td> 4.0</td><td>0.7</td><td>0.6666667</td><td>20.0</td></tr>\n",
       "\t<tr><th scope=row>6</th><td>Pilosa      </td><td>NA          </td><td>14.4</td><td>2.2</td><td>0.7666667</td><td> 9.6</td></tr>\n",
       "</tbody>\n",
       "</table>\n"
      ],
      "text/latex": [
       "A data.frame: 6 × 6\n",
       "\\begin{tabular}{r|llllll}\n",
       "  & order & conservation & sleep\\_total & sleep\\_rem & sleep\\_cycle & awake\\\\\n",
       "  & <fct> & <fct> & <dbl> & <dbl> & <dbl> & <dbl>\\\\\n",
       "\\hline\n",
       "\t1 & Carnivora    & lc           & 12.1 &  NA &        NA & 11.9\\\\\n",
       "\t2 & Primates     & NA           & 17.0 & 1.8 &        NA &  7.0\\\\\n",
       "\t3 & Rodentia     & nt           & 14.4 & 2.4 &        NA &  9.6\\\\\n",
       "\t4 & Soricomorpha & lc           & 14.9 & 2.3 & 0.1333333 &  9.1\\\\\n",
       "\t5 & Artiodactyla & domesticated &  4.0 & 0.7 & 0.6666667 & 20.0\\\\\n",
       "\t6 & Pilosa       & NA           & 14.4 & 2.2 & 0.7666667 &  9.6\\\\\n",
       "\\end{tabular}\n"
      ],
      "text/markdown": [
       "\n",
       "A data.frame: 6 × 6\n",
       "\n",
       "| <!--/--> | order &lt;fct&gt; | conservation &lt;fct&gt; | sleep_total &lt;dbl&gt; | sleep_rem &lt;dbl&gt; | sleep_cycle &lt;dbl&gt; | awake &lt;dbl&gt; |\n",
       "|---|---|---|---|---|---|---|\n",
       "| 1 | Carnivora    | lc           | 12.1 |  NA |        NA | 11.9 |\n",
       "| 2 | Primates     | NA           | 17.0 | 1.8 |        NA |  7.0 |\n",
       "| 3 | Rodentia     | nt           | 14.4 | 2.4 |        NA |  9.6 |\n",
       "| 4 | Soricomorpha | lc           | 14.9 | 2.3 | 0.1333333 |  9.1 |\n",
       "| 5 | Artiodactyla | domesticated |  4.0 | 0.7 | 0.6666667 | 20.0 |\n",
       "| 6 | Pilosa       | NA           | 14.4 | 2.2 | 0.7666667 |  9.6 |\n",
       "\n"
      ],
      "text/plain": [
       "  order        conservation sleep_total sleep_rem sleep_cycle awake\n",
       "1 Carnivora    lc           12.1         NA              NA   11.9 \n",
       "2 Primates     NA           17.0        1.8              NA    7.0 \n",
       "3 Rodentia     nt           14.4        2.4              NA    9.6 \n",
       "4 Soricomorpha lc           14.9        2.3       0.1333333    9.1 \n",
       "5 Artiodactyla domesticated  4.0        0.7       0.6666667   20.0 \n",
       "6 Pilosa       NA           14.4        2.2       0.7666667    9.6 "
      ]
     },
     "metadata": {},
     "output_type": "display_data"
    }
   ],
   "source": [
    "x=select(msleep, order:awake)\n",
    "head(x)"
   ]
  },
  {
   "cell_type": "markdown",
   "metadata": {},
   "source": [
    "### select columns by name pattern"
   ]
  },
  {
   "cell_type": "code",
   "execution_count": 26,
   "metadata": {
    "scrolled": true
   },
   "outputs": [
    {
     "data": {
      "text/html": [
       "<table>\n",
       "<caption>A data.frame: 6 × 3</caption>\n",
       "<thead>\n",
       "\t<tr><th></th><th scope=col>sleep_total</th><th scope=col>sleep_rem</th><th scope=col>sleep_cycle</th></tr>\n",
       "\t<tr><th></th><th scope=col>&lt;dbl&gt;</th><th scope=col>&lt;dbl&gt;</th><th scope=col>&lt;dbl&gt;</th></tr>\n",
       "</thead>\n",
       "<tbody>\n",
       "\t<tr><th scope=row>1</th><td>12.1</td><td> NA</td><td>       NA</td></tr>\n",
       "\t<tr><th scope=row>2</th><td>17.0</td><td>1.8</td><td>       NA</td></tr>\n",
       "\t<tr><th scope=row>3</th><td>14.4</td><td>2.4</td><td>       NA</td></tr>\n",
       "\t<tr><th scope=row>4</th><td>14.9</td><td>2.3</td><td>0.1333333</td></tr>\n",
       "\t<tr><th scope=row>5</th><td> 4.0</td><td>0.7</td><td>0.6666667</td></tr>\n",
       "\t<tr><th scope=row>6</th><td>14.4</td><td>2.2</td><td>0.7666667</td></tr>\n",
       "</tbody>\n",
       "</table>\n"
      ],
      "text/latex": [
       "A data.frame: 6 × 3\n",
       "\\begin{tabular}{r|lll}\n",
       "  & sleep\\_total & sleep\\_rem & sleep\\_cycle\\\\\n",
       "  & <dbl> & <dbl> & <dbl>\\\\\n",
       "\\hline\n",
       "\t1 & 12.1 &  NA &        NA\\\\\n",
       "\t2 & 17.0 & 1.8 &        NA\\\\\n",
       "\t3 & 14.4 & 2.4 &        NA\\\\\n",
       "\t4 & 14.9 & 2.3 & 0.1333333\\\\\n",
       "\t5 &  4.0 & 0.7 & 0.6666667\\\\\n",
       "\t6 & 14.4 & 2.2 & 0.7666667\\\\\n",
       "\\end{tabular}\n"
      ],
      "text/markdown": [
       "\n",
       "A data.frame: 6 × 3\n",
       "\n",
       "| <!--/--> | sleep_total &lt;dbl&gt; | sleep_rem &lt;dbl&gt; | sleep_cycle &lt;dbl&gt; |\n",
       "|---|---|---|---|\n",
       "| 1 | 12.1 |  NA |        NA |\n",
       "| 2 | 17.0 | 1.8 |        NA |\n",
       "| 3 | 14.4 | 2.4 |        NA |\n",
       "| 4 | 14.9 | 2.3 | 0.1333333 |\n",
       "| 5 |  4.0 | 0.7 | 0.6666667 |\n",
       "| 6 | 14.4 | 2.2 | 0.7666667 |\n",
       "\n"
      ],
      "text/plain": [
       "  sleep_total sleep_rem sleep_cycle\n",
       "1 12.1         NA              NA  \n",
       "2 17.0        1.8              NA  \n",
       "3 14.4        2.4              NA  \n",
       "4 14.9        2.3       0.1333333  \n",
       "5  4.0        0.7       0.6666667  \n",
       "6 14.4        2.2       0.7666667  "
      ]
     },
     "metadata": {},
     "output_type": "display_data"
    }
   ],
   "source": [
    "x=select(msleep, starts_with(\"sl\")) \n",
    "# column name is price, new temp column name is doubleprice_tmp, \n",
    "# select(msleep, ends_with(\"_tmp\")) \n",
    "head(x)"
   ]
  },
  {
   "cell_type": "code",
   "execution_count": 27,
   "metadata": {
    "scrolled": true
   },
   "outputs": [
    {
     "data": {
      "text/html": [
       "<table>\n",
       "<caption>A data.frame: 6 × 4</caption>\n",
       "<thead>\n",
       "\t<tr><th></th><th scope=col>name</th><th scope=col>vore</th><th scope=col>sleep_cycle</th><th scope=col>awake</th></tr>\n",
       "\t<tr><th></th><th scope=col>&lt;fct&gt;</th><th scope=col>&lt;fct&gt;</th><th scope=col>&lt;dbl&gt;</th><th scope=col>&lt;dbl&gt;</th></tr>\n",
       "</thead>\n",
       "<tbody>\n",
       "\t<tr><th scope=row>1</th><td>Cheetah                   </td><td>carni</td><td>       NA</td><td>11.9</td></tr>\n",
       "\t<tr><th scope=row>2</th><td>Owl monkey                </td><td>omni </td><td>       NA</td><td> 7.0</td></tr>\n",
       "\t<tr><th scope=row>3</th><td>Mountain beaver           </td><td>herbi</td><td>       NA</td><td> 9.6</td></tr>\n",
       "\t<tr><th scope=row>4</th><td>Greater short-tailed shrew</td><td>omni </td><td>0.1333333</td><td> 9.1</td></tr>\n",
       "\t<tr><th scope=row>5</th><td>Cow                       </td><td>herbi</td><td>0.6666667</td><td>20.0</td></tr>\n",
       "\t<tr><th scope=row>6</th><td>Three-toed sloth          </td><td>herbi</td><td>0.7666667</td><td> 9.6</td></tr>\n",
       "</tbody>\n",
       "</table>\n"
      ],
      "text/latex": [
       "A data.frame: 6 × 4\n",
       "\\begin{tabular}{r|llll}\n",
       "  & name & vore & sleep\\_cycle & awake\\\\\n",
       "  & <fct> & <fct> & <dbl> & <dbl>\\\\\n",
       "\\hline\n",
       "\t1 & Cheetah                    & carni &        NA & 11.9\\\\\n",
       "\t2 & Owl monkey                 & omni  &        NA &  7.0\\\\\n",
       "\t3 & Mountain beaver            & herbi &        NA &  9.6\\\\\n",
       "\t4 & Greater short-tailed shrew & omni  & 0.1333333 &  9.1\\\\\n",
       "\t5 & Cow                        & herbi & 0.6666667 & 20.0\\\\\n",
       "\t6 & Three-toed sloth           & herbi & 0.7666667 &  9.6\\\\\n",
       "\\end{tabular}\n"
      ],
      "text/markdown": [
       "\n",
       "A data.frame: 6 × 4\n",
       "\n",
       "| <!--/--> | name &lt;fct&gt; | vore &lt;fct&gt; | sleep_cycle &lt;dbl&gt; | awake &lt;dbl&gt; |\n",
       "|---|---|---|---|---|\n",
       "| 1 | Cheetah                    | carni |        NA | 11.9 |\n",
       "| 2 | Owl monkey                 | omni  |        NA |  7.0 |\n",
       "| 3 | Mountain beaver            | herbi |        NA |  9.6 |\n",
       "| 4 | Greater short-tailed shrew | omni  | 0.1333333 |  9.1 |\n",
       "| 5 | Cow                        | herbi | 0.6666667 | 20.0 |\n",
       "| 6 | Three-toed sloth           | herbi | 0.7666667 |  9.6 |\n",
       "\n"
      ],
      "text/plain": [
       "  name                       vore  sleep_cycle awake\n",
       "1 Cheetah                    carni        NA   11.9 \n",
       "2 Owl monkey                 omni         NA    7.0 \n",
       "3 Mountain beaver            herbi        NA    9.6 \n",
       "4 Greater short-tailed shrew omni  0.1333333    9.1 \n",
       "5 Cow                        herbi 0.6666667   20.0 \n",
       "6 Three-toed sloth           herbi 0.7666667    9.6 "
      ]
     },
     "metadata": {},
     "output_type": "display_data"
    }
   ],
   "source": [
    "x=select(msleep, ends_with(\"e\"))\n",
    "head(x)"
   ]
  },
  {
   "cell_type": "code",
   "execution_count": 28,
   "metadata": {
    "scrolled": true
   },
   "outputs": [
    {
     "data": {
      "text/html": [
       "<table>\n",
       "<caption>A data.frame: 6 × 2</caption>\n",
       "<thead>\n",
       "\t<tr><th></th><th scope=col>sleep_rem</th><th scope=col>sleep_cycle</th></tr>\n",
       "\t<tr><th></th><th scope=col>&lt;dbl&gt;</th><th scope=col>&lt;dbl&gt;</th></tr>\n",
       "</thead>\n",
       "<tbody>\n",
       "\t<tr><th scope=row>1</th><td> NA</td><td>       NA</td></tr>\n",
       "\t<tr><th scope=row>2</th><td>1.8</td><td>       NA</td></tr>\n",
       "\t<tr><th scope=row>3</th><td>2.4</td><td>       NA</td></tr>\n",
       "\t<tr><th scope=row>4</th><td>2.3</td><td>0.1333333</td></tr>\n",
       "\t<tr><th scope=row>5</th><td>0.7</td><td>0.6666667</td></tr>\n",
       "\t<tr><th scope=row>6</th><td>2.2</td><td>0.7666667</td></tr>\n",
       "</tbody>\n",
       "</table>\n"
      ],
      "text/latex": [
       "A data.frame: 6 × 2\n",
       "\\begin{tabular}{r|ll}\n",
       "  & sleep\\_rem & sleep\\_cycle\\\\\n",
       "  & <dbl> & <dbl>\\\\\n",
       "\\hline\n",
       "\t1 &  NA &        NA\\\\\n",
       "\t2 & 1.8 &        NA\\\\\n",
       "\t3 & 2.4 &        NA\\\\\n",
       "\t4 & 2.3 & 0.1333333\\\\\n",
       "\t5 & 0.7 & 0.6666667\\\\\n",
       "\t6 & 2.2 & 0.7666667\\\\\n",
       "\\end{tabular}\n"
      ],
      "text/markdown": [
       "\n",
       "A data.frame: 6 × 2\n",
       "\n",
       "| <!--/--> | sleep_rem &lt;dbl&gt; | sleep_cycle &lt;dbl&gt; |\n",
       "|---|---|---|\n",
       "| 1 |  NA |        NA |\n",
       "| 2 | 1.8 |        NA |\n",
       "| 3 | 2.4 |        NA |\n",
       "| 4 | 2.3 | 0.1333333 |\n",
       "| 5 | 0.7 | 0.6666667 |\n",
       "| 6 | 2.2 | 0.7666667 |\n",
       "\n"
      ],
      "text/plain": [
       "  sleep_rem sleep_cycle\n",
       "1  NA              NA  \n",
       "2 1.8              NA  \n",
       "3 2.4              NA  \n",
       "4 2.3       0.1333333  \n",
       "5 0.7       0.6666667  \n",
       "6 2.2       0.7666667  "
      ]
     },
     "metadata": {},
     "output_type": "display_data"
    }
   ],
   "source": [
    "x=select(msleep, matches(\"ee.*e\"))  #regular expression\n",
    "# x=select(msleep, matches(\"e.*e\"))  #regular expression\n",
    "head(x)"
   ]
  },
  {
   "cell_type": "code",
   "execution_count": 29,
   "metadata": {
    "scrolled": true
   },
   "outputs": [
    {
     "data": {
      "text/html": [
       "<table>\n",
       "<caption>A data.frame: 6 × 3</caption>\n",
       "<thead>\n",
       "\t<tr><th></th><th scope=col>sleep_total</th><th scope=col>sleep_rem</th><th scope=col>sleep_cycle</th></tr>\n",
       "\t<tr><th></th><th scope=col>&lt;dbl&gt;</th><th scope=col>&lt;dbl&gt;</th><th scope=col>&lt;dbl&gt;</th></tr>\n",
       "</thead>\n",
       "<tbody>\n",
       "\t<tr><th scope=row>1</th><td>12.1</td><td> NA</td><td>       NA</td></tr>\n",
       "\t<tr><th scope=row>2</th><td>17.0</td><td>1.8</td><td>       NA</td></tr>\n",
       "\t<tr><th scope=row>3</th><td>14.4</td><td>2.4</td><td>       NA</td></tr>\n",
       "\t<tr><th scope=row>4</th><td>14.9</td><td>2.3</td><td>0.1333333</td></tr>\n",
       "\t<tr><th scope=row>5</th><td> 4.0</td><td>0.7</td><td>0.6666667</td></tr>\n",
       "\t<tr><th scope=row>6</th><td>14.4</td><td>2.2</td><td>0.7666667</td></tr>\n",
       "</tbody>\n",
       "</table>\n"
      ],
      "text/latex": [
       "A data.frame: 6 × 3\n",
       "\\begin{tabular}{r|lll}\n",
       "  & sleep\\_total & sleep\\_rem & sleep\\_cycle\\\\\n",
       "  & <dbl> & <dbl> & <dbl>\\\\\n",
       "\\hline\n",
       "\t1 & 12.1 &  NA &        NA\\\\\n",
       "\t2 & 17.0 & 1.8 &        NA\\\\\n",
       "\t3 & 14.4 & 2.4 &        NA\\\\\n",
       "\t4 & 14.9 & 2.3 & 0.1333333\\\\\n",
       "\t5 &  4.0 & 0.7 & 0.6666667\\\\\n",
       "\t6 & 14.4 & 2.2 & 0.7666667\\\\\n",
       "\\end{tabular}\n"
      ],
      "text/markdown": [
       "\n",
       "A data.frame: 6 × 3\n",
       "\n",
       "| <!--/--> | sleep_total &lt;dbl&gt; | sleep_rem &lt;dbl&gt; | sleep_cycle &lt;dbl&gt; |\n",
       "|---|---|---|---|\n",
       "| 1 | 12.1 |  NA |        NA |\n",
       "| 2 | 17.0 | 1.8 |        NA |\n",
       "| 3 | 14.4 | 2.4 |        NA |\n",
       "| 4 | 14.9 | 2.3 | 0.1333333 |\n",
       "| 5 |  4.0 | 0.7 | 0.6666667 |\n",
       "| 6 | 14.4 | 2.2 | 0.7666667 |\n",
       "\n"
      ],
      "text/plain": [
       "  sleep_total sleep_rem sleep_cycle\n",
       "1 12.1         NA              NA  \n",
       "2 17.0        1.8              NA  \n",
       "3 14.4        2.4              NA  \n",
       "4 14.9        2.3       0.1333333  \n",
       "5  4.0        0.7       0.6666667  \n",
       "6 14.4        2.2       0.7666667  "
      ]
     },
     "metadata": {},
     "output_type": "display_data"
    }
   ],
   "source": [
    "x=select(msleep, contains(\"_\")) \n",
    "head(x)"
   ]
  },
  {
   "cell_type": "code",
   "execution_count": 30,
   "metadata": {
    "scrolled": true
   },
   "outputs": [
    {
     "name": "stderr",
     "output_type": "stream",
     "text": [
      "Warning message:\n",
      "\"Unknown columns: `xxx`\"\n"
     ]
    },
    {
     "data": {
      "text/html": [
       "<table>\n",
       "<caption>A data.frame: 6 × 2</caption>\n",
       "<thead>\n",
       "\t<tr><th></th><th scope=col>name</th><th scope=col>order</th></tr>\n",
       "\t<tr><th></th><th scope=col>&lt;fct&gt;</th><th scope=col>&lt;fct&gt;</th></tr>\n",
       "</thead>\n",
       "<tbody>\n",
       "\t<tr><th scope=row>1</th><td>Cheetah                   </td><td>Carnivora   </td></tr>\n",
       "\t<tr><th scope=row>2</th><td>Owl monkey                </td><td>Primates    </td></tr>\n",
       "\t<tr><th scope=row>3</th><td>Mountain beaver           </td><td>Rodentia    </td></tr>\n",
       "\t<tr><th scope=row>4</th><td>Greater short-tailed shrew</td><td>Soricomorpha</td></tr>\n",
       "\t<tr><th scope=row>5</th><td>Cow                       </td><td>Artiodactyla</td></tr>\n",
       "\t<tr><th scope=row>6</th><td>Three-toed sloth          </td><td>Pilosa      </td></tr>\n",
       "</tbody>\n",
       "</table>\n"
      ],
      "text/latex": [
       "A data.frame: 6 × 2\n",
       "\\begin{tabular}{r|ll}\n",
       "  & name & order\\\\\n",
       "  & <fct> & <fct>\\\\\n",
       "\\hline\n",
       "\t1 & Cheetah                    & Carnivora   \\\\\n",
       "\t2 & Owl monkey                 & Primates    \\\\\n",
       "\t3 & Mountain beaver            & Rodentia    \\\\\n",
       "\t4 & Greater short-tailed shrew & Soricomorpha\\\\\n",
       "\t5 & Cow                        & Artiodactyla\\\\\n",
       "\t6 & Three-toed sloth           & Pilosa      \\\\\n",
       "\\end{tabular}\n"
      ],
      "text/markdown": [
       "\n",
       "A data.frame: 6 × 2\n",
       "\n",
       "| <!--/--> | name &lt;fct&gt; | order &lt;fct&gt; |\n",
       "|---|---|---|\n",
       "| 1 | Cheetah                    | Carnivora    |\n",
       "| 2 | Owl monkey                 | Primates     |\n",
       "| 3 | Mountain beaver            | Rodentia     |\n",
       "| 4 | Greater short-tailed shrew | Soricomorpha |\n",
       "| 5 | Cow                        | Artiodactyla |\n",
       "| 6 | Three-toed sloth           | Pilosa       |\n",
       "\n"
      ],
      "text/plain": [
       "  name                       order       \n",
       "1 Cheetah                    Carnivora   \n",
       "2 Owl monkey                 Primates    \n",
       "3 Mountain beaver            Rodentia    \n",
       "4 Greater short-tailed shrew Soricomorpha\n",
       "5 Cow                        Artiodactyla\n",
       "6 Three-toed sloth           Pilosa      "
      ]
     },
     "metadata": {},
     "output_type": "display_data"
    }
   ],
   "source": [
    "x=select(msleep, one_of(\"name\", \"order\", \"xxx\")) #what if you have typo?\n",
    "head(x)"
   ]
  },
  {
   "cell_type": "code",
   "execution_count": 31,
   "metadata": {
    "scrolled": true
   },
   "outputs": [
    {
     "data": {
      "text/html": [
       "'Hadley Wickham &lt;hadley@rstudio.com&gt;'"
      ],
      "text/latex": [
       "'Hadley Wickham <hadley@rstudio.com>'"
      ],
      "text/markdown": [
       "'Hadley Wickham &lt;hadley@rstudio.com&gt;'"
      ],
      "text/plain": [
       "[1] \"Hadley Wickham <hadley@rstudio.com>\""
      ]
     },
     "metadata": {},
     "output_type": "display_data"
    }
   ],
   "source": [
    "maintainer(\"dplyr\")"
   ]
  },
  {
   "cell_type": "code",
   "execution_count": 32,
   "metadata": {
    "scrolled": true
   },
   "outputs": [
    {
     "data": {
      "text/html": [
       "<table>\n",
       "<caption>A data.frame: 6 × 11</caption>\n",
       "<thead>\n",
       "\t<tr><th></th><th scope=col>mpg</th><th scope=col>cyl</th><th scope=col>disp</th><th scope=col>hp</th><th scope=col>drat</th><th scope=col>wt</th><th scope=col>qsec</th><th scope=col>vs</th><th scope=col>am</th><th scope=col>gear</th><th scope=col>carb</th></tr>\n",
       "\t<tr><th></th><th scope=col>&lt;dbl&gt;</th><th scope=col>&lt;dbl&gt;</th><th scope=col>&lt;dbl&gt;</th><th scope=col>&lt;dbl&gt;</th><th scope=col>&lt;dbl&gt;</th><th scope=col>&lt;dbl&gt;</th><th scope=col>&lt;dbl&gt;</th><th scope=col>&lt;dbl&gt;</th><th scope=col>&lt;dbl&gt;</th><th scope=col>&lt;dbl&gt;</th><th scope=col>&lt;dbl&gt;</th></tr>\n",
       "</thead>\n",
       "<tbody>\n",
       "\t<tr><th scope=row>Mazda RX4</th><td>21.0</td><td>6</td><td>160</td><td>110</td><td>3.90</td><td>2.620</td><td>16.46</td><td>0</td><td>1</td><td>4</td><td>4</td></tr>\n",
       "\t<tr><th scope=row>Mazda RX4 Wag</th><td>21.0</td><td>6</td><td>160</td><td>110</td><td>3.90</td><td>2.875</td><td>17.02</td><td>0</td><td>1</td><td>4</td><td>4</td></tr>\n",
       "\t<tr><th scope=row>Datsun 710</th><td>22.8</td><td>4</td><td>108</td><td> 93</td><td>3.85</td><td>2.320</td><td>18.61</td><td>1</td><td>1</td><td>4</td><td>1</td></tr>\n",
       "\t<tr><th scope=row>Hornet 4 Drive</th><td>21.4</td><td>6</td><td>258</td><td>110</td><td>3.08</td><td>3.215</td><td>19.44</td><td>1</td><td>0</td><td>3</td><td>1</td></tr>\n",
       "\t<tr><th scope=row>Hornet Sportabout</th><td>18.7</td><td>8</td><td>360</td><td>175</td><td>3.15</td><td>3.440</td><td>17.02</td><td>0</td><td>0</td><td>3</td><td>2</td></tr>\n",
       "\t<tr><th scope=row>Valiant</th><td>18.1</td><td>6</td><td>225</td><td>105</td><td>2.76</td><td>3.460</td><td>20.22</td><td>1</td><td>0</td><td>3</td><td>1</td></tr>\n",
       "</tbody>\n",
       "</table>\n"
      ],
      "text/latex": [
       "A data.frame: 6 × 11\n",
       "\\begin{tabular}{r|lllllllllll}\n",
       "  & mpg & cyl & disp & hp & drat & wt & qsec & vs & am & gear & carb\\\\\n",
       "  & <dbl> & <dbl> & <dbl> & <dbl> & <dbl> & <dbl> & <dbl> & <dbl> & <dbl> & <dbl> & <dbl>\\\\\n",
       "\\hline\n",
       "\tMazda RX4 & 21.0 & 6 & 160 & 110 & 3.90 & 2.620 & 16.46 & 0 & 1 & 4 & 4\\\\\n",
       "\tMazda RX4 Wag & 21.0 & 6 & 160 & 110 & 3.90 & 2.875 & 17.02 & 0 & 1 & 4 & 4\\\\\n",
       "\tDatsun 710 & 22.8 & 4 & 108 &  93 & 3.85 & 2.320 & 18.61 & 1 & 1 & 4 & 1\\\\\n",
       "\tHornet 4 Drive & 21.4 & 6 & 258 & 110 & 3.08 & 3.215 & 19.44 & 1 & 0 & 3 & 1\\\\\n",
       "\tHornet Sportabout & 18.7 & 8 & 360 & 175 & 3.15 & 3.440 & 17.02 & 0 & 0 & 3 & 2\\\\\n",
       "\tValiant & 18.1 & 6 & 225 & 105 & 2.76 & 3.460 & 20.22 & 1 & 0 & 3 & 1\\\\\n",
       "\\end{tabular}\n"
      ],
      "text/markdown": [
       "\n",
       "A data.frame: 6 × 11\n",
       "\n",
       "| <!--/--> | mpg &lt;dbl&gt; | cyl &lt;dbl&gt; | disp &lt;dbl&gt; | hp &lt;dbl&gt; | drat &lt;dbl&gt; | wt &lt;dbl&gt; | qsec &lt;dbl&gt; | vs &lt;dbl&gt; | am &lt;dbl&gt; | gear &lt;dbl&gt; | carb &lt;dbl&gt; |\n",
       "|---|---|---|---|---|---|---|---|---|---|---|---|\n",
       "| Mazda RX4 | 21.0 | 6 | 160 | 110 | 3.90 | 2.620 | 16.46 | 0 | 1 | 4 | 4 |\n",
       "| Mazda RX4 Wag | 21.0 | 6 | 160 | 110 | 3.90 | 2.875 | 17.02 | 0 | 1 | 4 | 4 |\n",
       "| Datsun 710 | 22.8 | 4 | 108 |  93 | 3.85 | 2.320 | 18.61 | 1 | 1 | 4 | 1 |\n",
       "| Hornet 4 Drive | 21.4 | 6 | 258 | 110 | 3.08 | 3.215 | 19.44 | 1 | 0 | 3 | 1 |\n",
       "| Hornet Sportabout | 18.7 | 8 | 360 | 175 | 3.15 | 3.440 | 17.02 | 0 | 0 | 3 | 2 |\n",
       "| Valiant | 18.1 | 6 | 225 | 105 | 2.76 | 3.460 | 20.22 | 1 | 0 | 3 | 1 |\n",
       "\n"
      ],
      "text/plain": [
       "                  mpg  cyl disp hp  drat wt    qsec  vs am gear carb\n",
       "Mazda RX4         21.0 6   160  110 3.90 2.620 16.46 0  1  4    4   \n",
       "Mazda RX4 Wag     21.0 6   160  110 3.90 2.875 17.02 0  1  4    4   \n",
       "Datsun 710        22.8 4   108   93 3.85 2.320 18.61 1  1  4    1   \n",
       "Hornet 4 Drive    21.4 6   258  110 3.08 3.215 19.44 1  0  3    1   \n",
       "Hornet Sportabout 18.7 8   360  175 3.15 3.440 17.02 0  0  3    2   \n",
       "Valiant           18.1 6   225  105 2.76 3.460 20.22 1  0  3    1   "
      ]
     },
     "metadata": {},
     "output_type": "display_data"
    }
   ],
   "source": [
    "head(mtcars)"
   ]
  },
  {
   "cell_type": "code",
   "execution_count": 22,
   "metadata": {
    "scrolled": true
   },
   "outputs": [
    {
     "data": {
      "text/html": [
       "<table>\n",
       "<caption>A data.frame: 6 × 11</caption>\n",
       "<thead>\n",
       "\t<tr><th></th><th scope=col>mpg</th><th scope=col>cyl</th><th scope=col>disp</th><th scope=col>hp</th><th scope=col>drat</th><th scope=col>wt</th><th scope=col>qsec</th><th scope=col>vs</th><th scope=col>am</th><th scope=col>gear</th><th scope=col>carb</th></tr>\n",
       "\t<tr><th></th><th scope=col>&lt;dbl&gt;</th><th scope=col>&lt;dbl&gt;</th><th scope=col>&lt;dbl&gt;</th><th scope=col>&lt;dbl&gt;</th><th scope=col>&lt;dbl&gt;</th><th scope=col>&lt;dbl&gt;</th><th scope=col>&lt;dbl&gt;</th><th scope=col>&lt;dbl&gt;</th><th scope=col>&lt;dbl&gt;</th><th scope=col>&lt;dbl&gt;</th><th scope=col>&lt;dbl&gt;</th></tr>\n",
       "</thead>\n",
       "<tbody>\n",
       "\t<tr><th scope=row>Hornet Sportabout</th><td>18.7</td><td>8</td><td>360.0</td><td>175</td><td>3.15</td><td>3.44</td><td>17.02</td><td>0</td><td>0</td><td>3</td><td>2</td></tr>\n",
       "\t<tr><th scope=row>Duster 360</th><td>14.3</td><td>8</td><td>360.0</td><td>245</td><td>3.21</td><td>3.57</td><td>15.84</td><td>0</td><td>0</td><td>3</td><td>4</td></tr>\n",
       "\t<tr><th scope=row>Merc 450SE</th><td>16.4</td><td>8</td><td>275.8</td><td>180</td><td>3.07</td><td>4.07</td><td>17.40</td><td>0</td><td>0</td><td>3</td><td>3</td></tr>\n",
       "\t<tr><th scope=row>Merc 450SL</th><td>17.3</td><td>8</td><td>275.8</td><td>180</td><td>3.07</td><td>3.73</td><td>17.60</td><td>0</td><td>0</td><td>3</td><td>3</td></tr>\n",
       "\t<tr><th scope=row>Merc 450SLC</th><td>15.2</td><td>8</td><td>275.8</td><td>180</td><td>3.07</td><td>3.78</td><td>18.00</td><td>0</td><td>0</td><td>3</td><td>3</td></tr>\n",
       "\t<tr><th scope=row>Cadillac Fleetwood</th><td>10.4</td><td>8</td><td>472.0</td><td>205</td><td>2.93</td><td>5.25</td><td>17.98</td><td>0</td><td>0</td><td>3</td><td>4</td></tr>\n",
       "</tbody>\n",
       "</table>\n"
      ],
      "text/latex": [
       "A data.frame: 6 × 11\n",
       "\\begin{tabular}{r|lllllllllll}\n",
       "  & mpg & cyl & disp & hp & drat & wt & qsec & vs & am & gear & carb\\\\\n",
       "  & <dbl> & <dbl> & <dbl> & <dbl> & <dbl> & <dbl> & <dbl> & <dbl> & <dbl> & <dbl> & <dbl>\\\\\n",
       "\\hline\n",
       "\tHornet Sportabout & 18.7 & 8 & 360.0 & 175 & 3.15 & 3.44 & 17.02 & 0 & 0 & 3 & 2\\\\\n",
       "\tDuster 360 & 14.3 & 8 & 360.0 & 245 & 3.21 & 3.57 & 15.84 & 0 & 0 & 3 & 4\\\\\n",
       "\tMerc 450SE & 16.4 & 8 & 275.8 & 180 & 3.07 & 4.07 & 17.40 & 0 & 0 & 3 & 3\\\\\n",
       "\tMerc 450SL & 17.3 & 8 & 275.8 & 180 & 3.07 & 3.73 & 17.60 & 0 & 0 & 3 & 3\\\\\n",
       "\tMerc 450SLC & 15.2 & 8 & 275.8 & 180 & 3.07 & 3.78 & 18.00 & 0 & 0 & 3 & 3\\\\\n",
       "\tCadillac Fleetwood & 10.4 & 8 & 472.0 & 205 & 2.93 & 5.25 & 17.98 & 0 & 0 & 3 & 4\\\\\n",
       "\\end{tabular}\n"
      ],
      "text/markdown": [
       "\n",
       "A data.frame: 6 × 11\n",
       "\n",
       "| <!--/--> | mpg &lt;dbl&gt; | cyl &lt;dbl&gt; | disp &lt;dbl&gt; | hp &lt;dbl&gt; | drat &lt;dbl&gt; | wt &lt;dbl&gt; | qsec &lt;dbl&gt; | vs &lt;dbl&gt; | am &lt;dbl&gt; | gear &lt;dbl&gt; | carb &lt;dbl&gt; |\n",
       "|---|---|---|---|---|---|---|---|---|---|---|---|\n",
       "| Hornet Sportabout | 18.7 | 8 | 360.0 | 175 | 3.15 | 3.44 | 17.02 | 0 | 0 | 3 | 2 |\n",
       "| Duster 360 | 14.3 | 8 | 360.0 | 245 | 3.21 | 3.57 | 15.84 | 0 | 0 | 3 | 4 |\n",
       "| Merc 450SE | 16.4 | 8 | 275.8 | 180 | 3.07 | 4.07 | 17.40 | 0 | 0 | 3 | 3 |\n",
       "| Merc 450SL | 17.3 | 8 | 275.8 | 180 | 3.07 | 3.73 | 17.60 | 0 | 0 | 3 | 3 |\n",
       "| Merc 450SLC | 15.2 | 8 | 275.8 | 180 | 3.07 | 3.78 | 18.00 | 0 | 0 | 3 | 3 |\n",
       "| Cadillac Fleetwood | 10.4 | 8 | 472.0 | 205 | 2.93 | 5.25 | 17.98 | 0 | 0 | 3 | 4 |\n",
       "\n"
      ],
      "text/plain": [
       "                   mpg  cyl disp  hp  drat wt   qsec  vs am gear carb\n",
       "Hornet Sportabout  18.7 8   360.0 175 3.15 3.44 17.02 0  0  3    2   \n",
       "Duster 360         14.3 8   360.0 245 3.21 3.57 15.84 0  0  3    4   \n",
       "Merc 450SE         16.4 8   275.8 180 3.07 4.07 17.40 0  0  3    3   \n",
       "Merc 450SL         17.3 8   275.8 180 3.07 3.73 17.60 0  0  3    3   \n",
       "Merc 450SLC        15.2 8   275.8 180 3.07 3.78 18.00 0  0  3    3   \n",
       "Cadillac Fleetwood 10.4 8   472.0 205 2.93 5.25 17.98 0  0  3    4   "
      ]
     },
     "metadata": {},
     "output_type": "display_data"
    }
   ],
   "source": [
    "head(filter(mtcars, cyl==8))"
   ]
  },
  {
   "cell_type": "code",
   "execution_count": 34,
   "metadata": {
    "scrolled": true
   },
   "outputs": [
    {
     "data": {
      "text/html": [
       "<table>\n",
       "<caption>A data.frame: 6 × 11</caption>\n",
       "<thead>\n",
       "\t<tr><th></th><th scope=col>mpg</th><th scope=col>cyl</th><th scope=col>disp</th><th scope=col>hp</th><th scope=col>drat</th><th scope=col>wt</th><th scope=col>qsec</th><th scope=col>vs</th><th scope=col>am</th><th scope=col>gear</th><th scope=col>carb</th></tr>\n",
       "\t<tr><th></th><th scope=col>&lt;dbl&gt;</th><th scope=col>&lt;dbl&gt;</th><th scope=col>&lt;dbl&gt;</th><th scope=col>&lt;dbl&gt;</th><th scope=col>&lt;dbl&gt;</th><th scope=col>&lt;dbl&gt;</th><th scope=col>&lt;dbl&gt;</th><th scope=col>&lt;dbl&gt;</th><th scope=col>&lt;dbl&gt;</th><th scope=col>&lt;dbl&gt;</th><th scope=col>&lt;dbl&gt;</th></tr>\n",
       "</thead>\n",
       "<tbody>\n",
       "\t<tr><th scope=row>1</th><td>21.0</td><td>6</td><td>160.0</td><td>110</td><td>3.90</td><td>2.620</td><td>16.46</td><td>0</td><td>1</td><td>4</td><td>4</td></tr>\n",
       "\t<tr><th scope=row>2</th><td>21.0</td><td>6</td><td>160.0</td><td>110</td><td>3.90</td><td>2.875</td><td>17.02</td><td>0</td><td>1</td><td>4</td><td>4</td></tr>\n",
       "\t<tr><th scope=row>3</th><td>22.8</td><td>4</td><td>108.0</td><td> 93</td><td>3.85</td><td>2.320</td><td>18.61</td><td>1</td><td>1</td><td>4</td><td>1</td></tr>\n",
       "\t<tr><th scope=row>4</th><td>21.4</td><td>6</td><td>258.0</td><td>110</td><td>3.08</td><td>3.215</td><td>19.44</td><td>1</td><td>0</td><td>3</td><td>1</td></tr>\n",
       "\t<tr><th scope=row>5</th><td>18.1</td><td>6</td><td>225.0</td><td>105</td><td>2.76</td><td>3.460</td><td>20.22</td><td>1</td><td>0</td><td>3</td><td>1</td></tr>\n",
       "\t<tr><th scope=row>6</th><td>24.4</td><td>4</td><td>146.7</td><td> 62</td><td>3.69</td><td>3.190</td><td>20.00</td><td>1</td><td>0</td><td>4</td><td>2</td></tr>\n",
       "</tbody>\n",
       "</table>\n"
      ],
      "text/latex": [
       "A data.frame: 6 × 11\n",
       "\\begin{tabular}{r|lllllllllll}\n",
       "  & mpg & cyl & disp & hp & drat & wt & qsec & vs & am & gear & carb\\\\\n",
       "  & <dbl> & <dbl> & <dbl> & <dbl> & <dbl> & <dbl> & <dbl> & <dbl> & <dbl> & <dbl> & <dbl>\\\\\n",
       "\\hline\n",
       "\t1 & 21.0 & 6 & 160.0 & 110 & 3.90 & 2.620 & 16.46 & 0 & 1 & 4 & 4\\\\\n",
       "\t2 & 21.0 & 6 & 160.0 & 110 & 3.90 & 2.875 & 17.02 & 0 & 1 & 4 & 4\\\\\n",
       "\t3 & 22.8 & 4 & 108.0 &  93 & 3.85 & 2.320 & 18.61 & 1 & 1 & 4 & 1\\\\\n",
       "\t4 & 21.4 & 6 & 258.0 & 110 & 3.08 & 3.215 & 19.44 & 1 & 0 & 3 & 1\\\\\n",
       "\t5 & 18.1 & 6 & 225.0 & 105 & 2.76 & 3.460 & 20.22 & 1 & 0 & 3 & 1\\\\\n",
       "\t6 & 24.4 & 4 & 146.7 &  62 & 3.69 & 3.190 & 20.00 & 1 & 0 & 4 & 2\\\\\n",
       "\\end{tabular}\n"
      ],
      "text/markdown": [
       "\n",
       "A data.frame: 6 × 11\n",
       "\n",
       "| <!--/--> | mpg &lt;dbl&gt; | cyl &lt;dbl&gt; | disp &lt;dbl&gt; | hp &lt;dbl&gt; | drat &lt;dbl&gt; | wt &lt;dbl&gt; | qsec &lt;dbl&gt; | vs &lt;dbl&gt; | am &lt;dbl&gt; | gear &lt;dbl&gt; | carb &lt;dbl&gt; |\n",
       "|---|---|---|---|---|---|---|---|---|---|---|---|\n",
       "| 1 | 21.0 | 6 | 160.0 | 110 | 3.90 | 2.620 | 16.46 | 0 | 1 | 4 | 4 |\n",
       "| 2 | 21.0 | 6 | 160.0 | 110 | 3.90 | 2.875 | 17.02 | 0 | 1 | 4 | 4 |\n",
       "| 3 | 22.8 | 4 | 108.0 |  93 | 3.85 | 2.320 | 18.61 | 1 | 1 | 4 | 1 |\n",
       "| 4 | 21.4 | 6 | 258.0 | 110 | 3.08 | 3.215 | 19.44 | 1 | 0 | 3 | 1 |\n",
       "| 5 | 18.1 | 6 | 225.0 | 105 | 2.76 | 3.460 | 20.22 | 1 | 0 | 3 | 1 |\n",
       "| 6 | 24.4 | 4 | 146.7 |  62 | 3.69 | 3.190 | 20.00 | 1 | 0 | 4 | 2 |\n",
       "\n"
      ],
      "text/plain": [
       "  mpg  cyl disp  hp  drat wt    qsec  vs am gear carb\n",
       "1 21.0 6   160.0 110 3.90 2.620 16.46 0  1  4    4   \n",
       "2 21.0 6   160.0 110 3.90 2.875 17.02 0  1  4    4   \n",
       "3 22.8 4   108.0  93 3.85 2.320 18.61 1  1  4    1   \n",
       "4 21.4 6   258.0 110 3.08 3.215 19.44 1  0  3    1   \n",
       "5 18.1 6   225.0 105 2.76 3.460 20.22 1  0  3    1   \n",
       "6 24.4 4   146.7  62 3.69 3.190 20.00 1  0  4    2   "
      ]
     },
     "metadata": {},
     "output_type": "display_data"
    }
   ],
   "source": [
    "head(filter(mtcars, cyl<8))"
   ]
  },
  {
   "cell_type": "code",
   "execution_count": 35,
   "metadata": {
    "scrolled": true
   },
   "outputs": [
    {
     "data": {
      "text/html": [
       "<table>\n",
       "<caption>A data.frame: 6 × 11</caption>\n",
       "<thead>\n",
       "\t<tr><th></th><th scope=col>mpg</th><th scope=col>cyl</th><th scope=col>disp</th><th scope=col>hp</th><th scope=col>drat</th><th scope=col>wt</th><th scope=col>qsec</th><th scope=col>vs</th><th scope=col>am</th><th scope=col>gear</th><th scope=col>carb</th></tr>\n",
       "\t<tr><th></th><th scope=col>&lt;dbl&gt;</th><th scope=col>&lt;dbl&gt;</th><th scope=col>&lt;dbl&gt;</th><th scope=col>&lt;dbl&gt;</th><th scope=col>&lt;dbl&gt;</th><th scope=col>&lt;dbl&gt;</th><th scope=col>&lt;dbl&gt;</th><th scope=col>&lt;dbl&gt;</th><th scope=col>&lt;dbl&gt;</th><th scope=col>&lt;dbl&gt;</th><th scope=col>&lt;dbl&gt;</th></tr>\n",
       "</thead>\n",
       "<tbody>\n",
       "\t<tr><th scope=row>1</th><td>22.8</td><td>4</td><td>108.0</td><td>93</td><td>3.85</td><td>2.320</td><td>18.61</td><td>1</td><td>1</td><td>4</td><td>1</td></tr>\n",
       "\t<tr><th scope=row>2</th><td>24.4</td><td>4</td><td>146.7</td><td>62</td><td>3.69</td><td>3.190</td><td>20.00</td><td>1</td><td>0</td><td>4</td><td>2</td></tr>\n",
       "\t<tr><th scope=row>3</th><td>22.8</td><td>4</td><td>140.8</td><td>95</td><td>3.92</td><td>3.150</td><td>22.90</td><td>1</td><td>0</td><td>4</td><td>2</td></tr>\n",
       "\t<tr><th scope=row>4</th><td>32.4</td><td>4</td><td> 78.7</td><td>66</td><td>4.08</td><td>2.200</td><td>19.47</td><td>1</td><td>1</td><td>4</td><td>1</td></tr>\n",
       "\t<tr><th scope=row>5</th><td>30.4</td><td>4</td><td> 75.7</td><td>52</td><td>4.93</td><td>1.615</td><td>18.52</td><td>1</td><td>1</td><td>4</td><td>2</td></tr>\n",
       "\t<tr><th scope=row>6</th><td>33.9</td><td>4</td><td> 71.1</td><td>65</td><td>4.22</td><td>1.835</td><td>19.90</td><td>1</td><td>1</td><td>4</td><td>1</td></tr>\n",
       "</tbody>\n",
       "</table>\n"
      ],
      "text/latex": [
       "A data.frame: 6 × 11\n",
       "\\begin{tabular}{r|lllllllllll}\n",
       "  & mpg & cyl & disp & hp & drat & wt & qsec & vs & am & gear & carb\\\\\n",
       "  & <dbl> & <dbl> & <dbl> & <dbl> & <dbl> & <dbl> & <dbl> & <dbl> & <dbl> & <dbl> & <dbl>\\\\\n",
       "\\hline\n",
       "\t1 & 22.8 & 4 & 108.0 & 93 & 3.85 & 2.320 & 18.61 & 1 & 1 & 4 & 1\\\\\n",
       "\t2 & 24.4 & 4 & 146.7 & 62 & 3.69 & 3.190 & 20.00 & 1 & 0 & 4 & 2\\\\\n",
       "\t3 & 22.8 & 4 & 140.8 & 95 & 3.92 & 3.150 & 22.90 & 1 & 0 & 4 & 2\\\\\n",
       "\t4 & 32.4 & 4 &  78.7 & 66 & 4.08 & 2.200 & 19.47 & 1 & 1 & 4 & 1\\\\\n",
       "\t5 & 30.4 & 4 &  75.7 & 52 & 4.93 & 1.615 & 18.52 & 1 & 1 & 4 & 2\\\\\n",
       "\t6 & 33.9 & 4 &  71.1 & 65 & 4.22 & 1.835 & 19.90 & 1 & 1 & 4 & 1\\\\\n",
       "\\end{tabular}\n"
      ],
      "text/markdown": [
       "\n",
       "A data.frame: 6 × 11\n",
       "\n",
       "| <!--/--> | mpg &lt;dbl&gt; | cyl &lt;dbl&gt; | disp &lt;dbl&gt; | hp &lt;dbl&gt; | drat &lt;dbl&gt; | wt &lt;dbl&gt; | qsec &lt;dbl&gt; | vs &lt;dbl&gt; | am &lt;dbl&gt; | gear &lt;dbl&gt; | carb &lt;dbl&gt; |\n",
       "|---|---|---|---|---|---|---|---|---|---|---|---|\n",
       "| 1 | 22.8 | 4 | 108.0 | 93 | 3.85 | 2.320 | 18.61 | 1 | 1 | 4 | 1 |\n",
       "| 2 | 24.4 | 4 | 146.7 | 62 | 3.69 | 3.190 | 20.00 | 1 | 0 | 4 | 2 |\n",
       "| 3 | 22.8 | 4 | 140.8 | 95 | 3.92 | 3.150 | 22.90 | 1 | 0 | 4 | 2 |\n",
       "| 4 | 32.4 | 4 |  78.7 | 66 | 4.08 | 2.200 | 19.47 | 1 | 1 | 4 | 1 |\n",
       "| 5 | 30.4 | 4 |  75.7 | 52 | 4.93 | 1.615 | 18.52 | 1 | 1 | 4 | 2 |\n",
       "| 6 | 33.9 | 4 |  71.1 | 65 | 4.22 | 1.835 | 19.90 | 1 | 1 | 4 | 1 |\n",
       "\n"
      ],
      "text/plain": [
       "  mpg  cyl disp  hp drat wt    qsec  vs am gear carb\n",
       "1 22.8 4   108.0 93 3.85 2.320 18.61 1  1  4    1   \n",
       "2 24.4 4   146.7 62 3.69 3.190 20.00 1  0  4    2   \n",
       "3 22.8 4   140.8 95 3.92 3.150 22.90 1  0  4    2   \n",
       "4 32.4 4    78.7 66 4.08 2.200 19.47 1  1  4    1   \n",
       "5 30.4 4    75.7 52 4.93 1.615 18.52 1  1  4    2   \n",
       "6 33.9 4    71.1 65 4.22 1.835 19.90 1  1  4    1   "
      ]
     },
     "metadata": {},
     "output_type": "display_data"
    }
   ],
   "source": [
    "head(filter(mtcars, cyl<6 & (vs==1 | am==1)))"
   ]
  },
  {
   "cell_type": "code",
   "execution_count": 36,
   "metadata": {
    "scrolled": true
   },
   "outputs": [
    {
     "data": {
      "text/html": [
       "<table>\n",
       "<caption>A data.frame: 6 × 11</caption>\n",
       "<thead>\n",
       "\t<tr><th></th><th scope=col>mpg</th><th scope=col>cyl</th><th scope=col>disp</th><th scope=col>hp</th><th scope=col>drat</th><th scope=col>wt</th><th scope=col>qsec</th><th scope=col>vs</th><th scope=col>am</th><th scope=col>gear</th><th scope=col>carb</th></tr>\n",
       "\t<tr><th></th><th scope=col>&lt;dbl&gt;</th><th scope=col>&lt;dbl&gt;</th><th scope=col>&lt;dbl&gt;</th><th scope=col>&lt;dbl&gt;</th><th scope=col>&lt;dbl&gt;</th><th scope=col>&lt;dbl&gt;</th><th scope=col>&lt;dbl&gt;</th><th scope=col>&lt;dbl&gt;</th><th scope=col>&lt;dbl&gt;</th><th scope=col>&lt;dbl&gt;</th><th scope=col>&lt;dbl&gt;</th></tr>\n",
       "</thead>\n",
       "<tbody>\n",
       "\t<tr><th scope=row>1</th><td>22.8</td><td>4</td><td>108.0</td><td> 93</td><td>3.85</td><td>2.320</td><td>18.61</td><td>1</td><td>1</td><td>4</td><td>1</td></tr>\n",
       "\t<tr><th scope=row>2</th><td>32.4</td><td>4</td><td> 78.7</td><td> 66</td><td>4.08</td><td>2.200</td><td>19.47</td><td>1</td><td>1</td><td>4</td><td>1</td></tr>\n",
       "\t<tr><th scope=row>3</th><td>30.4</td><td>4</td><td> 75.7</td><td> 52</td><td>4.93</td><td>1.615</td><td>18.52</td><td>1</td><td>1</td><td>4</td><td>2</td></tr>\n",
       "\t<tr><th scope=row>4</th><td>33.9</td><td>4</td><td> 71.1</td><td> 65</td><td>4.22</td><td>1.835</td><td>19.90</td><td>1</td><td>1</td><td>4</td><td>1</td></tr>\n",
       "\t<tr><th scope=row>5</th><td>27.3</td><td>4</td><td> 79.0</td><td> 66</td><td>4.08</td><td>1.935</td><td>18.90</td><td>1</td><td>1</td><td>4</td><td>1</td></tr>\n",
       "\t<tr><th scope=row>6</th><td>30.4</td><td>4</td><td> 95.1</td><td>113</td><td>3.77</td><td>1.513</td><td>16.90</td><td>1</td><td>1</td><td>5</td><td>2</td></tr>\n",
       "</tbody>\n",
       "</table>\n"
      ],
      "text/latex": [
       "A data.frame: 6 × 11\n",
       "\\begin{tabular}{r|lllllllllll}\n",
       "  & mpg & cyl & disp & hp & drat & wt & qsec & vs & am & gear & carb\\\\\n",
       "  & <dbl> & <dbl> & <dbl> & <dbl> & <dbl> & <dbl> & <dbl> & <dbl> & <dbl> & <dbl> & <dbl>\\\\\n",
       "\\hline\n",
       "\t1 & 22.8 & 4 & 108.0 &  93 & 3.85 & 2.320 & 18.61 & 1 & 1 & 4 & 1\\\\\n",
       "\t2 & 32.4 & 4 &  78.7 &  66 & 4.08 & 2.200 & 19.47 & 1 & 1 & 4 & 1\\\\\n",
       "\t3 & 30.4 & 4 &  75.7 &  52 & 4.93 & 1.615 & 18.52 & 1 & 1 & 4 & 2\\\\\n",
       "\t4 & 33.9 & 4 &  71.1 &  65 & 4.22 & 1.835 & 19.90 & 1 & 1 & 4 & 1\\\\\n",
       "\t5 & 27.3 & 4 &  79.0 &  66 & 4.08 & 1.935 & 18.90 & 1 & 1 & 4 & 1\\\\\n",
       "\t6 & 30.4 & 4 &  95.1 & 113 & 3.77 & 1.513 & 16.90 & 1 & 1 & 5 & 2\\\\\n",
       "\\end{tabular}\n"
      ],
      "text/markdown": [
       "\n",
       "A data.frame: 6 × 11\n",
       "\n",
       "| <!--/--> | mpg &lt;dbl&gt; | cyl &lt;dbl&gt; | disp &lt;dbl&gt; | hp &lt;dbl&gt; | drat &lt;dbl&gt; | wt &lt;dbl&gt; | qsec &lt;dbl&gt; | vs &lt;dbl&gt; | am &lt;dbl&gt; | gear &lt;dbl&gt; | carb &lt;dbl&gt; |\n",
       "|---|---|---|---|---|---|---|---|---|---|---|---|\n",
       "| 1 | 22.8 | 4 | 108.0 |  93 | 3.85 | 2.320 | 18.61 | 1 | 1 | 4 | 1 |\n",
       "| 2 | 32.4 | 4 |  78.7 |  66 | 4.08 | 2.200 | 19.47 | 1 | 1 | 4 | 1 |\n",
       "| 3 | 30.4 | 4 |  75.7 |  52 | 4.93 | 1.615 | 18.52 | 1 | 1 | 4 | 2 |\n",
       "| 4 | 33.9 | 4 |  71.1 |  65 | 4.22 | 1.835 | 19.90 | 1 | 1 | 4 | 1 |\n",
       "| 5 | 27.3 | 4 |  79.0 |  66 | 4.08 | 1.935 | 18.90 | 1 | 1 | 4 | 1 |\n",
       "| 6 | 30.4 | 4 |  95.1 | 113 | 3.77 | 1.513 | 16.90 | 1 | 1 | 5 | 2 |\n",
       "\n"
      ],
      "text/plain": [
       "  mpg  cyl disp  hp  drat wt    qsec  vs am gear carb\n",
       "1 22.8 4   108.0  93 3.85 2.320 18.61 1  1  4    1   \n",
       "2 32.4 4    78.7  66 4.08 2.200 19.47 1  1  4    1   \n",
       "3 30.4 4    75.7  52 4.93 1.615 18.52 1  1  4    2   \n",
       "4 33.9 4    71.1  65 4.22 1.835 19.90 1  1  4    1   \n",
       "5 27.3 4    79.0  66 4.08 1.935 18.90 1  1  4    1   \n",
       "6 30.4 4    95.1 113 3.77 1.513 16.90 1  1  5    2   "
      ]
     },
     "metadata": {},
     "output_type": "display_data"
    }
   ],
   "source": [
    "head(filter(mtcars, cyl<6, vs==1, am==1)) #equivalent to AND"
   ]
  },
  {
   "cell_type": "code",
   "execution_count": 36,
   "metadata": {
    "scrolled": false
   },
   "outputs": [
    {
     "data": {
      "text/html": [
       "<table>\n",
       "<caption>A data.frame: 6 × 11</caption>\n",
       "<thead>\n",
       "\t<tr><th></th><th scope=col>mpg</th><th scope=col>cyl</th><th scope=col>disp</th><th scope=col>hp</th><th scope=col>drat</th><th scope=col>wt</th><th scope=col>qsec</th><th scope=col>vs</th><th scope=col>am</th><th scope=col>gear</th><th scope=col>carb</th></tr>\n",
       "\t<tr><th></th><th scope=col>&lt;dbl&gt;</th><th scope=col>&lt;dbl&gt;</th><th scope=col>&lt;dbl&gt;</th><th scope=col>&lt;dbl&gt;</th><th scope=col>&lt;dbl&gt;</th><th scope=col>&lt;dbl&gt;</th><th scope=col>&lt;dbl&gt;</th><th scope=col>&lt;dbl&gt;</th><th scope=col>&lt;dbl&gt;</th><th scope=col>&lt;dbl&gt;</th><th scope=col>&lt;dbl&gt;</th></tr>\n",
       "</thead>\n",
       "<tbody>\n",
       "\t<tr><th scope=row>Mazda RX4</th><td>21.0</td><td>6</td><td>160</td><td>110</td><td>3.90</td><td>2.620</td><td>16.46</td><td>0</td><td>1</td><td>4</td><td>4</td></tr>\n",
       "\t<tr><th scope=row>Mazda RX4 Wag</th><td>21.0</td><td>6</td><td>160</td><td>110</td><td>3.90</td><td>2.875</td><td>17.02</td><td>0</td><td>1</td><td>4</td><td>4</td></tr>\n",
       "\t<tr><th scope=row>Datsun 710</th><td>22.8</td><td>4</td><td>108</td><td> 93</td><td>3.85</td><td>2.320</td><td>18.61</td><td>1</td><td>1</td><td>4</td><td>1</td></tr>\n",
       "\t<tr><th scope=row>Hornet 4 Drive</th><td>21.4</td><td>6</td><td>258</td><td>110</td><td>3.08</td><td>3.215</td><td>19.44</td><td>1</td><td>0</td><td>3</td><td>1</td></tr>\n",
       "\t<tr><th scope=row>Hornet Sportabout</th><td>18.7</td><td>8</td><td>360</td><td>175</td><td>3.15</td><td>3.440</td><td>17.02</td><td>0</td><td>0</td><td>3</td><td>2</td></tr>\n",
       "\t<tr><th scope=row>Valiant</th><td>18.1</td><td>6</td><td>225</td><td>105</td><td>2.76</td><td>3.460</td><td>20.22</td><td>1</td><td>0</td><td>3</td><td>1</td></tr>\n",
       "</tbody>\n",
       "</table>\n"
      ],
      "text/latex": [
       "A data.frame: 6 × 11\n",
       "\\begin{tabular}{r|lllllllllll}\n",
       "  & mpg & cyl & disp & hp & drat & wt & qsec & vs & am & gear & carb\\\\\n",
       "  & <dbl> & <dbl> & <dbl> & <dbl> & <dbl> & <dbl> & <dbl> & <dbl> & <dbl> & <dbl> & <dbl>\\\\\n",
       "\\hline\n",
       "\tMazda RX4 & 21.0 & 6 & 160 & 110 & 3.90 & 2.620 & 16.46 & 0 & 1 & 4 & 4\\\\\n",
       "\tMazda RX4 Wag & 21.0 & 6 & 160 & 110 & 3.90 & 2.875 & 17.02 & 0 & 1 & 4 & 4\\\\\n",
       "\tDatsun 710 & 22.8 & 4 & 108 &  93 & 3.85 & 2.320 & 18.61 & 1 & 1 & 4 & 1\\\\\n",
       "\tHornet 4 Drive & 21.4 & 6 & 258 & 110 & 3.08 & 3.215 & 19.44 & 1 & 0 & 3 & 1\\\\\n",
       "\tHornet Sportabout & 18.7 & 8 & 360 & 175 & 3.15 & 3.440 & 17.02 & 0 & 0 & 3 & 2\\\\\n",
       "\tValiant & 18.1 & 6 & 225 & 105 & 2.76 & 3.460 & 20.22 & 1 & 0 & 3 & 1\\\\\n",
       "\\end{tabular}\n"
      ],
      "text/markdown": [
       "\n",
       "A data.frame: 6 × 11\n",
       "\n",
       "| <!--/--> | mpg &lt;dbl&gt; | cyl &lt;dbl&gt; | disp &lt;dbl&gt; | hp &lt;dbl&gt; | drat &lt;dbl&gt; | wt &lt;dbl&gt; | qsec &lt;dbl&gt; | vs &lt;dbl&gt; | am &lt;dbl&gt; | gear &lt;dbl&gt; | carb &lt;dbl&gt; |\n",
       "|---|---|---|---|---|---|---|---|---|---|---|---|\n",
       "| Mazda RX4 | 21.0 | 6 | 160 | 110 | 3.90 | 2.620 | 16.46 | 0 | 1 | 4 | 4 |\n",
       "| Mazda RX4 Wag | 21.0 | 6 | 160 | 110 | 3.90 | 2.875 | 17.02 | 0 | 1 | 4 | 4 |\n",
       "| Datsun 710 | 22.8 | 4 | 108 |  93 | 3.85 | 2.320 | 18.61 | 1 | 1 | 4 | 1 |\n",
       "| Hornet 4 Drive | 21.4 | 6 | 258 | 110 | 3.08 | 3.215 | 19.44 | 1 | 0 | 3 | 1 |\n",
       "| Hornet Sportabout | 18.7 | 8 | 360 | 175 | 3.15 | 3.440 | 17.02 | 0 | 0 | 3 | 2 |\n",
       "| Valiant | 18.1 | 6 | 225 | 105 | 2.76 | 3.460 | 20.22 | 1 | 0 | 3 | 1 |\n",
       "\n"
      ],
      "text/plain": [
       "                  mpg  cyl disp hp  drat wt    qsec  vs am gear carb\n",
       "Mazda RX4         21.0 6   160  110 3.90 2.620 16.46 0  1  4    4   \n",
       "Mazda RX4 Wag     21.0 6   160  110 3.90 2.875 17.02 0  1  4    4   \n",
       "Datsun 710        22.8 4   108   93 3.85 2.320 18.61 1  1  4    1   \n",
       "Hornet 4 Drive    21.4 6   258  110 3.08 3.215 19.44 1  0  3    1   \n",
       "Hornet Sportabout 18.7 8   360  175 3.15 3.440 17.02 0  0  3    2   \n",
       "Valiant           18.1 6   225  105 2.76 3.460 20.22 1  0  3    1   "
      ]
     },
     "metadata": {},
     "output_type": "display_data"
    },
    {
     "data": {
      "text/html": [
       "<table>\n",
       "<caption>A data.frame: 6 × 11</caption>\n",
       "<thead>\n",
       "\t<tr><th></th><th scope=col>mpg</th><th scope=col>cyl</th><th scope=col>disp</th><th scope=col>hp</th><th scope=col>drat</th><th scope=col>wt</th><th scope=col>qsec</th><th scope=col>vs</th><th scope=col>am</th><th scope=col>gear</th><th scope=col>carb</th></tr>\n",
       "\t<tr><th></th><th scope=col>&lt;dbl&gt;</th><th scope=col>&lt;dbl&gt;</th><th scope=col>&lt;dbl&gt;</th><th scope=col>&lt;dbl&gt;</th><th scope=col>&lt;dbl&gt;</th><th scope=col>&lt;dbl&gt;</th><th scope=col>&lt;dbl&gt;</th><th scope=col>&lt;dbl&gt;</th><th scope=col>&lt;dbl&gt;</th><th scope=col>&lt;dbl&gt;</th><th scope=col>&lt;dbl&gt;</th></tr>\n",
       "</thead>\n",
       "<tbody>\n",
       "\t<tr><th scope=row>Toyota Corona</th><td>21.5</td><td>4</td><td>120.1</td><td>97</td><td>3.70</td><td>2.465</td><td>20.01</td><td>1</td><td>0</td><td>3</td><td>1</td></tr>\n",
       "\t<tr><th scope=row>Datsun 710</th><td>22.8</td><td>4</td><td>108.0</td><td>93</td><td>3.85</td><td>2.320</td><td>18.61</td><td>1</td><td>1</td><td>4</td><td>1</td></tr>\n",
       "\t<tr><th scope=row>Merc 240D</th><td>24.4</td><td>4</td><td>146.7</td><td>62</td><td>3.69</td><td>3.190</td><td>20.00</td><td>1</td><td>0</td><td>4</td><td>2</td></tr>\n",
       "\t<tr><th scope=row>Merc 230</th><td>22.8</td><td>4</td><td>140.8</td><td>95</td><td>3.92</td><td>3.150</td><td>22.90</td><td>1</td><td>0</td><td>4</td><td>2</td></tr>\n",
       "\t<tr><th scope=row>Fiat 128</th><td>32.4</td><td>4</td><td> 78.7</td><td>66</td><td>4.08</td><td>2.200</td><td>19.47</td><td>1</td><td>1</td><td>4</td><td>1</td></tr>\n",
       "\t<tr><th scope=row>Honda Civic</th><td>30.4</td><td>4</td><td> 75.7</td><td>52</td><td>4.93</td><td>1.615</td><td>18.52</td><td>1</td><td>1</td><td>4</td><td>2</td></tr>\n",
       "</tbody>\n",
       "</table>\n"
      ],
      "text/latex": [
       "A data.frame: 6 × 11\n",
       "\\begin{tabular}{r|lllllllllll}\n",
       "  & mpg & cyl & disp & hp & drat & wt & qsec & vs & am & gear & carb\\\\\n",
       "  & <dbl> & <dbl> & <dbl> & <dbl> & <dbl> & <dbl> & <dbl> & <dbl> & <dbl> & <dbl> & <dbl>\\\\\n",
       "\\hline\n",
       "\tToyota Corona & 21.5 & 4 & 120.1 & 97 & 3.70 & 2.465 & 20.01 & 1 & 0 & 3 & 1\\\\\n",
       "\tDatsun 710 & 22.8 & 4 & 108.0 & 93 & 3.85 & 2.320 & 18.61 & 1 & 1 & 4 & 1\\\\\n",
       "\tMerc 240D & 24.4 & 4 & 146.7 & 62 & 3.69 & 3.190 & 20.00 & 1 & 0 & 4 & 2\\\\\n",
       "\tMerc 230 & 22.8 & 4 & 140.8 & 95 & 3.92 & 3.150 & 22.90 & 1 & 0 & 4 & 2\\\\\n",
       "\tFiat 128 & 32.4 & 4 &  78.7 & 66 & 4.08 & 2.200 & 19.47 & 1 & 1 & 4 & 1\\\\\n",
       "\tHonda Civic & 30.4 & 4 &  75.7 & 52 & 4.93 & 1.615 & 18.52 & 1 & 1 & 4 & 2\\\\\n",
       "\\end{tabular}\n"
      ],
      "text/markdown": [
       "\n",
       "A data.frame: 6 × 11\n",
       "\n",
       "| <!--/--> | mpg &lt;dbl&gt; | cyl &lt;dbl&gt; | disp &lt;dbl&gt; | hp &lt;dbl&gt; | drat &lt;dbl&gt; | wt &lt;dbl&gt; | qsec &lt;dbl&gt; | vs &lt;dbl&gt; | am &lt;dbl&gt; | gear &lt;dbl&gt; | carb &lt;dbl&gt; |\n",
       "|---|---|---|---|---|---|---|---|---|---|---|---|\n",
       "| Toyota Corona | 21.5 | 4 | 120.1 | 97 | 3.70 | 2.465 | 20.01 | 1 | 0 | 3 | 1 |\n",
       "| Datsun 710 | 22.8 | 4 | 108.0 | 93 | 3.85 | 2.320 | 18.61 | 1 | 1 | 4 | 1 |\n",
       "| Merc 240D | 24.4 | 4 | 146.7 | 62 | 3.69 | 3.190 | 20.00 | 1 | 0 | 4 | 2 |\n",
       "| Merc 230 | 22.8 | 4 | 140.8 | 95 | 3.92 | 3.150 | 22.90 | 1 | 0 | 4 | 2 |\n",
       "| Fiat 128 | 32.4 | 4 |  78.7 | 66 | 4.08 | 2.200 | 19.47 | 1 | 1 | 4 | 1 |\n",
       "| Honda Civic | 30.4 | 4 |  75.7 | 52 | 4.93 | 1.615 | 18.52 | 1 | 1 | 4 | 2 |\n",
       "\n"
      ],
      "text/plain": [
       "              mpg  cyl disp  hp drat wt    qsec  vs am gear carb\n",
       "Toyota Corona 21.5 4   120.1 97 3.70 2.465 20.01 1  0  3    1   \n",
       "Datsun 710    22.8 4   108.0 93 3.85 2.320 18.61 1  1  4    1   \n",
       "Merc 240D     24.4 4   146.7 62 3.69 3.190 20.00 1  0  4    2   \n",
       "Merc 230      22.8 4   140.8 95 3.92 3.150 22.90 1  0  4    2   \n",
       "Fiat 128      32.4 4    78.7 66 4.08 2.200 19.47 1  1  4    1   \n",
       "Honda Civic   30.4 4    75.7 52 4.93 1.615 18.52 1  1  4    2   "
      ]
     },
     "metadata": {},
     "output_type": "display_data"
    }
   ],
   "source": [
    "head(mtcars)\n",
    "x=arrange(mtcars, cyl, gear)\n",
    "head(x)"
   ]
  },
  {
   "cell_type": "code",
   "execution_count": 46,
   "metadata": {
    "scrolled": true
   },
   "outputs": [
    {
     "data": {
      "text/html": [
       "<table>\n",
       "<thead><tr><th scope=col>cyl</th><th scope=col>vs</th><th scope=col>am</th></tr></thead>\n",
       "<tbody>\n",
       "\t<tr><td>4</td><td>0</td><td>1</td></tr>\n",
       "\t<tr><td>4</td><td>1</td><td>1</td></tr>\n",
       "\t<tr><td>4</td><td>1</td><td>0</td></tr>\n",
       "\t<tr><td>4</td><td>1</td><td>0</td></tr>\n",
       "\t<tr><td>4</td><td>1</td><td>1</td></tr>\n",
       "\t<tr><td>4</td><td>1</td><td>1</td></tr>\n",
       "\t<tr><td>4</td><td>1</td><td>1</td></tr>\n",
       "\t<tr><td>4</td><td>1</td><td>0</td></tr>\n",
       "\t<tr><td>4</td><td>1</td><td>1</td></tr>\n",
       "\t<tr><td>4</td><td>1</td><td>1</td></tr>\n",
       "\t<tr><td>4</td><td>1</td><td>1</td></tr>\n",
       "\t<tr><td>6</td><td>0</td><td>1</td></tr>\n",
       "\t<tr><td>6</td><td>0</td><td>1</td></tr>\n",
       "\t<tr><td>6</td><td>0</td><td>1</td></tr>\n",
       "\t<tr><td>6</td><td>1</td><td>0</td></tr>\n",
       "\t<tr><td>6</td><td>1</td><td>0</td></tr>\n",
       "\t<tr><td>6</td><td>1</td><td>0</td></tr>\n",
       "\t<tr><td>6</td><td>1</td><td>0</td></tr>\n",
       "\t<tr><td>8</td><td>0</td><td>0</td></tr>\n",
       "\t<tr><td>8</td><td>0</td><td>0</td></tr>\n",
       "\t<tr><td>8</td><td>0</td><td>0</td></tr>\n",
       "\t<tr><td>8</td><td>0</td><td>0</td></tr>\n",
       "\t<tr><td>8</td><td>0</td><td>0</td></tr>\n",
       "\t<tr><td>8</td><td>0</td><td>0</td></tr>\n",
       "\t<tr><td>8</td><td>0</td><td>0</td></tr>\n",
       "\t<tr><td>8</td><td>0</td><td>0</td></tr>\n",
       "\t<tr><td>8</td><td>0</td><td>0</td></tr>\n",
       "\t<tr><td>8</td><td>0</td><td>0</td></tr>\n",
       "\t<tr><td>8</td><td>0</td><td>0</td></tr>\n",
       "\t<tr><td>8</td><td>0</td><td>0</td></tr>\n",
       "\t<tr><td>8</td><td>0</td><td>1</td></tr>\n",
       "\t<tr><td>8</td><td>0</td><td>1</td></tr>\n",
       "</tbody>\n",
       "</table>\n"
      ],
      "text/latex": [
       "\\begin{tabular}{r|lll}\n",
       " cyl & vs & am\\\\\n",
       "\\hline\n",
       "\t 4 & 0 & 1\\\\\n",
       "\t 4 & 1 & 1\\\\\n",
       "\t 4 & 1 & 0\\\\\n",
       "\t 4 & 1 & 0\\\\\n",
       "\t 4 & 1 & 1\\\\\n",
       "\t 4 & 1 & 1\\\\\n",
       "\t 4 & 1 & 1\\\\\n",
       "\t 4 & 1 & 0\\\\\n",
       "\t 4 & 1 & 1\\\\\n",
       "\t 4 & 1 & 1\\\\\n",
       "\t 4 & 1 & 1\\\\\n",
       "\t 6 & 0 & 1\\\\\n",
       "\t 6 & 0 & 1\\\\\n",
       "\t 6 & 0 & 1\\\\\n",
       "\t 6 & 1 & 0\\\\\n",
       "\t 6 & 1 & 0\\\\\n",
       "\t 6 & 1 & 0\\\\\n",
       "\t 6 & 1 & 0\\\\\n",
       "\t 8 & 0 & 0\\\\\n",
       "\t 8 & 0 & 0\\\\\n",
       "\t 8 & 0 & 0\\\\\n",
       "\t 8 & 0 & 0\\\\\n",
       "\t 8 & 0 & 0\\\\\n",
       "\t 8 & 0 & 0\\\\\n",
       "\t 8 & 0 & 0\\\\\n",
       "\t 8 & 0 & 0\\\\\n",
       "\t 8 & 0 & 0\\\\\n",
       "\t 8 & 0 & 0\\\\\n",
       "\t 8 & 0 & 0\\\\\n",
       "\t 8 & 0 & 0\\\\\n",
       "\t 8 & 0 & 1\\\\\n",
       "\t 8 & 0 & 1\\\\\n",
       "\\end{tabular}\n"
      ],
      "text/markdown": [
       "\n",
       "cyl | vs | am | \n",
       "|---|---|---|---|---|---|---|---|---|---|---|---|---|---|---|---|---|---|---|---|---|---|---|---|---|---|---|---|---|---|---|---|\n",
       "| 4 | 0 | 1 | \n",
       "| 4 | 1 | 1 | \n",
       "| 4 | 1 | 0 | \n",
       "| 4 | 1 | 0 | \n",
       "| 4 | 1 | 1 | \n",
       "| 4 | 1 | 1 | \n",
       "| 4 | 1 | 1 | \n",
       "| 4 | 1 | 0 | \n",
       "| 4 | 1 | 1 | \n",
       "| 4 | 1 | 1 | \n",
       "| 4 | 1 | 1 | \n",
       "| 6 | 0 | 1 | \n",
       "| 6 | 0 | 1 | \n",
       "| 6 | 0 | 1 | \n",
       "| 6 | 1 | 0 | \n",
       "| 6 | 1 | 0 | \n",
       "| 6 | 1 | 0 | \n",
       "| 6 | 1 | 0 | \n",
       "| 8 | 0 | 0 | \n",
       "| 8 | 0 | 0 | \n",
       "| 8 | 0 | 0 | \n",
       "| 8 | 0 | 0 | \n",
       "| 8 | 0 | 0 | \n",
       "| 8 | 0 | 0 | \n",
       "| 8 | 0 | 0 | \n",
       "| 8 | 0 | 0 | \n",
       "| 8 | 0 | 0 | \n",
       "| 8 | 0 | 0 | \n",
       "| 8 | 0 | 0 | \n",
       "| 8 | 0 | 0 | \n",
       "| 8 | 0 | 1 | \n",
       "| 8 | 0 | 1 | \n",
       "\n",
       "\n"
      ],
      "text/plain": [
       "   cyl vs am\n",
       "1  4   0  1 \n",
       "2  4   1  1 \n",
       "3  4   1  0 \n",
       "4  4   1  0 \n",
       "5  4   1  1 \n",
       "6  4   1  1 \n",
       "7  4   1  1 \n",
       "8  4   1  0 \n",
       "9  4   1  1 \n",
       "10 4   1  1 \n",
       "11 4   1  1 \n",
       "12 6   0  1 \n",
       "13 6   0  1 \n",
       "14 6   0  1 \n",
       "15 6   1  0 \n",
       "16 6   1  0 \n",
       "17 6   1  0 \n",
       "18 6   1  0 \n",
       "19 8   0  0 \n",
       "20 8   0  0 \n",
       "21 8   0  0 \n",
       "22 8   0  0 \n",
       "23 8   0  0 \n",
       "24 8   0  0 \n",
       "25 8   0  0 \n",
       "26 8   0  0 \n",
       "27 8   0  0 \n",
       "28 8   0  0 \n",
       "29 8   0  0 \n",
       "30 8   0  0 \n",
       "31 8   0  1 \n",
       "32 8   0  1 "
      ]
     },
     "metadata": {},
     "output_type": "display_data"
    }
   ],
   "source": [
    "x=select(mtcars, cyl, vs, am)\n",
    "arrange(x, cyl, vs)"
   ]
  },
  {
   "cell_type": "code",
   "execution_count": 47,
   "metadata": {
    "scrolled": true
   },
   "outputs": [
    {
     "data": {
      "text/html": [
       "<table>\n",
       "<thead><tr><th scope=col>cyl</th><th scope=col>vs</th><th scope=col>am</th></tr></thead>\n",
       "<tbody>\n",
       "\t<tr><td>4</td><td>0</td><td>1</td></tr>\n",
       "\t<tr><td>4</td><td>1</td><td>1</td></tr>\n",
       "\t<tr><td>4</td><td>1</td><td>0</td></tr>\n",
       "\t<tr><td>4</td><td>1</td><td>0</td></tr>\n",
       "\t<tr><td>4</td><td>1</td><td>1</td></tr>\n",
       "\t<tr><td>4</td><td>1</td><td>1</td></tr>\n",
       "\t<tr><td>4</td><td>1</td><td>1</td></tr>\n",
       "\t<tr><td>4</td><td>1</td><td>0</td></tr>\n",
       "\t<tr><td>4</td><td>1</td><td>1</td></tr>\n",
       "\t<tr><td>4</td><td>1</td><td>1</td></tr>\n",
       "\t<tr><td>4</td><td>1</td><td>1</td></tr>\n",
       "\t<tr><td>6</td><td>0</td><td>1</td></tr>\n",
       "\t<tr><td>6</td><td>0</td><td>1</td></tr>\n",
       "\t<tr><td>6</td><td>0</td><td>1</td></tr>\n",
       "\t<tr><td>6</td><td>1</td><td>0</td></tr>\n",
       "\t<tr><td>6</td><td>1</td><td>0</td></tr>\n",
       "\t<tr><td>6</td><td>1</td><td>0</td></tr>\n",
       "\t<tr><td>6</td><td>1</td><td>0</td></tr>\n",
       "\t<tr><td>8</td><td>0</td><td>0</td></tr>\n",
       "\t<tr><td>8</td><td>0</td><td>0</td></tr>\n",
       "\t<tr><td>8</td><td>0</td><td>0</td></tr>\n",
       "\t<tr><td>8</td><td>0</td><td>0</td></tr>\n",
       "\t<tr><td>8</td><td>0</td><td>0</td></tr>\n",
       "\t<tr><td>8</td><td>0</td><td>0</td></tr>\n",
       "\t<tr><td>8</td><td>0</td><td>0</td></tr>\n",
       "\t<tr><td>8</td><td>0</td><td>0</td></tr>\n",
       "\t<tr><td>8</td><td>0</td><td>0</td></tr>\n",
       "\t<tr><td>8</td><td>0</td><td>0</td></tr>\n",
       "\t<tr><td>8</td><td>0</td><td>0</td></tr>\n",
       "\t<tr><td>8</td><td>0</td><td>0</td></tr>\n",
       "\t<tr><td>8</td><td>0</td><td>1</td></tr>\n",
       "\t<tr><td>8</td><td>0</td><td>1</td></tr>\n",
       "</tbody>\n",
       "</table>\n"
      ],
      "text/latex": [
       "\\begin{tabular}{r|lll}\n",
       " cyl & vs & am\\\\\n",
       "\\hline\n",
       "\t 4 & 0 & 1\\\\\n",
       "\t 4 & 1 & 1\\\\\n",
       "\t 4 & 1 & 0\\\\\n",
       "\t 4 & 1 & 0\\\\\n",
       "\t 4 & 1 & 1\\\\\n",
       "\t 4 & 1 & 1\\\\\n",
       "\t 4 & 1 & 1\\\\\n",
       "\t 4 & 1 & 0\\\\\n",
       "\t 4 & 1 & 1\\\\\n",
       "\t 4 & 1 & 1\\\\\n",
       "\t 4 & 1 & 1\\\\\n",
       "\t 6 & 0 & 1\\\\\n",
       "\t 6 & 0 & 1\\\\\n",
       "\t 6 & 0 & 1\\\\\n",
       "\t 6 & 1 & 0\\\\\n",
       "\t 6 & 1 & 0\\\\\n",
       "\t 6 & 1 & 0\\\\\n",
       "\t 6 & 1 & 0\\\\\n",
       "\t 8 & 0 & 0\\\\\n",
       "\t 8 & 0 & 0\\\\\n",
       "\t 8 & 0 & 0\\\\\n",
       "\t 8 & 0 & 0\\\\\n",
       "\t 8 & 0 & 0\\\\\n",
       "\t 8 & 0 & 0\\\\\n",
       "\t 8 & 0 & 0\\\\\n",
       "\t 8 & 0 & 0\\\\\n",
       "\t 8 & 0 & 0\\\\\n",
       "\t 8 & 0 & 0\\\\\n",
       "\t 8 & 0 & 0\\\\\n",
       "\t 8 & 0 & 0\\\\\n",
       "\t 8 & 0 & 1\\\\\n",
       "\t 8 & 0 & 1\\\\\n",
       "\\end{tabular}\n"
      ],
      "text/markdown": [
       "\n",
       "cyl | vs | am | \n",
       "|---|---|---|---|---|---|---|---|---|---|---|---|---|---|---|---|---|---|---|---|---|---|---|---|---|---|---|---|---|---|---|---|\n",
       "| 4 | 0 | 1 | \n",
       "| 4 | 1 | 1 | \n",
       "| 4 | 1 | 0 | \n",
       "| 4 | 1 | 0 | \n",
       "| 4 | 1 | 1 | \n",
       "| 4 | 1 | 1 | \n",
       "| 4 | 1 | 1 | \n",
       "| 4 | 1 | 0 | \n",
       "| 4 | 1 | 1 | \n",
       "| 4 | 1 | 1 | \n",
       "| 4 | 1 | 1 | \n",
       "| 6 | 0 | 1 | \n",
       "| 6 | 0 | 1 | \n",
       "| 6 | 0 | 1 | \n",
       "| 6 | 1 | 0 | \n",
       "| 6 | 1 | 0 | \n",
       "| 6 | 1 | 0 | \n",
       "| 6 | 1 | 0 | \n",
       "| 8 | 0 | 0 | \n",
       "| 8 | 0 | 0 | \n",
       "| 8 | 0 | 0 | \n",
       "| 8 | 0 | 0 | \n",
       "| 8 | 0 | 0 | \n",
       "| 8 | 0 | 0 | \n",
       "| 8 | 0 | 0 | \n",
       "| 8 | 0 | 0 | \n",
       "| 8 | 0 | 0 | \n",
       "| 8 | 0 | 0 | \n",
       "| 8 | 0 | 0 | \n",
       "| 8 | 0 | 0 | \n",
       "| 8 | 0 | 1 | \n",
       "| 8 | 0 | 1 | \n",
       "\n",
       "\n"
      ],
      "text/plain": [
       "   cyl vs am\n",
       "1  4   0  1 \n",
       "2  4   1  1 \n",
       "3  4   1  0 \n",
       "4  4   1  0 \n",
       "5  4   1  1 \n",
       "6  4   1  1 \n",
       "7  4   1  1 \n",
       "8  4   1  0 \n",
       "9  4   1  1 \n",
       "10 4   1  1 \n",
       "11 4   1  1 \n",
       "12 6   0  1 \n",
       "13 6   0  1 \n",
       "14 6   0  1 \n",
       "15 6   1  0 \n",
       "16 6   1  0 \n",
       "17 6   1  0 \n",
       "18 6   1  0 \n",
       "19 8   0  0 \n",
       "20 8   0  0 \n",
       "21 8   0  0 \n",
       "22 8   0  0 \n",
       "23 8   0  0 \n",
       "24 8   0  0 \n",
       "25 8   0  0 \n",
       "26 8   0  0 \n",
       "27 8   0  0 \n",
       "28 8   0  0 \n",
       "29 8   0  0 \n",
       "30 8   0  0 \n",
       "31 8   0  1 \n",
       "32 8   0  1 "
      ]
     },
     "metadata": {},
     "output_type": "display_data"
    }
   ],
   "source": [
    "x=select(arrange(x, cyl, vs), cyl, vs, am)\n",
    "x"
   ]
  },
  {
   "cell_type": "code",
   "execution_count": 24,
   "metadata": {
    "scrolled": true
   },
   "outputs": [
    {
     "data": {
      "text/html": [
       "<table>\n",
       "<caption>A data.frame: 6 × 11</caption>\n",
       "<thead>\n",
       "\t<tr><th></th><th scope=col>mpg</th><th scope=col>cyl</th><th scope=col>disp</th><th scope=col>hp</th><th scope=col>drat</th><th scope=col>wt</th><th scope=col>qsec</th><th scope=col>vs</th><th scope=col>am</th><th scope=col>gear</th><th scope=col>carb</th></tr>\n",
       "\t<tr><th></th><th scope=col>&lt;dbl&gt;</th><th scope=col>&lt;dbl&gt;</th><th scope=col>&lt;dbl&gt;</th><th scope=col>&lt;dbl&gt;</th><th scope=col>&lt;dbl&gt;</th><th scope=col>&lt;dbl&gt;</th><th scope=col>&lt;dbl&gt;</th><th scope=col>&lt;dbl&gt;</th><th scope=col>&lt;dbl&gt;</th><th scope=col>&lt;dbl&gt;</th><th scope=col>&lt;dbl&gt;</th></tr>\n",
       "</thead>\n",
       "<tbody>\n",
       "\t<tr><th scope=row>Mazda RX4</th><td>21.0</td><td>6</td><td>160</td><td>110</td><td>3.90</td><td>2.620</td><td>16.46</td><td>0</td><td>1</td><td>4</td><td>4</td></tr>\n",
       "\t<tr><th scope=row>Mazda RX4 Wag</th><td>21.0</td><td>6</td><td>160</td><td>110</td><td>3.90</td><td>2.875</td><td>17.02</td><td>0</td><td>1</td><td>4</td><td>4</td></tr>\n",
       "\t<tr><th scope=row>Datsun 710</th><td>22.8</td><td>4</td><td>108</td><td> 93</td><td>3.85</td><td>2.320</td><td>18.61</td><td>1</td><td>1</td><td>4</td><td>1</td></tr>\n",
       "\t<tr><th scope=row>Hornet 4 Drive</th><td>21.4</td><td>6</td><td>258</td><td>110</td><td>3.08</td><td>3.215</td><td>19.44</td><td>1</td><td>0</td><td>3</td><td>1</td></tr>\n",
       "\t<tr><th scope=row>Hornet Sportabout</th><td>18.7</td><td>8</td><td>360</td><td>175</td><td>3.15</td><td>3.440</td><td>17.02</td><td>0</td><td>0</td><td>3</td><td>2</td></tr>\n",
       "\t<tr><th scope=row>Valiant</th><td>18.1</td><td>6</td><td>225</td><td>105</td><td>2.76</td><td>3.460</td><td>20.22</td><td>1</td><td>0</td><td>3</td><td>1</td></tr>\n",
       "</tbody>\n",
       "</table>\n"
      ],
      "text/latex": [
       "A data.frame: 6 × 11\n",
       "\\begin{tabular}{r|lllllllllll}\n",
       "  & mpg & cyl & disp & hp & drat & wt & qsec & vs & am & gear & carb\\\\\n",
       "  & <dbl> & <dbl> & <dbl> & <dbl> & <dbl> & <dbl> & <dbl> & <dbl> & <dbl> & <dbl> & <dbl>\\\\\n",
       "\\hline\n",
       "\tMazda RX4 & 21.0 & 6 & 160 & 110 & 3.90 & 2.620 & 16.46 & 0 & 1 & 4 & 4\\\\\n",
       "\tMazda RX4 Wag & 21.0 & 6 & 160 & 110 & 3.90 & 2.875 & 17.02 & 0 & 1 & 4 & 4\\\\\n",
       "\tDatsun 710 & 22.8 & 4 & 108 &  93 & 3.85 & 2.320 & 18.61 & 1 & 1 & 4 & 1\\\\\n",
       "\tHornet 4 Drive & 21.4 & 6 & 258 & 110 & 3.08 & 3.215 & 19.44 & 1 & 0 & 3 & 1\\\\\n",
       "\tHornet Sportabout & 18.7 & 8 & 360 & 175 & 3.15 & 3.440 & 17.02 & 0 & 0 & 3 & 2\\\\\n",
       "\tValiant & 18.1 & 6 & 225 & 105 & 2.76 & 3.460 & 20.22 & 1 & 0 & 3 & 1\\\\\n",
       "\\end{tabular}\n"
      ],
      "text/markdown": [
       "\n",
       "A data.frame: 6 × 11\n",
       "\n",
       "| <!--/--> | mpg &lt;dbl&gt; | cyl &lt;dbl&gt; | disp &lt;dbl&gt; | hp &lt;dbl&gt; | drat &lt;dbl&gt; | wt &lt;dbl&gt; | qsec &lt;dbl&gt; | vs &lt;dbl&gt; | am &lt;dbl&gt; | gear &lt;dbl&gt; | carb &lt;dbl&gt; |\n",
       "|---|---|---|---|---|---|---|---|---|---|---|---|\n",
       "| Mazda RX4 | 21.0 | 6 | 160 | 110 | 3.90 | 2.620 | 16.46 | 0 | 1 | 4 | 4 |\n",
       "| Mazda RX4 Wag | 21.0 | 6 | 160 | 110 | 3.90 | 2.875 | 17.02 | 0 | 1 | 4 | 4 |\n",
       "| Datsun 710 | 22.8 | 4 | 108 |  93 | 3.85 | 2.320 | 18.61 | 1 | 1 | 4 | 1 |\n",
       "| Hornet 4 Drive | 21.4 | 6 | 258 | 110 | 3.08 | 3.215 | 19.44 | 1 | 0 | 3 | 1 |\n",
       "| Hornet Sportabout | 18.7 | 8 | 360 | 175 | 3.15 | 3.440 | 17.02 | 0 | 0 | 3 | 2 |\n",
       "| Valiant | 18.1 | 6 | 225 | 105 | 2.76 | 3.460 | 20.22 | 1 | 0 | 3 | 1 |\n",
       "\n"
      ],
      "text/plain": [
       "                  mpg  cyl disp hp  drat wt    qsec  vs am gear carb\n",
       "Mazda RX4         21.0 6   160  110 3.90 2.620 16.46 0  1  4    4   \n",
       "Mazda RX4 Wag     21.0 6   160  110 3.90 2.875 17.02 0  1  4    4   \n",
       "Datsun 710        22.8 4   108   93 3.85 2.320 18.61 1  1  4    1   \n",
       "Hornet 4 Drive    21.4 6   258  110 3.08 3.215 19.44 1  0  3    1   \n",
       "Hornet Sportabout 18.7 8   360  175 3.15 3.440 17.02 0  0  3    2   \n",
       "Valiant           18.1 6   225  105 2.76 3.460 20.22 1  0  3    1   "
      ]
     },
     "metadata": {},
     "output_type": "display_data"
    },
    {
     "data": {
      "text/html": [
       "<table>\n",
       "<caption>A data.frame: 32 × 11</caption>\n",
       "<thead>\n",
       "\t<tr><th></th><th scope=col>mpg</th><th scope=col>cyl</th><th scope=col>disp</th><th scope=col>hp</th><th scope=col>drat</th><th scope=col>wt</th><th scope=col>qsec</th><th scope=col>vs</th><th scope=col>am</th><th scope=col>gear</th><th scope=col>carb</th></tr>\n",
       "\t<tr><th></th><th scope=col>&lt;dbl&gt;</th><th scope=col>&lt;dbl&gt;</th><th scope=col>&lt;dbl&gt;</th><th scope=col>&lt;dbl&gt;</th><th scope=col>&lt;dbl&gt;</th><th scope=col>&lt;dbl&gt;</th><th scope=col>&lt;dbl&gt;</th><th scope=col>&lt;dbl&gt;</th><th scope=col>&lt;dbl&gt;</th><th scope=col>&lt;dbl&gt;</th><th scope=col>&lt;dbl&gt;</th></tr>\n",
       "</thead>\n",
       "<tbody>\n",
       "\t<tr><th scope=row>Ferrari Dino</th><td>19.7</td><td>6</td><td>145.0</td><td>175</td><td>3.62</td><td>2.770</td><td>15.50</td><td>0</td><td>1</td><td>5</td><td>6</td></tr>\n",
       "\t<tr><th scope=row>Maserati Bora</th><td>15.0</td><td>8</td><td>301.0</td><td>335</td><td>3.54</td><td>3.570</td><td>14.60</td><td>0</td><td>1</td><td>5</td><td>8</td></tr>\n",
       "\t<tr><th scope=row>Mazda RX4</th><td>21.0</td><td>6</td><td>160.0</td><td>110</td><td>3.90</td><td>2.620</td><td>16.46</td><td>0</td><td>1</td><td>4</td><td>4</td></tr>\n",
       "\t<tr><th scope=row>Mazda RX4 Wag</th><td>21.0</td><td>6</td><td>160.0</td><td>110</td><td>3.90</td><td>2.875</td><td>17.02</td><td>0</td><td>1</td><td>4</td><td>4</td></tr>\n",
       "\t<tr><th scope=row>Duster 360</th><td>14.3</td><td>8</td><td>360.0</td><td>245</td><td>3.21</td><td>3.570</td><td>15.84</td><td>0</td><td>0</td><td>3</td><td>4</td></tr>\n",
       "\t<tr><th scope=row>Merc 280</th><td>19.2</td><td>6</td><td>167.6</td><td>123</td><td>3.92</td><td>3.440</td><td>18.30</td><td>1</td><td>0</td><td>4</td><td>4</td></tr>\n",
       "\t<tr><th scope=row>Merc 280C</th><td>17.8</td><td>6</td><td>167.6</td><td>123</td><td>3.92</td><td>3.440</td><td>18.90</td><td>1</td><td>0</td><td>4</td><td>4</td></tr>\n",
       "\t<tr><th scope=row>Cadillac Fleetwood</th><td>10.4</td><td>8</td><td>472.0</td><td>205</td><td>2.93</td><td>5.250</td><td>17.98</td><td>0</td><td>0</td><td>3</td><td>4</td></tr>\n",
       "\t<tr><th scope=row>Lincoln Continental</th><td>10.4</td><td>8</td><td>460.0</td><td>215</td><td>3.00</td><td>5.424</td><td>17.82</td><td>0</td><td>0</td><td>3</td><td>4</td></tr>\n",
       "\t<tr><th scope=row>Chrysler Imperial</th><td>14.7</td><td>8</td><td>440.0</td><td>230</td><td>3.23</td><td>5.345</td><td>17.42</td><td>0</td><td>0</td><td>3</td><td>4</td></tr>\n",
       "\t<tr><th scope=row>Camaro Z28</th><td>13.3</td><td>8</td><td>350.0</td><td>245</td><td>3.73</td><td>3.840</td><td>15.41</td><td>0</td><td>0</td><td>3</td><td>4</td></tr>\n",
       "\t<tr><th scope=row>Merc 240D</th><td>24.4</td><td>4</td><td>146.7</td><td> 62</td><td>3.69</td><td>3.190</td><td>20.00</td><td>1</td><td>0</td><td>4</td><td>2</td></tr>\n",
       "\t<tr><th scope=row>Merc 230</th><td>22.8</td><td>4</td><td>140.8</td><td> 95</td><td>3.92</td><td>3.150</td><td>22.90</td><td>1</td><td>0</td><td>4</td><td>2</td></tr>\n",
       "\t<tr><th scope=row>Merc 450SE</th><td>16.4</td><td>8</td><td>275.8</td><td>180</td><td>3.07</td><td>4.070</td><td>17.40</td><td>0</td><td>0</td><td>3</td><td>3</td></tr>\n",
       "\t<tr><th scope=row>Merc 450SL</th><td>17.3</td><td>8</td><td>275.8</td><td>180</td><td>3.07</td><td>3.730</td><td>17.60</td><td>0</td><td>0</td><td>3</td><td>3</td></tr>\n",
       "\t<tr><th scope=row>Merc 450SLC</th><td>15.2</td><td>8</td><td>275.8</td><td>180</td><td>3.07</td><td>3.780</td><td>18.00</td><td>0</td><td>0</td><td>3</td><td>3</td></tr>\n",
       "\t<tr><th scope=row>Honda Civic</th><td>30.4</td><td>4</td><td> 75.7</td><td> 52</td><td>4.93</td><td>1.615</td><td>18.52</td><td>1</td><td>1</td><td>4</td><td>2</td></tr>\n",
       "\t<tr><th scope=row>Volvo 142E</th><td>21.4</td><td>4</td><td>121.0</td><td>109</td><td>4.11</td><td>2.780</td><td>18.60</td><td>1</td><td>1</td><td>4</td><td>2</td></tr>\n",
       "\t<tr><th scope=row>Porsche 914-2</th><td>26.0</td><td>4</td><td>120.3</td><td> 91</td><td>4.43</td><td>2.140</td><td>16.70</td><td>0</td><td>1</td><td>5</td><td>2</td></tr>\n",
       "\t<tr><th scope=row>Lotus Europa</th><td>30.4</td><td>4</td><td> 95.1</td><td>113</td><td>3.77</td><td>1.513</td><td>16.90</td><td>1</td><td>1</td><td>5</td><td>2</td></tr>\n",
       "\t<tr><th scope=row>Ford Pantera L</th><td>15.8</td><td>8</td><td>351.0</td><td>264</td><td>4.22</td><td>3.170</td><td>14.50</td><td>0</td><td>1</td><td>5</td><td>4</td></tr>\n",
       "\t<tr><th scope=row>Hornet Sportabout</th><td>18.7</td><td>8</td><td>360.0</td><td>175</td><td>3.15</td><td>3.440</td><td>17.02</td><td>0</td><td>0</td><td>3</td><td>2</td></tr>\n",
       "\t<tr><th scope=row>Toyota Corona</th><td>21.5</td><td>4</td><td>120.1</td><td> 97</td><td>3.70</td><td>2.465</td><td>20.01</td><td>1</td><td>0</td><td>3</td><td>1</td></tr>\n",
       "\t<tr><th scope=row>Dodge Challenger</th><td>15.5</td><td>8</td><td>318.0</td><td>150</td><td>2.76</td><td>3.520</td><td>16.87</td><td>0</td><td>0</td><td>3</td><td>2</td></tr>\n",
       "\t<tr><th scope=row>AMC Javelin</th><td>15.2</td><td>8</td><td>304.0</td><td>150</td><td>3.15</td><td>3.435</td><td>17.30</td><td>0</td><td>0</td><td>3</td><td>2</td></tr>\n",
       "\t<tr><th scope=row>Pontiac Firebird</th><td>19.2</td><td>8</td><td>400.0</td><td>175</td><td>3.08</td><td>3.845</td><td>17.05</td><td>0</td><td>0</td><td>3</td><td>2</td></tr>\n",
       "\t<tr><th scope=row>Datsun 710</th><td>22.8</td><td>4</td><td>108.0</td><td> 93</td><td>3.85</td><td>2.320</td><td>18.61</td><td>1</td><td>1</td><td>4</td><td>1</td></tr>\n",
       "\t<tr><th scope=row>Fiat 128</th><td>32.4</td><td>4</td><td> 78.7</td><td> 66</td><td>4.08</td><td>2.200</td><td>19.47</td><td>1</td><td>1</td><td>4</td><td>1</td></tr>\n",
       "\t<tr><th scope=row>Toyota Corolla</th><td>33.9</td><td>4</td><td> 71.1</td><td> 65</td><td>4.22</td><td>1.835</td><td>19.90</td><td>1</td><td>1</td><td>4</td><td>1</td></tr>\n",
       "\t<tr><th scope=row>Fiat X1-9</th><td>27.3</td><td>4</td><td> 79.0</td><td> 66</td><td>4.08</td><td>1.935</td><td>18.90</td><td>1</td><td>1</td><td>4</td><td>1</td></tr>\n",
       "\t<tr><th scope=row>Hornet 4 Drive</th><td>21.4</td><td>6</td><td>258.0</td><td>110</td><td>3.08</td><td>3.215</td><td>19.44</td><td>1</td><td>0</td><td>3</td><td>1</td></tr>\n",
       "\t<tr><th scope=row>Valiant</th><td>18.1</td><td>6</td><td>225.0</td><td>105</td><td>2.76</td><td>3.460</td><td>20.22</td><td>1</td><td>0</td><td>3</td><td>1</td></tr>\n",
       "</tbody>\n",
       "</table>\n"
      ],
      "text/latex": [
       "A data.frame: 32 × 11\n",
       "\\begin{tabular}{r|lllllllllll}\n",
       "  & mpg & cyl & disp & hp & drat & wt & qsec & vs & am & gear & carb\\\\\n",
       "  & <dbl> & <dbl> & <dbl> & <dbl> & <dbl> & <dbl> & <dbl> & <dbl> & <dbl> & <dbl> & <dbl>\\\\\n",
       "\\hline\n",
       "\tFerrari Dino & 19.7 & 6 & 145.0 & 175 & 3.62 & 2.770 & 15.50 & 0 & 1 & 5 & 6\\\\\n",
       "\tMaserati Bora & 15.0 & 8 & 301.0 & 335 & 3.54 & 3.570 & 14.60 & 0 & 1 & 5 & 8\\\\\n",
       "\tMazda RX4 & 21.0 & 6 & 160.0 & 110 & 3.90 & 2.620 & 16.46 & 0 & 1 & 4 & 4\\\\\n",
       "\tMazda RX4 Wag & 21.0 & 6 & 160.0 & 110 & 3.90 & 2.875 & 17.02 & 0 & 1 & 4 & 4\\\\\n",
       "\tDuster 360 & 14.3 & 8 & 360.0 & 245 & 3.21 & 3.570 & 15.84 & 0 & 0 & 3 & 4\\\\\n",
       "\tMerc 280 & 19.2 & 6 & 167.6 & 123 & 3.92 & 3.440 & 18.30 & 1 & 0 & 4 & 4\\\\\n",
       "\tMerc 280C & 17.8 & 6 & 167.6 & 123 & 3.92 & 3.440 & 18.90 & 1 & 0 & 4 & 4\\\\\n",
       "\tCadillac Fleetwood & 10.4 & 8 & 472.0 & 205 & 2.93 & 5.250 & 17.98 & 0 & 0 & 3 & 4\\\\\n",
       "\tLincoln Continental & 10.4 & 8 & 460.0 & 215 & 3.00 & 5.424 & 17.82 & 0 & 0 & 3 & 4\\\\\n",
       "\tChrysler Imperial & 14.7 & 8 & 440.0 & 230 & 3.23 & 5.345 & 17.42 & 0 & 0 & 3 & 4\\\\\n",
       "\tCamaro Z28 & 13.3 & 8 & 350.0 & 245 & 3.73 & 3.840 & 15.41 & 0 & 0 & 3 & 4\\\\\n",
       "\tMerc 240D & 24.4 & 4 & 146.7 &  62 & 3.69 & 3.190 & 20.00 & 1 & 0 & 4 & 2\\\\\n",
       "\tMerc 230 & 22.8 & 4 & 140.8 &  95 & 3.92 & 3.150 & 22.90 & 1 & 0 & 4 & 2\\\\\n",
       "\tMerc 450SE & 16.4 & 8 & 275.8 & 180 & 3.07 & 4.070 & 17.40 & 0 & 0 & 3 & 3\\\\\n",
       "\tMerc 450SL & 17.3 & 8 & 275.8 & 180 & 3.07 & 3.730 & 17.60 & 0 & 0 & 3 & 3\\\\\n",
       "\tMerc 450SLC & 15.2 & 8 & 275.8 & 180 & 3.07 & 3.780 & 18.00 & 0 & 0 & 3 & 3\\\\\n",
       "\tHonda Civic & 30.4 & 4 &  75.7 &  52 & 4.93 & 1.615 & 18.52 & 1 & 1 & 4 & 2\\\\\n",
       "\tVolvo 142E & 21.4 & 4 & 121.0 & 109 & 4.11 & 2.780 & 18.60 & 1 & 1 & 4 & 2\\\\\n",
       "\tPorsche 914-2 & 26.0 & 4 & 120.3 &  91 & 4.43 & 2.140 & 16.70 & 0 & 1 & 5 & 2\\\\\n",
       "\tLotus Europa & 30.4 & 4 &  95.1 & 113 & 3.77 & 1.513 & 16.90 & 1 & 1 & 5 & 2\\\\\n",
       "\tFord Pantera L & 15.8 & 8 & 351.0 & 264 & 4.22 & 3.170 & 14.50 & 0 & 1 & 5 & 4\\\\\n",
       "\tHornet Sportabout & 18.7 & 8 & 360.0 & 175 & 3.15 & 3.440 & 17.02 & 0 & 0 & 3 & 2\\\\\n",
       "\tToyota Corona & 21.5 & 4 & 120.1 &  97 & 3.70 & 2.465 & 20.01 & 1 & 0 & 3 & 1\\\\\n",
       "\tDodge Challenger & 15.5 & 8 & 318.0 & 150 & 2.76 & 3.520 & 16.87 & 0 & 0 & 3 & 2\\\\\n",
       "\tAMC Javelin & 15.2 & 8 & 304.0 & 150 & 3.15 & 3.435 & 17.30 & 0 & 0 & 3 & 2\\\\\n",
       "\tPontiac Firebird & 19.2 & 8 & 400.0 & 175 & 3.08 & 3.845 & 17.05 & 0 & 0 & 3 & 2\\\\\n",
       "\tDatsun 710 & 22.8 & 4 & 108.0 &  93 & 3.85 & 2.320 & 18.61 & 1 & 1 & 4 & 1\\\\\n",
       "\tFiat 128 & 32.4 & 4 &  78.7 &  66 & 4.08 & 2.200 & 19.47 & 1 & 1 & 4 & 1\\\\\n",
       "\tToyota Corolla & 33.9 & 4 &  71.1 &  65 & 4.22 & 1.835 & 19.90 & 1 & 1 & 4 & 1\\\\\n",
       "\tFiat X1-9 & 27.3 & 4 &  79.0 &  66 & 4.08 & 1.935 & 18.90 & 1 & 1 & 4 & 1\\\\\n",
       "\tHornet 4 Drive & 21.4 & 6 & 258.0 & 110 & 3.08 & 3.215 & 19.44 & 1 & 0 & 3 & 1\\\\\n",
       "\tValiant & 18.1 & 6 & 225.0 & 105 & 2.76 & 3.460 & 20.22 & 1 & 0 & 3 & 1\\\\\n",
       "\\end{tabular}\n"
      ],
      "text/markdown": [
       "\n",
       "A data.frame: 32 × 11\n",
       "\n",
       "| <!--/--> | mpg &lt;dbl&gt; | cyl &lt;dbl&gt; | disp &lt;dbl&gt; | hp &lt;dbl&gt; | drat &lt;dbl&gt; | wt &lt;dbl&gt; | qsec &lt;dbl&gt; | vs &lt;dbl&gt; | am &lt;dbl&gt; | gear &lt;dbl&gt; | carb &lt;dbl&gt; |\n",
       "|---|---|---|---|---|---|---|---|---|---|---|---|\n",
       "| Ferrari Dino | 19.7 | 6 | 145.0 | 175 | 3.62 | 2.770 | 15.50 | 0 | 1 | 5 | 6 |\n",
       "| Maserati Bora | 15.0 | 8 | 301.0 | 335 | 3.54 | 3.570 | 14.60 | 0 | 1 | 5 | 8 |\n",
       "| Mazda RX4 | 21.0 | 6 | 160.0 | 110 | 3.90 | 2.620 | 16.46 | 0 | 1 | 4 | 4 |\n",
       "| Mazda RX4 Wag | 21.0 | 6 | 160.0 | 110 | 3.90 | 2.875 | 17.02 | 0 | 1 | 4 | 4 |\n",
       "| Duster 360 | 14.3 | 8 | 360.0 | 245 | 3.21 | 3.570 | 15.84 | 0 | 0 | 3 | 4 |\n",
       "| Merc 280 | 19.2 | 6 | 167.6 | 123 | 3.92 | 3.440 | 18.30 | 1 | 0 | 4 | 4 |\n",
       "| Merc 280C | 17.8 | 6 | 167.6 | 123 | 3.92 | 3.440 | 18.90 | 1 | 0 | 4 | 4 |\n",
       "| Cadillac Fleetwood | 10.4 | 8 | 472.0 | 205 | 2.93 | 5.250 | 17.98 | 0 | 0 | 3 | 4 |\n",
       "| Lincoln Continental | 10.4 | 8 | 460.0 | 215 | 3.00 | 5.424 | 17.82 | 0 | 0 | 3 | 4 |\n",
       "| Chrysler Imperial | 14.7 | 8 | 440.0 | 230 | 3.23 | 5.345 | 17.42 | 0 | 0 | 3 | 4 |\n",
       "| Camaro Z28 | 13.3 | 8 | 350.0 | 245 | 3.73 | 3.840 | 15.41 | 0 | 0 | 3 | 4 |\n",
       "| Merc 240D | 24.4 | 4 | 146.7 |  62 | 3.69 | 3.190 | 20.00 | 1 | 0 | 4 | 2 |\n",
       "| Merc 230 | 22.8 | 4 | 140.8 |  95 | 3.92 | 3.150 | 22.90 | 1 | 0 | 4 | 2 |\n",
       "| Merc 450SE | 16.4 | 8 | 275.8 | 180 | 3.07 | 4.070 | 17.40 | 0 | 0 | 3 | 3 |\n",
       "| Merc 450SL | 17.3 | 8 | 275.8 | 180 | 3.07 | 3.730 | 17.60 | 0 | 0 | 3 | 3 |\n",
       "| Merc 450SLC | 15.2 | 8 | 275.8 | 180 | 3.07 | 3.780 | 18.00 | 0 | 0 | 3 | 3 |\n",
       "| Honda Civic | 30.4 | 4 |  75.7 |  52 | 4.93 | 1.615 | 18.52 | 1 | 1 | 4 | 2 |\n",
       "| Volvo 142E | 21.4 | 4 | 121.0 | 109 | 4.11 | 2.780 | 18.60 | 1 | 1 | 4 | 2 |\n",
       "| Porsche 914-2 | 26.0 | 4 | 120.3 |  91 | 4.43 | 2.140 | 16.70 | 0 | 1 | 5 | 2 |\n",
       "| Lotus Europa | 30.4 | 4 |  95.1 | 113 | 3.77 | 1.513 | 16.90 | 1 | 1 | 5 | 2 |\n",
       "| Ford Pantera L | 15.8 | 8 | 351.0 | 264 | 4.22 | 3.170 | 14.50 | 0 | 1 | 5 | 4 |\n",
       "| Hornet Sportabout | 18.7 | 8 | 360.0 | 175 | 3.15 | 3.440 | 17.02 | 0 | 0 | 3 | 2 |\n",
       "| Toyota Corona | 21.5 | 4 | 120.1 |  97 | 3.70 | 2.465 | 20.01 | 1 | 0 | 3 | 1 |\n",
       "| Dodge Challenger | 15.5 | 8 | 318.0 | 150 | 2.76 | 3.520 | 16.87 | 0 | 0 | 3 | 2 |\n",
       "| AMC Javelin | 15.2 | 8 | 304.0 | 150 | 3.15 | 3.435 | 17.30 | 0 | 0 | 3 | 2 |\n",
       "| Pontiac Firebird | 19.2 | 8 | 400.0 | 175 | 3.08 | 3.845 | 17.05 | 0 | 0 | 3 | 2 |\n",
       "| Datsun 710 | 22.8 | 4 | 108.0 |  93 | 3.85 | 2.320 | 18.61 | 1 | 1 | 4 | 1 |\n",
       "| Fiat 128 | 32.4 | 4 |  78.7 |  66 | 4.08 | 2.200 | 19.47 | 1 | 1 | 4 | 1 |\n",
       "| Toyota Corolla | 33.9 | 4 |  71.1 |  65 | 4.22 | 1.835 | 19.90 | 1 | 1 | 4 | 1 |\n",
       "| Fiat X1-9 | 27.3 | 4 |  79.0 |  66 | 4.08 | 1.935 | 18.90 | 1 | 1 | 4 | 1 |\n",
       "| Hornet 4 Drive | 21.4 | 6 | 258.0 | 110 | 3.08 | 3.215 | 19.44 | 1 | 0 | 3 | 1 |\n",
       "| Valiant | 18.1 | 6 | 225.0 | 105 | 2.76 | 3.460 | 20.22 | 1 | 0 | 3 | 1 |\n",
       "\n"
      ],
      "text/plain": [
       "                    mpg  cyl disp  hp  drat wt    qsec  vs am gear carb\n",
       "Ferrari Dino        19.7 6   145.0 175 3.62 2.770 15.50 0  1  5    6   \n",
       "Maserati Bora       15.0 8   301.0 335 3.54 3.570 14.60 0  1  5    8   \n",
       "Mazda RX4           21.0 6   160.0 110 3.90 2.620 16.46 0  1  4    4   \n",
       "Mazda RX4 Wag       21.0 6   160.0 110 3.90 2.875 17.02 0  1  4    4   \n",
       "Duster 360          14.3 8   360.0 245 3.21 3.570 15.84 0  0  3    4   \n",
       "Merc 280            19.2 6   167.6 123 3.92 3.440 18.30 1  0  4    4   \n",
       "Merc 280C           17.8 6   167.6 123 3.92 3.440 18.90 1  0  4    4   \n",
       "Cadillac Fleetwood  10.4 8   472.0 205 2.93 5.250 17.98 0  0  3    4   \n",
       "Lincoln Continental 10.4 8   460.0 215 3.00 5.424 17.82 0  0  3    4   \n",
       "Chrysler Imperial   14.7 8   440.0 230 3.23 5.345 17.42 0  0  3    4   \n",
       "Camaro Z28          13.3 8   350.0 245 3.73 3.840 15.41 0  0  3    4   \n",
       "Merc 240D           24.4 4   146.7  62 3.69 3.190 20.00 1  0  4    2   \n",
       "Merc 230            22.8 4   140.8  95 3.92 3.150 22.90 1  0  4    2   \n",
       "Merc 450SE          16.4 8   275.8 180 3.07 4.070 17.40 0  0  3    3   \n",
       "Merc 450SL          17.3 8   275.8 180 3.07 3.730 17.60 0  0  3    3   \n",
       "Merc 450SLC         15.2 8   275.8 180 3.07 3.780 18.00 0  0  3    3   \n",
       "Honda Civic         30.4 4    75.7  52 4.93 1.615 18.52 1  1  4    2   \n",
       "Volvo 142E          21.4 4   121.0 109 4.11 2.780 18.60 1  1  4    2   \n",
       "Porsche 914-2       26.0 4   120.3  91 4.43 2.140 16.70 0  1  5    2   \n",
       "Lotus Europa        30.4 4    95.1 113 3.77 1.513 16.90 1  1  5    2   \n",
       "Ford Pantera L      15.8 8   351.0 264 4.22 3.170 14.50 0  1  5    4   \n",
       "Hornet Sportabout   18.7 8   360.0 175 3.15 3.440 17.02 0  0  3    2   \n",
       "Toyota Corona       21.5 4   120.1  97 3.70 2.465 20.01 1  0  3    1   \n",
       "Dodge Challenger    15.5 8   318.0 150 2.76 3.520 16.87 0  0  3    2   \n",
       "AMC Javelin         15.2 8   304.0 150 3.15 3.435 17.30 0  0  3    2   \n",
       "Pontiac Firebird    19.2 8   400.0 175 3.08 3.845 17.05 0  0  3    2   \n",
       "Datsun 710          22.8 4   108.0  93 3.85 2.320 18.61 1  1  4    1   \n",
       "Fiat 128            32.4 4    78.7  66 4.08 2.200 19.47 1  1  4    1   \n",
       "Toyota Corolla      33.9 4    71.1  65 4.22 1.835 19.90 1  1  4    1   \n",
       "Fiat X1-9           27.3 4    79.0  66 4.08 1.935 18.90 1  1  4    1   \n",
       "Hornet 4 Drive      21.4 6   258.0 110 3.08 3.215 19.44 1  0  3    1   \n",
       "Valiant             18.1 6   225.0 105 2.76 3.460 20.22 1  0  3    1   "
      ]
     },
     "metadata": {},
     "output_type": "display_data"
    }
   ],
   "source": [
    "head(mtcars)\n",
    "x=arrange(mtcars, cyl*gear/carb) #define your own key to sort\n",
    "x"
   ]
  },
  {
   "cell_type": "code",
   "execution_count": 42,
   "metadata": {
    "scrolled": true
   },
   "outputs": [
    {
     "data": {
      "text/html": [
       "<table>\n",
       "<caption>A data.frame: 32 × 11</caption>\n",
       "<thead>\n",
       "\t<tr><th scope=col>mpg</th><th scope=col>cyl</th><th scope=col>disp</th><th scope=col>hp</th><th scope=col>drat</th><th scope=col>wt</th><th scope=col>qsec</th><th scope=col>vs</th><th scope=col>am</th><th scope=col>gear</th><th scope=col>carb</th></tr>\n",
       "\t<tr><th scope=col>&lt;dbl&gt;</th><th scope=col>&lt;dbl&gt;</th><th scope=col>&lt;dbl&gt;</th><th scope=col>&lt;dbl&gt;</th><th scope=col>&lt;dbl&gt;</th><th scope=col>&lt;dbl&gt;</th><th scope=col>&lt;dbl&gt;</th><th scope=col>&lt;dbl&gt;</th><th scope=col>&lt;dbl&gt;</th><th scope=col>&lt;dbl&gt;</th><th scope=col>&lt;dbl&gt;</th></tr>\n",
       "</thead>\n",
       "<tbody>\n",
       "\t<tr><td>21.4</td><td>6</td><td>258.0</td><td>110</td><td>3.08</td><td>3.215</td><td>19.44</td><td>1</td><td>0</td><td>3</td><td>1</td></tr>\n",
       "\t<tr><td>18.1</td><td>6</td><td>225.0</td><td>105</td><td>2.76</td><td>3.460</td><td>20.22</td><td>1</td><td>0</td><td>3</td><td>1</td></tr>\n",
       "\t<tr><td>22.8</td><td>4</td><td>108.0</td><td> 93</td><td>3.85</td><td>2.320</td><td>18.61</td><td>1</td><td>1</td><td>4</td><td>1</td></tr>\n",
       "\t<tr><td>32.4</td><td>4</td><td> 78.7</td><td> 66</td><td>4.08</td><td>2.200</td><td>19.47</td><td>1</td><td>1</td><td>4</td><td>1</td></tr>\n",
       "\t<tr><td>33.9</td><td>4</td><td> 71.1</td><td> 65</td><td>4.22</td><td>1.835</td><td>19.90</td><td>1</td><td>1</td><td>4</td><td>1</td></tr>\n",
       "\t<tr><td>27.3</td><td>4</td><td> 79.0</td><td> 66</td><td>4.08</td><td>1.935</td><td>18.90</td><td>1</td><td>1</td><td>4</td><td>1</td></tr>\n",
       "\t<tr><td>18.7</td><td>8</td><td>360.0</td><td>175</td><td>3.15</td><td>3.440</td><td>17.02</td><td>0</td><td>0</td><td>3</td><td>2</td></tr>\n",
       "\t<tr><td>21.5</td><td>4</td><td>120.1</td><td> 97</td><td>3.70</td><td>2.465</td><td>20.01</td><td>1</td><td>0</td><td>3</td><td>1</td></tr>\n",
       "\t<tr><td>15.5</td><td>8</td><td>318.0</td><td>150</td><td>2.76</td><td>3.520</td><td>16.87</td><td>0</td><td>0</td><td>3</td><td>2</td></tr>\n",
       "\t<tr><td>15.2</td><td>8</td><td>304.0</td><td>150</td><td>3.15</td><td>3.435</td><td>17.30</td><td>0</td><td>0</td><td>3</td><td>2</td></tr>\n",
       "\t<tr><td>19.2</td><td>8</td><td>400.0</td><td>175</td><td>3.08</td><td>3.845</td><td>17.05</td><td>0</td><td>0</td><td>3</td><td>2</td></tr>\n",
       "\t<tr><td>26.0</td><td>4</td><td>120.3</td><td> 91</td><td>4.43</td><td>2.140</td><td>16.70</td><td>0</td><td>1</td><td>5</td><td>2</td></tr>\n",
       "\t<tr><td>30.4</td><td>4</td><td> 95.1</td><td>113</td><td>3.77</td><td>1.513</td><td>16.90</td><td>1</td><td>1</td><td>5</td><td>2</td></tr>\n",
       "\t<tr><td>15.8</td><td>8</td><td>351.0</td><td>264</td><td>4.22</td><td>3.170</td><td>14.50</td><td>0</td><td>1</td><td>5</td><td>4</td></tr>\n",
       "\t<tr><td>24.4</td><td>4</td><td>146.7</td><td> 62</td><td>3.69</td><td>3.190</td><td>20.00</td><td>1</td><td>0</td><td>4</td><td>2</td></tr>\n",
       "\t<tr><td>22.8</td><td>4</td><td>140.8</td><td> 95</td><td>3.92</td><td>3.150</td><td>22.90</td><td>1</td><td>0</td><td>4</td><td>2</td></tr>\n",
       "\t<tr><td>16.4</td><td>8</td><td>275.8</td><td>180</td><td>3.07</td><td>4.070</td><td>17.40</td><td>0</td><td>0</td><td>3</td><td>3</td></tr>\n",
       "\t<tr><td>17.3</td><td>8</td><td>275.8</td><td>180</td><td>3.07</td><td>3.730</td><td>17.60</td><td>0</td><td>0</td><td>3</td><td>3</td></tr>\n",
       "\t<tr><td>15.2</td><td>8</td><td>275.8</td><td>180</td><td>3.07</td><td>3.780</td><td>18.00</td><td>0</td><td>0</td><td>3</td><td>3</td></tr>\n",
       "\t<tr><td>30.4</td><td>4</td><td> 75.7</td><td> 52</td><td>4.93</td><td>1.615</td><td>18.52</td><td>1</td><td>1</td><td>4</td><td>2</td></tr>\n",
       "\t<tr><td>21.4</td><td>4</td><td>121.0</td><td>109</td><td>4.11</td><td>2.780</td><td>18.60</td><td>1</td><td>1</td><td>4</td><td>2</td></tr>\n",
       "\t<tr><td>21.0</td><td>6</td><td>160.0</td><td>110</td><td>3.90</td><td>2.620</td><td>16.46</td><td>0</td><td>1</td><td>4</td><td>4</td></tr>\n",
       "\t<tr><td>21.0</td><td>6</td><td>160.0</td><td>110</td><td>3.90</td><td>2.875</td><td>17.02</td><td>0</td><td>1</td><td>4</td><td>4</td></tr>\n",
       "\t<tr><td>14.3</td><td>8</td><td>360.0</td><td>245</td><td>3.21</td><td>3.570</td><td>15.84</td><td>0</td><td>0</td><td>3</td><td>4</td></tr>\n",
       "\t<tr><td>19.2</td><td>6</td><td>167.6</td><td>123</td><td>3.92</td><td>3.440</td><td>18.30</td><td>1</td><td>0</td><td>4</td><td>4</td></tr>\n",
       "\t<tr><td>17.8</td><td>6</td><td>167.6</td><td>123</td><td>3.92</td><td>3.440</td><td>18.90</td><td>1</td><td>0</td><td>4</td><td>4</td></tr>\n",
       "\t<tr><td>10.4</td><td>8</td><td>472.0</td><td>205</td><td>2.93</td><td>5.250</td><td>17.98</td><td>0</td><td>0</td><td>3</td><td>4</td></tr>\n",
       "\t<tr><td>10.4</td><td>8</td><td>460.0</td><td>215</td><td>3.00</td><td>5.424</td><td>17.82</td><td>0</td><td>0</td><td>3</td><td>4</td></tr>\n",
       "\t<tr><td>14.7</td><td>8</td><td>440.0</td><td>230</td><td>3.23</td><td>5.345</td><td>17.42</td><td>0</td><td>0</td><td>3</td><td>4</td></tr>\n",
       "\t<tr><td>13.3</td><td>8</td><td>350.0</td><td>245</td><td>3.73</td><td>3.840</td><td>15.41</td><td>0</td><td>0</td><td>3</td><td>4</td></tr>\n",
       "\t<tr><td>19.7</td><td>6</td><td>145.0</td><td>175</td><td>3.62</td><td>2.770</td><td>15.50</td><td>0</td><td>1</td><td>5</td><td>6</td></tr>\n",
       "\t<tr><td>15.0</td><td>8</td><td>301.0</td><td>335</td><td>3.54</td><td>3.570</td><td>14.60</td><td>0</td><td>1</td><td>5</td><td>8</td></tr>\n",
       "</tbody>\n",
       "</table>\n"
      ],
      "text/latex": [
       "A data.frame: 32 × 11\n",
       "\\begin{tabular}{lllllllllll}\n",
       " mpg & cyl & disp & hp & drat & wt & qsec & vs & am & gear & carb\\\\\n",
       " <dbl> & <dbl> & <dbl> & <dbl> & <dbl> & <dbl> & <dbl> & <dbl> & <dbl> & <dbl> & <dbl>\\\\\n",
       "\\hline\n",
       "\t 21.4 & 6 & 258.0 & 110 & 3.08 & 3.215 & 19.44 & 1 & 0 & 3 & 1\\\\\n",
       "\t 18.1 & 6 & 225.0 & 105 & 2.76 & 3.460 & 20.22 & 1 & 0 & 3 & 1\\\\\n",
       "\t 22.8 & 4 & 108.0 &  93 & 3.85 & 2.320 & 18.61 & 1 & 1 & 4 & 1\\\\\n",
       "\t 32.4 & 4 &  78.7 &  66 & 4.08 & 2.200 & 19.47 & 1 & 1 & 4 & 1\\\\\n",
       "\t 33.9 & 4 &  71.1 &  65 & 4.22 & 1.835 & 19.90 & 1 & 1 & 4 & 1\\\\\n",
       "\t 27.3 & 4 &  79.0 &  66 & 4.08 & 1.935 & 18.90 & 1 & 1 & 4 & 1\\\\\n",
       "\t 18.7 & 8 & 360.0 & 175 & 3.15 & 3.440 & 17.02 & 0 & 0 & 3 & 2\\\\\n",
       "\t 21.5 & 4 & 120.1 &  97 & 3.70 & 2.465 & 20.01 & 1 & 0 & 3 & 1\\\\\n",
       "\t 15.5 & 8 & 318.0 & 150 & 2.76 & 3.520 & 16.87 & 0 & 0 & 3 & 2\\\\\n",
       "\t 15.2 & 8 & 304.0 & 150 & 3.15 & 3.435 & 17.30 & 0 & 0 & 3 & 2\\\\\n",
       "\t 19.2 & 8 & 400.0 & 175 & 3.08 & 3.845 & 17.05 & 0 & 0 & 3 & 2\\\\\n",
       "\t 26.0 & 4 & 120.3 &  91 & 4.43 & 2.140 & 16.70 & 0 & 1 & 5 & 2\\\\\n",
       "\t 30.4 & 4 &  95.1 & 113 & 3.77 & 1.513 & 16.90 & 1 & 1 & 5 & 2\\\\\n",
       "\t 15.8 & 8 & 351.0 & 264 & 4.22 & 3.170 & 14.50 & 0 & 1 & 5 & 4\\\\\n",
       "\t 24.4 & 4 & 146.7 &  62 & 3.69 & 3.190 & 20.00 & 1 & 0 & 4 & 2\\\\\n",
       "\t 22.8 & 4 & 140.8 &  95 & 3.92 & 3.150 & 22.90 & 1 & 0 & 4 & 2\\\\\n",
       "\t 16.4 & 8 & 275.8 & 180 & 3.07 & 4.070 & 17.40 & 0 & 0 & 3 & 3\\\\\n",
       "\t 17.3 & 8 & 275.8 & 180 & 3.07 & 3.730 & 17.60 & 0 & 0 & 3 & 3\\\\\n",
       "\t 15.2 & 8 & 275.8 & 180 & 3.07 & 3.780 & 18.00 & 0 & 0 & 3 & 3\\\\\n",
       "\t 30.4 & 4 &  75.7 &  52 & 4.93 & 1.615 & 18.52 & 1 & 1 & 4 & 2\\\\\n",
       "\t 21.4 & 4 & 121.0 & 109 & 4.11 & 2.780 & 18.60 & 1 & 1 & 4 & 2\\\\\n",
       "\t 21.0 & 6 & 160.0 & 110 & 3.90 & 2.620 & 16.46 & 0 & 1 & 4 & 4\\\\\n",
       "\t 21.0 & 6 & 160.0 & 110 & 3.90 & 2.875 & 17.02 & 0 & 1 & 4 & 4\\\\\n",
       "\t 14.3 & 8 & 360.0 & 245 & 3.21 & 3.570 & 15.84 & 0 & 0 & 3 & 4\\\\\n",
       "\t 19.2 & 6 & 167.6 & 123 & 3.92 & 3.440 & 18.30 & 1 & 0 & 4 & 4\\\\\n",
       "\t 17.8 & 6 & 167.6 & 123 & 3.92 & 3.440 & 18.90 & 1 & 0 & 4 & 4\\\\\n",
       "\t 10.4 & 8 & 472.0 & 205 & 2.93 & 5.250 & 17.98 & 0 & 0 & 3 & 4\\\\\n",
       "\t 10.4 & 8 & 460.0 & 215 & 3.00 & 5.424 & 17.82 & 0 & 0 & 3 & 4\\\\\n",
       "\t 14.7 & 8 & 440.0 & 230 & 3.23 & 5.345 & 17.42 & 0 & 0 & 3 & 4\\\\\n",
       "\t 13.3 & 8 & 350.0 & 245 & 3.73 & 3.840 & 15.41 & 0 & 0 & 3 & 4\\\\\n",
       "\t 19.7 & 6 & 145.0 & 175 & 3.62 & 2.770 & 15.50 & 0 & 1 & 5 & 6\\\\\n",
       "\t 15.0 & 8 & 301.0 & 335 & 3.54 & 3.570 & 14.60 & 0 & 1 & 5 & 8\\\\\n",
       "\\end{tabular}\n"
      ],
      "text/markdown": [
       "\n",
       "A data.frame: 32 × 11\n",
       "\n",
       "| mpg &lt;dbl&gt; | cyl &lt;dbl&gt; | disp &lt;dbl&gt; | hp &lt;dbl&gt; | drat &lt;dbl&gt; | wt &lt;dbl&gt; | qsec &lt;dbl&gt; | vs &lt;dbl&gt; | am &lt;dbl&gt; | gear &lt;dbl&gt; | carb &lt;dbl&gt; |\n",
       "|---|---|---|---|---|---|---|---|---|---|---|\n",
       "| 21.4 | 6 | 258.0 | 110 | 3.08 | 3.215 | 19.44 | 1 | 0 | 3 | 1 |\n",
       "| 18.1 | 6 | 225.0 | 105 | 2.76 | 3.460 | 20.22 | 1 | 0 | 3 | 1 |\n",
       "| 22.8 | 4 | 108.0 |  93 | 3.85 | 2.320 | 18.61 | 1 | 1 | 4 | 1 |\n",
       "| 32.4 | 4 |  78.7 |  66 | 4.08 | 2.200 | 19.47 | 1 | 1 | 4 | 1 |\n",
       "| 33.9 | 4 |  71.1 |  65 | 4.22 | 1.835 | 19.90 | 1 | 1 | 4 | 1 |\n",
       "| 27.3 | 4 |  79.0 |  66 | 4.08 | 1.935 | 18.90 | 1 | 1 | 4 | 1 |\n",
       "| 18.7 | 8 | 360.0 | 175 | 3.15 | 3.440 | 17.02 | 0 | 0 | 3 | 2 |\n",
       "| 21.5 | 4 | 120.1 |  97 | 3.70 | 2.465 | 20.01 | 1 | 0 | 3 | 1 |\n",
       "| 15.5 | 8 | 318.0 | 150 | 2.76 | 3.520 | 16.87 | 0 | 0 | 3 | 2 |\n",
       "| 15.2 | 8 | 304.0 | 150 | 3.15 | 3.435 | 17.30 | 0 | 0 | 3 | 2 |\n",
       "| 19.2 | 8 | 400.0 | 175 | 3.08 | 3.845 | 17.05 | 0 | 0 | 3 | 2 |\n",
       "| 26.0 | 4 | 120.3 |  91 | 4.43 | 2.140 | 16.70 | 0 | 1 | 5 | 2 |\n",
       "| 30.4 | 4 |  95.1 | 113 | 3.77 | 1.513 | 16.90 | 1 | 1 | 5 | 2 |\n",
       "| 15.8 | 8 | 351.0 | 264 | 4.22 | 3.170 | 14.50 | 0 | 1 | 5 | 4 |\n",
       "| 24.4 | 4 | 146.7 |  62 | 3.69 | 3.190 | 20.00 | 1 | 0 | 4 | 2 |\n",
       "| 22.8 | 4 | 140.8 |  95 | 3.92 | 3.150 | 22.90 | 1 | 0 | 4 | 2 |\n",
       "| 16.4 | 8 | 275.8 | 180 | 3.07 | 4.070 | 17.40 | 0 | 0 | 3 | 3 |\n",
       "| 17.3 | 8 | 275.8 | 180 | 3.07 | 3.730 | 17.60 | 0 | 0 | 3 | 3 |\n",
       "| 15.2 | 8 | 275.8 | 180 | 3.07 | 3.780 | 18.00 | 0 | 0 | 3 | 3 |\n",
       "| 30.4 | 4 |  75.7 |  52 | 4.93 | 1.615 | 18.52 | 1 | 1 | 4 | 2 |\n",
       "| 21.4 | 4 | 121.0 | 109 | 4.11 | 2.780 | 18.60 | 1 | 1 | 4 | 2 |\n",
       "| 21.0 | 6 | 160.0 | 110 | 3.90 | 2.620 | 16.46 | 0 | 1 | 4 | 4 |\n",
       "| 21.0 | 6 | 160.0 | 110 | 3.90 | 2.875 | 17.02 | 0 | 1 | 4 | 4 |\n",
       "| 14.3 | 8 | 360.0 | 245 | 3.21 | 3.570 | 15.84 | 0 | 0 | 3 | 4 |\n",
       "| 19.2 | 6 | 167.6 | 123 | 3.92 | 3.440 | 18.30 | 1 | 0 | 4 | 4 |\n",
       "| 17.8 | 6 | 167.6 | 123 | 3.92 | 3.440 | 18.90 | 1 | 0 | 4 | 4 |\n",
       "| 10.4 | 8 | 472.0 | 205 | 2.93 | 5.250 | 17.98 | 0 | 0 | 3 | 4 |\n",
       "| 10.4 | 8 | 460.0 | 215 | 3.00 | 5.424 | 17.82 | 0 | 0 | 3 | 4 |\n",
       "| 14.7 | 8 | 440.0 | 230 | 3.23 | 5.345 | 17.42 | 0 | 0 | 3 | 4 |\n",
       "| 13.3 | 8 | 350.0 | 245 | 3.73 | 3.840 | 15.41 | 0 | 0 | 3 | 4 |\n",
       "| 19.7 | 6 | 145.0 | 175 | 3.62 | 2.770 | 15.50 | 0 | 1 | 5 | 6 |\n",
       "| 15.0 | 8 | 301.0 | 335 | 3.54 | 3.570 | 14.60 | 0 | 1 | 5 | 8 |\n",
       "\n"
      ],
      "text/plain": [
       "   mpg  cyl disp  hp  drat wt    qsec  vs am gear carb\n",
       "1  21.4 6   258.0 110 3.08 3.215 19.44 1  0  3    1   \n",
       "2  18.1 6   225.0 105 2.76 3.460 20.22 1  0  3    1   \n",
       "3  22.8 4   108.0  93 3.85 2.320 18.61 1  1  4    1   \n",
       "4  32.4 4    78.7  66 4.08 2.200 19.47 1  1  4    1   \n",
       "5  33.9 4    71.1  65 4.22 1.835 19.90 1  1  4    1   \n",
       "6  27.3 4    79.0  66 4.08 1.935 18.90 1  1  4    1   \n",
       "7  18.7 8   360.0 175 3.15 3.440 17.02 0  0  3    2   \n",
       "8  21.5 4   120.1  97 3.70 2.465 20.01 1  0  3    1   \n",
       "9  15.5 8   318.0 150 2.76 3.520 16.87 0  0  3    2   \n",
       "10 15.2 8   304.0 150 3.15 3.435 17.30 0  0  3    2   \n",
       "11 19.2 8   400.0 175 3.08 3.845 17.05 0  0  3    2   \n",
       "12 26.0 4   120.3  91 4.43 2.140 16.70 0  1  5    2   \n",
       "13 30.4 4    95.1 113 3.77 1.513 16.90 1  1  5    2   \n",
       "14 15.8 8   351.0 264 4.22 3.170 14.50 0  1  5    4   \n",
       "15 24.4 4   146.7  62 3.69 3.190 20.00 1  0  4    2   \n",
       "16 22.8 4   140.8  95 3.92 3.150 22.90 1  0  4    2   \n",
       "17 16.4 8   275.8 180 3.07 4.070 17.40 0  0  3    3   \n",
       "18 17.3 8   275.8 180 3.07 3.730 17.60 0  0  3    3   \n",
       "19 15.2 8   275.8 180 3.07 3.780 18.00 0  0  3    3   \n",
       "20 30.4 4    75.7  52 4.93 1.615 18.52 1  1  4    2   \n",
       "21 21.4 4   121.0 109 4.11 2.780 18.60 1  1  4    2   \n",
       "22 21.0 6   160.0 110 3.90 2.620 16.46 0  1  4    4   \n",
       "23 21.0 6   160.0 110 3.90 2.875 17.02 0  1  4    4   \n",
       "24 14.3 8   360.0 245 3.21 3.570 15.84 0  0  3    4   \n",
       "25 19.2 6   167.6 123 3.92 3.440 18.30 1  0  4    4   \n",
       "26 17.8 6   167.6 123 3.92 3.440 18.90 1  0  4    4   \n",
       "27 10.4 8   472.0 205 2.93 5.250 17.98 0  0  3    4   \n",
       "28 10.4 8   460.0 215 3.00 5.424 17.82 0  0  3    4   \n",
       "29 14.7 8   440.0 230 3.23 5.345 17.42 0  0  3    4   \n",
       "30 13.3 8   350.0 245 3.73 3.840 15.41 0  0  3    4   \n",
       "31 19.7 6   145.0 175 3.62 2.770 15.50 0  1  5    6   \n",
       "32 15.0 8   301.0 335 3.54 3.570 14.60 0  1  5    8   "
      ]
     },
     "metadata": {},
     "output_type": "display_data"
    }
   ],
   "source": [
    "x=arrange(mtcars, desc(cyl*gear/carb)) #can we create a new column to display this key?\n",
    "x"
   ]
  },
  {
   "cell_type": "code",
   "execution_count": 41,
   "metadata": {
    "scrolled": true
   },
   "outputs": [
    {
     "data": {
      "text/html": [
       "<table>\n",
       "<caption>A data.frame: 6 × 11</caption>\n",
       "<thead>\n",
       "\t<tr><th></th><th scope=col>mpg</th><th scope=col>cyl</th><th scope=col>disp</th><th scope=col>hp</th><th scope=col>drat</th><th scope=col>Weight</th><th scope=col>qsec</th><th scope=col>vs</th><th scope=col>am</th><th scope=col>gear</th><th scope=col>carb</th></tr>\n",
       "\t<tr><th></th><th scope=col>&lt;dbl&gt;</th><th scope=col>&lt;dbl&gt;</th><th scope=col>&lt;dbl&gt;</th><th scope=col>&lt;dbl&gt;</th><th scope=col>&lt;dbl&gt;</th><th scope=col>&lt;dbl&gt;</th><th scope=col>&lt;dbl&gt;</th><th scope=col>&lt;dbl&gt;</th><th scope=col>&lt;dbl&gt;</th><th scope=col>&lt;dbl&gt;</th><th scope=col>&lt;dbl&gt;</th></tr>\n",
       "</thead>\n",
       "<tbody>\n",
       "\t<tr><th scope=row>Mazda RX4</th><td>21.0</td><td>6</td><td>160</td><td>110</td><td>3.90</td><td>2.620</td><td>16.46</td><td>0</td><td>1</td><td>4</td><td>4</td></tr>\n",
       "\t<tr><th scope=row>Mazda RX4 Wag</th><td>21.0</td><td>6</td><td>160</td><td>110</td><td>3.90</td><td>2.875</td><td>17.02</td><td>0</td><td>1</td><td>4</td><td>4</td></tr>\n",
       "\t<tr><th scope=row>Datsun 710</th><td>22.8</td><td>4</td><td>108</td><td> 93</td><td>3.85</td><td>2.320</td><td>18.61</td><td>1</td><td>1</td><td>4</td><td>1</td></tr>\n",
       "\t<tr><th scope=row>Hornet 4 Drive</th><td>21.4</td><td>6</td><td>258</td><td>110</td><td>3.08</td><td>3.215</td><td>19.44</td><td>1</td><td>0</td><td>3</td><td>1</td></tr>\n",
       "\t<tr><th scope=row>Hornet Sportabout</th><td>18.7</td><td>8</td><td>360</td><td>175</td><td>3.15</td><td>3.440</td><td>17.02</td><td>0</td><td>0</td><td>3</td><td>2</td></tr>\n",
       "\t<tr><th scope=row>Valiant</th><td>18.1</td><td>6</td><td>225</td><td>105</td><td>2.76</td><td>3.460</td><td>20.22</td><td>1</td><td>0</td><td>3</td><td>1</td></tr>\n",
       "</tbody>\n",
       "</table>\n"
      ],
      "text/latex": [
       "A data.frame: 6 × 11\n",
       "\\begin{tabular}{r|lllllllllll}\n",
       "  & mpg & cyl & disp & hp & drat & Weight & qsec & vs & am & gear & carb\\\\\n",
       "  & <dbl> & <dbl> & <dbl> & <dbl> & <dbl> & <dbl> & <dbl> & <dbl> & <dbl> & <dbl> & <dbl>\\\\\n",
       "\\hline\n",
       "\tMazda RX4 & 21.0 & 6 & 160 & 110 & 3.90 & 2.620 & 16.46 & 0 & 1 & 4 & 4\\\\\n",
       "\tMazda RX4 Wag & 21.0 & 6 & 160 & 110 & 3.90 & 2.875 & 17.02 & 0 & 1 & 4 & 4\\\\\n",
       "\tDatsun 710 & 22.8 & 4 & 108 &  93 & 3.85 & 2.320 & 18.61 & 1 & 1 & 4 & 1\\\\\n",
       "\tHornet 4 Drive & 21.4 & 6 & 258 & 110 & 3.08 & 3.215 & 19.44 & 1 & 0 & 3 & 1\\\\\n",
       "\tHornet Sportabout & 18.7 & 8 & 360 & 175 & 3.15 & 3.440 & 17.02 & 0 & 0 & 3 & 2\\\\\n",
       "\tValiant & 18.1 & 6 & 225 & 105 & 2.76 & 3.460 & 20.22 & 1 & 0 & 3 & 1\\\\\n",
       "\\end{tabular}\n"
      ],
      "text/markdown": [
       "\n",
       "A data.frame: 6 × 11\n",
       "\n",
       "| <!--/--> | mpg &lt;dbl&gt; | cyl &lt;dbl&gt; | disp &lt;dbl&gt; | hp &lt;dbl&gt; | drat &lt;dbl&gt; | Weight &lt;dbl&gt; | qsec &lt;dbl&gt; | vs &lt;dbl&gt; | am &lt;dbl&gt; | gear &lt;dbl&gt; | carb &lt;dbl&gt; |\n",
       "|---|---|---|---|---|---|---|---|---|---|---|---|\n",
       "| Mazda RX4 | 21.0 | 6 | 160 | 110 | 3.90 | 2.620 | 16.46 | 0 | 1 | 4 | 4 |\n",
       "| Mazda RX4 Wag | 21.0 | 6 | 160 | 110 | 3.90 | 2.875 | 17.02 | 0 | 1 | 4 | 4 |\n",
       "| Datsun 710 | 22.8 | 4 | 108 |  93 | 3.85 | 2.320 | 18.61 | 1 | 1 | 4 | 1 |\n",
       "| Hornet 4 Drive | 21.4 | 6 | 258 | 110 | 3.08 | 3.215 | 19.44 | 1 | 0 | 3 | 1 |\n",
       "| Hornet Sportabout | 18.7 | 8 | 360 | 175 | 3.15 | 3.440 | 17.02 | 0 | 0 | 3 | 2 |\n",
       "| Valiant | 18.1 | 6 | 225 | 105 | 2.76 | 3.460 | 20.22 | 1 | 0 | 3 | 1 |\n",
       "\n"
      ],
      "text/plain": [
       "                  mpg  cyl disp hp  drat Weight qsec  vs am gear carb\n",
       "Mazda RX4         21.0 6   160  110 3.90 2.620  16.46 0  1  4    4   \n",
       "Mazda RX4 Wag     21.0 6   160  110 3.90 2.875  17.02 0  1  4    4   \n",
       "Datsun 710        22.8 4   108   93 3.85 2.320  18.61 1  1  4    1   \n",
       "Hornet 4 Drive    21.4 6   258  110 3.08 3.215  19.44 1  0  3    1   \n",
       "Hornet Sportabout 18.7 8   360  175 3.15 3.440  17.02 0  0  3    2   \n",
       "Valiant           18.1 6   225  105 2.76 3.460  20.22 1  0  3    1   "
      ]
     },
     "metadata": {},
     "output_type": "display_data"
    }
   ],
   "source": [
    "x=rename(mtcars, Weight=wt); head(x) # newname = oldname"
   ]
  },
  {
   "cell_type": "code",
   "execution_count": 40,
   "metadata": {
    "scrolled": true
   },
   "outputs": [
    {
     "data": {
      "text/html": [
       "<table>\n",
       "<caption>A data.frame: 6 × 12</caption>\n",
       "<thead>\n",
       "\t<tr><th></th><th scope=col>mpg</th><th scope=col>cyl</th><th scope=col>disp</th><th scope=col>hp</th><th scope=col>drat</th><th scope=col>wt</th><th scope=col>qsec</th><th scope=col>vs</th><th scope=col>am</th><th scope=col>gear</th><th scope=col>carb</th><th scope=col>score</th></tr>\n",
       "\t<tr><th></th><th scope=col>&lt;dbl&gt;</th><th scope=col>&lt;dbl&gt;</th><th scope=col>&lt;dbl&gt;</th><th scope=col>&lt;dbl&gt;</th><th scope=col>&lt;dbl&gt;</th><th scope=col>&lt;dbl&gt;</th><th scope=col>&lt;dbl&gt;</th><th scope=col>&lt;dbl&gt;</th><th scope=col>&lt;dbl&gt;</th><th scope=col>&lt;dbl&gt;</th><th scope=col>&lt;dbl&gt;</th><th scope=col>&lt;dbl&gt;</th></tr>\n",
       "</thead>\n",
       "<tbody>\n",
       "\t<tr><th scope=row>1</th><td>21.0</td><td>6</td><td>160</td><td>110</td><td>3.90</td><td>2.620</td><td>16.46</td><td>0</td><td>1</td><td>4</td><td>4</td><td> 6</td></tr>\n",
       "\t<tr><th scope=row>2</th><td>21.0</td><td>6</td><td>160</td><td>110</td><td>3.90</td><td>2.875</td><td>17.02</td><td>0</td><td>1</td><td>4</td><td>4</td><td> 6</td></tr>\n",
       "\t<tr><th scope=row>3</th><td>22.8</td><td>4</td><td>108</td><td> 93</td><td>3.85</td><td>2.320</td><td>18.61</td><td>1</td><td>1</td><td>4</td><td>1</td><td>16</td></tr>\n",
       "\t<tr><th scope=row>4</th><td>21.4</td><td>6</td><td>258</td><td>110</td><td>3.08</td><td>3.215</td><td>19.44</td><td>1</td><td>0</td><td>3</td><td>1</td><td>18</td></tr>\n",
       "\t<tr><th scope=row>5</th><td>18.7</td><td>8</td><td>360</td><td>175</td><td>3.15</td><td>3.440</td><td>17.02</td><td>0</td><td>0</td><td>3</td><td>2</td><td>12</td></tr>\n",
       "\t<tr><th scope=row>6</th><td>18.1</td><td>6</td><td>225</td><td>105</td><td>2.76</td><td>3.460</td><td>20.22</td><td>1</td><td>0</td><td>3</td><td>1</td><td>18</td></tr>\n",
       "</tbody>\n",
       "</table>\n"
      ],
      "text/latex": [
       "A data.frame: 6 × 12\n",
       "\\begin{tabular}{r|llllllllllll}\n",
       "  & mpg & cyl & disp & hp & drat & wt & qsec & vs & am & gear & carb & score\\\\\n",
       "  & <dbl> & <dbl> & <dbl> & <dbl> & <dbl> & <dbl> & <dbl> & <dbl> & <dbl> & <dbl> & <dbl> & <dbl>\\\\\n",
       "\\hline\n",
       "\t1 & 21.0 & 6 & 160 & 110 & 3.90 & 2.620 & 16.46 & 0 & 1 & 4 & 4 &  6\\\\\n",
       "\t2 & 21.0 & 6 & 160 & 110 & 3.90 & 2.875 & 17.02 & 0 & 1 & 4 & 4 &  6\\\\\n",
       "\t3 & 22.8 & 4 & 108 &  93 & 3.85 & 2.320 & 18.61 & 1 & 1 & 4 & 1 & 16\\\\\n",
       "\t4 & 21.4 & 6 & 258 & 110 & 3.08 & 3.215 & 19.44 & 1 & 0 & 3 & 1 & 18\\\\\n",
       "\t5 & 18.7 & 8 & 360 & 175 & 3.15 & 3.440 & 17.02 & 0 & 0 & 3 & 2 & 12\\\\\n",
       "\t6 & 18.1 & 6 & 225 & 105 & 2.76 & 3.460 & 20.22 & 1 & 0 & 3 & 1 & 18\\\\\n",
       "\\end{tabular}\n"
      ],
      "text/markdown": [
       "\n",
       "A data.frame: 6 × 12\n",
       "\n",
       "| <!--/--> | mpg &lt;dbl&gt; | cyl &lt;dbl&gt; | disp &lt;dbl&gt; | hp &lt;dbl&gt; | drat &lt;dbl&gt; | wt &lt;dbl&gt; | qsec &lt;dbl&gt; | vs &lt;dbl&gt; | am &lt;dbl&gt; | gear &lt;dbl&gt; | carb &lt;dbl&gt; | score &lt;dbl&gt; |\n",
       "|---|---|---|---|---|---|---|---|---|---|---|---|---|\n",
       "| 1 | 21.0 | 6 | 160 | 110 | 3.90 | 2.620 | 16.46 | 0 | 1 | 4 | 4 |  6 |\n",
       "| 2 | 21.0 | 6 | 160 | 110 | 3.90 | 2.875 | 17.02 | 0 | 1 | 4 | 4 |  6 |\n",
       "| 3 | 22.8 | 4 | 108 |  93 | 3.85 | 2.320 | 18.61 | 1 | 1 | 4 | 1 | 16 |\n",
       "| 4 | 21.4 | 6 | 258 | 110 | 3.08 | 3.215 | 19.44 | 1 | 0 | 3 | 1 | 18 |\n",
       "| 5 | 18.7 | 8 | 360 | 175 | 3.15 | 3.440 | 17.02 | 0 | 0 | 3 | 2 | 12 |\n",
       "| 6 | 18.1 | 6 | 225 | 105 | 2.76 | 3.460 | 20.22 | 1 | 0 | 3 | 1 | 18 |\n",
       "\n"
      ],
      "text/plain": [
       "  mpg  cyl disp hp  drat wt    qsec  vs am gear carb score\n",
       "1 21.0 6   160  110 3.90 2.620 16.46 0  1  4    4     6   \n",
       "2 21.0 6   160  110 3.90 2.875 17.02 0  1  4    4     6   \n",
       "3 22.8 4   108   93 3.85 2.320 18.61 1  1  4    1    16   \n",
       "4 21.4 6   258  110 3.08 3.215 19.44 1  0  3    1    18   \n",
       "5 18.7 8   360  175 3.15 3.440 17.02 0  0  3    2    12   \n",
       "6 18.1 6   225  105 2.76 3.460 20.22 1  0  3    1    18   "
      ]
     },
     "metadata": {},
     "output_type": "display_data"
    }
   ],
   "source": [
    "x=mutate(mtcars, score=cyl*gear/carb); head(x) #create new variable"
   ]
  },
  {
   "cell_type": "code",
   "execution_count": 39,
   "metadata": {
    "scrolled": false
   },
   "outputs": [
    {
     "data": {
      "text/html": [
       "<table>\n",
       "<caption>A data.frame: 6 × 3</caption>\n",
       "<thead>\n",
       "\t<tr><th></th><th scope=col>am</th><th scope=col>vs</th><th scope=col>score</th></tr>\n",
       "\t<tr><th></th><th scope=col>&lt;dbl&gt;</th><th scope=col>&lt;dbl&gt;</th><th scope=col>&lt;dbl&gt;</th></tr>\n",
       "</thead>\n",
       "<tbody>\n",
       "\t<tr><th scope=row>1</th><td>1</td><td>0</td><td> 6</td></tr>\n",
       "\t<tr><th scope=row>2</th><td>1</td><td>0</td><td> 6</td></tr>\n",
       "\t<tr><th scope=row>3</th><td>1</td><td>1</td><td>16</td></tr>\n",
       "\t<tr><th scope=row>4</th><td>0</td><td>1</td><td>18</td></tr>\n",
       "\t<tr><th scope=row>5</th><td>0</td><td>0</td><td>12</td></tr>\n",
       "\t<tr><th scope=row>6</th><td>0</td><td>1</td><td>18</td></tr>\n",
       "</tbody>\n",
       "</table>\n"
      ],
      "text/latex": [
       "A data.frame: 6 × 3\n",
       "\\begin{tabular}{r|lll}\n",
       "  & am & vs & score\\\\\n",
       "  & <dbl> & <dbl> & <dbl>\\\\\n",
       "\\hline\n",
       "\t1 & 1 & 0 &  6\\\\\n",
       "\t2 & 1 & 0 &  6\\\\\n",
       "\t3 & 1 & 1 & 16\\\\\n",
       "\t4 & 0 & 1 & 18\\\\\n",
       "\t5 & 0 & 0 & 12\\\\\n",
       "\t6 & 0 & 1 & 18\\\\\n",
       "\\end{tabular}\n"
      ],
      "text/markdown": [
       "\n",
       "A data.frame: 6 × 3\n",
       "\n",
       "| <!--/--> | am &lt;dbl&gt; | vs &lt;dbl&gt; | score &lt;dbl&gt; |\n",
       "|---|---|---|---|\n",
       "| 1 | 1 | 0 |  6 |\n",
       "| 2 | 1 | 0 |  6 |\n",
       "| 3 | 1 | 1 | 16 |\n",
       "| 4 | 0 | 1 | 18 |\n",
       "| 5 | 0 | 0 | 12 |\n",
       "| 6 | 0 | 1 | 18 |\n",
       "\n"
      ],
      "text/plain": [
       "  am vs score\n",
       "1 1  0   6   \n",
       "2 1  0   6   \n",
       "3 1  1  16   \n",
       "4 0  1  18   \n",
       "5 0  0  12   \n",
       "6 0  1  18   "
      ]
     },
     "metadata": {},
     "output_type": "display_data"
    },
    {
     "data": {
      "text/html": [
       "<table>\n",
       "<caption>A data.frame: 6 × 1</caption>\n",
       "<thead>\n",
       "\t<tr><th></th><th scope=col>score</th></tr>\n",
       "\t<tr><th></th><th scope=col>&lt;dbl&gt;</th></tr>\n",
       "</thead>\n",
       "<tbody>\n",
       "\t<tr><th scope=row>1</th><td> 6</td></tr>\n",
       "\t<tr><th scope=row>2</th><td> 6</td></tr>\n",
       "\t<tr><th scope=row>3</th><td>16</td></tr>\n",
       "\t<tr><th scope=row>4</th><td>18</td></tr>\n",
       "\t<tr><th scope=row>5</th><td>12</td></tr>\n",
       "\t<tr><th scope=row>6</th><td>18</td></tr>\n",
       "</tbody>\n",
       "</table>\n"
      ],
      "text/latex": [
       "A data.frame: 6 × 1\n",
       "\\begin{tabular}{r|l}\n",
       "  & score\\\\\n",
       "  & <dbl>\\\\\n",
       "\\hline\n",
       "\t1 &  6\\\\\n",
       "\t2 &  6\\\\\n",
       "\t3 & 16\\\\\n",
       "\t4 & 18\\\\\n",
       "\t5 & 12\\\\\n",
       "\t6 & 18\\\\\n",
       "\\end{tabular}\n"
      ],
      "text/markdown": [
       "\n",
       "A data.frame: 6 × 1\n",
       "\n",
       "| <!--/--> | score &lt;dbl&gt; |\n",
       "|---|---|\n",
       "| 1 |  6 |\n",
       "| 2 |  6 |\n",
       "| 3 | 16 |\n",
       "| 4 | 18 |\n",
       "| 5 | 12 |\n",
       "| 6 | 18 |\n",
       "\n"
      ],
      "text/plain": [
       "  score\n",
       "1  6   \n",
       "2  6   \n",
       "3 16   \n",
       "4 18   \n",
       "5 12   \n",
       "6 18   "
      ]
     },
     "metadata": {},
     "output_type": "display_data"
    }
   ],
   "source": [
    "x=transmute(mtcars, am, vs, score=cyl*gear/carb); head(x) # drop all other columns. It is useful when you have too many columns\n",
    "x=transmute(mtcars, score=cyl*gear/carb); head(x)"
   ]
  },
  {
   "cell_type": "code",
   "execution_count": 38,
   "metadata": {},
   "outputs": [
    {
     "data": {
      "text/html": [
       "<table>\n",
       "<caption>A data.frame: 32 × 12</caption>\n",
       "<thead>\n",
       "\t<tr><th scope=col>mpg</th><th scope=col>cyl</th><th scope=col>disp</th><th scope=col>hp</th><th scope=col>drat</th><th scope=col>wt</th><th scope=col>qsec</th><th scope=col>vs</th><th scope=col>am</th><th scope=col>gear</th><th scope=col>carb</th><th scope=col>score</th></tr>\n",
       "\t<tr><th scope=col>&lt;dbl&gt;</th><th scope=col>&lt;dbl&gt;</th><th scope=col>&lt;dbl&gt;</th><th scope=col>&lt;dbl&gt;</th><th scope=col>&lt;dbl&gt;</th><th scope=col>&lt;dbl&gt;</th><th scope=col>&lt;dbl&gt;</th><th scope=col>&lt;dbl&gt;</th><th scope=col>&lt;dbl&gt;</th><th scope=col>&lt;dbl&gt;</th><th scope=col>&lt;dbl&gt;</th><th scope=col>&lt;dbl&gt;</th></tr>\n",
       "</thead>\n",
       "<tbody>\n",
       "\t<tr><td>19.7</td><td>6</td><td>145.0</td><td>175</td><td>3.62</td><td>2.770</td><td>15.50</td><td>0</td><td>1</td><td>5</td><td>6</td><td> 5</td></tr>\n",
       "\t<tr><td>15.0</td><td>8</td><td>301.0</td><td>335</td><td>3.54</td><td>3.570</td><td>14.60</td><td>0</td><td>1</td><td>5</td><td>8</td><td> 5</td></tr>\n",
       "\t<tr><td>21.0</td><td>6</td><td>160.0</td><td>110</td><td>3.90</td><td>2.620</td><td>16.46</td><td>0</td><td>1</td><td>4</td><td>4</td><td> 6</td></tr>\n",
       "\t<tr><td>21.0</td><td>6</td><td>160.0</td><td>110</td><td>3.90</td><td>2.875</td><td>17.02</td><td>0</td><td>1</td><td>4</td><td>4</td><td> 6</td></tr>\n",
       "\t<tr><td>14.3</td><td>8</td><td>360.0</td><td>245</td><td>3.21</td><td>3.570</td><td>15.84</td><td>0</td><td>0</td><td>3</td><td>4</td><td> 6</td></tr>\n",
       "\t<tr><td>19.2</td><td>6</td><td>167.6</td><td>123</td><td>3.92</td><td>3.440</td><td>18.30</td><td>1</td><td>0</td><td>4</td><td>4</td><td> 6</td></tr>\n",
       "\t<tr><td>17.8</td><td>6</td><td>167.6</td><td>123</td><td>3.92</td><td>3.440</td><td>18.90</td><td>1</td><td>0</td><td>4</td><td>4</td><td> 6</td></tr>\n",
       "\t<tr><td>10.4</td><td>8</td><td>472.0</td><td>205</td><td>2.93</td><td>5.250</td><td>17.98</td><td>0</td><td>0</td><td>3</td><td>4</td><td> 6</td></tr>\n",
       "\t<tr><td>10.4</td><td>8</td><td>460.0</td><td>215</td><td>3.00</td><td>5.424</td><td>17.82</td><td>0</td><td>0</td><td>3</td><td>4</td><td> 6</td></tr>\n",
       "\t<tr><td>14.7</td><td>8</td><td>440.0</td><td>230</td><td>3.23</td><td>5.345</td><td>17.42</td><td>0</td><td>0</td><td>3</td><td>4</td><td> 6</td></tr>\n",
       "\t<tr><td>13.3</td><td>8</td><td>350.0</td><td>245</td><td>3.73</td><td>3.840</td><td>15.41</td><td>0</td><td>0</td><td>3</td><td>4</td><td> 6</td></tr>\n",
       "\t<tr><td>24.4</td><td>4</td><td>146.7</td><td> 62</td><td>3.69</td><td>3.190</td><td>20.00</td><td>1</td><td>0</td><td>4</td><td>2</td><td> 8</td></tr>\n",
       "\t<tr><td>22.8</td><td>4</td><td>140.8</td><td> 95</td><td>3.92</td><td>3.150</td><td>22.90</td><td>1</td><td>0</td><td>4</td><td>2</td><td> 8</td></tr>\n",
       "\t<tr><td>16.4</td><td>8</td><td>275.8</td><td>180</td><td>3.07</td><td>4.070</td><td>17.40</td><td>0</td><td>0</td><td>3</td><td>3</td><td> 8</td></tr>\n",
       "\t<tr><td>17.3</td><td>8</td><td>275.8</td><td>180</td><td>3.07</td><td>3.730</td><td>17.60</td><td>0</td><td>0</td><td>3</td><td>3</td><td> 8</td></tr>\n",
       "\t<tr><td>15.2</td><td>8</td><td>275.8</td><td>180</td><td>3.07</td><td>3.780</td><td>18.00</td><td>0</td><td>0</td><td>3</td><td>3</td><td> 8</td></tr>\n",
       "\t<tr><td>30.4</td><td>4</td><td> 75.7</td><td> 52</td><td>4.93</td><td>1.615</td><td>18.52</td><td>1</td><td>1</td><td>4</td><td>2</td><td> 8</td></tr>\n",
       "\t<tr><td>21.4</td><td>4</td><td>121.0</td><td>109</td><td>4.11</td><td>2.780</td><td>18.60</td><td>1</td><td>1</td><td>4</td><td>2</td><td> 8</td></tr>\n",
       "\t<tr><td>26.0</td><td>4</td><td>120.3</td><td> 91</td><td>4.43</td><td>2.140</td><td>16.70</td><td>0</td><td>1</td><td>5</td><td>2</td><td>10</td></tr>\n",
       "\t<tr><td>30.4</td><td>4</td><td> 95.1</td><td>113</td><td>3.77</td><td>1.513</td><td>16.90</td><td>1</td><td>1</td><td>5</td><td>2</td><td>10</td></tr>\n",
       "\t<tr><td>15.8</td><td>8</td><td>351.0</td><td>264</td><td>4.22</td><td>3.170</td><td>14.50</td><td>0</td><td>1</td><td>5</td><td>4</td><td>10</td></tr>\n",
       "\t<tr><td>18.7</td><td>8</td><td>360.0</td><td>175</td><td>3.15</td><td>3.440</td><td>17.02</td><td>0</td><td>0</td><td>3</td><td>2</td><td>12</td></tr>\n",
       "\t<tr><td>21.5</td><td>4</td><td>120.1</td><td> 97</td><td>3.70</td><td>2.465</td><td>20.01</td><td>1</td><td>0</td><td>3</td><td>1</td><td>12</td></tr>\n",
       "\t<tr><td>15.5</td><td>8</td><td>318.0</td><td>150</td><td>2.76</td><td>3.520</td><td>16.87</td><td>0</td><td>0</td><td>3</td><td>2</td><td>12</td></tr>\n",
       "\t<tr><td>15.2</td><td>8</td><td>304.0</td><td>150</td><td>3.15</td><td>3.435</td><td>17.30</td><td>0</td><td>0</td><td>3</td><td>2</td><td>12</td></tr>\n",
       "\t<tr><td>19.2</td><td>8</td><td>400.0</td><td>175</td><td>3.08</td><td>3.845</td><td>17.05</td><td>0</td><td>0</td><td>3</td><td>2</td><td>12</td></tr>\n",
       "\t<tr><td>22.8</td><td>4</td><td>108.0</td><td> 93</td><td>3.85</td><td>2.320</td><td>18.61</td><td>1</td><td>1</td><td>4</td><td>1</td><td>16</td></tr>\n",
       "\t<tr><td>32.4</td><td>4</td><td> 78.7</td><td> 66</td><td>4.08</td><td>2.200</td><td>19.47</td><td>1</td><td>1</td><td>4</td><td>1</td><td>16</td></tr>\n",
       "\t<tr><td>33.9</td><td>4</td><td> 71.1</td><td> 65</td><td>4.22</td><td>1.835</td><td>19.90</td><td>1</td><td>1</td><td>4</td><td>1</td><td>16</td></tr>\n",
       "\t<tr><td>27.3</td><td>4</td><td> 79.0</td><td> 66</td><td>4.08</td><td>1.935</td><td>18.90</td><td>1</td><td>1</td><td>4</td><td>1</td><td>16</td></tr>\n",
       "\t<tr><td>21.4</td><td>6</td><td>258.0</td><td>110</td><td>3.08</td><td>3.215</td><td>19.44</td><td>1</td><td>0</td><td>3</td><td>1</td><td>18</td></tr>\n",
       "\t<tr><td>18.1</td><td>6</td><td>225.0</td><td>105</td><td>2.76</td><td>3.460</td><td>20.22</td><td>1</td><td>0</td><td>3</td><td>1</td><td>18</td></tr>\n",
       "</tbody>\n",
       "</table>\n"
      ],
      "text/latex": [
       "A data.frame: 32 × 12\n",
       "\\begin{tabular}{llllllllllll}\n",
       " mpg & cyl & disp & hp & drat & wt & qsec & vs & am & gear & carb & score\\\\\n",
       " <dbl> & <dbl> & <dbl> & <dbl> & <dbl> & <dbl> & <dbl> & <dbl> & <dbl> & <dbl> & <dbl> & <dbl>\\\\\n",
       "\\hline\n",
       "\t 19.7 & 6 & 145.0 & 175 & 3.62 & 2.770 & 15.50 & 0 & 1 & 5 & 6 &  5\\\\\n",
       "\t 15.0 & 8 & 301.0 & 335 & 3.54 & 3.570 & 14.60 & 0 & 1 & 5 & 8 &  5\\\\\n",
       "\t 21.0 & 6 & 160.0 & 110 & 3.90 & 2.620 & 16.46 & 0 & 1 & 4 & 4 &  6\\\\\n",
       "\t 21.0 & 6 & 160.0 & 110 & 3.90 & 2.875 & 17.02 & 0 & 1 & 4 & 4 &  6\\\\\n",
       "\t 14.3 & 8 & 360.0 & 245 & 3.21 & 3.570 & 15.84 & 0 & 0 & 3 & 4 &  6\\\\\n",
       "\t 19.2 & 6 & 167.6 & 123 & 3.92 & 3.440 & 18.30 & 1 & 0 & 4 & 4 &  6\\\\\n",
       "\t 17.8 & 6 & 167.6 & 123 & 3.92 & 3.440 & 18.90 & 1 & 0 & 4 & 4 &  6\\\\\n",
       "\t 10.4 & 8 & 472.0 & 205 & 2.93 & 5.250 & 17.98 & 0 & 0 & 3 & 4 &  6\\\\\n",
       "\t 10.4 & 8 & 460.0 & 215 & 3.00 & 5.424 & 17.82 & 0 & 0 & 3 & 4 &  6\\\\\n",
       "\t 14.7 & 8 & 440.0 & 230 & 3.23 & 5.345 & 17.42 & 0 & 0 & 3 & 4 &  6\\\\\n",
       "\t 13.3 & 8 & 350.0 & 245 & 3.73 & 3.840 & 15.41 & 0 & 0 & 3 & 4 &  6\\\\\n",
       "\t 24.4 & 4 & 146.7 &  62 & 3.69 & 3.190 & 20.00 & 1 & 0 & 4 & 2 &  8\\\\\n",
       "\t 22.8 & 4 & 140.8 &  95 & 3.92 & 3.150 & 22.90 & 1 & 0 & 4 & 2 &  8\\\\\n",
       "\t 16.4 & 8 & 275.8 & 180 & 3.07 & 4.070 & 17.40 & 0 & 0 & 3 & 3 &  8\\\\\n",
       "\t 17.3 & 8 & 275.8 & 180 & 3.07 & 3.730 & 17.60 & 0 & 0 & 3 & 3 &  8\\\\\n",
       "\t 15.2 & 8 & 275.8 & 180 & 3.07 & 3.780 & 18.00 & 0 & 0 & 3 & 3 &  8\\\\\n",
       "\t 30.4 & 4 &  75.7 &  52 & 4.93 & 1.615 & 18.52 & 1 & 1 & 4 & 2 &  8\\\\\n",
       "\t 21.4 & 4 & 121.0 & 109 & 4.11 & 2.780 & 18.60 & 1 & 1 & 4 & 2 &  8\\\\\n",
       "\t 26.0 & 4 & 120.3 &  91 & 4.43 & 2.140 & 16.70 & 0 & 1 & 5 & 2 & 10\\\\\n",
       "\t 30.4 & 4 &  95.1 & 113 & 3.77 & 1.513 & 16.90 & 1 & 1 & 5 & 2 & 10\\\\\n",
       "\t 15.8 & 8 & 351.0 & 264 & 4.22 & 3.170 & 14.50 & 0 & 1 & 5 & 4 & 10\\\\\n",
       "\t 18.7 & 8 & 360.0 & 175 & 3.15 & 3.440 & 17.02 & 0 & 0 & 3 & 2 & 12\\\\\n",
       "\t 21.5 & 4 & 120.1 &  97 & 3.70 & 2.465 & 20.01 & 1 & 0 & 3 & 1 & 12\\\\\n",
       "\t 15.5 & 8 & 318.0 & 150 & 2.76 & 3.520 & 16.87 & 0 & 0 & 3 & 2 & 12\\\\\n",
       "\t 15.2 & 8 & 304.0 & 150 & 3.15 & 3.435 & 17.30 & 0 & 0 & 3 & 2 & 12\\\\\n",
       "\t 19.2 & 8 & 400.0 & 175 & 3.08 & 3.845 & 17.05 & 0 & 0 & 3 & 2 & 12\\\\\n",
       "\t 22.8 & 4 & 108.0 &  93 & 3.85 & 2.320 & 18.61 & 1 & 1 & 4 & 1 & 16\\\\\n",
       "\t 32.4 & 4 &  78.7 &  66 & 4.08 & 2.200 & 19.47 & 1 & 1 & 4 & 1 & 16\\\\\n",
       "\t 33.9 & 4 &  71.1 &  65 & 4.22 & 1.835 & 19.90 & 1 & 1 & 4 & 1 & 16\\\\\n",
       "\t 27.3 & 4 &  79.0 &  66 & 4.08 & 1.935 & 18.90 & 1 & 1 & 4 & 1 & 16\\\\\n",
       "\t 21.4 & 6 & 258.0 & 110 & 3.08 & 3.215 & 19.44 & 1 & 0 & 3 & 1 & 18\\\\\n",
       "\t 18.1 & 6 & 225.0 & 105 & 2.76 & 3.460 & 20.22 & 1 & 0 & 3 & 1 & 18\\\\\n",
       "\\end{tabular}\n"
      ],
      "text/markdown": [
       "\n",
       "A data.frame: 32 × 12\n",
       "\n",
       "| mpg &lt;dbl&gt; | cyl &lt;dbl&gt; | disp &lt;dbl&gt; | hp &lt;dbl&gt; | drat &lt;dbl&gt; | wt &lt;dbl&gt; | qsec &lt;dbl&gt; | vs &lt;dbl&gt; | am &lt;dbl&gt; | gear &lt;dbl&gt; | carb &lt;dbl&gt; | score &lt;dbl&gt; |\n",
       "|---|---|---|---|---|---|---|---|---|---|---|---|\n",
       "| 19.7 | 6 | 145.0 | 175 | 3.62 | 2.770 | 15.50 | 0 | 1 | 5 | 6 |  5 |\n",
       "| 15.0 | 8 | 301.0 | 335 | 3.54 | 3.570 | 14.60 | 0 | 1 | 5 | 8 |  5 |\n",
       "| 21.0 | 6 | 160.0 | 110 | 3.90 | 2.620 | 16.46 | 0 | 1 | 4 | 4 |  6 |\n",
       "| 21.0 | 6 | 160.0 | 110 | 3.90 | 2.875 | 17.02 | 0 | 1 | 4 | 4 |  6 |\n",
       "| 14.3 | 8 | 360.0 | 245 | 3.21 | 3.570 | 15.84 | 0 | 0 | 3 | 4 |  6 |\n",
       "| 19.2 | 6 | 167.6 | 123 | 3.92 | 3.440 | 18.30 | 1 | 0 | 4 | 4 |  6 |\n",
       "| 17.8 | 6 | 167.6 | 123 | 3.92 | 3.440 | 18.90 | 1 | 0 | 4 | 4 |  6 |\n",
       "| 10.4 | 8 | 472.0 | 205 | 2.93 | 5.250 | 17.98 | 0 | 0 | 3 | 4 |  6 |\n",
       "| 10.4 | 8 | 460.0 | 215 | 3.00 | 5.424 | 17.82 | 0 | 0 | 3 | 4 |  6 |\n",
       "| 14.7 | 8 | 440.0 | 230 | 3.23 | 5.345 | 17.42 | 0 | 0 | 3 | 4 |  6 |\n",
       "| 13.3 | 8 | 350.0 | 245 | 3.73 | 3.840 | 15.41 | 0 | 0 | 3 | 4 |  6 |\n",
       "| 24.4 | 4 | 146.7 |  62 | 3.69 | 3.190 | 20.00 | 1 | 0 | 4 | 2 |  8 |\n",
       "| 22.8 | 4 | 140.8 |  95 | 3.92 | 3.150 | 22.90 | 1 | 0 | 4 | 2 |  8 |\n",
       "| 16.4 | 8 | 275.8 | 180 | 3.07 | 4.070 | 17.40 | 0 | 0 | 3 | 3 |  8 |\n",
       "| 17.3 | 8 | 275.8 | 180 | 3.07 | 3.730 | 17.60 | 0 | 0 | 3 | 3 |  8 |\n",
       "| 15.2 | 8 | 275.8 | 180 | 3.07 | 3.780 | 18.00 | 0 | 0 | 3 | 3 |  8 |\n",
       "| 30.4 | 4 |  75.7 |  52 | 4.93 | 1.615 | 18.52 | 1 | 1 | 4 | 2 |  8 |\n",
       "| 21.4 | 4 | 121.0 | 109 | 4.11 | 2.780 | 18.60 | 1 | 1 | 4 | 2 |  8 |\n",
       "| 26.0 | 4 | 120.3 |  91 | 4.43 | 2.140 | 16.70 | 0 | 1 | 5 | 2 | 10 |\n",
       "| 30.4 | 4 |  95.1 | 113 | 3.77 | 1.513 | 16.90 | 1 | 1 | 5 | 2 | 10 |\n",
       "| 15.8 | 8 | 351.0 | 264 | 4.22 | 3.170 | 14.50 | 0 | 1 | 5 | 4 | 10 |\n",
       "| 18.7 | 8 | 360.0 | 175 | 3.15 | 3.440 | 17.02 | 0 | 0 | 3 | 2 | 12 |\n",
       "| 21.5 | 4 | 120.1 |  97 | 3.70 | 2.465 | 20.01 | 1 | 0 | 3 | 1 | 12 |\n",
       "| 15.5 | 8 | 318.0 | 150 | 2.76 | 3.520 | 16.87 | 0 | 0 | 3 | 2 | 12 |\n",
       "| 15.2 | 8 | 304.0 | 150 | 3.15 | 3.435 | 17.30 | 0 | 0 | 3 | 2 | 12 |\n",
       "| 19.2 | 8 | 400.0 | 175 | 3.08 | 3.845 | 17.05 | 0 | 0 | 3 | 2 | 12 |\n",
       "| 22.8 | 4 | 108.0 |  93 | 3.85 | 2.320 | 18.61 | 1 | 1 | 4 | 1 | 16 |\n",
       "| 32.4 | 4 |  78.7 |  66 | 4.08 | 2.200 | 19.47 | 1 | 1 | 4 | 1 | 16 |\n",
       "| 33.9 | 4 |  71.1 |  65 | 4.22 | 1.835 | 19.90 | 1 | 1 | 4 | 1 | 16 |\n",
       "| 27.3 | 4 |  79.0 |  66 | 4.08 | 1.935 | 18.90 | 1 | 1 | 4 | 1 | 16 |\n",
       "| 21.4 | 6 | 258.0 | 110 | 3.08 | 3.215 | 19.44 | 1 | 0 | 3 | 1 | 18 |\n",
       "| 18.1 | 6 | 225.0 | 105 | 2.76 | 3.460 | 20.22 | 1 | 0 | 3 | 1 | 18 |\n",
       "\n"
      ],
      "text/plain": [
       "   mpg  cyl disp  hp  drat wt    qsec  vs am gear carb score\n",
       "1  19.7 6   145.0 175 3.62 2.770 15.50 0  1  5    6     5   \n",
       "2  15.0 8   301.0 335 3.54 3.570 14.60 0  1  5    8     5   \n",
       "3  21.0 6   160.0 110 3.90 2.620 16.46 0  1  4    4     6   \n",
       "4  21.0 6   160.0 110 3.90 2.875 17.02 0  1  4    4     6   \n",
       "5  14.3 8   360.0 245 3.21 3.570 15.84 0  0  3    4     6   \n",
       "6  19.2 6   167.6 123 3.92 3.440 18.30 1  0  4    4     6   \n",
       "7  17.8 6   167.6 123 3.92 3.440 18.90 1  0  4    4     6   \n",
       "8  10.4 8   472.0 205 2.93 5.250 17.98 0  0  3    4     6   \n",
       "9  10.4 8   460.0 215 3.00 5.424 17.82 0  0  3    4     6   \n",
       "10 14.7 8   440.0 230 3.23 5.345 17.42 0  0  3    4     6   \n",
       "11 13.3 8   350.0 245 3.73 3.840 15.41 0  0  3    4     6   \n",
       "12 24.4 4   146.7  62 3.69 3.190 20.00 1  0  4    2     8   \n",
       "13 22.8 4   140.8  95 3.92 3.150 22.90 1  0  4    2     8   \n",
       "14 16.4 8   275.8 180 3.07 4.070 17.40 0  0  3    3     8   \n",
       "15 17.3 8   275.8 180 3.07 3.730 17.60 0  0  3    3     8   \n",
       "16 15.2 8   275.8 180 3.07 3.780 18.00 0  0  3    3     8   \n",
       "17 30.4 4    75.7  52 4.93 1.615 18.52 1  1  4    2     8   \n",
       "18 21.4 4   121.0 109 4.11 2.780 18.60 1  1  4    2     8   \n",
       "19 26.0 4   120.3  91 4.43 2.140 16.70 0  1  5    2    10   \n",
       "20 30.4 4    95.1 113 3.77 1.513 16.90 1  1  5    2    10   \n",
       "21 15.8 8   351.0 264 4.22 3.170 14.50 0  1  5    4    10   \n",
       "22 18.7 8   360.0 175 3.15 3.440 17.02 0  0  3    2    12   \n",
       "23 21.5 4   120.1  97 3.70 2.465 20.01 1  0  3    1    12   \n",
       "24 15.5 8   318.0 150 2.76 3.520 16.87 0  0  3    2    12   \n",
       "25 15.2 8   304.0 150 3.15 3.435 17.30 0  0  3    2    12   \n",
       "26 19.2 8   400.0 175 3.08 3.845 17.05 0  0  3    2    12   \n",
       "27 22.8 4   108.0  93 3.85 2.320 18.61 1  1  4    1    16   \n",
       "28 32.4 4    78.7  66 4.08 2.200 19.47 1  1  4    1    16   \n",
       "29 33.9 4    71.1  65 4.22 1.835 19.90 1  1  4    1    16   \n",
       "30 27.3 4    79.0  66 4.08 1.935 18.90 1  1  4    1    16   \n",
       "31 21.4 6   258.0 110 3.08 3.215 19.44 1  0  3    1    18   \n",
       "32 18.1 6   225.0 105 2.76 3.460 20.22 1  0  3    1    18   "
      ]
     },
     "metadata": {},
     "output_type": "display_data"
    }
   ],
   "source": [
    "arrange(mutate(mtcars, score=cyl*gear/carb), score)"
   ]
  },
  {
   "cell_type": "markdown",
   "metadata": {},
   "source": [
    "### group_by & summarise"
   ]
  },
  {
   "cell_type": "code",
   "execution_count": 1,
   "metadata": {
    "scrolled": false
   },
   "outputs": [
    {
     "data": {
      "text/html": [
       "<table>\n",
       "<caption>A data.frame: 6 × 11</caption>\n",
       "<thead>\n",
       "\t<tr><th></th><th scope=col>mpg</th><th scope=col>cyl</th><th scope=col>disp</th><th scope=col>hp</th><th scope=col>drat</th><th scope=col>wt</th><th scope=col>qsec</th><th scope=col>vs</th><th scope=col>am</th><th scope=col>gear</th><th scope=col>carb</th></tr>\n",
       "\t<tr><th></th><th scope=col>&lt;dbl&gt;</th><th scope=col>&lt;dbl&gt;</th><th scope=col>&lt;dbl&gt;</th><th scope=col>&lt;dbl&gt;</th><th scope=col>&lt;dbl&gt;</th><th scope=col>&lt;dbl&gt;</th><th scope=col>&lt;dbl&gt;</th><th scope=col>&lt;dbl&gt;</th><th scope=col>&lt;dbl&gt;</th><th scope=col>&lt;dbl&gt;</th><th scope=col>&lt;dbl&gt;</th></tr>\n",
       "</thead>\n",
       "<tbody>\n",
       "\t<tr><th scope=row>Mazda RX4</th><td>21.0</td><td>6</td><td>160</td><td>110</td><td>3.90</td><td>2.620</td><td>16.46</td><td>0</td><td>1</td><td>4</td><td>4</td></tr>\n",
       "\t<tr><th scope=row>Mazda RX4 Wag</th><td>21.0</td><td>6</td><td>160</td><td>110</td><td>3.90</td><td>2.875</td><td>17.02</td><td>0</td><td>1</td><td>4</td><td>4</td></tr>\n",
       "\t<tr><th scope=row>Datsun 710</th><td>22.8</td><td>4</td><td>108</td><td> 93</td><td>3.85</td><td>2.320</td><td>18.61</td><td>1</td><td>1</td><td>4</td><td>1</td></tr>\n",
       "\t<tr><th scope=row>Hornet 4 Drive</th><td>21.4</td><td>6</td><td>258</td><td>110</td><td>3.08</td><td>3.215</td><td>19.44</td><td>1</td><td>0</td><td>3</td><td>1</td></tr>\n",
       "\t<tr><th scope=row>Hornet Sportabout</th><td>18.7</td><td>8</td><td>360</td><td>175</td><td>3.15</td><td>3.440</td><td>17.02</td><td>0</td><td>0</td><td>3</td><td>2</td></tr>\n",
       "\t<tr><th scope=row>Valiant</th><td>18.1</td><td>6</td><td>225</td><td>105</td><td>2.76</td><td>3.460</td><td>20.22</td><td>1</td><td>0</td><td>3</td><td>1</td></tr>\n",
       "</tbody>\n",
       "</table>\n"
      ],
      "text/latex": [
       "A data.frame: 6 × 11\n",
       "\\begin{tabular}{r|lllllllllll}\n",
       "  & mpg & cyl & disp & hp & drat & wt & qsec & vs & am & gear & carb\\\\\n",
       "  & <dbl> & <dbl> & <dbl> & <dbl> & <dbl> & <dbl> & <dbl> & <dbl> & <dbl> & <dbl> & <dbl>\\\\\n",
       "\\hline\n",
       "\tMazda RX4 & 21.0 & 6 & 160 & 110 & 3.90 & 2.620 & 16.46 & 0 & 1 & 4 & 4\\\\\n",
       "\tMazda RX4 Wag & 21.0 & 6 & 160 & 110 & 3.90 & 2.875 & 17.02 & 0 & 1 & 4 & 4\\\\\n",
       "\tDatsun 710 & 22.8 & 4 & 108 &  93 & 3.85 & 2.320 & 18.61 & 1 & 1 & 4 & 1\\\\\n",
       "\tHornet 4 Drive & 21.4 & 6 & 258 & 110 & 3.08 & 3.215 & 19.44 & 1 & 0 & 3 & 1\\\\\n",
       "\tHornet Sportabout & 18.7 & 8 & 360 & 175 & 3.15 & 3.440 & 17.02 & 0 & 0 & 3 & 2\\\\\n",
       "\tValiant & 18.1 & 6 & 225 & 105 & 2.76 & 3.460 & 20.22 & 1 & 0 & 3 & 1\\\\\n",
       "\\end{tabular}\n"
      ],
      "text/markdown": [
       "\n",
       "A data.frame: 6 × 11\n",
       "\n",
       "| <!--/--> | mpg &lt;dbl&gt; | cyl &lt;dbl&gt; | disp &lt;dbl&gt; | hp &lt;dbl&gt; | drat &lt;dbl&gt; | wt &lt;dbl&gt; | qsec &lt;dbl&gt; | vs &lt;dbl&gt; | am &lt;dbl&gt; | gear &lt;dbl&gt; | carb &lt;dbl&gt; |\n",
       "|---|---|---|---|---|---|---|---|---|---|---|---|\n",
       "| Mazda RX4 | 21.0 | 6 | 160 | 110 | 3.90 | 2.620 | 16.46 | 0 | 1 | 4 | 4 |\n",
       "| Mazda RX4 Wag | 21.0 | 6 | 160 | 110 | 3.90 | 2.875 | 17.02 | 0 | 1 | 4 | 4 |\n",
       "| Datsun 710 | 22.8 | 4 | 108 |  93 | 3.85 | 2.320 | 18.61 | 1 | 1 | 4 | 1 |\n",
       "| Hornet 4 Drive | 21.4 | 6 | 258 | 110 | 3.08 | 3.215 | 19.44 | 1 | 0 | 3 | 1 |\n",
       "| Hornet Sportabout | 18.7 | 8 | 360 | 175 | 3.15 | 3.440 | 17.02 | 0 | 0 | 3 | 2 |\n",
       "| Valiant | 18.1 | 6 | 225 | 105 | 2.76 | 3.460 | 20.22 | 1 | 0 | 3 | 1 |\n",
       "\n"
      ],
      "text/plain": [
       "                  mpg  cyl disp hp  drat wt    qsec  vs am gear carb\n",
       "Mazda RX4         21.0 6   160  110 3.90 2.620 16.46 0  1  4    4   \n",
       "Mazda RX4 Wag     21.0 6   160  110 3.90 2.875 17.02 0  1  4    4   \n",
       "Datsun 710        22.8 4   108   93 3.85 2.320 18.61 1  1  4    1   \n",
       "Hornet 4 Drive    21.4 6   258  110 3.08 3.215 19.44 1  0  3    1   \n",
       "Hornet Sportabout 18.7 8   360  175 3.15 3.440 17.02 0  0  3    2   \n",
       "Valiant           18.1 6   225  105 2.76 3.460 20.22 1  0  3    1   "
      ]
     },
     "metadata": {},
     "output_type": "display_data"
    },
    {
     "data": {
      "text/html": [
       "'============group by cyl'"
      ],
      "text/latex": [
       "'============group by cyl'"
      ],
      "text/markdown": [
       "'============group by cyl'"
      ],
      "text/plain": [
       "[1] \"============group by cyl\""
      ]
     },
     "metadata": {},
     "output_type": "display_data"
    },
    {
     "ename": "ERROR",
     "evalue": "Error in group_by(mtcars, cyl): could not find function \"group_by\"\n",
     "output_type": "error",
     "traceback": [
      "Error in group_by(mtcars, cyl): could not find function \"group_by\"\nTraceback:\n"
     ]
    },
    {
     "ename": "ERROR",
     "evalue": "Error in head(by_cyl): object 'by_cyl' not found\n",
     "output_type": "error",
     "traceback": [
      "Error in head(by_cyl): object 'by_cyl' not found\nTraceback:\n",
      "1. head(by_cyl)"
     ]
    }
   ],
   "source": [
    "head(mtcars)\n",
    "'============group by cyl'\n",
    "by_cyl=group_by(mtcars, cyl); head(by_cyl)\n",
    "str(mtcars)\n",
    "'============='\n",
    "str(by_cyl)\n",
    "class(by_cyl)"
   ]
  },
  {
   "cell_type": "code",
   "execution_count": 55,
   "metadata": {
    "scrolled": false
   },
   "outputs": [
    {
     "data": {
      "text/html": [
       "<table>\n",
       "<thead><tr><th scope=col>cyl</th><th scope=col>sum(hp)</th><th scope=col>sd(hp)</th><th scope=col>sum(disp)</th><th scope=col>sd(disp)</th></tr></thead>\n",
       "<tbody>\n",
       "\t<tr><td>4       </td><td> 909    </td><td>20.93453</td><td>1156.5  </td><td>26.87159</td></tr>\n",
       "\t<tr><td>6       </td><td> 856    </td><td>24.26049</td><td>1283.2  </td><td>41.56246</td></tr>\n",
       "\t<tr><td>8       </td><td>2929    </td><td>50.97689</td><td>4943.4  </td><td>67.77132</td></tr>\n",
       "</tbody>\n",
       "</table>\n"
      ],
      "text/latex": [
       "\\begin{tabular}{r|lllll}\n",
       " cyl & sum(hp) & sd(hp) & sum(disp) & sd(disp)\\\\\n",
       "\\hline\n",
       "\t 4        &  909     & 20.93453 & 1156.5   & 26.87159\\\\\n",
       "\t 6        &  856     & 24.26049 & 1283.2   & 41.56246\\\\\n",
       "\t 8        & 2929     & 50.97689 & 4943.4   & 67.77132\\\\\n",
       "\\end{tabular}\n"
      ],
      "text/markdown": [
       "\n",
       "cyl | sum(hp) | sd(hp) | sum(disp) | sd(disp) | \n",
       "|---|---|---|\n",
       "| 4        |  909     | 20.93453 | 1156.5   | 26.87159 | \n",
       "| 6        |  856     | 24.26049 | 1283.2   | 41.56246 | \n",
       "| 8        | 2929     | 50.97689 | 4943.4   | 67.77132 | \n",
       "\n",
       "\n"
      ],
      "text/plain": [
       "  cyl sum(hp) sd(hp)   sum(disp) sd(disp)\n",
       "1 4    909    20.93453 1156.5    26.87159\n",
       "2 6    856    24.26049 1283.2    41.56246\n",
       "3 8   2929    50.97689 4943.4    67.77132"
      ]
     },
     "metadata": {},
     "output_type": "display_data"
    }
   ],
   "source": [
    "summarise(by_cyl, sum(hp), sd(hp), sum(disp), sd(disp))"
   ]
  },
  {
   "cell_type": "code",
   "execution_count": 56,
   "metadata": {
    "scrolled": true
   },
   "outputs": [
    {
     "data": {
      "text/html": [
       "<table>\n",
       "<thead><tr><th scope=col>vore</th><th scope=col>sum(sleep_total)</th><th scope=col>total</th><th scope=col>avgrem</th></tr></thead>\n",
       "<tbody>\n",
       "\t<tr><td>carni   </td><td>197.2   </td><td>197.2   </td><td>2.290000</td></tr>\n",
       "\t<tr><td>herbi   </td><td>304.3   </td><td>304.3   </td><td>1.366667</td></tr>\n",
       "\t<tr><td>insecti </td><td> 74.7   </td><td> 74.7   </td><td>3.525000</td></tr>\n",
       "\t<tr><td>omni    </td><td>218.5   </td><td>218.5   </td><td>1.955556</td></tr>\n",
       "\t<tr><td>NA      </td><td> 71.3   </td><td> 71.3   </td><td>1.880000</td></tr>\n",
       "</tbody>\n",
       "</table>\n"
      ],
      "text/latex": [
       "\\begin{tabular}{r|llll}\n",
       " vore & sum(sleep\\_total) & total & avgrem\\\\\n",
       "\\hline\n",
       "\t carni    & 197.2    & 197.2    & 2.290000\\\\\n",
       "\t herbi    & 304.3    & 304.3    & 1.366667\\\\\n",
       "\t insecti  &  74.7    &  74.7    & 3.525000\\\\\n",
       "\t omni     & 218.5    & 218.5    & 1.955556\\\\\n",
       "\t NA       &  71.3    &  71.3    & 1.880000\\\\\n",
       "\\end{tabular}\n"
      ],
      "text/markdown": [
       "\n",
       "vore | sum(sleep_total) | total | avgrem | \n",
       "|---|---|---|---|---|\n",
       "| carni    | 197.2    | 197.2    | 2.290000 | \n",
       "| herbi    | 304.3    | 304.3    | 1.366667 | \n",
       "| insecti  |  74.7    |  74.7    | 3.525000 | \n",
       "| omni     | 218.5    | 218.5    | 1.955556 | \n",
       "| NA       |  71.3    |  71.3    | 1.880000 | \n",
       "\n",
       "\n"
      ],
      "text/plain": [
       "  vore    sum(sleep_total) total avgrem  \n",
       "1 carni   197.2            197.2 2.290000\n",
       "2 herbi   304.3            304.3 1.366667\n",
       "3 insecti  74.7             74.7 3.525000\n",
       "4 omni    218.5            218.5 1.955556\n",
       "5 NA       71.3             71.3 1.880000"
      ]
     },
     "metadata": {},
     "output_type": "display_data"
    }
   ],
   "source": [
    "by_vore=group_by(msleep, vore)\n",
    "summarise(by_vore, sum(sleep_total), total=sum(sleep_total), avgrem=mean(sleep_rem, na.rm=T)) #give column name"
   ]
  },
  {
   "cell_type": "markdown",
   "metadata": {},
   "source": [
    "### Pipeline"
   ]
  },
  {
   "cell_type": "code",
   "execution_count": 45,
   "metadata": {
    "scrolled": true
   },
   "outputs": [
    {
     "data": {
      "text/html": [
       "1.31607401295249"
      ],
      "text/latex": [
       "1.31607401295249"
      ],
      "text/markdown": [
       "1.31607401295249"
      ],
      "text/plain": [
       "[1] 1.316074"
      ]
     },
     "metadata": {},
     "output_type": "display_data"
    },
    {
     "data": {
      "text/html": [
       "1.31607401295249"
      ],
      "text/latex": [
       "1.31607401295249"
      ],
      "text/markdown": [
       "1.31607401295249"
      ],
      "text/plain": [
       "[1] 1.316074"
      ]
     },
     "metadata": {},
     "output_type": "display_data"
    },
    {
     "data": {
      "text/html": [
       "1.31607401295249"
      ],
      "text/latex": [
       "1.31607401295249"
      ],
      "text/markdown": [
       "1.31607401295249"
      ],
      "text/plain": [
       "[1] 1.316074"
      ]
     },
     "metadata": {},
     "output_type": "display_data"
    }
   ],
   "source": [
    "sqrt(9) %>% sqrt %>% sqrt\n",
    "9 %>% sqrt %>% sqrt %>% sqrt\n",
    "9**(1/8)"
   ]
  },
  {
   "cell_type": "code",
   "execution_count": 80,
   "metadata": {
    "scrolled": false
   },
   "outputs": [
    {
     "data": {
      "text/html": [
       "4"
      ],
      "text/latex": [
       "4"
      ],
      "text/markdown": [
       "4"
      ],
      "text/plain": [
       "[1] 4"
      ]
     },
     "metadata": {},
     "output_type": "display_data"
    }
   ],
   "source": [
    "sum(1) %>% sum(1) %>% sum(1) %>% sum(1) #always pass the previous result to the next function as the first arg\n",
    "#sum(1)    sum(1, 1)   sum(2, 1)  sum(3, 1)"
   ]
  },
  {
   "cell_type": "code",
   "execution_count": 59,
   "metadata": {},
   "outputs": [
    {
     "data": {
      "text/html": [
       "64"
      ],
      "text/latex": [
       "64"
      ],
      "text/markdown": [
       "64"
      ],
      "text/plain": [
       "[1] 64"
      ]
     },
     "metadata": {},
     "output_type": "display_data"
    }
   ],
   "source": [
    "8 %>% (function(x){x*x}) #anonymous function"
   ]
  },
  {
   "cell_type": "code",
   "execution_count": 47,
   "metadata": {},
   "outputs": [
    {
     "name": "stdout",
     "output_type": "stream",
     "text": [
      "'data.frame':\t83 obs. of  11 variables:\n",
      " $ name        : Factor w/ 83 levels \"African elephant\",..: 12 57 52 36 17 77 55 81 21 67 ...\n",
      " $ genus       : Factor w/ 77 levels \"Acinonyx\",\"Aotus\",..: 1 2 3 4 5 6 7 8 9 10 ...\n",
      " $ vore        : Factor w/ 4 levels \"carni\",\"herbi\",..: 1 4 2 4 2 2 1 NA 1 2 ...\n",
      " $ order       : Factor w/ 19 levels \"Afrosoricida\",..: 3 15 17 19 2 14 3 17 3 2 ...\n",
      " $ conservation: Factor w/ 6 levels \"cd\",\"domesticated\",..: 4 NA 5 4 2 NA 6 NA 2 4 ...\n",
      " $ sleep_total : num  12.1 17 14.4 14.9 4 14.4 8.7 7 10.1 3 ...\n",
      " $ sleep_rem   : num  NA 1.8 2.4 2.3 0.7 2.2 1.4 NA 2.9 NA ...\n",
      " $ sleep_cycle : num  NA NA NA 0.133 0.667 ...\n",
      " $ awake       : num  11.9 7 9.6 9.1 20 9.6 15.3 17 13.9 21 ...\n",
      " $ brainwt     : num  NA 0.0155 NA 0.00029 0.423 NA NA NA 0.07 0.0982 ...\n",
      " $ bodywt      : num  50 0.48 1.35 0.019 600 ...\n"
     ]
    }
   ],
   "source": [
    "str(msleep)"
   ]
  },
  {
   "cell_type": "code",
   "execution_count": 49,
   "metadata": {},
   "outputs": [
    {
     "data": {
      "text/html": [
       "<table>\n",
       "<caption>A data.frame: 6 × 3</caption>\n",
       "<thead>\n",
       "\t<tr><th></th><th scope=col>name</th><th scope=col>order</th><th scope=col>sleep_total</th></tr>\n",
       "\t<tr><th></th><th scope=col>&lt;fct&gt;</th><th scope=col>&lt;fct&gt;</th><th scope=col>&lt;dbl&gt;</th></tr>\n",
       "</thead>\n",
       "<tbody>\n",
       "\t<tr><th scope=row>1</th><td>Tenrec  </td><td>Afrosoricida</td><td>15.6</td></tr>\n",
       "\t<tr><th scope=row>2</th><td>Giraffe </td><td>Artiodactyla</td><td> 1.9</td></tr>\n",
       "\t<tr><th scope=row>3</th><td>Roe deer</td><td>Artiodactyla</td><td> 3.0</td></tr>\n",
       "\t<tr><th scope=row>4</th><td>Sheep   </td><td>Artiodactyla</td><td> 3.8</td></tr>\n",
       "\t<tr><th scope=row>5</th><td>Cow     </td><td>Artiodactyla</td><td> 4.0</td></tr>\n",
       "\t<tr><th scope=row>6</th><td>Goat    </td><td>Artiodactyla</td><td> 5.3</td></tr>\n",
       "</tbody>\n",
       "</table>\n"
      ],
      "text/latex": [
       "A data.frame: 6 × 3\n",
       "\\begin{tabular}{r|lll}\n",
       "  & name & order & sleep\\_total\\\\\n",
       "  & <fct> & <fct> & <dbl>\\\\\n",
       "\\hline\n",
       "\t1 & Tenrec   & Afrosoricida & 15.6\\\\\n",
       "\t2 & Giraffe  & Artiodactyla &  1.9\\\\\n",
       "\t3 & Roe deer & Artiodactyla &  3.0\\\\\n",
       "\t4 & Sheep    & Artiodactyla &  3.8\\\\\n",
       "\t5 & Cow      & Artiodactyla &  4.0\\\\\n",
       "\t6 & Goat     & Artiodactyla &  5.3\\\\\n",
       "\\end{tabular}\n"
      ],
      "text/markdown": [
       "\n",
       "A data.frame: 6 × 3\n",
       "\n",
       "| <!--/--> | name &lt;fct&gt; | order &lt;fct&gt; | sleep_total &lt;dbl&gt; |\n",
       "|---|---|---|---|\n",
       "| 1 | Tenrec   | Afrosoricida | 15.6 |\n",
       "| 2 | Giraffe  | Artiodactyla |  1.9 |\n",
       "| 3 | Roe deer | Artiodactyla |  3.0 |\n",
       "| 4 | Sheep    | Artiodactyla |  3.8 |\n",
       "| 5 | Cow      | Artiodactyla |  4.0 |\n",
       "| 6 | Goat     | Artiodactyla |  5.3 |\n",
       "\n"
      ],
      "text/plain": [
       "  name     order        sleep_total\n",
       "1 Tenrec   Afrosoricida 15.6       \n",
       "2 Giraffe  Artiodactyla  1.9       \n",
       "3 Roe deer Artiodactyla  3.0       \n",
       "4 Sheep    Artiodactyla  3.8       \n",
       "5 Cow      Artiodactyla  4.0       \n",
       "6 Goat     Artiodactyla  5.3       "
      ]
     },
     "metadata": {},
     "output_type": "display_data"
    }
   ],
   "source": [
    "msleep %>% \n",
    "select(name, order, sleep_total) %>% \n",
    "arrange(order, sleep_total) %>% \n",
    "head \n",
    "#these functions don't have the dataframe as the first arg because %>% passes in the first arg"
   ]
  },
  {
   "cell_type": "code",
   "execution_count": 61,
   "metadata": {},
   "outputs": [
    {
     "data": {
      "text/html": [
       "<table>\n",
       "<thead><tr><th scope=col>name</th><th scope=col>order</th><th scope=col>sleep_total</th></tr></thead>\n",
       "<tbody>\n",
       "\t<tr><td>Big brown bat         </td><td>Chiroptera            </td><td>19.7                  </td></tr>\n",
       "\t<tr><td>Little brown bat      </td><td>Chiroptera            </td><td>19.9                  </td></tr>\n",
       "\t<tr><td>Long-nosed armadillo  </td><td>Cingulata             </td><td>17.4                  </td></tr>\n",
       "\t<tr><td>Giant armadillo       </td><td>Cingulata             </td><td>18.1                  </td></tr>\n",
       "\t<tr><td>North American Opossum</td><td>Didelphimorphia       </td><td>18.0                  </td></tr>\n",
       "\t<tr><td>Thick-tailed opposum  </td><td>Didelphimorphia       </td><td>19.4                  </td></tr>\n",
       "\t<tr><td>Owl monkey            </td><td>Primates              </td><td>17.0                  </td></tr>\n",
       "\t<tr><td>Arctic ground squirrel</td><td>Rodentia              </td><td>16.6                  </td></tr>\n",
       "</tbody>\n",
       "</table>\n"
      ],
      "text/latex": [
       "\\begin{tabular}{r|lll}\n",
       " name & order & sleep\\_total\\\\\n",
       "\\hline\n",
       "\t Big brown bat          & Chiroptera             & 19.7                  \\\\\n",
       "\t Little brown bat       & Chiroptera             & 19.9                  \\\\\n",
       "\t Long-nosed armadillo   & Cingulata              & 17.4                  \\\\\n",
       "\t Giant armadillo        & Cingulata              & 18.1                  \\\\\n",
       "\t North American Opossum & Didelphimorphia        & 18.0                  \\\\\n",
       "\t Thick-tailed opposum   & Didelphimorphia        & 19.4                  \\\\\n",
       "\t Owl monkey             & Primates               & 17.0                  \\\\\n",
       "\t Arctic ground squirrel & Rodentia               & 16.6                  \\\\\n",
       "\\end{tabular}\n"
      ],
      "text/markdown": [
       "\n",
       "name | order | sleep_total | \n",
       "|---|---|---|---|---|---|---|---|\n",
       "| Big brown bat          | Chiroptera             | 19.7                   | \n",
       "| Little brown bat       | Chiroptera             | 19.9                   | \n",
       "| Long-nosed armadillo   | Cingulata              | 17.4                   | \n",
       "| Giant armadillo        | Cingulata              | 18.1                   | \n",
       "| North American Opossum | Didelphimorphia        | 18.0                   | \n",
       "| Thick-tailed opposum   | Didelphimorphia        | 19.4                   | \n",
       "| Owl monkey             | Primates               | 17.0                   | \n",
       "| Arctic ground squirrel | Rodentia               | 16.6                   | \n",
       "\n",
       "\n"
      ],
      "text/plain": [
       "  name                   order           sleep_total\n",
       "1 Big brown bat          Chiroptera      19.7       \n",
       "2 Little brown bat       Chiroptera      19.9       \n",
       "3 Long-nosed armadillo   Cingulata       17.4       \n",
       "4 Giant armadillo        Cingulata       18.1       \n",
       "5 North American Opossum Didelphimorphia 18.0       \n",
       "6 Thick-tailed opposum   Didelphimorphia 19.4       \n",
       "7 Owl monkey             Primates        17.0       \n",
       "8 Arctic ground squirrel Rodentia        16.6       "
      ]
     },
     "metadata": {},
     "output_type": "display_data"
    }
   ],
   "source": [
    "msleep %>% select(name, order, sleep_total) %>% arrange(order, sleep_total) %>% filter(sleep_total >= 16)"
   ]
  },
  {
   "cell_type": "code",
   "execution_count": 62,
   "metadata": {
    "scrolled": true
   },
   "outputs": [
    {
     "data": {
      "text/html": [
       "<table>\n",
       "<thead><tr><th scope=col>order</th><th scope=col>avg_sleep</th><th scope=col>min_sleep</th><th scope=col>max_sleep</th><th scope=col>total</th></tr></thead>\n",
       "<tbody>\n",
       "\t<tr><td>Afrosoricida</td><td>15.600000   </td><td>15.6        </td><td>15.6        </td><td> 1          </td></tr>\n",
       "\t<tr><td>Artiodactyla</td><td> 4.516667   </td><td> 1.9        </td><td> 9.1        </td><td> 6          </td></tr>\n",
       "\t<tr><td>Carnivora   </td><td>10.116667   </td><td> 3.5        </td><td>15.8        </td><td>12          </td></tr>\n",
       "\t<tr><td>Cetacea     </td><td> 4.500000   </td><td> 2.7        </td><td> 5.6        </td><td> 3          </td></tr>\n",
       "\t<tr><td>Chiroptera  </td><td>19.800000   </td><td>19.7        </td><td>19.9        </td><td> 2          </td></tr>\n",
       "\t<tr><td>Cingulata   </td><td>17.750000   </td><td>17.4        </td><td>18.1        </td><td> 2          </td></tr>\n",
       "</tbody>\n",
       "</table>\n"
      ],
      "text/latex": [
       "\\begin{tabular}{r|lllll}\n",
       " order & avg\\_sleep & min\\_sleep & max\\_sleep & total\\\\\n",
       "\\hline\n",
       "\t Afrosoricida & 15.600000    & 15.6         & 15.6         &  1          \\\\\n",
       "\t Artiodactyla &  4.516667    &  1.9         &  9.1         &  6          \\\\\n",
       "\t Carnivora    & 10.116667    &  3.5         & 15.8         & 12          \\\\\n",
       "\t Cetacea      &  4.500000    &  2.7         &  5.6         &  3          \\\\\n",
       "\t Chiroptera   & 19.800000    & 19.7         & 19.9         &  2          \\\\\n",
       "\t Cingulata    & 17.750000    & 17.4         & 18.1         &  2          \\\\\n",
       "\\end{tabular}\n"
      ],
      "text/markdown": [
       "\n",
       "order | avg_sleep | min_sleep | max_sleep | total | \n",
       "|---|---|---|---|---|---|\n",
       "| Afrosoricida | 15.600000    | 15.6         | 15.6         |  1           | \n",
       "| Artiodactyla |  4.516667    |  1.9         |  9.1         |  6           | \n",
       "| Carnivora    | 10.116667    |  3.5         | 15.8         | 12           | \n",
       "| Cetacea      |  4.500000    |  2.7         |  5.6         |  3           | \n",
       "| Chiroptera   | 19.800000    | 19.7         | 19.9         |  2           | \n",
       "| Cingulata    | 17.750000    | 17.4         | 18.1         |  2           | \n",
       "\n",
       "\n"
      ],
      "text/plain": [
       "  order        avg_sleep min_sleep max_sleep total\n",
       "1 Afrosoricida 15.600000 15.6      15.6       1   \n",
       "2 Artiodactyla  4.516667  1.9       9.1       6   \n",
       "3 Carnivora    10.116667  3.5      15.8      12   \n",
       "4 Cetacea       4.500000  2.7       5.6       3   \n",
       "5 Chiroptera   19.800000 19.7      19.9       2   \n",
       "6 Cingulata    17.750000 17.4      18.1       2   "
      ]
     },
     "metadata": {},
     "output_type": "display_data"
    }
   ],
   "source": [
    "msleep %>% \n",
    "group_by(order) %>% \n",
    "summarise(avg_sleep = mean(sleep_total), \n",
    "        min_sleep = min(sleep_total),\n",
    "        max_sleep = max(sleep_total), \n",
    "        total = n()) %>% \n",
    "head\n",
    "# n() (returns the length of vector)"
   ]
  },
  {
   "cell_type": "markdown",
   "metadata": {},
   "source": [
    "### Melt and cast. In Python/Excel it is called \"Pivot table\""
   ]
  },
  {
   "cell_type": "code",
   "execution_count": 20,
   "metadata": {},
   "outputs": [],
   "source": [
    "library(reshape2)"
   ]
  },
  {
   "cell_type": "code",
   "execution_count": 21,
   "metadata": {},
   "outputs": [
    {
     "data": {
      "text/html": [
       "<style>\n",
       ".list-inline {list-style: none; margin:0; padding: 0}\n",
       ".list-inline>li {display: inline-block}\n",
       ".list-inline>li:not(:last-child)::after {content: \"\\00b7\"; padding: 0 .5ex}\n",
       "</style>\n",
       "<ol class=list-inline><li>'Ozone'</li><li>'Solar.R'</li><li>'Wind'</li><li>'Temp'</li><li>'Month'</li><li>'Day'</li></ol>\n"
      ],
      "text/latex": [
       "\\begin{enumerate*}\n",
       "\\item 'Ozone'\n",
       "\\item 'Solar.R'\n",
       "\\item 'Wind'\n",
       "\\item 'Temp'\n",
       "\\item 'Month'\n",
       "\\item 'Day'\n",
       "\\end{enumerate*}\n"
      ],
      "text/markdown": [
       "1. 'Ozone'\n",
       "2. 'Solar.R'\n",
       "3. 'Wind'\n",
       "4. 'Temp'\n",
       "5. 'Month'\n",
       "6. 'Day'\n",
       "\n",
       "\n"
      ],
      "text/plain": [
       "[1] \"Ozone\"   \"Solar.R\" \"Wind\"    \"Temp\"    \"Month\"   \"Day\"    "
      ]
     },
     "metadata": {},
     "output_type": "display_data"
    }
   ],
   "source": [
    "names(airquality)"
   ]
  },
  {
   "cell_type": "code",
   "execution_count": 22,
   "metadata": {},
   "outputs": [
    {
     "data": {
      "text/html": [
       "<style>\n",
       ".list-inline {list-style: none; margin:0; padding: 0}\n",
       ".list-inline>li {display: inline-block}\n",
       ".list-inline>li:not(:last-child)::after {content: \"\\00b7\"; padding: 0 .5ex}\n",
       "</style>\n",
       "<ol class=list-inline><li>'OZONE'</li><li>'SOLAR.R'</li><li>'WIND'</li><li>'TEMP'</li><li>'MONTH'</li><li>'DAY'</li></ol>\n"
      ],
      "text/latex": [
       "\\begin{enumerate*}\n",
       "\\item 'OZONE'\n",
       "\\item 'SOLAR.R'\n",
       "\\item 'WIND'\n",
       "\\item 'TEMP'\n",
       "\\item 'MONTH'\n",
       "\\item 'DAY'\n",
       "\\end{enumerate*}\n"
      ],
      "text/markdown": [
       "1. 'OZONE'\n",
       "2. 'SOLAR.R'\n",
       "3. 'WIND'\n",
       "4. 'TEMP'\n",
       "5. 'MONTH'\n",
       "6. 'DAY'\n",
       "\n",
       "\n"
      ],
      "text/plain": [
       "[1] \"OZONE\"   \"SOLAR.R\" \"WIND\"    \"TEMP\"    \"MONTH\"   \"DAY\"    "
      ]
     },
     "metadata": {},
     "output_type": "display_data"
    }
   ],
   "source": [
    "toupper(names(airquality))"
   ]
  },
  {
   "cell_type": "code",
   "execution_count": 23,
   "metadata": {
    "scrolled": true
   },
   "outputs": [
    {
     "data": {
      "text/html": [
       "<style>\n",
       ".list-inline {list-style: none; margin:0; padding: 0}\n",
       ".list-inline>li {display: inline-block}\n",
       ".list-inline>li:not(:last-child)::after {content: \"\\00b7\"; padding: 0 .5ex}\n",
       "</style>\n",
       "<ol class=list-inline><li>'Ozone'</li><li>'Solar.R'</li><li>'Wind'</li><li>'Temp'</li><li>'Month'</li><li>'Day'</li></ol>\n"
      ],
      "text/latex": [
       "\\begin{enumerate*}\n",
       "\\item 'Ozone'\n",
       "\\item 'Solar.R'\n",
       "\\item 'Wind'\n",
       "\\item 'Temp'\n",
       "\\item 'Month'\n",
       "\\item 'Day'\n",
       "\\end{enumerate*}\n"
      ],
      "text/markdown": [
       "1. 'Ozone'\n",
       "2. 'Solar.R'\n",
       "3. 'Wind'\n",
       "4. 'Temp'\n",
       "5. 'Month'\n",
       "6. 'Day'\n",
       "\n",
       "\n"
      ],
      "text/plain": [
       "[1] \"Ozone\"   \"Solar.R\" \"Wind\"    \"Temp\"    \"Month\"   \"Day\"    "
      ]
     },
     "metadata": {},
     "output_type": "display_data"
    },
    {
     "data": {
      "text/html": [
       "<table>\n",
       "<caption>A data.frame: 6 × 6</caption>\n",
       "<thead>\n",
       "\t<tr><th></th><th scope=col>OZONE</th><th scope=col>SOLAR.R</th><th scope=col>WIND</th><th scope=col>TEMP</th><th scope=col>MONTH</th><th scope=col>DAY</th></tr>\n",
       "\t<tr><th></th><th scope=col>&lt;int&gt;</th><th scope=col>&lt;int&gt;</th><th scope=col>&lt;dbl&gt;</th><th scope=col>&lt;int&gt;</th><th scope=col>&lt;int&gt;</th><th scope=col>&lt;int&gt;</th></tr>\n",
       "</thead>\n",
       "<tbody>\n",
       "\t<tr><th scope=row>1</th><td>41</td><td>190</td><td> 7.4</td><td>67</td><td>5</td><td>1</td></tr>\n",
       "\t<tr><th scope=row>2</th><td>36</td><td>118</td><td> 8.0</td><td>72</td><td>5</td><td>2</td></tr>\n",
       "\t<tr><th scope=row>3</th><td>12</td><td>149</td><td>12.6</td><td>74</td><td>5</td><td>3</td></tr>\n",
       "\t<tr><th scope=row>4</th><td>18</td><td>313</td><td>11.5</td><td>62</td><td>5</td><td>4</td></tr>\n",
       "\t<tr><th scope=row>5</th><td>NA</td><td> NA</td><td>14.3</td><td>56</td><td>5</td><td>5</td></tr>\n",
       "\t<tr><th scope=row>6</th><td>28</td><td> NA</td><td>14.9</td><td>66</td><td>5</td><td>6</td></tr>\n",
       "</tbody>\n",
       "</table>\n"
      ],
      "text/latex": [
       "A data.frame: 6 × 6\n",
       "\\begin{tabular}{r|llllll}\n",
       "  & OZONE & SOLAR.R & WIND & TEMP & MONTH & DAY\\\\\n",
       "  & <int> & <int> & <dbl> & <int> & <int> & <int>\\\\\n",
       "\\hline\n",
       "\t1 & 41 & 190 &  7.4 & 67 & 5 & 1\\\\\n",
       "\t2 & 36 & 118 &  8.0 & 72 & 5 & 2\\\\\n",
       "\t3 & 12 & 149 & 12.6 & 74 & 5 & 3\\\\\n",
       "\t4 & 18 & 313 & 11.5 & 62 & 5 & 4\\\\\n",
       "\t5 & NA &  NA & 14.3 & 56 & 5 & 5\\\\\n",
       "\t6 & 28 &  NA & 14.9 & 66 & 5 & 6\\\\\n",
       "\\end{tabular}\n"
      ],
      "text/markdown": [
       "\n",
       "A data.frame: 6 × 6\n",
       "\n",
       "| <!--/--> | OZONE &lt;int&gt; | SOLAR.R &lt;int&gt; | WIND &lt;dbl&gt; | TEMP &lt;int&gt; | MONTH &lt;int&gt; | DAY &lt;int&gt; |\n",
       "|---|---|---|---|---|---|---|\n",
       "| 1 | 41 | 190 |  7.4 | 67 | 5 | 1 |\n",
       "| 2 | 36 | 118 |  8.0 | 72 | 5 | 2 |\n",
       "| 3 | 12 | 149 | 12.6 | 74 | 5 | 3 |\n",
       "| 4 | 18 | 313 | 11.5 | 62 | 5 | 4 |\n",
       "| 5 | NA |  NA | 14.3 | 56 | 5 | 5 |\n",
       "| 6 | 28 |  NA | 14.9 | 66 | 5 | 6 |\n",
       "\n"
      ],
      "text/plain": [
       "  OZONE SOLAR.R WIND TEMP MONTH DAY\n",
       "1 41    190      7.4 67   5     1  \n",
       "2 36    118      8.0 72   5     2  \n",
       "3 12    149     12.6 74   5     3  \n",
       "4 18    313     11.5 62   5     4  \n",
       "5 NA     NA     14.3 56   5     5  \n",
       "6 28     NA     14.9 66   5     6  "
      ]
     },
     "metadata": {},
     "output_type": "display_data"
    }
   ],
   "source": [
    "names(airquality)\n",
    "names(airquality) <- toupper(names(airquality))\n",
    "head(airquality)"
   ]
  },
  {
   "cell_type": "code",
   "execution_count": 24,
   "metadata": {
    "scrolled": false
   },
   "outputs": [
    {
     "data": {
      "text/html": [
       "'=============airquality'"
      ],
      "text/latex": [
       "'=============airquality'"
      ],
      "text/markdown": [
       "'=============airquality'"
      ],
      "text/plain": [
       "[1] \"=============airquality\""
      ]
     },
     "metadata": {},
     "output_type": "display_data"
    },
    {
     "data": {
      "text/html": [
       "<table>\n",
       "<caption>A data.frame: 6 × 6</caption>\n",
       "<thead>\n",
       "\t<tr><th></th><th scope=col>OZONE</th><th scope=col>SOLAR.R</th><th scope=col>WIND</th><th scope=col>TEMP</th><th scope=col>MONTH</th><th scope=col>DAY</th></tr>\n",
       "\t<tr><th></th><th scope=col>&lt;int&gt;</th><th scope=col>&lt;int&gt;</th><th scope=col>&lt;dbl&gt;</th><th scope=col>&lt;int&gt;</th><th scope=col>&lt;int&gt;</th><th scope=col>&lt;int&gt;</th></tr>\n",
       "</thead>\n",
       "<tbody>\n",
       "\t<tr><th scope=row>1</th><td>41</td><td>190</td><td> 7.4</td><td>67</td><td>5</td><td>1</td></tr>\n",
       "\t<tr><th scope=row>2</th><td>36</td><td>118</td><td> 8.0</td><td>72</td><td>5</td><td>2</td></tr>\n",
       "\t<tr><th scope=row>3</th><td>12</td><td>149</td><td>12.6</td><td>74</td><td>5</td><td>3</td></tr>\n",
       "\t<tr><th scope=row>4</th><td>18</td><td>313</td><td>11.5</td><td>62</td><td>5</td><td>4</td></tr>\n",
       "\t<tr><th scope=row>5</th><td>NA</td><td> NA</td><td>14.3</td><td>56</td><td>5</td><td>5</td></tr>\n",
       "\t<tr><th scope=row>6</th><td>28</td><td> NA</td><td>14.9</td><td>66</td><td>5</td><td>6</td></tr>\n",
       "</tbody>\n",
       "</table>\n"
      ],
      "text/latex": [
       "A data.frame: 6 × 6\n",
       "\\begin{tabular}{r|llllll}\n",
       "  & OZONE & SOLAR.R & WIND & TEMP & MONTH & DAY\\\\\n",
       "  & <int> & <int> & <dbl> & <int> & <int> & <int>\\\\\n",
       "\\hline\n",
       "\t1 & 41 & 190 &  7.4 & 67 & 5 & 1\\\\\n",
       "\t2 & 36 & 118 &  8.0 & 72 & 5 & 2\\\\\n",
       "\t3 & 12 & 149 & 12.6 & 74 & 5 & 3\\\\\n",
       "\t4 & 18 & 313 & 11.5 & 62 & 5 & 4\\\\\n",
       "\t5 & NA &  NA & 14.3 & 56 & 5 & 5\\\\\n",
       "\t6 & 28 &  NA & 14.9 & 66 & 5 & 6\\\\\n",
       "\\end{tabular}\n"
      ],
      "text/markdown": [
       "\n",
       "A data.frame: 6 × 6\n",
       "\n",
       "| <!--/--> | OZONE &lt;int&gt; | SOLAR.R &lt;int&gt; | WIND &lt;dbl&gt; | TEMP &lt;int&gt; | MONTH &lt;int&gt; | DAY &lt;int&gt; |\n",
       "|---|---|---|---|---|---|---|\n",
       "| 1 | 41 | 190 |  7.4 | 67 | 5 | 1 |\n",
       "| 2 | 36 | 118 |  8.0 | 72 | 5 | 2 |\n",
       "| 3 | 12 | 149 | 12.6 | 74 | 5 | 3 |\n",
       "| 4 | 18 | 313 | 11.5 | 62 | 5 | 4 |\n",
       "| 5 | NA |  NA | 14.3 | 56 | 5 | 5 |\n",
       "| 6 | 28 |  NA | 14.9 | 66 | 5 | 6 |\n",
       "\n"
      ],
      "text/plain": [
       "  OZONE SOLAR.R WIND TEMP MONTH DAY\n",
       "1 41    190      7.4 67   5     1  \n",
       "2 36    118      8.0 72   5     2  \n",
       "3 12    149     12.6 74   5     3  \n",
       "4 18    313     11.5 62   5     4  \n",
       "5 NA     NA     14.3 56   5     5  \n",
       "6 28     NA     14.9 66   5     6  "
      ]
     },
     "metadata": {},
     "output_type": "display_data"
    },
    {
     "data": {
      "text/html": [
       "'=============aql'"
      ],
      "text/latex": [
       "'=============aql'"
      ],
      "text/markdown": [
       "'=============aql'"
      ],
      "text/plain": [
       "[1] \"=============aql\""
      ]
     },
     "metadata": {},
     "output_type": "display_data"
    },
    {
     "name": "stderr",
     "output_type": "stream",
     "text": [
      "No id variables; using all as measure variables\n",
      "\n"
     ]
    },
    {
     "data": {
      "text/html": [
       "<table>\n",
       "<caption>A data.frame: 6 × 2</caption>\n",
       "<thead>\n",
       "\t<tr><th></th><th scope=col>variable</th><th scope=col>value</th></tr>\n",
       "\t<tr><th></th><th scope=col>&lt;fct&gt;</th><th scope=col>&lt;dbl&gt;</th></tr>\n",
       "</thead>\n",
       "<tbody>\n",
       "\t<tr><th scope=row>1</th><td>OZONE</td><td>41</td></tr>\n",
       "\t<tr><th scope=row>2</th><td>OZONE</td><td>36</td></tr>\n",
       "\t<tr><th scope=row>3</th><td>OZONE</td><td>12</td></tr>\n",
       "\t<tr><th scope=row>4</th><td>OZONE</td><td>18</td></tr>\n",
       "\t<tr><th scope=row>5</th><td>OZONE</td><td>NA</td></tr>\n",
       "\t<tr><th scope=row>6</th><td>OZONE</td><td>28</td></tr>\n",
       "</tbody>\n",
       "</table>\n"
      ],
      "text/latex": [
       "A data.frame: 6 × 2\n",
       "\\begin{tabular}{r|ll}\n",
       "  & variable & value\\\\\n",
       "  & <fct> & <dbl>\\\\\n",
       "\\hline\n",
       "\t1 & OZONE & 41\\\\\n",
       "\t2 & OZONE & 36\\\\\n",
       "\t3 & OZONE & 12\\\\\n",
       "\t4 & OZONE & 18\\\\\n",
       "\t5 & OZONE & NA\\\\\n",
       "\t6 & OZONE & 28\\\\\n",
       "\\end{tabular}\n"
      ],
      "text/markdown": [
       "\n",
       "A data.frame: 6 × 2\n",
       "\n",
       "| <!--/--> | variable &lt;fct&gt; | value &lt;dbl&gt; |\n",
       "|---|---|---|\n",
       "| 1 | OZONE | 41 |\n",
       "| 2 | OZONE | 36 |\n",
       "| 3 | OZONE | 12 |\n",
       "| 4 | OZONE | 18 |\n",
       "| 5 | OZONE | NA |\n",
       "| 6 | OZONE | 28 |\n",
       "\n"
      ],
      "text/plain": [
       "  variable value\n",
       "1 OZONE    41   \n",
       "2 OZONE    36   \n",
       "3 OZONE    12   \n",
       "4 OZONE    18   \n",
       "5 OZONE    NA   \n",
       "6 OZONE    28   "
      ]
     },
     "metadata": {},
     "output_type": "display_data"
    },
    {
     "data": {
      "text/html": [
       "<table>\n",
       "<caption>A data.frame: 6 × 2</caption>\n",
       "<thead>\n",
       "\t<tr><th></th><th scope=col>variable</th><th scope=col>value</th></tr>\n",
       "\t<tr><th></th><th scope=col>&lt;fct&gt;</th><th scope=col>&lt;dbl&gt;</th></tr>\n",
       "</thead>\n",
       "<tbody>\n",
       "\t<tr><th scope=row>913</th><td>DAY</td><td>25</td></tr>\n",
       "\t<tr><th scope=row>914</th><td>DAY</td><td>26</td></tr>\n",
       "\t<tr><th scope=row>915</th><td>DAY</td><td>27</td></tr>\n",
       "\t<tr><th scope=row>916</th><td>DAY</td><td>28</td></tr>\n",
       "\t<tr><th scope=row>917</th><td>DAY</td><td>29</td></tr>\n",
       "\t<tr><th scope=row>918</th><td>DAY</td><td>30</td></tr>\n",
       "</tbody>\n",
       "</table>\n"
      ],
      "text/latex": [
       "A data.frame: 6 × 2\n",
       "\\begin{tabular}{r|ll}\n",
       "  & variable & value\\\\\n",
       "  & <fct> & <dbl>\\\\\n",
       "\\hline\n",
       "\t913 & DAY & 25\\\\\n",
       "\t914 & DAY & 26\\\\\n",
       "\t915 & DAY & 27\\\\\n",
       "\t916 & DAY & 28\\\\\n",
       "\t917 & DAY & 29\\\\\n",
       "\t918 & DAY & 30\\\\\n",
       "\\end{tabular}\n"
      ],
      "text/markdown": [
       "\n",
       "A data.frame: 6 × 2\n",
       "\n",
       "| <!--/--> | variable &lt;fct&gt; | value &lt;dbl&gt; |\n",
       "|---|---|---|\n",
       "| 913 | DAY | 25 |\n",
       "| 914 | DAY | 26 |\n",
       "| 915 | DAY | 27 |\n",
       "| 916 | DAY | 28 |\n",
       "| 917 | DAY | 29 |\n",
       "| 918 | DAY | 30 |\n",
       "\n"
      ],
      "text/plain": [
       "    variable value\n",
       "913 DAY      25   \n",
       "914 DAY      26   \n",
       "915 DAY      27   \n",
       "916 DAY      28   \n",
       "917 DAY      29   \n",
       "918 DAY      30   "
      ]
     },
     "metadata": {},
     "output_type": "display_data"
    },
    {
     "name": "stdout",
     "output_type": "stream",
     "text": [
      "'data.frame':\t153 obs. of  6 variables:\n",
      " $ OZONE  : int  41 36 12 18 NA 28 23 19 8 NA ...\n",
      " $ SOLAR.R: int  190 118 149 313 NA NA 299 99 19 194 ...\n",
      " $ WIND   : num  7.4 8 12.6 11.5 14.3 14.9 8.6 13.8 20.1 8.6 ...\n",
      " $ TEMP   : int  67 72 74 62 56 66 65 59 61 69 ...\n",
      " $ MONTH  : int  5 5 5 5 5 5 5 5 5 5 ...\n",
      " $ DAY    : int  1 2 3 4 5 6 7 8 9 10 ...\n",
      "'data.frame':\t918 obs. of  2 variables:\n",
      " $ variable: Factor w/ 6 levels \"OZONE\",\"SOLAR.R\",..: 1 1 1 1 1 1 1 1 1 1 ...\n",
      " $ value   : num  41 36 12 18 NA 28 23 19 8 NA ...\n"
     ]
    }
   ],
   "source": [
    "\"=============airquality\"\n",
    "head(airquality)\n",
    "\"=============aql\"\n",
    "aql <- melt(airquality) \n",
    "head(aql)\n",
    "tail(aql)\n",
    "str(airquality)\n",
    "str(aql)"
   ]
  },
  {
   "cell_type": "code",
   "execution_count": 29,
   "metadata": {
    "scrolled": false
   },
   "outputs": [
    {
     "name": "stderr",
     "output_type": "stream",
     "text": [
      "\n",
      "Attaching package: ‘dplyr’\n",
      "\n",
      "\n",
      "The following objects are masked from ‘package:stats’:\n",
      "\n",
      "    filter, lag\n",
      "\n",
      "\n",
      "The following objects are masked from ‘package:base’:\n",
      "\n",
      "    intersect, setdiff, setequal, union\n",
      "\n",
      "\n"
     ]
    },
    {
     "data": {
      "text/html": [
       "<table>\n",
       "<caption>A data.frame: 6 × 6</caption>\n",
       "<thead>\n",
       "\t<tr><th></th><th scope=col>OZONE</th><th scope=col>SOLAR.R</th><th scope=col>WIND</th><th scope=col>TEMP</th><th scope=col>MONTH</th><th scope=col>DAY</th></tr>\n",
       "\t<tr><th></th><th scope=col>&lt;int&gt;</th><th scope=col>&lt;int&gt;</th><th scope=col>&lt;dbl&gt;</th><th scope=col>&lt;int&gt;</th><th scope=col>&lt;int&gt;</th><th scope=col>&lt;int&gt;</th></tr>\n",
       "</thead>\n",
       "<tbody>\n",
       "\t<tr><th scope=row>1</th><td>41</td><td>190</td><td> 7.4</td><td>67</td><td>5</td><td>1</td></tr>\n",
       "\t<tr><th scope=row>2</th><td>36</td><td>118</td><td> 8.0</td><td>72</td><td>5</td><td>2</td></tr>\n",
       "\t<tr><th scope=row>3</th><td>12</td><td>149</td><td>12.6</td><td>74</td><td>5</td><td>3</td></tr>\n",
       "\t<tr><th scope=row>4</th><td>18</td><td>313</td><td>11.5</td><td>62</td><td>5</td><td>4</td></tr>\n",
       "\t<tr><th scope=row>5</th><td>NA</td><td> NA</td><td>14.3</td><td>56</td><td>5</td><td>5</td></tr>\n",
       "\t<tr><th scope=row>6</th><td>28</td><td> NA</td><td>14.9</td><td>66</td><td>5</td><td>6</td></tr>\n",
       "</tbody>\n",
       "</table>\n"
      ],
      "text/latex": [
       "A data.frame: 6 × 6\n",
       "\\begin{tabular}{r|llllll}\n",
       "  & OZONE & SOLAR.R & WIND & TEMP & MONTH & DAY\\\\\n",
       "  & <int> & <int> & <dbl> & <int> & <int> & <int>\\\\\n",
       "\\hline\n",
       "\t1 & 41 & 190 &  7.4 & 67 & 5 & 1\\\\\n",
       "\t2 & 36 & 118 &  8.0 & 72 & 5 & 2\\\\\n",
       "\t3 & 12 & 149 & 12.6 & 74 & 5 & 3\\\\\n",
       "\t4 & 18 & 313 & 11.5 & 62 & 5 & 4\\\\\n",
       "\t5 & NA &  NA & 14.3 & 56 & 5 & 5\\\\\n",
       "\t6 & 28 &  NA & 14.9 & 66 & 5 & 6\\\\\n",
       "\\end{tabular}\n"
      ],
      "text/markdown": [
       "\n",
       "A data.frame: 6 × 6\n",
       "\n",
       "| <!--/--> | OZONE &lt;int&gt; | SOLAR.R &lt;int&gt; | WIND &lt;dbl&gt; | TEMP &lt;int&gt; | MONTH &lt;int&gt; | DAY &lt;int&gt; |\n",
       "|---|---|---|---|---|---|---|\n",
       "| 1 | 41 | 190 |  7.4 | 67 | 5 | 1 |\n",
       "| 2 | 36 | 118 |  8.0 | 72 | 5 | 2 |\n",
       "| 3 | 12 | 149 | 12.6 | 74 | 5 | 3 |\n",
       "| 4 | 18 | 313 | 11.5 | 62 | 5 | 4 |\n",
       "| 5 | NA |  NA | 14.3 | 56 | 5 | 5 |\n",
       "| 6 | 28 |  NA | 14.9 | 66 | 5 | 6 |\n",
       "\n"
      ],
      "text/plain": [
       "  OZONE SOLAR.R WIND TEMP MONTH DAY\n",
       "1 41    190      7.4 67   5     1  \n",
       "2 36    118      8.0 72   5     2  \n",
       "3 12    149     12.6 74   5     3  \n",
       "4 18    313     11.5 62   5     4  \n",
       "5 NA     NA     14.3 56   5     5  \n",
       "6 28     NA     14.9 66   5     6  "
      ]
     },
     "metadata": {},
     "output_type": "display_data"
    },
    {
     "data": {
      "text/html": [
       "<table>\n",
       "<caption>A data.frame: 1 × 6</caption>\n",
       "<thead>\n",
       "\t<tr><th></th><th scope=col>OZONE</th><th scope=col>SOLAR.R</th><th scope=col>WIND</th><th scope=col>TEMP</th><th scope=col>MONTH</th><th scope=col>DAY</th></tr>\n",
       "\t<tr><th></th><th scope=col>&lt;int&gt;</th><th scope=col>&lt;int&gt;</th><th scope=col>&lt;dbl&gt;</th><th scope=col>&lt;int&gt;</th><th scope=col>&lt;int&gt;</th><th scope=col>&lt;int&gt;</th></tr>\n",
       "</thead>\n",
       "<tbody>\n",
       "\t<tr><th scope=row>1</th><td>41</td><td>190</td><td>7.4</td><td>67</td><td>5</td><td>1</td></tr>\n",
       "</tbody>\n",
       "</table>\n"
      ],
      "text/latex": [
       "A data.frame: 1 × 6\n",
       "\\begin{tabular}{r|llllll}\n",
       "  & OZONE & SOLAR.R & WIND & TEMP & MONTH & DAY\\\\\n",
       "  & <int> & <int> & <dbl> & <int> & <int> & <int>\\\\\n",
       "\\hline\n",
       "\t1 & 41 & 190 & 7.4 & 67 & 5 & 1\\\\\n",
       "\\end{tabular}\n"
      ],
      "text/markdown": [
       "\n",
       "A data.frame: 1 × 6\n",
       "\n",
       "| <!--/--> | OZONE &lt;int&gt; | SOLAR.R &lt;int&gt; | WIND &lt;dbl&gt; | TEMP &lt;int&gt; | MONTH &lt;int&gt; | DAY &lt;int&gt; |\n",
       "|---|---|---|---|---|---|---|\n",
       "| 1 | 41 | 190 | 7.4 | 67 | 5 | 1 |\n",
       "\n"
      ],
      "text/plain": [
       "  OZONE SOLAR.R WIND TEMP MONTH DAY\n",
       "1 41    190     7.4  67   5     1  "
      ]
     },
     "metadata": {},
     "output_type": "display_data"
    },
    {
     "data": {
      "text/html": [
       "<table>\n",
       "<caption>A data.frame: 1 × 6</caption>\n",
       "<thead>\n",
       "\t<tr><th scope=col>OZONE</th><th scope=col>SOLAR.R</th><th scope=col>WIND</th><th scope=col>TEMP</th><th scope=col>MONTH</th><th scope=col>DAY</th></tr>\n",
       "\t<tr><th scope=col>&lt;int&gt;</th><th scope=col>&lt;int&gt;</th><th scope=col>&lt;dbl&gt;</th><th scope=col>&lt;int&gt;</th><th scope=col>&lt;int&gt;</th><th scope=col>&lt;int&gt;</th></tr>\n",
       "</thead>\n",
       "<tbody>\n",
       "\t<tr><td>41</td><td>190</td><td>7.4</td><td>67</td><td>5</td><td>1</td></tr>\n",
       "</tbody>\n",
       "</table>\n"
      ],
      "text/latex": [
       "A data.frame: 1 × 6\n",
       "\\begin{tabular}{llllll}\n",
       " OZONE & SOLAR.R & WIND & TEMP & MONTH & DAY\\\\\n",
       " <int> & <int> & <dbl> & <int> & <int> & <int>\\\\\n",
       "\\hline\n",
       "\t 41 & 190 & 7.4 & 67 & 5 & 1\\\\\n",
       "\\end{tabular}\n"
      ],
      "text/markdown": [
       "\n",
       "A data.frame: 1 × 6\n",
       "\n",
       "| OZONE &lt;int&gt; | SOLAR.R &lt;int&gt; | WIND &lt;dbl&gt; | TEMP &lt;int&gt; | MONTH &lt;int&gt; | DAY &lt;int&gt; |\n",
       "|---|---|---|---|---|---|\n",
       "| 41 | 190 | 7.4 | 67 | 5 | 1 |\n",
       "\n"
      ],
      "text/plain": [
       "  OZONE SOLAR.R WIND TEMP MONTH DAY\n",
       "1 41    190     7.4  67   5     1  "
      ]
     },
     "metadata": {},
     "output_type": "display_data"
    },
    {
     "data": {
      "text/html": [
       "<table>\n",
       "<caption>A data.frame: 4 × 4</caption>\n",
       "<thead>\n",
       "\t<tr><th></th><th scope=col>MONTH</th><th scope=col>DAY</th><th scope=col>variable</th><th scope=col>value</th></tr>\n",
       "\t<tr><th></th><th scope=col>&lt;int&gt;</th><th scope=col>&lt;int&gt;</th><th scope=col>&lt;fct&gt;</th><th scope=col>&lt;dbl&gt;</th></tr>\n",
       "</thead>\n",
       "<tbody>\n",
       "\t<tr><th scope=row>1</th><td>5</td><td>1</td><td>OZONE  </td><td> 41.0</td></tr>\n",
       "\t<tr><th scope=row>154</th><td>5</td><td>1</td><td>SOLAR.R</td><td>190.0</td></tr>\n",
       "\t<tr><th scope=row>307</th><td>5</td><td>1</td><td>WIND   </td><td>  7.4</td></tr>\n",
       "\t<tr><th scope=row>460</th><td>5</td><td>1</td><td>TEMP   </td><td> 67.0</td></tr>\n",
       "</tbody>\n",
       "</table>\n"
      ],
      "text/latex": [
       "A data.frame: 4 × 4\n",
       "\\begin{tabular}{r|llll}\n",
       "  & MONTH & DAY & variable & value\\\\\n",
       "  & <int> & <int> & <fct> & <dbl>\\\\\n",
       "\\hline\n",
       "\t1 & 5 & 1 & OZONE   &  41.0\\\\\n",
       "\t154 & 5 & 1 & SOLAR.R & 190.0\\\\\n",
       "\t307 & 5 & 1 & WIND    &   7.4\\\\\n",
       "\t460 & 5 & 1 & TEMP    &  67.0\\\\\n",
       "\\end{tabular}\n"
      ],
      "text/markdown": [
       "\n",
       "A data.frame: 4 × 4\n",
       "\n",
       "| <!--/--> | MONTH &lt;int&gt; | DAY &lt;int&gt; | variable &lt;fct&gt; | value &lt;dbl&gt; |\n",
       "|---|---|---|---|---|\n",
       "| 1 | 5 | 1 | OZONE   |  41.0 |\n",
       "| 154 | 5 | 1 | SOLAR.R | 190.0 |\n",
       "| 307 | 5 | 1 | WIND    |   7.4 |\n",
       "| 460 | 5 | 1 | TEMP    |  67.0 |\n",
       "\n"
      ],
      "text/plain": [
       "    MONTH DAY variable value\n",
       "1   5     1   OZONE     41.0\n",
       "154 5     1   SOLAR.R  190.0\n",
       "307 5     1   WIND       7.4\n",
       "460 5     1   TEMP      67.0"
      ]
     },
     "metadata": {},
     "output_type": "display_data"
    }
   ],
   "source": [
    "library(dplyr)\n",
    "head(airquality)\n",
    "subset(airquality, MONTH==5 & DAY==1)\n",
    "filter(airquality, MONTH==5 & DAY==1) #filter is faster than subset when data set is over 15000 or so\n",
    "aql=melt(airquality, id.vars=c('MONTH', 'DAY')) \n",
    "# aql\n",
    "subset(aql, MONTH==5 & DAY==1)"
   ]
  },
  {
   "cell_type": "code",
   "execution_count": 30,
   "metadata": {},
   "outputs": [
    {
     "data": {
      "text/html": [
       "<table>\n",
       "<caption>A tibble: 6 × 11</caption>\n",
       "<thead>\n",
       "\t<tr><th scope=col>name</th><th scope=col>genus</th><th scope=col>vore</th><th scope=col>order</th><th scope=col>conservation</th><th scope=col>sleep_total</th><th scope=col>sleep_rem</th><th scope=col>sleep_cycle</th><th scope=col>awake</th><th scope=col>brainwt</th><th scope=col>bodywt</th></tr>\n",
       "\t<tr><th scope=col>&lt;chr&gt;</th><th scope=col>&lt;chr&gt;</th><th scope=col>&lt;chr&gt;</th><th scope=col>&lt;chr&gt;</th><th scope=col>&lt;chr&gt;</th><th scope=col>&lt;dbl&gt;</th><th scope=col>&lt;dbl&gt;</th><th scope=col>&lt;dbl&gt;</th><th scope=col>&lt;dbl&gt;</th><th scope=col>&lt;dbl&gt;</th><th scope=col>&lt;dbl&gt;</th></tr>\n",
       "</thead>\n",
       "<tbody>\n",
       "\t<tr><td>Cheetah                   </td><td>Acinonyx  </td><td>carni</td><td>Carnivora   </td><td>lc          </td><td>12.1</td><td> NA</td><td>       NA</td><td>11.9</td><td>     NA</td><td> 50.000</td></tr>\n",
       "\t<tr><td>Owl monkey                </td><td>Aotus     </td><td>omni </td><td>Primates    </td><td>NA          </td><td>17.0</td><td>1.8</td><td>       NA</td><td> 7.0</td><td>0.01550</td><td>  0.480</td></tr>\n",
       "\t<tr><td>Mountain beaver           </td><td>Aplodontia</td><td>herbi</td><td>Rodentia    </td><td>nt          </td><td>14.4</td><td>2.4</td><td>       NA</td><td> 9.6</td><td>     NA</td><td>  1.350</td></tr>\n",
       "\t<tr><td>Greater short-tailed shrew</td><td>Blarina   </td><td>omni </td><td>Soricomorpha</td><td>lc          </td><td>14.9</td><td>2.3</td><td>0.1333333</td><td> 9.1</td><td>0.00029</td><td>  0.019</td></tr>\n",
       "\t<tr><td>Cow                       </td><td>Bos       </td><td>herbi</td><td>Artiodactyla</td><td>domesticated</td><td> 4.0</td><td>0.7</td><td>0.6666667</td><td>20.0</td><td>0.42300</td><td>600.000</td></tr>\n",
       "\t<tr><td>Three-toed sloth          </td><td>Bradypus  </td><td>herbi</td><td>Pilosa      </td><td>NA          </td><td>14.4</td><td>2.2</td><td>0.7666667</td><td> 9.6</td><td>     NA</td><td>  3.850</td></tr>\n",
       "</tbody>\n",
       "</table>\n"
      ],
      "text/latex": [
       "A tibble: 6 × 11\n",
       "\\begin{tabular}{lllllllllll}\n",
       " name & genus & vore & order & conservation & sleep\\_total & sleep\\_rem & sleep\\_cycle & awake & brainwt & bodywt\\\\\n",
       " <chr> & <chr> & <chr> & <chr> & <chr> & <dbl> & <dbl> & <dbl> & <dbl> & <dbl> & <dbl>\\\\\n",
       "\\hline\n",
       "\t Cheetah                    & Acinonyx   & carni & Carnivora    & lc           & 12.1 &  NA &        NA & 11.9 &      NA &  50.000\\\\\n",
       "\t Owl monkey                 & Aotus      & omni  & Primates     & NA           & 17.0 & 1.8 &        NA &  7.0 & 0.01550 &   0.480\\\\\n",
       "\t Mountain beaver            & Aplodontia & herbi & Rodentia     & nt           & 14.4 & 2.4 &        NA &  9.6 &      NA &   1.350\\\\\n",
       "\t Greater short-tailed shrew & Blarina    & omni  & Soricomorpha & lc           & 14.9 & 2.3 & 0.1333333 &  9.1 & 0.00029 &   0.019\\\\\n",
       "\t Cow                        & Bos        & herbi & Artiodactyla & domesticated &  4.0 & 0.7 & 0.6666667 & 20.0 & 0.42300 & 600.000\\\\\n",
       "\t Three-toed sloth           & Bradypus   & herbi & Pilosa       & NA           & 14.4 & 2.2 & 0.7666667 &  9.6 &      NA &   3.850\\\\\n",
       "\\end{tabular}\n"
      ],
      "text/markdown": [
       "\n",
       "A tibble: 6 × 11\n",
       "\n",
       "| name &lt;chr&gt; | genus &lt;chr&gt; | vore &lt;chr&gt; | order &lt;chr&gt; | conservation &lt;chr&gt; | sleep_total &lt;dbl&gt; | sleep_rem &lt;dbl&gt; | sleep_cycle &lt;dbl&gt; | awake &lt;dbl&gt; | brainwt &lt;dbl&gt; | bodywt &lt;dbl&gt; |\n",
       "|---|---|---|---|---|---|---|---|---|---|---|\n",
       "| Cheetah                    | Acinonyx   | carni | Carnivora    | lc           | 12.1 |  NA |        NA | 11.9 |      NA |  50.000 |\n",
       "| Owl monkey                 | Aotus      | omni  | Primates     | NA           | 17.0 | 1.8 |        NA |  7.0 | 0.01550 |   0.480 |\n",
       "| Mountain beaver            | Aplodontia | herbi | Rodentia     | nt           | 14.4 | 2.4 |        NA |  9.6 |      NA |   1.350 |\n",
       "| Greater short-tailed shrew | Blarina    | omni  | Soricomorpha | lc           | 14.9 | 2.3 | 0.1333333 |  9.1 | 0.00029 |   0.019 |\n",
       "| Cow                        | Bos        | herbi | Artiodactyla | domesticated |  4.0 | 0.7 | 0.6666667 | 20.0 | 0.42300 | 600.000 |\n",
       "| Three-toed sloth           | Bradypus   | herbi | Pilosa       | NA           | 14.4 | 2.2 | 0.7666667 |  9.6 |      NA |   3.850 |\n",
       "\n"
      ],
      "text/plain": [
       "  name                       genus      vore  order        conservation\n",
       "1 Cheetah                    Acinonyx   carni Carnivora    lc          \n",
       "2 Owl monkey                 Aotus      omni  Primates     NA          \n",
       "3 Mountain beaver            Aplodontia herbi Rodentia     nt          \n",
       "4 Greater short-tailed shrew Blarina    omni  Soricomorpha lc          \n",
       "5 Cow                        Bos        herbi Artiodactyla domesticated\n",
       "6 Three-toed sloth           Bradypus   herbi Pilosa       NA          \n",
       "  sleep_total sleep_rem sleep_cycle awake brainwt bodywt \n",
       "1 12.1         NA              NA   11.9       NA  50.000\n",
       "2 17.0        1.8              NA    7.0  0.01550   0.480\n",
       "3 14.4        2.4              NA    9.6       NA   1.350\n",
       "4 14.9        2.3       0.1333333    9.1  0.00029   0.019\n",
       "5  4.0        0.7       0.6666667   20.0  0.42300 600.000\n",
       "6 14.4        2.2       0.7666667    9.6       NA   3.850"
      ]
     },
     "metadata": {},
     "output_type": "display_data"
    }
   ],
   "source": [
    "library(ggplot2)\n",
    "head(msleep)"
   ]
  },
  {
   "cell_type": "code",
   "execution_count": 31,
   "metadata": {},
   "outputs": [
    {
     "name": "stderr",
     "output_type": "stream",
     "text": [
      "Using name, genus, vore, order, conservation as id variables\n",
      "\n"
     ]
    },
    {
     "data": {
      "text/html": [
       "<table>\n",
       "<caption>A data.frame: 498 × 7</caption>\n",
       "<thead>\n",
       "\t<tr><th scope=col>name</th><th scope=col>genus</th><th scope=col>vore</th><th scope=col>order</th><th scope=col>conservation</th><th scope=col>variable</th><th scope=col>value</th></tr>\n",
       "\t<tr><th scope=col>&lt;chr&gt;</th><th scope=col>&lt;chr&gt;</th><th scope=col>&lt;chr&gt;</th><th scope=col>&lt;chr&gt;</th><th scope=col>&lt;chr&gt;</th><th scope=col>&lt;fct&gt;</th><th scope=col>&lt;dbl&gt;</th></tr>\n",
       "</thead>\n",
       "<tbody>\n",
       "\t<tr><td>Cheetah                   </td><td>Acinonyx     </td><td>carni  </td><td>Carnivora      </td><td>lc          </td><td>sleep_total</td><td>12.1</td></tr>\n",
       "\t<tr><td>Owl monkey                </td><td>Aotus        </td><td>omni   </td><td>Primates       </td><td>NA          </td><td>sleep_total</td><td>17.0</td></tr>\n",
       "\t<tr><td>Mountain beaver           </td><td>Aplodontia   </td><td>herbi  </td><td>Rodentia       </td><td>nt          </td><td>sleep_total</td><td>14.4</td></tr>\n",
       "\t<tr><td>Greater short-tailed shrew</td><td>Blarina      </td><td>omni   </td><td>Soricomorpha   </td><td>lc          </td><td>sleep_total</td><td>14.9</td></tr>\n",
       "\t<tr><td>Cow                       </td><td>Bos          </td><td>herbi  </td><td>Artiodactyla   </td><td>domesticated</td><td>sleep_total</td><td> 4.0</td></tr>\n",
       "\t<tr><td>Three-toed sloth          </td><td>Bradypus     </td><td>herbi  </td><td>Pilosa         </td><td>NA          </td><td>sleep_total</td><td>14.4</td></tr>\n",
       "\t<tr><td>Northern fur seal         </td><td>Callorhinus  </td><td>carni  </td><td>Carnivora      </td><td>vu          </td><td>sleep_total</td><td> 8.7</td></tr>\n",
       "\t<tr><td>Vesper mouse              </td><td>Calomys      </td><td>NA     </td><td>Rodentia       </td><td>NA          </td><td>sleep_total</td><td> 7.0</td></tr>\n",
       "\t<tr><td>Dog                       </td><td>Canis        </td><td>carni  </td><td>Carnivora      </td><td>domesticated</td><td>sleep_total</td><td>10.1</td></tr>\n",
       "\t<tr><td>Roe deer                  </td><td>Capreolus    </td><td>herbi  </td><td>Artiodactyla   </td><td>lc          </td><td>sleep_total</td><td> 3.0</td></tr>\n",
       "\t<tr><td>Goat                      </td><td>Capri        </td><td>herbi  </td><td>Artiodactyla   </td><td>lc          </td><td>sleep_total</td><td> 5.3</td></tr>\n",
       "\t<tr><td>Guinea pig                </td><td>Cavis        </td><td>herbi  </td><td>Rodentia       </td><td>domesticated</td><td>sleep_total</td><td> 9.4</td></tr>\n",
       "\t<tr><td>Grivet                    </td><td>Cercopithecus</td><td>omni   </td><td>Primates       </td><td>lc          </td><td>sleep_total</td><td>10.0</td></tr>\n",
       "\t<tr><td>Chinchilla                </td><td>Chinchilla   </td><td>herbi  </td><td>Rodentia       </td><td>domesticated</td><td>sleep_total</td><td>12.5</td></tr>\n",
       "\t<tr><td>Star-nosed mole           </td><td>Condylura    </td><td>omni   </td><td>Soricomorpha   </td><td>lc          </td><td>sleep_total</td><td>10.3</td></tr>\n",
       "\t<tr><td>African giant pouched rat </td><td>Cricetomys   </td><td>omni   </td><td>Rodentia       </td><td>NA          </td><td>sleep_total</td><td> 8.3</td></tr>\n",
       "\t<tr><td>Lesser short-tailed shrew </td><td>Cryptotis    </td><td>omni   </td><td>Soricomorpha   </td><td>lc          </td><td>sleep_total</td><td> 9.1</td></tr>\n",
       "\t<tr><td>Long-nosed armadillo      </td><td>Dasypus      </td><td>carni  </td><td>Cingulata      </td><td>lc          </td><td>sleep_total</td><td>17.4</td></tr>\n",
       "\t<tr><td>Tree hyrax                </td><td>Dendrohyrax  </td><td>herbi  </td><td>Hyracoidea     </td><td>lc          </td><td>sleep_total</td><td> 5.3</td></tr>\n",
       "\t<tr><td>North American Opossum    </td><td>Didelphis    </td><td>omni   </td><td>Didelphimorphia</td><td>lc          </td><td>sleep_total</td><td>18.0</td></tr>\n",
       "\t<tr><td>Asian elephant            </td><td>Elephas      </td><td>herbi  </td><td>Proboscidea    </td><td>en          </td><td>sleep_total</td><td> 3.9</td></tr>\n",
       "\t<tr><td>Big brown bat             </td><td>Eptesicus    </td><td>insecti</td><td>Chiroptera     </td><td>lc          </td><td>sleep_total</td><td>19.7</td></tr>\n",
       "\t<tr><td>Horse                     </td><td>Equus        </td><td>herbi  </td><td>Perissodactyla </td><td>domesticated</td><td>sleep_total</td><td> 2.9</td></tr>\n",
       "\t<tr><td>Donkey                    </td><td>Equus        </td><td>herbi  </td><td>Perissodactyla </td><td>domesticated</td><td>sleep_total</td><td> 3.1</td></tr>\n",
       "\t<tr><td>European hedgehog         </td><td>Erinaceus    </td><td>omni   </td><td>Erinaceomorpha </td><td>lc          </td><td>sleep_total</td><td>10.1</td></tr>\n",
       "\t<tr><td>Patas monkey              </td><td>Erythrocebus </td><td>omni   </td><td>Primates       </td><td>lc          </td><td>sleep_total</td><td>10.9</td></tr>\n",
       "\t<tr><td>Western american chipmunk </td><td>Eutamias     </td><td>herbi  </td><td>Rodentia       </td><td>NA          </td><td>sleep_total</td><td>14.9</td></tr>\n",
       "\t<tr><td>Domestic cat              </td><td>Felis        </td><td>carni  </td><td>Carnivora      </td><td>domesticated</td><td>sleep_total</td><td>12.5</td></tr>\n",
       "\t<tr><td>Galago                    </td><td>Galago       </td><td>omni   </td><td>Primates       </td><td>NA          </td><td>sleep_total</td><td> 9.8</td></tr>\n",
       "\t<tr><td>Giraffe                   </td><td>Giraffa      </td><td>herbi  </td><td>Artiodactyla   </td><td>cd          </td><td>sleep_total</td><td> 1.9</td></tr>\n",
       "\t<tr><td>⋮</td><td>⋮</td><td>⋮</td><td>⋮</td><td>⋮</td><td>⋮</td><td>⋮</td></tr>\n",
       "\t<tr><td>Baboon                        </td><td>Papio       </td><td>omni   </td><td>Primates      </td><td>NA          </td><td>bodywt</td><td> 25.235</td></tr>\n",
       "\t<tr><td>Desert hedgehog               </td><td>Paraechinus </td><td>NA     </td><td>Erinaceomorpha</td><td>lc          </td><td>bodywt</td><td>  0.550</td></tr>\n",
       "\t<tr><td>Potto                         </td><td>Perodicticus</td><td>omni   </td><td>Primates      </td><td>lc          </td><td>bodywt</td><td>  1.100</td></tr>\n",
       "\t<tr><td>Deer mouse                    </td><td>Peromyscus  </td><td>NA     </td><td>Rodentia      </td><td>NA          </td><td>bodywt</td><td>  0.021</td></tr>\n",
       "\t<tr><td>Phalanger                     </td><td>Phalanger   </td><td>NA     </td><td>Diprotodontia </td><td>NA          </td><td>bodywt</td><td>  1.620</td></tr>\n",
       "\t<tr><td>Caspian seal                  </td><td>Phoca       </td><td>carni  </td><td>Carnivora     </td><td>vu          </td><td>bodywt</td><td> 86.000</td></tr>\n",
       "\t<tr><td>Common porpoise               </td><td>Phocoena    </td><td>carni  </td><td>Cetacea       </td><td>vu          </td><td>bodywt</td><td> 53.180</td></tr>\n",
       "\t<tr><td>Potoroo                       </td><td>Potorous    </td><td>herbi  </td><td>Diprotodontia </td><td>NA          </td><td>bodywt</td><td>  1.100</td></tr>\n",
       "\t<tr><td>Giant armadillo               </td><td>Priodontes  </td><td>insecti</td><td>Cingulata     </td><td>en          </td><td>bodywt</td><td> 60.000</td></tr>\n",
       "\t<tr><td>Rock hyrax                    </td><td>Procavia    </td><td>NA     </td><td>Hyracoidea    </td><td>lc          </td><td>bodywt</td><td>  3.600</td></tr>\n",
       "\t<tr><td>Laboratory rat                </td><td>Rattus      </td><td>herbi  </td><td>Rodentia      </td><td>lc          </td><td>bodywt</td><td>  0.320</td></tr>\n",
       "\t<tr><td>African striped mouse         </td><td>Rhabdomys   </td><td>omni   </td><td>Rodentia      </td><td>NA          </td><td>bodywt</td><td>  0.044</td></tr>\n",
       "\t<tr><td>Squirrel monkey               </td><td>Saimiri     </td><td>omni   </td><td>Primates      </td><td>NA          </td><td>bodywt</td><td>  0.743</td></tr>\n",
       "\t<tr><td>Eastern american mole         </td><td>Scalopus    </td><td>insecti</td><td>Soricomorpha  </td><td>lc          </td><td>bodywt</td><td>  0.075</td></tr>\n",
       "\t<tr><td>Cotton rat                    </td><td>Sigmodon    </td><td>herbi  </td><td>Rodentia      </td><td>NA          </td><td>bodywt</td><td>  0.148</td></tr>\n",
       "\t<tr><td>Mole rat                      </td><td>Spalax      </td><td>NA     </td><td>Rodentia      </td><td>NA          </td><td>bodywt</td><td>  0.122</td></tr>\n",
       "\t<tr><td>Arctic ground squirrel        </td><td>Spermophilus</td><td>herbi  </td><td>Rodentia      </td><td>lc          </td><td>bodywt</td><td>  0.920</td></tr>\n",
       "\t<tr><td>Thirteen-lined ground squirrel</td><td>Spermophilus</td><td>herbi  </td><td>Rodentia      </td><td>lc          </td><td>bodywt</td><td>  0.101</td></tr>\n",
       "\t<tr><td>Golden-mantled ground squirrel</td><td>Spermophilus</td><td>herbi  </td><td>Rodentia      </td><td>lc          </td><td>bodywt</td><td>  0.205</td></tr>\n",
       "\t<tr><td>Musk shrew                    </td><td>Suncus      </td><td>NA     </td><td>Soricomorpha  </td><td>NA          </td><td>bodywt</td><td>  0.048</td></tr>\n",
       "\t<tr><td>Pig                           </td><td>Sus         </td><td>omni   </td><td>Artiodactyla  </td><td>domesticated</td><td>bodywt</td><td> 86.250</td></tr>\n",
       "\t<tr><td>Short-nosed echidna           </td><td>Tachyglossus</td><td>insecti</td><td>Monotremata   </td><td>NA          </td><td>bodywt</td><td>  4.500</td></tr>\n",
       "\t<tr><td>Eastern american chipmunk     </td><td>Tamias      </td><td>herbi  </td><td>Rodentia      </td><td>NA          </td><td>bodywt</td><td>  0.112</td></tr>\n",
       "\t<tr><td>Brazilian tapir               </td><td>Tapirus     </td><td>herbi  </td><td>Perissodactyla</td><td>vu          </td><td>bodywt</td><td>207.501</td></tr>\n",
       "\t<tr><td>Tenrec                        </td><td>Tenrec      </td><td>omni   </td><td>Afrosoricida  </td><td>NA          </td><td>bodywt</td><td>  0.900</td></tr>\n",
       "\t<tr><td>Tree shrew                    </td><td>Tupaia      </td><td>omni   </td><td>Scandentia    </td><td>NA          </td><td>bodywt</td><td>  0.104</td></tr>\n",
       "\t<tr><td>Bottle-nosed dolphin          </td><td>Tursiops    </td><td>carni  </td><td>Cetacea       </td><td>NA          </td><td>bodywt</td><td>173.330</td></tr>\n",
       "\t<tr><td>Genet                         </td><td>Genetta     </td><td>carni  </td><td>Carnivora     </td><td>NA          </td><td>bodywt</td><td>  2.000</td></tr>\n",
       "\t<tr><td>Arctic fox                    </td><td>Vulpes      </td><td>carni  </td><td>Carnivora     </td><td>NA          </td><td>bodywt</td><td>  3.380</td></tr>\n",
       "\t<tr><td>Red fox                       </td><td>Vulpes      </td><td>carni  </td><td>Carnivora     </td><td>NA          </td><td>bodywt</td><td>  4.230</td></tr>\n",
       "</tbody>\n",
       "</table>\n"
      ],
      "text/latex": [
       "A data.frame: 498 × 7\n",
       "\\begin{tabular}{lllllll}\n",
       " name & genus & vore & order & conservation & variable & value\\\\\n",
       " <chr> & <chr> & <chr> & <chr> & <chr> & <fct> & <dbl>\\\\\n",
       "\\hline\n",
       "\t Cheetah                    & Acinonyx      & carni   & Carnivora       & lc           & sleep\\_total & 12.1\\\\\n",
       "\t Owl monkey                 & Aotus         & omni    & Primates        & NA           & sleep\\_total & 17.0\\\\\n",
       "\t Mountain beaver            & Aplodontia    & herbi   & Rodentia        & nt           & sleep\\_total & 14.4\\\\\n",
       "\t Greater short-tailed shrew & Blarina       & omni    & Soricomorpha    & lc           & sleep\\_total & 14.9\\\\\n",
       "\t Cow                        & Bos           & herbi   & Artiodactyla    & domesticated & sleep\\_total &  4.0\\\\\n",
       "\t Three-toed sloth           & Bradypus      & herbi   & Pilosa          & NA           & sleep\\_total & 14.4\\\\\n",
       "\t Northern fur seal          & Callorhinus   & carni   & Carnivora       & vu           & sleep\\_total &  8.7\\\\\n",
       "\t Vesper mouse               & Calomys       & NA      & Rodentia        & NA           & sleep\\_total &  7.0\\\\\n",
       "\t Dog                        & Canis         & carni   & Carnivora       & domesticated & sleep\\_total & 10.1\\\\\n",
       "\t Roe deer                   & Capreolus     & herbi   & Artiodactyla    & lc           & sleep\\_total &  3.0\\\\\n",
       "\t Goat                       & Capri         & herbi   & Artiodactyla    & lc           & sleep\\_total &  5.3\\\\\n",
       "\t Guinea pig                 & Cavis         & herbi   & Rodentia        & domesticated & sleep\\_total &  9.4\\\\\n",
       "\t Grivet                     & Cercopithecus & omni    & Primates        & lc           & sleep\\_total & 10.0\\\\\n",
       "\t Chinchilla                 & Chinchilla    & herbi   & Rodentia        & domesticated & sleep\\_total & 12.5\\\\\n",
       "\t Star-nosed mole            & Condylura     & omni    & Soricomorpha    & lc           & sleep\\_total & 10.3\\\\\n",
       "\t African giant pouched rat  & Cricetomys    & omni    & Rodentia        & NA           & sleep\\_total &  8.3\\\\\n",
       "\t Lesser short-tailed shrew  & Cryptotis     & omni    & Soricomorpha    & lc           & sleep\\_total &  9.1\\\\\n",
       "\t Long-nosed armadillo       & Dasypus       & carni   & Cingulata       & lc           & sleep\\_total & 17.4\\\\\n",
       "\t Tree hyrax                 & Dendrohyrax   & herbi   & Hyracoidea      & lc           & sleep\\_total &  5.3\\\\\n",
       "\t North American Opossum     & Didelphis     & omni    & Didelphimorphia & lc           & sleep\\_total & 18.0\\\\\n",
       "\t Asian elephant             & Elephas       & herbi   & Proboscidea     & en           & sleep\\_total &  3.9\\\\\n",
       "\t Big brown bat              & Eptesicus     & insecti & Chiroptera      & lc           & sleep\\_total & 19.7\\\\\n",
       "\t Horse                      & Equus         & herbi   & Perissodactyla  & domesticated & sleep\\_total &  2.9\\\\\n",
       "\t Donkey                     & Equus         & herbi   & Perissodactyla  & domesticated & sleep\\_total &  3.1\\\\\n",
       "\t European hedgehog          & Erinaceus     & omni    & Erinaceomorpha  & lc           & sleep\\_total & 10.1\\\\\n",
       "\t Patas monkey               & Erythrocebus  & omni    & Primates        & lc           & sleep\\_total & 10.9\\\\\n",
       "\t Western american chipmunk  & Eutamias      & herbi   & Rodentia        & NA           & sleep\\_total & 14.9\\\\\n",
       "\t Domestic cat               & Felis         & carni   & Carnivora       & domesticated & sleep\\_total & 12.5\\\\\n",
       "\t Galago                     & Galago        & omni    & Primates        & NA           & sleep\\_total &  9.8\\\\\n",
       "\t Giraffe                    & Giraffa       & herbi   & Artiodactyla    & cd           & sleep\\_total &  1.9\\\\\n",
       "\t ⋮ & ⋮ & ⋮ & ⋮ & ⋮ & ⋮ & ⋮\\\\\n",
       "\t Baboon                         & Papio        & omni    & Primates       & NA           & bodywt &  25.235\\\\\n",
       "\t Desert hedgehog                & Paraechinus  & NA      & Erinaceomorpha & lc           & bodywt &   0.550\\\\\n",
       "\t Potto                          & Perodicticus & omni    & Primates       & lc           & bodywt &   1.100\\\\\n",
       "\t Deer mouse                     & Peromyscus   & NA      & Rodentia       & NA           & bodywt &   0.021\\\\\n",
       "\t Phalanger                      & Phalanger    & NA      & Diprotodontia  & NA           & bodywt &   1.620\\\\\n",
       "\t Caspian seal                   & Phoca        & carni   & Carnivora      & vu           & bodywt &  86.000\\\\\n",
       "\t Common porpoise                & Phocoena     & carni   & Cetacea        & vu           & bodywt &  53.180\\\\\n",
       "\t Potoroo                        & Potorous     & herbi   & Diprotodontia  & NA           & bodywt &   1.100\\\\\n",
       "\t Giant armadillo                & Priodontes   & insecti & Cingulata      & en           & bodywt &  60.000\\\\\n",
       "\t Rock hyrax                     & Procavia     & NA      & Hyracoidea     & lc           & bodywt &   3.600\\\\\n",
       "\t Laboratory rat                 & Rattus       & herbi   & Rodentia       & lc           & bodywt &   0.320\\\\\n",
       "\t African striped mouse          & Rhabdomys    & omni    & Rodentia       & NA           & bodywt &   0.044\\\\\n",
       "\t Squirrel monkey                & Saimiri      & omni    & Primates       & NA           & bodywt &   0.743\\\\\n",
       "\t Eastern american mole          & Scalopus     & insecti & Soricomorpha   & lc           & bodywt &   0.075\\\\\n",
       "\t Cotton rat                     & Sigmodon     & herbi   & Rodentia       & NA           & bodywt &   0.148\\\\\n",
       "\t Mole rat                       & Spalax       & NA      & Rodentia       & NA           & bodywt &   0.122\\\\\n",
       "\t Arctic ground squirrel         & Spermophilus & herbi   & Rodentia       & lc           & bodywt &   0.920\\\\\n",
       "\t Thirteen-lined ground squirrel & Spermophilus & herbi   & Rodentia       & lc           & bodywt &   0.101\\\\\n",
       "\t Golden-mantled ground squirrel & Spermophilus & herbi   & Rodentia       & lc           & bodywt &   0.205\\\\\n",
       "\t Musk shrew                     & Suncus       & NA      & Soricomorpha   & NA           & bodywt &   0.048\\\\\n",
       "\t Pig                            & Sus          & omni    & Artiodactyla   & domesticated & bodywt &  86.250\\\\\n",
       "\t Short-nosed echidna            & Tachyglossus & insecti & Monotremata    & NA           & bodywt &   4.500\\\\\n",
       "\t Eastern american chipmunk      & Tamias       & herbi   & Rodentia       & NA           & bodywt &   0.112\\\\\n",
       "\t Brazilian tapir                & Tapirus      & herbi   & Perissodactyla & vu           & bodywt & 207.501\\\\\n",
       "\t Tenrec                         & Tenrec       & omni    & Afrosoricida   & NA           & bodywt &   0.900\\\\\n",
       "\t Tree shrew                     & Tupaia       & omni    & Scandentia     & NA           & bodywt &   0.104\\\\\n",
       "\t Bottle-nosed dolphin           & Tursiops     & carni   & Cetacea        & NA           & bodywt & 173.330\\\\\n",
       "\t Genet                          & Genetta      & carni   & Carnivora      & NA           & bodywt &   2.000\\\\\n",
       "\t Arctic fox                     & Vulpes       & carni   & Carnivora      & NA           & bodywt &   3.380\\\\\n",
       "\t Red fox                        & Vulpes       & carni   & Carnivora      & NA           & bodywt &   4.230\\\\\n",
       "\\end{tabular}\n"
      ],
      "text/markdown": [
       "\n",
       "A data.frame: 498 × 7\n",
       "\n",
       "| name &lt;chr&gt; | genus &lt;chr&gt; | vore &lt;chr&gt; | order &lt;chr&gt; | conservation &lt;chr&gt; | variable &lt;fct&gt; | value &lt;dbl&gt; |\n",
       "|---|---|---|---|---|---|---|\n",
       "| Cheetah                    | Acinonyx      | carni   | Carnivora       | lc           | sleep_total | 12.1 |\n",
       "| Owl monkey                 | Aotus         | omni    | Primates        | NA           | sleep_total | 17.0 |\n",
       "| Mountain beaver            | Aplodontia    | herbi   | Rodentia        | nt           | sleep_total | 14.4 |\n",
       "| Greater short-tailed shrew | Blarina       | omni    | Soricomorpha    | lc           | sleep_total | 14.9 |\n",
       "| Cow                        | Bos           | herbi   | Artiodactyla    | domesticated | sleep_total |  4.0 |\n",
       "| Three-toed sloth           | Bradypus      | herbi   | Pilosa          | NA           | sleep_total | 14.4 |\n",
       "| Northern fur seal          | Callorhinus   | carni   | Carnivora       | vu           | sleep_total |  8.7 |\n",
       "| Vesper mouse               | Calomys       | NA      | Rodentia        | NA           | sleep_total |  7.0 |\n",
       "| Dog                        | Canis         | carni   | Carnivora       | domesticated | sleep_total | 10.1 |\n",
       "| Roe deer                   | Capreolus     | herbi   | Artiodactyla    | lc           | sleep_total |  3.0 |\n",
       "| Goat                       | Capri         | herbi   | Artiodactyla    | lc           | sleep_total |  5.3 |\n",
       "| Guinea pig                 | Cavis         | herbi   | Rodentia        | domesticated | sleep_total |  9.4 |\n",
       "| Grivet                     | Cercopithecus | omni    | Primates        | lc           | sleep_total | 10.0 |\n",
       "| Chinchilla                 | Chinchilla    | herbi   | Rodentia        | domesticated | sleep_total | 12.5 |\n",
       "| Star-nosed mole            | Condylura     | omni    | Soricomorpha    | lc           | sleep_total | 10.3 |\n",
       "| African giant pouched rat  | Cricetomys    | omni    | Rodentia        | NA           | sleep_total |  8.3 |\n",
       "| Lesser short-tailed shrew  | Cryptotis     | omni    | Soricomorpha    | lc           | sleep_total |  9.1 |\n",
       "| Long-nosed armadillo       | Dasypus       | carni   | Cingulata       | lc           | sleep_total | 17.4 |\n",
       "| Tree hyrax                 | Dendrohyrax   | herbi   | Hyracoidea      | lc           | sleep_total |  5.3 |\n",
       "| North American Opossum     | Didelphis     | omni    | Didelphimorphia | lc           | sleep_total | 18.0 |\n",
       "| Asian elephant             | Elephas       | herbi   | Proboscidea     | en           | sleep_total |  3.9 |\n",
       "| Big brown bat              | Eptesicus     | insecti | Chiroptera      | lc           | sleep_total | 19.7 |\n",
       "| Horse                      | Equus         | herbi   | Perissodactyla  | domesticated | sleep_total |  2.9 |\n",
       "| Donkey                     | Equus         | herbi   | Perissodactyla  | domesticated | sleep_total |  3.1 |\n",
       "| European hedgehog          | Erinaceus     | omni    | Erinaceomorpha  | lc           | sleep_total | 10.1 |\n",
       "| Patas monkey               | Erythrocebus  | omni    | Primates        | lc           | sleep_total | 10.9 |\n",
       "| Western american chipmunk  | Eutamias      | herbi   | Rodentia        | NA           | sleep_total | 14.9 |\n",
       "| Domestic cat               | Felis         | carni   | Carnivora       | domesticated | sleep_total | 12.5 |\n",
       "| Galago                     | Galago        | omni    | Primates        | NA           | sleep_total |  9.8 |\n",
       "| Giraffe                    | Giraffa       | herbi   | Artiodactyla    | cd           | sleep_total |  1.9 |\n",
       "| ⋮ | ⋮ | ⋮ | ⋮ | ⋮ | ⋮ | ⋮ |\n",
       "| Baboon                         | Papio        | omni    | Primates       | NA           | bodywt |  25.235 |\n",
       "| Desert hedgehog                | Paraechinus  | NA      | Erinaceomorpha | lc           | bodywt |   0.550 |\n",
       "| Potto                          | Perodicticus | omni    | Primates       | lc           | bodywt |   1.100 |\n",
       "| Deer mouse                     | Peromyscus   | NA      | Rodentia       | NA           | bodywt |   0.021 |\n",
       "| Phalanger                      | Phalanger    | NA      | Diprotodontia  | NA           | bodywt |   1.620 |\n",
       "| Caspian seal                   | Phoca        | carni   | Carnivora      | vu           | bodywt |  86.000 |\n",
       "| Common porpoise                | Phocoena     | carni   | Cetacea        | vu           | bodywt |  53.180 |\n",
       "| Potoroo                        | Potorous     | herbi   | Diprotodontia  | NA           | bodywt |   1.100 |\n",
       "| Giant armadillo                | Priodontes   | insecti | Cingulata      | en           | bodywt |  60.000 |\n",
       "| Rock hyrax                     | Procavia     | NA      | Hyracoidea     | lc           | bodywt |   3.600 |\n",
       "| Laboratory rat                 | Rattus       | herbi   | Rodentia       | lc           | bodywt |   0.320 |\n",
       "| African striped mouse          | Rhabdomys    | omni    | Rodentia       | NA           | bodywt |   0.044 |\n",
       "| Squirrel monkey                | Saimiri      | omni    | Primates       | NA           | bodywt |   0.743 |\n",
       "| Eastern american mole          | Scalopus     | insecti | Soricomorpha   | lc           | bodywt |   0.075 |\n",
       "| Cotton rat                     | Sigmodon     | herbi   | Rodentia       | NA           | bodywt |   0.148 |\n",
       "| Mole rat                       | Spalax       | NA      | Rodentia       | NA           | bodywt |   0.122 |\n",
       "| Arctic ground squirrel         | Spermophilus | herbi   | Rodentia       | lc           | bodywt |   0.920 |\n",
       "| Thirteen-lined ground squirrel | Spermophilus | herbi   | Rodentia       | lc           | bodywt |   0.101 |\n",
       "| Golden-mantled ground squirrel | Spermophilus | herbi   | Rodentia       | lc           | bodywt |   0.205 |\n",
       "| Musk shrew                     | Suncus       | NA      | Soricomorpha   | NA           | bodywt |   0.048 |\n",
       "| Pig                            | Sus          | omni    | Artiodactyla   | domesticated | bodywt |  86.250 |\n",
       "| Short-nosed echidna            | Tachyglossus | insecti | Monotremata    | NA           | bodywt |   4.500 |\n",
       "| Eastern american chipmunk      | Tamias       | herbi   | Rodentia       | NA           | bodywt |   0.112 |\n",
       "| Brazilian tapir                | Tapirus      | herbi   | Perissodactyla | vu           | bodywt | 207.501 |\n",
       "| Tenrec                         | Tenrec       | omni    | Afrosoricida   | NA           | bodywt |   0.900 |\n",
       "| Tree shrew                     | Tupaia       | omni    | Scandentia     | NA           | bodywt |   0.104 |\n",
       "| Bottle-nosed dolphin           | Tursiops     | carni   | Cetacea        | NA           | bodywt | 173.330 |\n",
       "| Genet                          | Genetta      | carni   | Carnivora      | NA           | bodywt |   2.000 |\n",
       "| Arctic fox                     | Vulpes       | carni   | Carnivora      | NA           | bodywt |   3.380 |\n",
       "| Red fox                        | Vulpes       | carni   | Carnivora      | NA           | bodywt |   4.230 |\n",
       "\n"
      ],
      "text/plain": [
       "    name                           genus         vore    order          \n",
       "1   Cheetah                        Acinonyx      carni   Carnivora      \n",
       "2   Owl monkey                     Aotus         omni    Primates       \n",
       "3   Mountain beaver                Aplodontia    herbi   Rodentia       \n",
       "4   Greater short-tailed shrew     Blarina       omni    Soricomorpha   \n",
       "5   Cow                            Bos           herbi   Artiodactyla   \n",
       "6   Three-toed sloth               Bradypus      herbi   Pilosa         \n",
       "7   Northern fur seal              Callorhinus   carni   Carnivora      \n",
       "8   Vesper mouse                   Calomys       NA      Rodentia       \n",
       "9   Dog                            Canis         carni   Carnivora      \n",
       "10  Roe deer                       Capreolus     herbi   Artiodactyla   \n",
       "11  Goat                           Capri         herbi   Artiodactyla   \n",
       "12  Guinea pig                     Cavis         herbi   Rodentia       \n",
       "13  Grivet                         Cercopithecus omni    Primates       \n",
       "14  Chinchilla                     Chinchilla    herbi   Rodentia       \n",
       "15  Star-nosed mole                Condylura     omni    Soricomorpha   \n",
       "16  African giant pouched rat      Cricetomys    omni    Rodentia       \n",
       "17  Lesser short-tailed shrew      Cryptotis     omni    Soricomorpha   \n",
       "18  Long-nosed armadillo           Dasypus       carni   Cingulata      \n",
       "19  Tree hyrax                     Dendrohyrax   herbi   Hyracoidea     \n",
       "20  North American Opossum         Didelphis     omni    Didelphimorphia\n",
       "21  Asian elephant                 Elephas       herbi   Proboscidea    \n",
       "22  Big brown bat                  Eptesicus     insecti Chiroptera     \n",
       "23  Horse                          Equus         herbi   Perissodactyla \n",
       "24  Donkey                         Equus         herbi   Perissodactyla \n",
       "25  European hedgehog              Erinaceus     omni    Erinaceomorpha \n",
       "26  Patas monkey                   Erythrocebus  omni    Primates       \n",
       "27  Western american chipmunk      Eutamias      herbi   Rodentia       \n",
       "28  Domestic cat                   Felis         carni   Carnivora      \n",
       "29  Galago                         Galago        omni    Primates       \n",
       "30  Giraffe                        Giraffa       herbi   Artiodactyla   \n",
       "⋮   ⋮                              ⋮             ⋮       ⋮              \n",
       "469 Baboon                         Papio         omni    Primates       \n",
       "470 Desert hedgehog                Paraechinus   NA      Erinaceomorpha \n",
       "471 Potto                          Perodicticus  omni    Primates       \n",
       "472 Deer mouse                     Peromyscus    NA      Rodentia       \n",
       "473 Phalanger                      Phalanger     NA      Diprotodontia  \n",
       "474 Caspian seal                   Phoca         carni   Carnivora      \n",
       "475 Common porpoise                Phocoena      carni   Cetacea        \n",
       "476 Potoroo                        Potorous      herbi   Diprotodontia  \n",
       "477 Giant armadillo                Priodontes    insecti Cingulata      \n",
       "478 Rock hyrax                     Procavia      NA      Hyracoidea     \n",
       "479 Laboratory rat                 Rattus        herbi   Rodentia       \n",
       "480 African striped mouse          Rhabdomys     omni    Rodentia       \n",
       "481 Squirrel monkey                Saimiri       omni    Primates       \n",
       "482 Eastern american mole          Scalopus      insecti Soricomorpha   \n",
       "483 Cotton rat                     Sigmodon      herbi   Rodentia       \n",
       "484 Mole rat                       Spalax        NA      Rodentia       \n",
       "485 Arctic ground squirrel         Spermophilus  herbi   Rodentia       \n",
       "486 Thirteen-lined ground squirrel Spermophilus  herbi   Rodentia       \n",
       "487 Golden-mantled ground squirrel Spermophilus  herbi   Rodentia       \n",
       "488 Musk shrew                     Suncus        NA      Soricomorpha   \n",
       "489 Pig                            Sus           omni    Artiodactyla   \n",
       "490 Short-nosed echidna            Tachyglossus  insecti Monotremata    \n",
       "491 Eastern american chipmunk      Tamias        herbi   Rodentia       \n",
       "492 Brazilian tapir                Tapirus       herbi   Perissodactyla \n",
       "493 Tenrec                         Tenrec        omni    Afrosoricida   \n",
       "494 Tree shrew                     Tupaia        omni    Scandentia     \n",
       "495 Bottle-nosed dolphin           Tursiops      carni   Cetacea        \n",
       "496 Genet                          Genetta       carni   Carnivora      \n",
       "497 Arctic fox                     Vulpes        carni   Carnivora      \n",
       "498 Red fox                        Vulpes        carni   Carnivora      \n",
       "    conservation variable    value  \n",
       "1   lc           sleep_total 12.1   \n",
       "2   NA           sleep_total 17.0   \n",
       "3   nt           sleep_total 14.4   \n",
       "4   lc           sleep_total 14.9   \n",
       "5   domesticated sleep_total  4.0   \n",
       "6   NA           sleep_total 14.4   \n",
       "7   vu           sleep_total  8.7   \n",
       "8   NA           sleep_total  7.0   \n",
       "9   domesticated sleep_total 10.1   \n",
       "10  lc           sleep_total  3.0   \n",
       "11  lc           sleep_total  5.3   \n",
       "12  domesticated sleep_total  9.4   \n",
       "13  lc           sleep_total 10.0   \n",
       "14  domesticated sleep_total 12.5   \n",
       "15  lc           sleep_total 10.3   \n",
       "16  NA           sleep_total  8.3   \n",
       "17  lc           sleep_total  9.1   \n",
       "18  lc           sleep_total 17.4   \n",
       "19  lc           sleep_total  5.3   \n",
       "20  lc           sleep_total 18.0   \n",
       "21  en           sleep_total  3.9   \n",
       "22  lc           sleep_total 19.7   \n",
       "23  domesticated sleep_total  2.9   \n",
       "24  domesticated sleep_total  3.1   \n",
       "25  lc           sleep_total 10.1   \n",
       "26  lc           sleep_total 10.9   \n",
       "27  NA           sleep_total 14.9   \n",
       "28  domesticated sleep_total 12.5   \n",
       "29  NA           sleep_total  9.8   \n",
       "30  cd           sleep_total  1.9   \n",
       "⋮   ⋮            ⋮           ⋮      \n",
       "469 NA           bodywt       25.235\n",
       "470 lc           bodywt        0.550\n",
       "471 lc           bodywt        1.100\n",
       "472 NA           bodywt        0.021\n",
       "473 NA           bodywt        1.620\n",
       "474 vu           bodywt       86.000\n",
       "475 vu           bodywt       53.180\n",
       "476 NA           bodywt        1.100\n",
       "477 en           bodywt       60.000\n",
       "478 lc           bodywt        3.600\n",
       "479 lc           bodywt        0.320\n",
       "480 NA           bodywt        0.044\n",
       "481 NA           bodywt        0.743\n",
       "482 lc           bodywt        0.075\n",
       "483 NA           bodywt        0.148\n",
       "484 NA           bodywt        0.122\n",
       "485 lc           bodywt        0.920\n",
       "486 lc           bodywt        0.101\n",
       "487 lc           bodywt        0.205\n",
       "488 NA           bodywt        0.048\n",
       "489 domesticated bodywt       86.250\n",
       "490 NA           bodywt        4.500\n",
       "491 NA           bodywt        0.112\n",
       "492 vu           bodywt      207.501\n",
       "493 NA           bodywt        0.900\n",
       "494 NA           bodywt        0.104\n",
       "495 NA           bodywt      173.330\n",
       "496 NA           bodywt        2.000\n",
       "497 NA           bodywt        3.380\n",
       "498 NA           bodywt        4.230"
      ]
     },
     "metadata": {},
     "output_type": "display_data"
    }
   ],
   "source": [
    "#when some columns are not numeric, use all of them as id.vars\n",
    "melt(msleep)"
   ]
  },
  {
   "cell_type": "code",
   "execution_count": 32,
   "metadata": {
    "scrolled": true
   },
   "outputs": [
    {
     "data": {
      "text/html": [
       "<table>\n",
       "<caption>A tibble: 6 × 11</caption>\n",
       "<thead>\n",
       "\t<tr><th scope=col>name</th><th scope=col>genus</th><th scope=col>vore</th><th scope=col>order</th><th scope=col>conservation</th><th scope=col>sleep_total</th><th scope=col>sleep_rem</th><th scope=col>sleep_cycle</th><th scope=col>awake</th><th scope=col>brainwt</th><th scope=col>bodywt</th></tr>\n",
       "\t<tr><th scope=col>&lt;chr&gt;</th><th scope=col>&lt;chr&gt;</th><th scope=col>&lt;chr&gt;</th><th scope=col>&lt;chr&gt;</th><th scope=col>&lt;chr&gt;</th><th scope=col>&lt;dbl&gt;</th><th scope=col>&lt;dbl&gt;</th><th scope=col>&lt;dbl&gt;</th><th scope=col>&lt;dbl&gt;</th><th scope=col>&lt;dbl&gt;</th><th scope=col>&lt;dbl&gt;</th></tr>\n",
       "</thead>\n",
       "<tbody>\n",
       "\t<tr><td>Cheetah                   </td><td>Acinonyx  </td><td>carni</td><td>Carnivora   </td><td>lc          </td><td>12.1</td><td> NA</td><td>       NA</td><td>11.9</td><td>     NA</td><td> 50.000</td></tr>\n",
       "\t<tr><td>Owl monkey                </td><td>Aotus     </td><td>omni </td><td>Primates    </td><td>NA          </td><td>17.0</td><td>1.8</td><td>       NA</td><td> 7.0</td><td>0.01550</td><td>  0.480</td></tr>\n",
       "\t<tr><td>Mountain beaver           </td><td>Aplodontia</td><td>herbi</td><td>Rodentia    </td><td>nt          </td><td>14.4</td><td>2.4</td><td>       NA</td><td> 9.6</td><td>     NA</td><td>  1.350</td></tr>\n",
       "\t<tr><td>Greater short-tailed shrew</td><td>Blarina   </td><td>omni </td><td>Soricomorpha</td><td>lc          </td><td>14.9</td><td>2.3</td><td>0.1333333</td><td> 9.1</td><td>0.00029</td><td>  0.019</td></tr>\n",
       "\t<tr><td>Cow                       </td><td>Bos       </td><td>herbi</td><td>Artiodactyla</td><td>domesticated</td><td> 4.0</td><td>0.7</td><td>0.6666667</td><td>20.0</td><td>0.42300</td><td>600.000</td></tr>\n",
       "\t<tr><td>Three-toed sloth          </td><td>Bradypus  </td><td>herbi</td><td>Pilosa      </td><td>NA          </td><td>14.4</td><td>2.2</td><td>0.7666667</td><td> 9.6</td><td>     NA</td><td>  3.850</td></tr>\n",
       "</tbody>\n",
       "</table>\n"
      ],
      "text/latex": [
       "A tibble: 6 × 11\n",
       "\\begin{tabular}{lllllllllll}\n",
       " name & genus & vore & order & conservation & sleep\\_total & sleep\\_rem & sleep\\_cycle & awake & brainwt & bodywt\\\\\n",
       " <chr> & <chr> & <chr> & <chr> & <chr> & <dbl> & <dbl> & <dbl> & <dbl> & <dbl> & <dbl>\\\\\n",
       "\\hline\n",
       "\t Cheetah                    & Acinonyx   & carni & Carnivora    & lc           & 12.1 &  NA &        NA & 11.9 &      NA &  50.000\\\\\n",
       "\t Owl monkey                 & Aotus      & omni  & Primates     & NA           & 17.0 & 1.8 &        NA &  7.0 & 0.01550 &   0.480\\\\\n",
       "\t Mountain beaver            & Aplodontia & herbi & Rodentia     & nt           & 14.4 & 2.4 &        NA &  9.6 &      NA &   1.350\\\\\n",
       "\t Greater short-tailed shrew & Blarina    & omni  & Soricomorpha & lc           & 14.9 & 2.3 & 0.1333333 &  9.1 & 0.00029 &   0.019\\\\\n",
       "\t Cow                        & Bos        & herbi & Artiodactyla & domesticated &  4.0 & 0.7 & 0.6666667 & 20.0 & 0.42300 & 600.000\\\\\n",
       "\t Three-toed sloth           & Bradypus   & herbi & Pilosa       & NA           & 14.4 & 2.2 & 0.7666667 &  9.6 &      NA &   3.850\\\\\n",
       "\\end{tabular}\n"
      ],
      "text/markdown": [
       "\n",
       "A tibble: 6 × 11\n",
       "\n",
       "| name &lt;chr&gt; | genus &lt;chr&gt; | vore &lt;chr&gt; | order &lt;chr&gt; | conservation &lt;chr&gt; | sleep_total &lt;dbl&gt; | sleep_rem &lt;dbl&gt; | sleep_cycle &lt;dbl&gt; | awake &lt;dbl&gt; | brainwt &lt;dbl&gt; | bodywt &lt;dbl&gt; |\n",
       "|---|---|---|---|---|---|---|---|---|---|---|\n",
       "| Cheetah                    | Acinonyx   | carni | Carnivora    | lc           | 12.1 |  NA |        NA | 11.9 |      NA |  50.000 |\n",
       "| Owl monkey                 | Aotus      | omni  | Primates     | NA           | 17.0 | 1.8 |        NA |  7.0 | 0.01550 |   0.480 |\n",
       "| Mountain beaver            | Aplodontia | herbi | Rodentia     | nt           | 14.4 | 2.4 |        NA |  9.6 |      NA |   1.350 |\n",
       "| Greater short-tailed shrew | Blarina    | omni  | Soricomorpha | lc           | 14.9 | 2.3 | 0.1333333 |  9.1 | 0.00029 |   0.019 |\n",
       "| Cow                        | Bos        | herbi | Artiodactyla | domesticated |  4.0 | 0.7 | 0.6666667 | 20.0 | 0.42300 | 600.000 |\n",
       "| Three-toed sloth           | Bradypus   | herbi | Pilosa       | NA           | 14.4 | 2.2 | 0.7666667 |  9.6 |      NA |   3.850 |\n",
       "\n"
      ],
      "text/plain": [
       "  name                       genus      vore  order        conservation\n",
       "1 Cheetah                    Acinonyx   carni Carnivora    lc          \n",
       "2 Owl monkey                 Aotus      omni  Primates     NA          \n",
       "3 Mountain beaver            Aplodontia herbi Rodentia     nt          \n",
       "4 Greater short-tailed shrew Blarina    omni  Soricomorpha lc          \n",
       "5 Cow                        Bos        herbi Artiodactyla domesticated\n",
       "6 Three-toed sloth           Bradypus   herbi Pilosa       NA          \n",
       "  sleep_total sleep_rem sleep_cycle awake brainwt bodywt \n",
       "1 12.1         NA              NA   11.9       NA  50.000\n",
       "2 17.0        1.8              NA    7.0  0.01550   0.480\n",
       "3 14.4        2.4              NA    9.6       NA   1.350\n",
       "4 14.9        2.3       0.1333333    9.1  0.00029   0.019\n",
       "5  4.0        0.7       0.6666667   20.0  0.42300 600.000\n",
       "6 14.4        2.2       0.7666667    9.6       NA   3.850"
      ]
     },
     "metadata": {},
     "output_type": "display_data"
    },
    {
     "name": "stderr",
     "output_type": "stream",
     "text": [
      "Using name, genus, vore, order, conservation as id variables\n",
      "\n"
     ]
    },
    {
     "data": {
      "text/html": [
       "<table>\n",
       "<caption>A data.frame: 6 × 7</caption>\n",
       "<thead>\n",
       "\t<tr><th scope=col>name</th><th scope=col>genus</th><th scope=col>vore</th><th scope=col>order</th><th scope=col>conservation</th><th scope=col>variable</th><th scope=col>value</th></tr>\n",
       "\t<tr><th scope=col>&lt;chr&gt;</th><th scope=col>&lt;chr&gt;</th><th scope=col>&lt;chr&gt;</th><th scope=col>&lt;chr&gt;</th><th scope=col>&lt;chr&gt;</th><th scope=col>&lt;fct&gt;</th><th scope=col>&lt;dbl&gt;</th></tr>\n",
       "</thead>\n",
       "<tbody>\n",
       "\t<tr><td>Cheetah</td><td>Acinonyx</td><td>carni</td><td>Carnivora</td><td>lc</td><td>sleep_total</td><td>12.1</td></tr>\n",
       "\t<tr><td>Cheetah</td><td>Acinonyx</td><td>carni</td><td>Carnivora</td><td>lc</td><td>sleep_rem  </td><td>  NA</td></tr>\n",
       "\t<tr><td>Cheetah</td><td>Acinonyx</td><td>carni</td><td>Carnivora</td><td>lc</td><td>sleep_cycle</td><td>  NA</td></tr>\n",
       "\t<tr><td>Cheetah</td><td>Acinonyx</td><td>carni</td><td>Carnivora</td><td>lc</td><td>awake      </td><td>11.9</td></tr>\n",
       "\t<tr><td>Cheetah</td><td>Acinonyx</td><td>carni</td><td>Carnivora</td><td>lc</td><td>brainwt    </td><td>  NA</td></tr>\n",
       "\t<tr><td>Cheetah</td><td>Acinonyx</td><td>carni</td><td>Carnivora</td><td>lc</td><td>bodywt     </td><td>50.0</td></tr>\n",
       "</tbody>\n",
       "</table>\n"
      ],
      "text/latex": [
       "A data.frame: 6 × 7\n",
       "\\begin{tabular}{lllllll}\n",
       " name & genus & vore & order & conservation & variable & value\\\\\n",
       " <chr> & <chr> & <chr> & <chr> & <chr> & <fct> & <dbl>\\\\\n",
       "\\hline\n",
       "\t Cheetah & Acinonyx & carni & Carnivora & lc & sleep\\_total & 12.1\\\\\n",
       "\t Cheetah & Acinonyx & carni & Carnivora & lc & sleep\\_rem   &   NA\\\\\n",
       "\t Cheetah & Acinonyx & carni & Carnivora & lc & sleep\\_cycle &   NA\\\\\n",
       "\t Cheetah & Acinonyx & carni & Carnivora & lc & awake       & 11.9\\\\\n",
       "\t Cheetah & Acinonyx & carni & Carnivora & lc & brainwt     &   NA\\\\\n",
       "\t Cheetah & Acinonyx & carni & Carnivora & lc & bodywt      & 50.0\\\\\n",
       "\\end{tabular}\n"
      ],
      "text/markdown": [
       "\n",
       "A data.frame: 6 × 7\n",
       "\n",
       "| name &lt;chr&gt; | genus &lt;chr&gt; | vore &lt;chr&gt; | order &lt;chr&gt; | conservation &lt;chr&gt; | variable &lt;fct&gt; | value &lt;dbl&gt; |\n",
       "|---|---|---|---|---|---|---|\n",
       "| Cheetah | Acinonyx | carni | Carnivora | lc | sleep_total | 12.1 |\n",
       "| Cheetah | Acinonyx | carni | Carnivora | lc | sleep_rem   |   NA |\n",
       "| Cheetah | Acinonyx | carni | Carnivora | lc | sleep_cycle |   NA |\n",
       "| Cheetah | Acinonyx | carni | Carnivora | lc | awake       | 11.9 |\n",
       "| Cheetah | Acinonyx | carni | Carnivora | lc | brainwt     |   NA |\n",
       "| Cheetah | Acinonyx | carni | Carnivora | lc | bodywt      | 50.0 |\n",
       "\n"
      ],
      "text/plain": [
       "  name    genus    vore  order     conservation variable    value\n",
       "1 Cheetah Acinonyx carni Carnivora lc           sleep_total 12.1 \n",
       "2 Cheetah Acinonyx carni Carnivora lc           sleep_rem     NA \n",
       "3 Cheetah Acinonyx carni Carnivora lc           sleep_cycle   NA \n",
       "4 Cheetah Acinonyx carni Carnivora lc           awake       11.9 \n",
       "5 Cheetah Acinonyx carni Carnivora lc           brainwt       NA \n",
       "6 Cheetah Acinonyx carni Carnivora lc           bodywt      50.0 "
      ]
     },
     "metadata": {},
     "output_type": "display_data"
    }
   ],
   "source": [
    "head(msleep)\n",
    "filter(melt(msleep), name=='Cheetah', genus=='Acinonyx')"
   ]
  },
  {
   "cell_type": "code",
   "execution_count": 33,
   "metadata": {},
   "outputs": [
    {
     "data": {
      "text/html": [
       "<table>\n",
       "<caption>A tibble: 1 × 11</caption>\n",
       "<thead>\n",
       "\t<tr><th scope=col>name</th><th scope=col>genus</th><th scope=col>vore</th><th scope=col>order</th><th scope=col>conservation</th><th scope=col>sleep_total</th><th scope=col>sleep_rem</th><th scope=col>sleep_cycle</th><th scope=col>awake</th><th scope=col>brainwt</th><th scope=col>bodywt</th></tr>\n",
       "\t<tr><th scope=col>&lt;chr&gt;</th><th scope=col>&lt;chr&gt;</th><th scope=col>&lt;chr&gt;</th><th scope=col>&lt;chr&gt;</th><th scope=col>&lt;chr&gt;</th><th scope=col>&lt;dbl&gt;</th><th scope=col>&lt;dbl&gt;</th><th scope=col>&lt;dbl&gt;</th><th scope=col>&lt;dbl&gt;</th><th scope=col>&lt;dbl&gt;</th><th scope=col>&lt;dbl&gt;</th></tr>\n",
       "</thead>\n",
       "<tbody>\n",
       "\t<tr><td>Cheetah</td><td>Acinonyx</td><td>carni</td><td>Carnivora</td><td>lc</td><td>12.1</td><td>NA</td><td>NA</td><td>11.9</td><td>NA</td><td>50</td></tr>\n",
       "</tbody>\n",
       "</table>\n"
      ],
      "text/latex": [
       "A tibble: 1 × 11\n",
       "\\begin{tabular}{lllllllllll}\n",
       " name & genus & vore & order & conservation & sleep\\_total & sleep\\_rem & sleep\\_cycle & awake & brainwt & bodywt\\\\\n",
       " <chr> & <chr> & <chr> & <chr> & <chr> & <dbl> & <dbl> & <dbl> & <dbl> & <dbl> & <dbl>\\\\\n",
       "\\hline\n",
       "\t Cheetah & Acinonyx & carni & Carnivora & lc & 12.1 & NA & NA & 11.9 & NA & 50\\\\\n",
       "\\end{tabular}\n"
      ],
      "text/markdown": [
       "\n",
       "A tibble: 1 × 11\n",
       "\n",
       "| name &lt;chr&gt; | genus &lt;chr&gt; | vore &lt;chr&gt; | order &lt;chr&gt; | conservation &lt;chr&gt; | sleep_total &lt;dbl&gt; | sleep_rem &lt;dbl&gt; | sleep_cycle &lt;dbl&gt; | awake &lt;dbl&gt; | brainwt &lt;dbl&gt; | bodywt &lt;dbl&gt; |\n",
       "|---|---|---|---|---|---|---|---|---|---|---|\n",
       "| Cheetah | Acinonyx | carni | Carnivora | lc | 12.1 | NA | NA | 11.9 | NA | 50 |\n",
       "\n"
      ],
      "text/plain": [
       "  name    genus    vore  order     conservation sleep_total sleep_rem\n",
       "1 Cheetah Acinonyx carni Carnivora lc           12.1        NA       \n",
       "  sleep_cycle awake brainwt bodywt\n",
       "1 NA          11.9  NA      50    "
      ]
     },
     "metadata": {},
     "output_type": "display_data"
    }
   ],
   "source": [
    "filter(msleep, name=='Cheetah', genus=='Acinonyx')"
   ]
  },
  {
   "cell_type": "code",
   "execution_count": 34,
   "metadata": {
    "scrolled": false
   },
   "outputs": [
    {
     "data": {
      "text/html": [
       "<table>\n",
       "<caption>A data.frame: 6 × 3</caption>\n",
       "<thead>\n",
       "\t<tr><th></th><th scope=col>DAY</th><th scope=col>variable</th><th scope=col>value</th></tr>\n",
       "\t<tr><th></th><th scope=col>&lt;int&gt;</th><th scope=col>&lt;fct&gt;</th><th scope=col>&lt;dbl&gt;</th></tr>\n",
       "</thead>\n",
       "<tbody>\n",
       "\t<tr><th scope=row>1</th><td>1</td><td>OZONE</td><td>41</td></tr>\n",
       "\t<tr><th scope=row>2</th><td>2</td><td>OZONE</td><td>36</td></tr>\n",
       "\t<tr><th scope=row>3</th><td>3</td><td>OZONE</td><td>12</td></tr>\n",
       "\t<tr><th scope=row>4</th><td>4</td><td>OZONE</td><td>18</td></tr>\n",
       "\t<tr><th scope=row>5</th><td>5</td><td>OZONE</td><td>NA</td></tr>\n",
       "\t<tr><th scope=row>6</th><td>6</td><td>OZONE</td><td>28</td></tr>\n",
       "</tbody>\n",
       "</table>\n"
      ],
      "text/latex": [
       "A data.frame: 6 × 3\n",
       "\\begin{tabular}{r|lll}\n",
       "  & DAY & variable & value\\\\\n",
       "  & <int> & <fct> & <dbl>\\\\\n",
       "\\hline\n",
       "\t1 & 1 & OZONE & 41\\\\\n",
       "\t2 & 2 & OZONE & 36\\\\\n",
       "\t3 & 3 & OZONE & 12\\\\\n",
       "\t4 & 4 & OZONE & 18\\\\\n",
       "\t5 & 5 & OZONE & NA\\\\\n",
       "\t6 & 6 & OZONE & 28\\\\\n",
       "\\end{tabular}\n"
      ],
      "text/markdown": [
       "\n",
       "A data.frame: 6 × 3\n",
       "\n",
       "| <!--/--> | DAY &lt;int&gt; | variable &lt;fct&gt; | value &lt;dbl&gt; |\n",
       "|---|---|---|---|\n",
       "| 1 | 1 | OZONE | 41 |\n",
       "| 2 | 2 | OZONE | 36 |\n",
       "| 3 | 3 | OZONE | 12 |\n",
       "| 4 | 4 | OZONE | 18 |\n",
       "| 5 | 5 | OZONE | NA |\n",
       "| 6 | 6 | OZONE | 28 |\n",
       "\n"
      ],
      "text/plain": [
       "  DAY variable value\n",
       "1 1   OZONE    41   \n",
       "2 2   OZONE    36   \n",
       "3 3   OZONE    12   \n",
       "4 4   OZONE    18   \n",
       "5 5   OZONE    NA   \n",
       "6 6   OZONE    28   "
      ]
     },
     "metadata": {},
     "output_type": "display_data"
    },
    {
     "data": {
      "text/html": [
       "<table>\n",
       "<caption>A data.frame: 5 × 6</caption>\n",
       "<thead>\n",
       "\t<tr><th></th><th scope=col>OZONE</th><th scope=col>SOLAR.R</th><th scope=col>WIND</th><th scope=col>TEMP</th><th scope=col>MONTH</th><th scope=col>DAY</th></tr>\n",
       "\t<tr><th></th><th scope=col>&lt;int&gt;</th><th scope=col>&lt;int&gt;</th><th scope=col>&lt;dbl&gt;</th><th scope=col>&lt;int&gt;</th><th scope=col>&lt;int&gt;</th><th scope=col>&lt;int&gt;</th></tr>\n",
       "</thead>\n",
       "<tbody>\n",
       "\t<tr><th scope=row>1</th><td> 41</td><td>190</td><td>7.4</td><td>67</td><td>5</td><td>1</td></tr>\n",
       "\t<tr><th scope=row>32</th><td> NA</td><td>286</td><td>8.6</td><td>78</td><td>6</td><td>1</td></tr>\n",
       "\t<tr><th scope=row>62</th><td>135</td><td>269</td><td>4.1</td><td>84</td><td>7</td><td>1</td></tr>\n",
       "\t<tr><th scope=row>93</th><td> 39</td><td> 83</td><td>6.9</td><td>81</td><td>8</td><td>1</td></tr>\n",
       "\t<tr><th scope=row>124</th><td> 96</td><td>167</td><td>6.9</td><td>91</td><td>9</td><td>1</td></tr>\n",
       "</tbody>\n",
       "</table>\n"
      ],
      "text/latex": [
       "A data.frame: 5 × 6\n",
       "\\begin{tabular}{r|llllll}\n",
       "  & OZONE & SOLAR.R & WIND & TEMP & MONTH & DAY\\\\\n",
       "  & <int> & <int> & <dbl> & <int> & <int> & <int>\\\\\n",
       "\\hline\n",
       "\t1 &  41 & 190 & 7.4 & 67 & 5 & 1\\\\\n",
       "\t32 &  NA & 286 & 8.6 & 78 & 6 & 1\\\\\n",
       "\t62 & 135 & 269 & 4.1 & 84 & 7 & 1\\\\\n",
       "\t93 &  39 &  83 & 6.9 & 81 & 8 & 1\\\\\n",
       "\t124 &  96 & 167 & 6.9 & 91 & 9 & 1\\\\\n",
       "\\end{tabular}\n"
      ],
      "text/markdown": [
       "\n",
       "A data.frame: 5 × 6\n",
       "\n",
       "| <!--/--> | OZONE &lt;int&gt; | SOLAR.R &lt;int&gt; | WIND &lt;dbl&gt; | TEMP &lt;int&gt; | MONTH &lt;int&gt; | DAY &lt;int&gt; |\n",
       "|---|---|---|---|---|---|---|\n",
       "| 1 |  41 | 190 | 7.4 | 67 | 5 | 1 |\n",
       "| 32 |  NA | 286 | 8.6 | 78 | 6 | 1 |\n",
       "| 62 | 135 | 269 | 4.1 | 84 | 7 | 1 |\n",
       "| 93 |  39 |  83 | 6.9 | 81 | 8 | 1 |\n",
       "| 124 |  96 | 167 | 6.9 | 91 | 9 | 1 |\n",
       "\n"
      ],
      "text/plain": [
       "    OZONE SOLAR.R WIND TEMP MONTH DAY\n",
       "1    41   190     7.4  67   5     1  \n",
       "32   NA   286     8.6  78   6     1  \n",
       "62  135   269     4.1  84   7     1  \n",
       "93   39    83     6.9  81   8     1  \n",
       "124  96   167     6.9  91   9     1  "
      ]
     },
     "metadata": {},
     "output_type": "display_data"
    },
    {
     "data": {
      "text/html": [
       "<table>\n",
       "<caption>A data.frame: 25 × 3</caption>\n",
       "<thead>\n",
       "\t<tr><th></th><th scope=col>DAY</th><th scope=col>variable</th><th scope=col>value</th></tr>\n",
       "\t<tr><th></th><th scope=col>&lt;int&gt;</th><th scope=col>&lt;fct&gt;</th><th scope=col>&lt;dbl&gt;</th></tr>\n",
       "</thead>\n",
       "<tbody>\n",
       "\t<tr><th scope=row>1</th><td>1</td><td>OZONE  </td><td> 41.0</td></tr>\n",
       "\t<tr><th scope=row>32</th><td>1</td><td>OZONE  </td><td>   NA</td></tr>\n",
       "\t<tr><th scope=row>62</th><td>1</td><td>OZONE  </td><td>135.0</td></tr>\n",
       "\t<tr><th scope=row>93</th><td>1</td><td>OZONE  </td><td> 39.0</td></tr>\n",
       "\t<tr><th scope=row>124</th><td>1</td><td>OZONE  </td><td> 96.0</td></tr>\n",
       "\t<tr><th scope=row>154</th><td>1</td><td>SOLAR.R</td><td>190.0</td></tr>\n",
       "\t<tr><th scope=row>185</th><td>1</td><td>SOLAR.R</td><td>286.0</td></tr>\n",
       "\t<tr><th scope=row>215</th><td>1</td><td>SOLAR.R</td><td>269.0</td></tr>\n",
       "\t<tr><th scope=row>246</th><td>1</td><td>SOLAR.R</td><td> 83.0</td></tr>\n",
       "\t<tr><th scope=row>277</th><td>1</td><td>SOLAR.R</td><td>167.0</td></tr>\n",
       "\t<tr><th scope=row>307</th><td>1</td><td>WIND   </td><td>  7.4</td></tr>\n",
       "\t<tr><th scope=row>338</th><td>1</td><td>WIND   </td><td>  8.6</td></tr>\n",
       "\t<tr><th scope=row>368</th><td>1</td><td>WIND   </td><td>  4.1</td></tr>\n",
       "\t<tr><th scope=row>399</th><td>1</td><td>WIND   </td><td>  6.9</td></tr>\n",
       "\t<tr><th scope=row>430</th><td>1</td><td>WIND   </td><td>  6.9</td></tr>\n",
       "\t<tr><th scope=row>460</th><td>1</td><td>TEMP   </td><td> 67.0</td></tr>\n",
       "\t<tr><th scope=row>491</th><td>1</td><td>TEMP   </td><td> 78.0</td></tr>\n",
       "\t<tr><th scope=row>521</th><td>1</td><td>TEMP   </td><td> 84.0</td></tr>\n",
       "\t<tr><th scope=row>552</th><td>1</td><td>TEMP   </td><td> 81.0</td></tr>\n",
       "\t<tr><th scope=row>583</th><td>1</td><td>TEMP   </td><td> 91.0</td></tr>\n",
       "\t<tr><th scope=row>613</th><td>1</td><td>MONTH  </td><td>  5.0</td></tr>\n",
       "\t<tr><th scope=row>644</th><td>1</td><td>MONTH  </td><td>  6.0</td></tr>\n",
       "\t<tr><th scope=row>674</th><td>1</td><td>MONTH  </td><td>  7.0</td></tr>\n",
       "\t<tr><th scope=row>705</th><td>1</td><td>MONTH  </td><td>  8.0</td></tr>\n",
       "\t<tr><th scope=row>736</th><td>1</td><td>MONTH  </td><td>  9.0</td></tr>\n",
       "</tbody>\n",
       "</table>\n"
      ],
      "text/latex": [
       "A data.frame: 25 × 3\n",
       "\\begin{tabular}{r|lll}\n",
       "  & DAY & variable & value\\\\\n",
       "  & <int> & <fct> & <dbl>\\\\\n",
       "\\hline\n",
       "\t1 & 1 & OZONE   &  41.0\\\\\n",
       "\t32 & 1 & OZONE   &    NA\\\\\n",
       "\t62 & 1 & OZONE   & 135.0\\\\\n",
       "\t93 & 1 & OZONE   &  39.0\\\\\n",
       "\t124 & 1 & OZONE   &  96.0\\\\\n",
       "\t154 & 1 & SOLAR.R & 190.0\\\\\n",
       "\t185 & 1 & SOLAR.R & 286.0\\\\\n",
       "\t215 & 1 & SOLAR.R & 269.0\\\\\n",
       "\t246 & 1 & SOLAR.R &  83.0\\\\\n",
       "\t277 & 1 & SOLAR.R & 167.0\\\\\n",
       "\t307 & 1 & WIND    &   7.4\\\\\n",
       "\t338 & 1 & WIND    &   8.6\\\\\n",
       "\t368 & 1 & WIND    &   4.1\\\\\n",
       "\t399 & 1 & WIND    &   6.9\\\\\n",
       "\t430 & 1 & WIND    &   6.9\\\\\n",
       "\t460 & 1 & TEMP    &  67.0\\\\\n",
       "\t491 & 1 & TEMP    &  78.0\\\\\n",
       "\t521 & 1 & TEMP    &  84.0\\\\\n",
       "\t552 & 1 & TEMP    &  81.0\\\\\n",
       "\t583 & 1 & TEMP    &  91.0\\\\\n",
       "\t613 & 1 & MONTH   &   5.0\\\\\n",
       "\t644 & 1 & MONTH   &   6.0\\\\\n",
       "\t674 & 1 & MONTH   &   7.0\\\\\n",
       "\t705 & 1 & MONTH   &   8.0\\\\\n",
       "\t736 & 1 & MONTH   &   9.0\\\\\n",
       "\\end{tabular}\n"
      ],
      "text/markdown": [
       "\n",
       "A data.frame: 25 × 3\n",
       "\n",
       "| <!--/--> | DAY &lt;int&gt; | variable &lt;fct&gt; | value &lt;dbl&gt; |\n",
       "|---|---|---|---|\n",
       "| 1 | 1 | OZONE   |  41.0 |\n",
       "| 32 | 1 | OZONE   |    NA |\n",
       "| 62 | 1 | OZONE   | 135.0 |\n",
       "| 93 | 1 | OZONE   |  39.0 |\n",
       "| 124 | 1 | OZONE   |  96.0 |\n",
       "| 154 | 1 | SOLAR.R | 190.0 |\n",
       "| 185 | 1 | SOLAR.R | 286.0 |\n",
       "| 215 | 1 | SOLAR.R | 269.0 |\n",
       "| 246 | 1 | SOLAR.R |  83.0 |\n",
       "| 277 | 1 | SOLAR.R | 167.0 |\n",
       "| 307 | 1 | WIND    |   7.4 |\n",
       "| 338 | 1 | WIND    |   8.6 |\n",
       "| 368 | 1 | WIND    |   4.1 |\n",
       "| 399 | 1 | WIND    |   6.9 |\n",
       "| 430 | 1 | WIND    |   6.9 |\n",
       "| 460 | 1 | TEMP    |  67.0 |\n",
       "| 491 | 1 | TEMP    |  78.0 |\n",
       "| 521 | 1 | TEMP    |  84.0 |\n",
       "| 552 | 1 | TEMP    |  81.0 |\n",
       "| 583 | 1 | TEMP    |  91.0 |\n",
       "| 613 | 1 | MONTH   |   5.0 |\n",
       "| 644 | 1 | MONTH   |   6.0 |\n",
       "| 674 | 1 | MONTH   |   7.0 |\n",
       "| 705 | 1 | MONTH   |   8.0 |\n",
       "| 736 | 1 | MONTH   |   9.0 |\n",
       "\n"
      ],
      "text/plain": [
       "    DAY variable value\n",
       "1   1   OZONE     41.0\n",
       "32  1   OZONE       NA\n",
       "62  1   OZONE    135.0\n",
       "93  1   OZONE     39.0\n",
       "124 1   OZONE     96.0\n",
       "154 1   SOLAR.R  190.0\n",
       "185 1   SOLAR.R  286.0\n",
       "215 1   SOLAR.R  269.0\n",
       "246 1   SOLAR.R   83.0\n",
       "277 1   SOLAR.R  167.0\n",
       "307 1   WIND       7.4\n",
       "338 1   WIND       8.6\n",
       "368 1   WIND       4.1\n",
       "399 1   WIND       6.9\n",
       "430 1   WIND       6.9\n",
       "460 1   TEMP      67.0\n",
       "491 1   TEMP      78.0\n",
       "521 1   TEMP      84.0\n",
       "552 1   TEMP      81.0\n",
       "583 1   TEMP      91.0\n",
       "613 1   MONTH      5.0\n",
       "644 1   MONTH      6.0\n",
       "674 1   MONTH      7.0\n",
       "705 1   MONTH      8.0\n",
       "736 1   MONTH      9.0"
      ]
     },
     "metadata": {},
     "output_type": "display_data"
    }
   ],
   "source": [
    "aql=melt(airquality, id.vars=\"DAY\");head(aql) #it doesn't guarantee the id's uniqueness.\n",
    "head(subset(airquality, DAY==1))\n",
    "subset(aql, DAY==1)"
   ]
  },
  {
   "cell_type": "code",
   "execution_count": 35,
   "metadata": {
    "scrolled": false
   },
   "outputs": [
    {
     "data": {
      "text/html": [
       "<table>\n",
       "<caption>A data.frame: 6 × 3</caption>\n",
       "<thead>\n",
       "\t<tr><th></th><th scope=col>OZONE</th><th scope=col>variable</th><th scope=col>value</th></tr>\n",
       "\t<tr><th></th><th scope=col>&lt;int&gt;</th><th scope=col>&lt;fct&gt;</th><th scope=col>&lt;dbl&gt;</th></tr>\n",
       "</thead>\n",
       "<tbody>\n",
       "\t<tr><th scope=row>1</th><td>41</td><td>SOLAR.R</td><td>190</td></tr>\n",
       "\t<tr><th scope=row>2</th><td>36</td><td>SOLAR.R</td><td>118</td></tr>\n",
       "\t<tr><th scope=row>3</th><td>12</td><td>SOLAR.R</td><td>149</td></tr>\n",
       "\t<tr><th scope=row>4</th><td>18</td><td>SOLAR.R</td><td>313</td></tr>\n",
       "\t<tr><th scope=row>5</th><td>NA</td><td>SOLAR.R</td><td> NA</td></tr>\n",
       "\t<tr><th scope=row>6</th><td>28</td><td>SOLAR.R</td><td> NA</td></tr>\n",
       "</tbody>\n",
       "</table>\n"
      ],
      "text/latex": [
       "A data.frame: 6 × 3\n",
       "\\begin{tabular}{r|lll}\n",
       "  & OZONE & variable & value\\\\\n",
       "  & <int> & <fct> & <dbl>\\\\\n",
       "\\hline\n",
       "\t1 & 41 & SOLAR.R & 190\\\\\n",
       "\t2 & 36 & SOLAR.R & 118\\\\\n",
       "\t3 & 12 & SOLAR.R & 149\\\\\n",
       "\t4 & 18 & SOLAR.R & 313\\\\\n",
       "\t5 & NA & SOLAR.R &  NA\\\\\n",
       "\t6 & 28 & SOLAR.R &  NA\\\\\n",
       "\\end{tabular}\n"
      ],
      "text/markdown": [
       "\n",
       "A data.frame: 6 × 3\n",
       "\n",
       "| <!--/--> | OZONE &lt;int&gt; | variable &lt;fct&gt; | value &lt;dbl&gt; |\n",
       "|---|---|---|---|\n",
       "| 1 | 41 | SOLAR.R | 190 |\n",
       "| 2 | 36 | SOLAR.R | 118 |\n",
       "| 3 | 12 | SOLAR.R | 149 |\n",
       "| 4 | 18 | SOLAR.R | 313 |\n",
       "| 5 | NA | SOLAR.R |  NA |\n",
       "| 6 | 28 | SOLAR.R |  NA |\n",
       "\n"
      ],
      "text/plain": [
       "  OZONE variable value\n",
       "1 41    SOLAR.R  190  \n",
       "2 36    SOLAR.R  118  \n",
       "3 12    SOLAR.R  149  \n",
       "4 18    SOLAR.R  313  \n",
       "5 NA    SOLAR.R   NA  \n",
       "6 28    SOLAR.R   NA  "
      ]
     },
     "metadata": {},
     "output_type": "display_data"
    },
    {
     "data": {
      "text/html": [
       "<table>\n",
       "<caption>A data.frame: 2 × 6</caption>\n",
       "<thead>\n",
       "\t<tr><th></th><th scope=col>OZONE</th><th scope=col>SOLAR.R</th><th scope=col>WIND</th><th scope=col>TEMP</th><th scope=col>MONTH</th><th scope=col>DAY</th></tr>\n",
       "\t<tr><th></th><th scope=col>&lt;int&gt;</th><th scope=col>&lt;int&gt;</th><th scope=col>&lt;dbl&gt;</th><th scope=col>&lt;int&gt;</th><th scope=col>&lt;int&gt;</th><th scope=col>&lt;int&gt;</th></tr>\n",
       "</thead>\n",
       "<tbody>\n",
       "\t<tr><th scope=row>3</th><td>12</td><td>149</td><td>12.6</td><td>74</td><td>5</td><td> 3</td></tr>\n",
       "\t<tr><th scope=row>50</th><td>12</td><td>120</td><td>11.5</td><td>73</td><td>6</td><td>19</td></tr>\n",
       "</tbody>\n",
       "</table>\n"
      ],
      "text/latex": [
       "A data.frame: 2 × 6\n",
       "\\begin{tabular}{r|llllll}\n",
       "  & OZONE & SOLAR.R & WIND & TEMP & MONTH & DAY\\\\\n",
       "  & <int> & <int> & <dbl> & <int> & <int> & <int>\\\\\n",
       "\\hline\n",
       "\t3 & 12 & 149 & 12.6 & 74 & 5 &  3\\\\\n",
       "\t50 & 12 & 120 & 11.5 & 73 & 6 & 19\\\\\n",
       "\\end{tabular}\n"
      ],
      "text/markdown": [
       "\n",
       "A data.frame: 2 × 6\n",
       "\n",
       "| <!--/--> | OZONE &lt;int&gt; | SOLAR.R &lt;int&gt; | WIND &lt;dbl&gt; | TEMP &lt;int&gt; | MONTH &lt;int&gt; | DAY &lt;int&gt; |\n",
       "|---|---|---|---|---|---|---|\n",
       "| 3 | 12 | 149 | 12.6 | 74 | 5 |  3 |\n",
       "| 50 | 12 | 120 | 11.5 | 73 | 6 | 19 |\n",
       "\n"
      ],
      "text/plain": [
       "   OZONE SOLAR.R WIND TEMP MONTH DAY\n",
       "3  12    149     12.6 74   5      3 \n",
       "50 12    120     11.5 73   6     19 "
      ]
     },
     "metadata": {},
     "output_type": "display_data"
    },
    {
     "data": {
      "text/html": [
       "<table>\n",
       "<caption>A data.frame: 10 × 3</caption>\n",
       "<thead>\n",
       "\t<tr><th></th><th scope=col>OZONE</th><th scope=col>variable</th><th scope=col>value</th></tr>\n",
       "\t<tr><th></th><th scope=col>&lt;int&gt;</th><th scope=col>&lt;fct&gt;</th><th scope=col>&lt;dbl&gt;</th></tr>\n",
       "</thead>\n",
       "<tbody>\n",
       "\t<tr><th scope=row>3</th><td>12</td><td>SOLAR.R</td><td>149.0</td></tr>\n",
       "\t<tr><th scope=row>50</th><td>12</td><td>SOLAR.R</td><td>120.0</td></tr>\n",
       "\t<tr><th scope=row>156</th><td>12</td><td>WIND   </td><td> 12.6</td></tr>\n",
       "\t<tr><th scope=row>203</th><td>12</td><td>WIND   </td><td> 11.5</td></tr>\n",
       "\t<tr><th scope=row>309</th><td>12</td><td>TEMP   </td><td> 74.0</td></tr>\n",
       "\t<tr><th scope=row>356</th><td>12</td><td>TEMP   </td><td> 73.0</td></tr>\n",
       "\t<tr><th scope=row>462</th><td>12</td><td>MONTH  </td><td>  5.0</td></tr>\n",
       "\t<tr><th scope=row>509</th><td>12</td><td>MONTH  </td><td>  6.0</td></tr>\n",
       "\t<tr><th scope=row>615</th><td>12</td><td>DAY    </td><td>  3.0</td></tr>\n",
       "\t<tr><th scope=row>662</th><td>12</td><td>DAY    </td><td> 19.0</td></tr>\n",
       "</tbody>\n",
       "</table>\n"
      ],
      "text/latex": [
       "A data.frame: 10 × 3\n",
       "\\begin{tabular}{r|lll}\n",
       "  & OZONE & variable & value\\\\\n",
       "  & <int> & <fct> & <dbl>\\\\\n",
       "\\hline\n",
       "\t3 & 12 & SOLAR.R & 149.0\\\\\n",
       "\t50 & 12 & SOLAR.R & 120.0\\\\\n",
       "\t156 & 12 & WIND    &  12.6\\\\\n",
       "\t203 & 12 & WIND    &  11.5\\\\\n",
       "\t309 & 12 & TEMP    &  74.0\\\\\n",
       "\t356 & 12 & TEMP    &  73.0\\\\\n",
       "\t462 & 12 & MONTH   &   5.0\\\\\n",
       "\t509 & 12 & MONTH   &   6.0\\\\\n",
       "\t615 & 12 & DAY     &   3.0\\\\\n",
       "\t662 & 12 & DAY     &  19.0\\\\\n",
       "\\end{tabular}\n"
      ],
      "text/markdown": [
       "\n",
       "A data.frame: 10 × 3\n",
       "\n",
       "| <!--/--> | OZONE &lt;int&gt; | variable &lt;fct&gt; | value &lt;dbl&gt; |\n",
       "|---|---|---|---|\n",
       "| 3 | 12 | SOLAR.R | 149.0 |\n",
       "| 50 | 12 | SOLAR.R | 120.0 |\n",
       "| 156 | 12 | WIND    |  12.6 |\n",
       "| 203 | 12 | WIND    |  11.5 |\n",
       "| 309 | 12 | TEMP    |  74.0 |\n",
       "| 356 | 12 | TEMP    |  73.0 |\n",
       "| 462 | 12 | MONTH   |   5.0 |\n",
       "| 509 | 12 | MONTH   |   6.0 |\n",
       "| 615 | 12 | DAY     |   3.0 |\n",
       "| 662 | 12 | DAY     |  19.0 |\n",
       "\n"
      ],
      "text/plain": [
       "    OZONE variable value\n",
       "3   12    SOLAR.R  149.0\n",
       "50  12    SOLAR.R  120.0\n",
       "156 12    WIND      12.6\n",
       "203 12    WIND      11.5\n",
       "309 12    TEMP      74.0\n",
       "356 12    TEMP      73.0\n",
       "462 12    MONTH      5.0\n",
       "509 12    MONTH      6.0\n",
       "615 12    DAY        3.0\n",
       "662 12    DAY       19.0"
      ]
     },
     "metadata": {},
     "output_type": "display_data"
    }
   ],
   "source": [
    "aql=melt(airquality, id.vars=\"OZONE\");head(aql) #it doesn't guarantee the id's uniqueness.\n",
    "subset(airquality, OZONE==12)\n",
    "subset(aql, OZONE==12)"
   ]
  },
  {
   "cell_type": "code",
   "execution_count": 36,
   "metadata": {
    "scrolled": false
   },
   "outputs": [
    {
     "data": {
      "text/html": [
       "<table>\n",
       "<caption>A data.frame: 2 × 6</caption>\n",
       "<thead>\n",
       "\t<tr><th></th><th scope=col>OZONE</th><th scope=col>SOLAR.R</th><th scope=col>WIND</th><th scope=col>TEMP</th><th scope=col>MONTH</th><th scope=col>DAY</th></tr>\n",
       "\t<tr><th></th><th scope=col>&lt;int&gt;</th><th scope=col>&lt;int&gt;</th><th scope=col>&lt;dbl&gt;</th><th scope=col>&lt;int&gt;</th><th scope=col>&lt;int&gt;</th><th scope=col>&lt;int&gt;</th></tr>\n",
       "</thead>\n",
       "<tbody>\n",
       "\t<tr><th scope=row>3</th><td>12</td><td>149</td><td>12.6</td><td>74</td><td>5</td><td> 3</td></tr>\n",
       "\t<tr><th scope=row>50</th><td>12</td><td>120</td><td>11.5</td><td>73</td><td>6</td><td>19</td></tr>\n",
       "</tbody>\n",
       "</table>\n"
      ],
      "text/latex": [
       "A data.frame: 2 × 6\n",
       "\\begin{tabular}{r|llllll}\n",
       "  & OZONE & SOLAR.R & WIND & TEMP & MONTH & DAY\\\\\n",
       "  & <int> & <int> & <dbl> & <int> & <int> & <int>\\\\\n",
       "\\hline\n",
       "\t3 & 12 & 149 & 12.6 & 74 & 5 &  3\\\\\n",
       "\t50 & 12 & 120 & 11.5 & 73 & 6 & 19\\\\\n",
       "\\end{tabular}\n"
      ],
      "text/markdown": [
       "\n",
       "A data.frame: 2 × 6\n",
       "\n",
       "| <!--/--> | OZONE &lt;int&gt; | SOLAR.R &lt;int&gt; | WIND &lt;dbl&gt; | TEMP &lt;int&gt; | MONTH &lt;int&gt; | DAY &lt;int&gt; |\n",
       "|---|---|---|---|---|---|---|\n",
       "| 3 | 12 | 149 | 12.6 | 74 | 5 |  3 |\n",
       "| 50 | 12 | 120 | 11.5 | 73 | 6 | 19 |\n",
       "\n"
      ],
      "text/plain": [
       "   OZONE SOLAR.R WIND TEMP MONTH DAY\n",
       "3  12    149     12.6 74   5      3 \n",
       "50 12    120     11.5 73   6     19 "
      ]
     },
     "metadata": {},
     "output_type": "display_data"
    },
    {
     "data": {
      "text/html": [
       "<table>\n",
       "<caption>A data.frame: 6 × 3</caption>\n",
       "<thead>\n",
       "\t<tr><th></th><th scope=col>OZONE</th><th scope=col>variable</th><th scope=col>value</th></tr>\n",
       "\t<tr><th></th><th scope=col>&lt;int&gt;</th><th scope=col>&lt;fct&gt;</th><th scope=col>&lt;dbl&gt;</th></tr>\n",
       "</thead>\n",
       "<tbody>\n",
       "\t<tr><th scope=row>1</th><td>41</td><td>SOLAR.R</td><td>190</td></tr>\n",
       "\t<tr><th scope=row>2</th><td>36</td><td>SOLAR.R</td><td>118</td></tr>\n",
       "\t<tr><th scope=row>3</th><td>12</td><td>SOLAR.R</td><td>149</td></tr>\n",
       "\t<tr><th scope=row>4</th><td>18</td><td>SOLAR.R</td><td>313</td></tr>\n",
       "\t<tr><th scope=row>5</th><td>NA</td><td>SOLAR.R</td><td> NA</td></tr>\n",
       "\t<tr><th scope=row>6</th><td>28</td><td>SOLAR.R</td><td> NA</td></tr>\n",
       "</tbody>\n",
       "</table>\n"
      ],
      "text/latex": [
       "A data.frame: 6 × 3\n",
       "\\begin{tabular}{r|lll}\n",
       "  & OZONE & variable & value\\\\\n",
       "  & <int> & <fct> & <dbl>\\\\\n",
       "\\hline\n",
       "\t1 & 41 & SOLAR.R & 190\\\\\n",
       "\t2 & 36 & SOLAR.R & 118\\\\\n",
       "\t3 & 12 & SOLAR.R & 149\\\\\n",
       "\t4 & 18 & SOLAR.R & 313\\\\\n",
       "\t5 & NA & SOLAR.R &  NA\\\\\n",
       "\t6 & 28 & SOLAR.R &  NA\\\\\n",
       "\\end{tabular}\n"
      ],
      "text/markdown": [
       "\n",
       "A data.frame: 6 × 3\n",
       "\n",
       "| <!--/--> | OZONE &lt;int&gt; | variable &lt;fct&gt; | value &lt;dbl&gt; |\n",
       "|---|---|---|---|\n",
       "| 1 | 41 | SOLAR.R | 190 |\n",
       "| 2 | 36 | SOLAR.R | 118 |\n",
       "| 3 | 12 | SOLAR.R | 149 |\n",
       "| 4 | 18 | SOLAR.R | 313 |\n",
       "| 5 | NA | SOLAR.R |  NA |\n",
       "| 6 | 28 | SOLAR.R |  NA |\n",
       "\n"
      ],
      "text/plain": [
       "  OZONE variable value\n",
       "1 41    SOLAR.R  190  \n",
       "2 36    SOLAR.R  118  \n",
       "3 12    SOLAR.R  149  \n",
       "4 18    SOLAR.R  313  \n",
       "5 NA    SOLAR.R   NA  \n",
       "6 28    SOLAR.R   NA  "
      ]
     },
     "metadata": {},
     "output_type": "display_data"
    },
    {
     "data": {
      "text/html": [
       "<table>\n",
       "<caption>A data.frame: 10 × 3</caption>\n",
       "<thead>\n",
       "\t<tr><th></th><th scope=col>OZONE</th><th scope=col>variable</th><th scope=col>value</th></tr>\n",
       "\t<tr><th></th><th scope=col>&lt;int&gt;</th><th scope=col>&lt;fct&gt;</th><th scope=col>&lt;dbl&gt;</th></tr>\n",
       "</thead>\n",
       "<tbody>\n",
       "\t<tr><th scope=row>3</th><td>12</td><td>SOLAR.R</td><td>149.0</td></tr>\n",
       "\t<tr><th scope=row>50</th><td>12</td><td>SOLAR.R</td><td>120.0</td></tr>\n",
       "\t<tr><th scope=row>156</th><td>12</td><td>WIND   </td><td> 12.6</td></tr>\n",
       "\t<tr><th scope=row>203</th><td>12</td><td>WIND   </td><td> 11.5</td></tr>\n",
       "\t<tr><th scope=row>309</th><td>12</td><td>TEMP   </td><td> 74.0</td></tr>\n",
       "\t<tr><th scope=row>356</th><td>12</td><td>TEMP   </td><td> 73.0</td></tr>\n",
       "\t<tr><th scope=row>462</th><td>12</td><td>MONTH  </td><td>  5.0</td></tr>\n",
       "\t<tr><th scope=row>509</th><td>12</td><td>MONTH  </td><td>  6.0</td></tr>\n",
       "\t<tr><th scope=row>615</th><td>12</td><td>DAY    </td><td>  3.0</td></tr>\n",
       "\t<tr><th scope=row>662</th><td>12</td><td>DAY    </td><td> 19.0</td></tr>\n",
       "</tbody>\n",
       "</table>\n"
      ],
      "text/latex": [
       "A data.frame: 10 × 3\n",
       "\\begin{tabular}{r|lll}\n",
       "  & OZONE & variable & value\\\\\n",
       "  & <int> & <fct> & <dbl>\\\\\n",
       "\\hline\n",
       "\t3 & 12 & SOLAR.R & 149.0\\\\\n",
       "\t50 & 12 & SOLAR.R & 120.0\\\\\n",
       "\t156 & 12 & WIND    &  12.6\\\\\n",
       "\t203 & 12 & WIND    &  11.5\\\\\n",
       "\t309 & 12 & TEMP    &  74.0\\\\\n",
       "\t356 & 12 & TEMP    &  73.0\\\\\n",
       "\t462 & 12 & MONTH   &   5.0\\\\\n",
       "\t509 & 12 & MONTH   &   6.0\\\\\n",
       "\t615 & 12 & DAY     &   3.0\\\\\n",
       "\t662 & 12 & DAY     &  19.0\\\\\n",
       "\\end{tabular}\n"
      ],
      "text/markdown": [
       "\n",
       "A data.frame: 10 × 3\n",
       "\n",
       "| <!--/--> | OZONE &lt;int&gt; | variable &lt;fct&gt; | value &lt;dbl&gt; |\n",
       "|---|---|---|---|\n",
       "| 3 | 12 | SOLAR.R | 149.0 |\n",
       "| 50 | 12 | SOLAR.R | 120.0 |\n",
       "| 156 | 12 | WIND    |  12.6 |\n",
       "| 203 | 12 | WIND    |  11.5 |\n",
       "| 309 | 12 | TEMP    |  74.0 |\n",
       "| 356 | 12 | TEMP    |  73.0 |\n",
       "| 462 | 12 | MONTH   |   5.0 |\n",
       "| 509 | 12 | MONTH   |   6.0 |\n",
       "| 615 | 12 | DAY     |   3.0 |\n",
       "| 662 | 12 | DAY     |  19.0 |\n",
       "\n"
      ],
      "text/plain": [
       "    OZONE variable value\n",
       "3   12    SOLAR.R  149.0\n",
       "50  12    SOLAR.R  120.0\n",
       "156 12    WIND      12.6\n",
       "203 12    WIND      11.5\n",
       "309 12    TEMP      74.0\n",
       "356 12    TEMP      73.0\n",
       "462 12    MONTH      5.0\n",
       "509 12    MONTH      6.0\n",
       "615 12    DAY        3.0\n",
       "662 12    DAY       19.0"
      ]
     },
     "metadata": {},
     "output_type": "display_data"
    }
   ],
   "source": [
    "# subset(airquality, MONTH==5 & DAY==1)\n",
    "subset(airquality, OZONE==12)\n",
    "head(aql)\n",
    "subset(aql, OZONE==12) \n",
    "#subset(aql, value==190)\n",
    "\n",
    "# subset(aql, MONTH==5 & DAY==1)"
   ]
  },
  {
   "cell_type": "code",
   "execution_count": 37,
   "metadata": {
    "scrolled": true
   },
   "outputs": [
    {
     "data": {
      "text/html": [
       "<table>\n",
       "<caption>A data.frame: 1 × 6</caption>\n",
       "<thead>\n",
       "\t<tr><th></th><th scope=col>OZONE</th><th scope=col>SOLAR.R</th><th scope=col>WIND</th><th scope=col>TEMP</th><th scope=col>MONTH</th><th scope=col>DAY</th></tr>\n",
       "\t<tr><th></th><th scope=col>&lt;int&gt;</th><th scope=col>&lt;int&gt;</th><th scope=col>&lt;dbl&gt;</th><th scope=col>&lt;int&gt;</th><th scope=col>&lt;int&gt;</th><th scope=col>&lt;int&gt;</th></tr>\n",
       "</thead>\n",
       "<tbody>\n",
       "\t<tr><th scope=row>1</th><td>41</td><td>190</td><td>7.4</td><td>67</td><td>5</td><td>1</td></tr>\n",
       "</tbody>\n",
       "</table>\n"
      ],
      "text/latex": [
       "A data.frame: 1 × 6\n",
       "\\begin{tabular}{r|llllll}\n",
       "  & OZONE & SOLAR.R & WIND & TEMP & MONTH & DAY\\\\\n",
       "  & <int> & <int> & <dbl> & <int> & <int> & <int>\\\\\n",
       "\\hline\n",
       "\t1 & 41 & 190 & 7.4 & 67 & 5 & 1\\\\\n",
       "\\end{tabular}\n"
      ],
      "text/markdown": [
       "\n",
       "A data.frame: 1 × 6\n",
       "\n",
       "| <!--/--> | OZONE &lt;int&gt; | SOLAR.R &lt;int&gt; | WIND &lt;dbl&gt; | TEMP &lt;int&gt; | MONTH &lt;int&gt; | DAY &lt;int&gt; |\n",
       "|---|---|---|---|---|---|---|\n",
       "| 1 | 41 | 190 | 7.4 | 67 | 5 | 1 |\n",
       "\n"
      ],
      "text/plain": [
       "  OZONE SOLAR.R WIND TEMP MONTH DAY\n",
       "1 41    190     7.4  67   5     1  "
      ]
     },
     "metadata": {},
     "output_type": "display_data"
    },
    {
     "data": {
      "text/html": [
       "<table>\n",
       "<caption>A data.frame: 4 × 4</caption>\n",
       "<thead>\n",
       "\t<tr><th></th><th scope=col>MONTH</th><th scope=col>DAY</th><th scope=col>variable</th><th scope=col>value</th></tr>\n",
       "\t<tr><th></th><th scope=col>&lt;int&gt;</th><th scope=col>&lt;int&gt;</th><th scope=col>&lt;fct&gt;</th><th scope=col>&lt;dbl&gt;</th></tr>\n",
       "</thead>\n",
       "<tbody>\n",
       "\t<tr><th scope=row>1</th><td>5</td><td>1</td><td>OZONE  </td><td> 41.0</td></tr>\n",
       "\t<tr><th scope=row>154</th><td>5</td><td>1</td><td>SOLAR.R</td><td>190.0</td></tr>\n",
       "\t<tr><th scope=row>307</th><td>5</td><td>1</td><td>WIND   </td><td>  7.4</td></tr>\n",
       "\t<tr><th scope=row>460</th><td>5</td><td>1</td><td>TEMP   </td><td> 67.0</td></tr>\n",
       "</tbody>\n",
       "</table>\n"
      ],
      "text/latex": [
       "A data.frame: 4 × 4\n",
       "\\begin{tabular}{r|llll}\n",
       "  & MONTH & DAY & variable & value\\\\\n",
       "  & <int> & <int> & <fct> & <dbl>\\\\\n",
       "\\hline\n",
       "\t1 & 5 & 1 & OZONE   &  41.0\\\\\n",
       "\t154 & 5 & 1 & SOLAR.R & 190.0\\\\\n",
       "\t307 & 5 & 1 & WIND    &   7.4\\\\\n",
       "\t460 & 5 & 1 & TEMP    &  67.0\\\\\n",
       "\\end{tabular}\n"
      ],
      "text/markdown": [
       "\n",
       "A data.frame: 4 × 4\n",
       "\n",
       "| <!--/--> | MONTH &lt;int&gt; | DAY &lt;int&gt; | variable &lt;fct&gt; | value &lt;dbl&gt; |\n",
       "|---|---|---|---|---|\n",
       "| 1 | 5 | 1 | OZONE   |  41.0 |\n",
       "| 154 | 5 | 1 | SOLAR.R | 190.0 |\n",
       "| 307 | 5 | 1 | WIND    |   7.4 |\n",
       "| 460 | 5 | 1 | TEMP    |  67.0 |\n",
       "\n"
      ],
      "text/plain": [
       "    MONTH DAY variable value\n",
       "1   5     1   OZONE     41.0\n",
       "154 5     1   SOLAR.R  190.0\n",
       "307 5     1   WIND       7.4\n",
       "460 5     1   TEMP      67.0"
      ]
     },
     "metadata": {},
     "output_type": "display_data"
    }
   ],
   "source": [
    "aql=melt(airquality, id.vars=c('MONTH', 'DAY'))\n",
    "subset(airquality, MONTH==5 & DAY==1)\n",
    "subset(aql, MONTH==5 & DAY==1)"
   ]
  },
  {
   "cell_type": "code",
   "execution_count": 38,
   "metadata": {
    "scrolled": false
   },
   "outputs": [
    {
     "data": {
      "text/html": [
       "<table>\n",
       "<caption>A data.frame: 6 × 6</caption>\n",
       "<thead>\n",
       "\t<tr><th></th><th scope=col>OZONE</th><th scope=col>SOLAR.R</th><th scope=col>WIND</th><th scope=col>TEMP</th><th scope=col>MONTH</th><th scope=col>DAY</th></tr>\n",
       "\t<tr><th></th><th scope=col>&lt;int&gt;</th><th scope=col>&lt;int&gt;</th><th scope=col>&lt;dbl&gt;</th><th scope=col>&lt;int&gt;</th><th scope=col>&lt;int&gt;</th><th scope=col>&lt;int&gt;</th></tr>\n",
       "</thead>\n",
       "<tbody>\n",
       "\t<tr><th scope=row>1</th><td>41</td><td>190</td><td> 7.4</td><td>67</td><td>5</td><td>1</td></tr>\n",
       "\t<tr><th scope=row>2</th><td>36</td><td>118</td><td> 8.0</td><td>72</td><td>5</td><td>2</td></tr>\n",
       "\t<tr><th scope=row>3</th><td>12</td><td>149</td><td>12.6</td><td>74</td><td>5</td><td>3</td></tr>\n",
       "\t<tr><th scope=row>4</th><td>18</td><td>313</td><td>11.5</td><td>62</td><td>5</td><td>4</td></tr>\n",
       "\t<tr><th scope=row>5</th><td>NA</td><td> NA</td><td>14.3</td><td>56</td><td>5</td><td>5</td></tr>\n",
       "\t<tr><th scope=row>6</th><td>28</td><td> NA</td><td>14.9</td><td>66</td><td>5</td><td>6</td></tr>\n",
       "</tbody>\n",
       "</table>\n"
      ],
      "text/latex": [
       "A data.frame: 6 × 6\n",
       "\\begin{tabular}{r|llllll}\n",
       "  & OZONE & SOLAR.R & WIND & TEMP & MONTH & DAY\\\\\n",
       "  & <int> & <int> & <dbl> & <int> & <int> & <int>\\\\\n",
       "\\hline\n",
       "\t1 & 41 & 190 &  7.4 & 67 & 5 & 1\\\\\n",
       "\t2 & 36 & 118 &  8.0 & 72 & 5 & 2\\\\\n",
       "\t3 & 12 & 149 & 12.6 & 74 & 5 & 3\\\\\n",
       "\t4 & 18 & 313 & 11.5 & 62 & 5 & 4\\\\\n",
       "\t5 & NA &  NA & 14.3 & 56 & 5 & 5\\\\\n",
       "\t6 & 28 &  NA & 14.9 & 66 & 5 & 6\\\\\n",
       "\\end{tabular}\n"
      ],
      "text/markdown": [
       "\n",
       "A data.frame: 6 × 6\n",
       "\n",
       "| <!--/--> | OZONE &lt;int&gt; | SOLAR.R &lt;int&gt; | WIND &lt;dbl&gt; | TEMP &lt;int&gt; | MONTH &lt;int&gt; | DAY &lt;int&gt; |\n",
       "|---|---|---|---|---|---|---|\n",
       "| 1 | 41 | 190 |  7.4 | 67 | 5 | 1 |\n",
       "| 2 | 36 | 118 |  8.0 | 72 | 5 | 2 |\n",
       "| 3 | 12 | 149 | 12.6 | 74 | 5 | 3 |\n",
       "| 4 | 18 | 313 | 11.5 | 62 | 5 | 4 |\n",
       "| 5 | NA |  NA | 14.3 | 56 | 5 | 5 |\n",
       "| 6 | 28 |  NA | 14.9 | 66 | 5 | 6 |\n",
       "\n"
      ],
      "text/plain": [
       "  OZONE SOLAR.R WIND TEMP MONTH DAY\n",
       "1 41    190      7.4 67   5     1  \n",
       "2 36    118      8.0 72   5     2  \n",
       "3 12    149     12.6 74   5     3  \n",
       "4 18    313     11.5 62   5     4  \n",
       "5 NA     NA     14.3 56   5     5  \n",
       "6 28     NA     14.9 66   5     6  "
      ]
     },
     "metadata": {},
     "output_type": "display_data"
    },
    {
     "data": {
      "text/html": [
       "<table>\n",
       "<caption>A data.frame: 4 × 4</caption>\n",
       "<thead>\n",
       "\t<tr><th></th><th scope=col>MONTH</th><th scope=col>DAY</th><th scope=col>climate_variable</th><th scope=col>climate_value</th></tr>\n",
       "\t<tr><th></th><th scope=col>&lt;int&gt;</th><th scope=col>&lt;int&gt;</th><th scope=col>&lt;fct&gt;</th><th scope=col>&lt;dbl&gt;</th></tr>\n",
       "</thead>\n",
       "<tbody>\n",
       "\t<tr><th scope=row>1</th><td>5</td><td>1</td><td>OZONE  </td><td> 41.0</td></tr>\n",
       "\t<tr><th scope=row>154</th><td>5</td><td>1</td><td>SOLAR.R</td><td>190.0</td></tr>\n",
       "\t<tr><th scope=row>307</th><td>5</td><td>1</td><td>WIND   </td><td>  7.4</td></tr>\n",
       "\t<tr><th scope=row>460</th><td>5</td><td>1</td><td>TEMP   </td><td> 67.0</td></tr>\n",
       "</tbody>\n",
       "</table>\n"
      ],
      "text/latex": [
       "A data.frame: 4 × 4\n",
       "\\begin{tabular}{r|llll}\n",
       "  & MONTH & DAY & climate\\_variable & climate\\_value\\\\\n",
       "  & <int> & <int> & <fct> & <dbl>\\\\\n",
       "\\hline\n",
       "\t1 & 5 & 1 & OZONE   &  41.0\\\\\n",
       "\t154 & 5 & 1 & SOLAR.R & 190.0\\\\\n",
       "\t307 & 5 & 1 & WIND    &   7.4\\\\\n",
       "\t460 & 5 & 1 & TEMP    &  67.0\\\\\n",
       "\\end{tabular}\n"
      ],
      "text/markdown": [
       "\n",
       "A data.frame: 4 × 4\n",
       "\n",
       "| <!--/--> | MONTH &lt;int&gt; | DAY &lt;int&gt; | climate_variable &lt;fct&gt; | climate_value &lt;dbl&gt; |\n",
       "|---|---|---|---|---|\n",
       "| 1 | 5 | 1 | OZONE   |  41.0 |\n",
       "| 154 | 5 | 1 | SOLAR.R | 190.0 |\n",
       "| 307 | 5 | 1 | WIND    |   7.4 |\n",
       "| 460 | 5 | 1 | TEMP    |  67.0 |\n",
       "\n"
      ],
      "text/plain": [
       "    MONTH DAY climate_variable climate_value\n",
       "1   5     1   OZONE             41.0        \n",
       "154 5     1   SOLAR.R          190.0        \n",
       "307 5     1   WIND               7.4        \n",
       "460 5     1   TEMP              67.0        "
      ]
     },
     "metadata": {},
     "output_type": "display_data"
    }
   ],
   "source": [
    "head(airquality)\n",
    "aql <- melt(airquality, id.vars = c(\"MONTH\", \"DAY\"),\n",
    "  variable.name = \"climate_variable\", \n",
    "  value.name = \"climate_value\") #rename\n",
    "subset(aql, MONTH==5 & DAY==1)"
   ]
  },
  {
   "cell_type": "code",
   "execution_count": 75,
   "metadata": {
    "scrolled": true
   },
   "outputs": [
    {
     "data": {
      "text/html": [
       "<table>\n",
       "<thead><tr><th scope=col>MONTH</th><th scope=col>DAY</th><th scope=col>climate_variable</th><th scope=col>climate_value</th></tr></thead>\n",
       "<tbody>\n",
       "\t<tr><td>5    </td><td> 1   </td><td>OZONE</td><td> 41  </td></tr>\n",
       "\t<tr><td>5    </td><td> 2   </td><td>OZONE</td><td> 36  </td></tr>\n",
       "\t<tr><td>5    </td><td> 3   </td><td>OZONE</td><td> 12  </td></tr>\n",
       "\t<tr><td>5    </td><td> 4   </td><td>OZONE</td><td> 18  </td></tr>\n",
       "\t<tr><td>5    </td><td> 5   </td><td>OZONE</td><td> NA  </td></tr>\n",
       "\t<tr><td>5    </td><td> 6   </td><td>OZONE</td><td> 28  </td></tr>\n",
       "\t<tr><td>5    </td><td> 7   </td><td>OZONE</td><td> 23  </td></tr>\n",
       "\t<tr><td>5    </td><td> 8   </td><td>OZONE</td><td> 19  </td></tr>\n",
       "\t<tr><td>5    </td><td> 9   </td><td>OZONE</td><td>  8  </td></tr>\n",
       "\t<tr><td>5    </td><td>10   </td><td>OZONE</td><td> NA  </td></tr>\n",
       "\t<tr><td>5    </td><td>11   </td><td>OZONE</td><td>  7  </td></tr>\n",
       "\t<tr><td>5    </td><td>12   </td><td>OZONE</td><td> 16  </td></tr>\n",
       "\t<tr><td>5    </td><td>13   </td><td>OZONE</td><td> 11  </td></tr>\n",
       "\t<tr><td>5    </td><td>14   </td><td>OZONE</td><td> 14  </td></tr>\n",
       "\t<tr><td>5    </td><td>15   </td><td>OZONE</td><td> 18  </td></tr>\n",
       "\t<tr><td>5    </td><td>16   </td><td>OZONE</td><td> 14  </td></tr>\n",
       "\t<tr><td>5    </td><td>17   </td><td>OZONE</td><td> 34  </td></tr>\n",
       "\t<tr><td>5    </td><td>18   </td><td>OZONE</td><td>  6  </td></tr>\n",
       "\t<tr><td>5    </td><td>19   </td><td>OZONE</td><td> 30  </td></tr>\n",
       "\t<tr><td>5    </td><td>20   </td><td>OZONE</td><td> 11  </td></tr>\n",
       "\t<tr><td>5    </td><td>21   </td><td>OZONE</td><td>  1  </td></tr>\n",
       "\t<tr><td>5    </td><td>22   </td><td>OZONE</td><td> 11  </td></tr>\n",
       "\t<tr><td>5    </td><td>23   </td><td>OZONE</td><td>  4  </td></tr>\n",
       "\t<tr><td>5    </td><td>24   </td><td>OZONE</td><td> 32  </td></tr>\n",
       "\t<tr><td>5    </td><td>25   </td><td>OZONE</td><td> NA  </td></tr>\n",
       "\t<tr><td>5    </td><td>26   </td><td>OZONE</td><td> NA  </td></tr>\n",
       "\t<tr><td>5    </td><td>27   </td><td>OZONE</td><td> NA  </td></tr>\n",
       "\t<tr><td>5    </td><td>28   </td><td>OZONE</td><td> 23  </td></tr>\n",
       "\t<tr><td>5    </td><td>29   </td><td>OZONE</td><td> 45  </td></tr>\n",
       "\t<tr><td>5    </td><td>30   </td><td>OZONE</td><td>115  </td></tr>\n",
       "\t<tr><td>...</td><td>...</td><td>...</td><td>...</td></tr>\n",
       "\t<tr><td>9   </td><td> 1  </td><td>TEMP</td><td>91  </td></tr>\n",
       "\t<tr><td>9   </td><td> 2  </td><td>TEMP</td><td>92  </td></tr>\n",
       "\t<tr><td>9   </td><td> 3  </td><td>TEMP</td><td>93  </td></tr>\n",
       "\t<tr><td>9   </td><td> 4  </td><td>TEMP</td><td>93  </td></tr>\n",
       "\t<tr><td>9   </td><td> 5  </td><td>TEMP</td><td>87  </td></tr>\n",
       "\t<tr><td>9   </td><td> 6  </td><td>TEMP</td><td>84  </td></tr>\n",
       "\t<tr><td>9   </td><td> 7  </td><td>TEMP</td><td>80  </td></tr>\n",
       "\t<tr><td>9   </td><td> 8  </td><td>TEMP</td><td>78  </td></tr>\n",
       "\t<tr><td>9   </td><td> 9  </td><td>TEMP</td><td>75  </td></tr>\n",
       "\t<tr><td>9   </td><td>10  </td><td>TEMP</td><td>73  </td></tr>\n",
       "\t<tr><td>9   </td><td>11  </td><td>TEMP</td><td>81  </td></tr>\n",
       "\t<tr><td>9   </td><td>12  </td><td>TEMP</td><td>76  </td></tr>\n",
       "\t<tr><td>9   </td><td>13  </td><td>TEMP</td><td>77  </td></tr>\n",
       "\t<tr><td>9   </td><td>14  </td><td>TEMP</td><td>71  </td></tr>\n",
       "\t<tr><td>9   </td><td>15  </td><td>TEMP</td><td>71  </td></tr>\n",
       "\t<tr><td>9   </td><td>16  </td><td>TEMP</td><td>78  </td></tr>\n",
       "\t<tr><td>9   </td><td>17  </td><td>TEMP</td><td>67  </td></tr>\n",
       "\t<tr><td>9   </td><td>18  </td><td>TEMP</td><td>76  </td></tr>\n",
       "\t<tr><td>9   </td><td>19  </td><td>TEMP</td><td>68  </td></tr>\n",
       "\t<tr><td>9   </td><td>20  </td><td>TEMP</td><td>82  </td></tr>\n",
       "\t<tr><td>9   </td><td>21  </td><td>TEMP</td><td>64  </td></tr>\n",
       "\t<tr><td>9   </td><td>22  </td><td>TEMP</td><td>71  </td></tr>\n",
       "\t<tr><td>9   </td><td>23  </td><td>TEMP</td><td>81  </td></tr>\n",
       "\t<tr><td>9   </td><td>24  </td><td>TEMP</td><td>69  </td></tr>\n",
       "\t<tr><td>9   </td><td>25  </td><td>TEMP</td><td>63  </td></tr>\n",
       "\t<tr><td>9   </td><td>26  </td><td>TEMP</td><td>70  </td></tr>\n",
       "\t<tr><td>9   </td><td>27  </td><td>TEMP</td><td>77  </td></tr>\n",
       "\t<tr><td>9   </td><td>28  </td><td>TEMP</td><td>75  </td></tr>\n",
       "\t<tr><td>9   </td><td>29  </td><td>TEMP</td><td>76  </td></tr>\n",
       "\t<tr><td>9   </td><td>30  </td><td>TEMP</td><td>68  </td></tr>\n",
       "</tbody>\n",
       "</table>\n"
      ],
      "text/latex": [
       "\\begin{tabular}{r|llll}\n",
       " MONTH & DAY & climate\\_variable & climate\\_value\\\\\n",
       "\\hline\n",
       "\t 5     &  1    & OZONE &  41  \\\\\n",
       "\t 5     &  2    & OZONE &  36  \\\\\n",
       "\t 5     &  3    & OZONE &  12  \\\\\n",
       "\t 5     &  4    & OZONE &  18  \\\\\n",
       "\t 5     &  5    & OZONE &  NA  \\\\\n",
       "\t 5     &  6    & OZONE &  28  \\\\\n",
       "\t 5     &  7    & OZONE &  23  \\\\\n",
       "\t 5     &  8    & OZONE &  19  \\\\\n",
       "\t 5     &  9    & OZONE &   8  \\\\\n",
       "\t 5     & 10    & OZONE &  NA  \\\\\n",
       "\t 5     & 11    & OZONE &   7  \\\\\n",
       "\t 5     & 12    & OZONE &  16  \\\\\n",
       "\t 5     & 13    & OZONE &  11  \\\\\n",
       "\t 5     & 14    & OZONE &  14  \\\\\n",
       "\t 5     & 15    & OZONE &  18  \\\\\n",
       "\t 5     & 16    & OZONE &  14  \\\\\n",
       "\t 5     & 17    & OZONE &  34  \\\\\n",
       "\t 5     & 18    & OZONE &   6  \\\\\n",
       "\t 5     & 19    & OZONE &  30  \\\\\n",
       "\t 5     & 20    & OZONE &  11  \\\\\n",
       "\t 5     & 21    & OZONE &   1  \\\\\n",
       "\t 5     & 22    & OZONE &  11  \\\\\n",
       "\t 5     & 23    & OZONE &   4  \\\\\n",
       "\t 5     & 24    & OZONE &  32  \\\\\n",
       "\t 5     & 25    & OZONE &  NA  \\\\\n",
       "\t 5     & 26    & OZONE &  NA  \\\\\n",
       "\t 5     & 27    & OZONE &  NA  \\\\\n",
       "\t 5     & 28    & OZONE &  23  \\\\\n",
       "\t 5     & 29    & OZONE &  45  \\\\\n",
       "\t 5     & 30    & OZONE & 115  \\\\\n",
       "\t ... & ... & ... & ...\\\\\n",
       "\t 9    &  1   & TEMP & 91  \\\\\n",
       "\t 9    &  2   & TEMP & 92  \\\\\n",
       "\t 9    &  3   & TEMP & 93  \\\\\n",
       "\t 9    &  4   & TEMP & 93  \\\\\n",
       "\t 9    &  5   & TEMP & 87  \\\\\n",
       "\t 9    &  6   & TEMP & 84  \\\\\n",
       "\t 9    &  7   & TEMP & 80  \\\\\n",
       "\t 9    &  8   & TEMP & 78  \\\\\n",
       "\t 9    &  9   & TEMP & 75  \\\\\n",
       "\t 9    & 10   & TEMP & 73  \\\\\n",
       "\t 9    & 11   & TEMP & 81  \\\\\n",
       "\t 9    & 12   & TEMP & 76  \\\\\n",
       "\t 9    & 13   & TEMP & 77  \\\\\n",
       "\t 9    & 14   & TEMP & 71  \\\\\n",
       "\t 9    & 15   & TEMP & 71  \\\\\n",
       "\t 9    & 16   & TEMP & 78  \\\\\n",
       "\t 9    & 17   & TEMP & 67  \\\\\n",
       "\t 9    & 18   & TEMP & 76  \\\\\n",
       "\t 9    & 19   & TEMP & 68  \\\\\n",
       "\t 9    & 20   & TEMP & 82  \\\\\n",
       "\t 9    & 21   & TEMP & 64  \\\\\n",
       "\t 9    & 22   & TEMP & 71  \\\\\n",
       "\t 9    & 23   & TEMP & 81  \\\\\n",
       "\t 9    & 24   & TEMP & 69  \\\\\n",
       "\t 9    & 25   & TEMP & 63  \\\\\n",
       "\t 9    & 26   & TEMP & 70  \\\\\n",
       "\t 9    & 27   & TEMP & 77  \\\\\n",
       "\t 9    & 28   & TEMP & 75  \\\\\n",
       "\t 9    & 29   & TEMP & 76  \\\\\n",
       "\t 9    & 30   & TEMP & 68  \\\\\n",
       "\\end{tabular}\n"
      ],
      "text/markdown": [
       "\n",
       "MONTH | DAY | climate_variable | climate_value | \n",
       "|---|---|---|---|---|---|---|---|---|---|---|---|---|---|---|---|---|---|---|---|---|---|---|---|---|---|---|---|---|---|---|---|---|---|---|---|---|---|---|---|---|---|---|---|---|---|---|---|---|---|---|---|---|---|---|---|---|---|---|---|---|\n",
       "| 5     |  1    | OZONE |  41   | \n",
       "| 5     |  2    | OZONE |  36   | \n",
       "| 5     |  3    | OZONE |  12   | \n",
       "| 5     |  4    | OZONE |  18   | \n",
       "| 5     |  5    | OZONE |  NA   | \n",
       "| 5     |  6    | OZONE |  28   | \n",
       "| 5     |  7    | OZONE |  23   | \n",
       "| 5     |  8    | OZONE |  19   | \n",
       "| 5     |  9    | OZONE |   8   | \n",
       "| 5     | 10    | OZONE |  NA   | \n",
       "| 5     | 11    | OZONE |   7   | \n",
       "| 5     | 12    | OZONE |  16   | \n",
       "| 5     | 13    | OZONE |  11   | \n",
       "| 5     | 14    | OZONE |  14   | \n",
       "| 5     | 15    | OZONE |  18   | \n",
       "| 5     | 16    | OZONE |  14   | \n",
       "| 5     | 17    | OZONE |  34   | \n",
       "| 5     | 18    | OZONE |   6   | \n",
       "| 5     | 19    | OZONE |  30   | \n",
       "| 5     | 20    | OZONE |  11   | \n",
       "| 5     | 21    | OZONE |   1   | \n",
       "| 5     | 22    | OZONE |  11   | \n",
       "| 5     | 23    | OZONE |   4   | \n",
       "| 5     | 24    | OZONE |  32   | \n",
       "| 5     | 25    | OZONE |  NA   | \n",
       "| 5     | 26    | OZONE |  NA   | \n",
       "| 5     | 27    | OZONE |  NA   | \n",
       "| 5     | 28    | OZONE |  23   | \n",
       "| 5     | 29    | OZONE |  45   | \n",
       "| 5     | 30    | OZONE | 115   | \n",
       "| ... | ... | ... | ... | \n",
       "| 9    |  1   | TEMP | 91   | \n",
       "| 9    |  2   | TEMP | 92   | \n",
       "| 9    |  3   | TEMP | 93   | \n",
       "| 9    |  4   | TEMP | 93   | \n",
       "| 9    |  5   | TEMP | 87   | \n",
       "| 9    |  6   | TEMP | 84   | \n",
       "| 9    |  7   | TEMP | 80   | \n",
       "| 9    |  8   | TEMP | 78   | \n",
       "| 9    |  9   | TEMP | 75   | \n",
       "| 9    | 10   | TEMP | 73   | \n",
       "| 9    | 11   | TEMP | 81   | \n",
       "| 9    | 12   | TEMP | 76   | \n",
       "| 9    | 13   | TEMP | 77   | \n",
       "| 9    | 14   | TEMP | 71   | \n",
       "| 9    | 15   | TEMP | 71   | \n",
       "| 9    | 16   | TEMP | 78   | \n",
       "| 9    | 17   | TEMP | 67   | \n",
       "| 9    | 18   | TEMP | 76   | \n",
       "| 9    | 19   | TEMP | 68   | \n",
       "| 9    | 20   | TEMP | 82   | \n",
       "| 9    | 21   | TEMP | 64   | \n",
       "| 9    | 22   | TEMP | 71   | \n",
       "| 9    | 23   | TEMP | 81   | \n",
       "| 9    | 24   | TEMP | 69   | \n",
       "| 9    | 25   | TEMP | 63   | \n",
       "| 9    | 26   | TEMP | 70   | \n",
       "| 9    | 27   | TEMP | 77   | \n",
       "| 9    | 28   | TEMP | 75   | \n",
       "| 9    | 29   | TEMP | 76   | \n",
       "| 9    | 30   | TEMP | 68   | \n",
       "\n",
       "\n"
      ],
      "text/plain": [
       "    MONTH DAY climate_variable climate_value\n",
       "1   5      1  OZONE             41          \n",
       "2   5      2  OZONE             36          \n",
       "3   5      3  OZONE             12          \n",
       "4   5      4  OZONE             18          \n",
       "5   5      5  OZONE             NA          \n",
       "6   5      6  OZONE             28          \n",
       "7   5      7  OZONE             23          \n",
       "8   5      8  OZONE             19          \n",
       "9   5      9  OZONE              8          \n",
       "10  5     10  OZONE             NA          \n",
       "11  5     11  OZONE              7          \n",
       "12  5     12  OZONE             16          \n",
       "13  5     13  OZONE             11          \n",
       "14  5     14  OZONE             14          \n",
       "15  5     15  OZONE             18          \n",
       "16  5     16  OZONE             14          \n",
       "17  5     17  OZONE             34          \n",
       "18  5     18  OZONE              6          \n",
       "19  5     19  OZONE             30          \n",
       "20  5     20  OZONE             11          \n",
       "21  5     21  OZONE              1          \n",
       "22  5     22  OZONE             11          \n",
       "23  5     23  OZONE              4          \n",
       "24  5     24  OZONE             32          \n",
       "25  5     25  OZONE             NA          \n",
       "26  5     26  OZONE             NA          \n",
       "27  5     27  OZONE             NA          \n",
       "28  5     28  OZONE             23          \n",
       "29  5     29  OZONE             45          \n",
       "30  5     30  OZONE            115          \n",
       "... ...   ... ...              ...          \n",
       "583 9      1  TEMP             91           \n",
       "584 9      2  TEMP             92           \n",
       "585 9      3  TEMP             93           \n",
       "586 9      4  TEMP             93           \n",
       "587 9      5  TEMP             87           \n",
       "588 9      6  TEMP             84           \n",
       "589 9      7  TEMP             80           \n",
       "590 9      8  TEMP             78           \n",
       "591 9      9  TEMP             75           \n",
       "592 9     10  TEMP             73           \n",
       "593 9     11  TEMP             81           \n",
       "594 9     12  TEMP             76           \n",
       "595 9     13  TEMP             77           \n",
       "596 9     14  TEMP             71           \n",
       "597 9     15  TEMP             71           \n",
       "598 9     16  TEMP             78           \n",
       "599 9     17  TEMP             67           \n",
       "600 9     18  TEMP             76           \n",
       "601 9     19  TEMP             68           \n",
       "602 9     20  TEMP             82           \n",
       "603 9     21  TEMP             64           \n",
       "604 9     22  TEMP             71           \n",
       "605 9     23  TEMP             81           \n",
       "606 9     24  TEMP             69           \n",
       "607 9     25  TEMP             63           \n",
       "608 9     26  TEMP             70           \n",
       "609 9     27  TEMP             77           \n",
       "610 9     28  TEMP             75           \n",
       "611 9     29  TEMP             76           \n",
       "612 9     30  TEMP             68           "
      ]
     },
     "metadata": {},
     "output_type": "display_data"
    }
   ],
   "source": [
    "aql"
   ]
  },
  {
   "cell_type": "code",
   "execution_count": 39,
   "metadata": {
    "scrolled": false
   },
   "outputs": [
    {
     "data": {
      "text/html": [
       "<table>\n",
       "<caption>A data.frame: 6 × 6</caption>\n",
       "<thead>\n",
       "\t<tr><th></th><th scope=col>MONTH</th><th scope=col>DAY</th><th scope=col>OZONE</th><th scope=col>SOLAR.R</th><th scope=col>WIND</th><th scope=col>TEMP</th></tr>\n",
       "\t<tr><th></th><th scope=col>&lt;int&gt;</th><th scope=col>&lt;int&gt;</th><th scope=col>&lt;dbl&gt;</th><th scope=col>&lt;dbl&gt;</th><th scope=col>&lt;dbl&gt;</th><th scope=col>&lt;dbl&gt;</th></tr>\n",
       "</thead>\n",
       "<tbody>\n",
       "\t<tr><th scope=row>1</th><td>5</td><td>1</td><td>41</td><td>190</td><td> 7.4</td><td>67</td></tr>\n",
       "\t<tr><th scope=row>2</th><td>5</td><td>2</td><td>36</td><td>118</td><td> 8.0</td><td>72</td></tr>\n",
       "\t<tr><th scope=row>3</th><td>5</td><td>3</td><td>12</td><td>149</td><td>12.6</td><td>74</td></tr>\n",
       "\t<tr><th scope=row>4</th><td>5</td><td>4</td><td>18</td><td>313</td><td>11.5</td><td>62</td></tr>\n",
       "\t<tr><th scope=row>5</th><td>5</td><td>5</td><td>NA</td><td> NA</td><td>14.3</td><td>56</td></tr>\n",
       "\t<tr><th scope=row>6</th><td>5</td><td>6</td><td>28</td><td> NA</td><td>14.9</td><td>66</td></tr>\n",
       "</tbody>\n",
       "</table>\n"
      ],
      "text/latex": [
       "A data.frame: 6 × 6\n",
       "\\begin{tabular}{r|llllll}\n",
       "  & MONTH & DAY & OZONE & SOLAR.R & WIND & TEMP\\\\\n",
       "  & <int> & <int> & <dbl> & <dbl> & <dbl> & <dbl>\\\\\n",
       "\\hline\n",
       "\t1 & 5 & 1 & 41 & 190 &  7.4 & 67\\\\\n",
       "\t2 & 5 & 2 & 36 & 118 &  8.0 & 72\\\\\n",
       "\t3 & 5 & 3 & 12 & 149 & 12.6 & 74\\\\\n",
       "\t4 & 5 & 4 & 18 & 313 & 11.5 & 62\\\\\n",
       "\t5 & 5 & 5 & NA &  NA & 14.3 & 56\\\\\n",
       "\t6 & 5 & 6 & 28 &  NA & 14.9 & 66\\\\\n",
       "\\end{tabular}\n"
      ],
      "text/markdown": [
       "\n",
       "A data.frame: 6 × 6\n",
       "\n",
       "| <!--/--> | MONTH &lt;int&gt; | DAY &lt;int&gt; | OZONE &lt;dbl&gt; | SOLAR.R &lt;dbl&gt; | WIND &lt;dbl&gt; | TEMP &lt;dbl&gt; |\n",
       "|---|---|---|---|---|---|---|\n",
       "| 1 | 5 | 1 | 41 | 190 |  7.4 | 67 |\n",
       "| 2 | 5 | 2 | 36 | 118 |  8.0 | 72 |\n",
       "| 3 | 5 | 3 | 12 | 149 | 12.6 | 74 |\n",
       "| 4 | 5 | 4 | 18 | 313 | 11.5 | 62 |\n",
       "| 5 | 5 | 5 | NA |  NA | 14.3 | 56 |\n",
       "| 6 | 5 | 6 | 28 |  NA | 14.9 | 66 |\n",
       "\n"
      ],
      "text/plain": [
       "  MONTH DAY OZONE SOLAR.R WIND TEMP\n",
       "1 5     1   41    190      7.4 67  \n",
       "2 5     2   36    118      8.0 72  \n",
       "3 5     3   12    149     12.6 74  \n",
       "4 5     4   18    313     11.5 62  \n",
       "5 5     5   NA     NA     14.3 56  \n",
       "6 5     6   28     NA     14.9 66  "
      ]
     },
     "metadata": {},
     "output_type": "display_data"
    },
    {
     "data": {
      "text/html": [
       "<table>\n",
       "<caption>A data.frame: 1 × 6</caption>\n",
       "<thead>\n",
       "\t<tr><th></th><th scope=col>MONTH</th><th scope=col>DAY</th><th scope=col>OZONE</th><th scope=col>SOLAR.R</th><th scope=col>WIND</th><th scope=col>TEMP</th></tr>\n",
       "\t<tr><th></th><th scope=col>&lt;int&gt;</th><th scope=col>&lt;int&gt;</th><th scope=col>&lt;dbl&gt;</th><th scope=col>&lt;dbl&gt;</th><th scope=col>&lt;dbl&gt;</th><th scope=col>&lt;dbl&gt;</th></tr>\n",
       "</thead>\n",
       "<tbody>\n",
       "\t<tr><th scope=row>1</th><td>5</td><td>1</td><td>41</td><td>190</td><td>7.4</td><td>67</td></tr>\n",
       "</tbody>\n",
       "</table>\n"
      ],
      "text/latex": [
       "A data.frame: 1 × 6\n",
       "\\begin{tabular}{r|llllll}\n",
       "  & MONTH & DAY & OZONE & SOLAR.R & WIND & TEMP\\\\\n",
       "  & <int> & <int> & <dbl> & <dbl> & <dbl> & <dbl>\\\\\n",
       "\\hline\n",
       "\t1 & 5 & 1 & 41 & 190 & 7.4 & 67\\\\\n",
       "\\end{tabular}\n"
      ],
      "text/markdown": [
       "\n",
       "A data.frame: 1 × 6\n",
       "\n",
       "| <!--/--> | MONTH &lt;int&gt; | DAY &lt;int&gt; | OZONE &lt;dbl&gt; | SOLAR.R &lt;dbl&gt; | WIND &lt;dbl&gt; | TEMP &lt;dbl&gt; |\n",
       "|---|---|---|---|---|---|---|\n",
       "| 1 | 5 | 1 | 41 | 190 | 7.4 | 67 |\n",
       "\n"
      ],
      "text/plain": [
       "  MONTH DAY OZONE SOLAR.R WIND TEMP\n",
       "1 5     1   41    190     7.4  67  "
      ]
     },
     "metadata": {},
     "output_type": "display_data"
    }
   ],
   "source": [
    "aqw <- dcast(aql, MONTH + DAY ~ climate_variable, value.var=\"climate_value\");head(aqw)\n",
    "subset(aqw, MONTH==5 & DAY==1)"
   ]
  },
  {
   "cell_type": "code",
   "execution_count": 40,
   "metadata": {
    "scrolled": false
   },
   "outputs": [
    {
     "data": {
      "text/html": [
       "<table>\n",
       "<caption>A data.frame: 6 × 4</caption>\n",
       "<thead>\n",
       "\t<tr><th></th><th scope=col>MONTH</th><th scope=col>DAY</th><th scope=col>climate_variable</th><th scope=col>climate_value</th></tr>\n",
       "\t<tr><th></th><th scope=col>&lt;int&gt;</th><th scope=col>&lt;int&gt;</th><th scope=col>&lt;fct&gt;</th><th scope=col>&lt;dbl&gt;</th></tr>\n",
       "</thead>\n",
       "<tbody>\n",
       "\t<tr><th scope=row>1</th><td>5</td><td>1</td><td>OZONE</td><td>41</td></tr>\n",
       "\t<tr><th scope=row>2</th><td>5</td><td>2</td><td>OZONE</td><td>36</td></tr>\n",
       "\t<tr><th scope=row>3</th><td>5</td><td>3</td><td>OZONE</td><td>12</td></tr>\n",
       "\t<tr><th scope=row>4</th><td>5</td><td>4</td><td>OZONE</td><td>18</td></tr>\n",
       "\t<tr><th scope=row>5</th><td>5</td><td>5</td><td>OZONE</td><td>NA</td></tr>\n",
       "\t<tr><th scope=row>6</th><td>5</td><td>6</td><td>OZONE</td><td>28</td></tr>\n",
       "</tbody>\n",
       "</table>\n"
      ],
      "text/latex": [
       "A data.frame: 6 × 4\n",
       "\\begin{tabular}{r|llll}\n",
       "  & MONTH & DAY & climate\\_variable & climate\\_value\\\\\n",
       "  & <int> & <int> & <fct> & <dbl>\\\\\n",
       "\\hline\n",
       "\t1 & 5 & 1 & OZONE & 41\\\\\n",
       "\t2 & 5 & 2 & OZONE & 36\\\\\n",
       "\t3 & 5 & 3 & OZONE & 12\\\\\n",
       "\t4 & 5 & 4 & OZONE & 18\\\\\n",
       "\t5 & 5 & 5 & OZONE & NA\\\\\n",
       "\t6 & 5 & 6 & OZONE & 28\\\\\n",
       "\\end{tabular}\n"
      ],
      "text/markdown": [
       "\n",
       "A data.frame: 6 × 4\n",
       "\n",
       "| <!--/--> | MONTH &lt;int&gt; | DAY &lt;int&gt; | climate_variable &lt;fct&gt; | climate_value &lt;dbl&gt; |\n",
       "|---|---|---|---|---|\n",
       "| 1 | 5 | 1 | OZONE | 41 |\n",
       "| 2 | 5 | 2 | OZONE | 36 |\n",
       "| 3 | 5 | 3 | OZONE | 12 |\n",
       "| 4 | 5 | 4 | OZONE | 18 |\n",
       "| 5 | 5 | 5 | OZONE | NA |\n",
       "| 6 | 5 | 6 | OZONE | 28 |\n",
       "\n"
      ],
      "text/plain": [
       "  MONTH DAY climate_variable climate_value\n",
       "1 5     1   OZONE            41           \n",
       "2 5     2   OZONE            36           \n",
       "3 5     3   OZONE            12           \n",
       "4 5     4   OZONE            18           \n",
       "5 5     5   OZONE            NA           \n",
       "6 5     6   OZONE            28           "
      ]
     },
     "metadata": {},
     "output_type": "display_data"
    },
    {
     "name": "stderr",
     "output_type": "stream",
     "text": [
      "Using climate_value as value column: use value.var to override.\n",
      "\n",
      "Aggregation function missing: defaulting to length\n",
      "\n"
     ]
    },
    {
     "data": {
      "text/html": [
       "<table>\n",
       "<caption>A data.frame: 5 × 5</caption>\n",
       "<thead>\n",
       "\t<tr><th scope=col>MONTH</th><th scope=col>OZONE</th><th scope=col>SOLAR.R</th><th scope=col>WIND</th><th scope=col>TEMP</th></tr>\n",
       "\t<tr><th scope=col>&lt;int&gt;</th><th scope=col>&lt;int&gt;</th><th scope=col>&lt;int&gt;</th><th scope=col>&lt;int&gt;</th><th scope=col>&lt;int&gt;</th></tr>\n",
       "</thead>\n",
       "<tbody>\n",
       "\t<tr><td>5</td><td>31</td><td>31</td><td>31</td><td>31</td></tr>\n",
       "\t<tr><td>6</td><td>30</td><td>30</td><td>30</td><td>30</td></tr>\n",
       "\t<tr><td>7</td><td>31</td><td>31</td><td>31</td><td>31</td></tr>\n",
       "\t<tr><td>8</td><td>31</td><td>31</td><td>31</td><td>31</td></tr>\n",
       "\t<tr><td>9</td><td>30</td><td>30</td><td>30</td><td>30</td></tr>\n",
       "</tbody>\n",
       "</table>\n"
      ],
      "text/latex": [
       "A data.frame: 5 × 5\n",
       "\\begin{tabular}{lllll}\n",
       " MONTH & OZONE & SOLAR.R & WIND & TEMP\\\\\n",
       " <int> & <int> & <int> & <int> & <int>\\\\\n",
       "\\hline\n",
       "\t 5 & 31 & 31 & 31 & 31\\\\\n",
       "\t 6 & 30 & 30 & 30 & 30\\\\\n",
       "\t 7 & 31 & 31 & 31 & 31\\\\\n",
       "\t 8 & 31 & 31 & 31 & 31\\\\\n",
       "\t 9 & 30 & 30 & 30 & 30\\\\\n",
       "\\end{tabular}\n"
      ],
      "text/markdown": [
       "\n",
       "A data.frame: 5 × 5\n",
       "\n",
       "| MONTH &lt;int&gt; | OZONE &lt;int&gt; | SOLAR.R &lt;int&gt; | WIND &lt;int&gt; | TEMP &lt;int&gt; |\n",
       "|---|---|---|---|---|\n",
       "| 5 | 31 | 31 | 31 | 31 |\n",
       "| 6 | 30 | 30 | 30 | 30 |\n",
       "| 7 | 31 | 31 | 31 | 31 |\n",
       "| 8 | 31 | 31 | 31 | 31 |\n",
       "| 9 | 30 | 30 | 30 | 30 |\n",
       "\n"
      ],
      "text/plain": [
       "  MONTH OZONE SOLAR.R WIND TEMP\n",
       "1 5     31    31      31   31  \n",
       "2 6     30    30      30   30  \n",
       "3 7     31    31      31   31  \n",
       "4 8     31    31      31   31  \n",
       "5 9     30    30      30   30  "
      ]
     },
     "metadata": {},
     "output_type": "display_data"
    }
   ],
   "source": [
    "head(aql)\n",
    "dcast(aql, MONTH ~ climate_variable) #wrong result"
   ]
  },
  {
   "cell_type": "code",
   "execution_count": 78,
   "metadata": {
    "scrolled": true
   },
   "outputs": [
    {
     "data": {
      "text/html": [
       "<table>\n",
       "<thead><tr><th scope=col>MONTH</th><th scope=col>DAY</th><th scope=col>OZONE</th><th scope=col>variable</th><th scope=col>value</th></tr></thead>\n",
       "<tbody>\n",
       "\t<tr><td>5      </td><td>1      </td><td>41     </td><td>SOLAR.R</td><td>190    </td></tr>\n",
       "\t<tr><td>5      </td><td>2      </td><td>36     </td><td>SOLAR.R</td><td>118    </td></tr>\n",
       "\t<tr><td>5      </td><td>3      </td><td>12     </td><td>SOLAR.R</td><td>149    </td></tr>\n",
       "\t<tr><td>5      </td><td>4      </td><td>18     </td><td>SOLAR.R</td><td>313    </td></tr>\n",
       "\t<tr><td>5      </td><td>5      </td><td>NA     </td><td>SOLAR.R</td><td> NA    </td></tr>\n",
       "\t<tr><td>5      </td><td>6      </td><td>28     </td><td>SOLAR.R</td><td> NA    </td></tr>\n",
       "</tbody>\n",
       "</table>\n"
      ],
      "text/latex": [
       "\\begin{tabular}{r|lllll}\n",
       " MONTH & DAY & OZONE & variable & value\\\\\n",
       "\\hline\n",
       "\t 5       & 1       & 41      & SOLAR.R & 190    \\\\\n",
       "\t 5       & 2       & 36      & SOLAR.R & 118    \\\\\n",
       "\t 5       & 3       & 12      & SOLAR.R & 149    \\\\\n",
       "\t 5       & 4       & 18      & SOLAR.R & 313    \\\\\n",
       "\t 5       & 5       & NA      & SOLAR.R &  NA    \\\\\n",
       "\t 5       & 6       & 28      & SOLAR.R &  NA    \\\\\n",
       "\\end{tabular}\n"
      ],
      "text/markdown": [
       "\n",
       "MONTH | DAY | OZONE | variable | value | \n",
       "|---|---|---|---|---|---|\n",
       "| 5       | 1       | 41      | SOLAR.R | 190     | \n",
       "| 5       | 2       | 36      | SOLAR.R | 118     | \n",
       "| 5       | 3       | 12      | SOLAR.R | 149     | \n",
       "| 5       | 4       | 18      | SOLAR.R | 313     | \n",
       "| 5       | 5       | NA      | SOLAR.R |  NA     | \n",
       "| 5       | 6       | 28      | SOLAR.R |  NA     | \n",
       "\n",
       "\n"
      ],
      "text/plain": [
       "  MONTH DAY OZONE variable value\n",
       "1 5     1   41    SOLAR.R  190  \n",
       "2 5     2   36    SOLAR.R  118  \n",
       "3 5     3   12    SOLAR.R  149  \n",
       "4 5     4   18    SOLAR.R  313  \n",
       "5 5     5   NA    SOLAR.R   NA  \n",
       "6 5     6   28    SOLAR.R   NA  "
      ]
     },
     "metadata": {},
     "output_type": "display_data"
    }
   ],
   "source": [
    "aql2=melt(airquality, id.vars=c(\"MONTH\", \"DAY\", \"OZONE\"))\n",
    "head(aql2)"
   ]
  },
  {
   "cell_type": "code",
   "execution_count": 79,
   "metadata": {
    "scrolled": true
   },
   "outputs": [
    {
     "name": "stderr",
     "output_type": "stream",
     "text": [
      "Using climate_value as value column: use value.var to override.\n"
     ]
    },
    {
     "data": {
      "text/html": [
       "<table>\n",
       "<thead><tr><th scope=col>MONTH</th><th scope=col>OZONE</th><th scope=col>SOLAR.R</th><th scope=col>WIND</th><th scope=col>TEMP</th></tr></thead>\n",
       "<tbody>\n",
       "\t<tr><td>5        </td><td>23.61538 </td><td>181.2963 </td><td>11.622581</td><td>65.54839 </td></tr>\n",
       "\t<tr><td>6        </td><td>29.44444 </td><td>190.1667 </td><td>10.266667</td><td>79.10000 </td></tr>\n",
       "\t<tr><td>7        </td><td>59.11538 </td><td>216.4839 </td><td> 8.941935</td><td>83.90323 </td></tr>\n",
       "\t<tr><td>8        </td><td>59.96154 </td><td>171.8571 </td><td> 8.793548</td><td>83.96774 </td></tr>\n",
       "\t<tr><td>9        </td><td>31.44828 </td><td>167.4333 </td><td>10.180000</td><td>76.90000 </td></tr>\n",
       "</tbody>\n",
       "</table>\n"
      ],
      "text/latex": [
       "\\begin{tabular}{r|lllll}\n",
       " MONTH & OZONE & SOLAR.R & WIND & TEMP\\\\\n",
       "\\hline\n",
       "\t 5         & 23.61538  & 181.2963  & 11.622581 & 65.54839 \\\\\n",
       "\t 6         & 29.44444  & 190.1667  & 10.266667 & 79.10000 \\\\\n",
       "\t 7         & 59.11538  & 216.4839  &  8.941935 & 83.90323 \\\\\n",
       "\t 8         & 59.96154  & 171.8571  &  8.793548 & 83.96774 \\\\\n",
       "\t 9         & 31.44828  & 167.4333  & 10.180000 & 76.90000 \\\\\n",
       "\\end{tabular}\n"
      ],
      "text/markdown": [
       "\n",
       "MONTH | OZONE | SOLAR.R | WIND | TEMP | \n",
       "|---|---|---|---|---|\n",
       "| 5         | 23.61538  | 181.2963  | 11.622581 | 65.54839  | \n",
       "| 6         | 29.44444  | 190.1667  | 10.266667 | 79.10000  | \n",
       "| 7         | 59.11538  | 216.4839  |  8.941935 | 83.90323  | \n",
       "| 8         | 59.96154  | 171.8571  |  8.793548 | 83.96774  | \n",
       "| 9         | 31.44828  | 167.4333  | 10.180000 | 76.90000  | \n",
       "\n",
       "\n"
      ],
      "text/plain": [
       "  MONTH OZONE    SOLAR.R  WIND      TEMP    \n",
       "1 5     23.61538 181.2963 11.622581 65.54839\n",
       "2 6     29.44444 190.1667 10.266667 79.10000\n",
       "3 7     59.11538 216.4839  8.941935 83.90323\n",
       "4 8     59.96154 171.8571  8.793548 83.96774\n",
       "5 9     31.44828 167.4333 10.180000 76.90000"
      ]
     },
     "metadata": {},
     "output_type": "display_data"
    }
   ],
   "source": [
    "dcast(aql, MONTH ~ climate_variable, fun.aggregate=mean, na.rm=T)"
   ]
  },
  {
   "cell_type": "code",
   "execution_count": 41,
   "metadata": {
    "scrolled": false
   },
   "outputs": [
    {
     "data": {
      "text/html": [
       "<table>\n",
       "<caption>A data.frame: 6 × 5</caption>\n",
       "<thead>\n",
       "\t<tr><th></th><th scope=col>Sepal.Length</th><th scope=col>Sepal.Width</th><th scope=col>Petal.Length</th><th scope=col>Petal.Width</th><th scope=col>Species</th></tr>\n",
       "\t<tr><th></th><th scope=col>&lt;dbl&gt;</th><th scope=col>&lt;dbl&gt;</th><th scope=col>&lt;dbl&gt;</th><th scope=col>&lt;dbl&gt;</th><th scope=col>&lt;fct&gt;</th></tr>\n",
       "</thead>\n",
       "<tbody>\n",
       "\t<tr><th scope=row>1</th><td>5.1</td><td>3.5</td><td>1.4</td><td>0.2</td><td>setosa</td></tr>\n",
       "\t<tr><th scope=row>2</th><td>4.9</td><td>3.0</td><td>1.4</td><td>0.2</td><td>setosa</td></tr>\n",
       "\t<tr><th scope=row>3</th><td>4.7</td><td>3.2</td><td>1.3</td><td>0.2</td><td>setosa</td></tr>\n",
       "\t<tr><th scope=row>4</th><td>4.6</td><td>3.1</td><td>1.5</td><td>0.2</td><td>setosa</td></tr>\n",
       "\t<tr><th scope=row>5</th><td>5.0</td><td>3.6</td><td>1.4</td><td>0.2</td><td>setosa</td></tr>\n",
       "\t<tr><th scope=row>6</th><td>5.4</td><td>3.9</td><td>1.7</td><td>0.4</td><td>setosa</td></tr>\n",
       "</tbody>\n",
       "</table>\n"
      ],
      "text/latex": [
       "A data.frame: 6 × 5\n",
       "\\begin{tabular}{r|lllll}\n",
       "  & Sepal.Length & Sepal.Width & Petal.Length & Petal.Width & Species\\\\\n",
       "  & <dbl> & <dbl> & <dbl> & <dbl> & <fct>\\\\\n",
       "\\hline\n",
       "\t1 & 5.1 & 3.5 & 1.4 & 0.2 & setosa\\\\\n",
       "\t2 & 4.9 & 3.0 & 1.4 & 0.2 & setosa\\\\\n",
       "\t3 & 4.7 & 3.2 & 1.3 & 0.2 & setosa\\\\\n",
       "\t4 & 4.6 & 3.1 & 1.5 & 0.2 & setosa\\\\\n",
       "\t5 & 5.0 & 3.6 & 1.4 & 0.2 & setosa\\\\\n",
       "\t6 & 5.4 & 3.9 & 1.7 & 0.4 & setosa\\\\\n",
       "\\end{tabular}\n"
      ],
      "text/markdown": [
       "\n",
       "A data.frame: 6 × 5\n",
       "\n",
       "| <!--/--> | Sepal.Length &lt;dbl&gt; | Sepal.Width &lt;dbl&gt; | Petal.Length &lt;dbl&gt; | Petal.Width &lt;dbl&gt; | Species &lt;fct&gt; |\n",
       "|---|---|---|---|---|---|\n",
       "| 1 | 5.1 | 3.5 | 1.4 | 0.2 | setosa |\n",
       "| 2 | 4.9 | 3.0 | 1.4 | 0.2 | setosa |\n",
       "| 3 | 4.7 | 3.2 | 1.3 | 0.2 | setosa |\n",
       "| 4 | 4.6 | 3.1 | 1.5 | 0.2 | setosa |\n",
       "| 5 | 5.0 | 3.6 | 1.4 | 0.2 | setosa |\n",
       "| 6 | 5.4 | 3.9 | 1.7 | 0.4 | setosa |\n",
       "\n"
      ],
      "text/plain": [
       "  Sepal.Length Sepal.Width Petal.Length Petal.Width Species\n",
       "1 5.1          3.5         1.4          0.2         setosa \n",
       "2 4.9          3.0         1.4          0.2         setosa \n",
       "3 4.7          3.2         1.3          0.2         setosa \n",
       "4 4.6          3.1         1.5          0.2         setosa \n",
       "5 5.0          3.6         1.4          0.2         setosa \n",
       "6 5.4          3.9         1.7          0.4         setosa "
      ]
     },
     "metadata": {},
     "output_type": "display_data"
    },
    {
     "data": {
      "text/html": [
       "'==========data6'"
      ],
      "text/latex": [
       "'==========data6'"
      ],
      "text/markdown": [
       "'==========data6'"
      ],
      "text/plain": [
       "[1] \"==========data6\""
      ]
     },
     "metadata": {},
     "output_type": "display_data"
    },
    {
     "data": {
      "text/html": [
       "<table>\n",
       "<caption>A data.frame: 150 × 6</caption>\n",
       "<thead>\n",
       "\t<tr><th scope=col>Sepal.Length</th><th scope=col>Sepal.Width</th><th scope=col>Petal.Length</th><th scope=col>Species</th><th scope=col>variable</th><th scope=col>value</th></tr>\n",
       "\t<tr><th scope=col>&lt;dbl&gt;</th><th scope=col>&lt;dbl&gt;</th><th scope=col>&lt;dbl&gt;</th><th scope=col>&lt;fct&gt;</th><th scope=col>&lt;fct&gt;</th><th scope=col>&lt;dbl&gt;</th></tr>\n",
       "</thead>\n",
       "<tbody>\n",
       "\t<tr><td>5.1</td><td>3.5</td><td>1.4</td><td>setosa</td><td>Petal.Width</td><td>0.2</td></tr>\n",
       "\t<tr><td>4.9</td><td>3.0</td><td>1.4</td><td>setosa</td><td>Petal.Width</td><td>0.2</td></tr>\n",
       "\t<tr><td>4.7</td><td>3.2</td><td>1.3</td><td>setosa</td><td>Petal.Width</td><td>0.2</td></tr>\n",
       "\t<tr><td>4.6</td><td>3.1</td><td>1.5</td><td>setosa</td><td>Petal.Width</td><td>0.2</td></tr>\n",
       "\t<tr><td>5.0</td><td>3.6</td><td>1.4</td><td>setosa</td><td>Petal.Width</td><td>0.2</td></tr>\n",
       "\t<tr><td>5.4</td><td>3.9</td><td>1.7</td><td>setosa</td><td>Petal.Width</td><td>0.4</td></tr>\n",
       "\t<tr><td>4.6</td><td>3.4</td><td>1.4</td><td>setosa</td><td>Petal.Width</td><td>0.3</td></tr>\n",
       "\t<tr><td>5.0</td><td>3.4</td><td>1.5</td><td>setosa</td><td>Petal.Width</td><td>0.2</td></tr>\n",
       "\t<tr><td>4.4</td><td>2.9</td><td>1.4</td><td>setosa</td><td>Petal.Width</td><td>0.2</td></tr>\n",
       "\t<tr><td>4.9</td><td>3.1</td><td>1.5</td><td>setosa</td><td>Petal.Width</td><td>0.1</td></tr>\n",
       "\t<tr><td>5.4</td><td>3.7</td><td>1.5</td><td>setosa</td><td>Petal.Width</td><td>0.2</td></tr>\n",
       "\t<tr><td>4.8</td><td>3.4</td><td>1.6</td><td>setosa</td><td>Petal.Width</td><td>0.2</td></tr>\n",
       "\t<tr><td>4.8</td><td>3.0</td><td>1.4</td><td>setosa</td><td>Petal.Width</td><td>0.1</td></tr>\n",
       "\t<tr><td>4.3</td><td>3.0</td><td>1.1</td><td>setosa</td><td>Petal.Width</td><td>0.1</td></tr>\n",
       "\t<tr><td>5.8</td><td>4.0</td><td>1.2</td><td>setosa</td><td>Petal.Width</td><td>0.2</td></tr>\n",
       "\t<tr><td>5.7</td><td>4.4</td><td>1.5</td><td>setosa</td><td>Petal.Width</td><td>0.4</td></tr>\n",
       "\t<tr><td>5.4</td><td>3.9</td><td>1.3</td><td>setosa</td><td>Petal.Width</td><td>0.4</td></tr>\n",
       "\t<tr><td>5.1</td><td>3.5</td><td>1.4</td><td>setosa</td><td>Petal.Width</td><td>0.3</td></tr>\n",
       "\t<tr><td>5.7</td><td>3.8</td><td>1.7</td><td>setosa</td><td>Petal.Width</td><td>0.3</td></tr>\n",
       "\t<tr><td>5.1</td><td>3.8</td><td>1.5</td><td>setosa</td><td>Petal.Width</td><td>0.3</td></tr>\n",
       "\t<tr><td>5.4</td><td>3.4</td><td>1.7</td><td>setosa</td><td>Petal.Width</td><td>0.2</td></tr>\n",
       "\t<tr><td>5.1</td><td>3.7</td><td>1.5</td><td>setosa</td><td>Petal.Width</td><td>0.4</td></tr>\n",
       "\t<tr><td>4.6</td><td>3.6</td><td>1.0</td><td>setosa</td><td>Petal.Width</td><td>0.2</td></tr>\n",
       "\t<tr><td>5.1</td><td>3.3</td><td>1.7</td><td>setosa</td><td>Petal.Width</td><td>0.5</td></tr>\n",
       "\t<tr><td>4.8</td><td>3.4</td><td>1.9</td><td>setosa</td><td>Petal.Width</td><td>0.2</td></tr>\n",
       "\t<tr><td>5.0</td><td>3.0</td><td>1.6</td><td>setosa</td><td>Petal.Width</td><td>0.2</td></tr>\n",
       "\t<tr><td>5.0</td><td>3.4</td><td>1.6</td><td>setosa</td><td>Petal.Width</td><td>0.4</td></tr>\n",
       "\t<tr><td>5.2</td><td>3.5</td><td>1.5</td><td>setosa</td><td>Petal.Width</td><td>0.2</td></tr>\n",
       "\t<tr><td>5.2</td><td>3.4</td><td>1.4</td><td>setosa</td><td>Petal.Width</td><td>0.2</td></tr>\n",
       "\t<tr><td>4.7</td><td>3.2</td><td>1.6</td><td>setosa</td><td>Petal.Width</td><td>0.2</td></tr>\n",
       "\t<tr><td>⋮</td><td>⋮</td><td>⋮</td><td>⋮</td><td>⋮</td><td>⋮</td></tr>\n",
       "\t<tr><td>6.9</td><td>3.2</td><td>5.7</td><td>virginica</td><td>Petal.Width</td><td>2.3</td></tr>\n",
       "\t<tr><td>5.6</td><td>2.8</td><td>4.9</td><td>virginica</td><td>Petal.Width</td><td>2.0</td></tr>\n",
       "\t<tr><td>7.7</td><td>2.8</td><td>6.7</td><td>virginica</td><td>Petal.Width</td><td>2.0</td></tr>\n",
       "\t<tr><td>6.3</td><td>2.7</td><td>4.9</td><td>virginica</td><td>Petal.Width</td><td>1.8</td></tr>\n",
       "\t<tr><td>6.7</td><td>3.3</td><td>5.7</td><td>virginica</td><td>Petal.Width</td><td>2.1</td></tr>\n",
       "\t<tr><td>7.2</td><td>3.2</td><td>6.0</td><td>virginica</td><td>Petal.Width</td><td>1.8</td></tr>\n",
       "\t<tr><td>6.2</td><td>2.8</td><td>4.8</td><td>virginica</td><td>Petal.Width</td><td>1.8</td></tr>\n",
       "\t<tr><td>6.1</td><td>3.0</td><td>4.9</td><td>virginica</td><td>Petal.Width</td><td>1.8</td></tr>\n",
       "\t<tr><td>6.4</td><td>2.8</td><td>5.6</td><td>virginica</td><td>Petal.Width</td><td>2.1</td></tr>\n",
       "\t<tr><td>7.2</td><td>3.0</td><td>5.8</td><td>virginica</td><td>Petal.Width</td><td>1.6</td></tr>\n",
       "\t<tr><td>7.4</td><td>2.8</td><td>6.1</td><td>virginica</td><td>Petal.Width</td><td>1.9</td></tr>\n",
       "\t<tr><td>7.9</td><td>3.8</td><td>6.4</td><td>virginica</td><td>Petal.Width</td><td>2.0</td></tr>\n",
       "\t<tr><td>6.4</td><td>2.8</td><td>5.6</td><td>virginica</td><td>Petal.Width</td><td>2.2</td></tr>\n",
       "\t<tr><td>6.3</td><td>2.8</td><td>5.1</td><td>virginica</td><td>Petal.Width</td><td>1.5</td></tr>\n",
       "\t<tr><td>6.1</td><td>2.6</td><td>5.6</td><td>virginica</td><td>Petal.Width</td><td>1.4</td></tr>\n",
       "\t<tr><td>7.7</td><td>3.0</td><td>6.1</td><td>virginica</td><td>Petal.Width</td><td>2.3</td></tr>\n",
       "\t<tr><td>6.3</td><td>3.4</td><td>5.6</td><td>virginica</td><td>Petal.Width</td><td>2.4</td></tr>\n",
       "\t<tr><td>6.4</td><td>3.1</td><td>5.5</td><td>virginica</td><td>Petal.Width</td><td>1.8</td></tr>\n",
       "\t<tr><td>6.0</td><td>3.0</td><td>4.8</td><td>virginica</td><td>Petal.Width</td><td>1.8</td></tr>\n",
       "\t<tr><td>6.9</td><td>3.1</td><td>5.4</td><td>virginica</td><td>Petal.Width</td><td>2.1</td></tr>\n",
       "\t<tr><td>6.7</td><td>3.1</td><td>5.6</td><td>virginica</td><td>Petal.Width</td><td>2.4</td></tr>\n",
       "\t<tr><td>6.9</td><td>3.1</td><td>5.1</td><td>virginica</td><td>Petal.Width</td><td>2.3</td></tr>\n",
       "\t<tr><td>5.8</td><td>2.7</td><td>5.1</td><td>virginica</td><td>Petal.Width</td><td>1.9</td></tr>\n",
       "\t<tr><td>6.8</td><td>3.2</td><td>5.9</td><td>virginica</td><td>Petal.Width</td><td>2.3</td></tr>\n",
       "\t<tr><td>6.7</td><td>3.3</td><td>5.7</td><td>virginica</td><td>Petal.Width</td><td>2.5</td></tr>\n",
       "\t<tr><td>6.7</td><td>3.0</td><td>5.2</td><td>virginica</td><td>Petal.Width</td><td>2.3</td></tr>\n",
       "\t<tr><td>6.3</td><td>2.5</td><td>5.0</td><td>virginica</td><td>Petal.Width</td><td>1.9</td></tr>\n",
       "\t<tr><td>6.5</td><td>3.0</td><td>5.2</td><td>virginica</td><td>Petal.Width</td><td>2.0</td></tr>\n",
       "\t<tr><td>6.2</td><td>3.4</td><td>5.4</td><td>virginica</td><td>Petal.Width</td><td>2.3</td></tr>\n",
       "\t<tr><td>5.9</td><td>3.0</td><td>5.1</td><td>virginica</td><td>Petal.Width</td><td>1.8</td></tr>\n",
       "</tbody>\n",
       "</table>\n"
      ],
      "text/latex": [
       "A data.frame: 150 × 6\n",
       "\\begin{tabular}{llllll}\n",
       " Sepal.Length & Sepal.Width & Petal.Length & Species & variable & value\\\\\n",
       " <dbl> & <dbl> & <dbl> & <fct> & <fct> & <dbl>\\\\\n",
       "\\hline\n",
       "\t 5.1 & 3.5 & 1.4 & setosa & Petal.Width & 0.2\\\\\n",
       "\t 4.9 & 3.0 & 1.4 & setosa & Petal.Width & 0.2\\\\\n",
       "\t 4.7 & 3.2 & 1.3 & setosa & Petal.Width & 0.2\\\\\n",
       "\t 4.6 & 3.1 & 1.5 & setosa & Petal.Width & 0.2\\\\\n",
       "\t 5.0 & 3.6 & 1.4 & setosa & Petal.Width & 0.2\\\\\n",
       "\t 5.4 & 3.9 & 1.7 & setosa & Petal.Width & 0.4\\\\\n",
       "\t 4.6 & 3.4 & 1.4 & setosa & Petal.Width & 0.3\\\\\n",
       "\t 5.0 & 3.4 & 1.5 & setosa & Petal.Width & 0.2\\\\\n",
       "\t 4.4 & 2.9 & 1.4 & setosa & Petal.Width & 0.2\\\\\n",
       "\t 4.9 & 3.1 & 1.5 & setosa & Petal.Width & 0.1\\\\\n",
       "\t 5.4 & 3.7 & 1.5 & setosa & Petal.Width & 0.2\\\\\n",
       "\t 4.8 & 3.4 & 1.6 & setosa & Petal.Width & 0.2\\\\\n",
       "\t 4.8 & 3.0 & 1.4 & setosa & Petal.Width & 0.1\\\\\n",
       "\t 4.3 & 3.0 & 1.1 & setosa & Petal.Width & 0.1\\\\\n",
       "\t 5.8 & 4.0 & 1.2 & setosa & Petal.Width & 0.2\\\\\n",
       "\t 5.7 & 4.4 & 1.5 & setosa & Petal.Width & 0.4\\\\\n",
       "\t 5.4 & 3.9 & 1.3 & setosa & Petal.Width & 0.4\\\\\n",
       "\t 5.1 & 3.5 & 1.4 & setosa & Petal.Width & 0.3\\\\\n",
       "\t 5.7 & 3.8 & 1.7 & setosa & Petal.Width & 0.3\\\\\n",
       "\t 5.1 & 3.8 & 1.5 & setosa & Petal.Width & 0.3\\\\\n",
       "\t 5.4 & 3.4 & 1.7 & setosa & Petal.Width & 0.2\\\\\n",
       "\t 5.1 & 3.7 & 1.5 & setosa & Petal.Width & 0.4\\\\\n",
       "\t 4.6 & 3.6 & 1.0 & setosa & Petal.Width & 0.2\\\\\n",
       "\t 5.1 & 3.3 & 1.7 & setosa & Petal.Width & 0.5\\\\\n",
       "\t 4.8 & 3.4 & 1.9 & setosa & Petal.Width & 0.2\\\\\n",
       "\t 5.0 & 3.0 & 1.6 & setosa & Petal.Width & 0.2\\\\\n",
       "\t 5.0 & 3.4 & 1.6 & setosa & Petal.Width & 0.4\\\\\n",
       "\t 5.2 & 3.5 & 1.5 & setosa & Petal.Width & 0.2\\\\\n",
       "\t 5.2 & 3.4 & 1.4 & setosa & Petal.Width & 0.2\\\\\n",
       "\t 4.7 & 3.2 & 1.6 & setosa & Petal.Width & 0.2\\\\\n",
       "\t ⋮ & ⋮ & ⋮ & ⋮ & ⋮ & ⋮\\\\\n",
       "\t 6.9 & 3.2 & 5.7 & virginica & Petal.Width & 2.3\\\\\n",
       "\t 5.6 & 2.8 & 4.9 & virginica & Petal.Width & 2.0\\\\\n",
       "\t 7.7 & 2.8 & 6.7 & virginica & Petal.Width & 2.0\\\\\n",
       "\t 6.3 & 2.7 & 4.9 & virginica & Petal.Width & 1.8\\\\\n",
       "\t 6.7 & 3.3 & 5.7 & virginica & Petal.Width & 2.1\\\\\n",
       "\t 7.2 & 3.2 & 6.0 & virginica & Petal.Width & 1.8\\\\\n",
       "\t 6.2 & 2.8 & 4.8 & virginica & Petal.Width & 1.8\\\\\n",
       "\t 6.1 & 3.0 & 4.9 & virginica & Petal.Width & 1.8\\\\\n",
       "\t 6.4 & 2.8 & 5.6 & virginica & Petal.Width & 2.1\\\\\n",
       "\t 7.2 & 3.0 & 5.8 & virginica & Petal.Width & 1.6\\\\\n",
       "\t 7.4 & 2.8 & 6.1 & virginica & Petal.Width & 1.9\\\\\n",
       "\t 7.9 & 3.8 & 6.4 & virginica & Petal.Width & 2.0\\\\\n",
       "\t 6.4 & 2.8 & 5.6 & virginica & Petal.Width & 2.2\\\\\n",
       "\t 6.3 & 2.8 & 5.1 & virginica & Petal.Width & 1.5\\\\\n",
       "\t 6.1 & 2.6 & 5.6 & virginica & Petal.Width & 1.4\\\\\n",
       "\t 7.7 & 3.0 & 6.1 & virginica & Petal.Width & 2.3\\\\\n",
       "\t 6.3 & 3.4 & 5.6 & virginica & Petal.Width & 2.4\\\\\n",
       "\t 6.4 & 3.1 & 5.5 & virginica & Petal.Width & 1.8\\\\\n",
       "\t 6.0 & 3.0 & 4.8 & virginica & Petal.Width & 1.8\\\\\n",
       "\t 6.9 & 3.1 & 5.4 & virginica & Petal.Width & 2.1\\\\\n",
       "\t 6.7 & 3.1 & 5.6 & virginica & Petal.Width & 2.4\\\\\n",
       "\t 6.9 & 3.1 & 5.1 & virginica & Petal.Width & 2.3\\\\\n",
       "\t 5.8 & 2.7 & 5.1 & virginica & Petal.Width & 1.9\\\\\n",
       "\t 6.8 & 3.2 & 5.9 & virginica & Petal.Width & 2.3\\\\\n",
       "\t 6.7 & 3.3 & 5.7 & virginica & Petal.Width & 2.5\\\\\n",
       "\t 6.7 & 3.0 & 5.2 & virginica & Petal.Width & 2.3\\\\\n",
       "\t 6.3 & 2.5 & 5.0 & virginica & Petal.Width & 1.9\\\\\n",
       "\t 6.5 & 3.0 & 5.2 & virginica & Petal.Width & 2.0\\\\\n",
       "\t 6.2 & 3.4 & 5.4 & virginica & Petal.Width & 2.3\\\\\n",
       "\t 5.9 & 3.0 & 5.1 & virginica & Petal.Width & 1.8\\\\\n",
       "\\end{tabular}\n"
      ],
      "text/markdown": [
       "\n",
       "A data.frame: 150 × 6\n",
       "\n",
       "| Sepal.Length &lt;dbl&gt; | Sepal.Width &lt;dbl&gt; | Petal.Length &lt;dbl&gt; | Species &lt;fct&gt; | variable &lt;fct&gt; | value &lt;dbl&gt; |\n",
       "|---|---|---|---|---|---|\n",
       "| 5.1 | 3.5 | 1.4 | setosa | Petal.Width | 0.2 |\n",
       "| 4.9 | 3.0 | 1.4 | setosa | Petal.Width | 0.2 |\n",
       "| 4.7 | 3.2 | 1.3 | setosa | Petal.Width | 0.2 |\n",
       "| 4.6 | 3.1 | 1.5 | setosa | Petal.Width | 0.2 |\n",
       "| 5.0 | 3.6 | 1.4 | setosa | Petal.Width | 0.2 |\n",
       "| 5.4 | 3.9 | 1.7 | setosa | Petal.Width | 0.4 |\n",
       "| 4.6 | 3.4 | 1.4 | setosa | Petal.Width | 0.3 |\n",
       "| 5.0 | 3.4 | 1.5 | setosa | Petal.Width | 0.2 |\n",
       "| 4.4 | 2.9 | 1.4 | setosa | Petal.Width | 0.2 |\n",
       "| 4.9 | 3.1 | 1.5 | setosa | Petal.Width | 0.1 |\n",
       "| 5.4 | 3.7 | 1.5 | setosa | Petal.Width | 0.2 |\n",
       "| 4.8 | 3.4 | 1.6 | setosa | Petal.Width | 0.2 |\n",
       "| 4.8 | 3.0 | 1.4 | setosa | Petal.Width | 0.1 |\n",
       "| 4.3 | 3.0 | 1.1 | setosa | Petal.Width | 0.1 |\n",
       "| 5.8 | 4.0 | 1.2 | setosa | Petal.Width | 0.2 |\n",
       "| 5.7 | 4.4 | 1.5 | setosa | Petal.Width | 0.4 |\n",
       "| 5.4 | 3.9 | 1.3 | setosa | Petal.Width | 0.4 |\n",
       "| 5.1 | 3.5 | 1.4 | setosa | Petal.Width | 0.3 |\n",
       "| 5.7 | 3.8 | 1.7 | setosa | Petal.Width | 0.3 |\n",
       "| 5.1 | 3.8 | 1.5 | setosa | Petal.Width | 0.3 |\n",
       "| 5.4 | 3.4 | 1.7 | setosa | Petal.Width | 0.2 |\n",
       "| 5.1 | 3.7 | 1.5 | setosa | Petal.Width | 0.4 |\n",
       "| 4.6 | 3.6 | 1.0 | setosa | Petal.Width | 0.2 |\n",
       "| 5.1 | 3.3 | 1.7 | setosa | Petal.Width | 0.5 |\n",
       "| 4.8 | 3.4 | 1.9 | setosa | Petal.Width | 0.2 |\n",
       "| 5.0 | 3.0 | 1.6 | setosa | Petal.Width | 0.2 |\n",
       "| 5.0 | 3.4 | 1.6 | setosa | Petal.Width | 0.4 |\n",
       "| 5.2 | 3.5 | 1.5 | setosa | Petal.Width | 0.2 |\n",
       "| 5.2 | 3.4 | 1.4 | setosa | Petal.Width | 0.2 |\n",
       "| 4.7 | 3.2 | 1.6 | setosa | Petal.Width | 0.2 |\n",
       "| ⋮ | ⋮ | ⋮ | ⋮ | ⋮ | ⋮ |\n",
       "| 6.9 | 3.2 | 5.7 | virginica | Petal.Width | 2.3 |\n",
       "| 5.6 | 2.8 | 4.9 | virginica | Petal.Width | 2.0 |\n",
       "| 7.7 | 2.8 | 6.7 | virginica | Petal.Width | 2.0 |\n",
       "| 6.3 | 2.7 | 4.9 | virginica | Petal.Width | 1.8 |\n",
       "| 6.7 | 3.3 | 5.7 | virginica | Petal.Width | 2.1 |\n",
       "| 7.2 | 3.2 | 6.0 | virginica | Petal.Width | 1.8 |\n",
       "| 6.2 | 2.8 | 4.8 | virginica | Petal.Width | 1.8 |\n",
       "| 6.1 | 3.0 | 4.9 | virginica | Petal.Width | 1.8 |\n",
       "| 6.4 | 2.8 | 5.6 | virginica | Petal.Width | 2.1 |\n",
       "| 7.2 | 3.0 | 5.8 | virginica | Petal.Width | 1.6 |\n",
       "| 7.4 | 2.8 | 6.1 | virginica | Petal.Width | 1.9 |\n",
       "| 7.9 | 3.8 | 6.4 | virginica | Petal.Width | 2.0 |\n",
       "| 6.4 | 2.8 | 5.6 | virginica | Petal.Width | 2.2 |\n",
       "| 6.3 | 2.8 | 5.1 | virginica | Petal.Width | 1.5 |\n",
       "| 6.1 | 2.6 | 5.6 | virginica | Petal.Width | 1.4 |\n",
       "| 7.7 | 3.0 | 6.1 | virginica | Petal.Width | 2.3 |\n",
       "| 6.3 | 3.4 | 5.6 | virginica | Petal.Width | 2.4 |\n",
       "| 6.4 | 3.1 | 5.5 | virginica | Petal.Width | 1.8 |\n",
       "| 6.0 | 3.0 | 4.8 | virginica | Petal.Width | 1.8 |\n",
       "| 6.9 | 3.1 | 5.4 | virginica | Petal.Width | 2.1 |\n",
       "| 6.7 | 3.1 | 5.6 | virginica | Petal.Width | 2.4 |\n",
       "| 6.9 | 3.1 | 5.1 | virginica | Petal.Width | 2.3 |\n",
       "| 5.8 | 2.7 | 5.1 | virginica | Petal.Width | 1.9 |\n",
       "| 6.8 | 3.2 | 5.9 | virginica | Petal.Width | 2.3 |\n",
       "| 6.7 | 3.3 | 5.7 | virginica | Petal.Width | 2.5 |\n",
       "| 6.7 | 3.0 | 5.2 | virginica | Petal.Width | 2.3 |\n",
       "| 6.3 | 2.5 | 5.0 | virginica | Petal.Width | 1.9 |\n",
       "| 6.5 | 3.0 | 5.2 | virginica | Petal.Width | 2.0 |\n",
       "| 6.2 | 3.4 | 5.4 | virginica | Petal.Width | 2.3 |\n",
       "| 5.9 | 3.0 | 5.1 | virginica | Petal.Width | 1.8 |\n",
       "\n"
      ],
      "text/plain": [
       "    Sepal.Length Sepal.Width Petal.Length Species   variable    value\n",
       "1   5.1          3.5         1.4          setosa    Petal.Width 0.2  \n",
       "2   4.9          3.0         1.4          setosa    Petal.Width 0.2  \n",
       "3   4.7          3.2         1.3          setosa    Petal.Width 0.2  \n",
       "4   4.6          3.1         1.5          setosa    Petal.Width 0.2  \n",
       "5   5.0          3.6         1.4          setosa    Petal.Width 0.2  \n",
       "6   5.4          3.9         1.7          setosa    Petal.Width 0.4  \n",
       "7   4.6          3.4         1.4          setosa    Petal.Width 0.3  \n",
       "8   5.0          3.4         1.5          setosa    Petal.Width 0.2  \n",
       "9   4.4          2.9         1.4          setosa    Petal.Width 0.2  \n",
       "10  4.9          3.1         1.5          setosa    Petal.Width 0.1  \n",
       "11  5.4          3.7         1.5          setosa    Petal.Width 0.2  \n",
       "12  4.8          3.4         1.6          setosa    Petal.Width 0.2  \n",
       "13  4.8          3.0         1.4          setosa    Petal.Width 0.1  \n",
       "14  4.3          3.0         1.1          setosa    Petal.Width 0.1  \n",
       "15  5.8          4.0         1.2          setosa    Petal.Width 0.2  \n",
       "16  5.7          4.4         1.5          setosa    Petal.Width 0.4  \n",
       "17  5.4          3.9         1.3          setosa    Petal.Width 0.4  \n",
       "18  5.1          3.5         1.4          setosa    Petal.Width 0.3  \n",
       "19  5.7          3.8         1.7          setosa    Petal.Width 0.3  \n",
       "20  5.1          3.8         1.5          setosa    Petal.Width 0.3  \n",
       "21  5.4          3.4         1.7          setosa    Petal.Width 0.2  \n",
       "22  5.1          3.7         1.5          setosa    Petal.Width 0.4  \n",
       "23  4.6          3.6         1.0          setosa    Petal.Width 0.2  \n",
       "24  5.1          3.3         1.7          setosa    Petal.Width 0.5  \n",
       "25  4.8          3.4         1.9          setosa    Petal.Width 0.2  \n",
       "26  5.0          3.0         1.6          setosa    Petal.Width 0.2  \n",
       "27  5.0          3.4         1.6          setosa    Petal.Width 0.4  \n",
       "28  5.2          3.5         1.5          setosa    Petal.Width 0.2  \n",
       "29  5.2          3.4         1.4          setosa    Petal.Width 0.2  \n",
       "30  4.7          3.2         1.6          setosa    Petal.Width 0.2  \n",
       "⋮   ⋮            ⋮           ⋮            ⋮         ⋮           ⋮    \n",
       "121 6.9          3.2         5.7          virginica Petal.Width 2.3  \n",
       "122 5.6          2.8         4.9          virginica Petal.Width 2.0  \n",
       "123 7.7          2.8         6.7          virginica Petal.Width 2.0  \n",
       "124 6.3          2.7         4.9          virginica Petal.Width 1.8  \n",
       "125 6.7          3.3         5.7          virginica Petal.Width 2.1  \n",
       "126 7.2          3.2         6.0          virginica Petal.Width 1.8  \n",
       "127 6.2          2.8         4.8          virginica Petal.Width 1.8  \n",
       "128 6.1          3.0         4.9          virginica Petal.Width 1.8  \n",
       "129 6.4          2.8         5.6          virginica Petal.Width 2.1  \n",
       "130 7.2          3.0         5.8          virginica Petal.Width 1.6  \n",
       "131 7.4          2.8         6.1          virginica Petal.Width 1.9  \n",
       "132 7.9          3.8         6.4          virginica Petal.Width 2.0  \n",
       "133 6.4          2.8         5.6          virginica Petal.Width 2.2  \n",
       "134 6.3          2.8         5.1          virginica Petal.Width 1.5  \n",
       "135 6.1          2.6         5.6          virginica Petal.Width 1.4  \n",
       "136 7.7          3.0         6.1          virginica Petal.Width 2.3  \n",
       "137 6.3          3.4         5.6          virginica Petal.Width 2.4  \n",
       "138 6.4          3.1         5.5          virginica Petal.Width 1.8  \n",
       "139 6.0          3.0         4.8          virginica Petal.Width 1.8  \n",
       "140 6.9          3.1         5.4          virginica Petal.Width 2.1  \n",
       "141 6.7          3.1         5.6          virginica Petal.Width 2.4  \n",
       "142 6.9          3.1         5.1          virginica Petal.Width 2.3  \n",
       "143 5.8          2.7         5.1          virginica Petal.Width 1.9  \n",
       "144 6.8          3.2         5.9          virginica Petal.Width 2.3  \n",
       "145 6.7          3.3         5.7          virginica Petal.Width 2.5  \n",
       "146 6.7          3.0         5.2          virginica Petal.Width 2.3  \n",
       "147 6.3          2.5         5.0          virginica Petal.Width 1.9  \n",
       "148 6.5          3.0         5.2          virginica Petal.Width 2.0  \n",
       "149 6.2          3.4         5.4          virginica Petal.Width 2.3  \n",
       "150 5.9          3.0         5.1          virginica Petal.Width 1.8  "
      ]
     },
     "metadata": {},
     "output_type": "display_data"
    }
   ],
   "source": [
    "head(iris)\n",
    "\n",
    "# data6 <- melt(iris,measure.vars = c(\"Species\")) \n",
    "data6 <- melt(iris,measure.vars = c(\"Petal.Width\")) \n",
    "\"==========data6\"\n",
    "data6"
   ]
  },
  {
   "cell_type": "code",
   "execution_count": 62,
   "metadata": {},
   "outputs": [
    {
     "data": {
      "text/html": [
       "<style>\n",
       ".list-inline {list-style: none; margin:0; padding: 0}\n",
       ".list-inline>li {display: inline-block}\n",
       ".list-inline>li:not(:last-child)::after {content: \"\\00b7\"; padding: 0 .5ex}\n",
       "</style>\n",
       "<ol class=list-inline><li>150</li><li>5</li></ol>\n"
      ],
      "text/latex": [
       "\\begin{enumerate*}\n",
       "\\item 150\n",
       "\\item 5\n",
       "\\end{enumerate*}\n"
      ],
      "text/markdown": [
       "1. 150\n",
       "2. 5\n",
       "\n",
       "\n"
      ],
      "text/plain": [
       "[1] 150   5"
      ]
     },
     "metadata": {},
     "output_type": "display_data"
    },
    {
     "data": {
      "text/html": [
       "<style>\n",
       ".list-inline {list-style: none; margin:0; padding: 0}\n",
       ".list-inline>li {display: inline-block}\n",
       ".list-inline>li:not(:last-child)::after {content: \"\\00b7\"; padding: 0 .5ex}\n",
       "</style>\n",
       "<ol class=list-inline><li>150</li><li>6</li></ol>\n"
      ],
      "text/latex": [
       "\\begin{enumerate*}\n",
       "\\item 150\n",
       "\\item 6\n",
       "\\end{enumerate*}\n"
      ],
      "text/markdown": [
       "1. 150\n",
       "2. 6\n",
       "\n",
       "\n"
      ],
      "text/plain": [
       "[1] 150   6"
      ]
     },
     "metadata": {},
     "output_type": "display_data"
    }
   ],
   "source": [
    "dim(iris)\n",
    "dim(data6)"
   ]
  },
  {
   "cell_type": "code",
   "execution_count": 45,
   "metadata": {
    "scrolled": false
   },
   "outputs": [
    {
     "name": "stderr",
     "output_type": "stream",
     "text": [
      "Warning message:\n",
      "“attributes are not identical across measure variables; they will be dropped”\n"
     ]
    },
    {
     "data": {
      "text/html": [
       "<table>\n",
       "<caption>A data.frame: 6 × 5</caption>\n",
       "<thead>\n",
       "\t<tr><th></th><th scope=col>Sepal.Length</th><th scope=col>Sepal.Width</th><th scope=col>Petal.Length</th><th scope=col>Petal.Width</th><th scope=col>Species</th></tr>\n",
       "\t<tr><th></th><th scope=col>&lt;dbl&gt;</th><th scope=col>&lt;dbl&gt;</th><th scope=col>&lt;dbl&gt;</th><th scope=col>&lt;dbl&gt;</th><th scope=col>&lt;fct&gt;</th></tr>\n",
       "</thead>\n",
       "<tbody>\n",
       "\t<tr><th scope=row>1</th><td>5.1</td><td>3.5</td><td>1.4</td><td>0.2</td><td>setosa</td></tr>\n",
       "\t<tr><th scope=row>2</th><td>4.9</td><td>3.0</td><td>1.4</td><td>0.2</td><td>setosa</td></tr>\n",
       "\t<tr><th scope=row>3</th><td>4.7</td><td>3.2</td><td>1.3</td><td>0.2</td><td>setosa</td></tr>\n",
       "\t<tr><th scope=row>4</th><td>4.6</td><td>3.1</td><td>1.5</td><td>0.2</td><td>setosa</td></tr>\n",
       "\t<tr><th scope=row>5</th><td>5.0</td><td>3.6</td><td>1.4</td><td>0.2</td><td>setosa</td></tr>\n",
       "\t<tr><th scope=row>6</th><td>5.4</td><td>3.9</td><td>1.7</td><td>0.4</td><td>setosa</td></tr>\n",
       "</tbody>\n",
       "</table>\n"
      ],
      "text/latex": [
       "A data.frame: 6 × 5\n",
       "\\begin{tabular}{r|lllll}\n",
       "  & Sepal.Length & Sepal.Width & Petal.Length & Petal.Width & Species\\\\\n",
       "  & <dbl> & <dbl> & <dbl> & <dbl> & <fct>\\\\\n",
       "\\hline\n",
       "\t1 & 5.1 & 3.5 & 1.4 & 0.2 & setosa\\\\\n",
       "\t2 & 4.9 & 3.0 & 1.4 & 0.2 & setosa\\\\\n",
       "\t3 & 4.7 & 3.2 & 1.3 & 0.2 & setosa\\\\\n",
       "\t4 & 4.6 & 3.1 & 1.5 & 0.2 & setosa\\\\\n",
       "\t5 & 5.0 & 3.6 & 1.4 & 0.2 & setosa\\\\\n",
       "\t6 & 5.4 & 3.9 & 1.7 & 0.4 & setosa\\\\\n",
       "\\end{tabular}\n"
      ],
      "text/markdown": [
       "\n",
       "A data.frame: 6 × 5\n",
       "\n",
       "| <!--/--> | Sepal.Length &lt;dbl&gt; | Sepal.Width &lt;dbl&gt; | Petal.Length &lt;dbl&gt; | Petal.Width &lt;dbl&gt; | Species &lt;fct&gt; |\n",
       "|---|---|---|---|---|---|\n",
       "| 1 | 5.1 | 3.5 | 1.4 | 0.2 | setosa |\n",
       "| 2 | 4.9 | 3.0 | 1.4 | 0.2 | setosa |\n",
       "| 3 | 4.7 | 3.2 | 1.3 | 0.2 | setosa |\n",
       "| 4 | 4.6 | 3.1 | 1.5 | 0.2 | setosa |\n",
       "| 5 | 5.0 | 3.6 | 1.4 | 0.2 | setosa |\n",
       "| 6 | 5.4 | 3.9 | 1.7 | 0.4 | setosa |\n",
       "\n"
      ],
      "text/plain": [
       "  Sepal.Length Sepal.Width Petal.Length Petal.Width Species\n",
       "1 5.1          3.5         1.4          0.2         setosa \n",
       "2 4.9          3.0         1.4          0.2         setosa \n",
       "3 4.7          3.2         1.3          0.2         setosa \n",
       "4 4.6          3.1         1.5          0.2         setosa \n",
       "5 5.0          3.6         1.4          0.2         setosa \n",
       "6 5.4          3.9         1.7          0.4         setosa "
      ]
     },
     "metadata": {},
     "output_type": "display_data"
    },
    {
     "data": {
      "text/html": [
       "<table>\n",
       "<caption>A data.frame: 6 × 5</caption>\n",
       "<thead>\n",
       "\t<tr><th></th><th scope=col>Sepal.Length</th><th scope=col>Sepal.Width</th><th scope=col>Petal.Length</th><th scope=col>variable</th><th scope=col>value</th></tr>\n",
       "\t<tr><th></th><th scope=col>&lt;dbl&gt;</th><th scope=col>&lt;dbl&gt;</th><th scope=col>&lt;dbl&gt;</th><th scope=col>&lt;fct&gt;</th><th scope=col>&lt;chr&gt;</th></tr>\n",
       "</thead>\n",
       "<tbody>\n",
       "\t<tr><th scope=row>1</th><td>5.1</td><td>3.5</td><td>1.4</td><td>Species</td><td>setosa</td></tr>\n",
       "\t<tr><th scope=row>2</th><td>4.9</td><td>3.0</td><td>1.4</td><td>Species</td><td>setosa</td></tr>\n",
       "\t<tr><th scope=row>3</th><td>4.7</td><td>3.2</td><td>1.3</td><td>Species</td><td>setosa</td></tr>\n",
       "\t<tr><th scope=row>4</th><td>4.6</td><td>3.1</td><td>1.5</td><td>Species</td><td>setosa</td></tr>\n",
       "\t<tr><th scope=row>5</th><td>5.0</td><td>3.6</td><td>1.4</td><td>Species</td><td>setosa</td></tr>\n",
       "\t<tr><th scope=row>6</th><td>5.4</td><td>3.9</td><td>1.7</td><td>Species</td><td>setosa</td></tr>\n",
       "</tbody>\n",
       "</table>\n"
      ],
      "text/latex": [
       "A data.frame: 6 × 5\n",
       "\\begin{tabular}{r|lllll}\n",
       "  & Sepal.Length & Sepal.Width & Petal.Length & variable & value\\\\\n",
       "  & <dbl> & <dbl> & <dbl> & <fct> & <chr>\\\\\n",
       "\\hline\n",
       "\t1 & 5.1 & 3.5 & 1.4 & Species & setosa\\\\\n",
       "\t2 & 4.9 & 3.0 & 1.4 & Species & setosa\\\\\n",
       "\t3 & 4.7 & 3.2 & 1.3 & Species & setosa\\\\\n",
       "\t4 & 4.6 & 3.1 & 1.5 & Species & setosa\\\\\n",
       "\t5 & 5.0 & 3.6 & 1.4 & Species & setosa\\\\\n",
       "\t6 & 5.4 & 3.9 & 1.7 & Species & setosa\\\\\n",
       "\\end{tabular}\n"
      ],
      "text/markdown": [
       "\n",
       "A data.frame: 6 × 5\n",
       "\n",
       "| <!--/--> | Sepal.Length &lt;dbl&gt; | Sepal.Width &lt;dbl&gt; | Petal.Length &lt;dbl&gt; | variable &lt;fct&gt; | value &lt;chr&gt; |\n",
       "|---|---|---|---|---|---|\n",
       "| 1 | 5.1 | 3.5 | 1.4 | Species | setosa |\n",
       "| 2 | 4.9 | 3.0 | 1.4 | Species | setosa |\n",
       "| 3 | 4.7 | 3.2 | 1.3 | Species | setosa |\n",
       "| 4 | 4.6 | 3.1 | 1.5 | Species | setosa |\n",
       "| 5 | 5.0 | 3.6 | 1.4 | Species | setosa |\n",
       "| 6 | 5.4 | 3.9 | 1.7 | Species | setosa |\n",
       "\n"
      ],
      "text/plain": [
       "  Sepal.Length Sepal.Width Petal.Length variable value \n",
       "1 5.1          3.5         1.4          Species  setosa\n",
       "2 4.9          3.0         1.4          Species  setosa\n",
       "3 4.7          3.2         1.3          Species  setosa\n",
       "4 4.6          3.1         1.5          Species  setosa\n",
       "5 5.0          3.6         1.4          Species  setosa\n",
       "6 5.4          3.9         1.7          Species  setosa"
      ]
     },
     "metadata": {},
     "output_type": "display_data"
    },
    {
     "data": {
      "text/html": [
       "<table>\n",
       "<caption>A data.frame: 2 × 5</caption>\n",
       "<thead>\n",
       "\t<tr><th></th><th scope=col>Sepal.Length</th><th scope=col>Sepal.Width</th><th scope=col>Petal.Length</th><th scope=col>Petal.Width</th><th scope=col>Species</th></tr>\n",
       "\t<tr><th></th><th scope=col>&lt;dbl&gt;</th><th scope=col>&lt;dbl&gt;</th><th scope=col>&lt;dbl&gt;</th><th scope=col>&lt;dbl&gt;</th><th scope=col>&lt;fct&gt;</th></tr>\n",
       "</thead>\n",
       "<tbody>\n",
       "\t<tr><th scope=row>1</th><td>5.1</td><td>3.5</td><td>1.4</td><td>0.2</td><td>setosa</td></tr>\n",
       "\t<tr><th scope=row>18</th><td>5.1</td><td>3.5</td><td>1.4</td><td>0.3</td><td>setosa</td></tr>\n",
       "</tbody>\n",
       "</table>\n"
      ],
      "text/latex": [
       "A data.frame: 2 × 5\n",
       "\\begin{tabular}{r|lllll}\n",
       "  & Sepal.Length & Sepal.Width & Petal.Length & Petal.Width & Species\\\\\n",
       "  & <dbl> & <dbl> & <dbl> & <dbl> & <fct>\\\\\n",
       "\\hline\n",
       "\t1 & 5.1 & 3.5 & 1.4 & 0.2 & setosa\\\\\n",
       "\t18 & 5.1 & 3.5 & 1.4 & 0.3 & setosa\\\\\n",
       "\\end{tabular}\n"
      ],
      "text/markdown": [
       "\n",
       "A data.frame: 2 × 5\n",
       "\n",
       "| <!--/--> | Sepal.Length &lt;dbl&gt; | Sepal.Width &lt;dbl&gt; | Petal.Length &lt;dbl&gt; | Petal.Width &lt;dbl&gt; | Species &lt;fct&gt; |\n",
       "|---|---|---|---|---|---|\n",
       "| 1 | 5.1 | 3.5 | 1.4 | 0.2 | setosa |\n",
       "| 18 | 5.1 | 3.5 | 1.4 | 0.3 | setosa |\n",
       "\n"
      ],
      "text/plain": [
       "   Sepal.Length Sepal.Width Petal.Length Petal.Width Species\n",
       "1  5.1          3.5         1.4          0.2         setosa \n",
       "18 5.1          3.5         1.4          0.3         setosa "
      ]
     },
     "metadata": {},
     "output_type": "display_data"
    },
    {
     "data": {
      "text/html": [
       "<table>\n",
       "<caption>A data.frame: 4 × 5</caption>\n",
       "<thead>\n",
       "\t<tr><th></th><th scope=col>Sepal.Length</th><th scope=col>Sepal.Width</th><th scope=col>Petal.Length</th><th scope=col>variable</th><th scope=col>value</th></tr>\n",
       "\t<tr><th></th><th scope=col>&lt;dbl&gt;</th><th scope=col>&lt;dbl&gt;</th><th scope=col>&lt;dbl&gt;</th><th scope=col>&lt;fct&gt;</th><th scope=col>&lt;chr&gt;</th></tr>\n",
       "</thead>\n",
       "<tbody>\n",
       "\t<tr><th scope=row>1</th><td>5.1</td><td>3.5</td><td>1.4</td><td>Species    </td><td>setosa</td></tr>\n",
       "\t<tr><th scope=row>18</th><td>5.1</td><td>3.5</td><td>1.4</td><td>Species    </td><td>setosa</td></tr>\n",
       "\t<tr><th scope=row>151</th><td>5.1</td><td>3.5</td><td>1.4</td><td>Petal.Width</td><td>0.2   </td></tr>\n",
       "\t<tr><th scope=row>168</th><td>5.1</td><td>3.5</td><td>1.4</td><td>Petal.Width</td><td>0.3   </td></tr>\n",
       "</tbody>\n",
       "</table>\n"
      ],
      "text/latex": [
       "A data.frame: 4 × 5\n",
       "\\begin{tabular}{r|lllll}\n",
       "  & Sepal.Length & Sepal.Width & Petal.Length & variable & value\\\\\n",
       "  & <dbl> & <dbl> & <dbl> & <fct> & <chr>\\\\\n",
       "\\hline\n",
       "\t1 & 5.1 & 3.5 & 1.4 & Species     & setosa\\\\\n",
       "\t18 & 5.1 & 3.5 & 1.4 & Species     & setosa\\\\\n",
       "\t151 & 5.1 & 3.5 & 1.4 & Petal.Width & 0.2   \\\\\n",
       "\t168 & 5.1 & 3.5 & 1.4 & Petal.Width & 0.3   \\\\\n",
       "\\end{tabular}\n"
      ],
      "text/markdown": [
       "\n",
       "A data.frame: 4 × 5\n",
       "\n",
       "| <!--/--> | Sepal.Length &lt;dbl&gt; | Sepal.Width &lt;dbl&gt; | Petal.Length &lt;dbl&gt; | variable &lt;fct&gt; | value &lt;chr&gt; |\n",
       "|---|---|---|---|---|---|\n",
       "| 1 | 5.1 | 3.5 | 1.4 | Species     | setosa |\n",
       "| 18 | 5.1 | 3.5 | 1.4 | Species     | setosa |\n",
       "| 151 | 5.1 | 3.5 | 1.4 | Petal.Width | 0.2    |\n",
       "| 168 | 5.1 | 3.5 | 1.4 | Petal.Width | 0.3    |\n",
       "\n"
      ],
      "text/plain": [
       "    Sepal.Length Sepal.Width Petal.Length variable    value \n",
       "1   5.1          3.5         1.4          Species     setosa\n",
       "18  5.1          3.5         1.4          Species     setosa\n",
       "151 5.1          3.5         1.4          Petal.Width 0.2   \n",
       "168 5.1          3.5         1.4          Petal.Width 0.3   "
      ]
     },
     "metadata": {},
     "output_type": "display_data"
    }
   ],
   "source": [
    "#attributes are not identical across measure variables; they will be dropped\n",
    "data6 <- melt(iris,measure.vars = c(\"Species\", \"Petal.Width\")) \n",
    "head(iris)\n",
    "head(data6)\n",
    "head(subset(iris, Sepal.Length==5.1 & Sepal.Width==3.5))\n",
    "head(subset(data6, Petal.Length==1.4 & Sepal.Width==3.5))\n",
    "# subset(data6, Sepal.Length==5.1 & Sepal.Width==3.5)"
   ]
  },
  {
   "cell_type": "code",
   "execution_count": 83,
   "metadata": {
    "scrolled": true
   },
   "outputs": [
    {
     "data": {
      "text/html": [
       "<table>\n",
       "<thead><tr><th scope=col>MONTH</th><th scope=col>DAY</th><th scope=col>variable</th><th scope=col>value</th></tr></thead>\n",
       "<tbody>\n",
       "\t<tr><td>5    </td><td>1    </td><td>OZONE</td><td>41   </td></tr>\n",
       "\t<tr><td>5    </td><td>2    </td><td>OZONE</td><td>36   </td></tr>\n",
       "\t<tr><td>5    </td><td>3    </td><td>OZONE</td><td>12   </td></tr>\n",
       "\t<tr><td>5    </td><td>4    </td><td>OZONE</td><td>18   </td></tr>\n",
       "\t<tr><td>5    </td><td>5    </td><td>OZONE</td><td>NA   </td></tr>\n",
       "\t<tr><td>5    </td><td>6    </td><td>OZONE</td><td>28   </td></tr>\n",
       "</tbody>\n",
       "</table>\n"
      ],
      "text/latex": [
       "\\begin{tabular}{r|llll}\n",
       " MONTH & DAY & variable & value\\\\\n",
       "\\hline\n",
       "\t 5     & 1     & OZONE & 41   \\\\\n",
       "\t 5     & 2     & OZONE & 36   \\\\\n",
       "\t 5     & 3     & OZONE & 12   \\\\\n",
       "\t 5     & 4     & OZONE & 18   \\\\\n",
       "\t 5     & 5     & OZONE & NA   \\\\\n",
       "\t 5     & 6     & OZONE & 28   \\\\\n",
       "\\end{tabular}\n"
      ],
      "text/markdown": [
       "\n",
       "MONTH | DAY | variable | value | \n",
       "|---|---|---|---|---|---|\n",
       "| 5     | 1     | OZONE | 41    | \n",
       "| 5     | 2     | OZONE | 36    | \n",
       "| 5     | 3     | OZONE | 12    | \n",
       "| 5     | 4     | OZONE | 18    | \n",
       "| 5     | 5     | OZONE | NA    | \n",
       "| 5     | 6     | OZONE | 28    | \n",
       "\n",
       "\n"
      ],
      "text/plain": [
       "  MONTH DAY variable value\n",
       "1 5     1   OZONE    41   \n",
       "2 5     2   OZONE    36   \n",
       "3 5     3   OZONE    12   \n",
       "4 5     4   OZONE    18   \n",
       "5 5     5   OZONE    NA   \n",
       "6 5     6   OZONE    28   "
      ]
     },
     "metadata": {},
     "output_type": "display_data"
    },
    {
     "data": {
      "text/html": [
       "<table>\n",
       "<thead><tr><th scope=col>MONTH</th><th scope=col>DAY</th><th scope=col>OZONE</th><th scope=col>SOLAR.R</th><th scope=col>WIND</th><th scope=col>TEMP</th></tr></thead>\n",
       "<tbody>\n",
       "\t<tr><td>5   </td><td>1   </td><td>41  </td><td>190 </td><td> 7.4</td><td>67  </td></tr>\n",
       "\t<tr><td>5   </td><td>2   </td><td>36  </td><td>118 </td><td> 8.0</td><td>72  </td></tr>\n",
       "\t<tr><td>5   </td><td>3   </td><td>12  </td><td>149 </td><td>12.6</td><td>74  </td></tr>\n",
       "\t<tr><td>5   </td><td>4   </td><td>18  </td><td>313 </td><td>11.5</td><td>62  </td></tr>\n",
       "\t<tr><td>5   </td><td>5   </td><td>NA  </td><td> NA </td><td>14.3</td><td>56  </td></tr>\n",
       "\t<tr><td>5   </td><td>6   </td><td>28  </td><td> NA </td><td>14.9</td><td>66  </td></tr>\n",
       "</tbody>\n",
       "</table>\n"
      ],
      "text/latex": [
       "\\begin{tabular}{r|llllll}\n",
       " MONTH & DAY & OZONE & SOLAR.R & WIND & TEMP\\\\\n",
       "\\hline\n",
       "\t 5    & 1    & 41   & 190  &  7.4 & 67  \\\\\n",
       "\t 5    & 2    & 36   & 118  &  8.0 & 72  \\\\\n",
       "\t 5    & 3    & 12   & 149  & 12.6 & 74  \\\\\n",
       "\t 5    & 4    & 18   & 313  & 11.5 & 62  \\\\\n",
       "\t 5    & 5    & NA   &  NA  & 14.3 & 56  \\\\\n",
       "\t 5    & 6    & 28   &  NA  & 14.9 & 66  \\\\\n",
       "\\end{tabular}\n"
      ],
      "text/markdown": [
       "\n",
       "MONTH | DAY | OZONE | SOLAR.R | WIND | TEMP | \n",
       "|---|---|---|---|---|---|\n",
       "| 5    | 1    | 41   | 190  |  7.4 | 67   | \n",
       "| 5    | 2    | 36   | 118  |  8.0 | 72   | \n",
       "| 5    | 3    | 12   | 149  | 12.6 | 74   | \n",
       "| 5    | 4    | 18   | 313  | 11.5 | 62   | \n",
       "| 5    | 5    | NA   |  NA  | 14.3 | 56   | \n",
       "| 5    | 6    | 28   |  NA  | 14.9 | 66   | \n",
       "\n",
       "\n"
      ],
      "text/plain": [
       "  MONTH DAY OZONE SOLAR.R WIND TEMP\n",
       "1 5     1   41    190      7.4 67  \n",
       "2 5     2   36    118      8.0 72  \n",
       "3 5     3   12    149     12.6 74  \n",
       "4 5     4   18    313     11.5 62  \n",
       "5 5     5   NA     NA     14.3 56  \n",
       "6 5     6   28     NA     14.9 66  "
      ]
     },
     "metadata": {},
     "output_type": "display_data"
    },
    {
     "data": {
      "text/html": [
       "<table>\n",
       "<thead><tr><th scope=col>OZONE</th><th scope=col>SOLAR.R</th><th scope=col>WIND</th><th scope=col>TEMP</th><th scope=col>MONTH</th><th scope=col>DAY</th></tr></thead>\n",
       "<tbody>\n",
       "\t<tr><td>41  </td><td>190 </td><td> 7.4</td><td>67  </td><td>5   </td><td>1   </td></tr>\n",
       "\t<tr><td>36  </td><td>118 </td><td> 8.0</td><td>72  </td><td>5   </td><td>2   </td></tr>\n",
       "\t<tr><td>12  </td><td>149 </td><td>12.6</td><td>74  </td><td>5   </td><td>3   </td></tr>\n",
       "\t<tr><td>18  </td><td>313 </td><td>11.5</td><td>62  </td><td>5   </td><td>4   </td></tr>\n",
       "\t<tr><td>NA  </td><td> NA </td><td>14.3</td><td>56  </td><td>5   </td><td>5   </td></tr>\n",
       "\t<tr><td>28  </td><td> NA </td><td>14.9</td><td>66  </td><td>5   </td><td>6   </td></tr>\n",
       "</tbody>\n",
       "</table>\n"
      ],
      "text/latex": [
       "\\begin{tabular}{r|llllll}\n",
       " OZONE & SOLAR.R & WIND & TEMP & MONTH & DAY\\\\\n",
       "\\hline\n",
       "\t 41   & 190  &  7.4 & 67   & 5    & 1   \\\\\n",
       "\t 36   & 118  &  8.0 & 72   & 5    & 2   \\\\\n",
       "\t 12   & 149  & 12.6 & 74   & 5    & 3   \\\\\n",
       "\t 18   & 313  & 11.5 & 62   & 5    & 4   \\\\\n",
       "\t NA   &  NA  & 14.3 & 56   & 5    & 5   \\\\\n",
       "\t 28   &  NA  & 14.9 & 66   & 5    & 6   \\\\\n",
       "\\end{tabular}\n"
      ],
      "text/markdown": [
       "\n",
       "OZONE | SOLAR.R | WIND | TEMP | MONTH | DAY | \n",
       "|---|---|---|---|---|---|\n",
       "| 41   | 190  |  7.4 | 67   | 5    | 1    | \n",
       "| 36   | 118  |  8.0 | 72   | 5    | 2    | \n",
       "| 12   | 149  | 12.6 | 74   | 5    | 3    | \n",
       "| 18   | 313  | 11.5 | 62   | 5    | 4    | \n",
       "| NA   |  NA  | 14.3 | 56   | 5    | 5    | \n",
       "| 28   |  NA  | 14.9 | 66   | 5    | 6    | \n",
       "\n",
       "\n"
      ],
      "text/plain": [
       "  OZONE SOLAR.R WIND TEMP MONTH DAY\n",
       "1 41    190      7.4 67   5     1  \n",
       "2 36    118      8.0 72   5     2  \n",
       "3 12    149     12.6 74   5     3  \n",
       "4 18    313     11.5 62   5     4  \n",
       "5 NA     NA     14.3 56   5     5  \n",
       "6 28     NA     14.9 66   5     6  "
      ]
     },
     "metadata": {},
     "output_type": "display_data"
    }
   ],
   "source": [
    "aql <- melt(airquality, id.vars = c(\"MONTH\", \"DAY\"))\n",
    "head(aql)\n",
    "aqw <- dcast(aql, MONTH + DAY ~ variable)\n",
    "head(aqw)\n",
    "head(airquality) # original data"
   ]
  },
  {
   "cell_type": "code",
   "execution_count": 42,
   "metadata": {
    "scrolled": true
   },
   "outputs": [
    {
     "data": {
      "text/html": [
       "<table>\n",
       "<caption>A data.frame: 6 × 5</caption>\n",
       "<thead>\n",
       "\t<tr><th></th><th scope=col>Sepal.Length</th><th scope=col>Sepal.Width</th><th scope=col>Petal.Length</th><th scope=col>Petal.Width</th><th scope=col>Species</th></tr>\n",
       "\t<tr><th></th><th scope=col>&lt;dbl&gt;</th><th scope=col>&lt;dbl&gt;</th><th scope=col>&lt;dbl&gt;</th><th scope=col>&lt;dbl&gt;</th><th scope=col>&lt;fct&gt;</th></tr>\n",
       "</thead>\n",
       "<tbody>\n",
       "\t<tr><th scope=row>1</th><td>5.1</td><td>3.5</td><td>1.4</td><td>0.2</td><td>setosa</td></tr>\n",
       "\t<tr><th scope=row>2</th><td>4.9</td><td>3.0</td><td>1.4</td><td>0.2</td><td>setosa</td></tr>\n",
       "\t<tr><th scope=row>3</th><td>4.7</td><td>3.2</td><td>1.3</td><td>0.2</td><td>setosa</td></tr>\n",
       "\t<tr><th scope=row>4</th><td>4.6</td><td>3.1</td><td>1.5</td><td>0.2</td><td>setosa</td></tr>\n",
       "\t<tr><th scope=row>5</th><td>5.0</td><td>3.6</td><td>1.4</td><td>0.2</td><td>setosa</td></tr>\n",
       "\t<tr><th scope=row>6</th><td>5.4</td><td>3.9</td><td>1.7</td><td>0.4</td><td>setosa</td></tr>\n",
       "</tbody>\n",
       "</table>\n"
      ],
      "text/latex": [
       "A data.frame: 6 × 5\n",
       "\\begin{tabular}{r|lllll}\n",
       "  & Sepal.Length & Sepal.Width & Petal.Length & Petal.Width & Species\\\\\n",
       "  & <dbl> & <dbl> & <dbl> & <dbl> & <fct>\\\\\n",
       "\\hline\n",
       "\t1 & 5.1 & 3.5 & 1.4 & 0.2 & setosa\\\\\n",
       "\t2 & 4.9 & 3.0 & 1.4 & 0.2 & setosa\\\\\n",
       "\t3 & 4.7 & 3.2 & 1.3 & 0.2 & setosa\\\\\n",
       "\t4 & 4.6 & 3.1 & 1.5 & 0.2 & setosa\\\\\n",
       "\t5 & 5.0 & 3.6 & 1.4 & 0.2 & setosa\\\\\n",
       "\t6 & 5.4 & 3.9 & 1.7 & 0.4 & setosa\\\\\n",
       "\\end{tabular}\n"
      ],
      "text/markdown": [
       "\n",
       "A data.frame: 6 × 5\n",
       "\n",
       "| <!--/--> | Sepal.Length &lt;dbl&gt; | Sepal.Width &lt;dbl&gt; | Petal.Length &lt;dbl&gt; | Petal.Width &lt;dbl&gt; | Species &lt;fct&gt; |\n",
       "|---|---|---|---|---|---|\n",
       "| 1 | 5.1 | 3.5 | 1.4 | 0.2 | setosa |\n",
       "| 2 | 4.9 | 3.0 | 1.4 | 0.2 | setosa |\n",
       "| 3 | 4.7 | 3.2 | 1.3 | 0.2 | setosa |\n",
       "| 4 | 4.6 | 3.1 | 1.5 | 0.2 | setosa |\n",
       "| 5 | 5.0 | 3.6 | 1.4 | 0.2 | setosa |\n",
       "| 6 | 5.4 | 3.9 | 1.7 | 0.4 | setosa |\n",
       "\n"
      ],
      "text/plain": [
       "  Sepal.Length Sepal.Width Petal.Length Petal.Width Species\n",
       "1 5.1          3.5         1.4          0.2         setosa \n",
       "2 4.9          3.0         1.4          0.2         setosa \n",
       "3 4.7          3.2         1.3          0.2         setosa \n",
       "4 4.6          3.1         1.5          0.2         setosa \n",
       "5 5.0          3.6         1.4          0.2         setosa \n",
       "6 5.4          3.9         1.7          0.4         setosa "
      ]
     },
     "metadata": {},
     "output_type": "display_data"
    },
    {
     "name": "stderr",
     "output_type": "stream",
     "text": [
      "Using Species as id variables\n",
      "\n"
     ]
    },
    {
     "data": {
      "text/html": [
       "<table>\n",
       "<caption>A data.frame: 6 × 3</caption>\n",
       "<thead>\n",
       "\t<tr><th></th><th scope=col>Species</th><th scope=col>variable</th><th scope=col>value</th></tr>\n",
       "\t<tr><th></th><th scope=col>&lt;fct&gt;</th><th scope=col>&lt;fct&gt;</th><th scope=col>&lt;dbl&gt;</th></tr>\n",
       "</thead>\n",
       "<tbody>\n",
       "\t<tr><th scope=row>1</th><td>setosa</td><td>Sepal.Length</td><td>5.1</td></tr>\n",
       "\t<tr><th scope=row>2</th><td>setosa</td><td>Sepal.Length</td><td>4.9</td></tr>\n",
       "\t<tr><th scope=row>3</th><td>setosa</td><td>Sepal.Length</td><td>4.7</td></tr>\n",
       "\t<tr><th scope=row>4</th><td>setosa</td><td>Sepal.Length</td><td>4.6</td></tr>\n",
       "\t<tr><th scope=row>5</th><td>setosa</td><td>Sepal.Length</td><td>5.0</td></tr>\n",
       "\t<tr><th scope=row>6</th><td>setosa</td><td>Sepal.Length</td><td>5.4</td></tr>\n",
       "</tbody>\n",
       "</table>\n"
      ],
      "text/latex": [
       "A data.frame: 6 × 3\n",
       "\\begin{tabular}{r|lll}\n",
       "  & Species & variable & value\\\\\n",
       "  & <fct> & <fct> & <dbl>\\\\\n",
       "\\hline\n",
       "\t1 & setosa & Sepal.Length & 5.1\\\\\n",
       "\t2 & setosa & Sepal.Length & 4.9\\\\\n",
       "\t3 & setosa & Sepal.Length & 4.7\\\\\n",
       "\t4 & setosa & Sepal.Length & 4.6\\\\\n",
       "\t5 & setosa & Sepal.Length & 5.0\\\\\n",
       "\t6 & setosa & Sepal.Length & 5.4\\\\\n",
       "\\end{tabular}\n"
      ],
      "text/markdown": [
       "\n",
       "A data.frame: 6 × 3\n",
       "\n",
       "| <!--/--> | Species &lt;fct&gt; | variable &lt;fct&gt; | value &lt;dbl&gt; |\n",
       "|---|---|---|---|\n",
       "| 1 | setosa | Sepal.Length | 5.1 |\n",
       "| 2 | setosa | Sepal.Length | 4.9 |\n",
       "| 3 | setosa | Sepal.Length | 4.7 |\n",
       "| 4 | setosa | Sepal.Length | 4.6 |\n",
       "| 5 | setosa | Sepal.Length | 5.0 |\n",
       "| 6 | setosa | Sepal.Length | 5.4 |\n",
       "\n"
      ],
      "text/plain": [
       "  Species variable     value\n",
       "1 setosa  Sepal.Length 5.1  \n",
       "2 setosa  Sepal.Length 4.9  \n",
       "3 setosa  Sepal.Length 4.7  \n",
       "4 setosa  Sepal.Length 4.6  \n",
       "5 setosa  Sepal.Length 5.0  \n",
       "6 setosa  Sepal.Length 5.4  "
      ]
     },
     "metadata": {},
     "output_type": "display_data"
    }
   ],
   "source": [
    "head(iris) # use string volumn as default id variables if not specified.\n",
    "x=melt(iris);head(x)"
   ]
  },
  {
   "cell_type": "markdown",
   "metadata": {},
   "source": [
    "## Functions and Functionals"
   ]
  },
  {
   "cell_type": "code",
   "execution_count": 1,
   "metadata": {
    "scrolled": true
   },
   "outputs": [
    {
     "name": "stdout",
     "output_type": "stream",
     "text": [
      "[1] \"x= 5\"\n",
      "[1] \"y1= 20\"\n",
      "[1] \"y2= 20.0001000001\"\n",
      "[1] \"x= 2.99999199988692\"\n",
      "[1] \"y1= 3.99995199938554\"\n",
      "[1] \"y2= 4.00001199932554\"\n",
      "[1] \"x= 2.33332266663804\"\n",
      "[1] \"y1= 0.444394666646853\"\n",
      "[1] \"y2= 0.444441333200186\"\n",
      "[1] \"x= 2.23808500680248\"\n",
      "[1] \"y1= 0.00902449767403635\"\n",
      "[1] \"y2= 0.00906925947417214\"\n",
      "[1] \"x= 2.23605889090752\"\n",
      "[1] \"y1= -4.06363934093434e-05\"\n",
      "[1] \"y2= 4.08488440939436e-06\"\n",
      "[1] \"x= 2.23605797749793\"\n"
     ]
    }
   ],
   "source": [
    "a=5\n",
    "x=a\n",
    "print(paste(\"x=\", x))\n",
    "for (i in 1:5){\n",
    "    delta=0.00001\n",
    "    y1=x*x-a\n",
    "    y2=(x+delta)**2-a\n",
    "    print(paste(\"y1=\", y1))\n",
    "    print(paste(\"y2=\", y2))\n",
    "    x=x-(y2*delta)/(y2-y1)\n",
    "    print(paste(\"x=\",x))\n",
    "}"
   ]
  },
  {
   "cell_type": "code",
   "execution_count": 2,
   "metadata": {
    "scrolled": true
   },
   "outputs": [
    {
     "name": "stdout",
     "output_type": "stream",
     "text": [
      "[1] \"x= 5\"\n",
      "[1] \"y1= 20\"\n",
      "[1] \"y2= 20.0001000001\"\n",
      "[1] \"x= 2.99999199988692\"\n",
      "[1] \"y1= 3.99995199938554\"\n",
      "[1] \"y2= 4.00001199932554\"\n",
      "[1] \"x= 2.33332266663804\"\n",
      "[1] \"y1= 0.444394666646853\"\n",
      "[1] \"y2= 0.444441333200186\"\n",
      "[1] \"x= 2.23808500680248\"\n",
      "[1] \"y1= 0.00902449767403635\"\n",
      "[1] \"y2= 0.00906925947417214\"\n",
      "[1] \"x= 2.23605889090752\"\n"
     ]
    }
   ],
   "source": [
    "a=5\n",
    "x=a\n",
    "print(paste(\"x=\", x))\n",
    "while(abs(x**2-a)>0.001){\n",
    "    delta=0.00001\n",
    "    y1=x*x-a\n",
    "    y2=(x+delta)**2-a\n",
    "    print(paste(\"y1=\", y1))\n",
    "    print(paste(\"y2=\", y2))\n",
    "    x=x-(y2*delta)/(y2-y1)\n",
    "    print(paste(\"x=\",x))\n",
    "}"
   ]
  },
  {
   "cell_type": "code",
   "execution_count": 3,
   "metadata": {
    "scrolled": true
   },
   "outputs": [
    {
     "name": "stdout",
     "output_type": "stream",
     "text": [
      "[1] \"x= 5\"\n",
      "[1] \"y1= 20\"\n",
      "[1] \"y2= 20.0001000001\"\n",
      "[1] \"x= 2.99999199988692\"\n",
      "[1] \"y1= 3.99995199938554\"\n",
      "[1] \"y2= 4.00001199932554\"\n",
      "[1] \"x= 2.33332266663804\"\n",
      "[1] \"y1= 0.444394666646853\"\n",
      "[1] \"y2= 0.444441333200186\"\n",
      "[1] \"x= 2.23808500680248\"\n",
      "[1] \"y1= 0.00902449767403635\"\n",
      "[1] \"y2= 0.00906925947417214\"\n",
      "[1] \"x= 2.23605889090752\"\n"
     ]
    }
   ],
   "source": [
    "a=5\n",
    "x=a\n",
    "print(paste(\"x=\", x))\n",
    "repeat{\n",
    "    delta=0.00001\n",
    "    y1=x*x-a\n",
    "    y2=(x+delta)**2-a\n",
    "    print(paste(\"y1=\", y1))\n",
    "    print(paste(\"y2=\", y2))\n",
    "    x=x-(y2*delta)/(y2-y1)\n",
    "    print(paste(\"x=\",x))\n",
    "    if (abs(x**2-a)<0.001) break\n",
    "}"
   ]
  },
  {
   "cell_type": "code",
   "execution_count": 4,
   "metadata": {
    "scrolled": true
   },
   "outputs": [
    {
     "data": {
      "text/html": [
       "2.23606797749979"
      ],
      "text/latex": [
       "2.23606797749979"
      ],
      "text/markdown": [
       "2.23606797749979"
      ],
      "text/plain": [
       "[1] 2.236068"
      ]
     },
     "metadata": {},
     "output_type": "display_data"
    },
    {
     "data": {
      "text/html": [
       "2.44948974278318"
      ],
      "text/latex": [
       "2.44948974278318"
      ],
      "text/markdown": [
       "2.44948974278318"
      ],
      "text/plain": [
       "[1] 2.44949"
      ]
     },
     "metadata": {},
     "output_type": "display_data"
    }
   ],
   "source": [
    "sqrt(5)\n",
    "sqrt(6)"
   ]
  },
  {
   "cell_type": "code",
   "execution_count": 5,
   "metadata": {
    "scrolled": false
   },
   "outputs": [
    {
     "name": "stdout",
     "output_type": "stream",
     "text": [
      "[1] \"x= 5\"\n",
      "[1] \"y1= 20\"\n",
      "[1] \"y2= 20.0001000001\"\n",
      "[1] \"x= 2.99999199988692\"\n",
      "[1] \"y1= 3.99995199938554\"\n",
      "[1] \"y2= 4.00001199932554\"\n",
      "[1] \"x= 2.33332266663804\"\n",
      "[1] \"y1= 0.444394666646853\"\n",
      "[1] \"y2= 0.444441333200186\"\n",
      "[1] \"x= 2.23808500680248\"\n",
      "[1] \"y1= 0.00902449767403635\"\n",
      "[1] \"y2= 0.00906925947417214\"\n",
      "[1] \"x= 2.23605889090752\"\n",
      "[1] \"x= 5\"\n",
      "[1] \"y1= 20\"\n",
      "[1] \"y2= 20.0001000001\"\n",
      "[1] \"x= 2.99999199988692\"\n",
      "[1] \"y1= 3.99995199938554\"\n",
      "[1] \"y2= 4.00001199932554\"\n",
      "[1] \"x= 2.33332266663804\"\n",
      "[1] \"y1= 0.444394666646853\"\n",
      "[1] \"y2= 0.444441333200186\"\n",
      "[1] \"x= 2.23808500680248\"\n",
      "[1] \"y1= 0.00902449767403635\"\n",
      "[1] \"y2= 0.00906925947417214\"\n",
      "[1] \"x= 2.23605889090752\"\n"
     ]
    },
    {
     "data": {
      "text/html": [
       "'function'"
      ],
      "text/latex": [
       "'function'"
      ],
      "text/markdown": [
       "'function'"
      ],
      "text/plain": [
       "[1] \"function\""
      ]
     },
     "metadata": {},
     "output_type": "display_data"
    }
   ],
   "source": [
    "root=function(){\n",
    "    a=5\n",
    "    x=a\n",
    "    print(paste(\"x=\", x))\n",
    "    repeat{\n",
    "        delta=0.00001\n",
    "        y1=x*x-a\n",
    "        y2=(x+delta)**2-a\n",
    "        print(paste(\"y1=\", y1))\n",
    "        print(paste(\"y2=\", y2))\n",
    "        x=x-(y2*delta)/(y2-y1)\n",
    "        print(paste(\"x=\",x))\n",
    "        if (abs(x**2-a)<0.001) break\n",
    "}\n",
    "}\n",
    "\n",
    "root()\n",
    "root()\n",
    "class(root)"
   ]
  },
  {
   "cell_type": "code",
   "execution_count": 82,
   "metadata": {
    "scrolled": false
   },
   "outputs": [
    {
     "name": "stdout",
     "output_type": "stream",
     "text": [
      "[1] \"x= 5\"\n",
      "[1] \"y1= 20\"\n",
      "[1] \"y2= 20.0001000001\"\n",
      "[1] \"x= 2.99999199988692\"\n",
      "[1] \"y1= 3.99995199938554\"\n",
      "[1] \"y2= 4.00001199932554\"\n",
      "[1] \"x= 2.33332266663804\"\n",
      "[1] \"y1= 0.444394666646853\"\n",
      "[1] \"y2= 0.444441333200186\"\n",
      "[1] \"x= 2.23808500680248\"\n",
      "[1] \"y1= 0.00902449767403635\"\n",
      "[1] \"y2= 0.00906925947417214\"\n",
      "[1] \"x= 2.23605889090752\"\n",
      "[1] \"Mission Complete!!!!!!!!!!!!!!!!!!!!!!!!!\"\n"
     ]
    },
    {
     "data": {
      "text/html": [
       "2.23605889090752"
      ],
      "text/latex": [
       "2.23605889090752"
      ],
      "text/markdown": [
       "2.23605889090752"
      ],
      "text/plain": [
       "[1] 2.236059"
      ]
     },
     "metadata": {},
     "output_type": "display_data"
    },
    {
     "name": "stdout",
     "output_type": "stream",
     "text": [
      "[1] \"x= 100\"\n",
      "[1] \"y1= 9900\"\n",
      "[1] \"y2= 9900.0020000001\"\n",
      "[1] \"x= 50.4999924861837\"\n",
      "[1] \"y1= 2450.24924110461\"\n",
      "[1] \"y2= 2450.25025110456\"\n",
      "[1] \"x= 26.2400878072077\"\n",
      "[1] \"y1= 588.542208129969\"\n",
      "[1] \"y2= 588.542732931825\"\n",
      "[1] \"x= 15.025517469374\"\n",
      "[1] \"y1= 125.766175222463\"\n",
      "[1] \"y2= 125.766475732912\"\n",
      "[1] \"x= 10.8404225417552\"\n",
      "[1] \"y1= 17.5147608837936\"\n",
      "[1] \"y2= 17.5149776923445\"\n",
      "[1] \"x= 10.0325679794554\"\n",
      "[1] \"y1= 0.652420262393576\"\n",
      "[1] \"y2= 0.652620913853156\"\n",
      "[1] \"x= 10.0000428777082\"\n",
      "[1] \"Mission Complete!!!!!!!!!!!!!!!!!!!!!!!!!\"\n",
      "[1] \"########\"\n",
      "[1] 10.00004\n"
     ]
    },
    {
     "data": {
      "text/html": [
       "'function'"
      ],
      "text/latex": [
       "'function'"
      ],
      "text/markdown": [
       "'function'"
      ],
      "text/plain": [
       "[1] \"function\""
      ]
     },
     "metadata": {},
     "output_type": "display_data"
    }
   ],
   "source": [
    "root=function(a){\n",
    "#     a=5\n",
    "    x=a\n",
    "    print(paste(\"x=\", x))\n",
    "    repeat{\n",
    "        delta=0.00001\n",
    "        y1=x*x-a\n",
    "        y2=(x+delta)**2-a\n",
    "        print(paste(\"y1=\", y1))\n",
    "        print(paste(\"y2=\", y2))\n",
    "        x=x-(y2*delta)/(y2-y1)\n",
    "        print(paste(\"x=\",x))\n",
    "        if (abs(x**2-a)<0.001) {\n",
    "            print(\"Mission Complete!!!!!!!!!!!!!!!!!!!!!!!!!\")\n",
    "            break\n",
    "            }\n",
    "    }\n",
    "    x #return value of the last expression\n",
    "}\n",
    "\n",
    "root(5)\n",
    "y=root(100)\n",
    "print(\"########\")\n",
    "print(y)\n",
    "class(root)"
   ]
  },
  {
   "cell_type": "code",
   "execution_count": 90,
   "metadata": {
    "scrolled": false
   },
   "outputs": [
    {
     "name": "stdout",
     "output_type": "stream",
     "text": [
      "[1] 2\n",
      "[1] 9\n",
      "[1] 10\n",
      "[1] 9\n"
     ]
    }
   ],
   "source": [
    "x=9\n",
    "\n",
    "f=function(x=1){\n",
    "#     x <<- x+1 #superassignment\n",
    "    x <- x+1\n",
    "    y=8\n",
    "    x\n",
    "}\n",
    "\n",
    "\n",
    "\n",
    "print(f()) \n",
    "print(x)\n",
    "print(f(x))\n",
    "print(x)"
   ]
  },
  {
   "cell_type": "code",
   "execution_count": 8,
   "metadata": {
    "scrolled": false
   },
   "outputs": [
    {
     "name": "stdout",
     "output_type": "stream",
     "text": [
      "function (n, mean = 0, sd = 1)  \n"
     ]
    },
    {
     "data": {
      "text/html": [
       "3.54440949740117"
      ],
      "text/latex": [
       "3.54440949740117"
      ],
      "text/markdown": [
       "3.54440949740117"
      ],
      "text/plain": [
       "[1] 3.544409"
      ]
     },
     "metadata": {},
     "output_type": "display_data"
    },
    {
     "data": {
      "text/html": [
       "1.52936301184994"
      ],
      "text/latex": [
       "1.52936301184994"
      ],
      "text/markdown": [
       "1.52936301184994"
      ],
      "text/plain": [
       "[1] 1.529363"
      ]
     },
     "metadata": {},
     "output_type": "display_data"
    },
    {
     "data": {
      "text/html": [
       "1.45069294276957"
      ],
      "text/latex": [
       "1.45069294276957"
      ],
      "text/markdown": [
       "1.45069294276957"
      ],
      "text/plain": [
       "[1] 1.450693"
      ]
     },
     "metadata": {},
     "output_type": "display_data"
    }
   ],
   "source": [
    "str(rnorm)\n",
    "# set.seed(0)\n",
    "rnorm(1, 1, 2)\n",
    "# set.seed(0)\n",
    "rnorm(1, sd=2, mean=1)\n",
    "# set.seed(0)\n",
    "rnorm(sd=2, me=1, 1)"
   ]
  },
  {
   "cell_type": "code",
   "execution_count": 9,
   "metadata": {
    "scrolled": true
   },
   "outputs": [
    {
     "name": "stdout",
     "output_type": "stream",
     "text": [
      "function (formula, data, subset, weights, na.action, method = \"qr\", model = TRUE, \n",
      "    x = FALSE, y = FALSE, qr = TRUE, singular.ok = TRUE, contrasts = NULL, \n",
      "    offset, ...)  \n",
      "function (x, na.rm = FALSE)  \n"
     ]
    }
   ],
   "source": [
    "str(lm)\n",
    "str(sd)\n",
    "?lm"
   ]
  },
  {
   "cell_type": "code",
   "execution_count": 92,
   "metadata": {
    "scrolled": false
   },
   "outputs": [
    {
     "data": {
      "text/plain": [
       "   user  system elapsed \n",
       "   0.00    0.00   10.02 "
      ]
     },
     "metadata": {},
     "output_type": "display_data"
    }
   ],
   "source": [
    "f <- function(x) {\n",
    "#   force(x) #Force Evaluation of an Argument\n",
    "#   y=x\n",
    "  10\n",
    "}\n",
    "system.time(f(Sys.sleep(10)))\n",
    "# ?force"
   ]
  },
  {
   "cell_type": "code",
   "execution_count": 11,
   "metadata": {},
   "outputs": [
    {
     "data": {
      "text/html": [
       "4"
      ],
      "text/latex": [
       "4"
      ],
      "text/markdown": [
       "4"
      ],
      "text/plain": [
       "[1] 4"
      ]
     },
     "metadata": {},
     "output_type": "display_data"
    }
   ],
   "source": [
    "f <- function(a, b) {\n",
    "  a^2\n",
    " }\n",
    "\n",
    "f(2)"
   ]
  },
  {
   "cell_type": "code",
   "execution_count": 97,
   "metadata": {},
   "outputs": [
    {
     "name": "stdout",
     "output_type": "stream",
     "text": [
      "[1] 3\n"
     ]
    }
   ],
   "source": [
    "f <- function(a, b) {\n",
    "  print(a)\n",
    "#   print(b)\n",
    "  if (a>4) print(b)\n",
    "}\n",
    "f(3)"
   ]
  },
  {
   "cell_type": "code",
   "execution_count": 12,
   "metadata": {
    "scrolled": true
   },
   "outputs": [
    {
     "data": {
      "text/html": [
       "<ol class=list-inline>\n",
       "\t<li>'a'</li>\n",
       "\t<li>'b'</li>\n",
       "\t<li>'c'</li>\n",
       "</ol>\n"
      ],
      "text/latex": [
       "\\begin{enumerate*}\n",
       "\\item 'a'\n",
       "\\item 'b'\n",
       "\\item 'c'\n",
       "\\end{enumerate*}\n"
      ],
      "text/markdown": [
       "1. 'a'\n",
       "2. 'b'\n",
       "3. 'c'\n",
       "\n",
       "\n"
      ],
      "text/plain": [
       "[1] \"a\" \"b\" \"c\""
      ]
     },
     "metadata": {},
     "output_type": "display_data"
    }
   ],
   "source": [
    "f <- function(...) {\n",
    "  names(list(...))\n",
    "}\n",
    "f(a = 1, b = 2, c=3)\n",
    "\n",
    "# list(a=1, b=2)\n",
    "# ?names"
   ]
  },
  {
   "cell_type": "code",
   "execution_count": 14,
   "metadata": {
    "scrolled": false
   },
   "outputs": [
    {
     "data": {
      "image/png": "[encoded data removed]",
      "text/plain": [
       "plot without title"
      ]
     },
     "metadata": {
      "image/png": {
       "height": 420,
       "width": 420
      }
     },
     "output_type": "display_data"
    }
   ],
   "source": [
    "redplot=function(inputs, col=\"red\", ...){\n",
    "   barplot(inputs, col=col, ...)\n",
    "}\n",
    "\n",
    "x=1:5\n",
    "redplot(x, sub=\"this is a test\")\n",
    "?barplot"
   ]
  },
  {
   "cell_type": "code",
   "execution_count": 15,
   "metadata": {
    "scrolled": true
   },
   "outputs": [
    {
     "data": {
      "text/html": [
       "<pre class=language-r><code>function (..., sep = \" \", collapse = NULL) \n",
       "NULL</code></pre>"
      ],
      "text/latex": [
       "\\begin{minted}{r}\n",
       "function (..., sep = \" \", collapse = NULL) \n",
       "NULL\n",
       "\\end{minted}"
      ],
      "text/markdown": [
       "```r\n",
       "function (..., sep = \" \", collapse = NULL) \n",
       "NULL\n",
       "```"
      ],
      "text/plain": [
       "function (..., sep = \" \", collapse = NULL) \n",
       "NULL"
      ]
     },
     "metadata": {},
     "output_type": "display_data"
    },
    {
     "data": {
      "text/html": [
       "'a+b'"
      ],
      "text/latex": [
       "'a+b'"
      ],
      "text/markdown": [
       "'a+b'"
      ],
      "text/plain": [
       "[1] \"a+b\""
      ]
     },
     "metadata": {},
     "output_type": "display_data"
    },
    {
     "data": {
      "text/html": [
       "'a b +'"
      ],
      "text/latex": [
       "'a b +'"
      ],
      "text/markdown": [
       "'a b +'"
      ],
      "text/plain": [
       "[1] \"a b +\""
      ]
     },
     "metadata": {},
     "output_type": "display_data"
    }
   ],
   "source": [
    "args(paste)\n",
    "paste(\"a\", \"b\", sep=\"+\")\n",
    "paste(\"a\", \"b\", se=\"+\")"
   ]
  },
  {
   "cell_type": "code",
   "execution_count": 16,
   "metadata": {},
   "outputs": [
    {
     "data": {
      "text/html": [
       "465"
      ],
      "text/latex": [
       "465"
      ],
      "text/markdown": [
       "465"
      ],
      "text/plain": [
       "[1] 465"
      ]
     },
     "metadata": {},
     "output_type": "display_data"
    }
   ],
   "source": [
    "recursivesum = function(num){\n",
    "    if (num==1){\n",
    "        1\n",
    "        }else{\n",
    "        recursivesum(num-1)+num\n",
    "    }\n",
    "    \n",
    "}\n",
    "\n",
    "recursivesum(30)"
   ]
  },
  {
   "cell_type": "code",
   "execution_count": 17,
   "metadata": {
    "scrolled": true
   },
   "outputs": [
    {
     "data": {
      "text/html": [
       "2"
      ],
      "text/latex": [
       "2"
      ],
      "text/markdown": [
       "2"
      ],
      "text/plain": [
       "[1] 2"
      ]
     },
     "metadata": {},
     "output_type": "display_data"
    },
    {
     "data": {
      "text/html": [
       "2.70833333333333"
      ],
      "text/latex": [
       "2.70833333333333"
      ],
      "text/markdown": [
       "2.70833333333333"
      ],
      "text/plain": [
       "[1] 2.708333"
      ]
     },
     "metadata": {},
     "output_type": "display_data"
    },
    {
     "data": {
      "text/html": [
       "2.71828152557319"
      ],
      "text/latex": [
       "2.71828152557319"
      ],
      "text/markdown": [
       "2.71828152557319"
      ],
      "text/plain": [
       "[1] 2.718282"
      ]
     },
     "metadata": {},
     "output_type": "display_data"
    },
    {
     "data": {
      "text/html": [
       "2.71828182845905"
      ],
      "text/latex": [
       "2.71828182845905"
      ],
      "text/markdown": [
       "2.71828182845905"
      ],
      "text/plain": [
       "[1] 2.718282"
      ]
     },
     "metadata": {},
     "output_type": "display_data"
    }
   ],
   "source": [
    "# use for loop to compute e\n",
    "# e = 1/0! + 1/1! + 1/2! + 1/3! +  1/4! + ...\n",
    "\n",
    "e <- function(n){\n",
    "    factorial=1\n",
    "    total=1\n",
    "    for (i in seq_len(n)){\n",
    "        factorial = factorial*i\n",
    "        total = total + 1/factorial\n",
    "    }    \n",
    "    total\n",
    "}\n",
    "\n",
    "e(1)\n",
    "e(4)\n",
    "e(9)\n",
    "e(30)"
   ]
  },
  {
   "cell_type": "code",
   "execution_count": 18,
   "metadata": {
    "scrolled": true
   },
   "outputs": [
    {
     "data": {
      "text/html": [
       "<pre class=language-r><code>function (X, MARGIN, FUN, ...) \n",
       "{\n",
       "<span style=white-space:pre-wrap>    FUN &lt;- match.fun(FUN)</span>\n",
       "<span style=white-space:pre-wrap>    dl &lt;- length(dim(X))</span>\n",
       "<span style=white-space:pre-wrap>    if (!dl) </span>\n",
       "<span style=white-space:pre-wrap>        stop(\"dim(X) must have a positive length\")</span>\n",
       "<span style=white-space:pre-wrap>    if (is.object(X)) </span>\n",
       "<span style=white-space:pre-wrap>        X &lt;- if (dl == 2L) </span>\n",
       "<span style=white-space:pre-wrap>            as.matrix(X)</span>\n",
       "<span style=white-space:pre-wrap>        else as.array(X)</span>\n",
       "<span style=white-space:pre-wrap>    d &lt;- dim(X)</span>\n",
       "<span style=white-space:pre-wrap>    dn &lt;- dimnames(X)</span>\n",
       "<span style=white-space:pre-wrap>    ds &lt;- seq_len(dl)</span>\n",
       "<span style=white-space:pre-wrap>    if (is.character(MARGIN)) {</span>\n",
       "<span style=white-space:pre-wrap>        if (is.null(dnn &lt;- names(dn))) </span>\n",
       "<span style=white-space:pre-wrap>            stop(\"'X' must have named dimnames\")</span>\n",
       "<span style=white-space:pre-wrap>        MARGIN &lt;- match(MARGIN, dnn)</span>\n",
       "<span style=white-space:pre-wrap>        if (anyNA(MARGIN)) </span>\n",
       "<span style=white-space:pre-wrap>            stop(\"not all elements of 'MARGIN' are names of dimensions\")</span>\n",
       "<span style=white-space:pre-wrap>    }</span>\n",
       "<span style=white-space:pre-wrap>    d.call &lt;- d[-MARGIN]</span>\n",
       "<span style=white-space:pre-wrap>    d.ans &lt;- d[MARGIN]</span>\n",
       "<span style=white-space:pre-wrap>    if (anyNA(d.call) || anyNA(d.ans)) </span>\n",
       "<span style=white-space:pre-wrap>        stop(\"'MARGIN' does not match dim(X)\")</span>\n",
       "<span style=white-space:pre-wrap>    s.call &lt;- ds[-MARGIN]</span>\n",
       "<span style=white-space:pre-wrap>    s.ans &lt;- ds[MARGIN]</span>\n",
       "<span style=white-space:pre-wrap>    dn.call &lt;- dn[-MARGIN]</span>\n",
       "<span style=white-space:pre-wrap>    dn.ans &lt;- dn[MARGIN]</span>\n",
       "<span style=white-space:pre-wrap>    d2 &lt;- prod(d.ans)</span>\n",
       "<span style=white-space:pre-wrap>    if (d2 == 0L) {</span>\n",
       "<span style=white-space:pre-wrap>        newX &lt;- array(vector(typeof(X), 1L), dim = c(prod(d.call), </span>\n",
       "<span style=white-space:pre-wrap>            1L))</span>\n",
       "<span style=white-space:pre-wrap>        ans &lt;- forceAndCall(1, FUN, if (length(d.call) &lt; 2L) newX[, </span>\n",
       "<span style=white-space:pre-wrap>            1] else array(newX[, 1L], d.call, dn.call), ...)</span>\n",
       "<span style=white-space:pre-wrap>        return(if (is.null(ans)) ans else if (length(d.ans) &lt; </span>\n",
       "<span style=white-space:pre-wrap>            2L) ans[1L][-1L] else array(ans, d.ans, dn.ans))</span>\n",
       "<span style=white-space:pre-wrap>    }</span>\n",
       "<span style=white-space:pre-wrap>    newX &lt;- aperm(X, c(s.call, s.ans))</span>\n",
       "<span style=white-space:pre-wrap>    dim(newX) &lt;- c(prod(d.call), d2)</span>\n",
       "<span style=white-space:pre-wrap>    ans &lt;- vector(\"list\", d2)</span>\n",
       "<span style=white-space:pre-wrap>    if (length(d.call) &lt; 2L) {</span>\n",
       "<span style=white-space:pre-wrap>        if (length(dn.call)) </span>\n",
       "<span style=white-space:pre-wrap>            dimnames(newX) &lt;- c(dn.call, list(NULL))</span>\n",
       "<span style=white-space:pre-wrap>        for (i in 1L:d2) {</span>\n",
       "<span style=white-space:pre-wrap>            tmp &lt;- forceAndCall(1, FUN, newX[, i], ...)</span>\n",
       "<span style=white-space:pre-wrap>            if (!is.null(tmp)) </span>\n",
       "<span style=white-space:pre-wrap>                ans[[i]] &lt;- tmp</span>\n",
       "<span style=white-space:pre-wrap>        }</span>\n",
       "<span style=white-space:pre-wrap>    }</span>\n",
       "<span style=white-space:pre-wrap>    else for (i in 1L:d2) {</span>\n",
       "<span style=white-space:pre-wrap>        tmp &lt;- forceAndCall(1, FUN, array(newX[, i], d.call, </span>\n",
       "<span style=white-space:pre-wrap>            dn.call), ...)</span>\n",
       "<span style=white-space:pre-wrap>        if (!is.null(tmp)) </span>\n",
       "<span style=white-space:pre-wrap>            ans[[i]] &lt;- tmp</span>\n",
       "<span style=white-space:pre-wrap>    }</span>\n",
       "<span style=white-space:pre-wrap>    ans.list &lt;- is.recursive(ans[[1L]])</span>\n",
       "<span style=white-space:pre-wrap>    l.ans &lt;- length(ans[[1L]])</span>\n",
       "<span style=white-space:pre-wrap>    ans.names &lt;- names(ans[[1L]])</span>\n",
       "<span style=white-space:pre-wrap>    if (!ans.list) </span>\n",
       "<span style=white-space:pre-wrap>        ans.list &lt;- any(lengths(ans) != l.ans)</span>\n",
       "<span style=white-space:pre-wrap>    if (!ans.list &amp;&amp; length(ans.names)) {</span>\n",
       "<span style=white-space:pre-wrap>        all.same &lt;- vapply(ans, function(x) identical(names(x), </span>\n",
       "<span style=white-space:pre-wrap>            ans.names), NA)</span>\n",
       "<span style=white-space:pre-wrap>        if (!all(all.same)) </span>\n",
       "<span style=white-space:pre-wrap>            ans.names &lt;- NULL</span>\n",
       "<span style=white-space:pre-wrap>    }</span>\n",
       "<span style=white-space:pre-wrap>    len.a &lt;- if (ans.list) </span>\n",
       "<span style=white-space:pre-wrap>        d2</span>\n",
       "<span style=white-space:pre-wrap>    else length(ans &lt;- unlist(ans, recursive = FALSE))</span>\n",
       "<span style=white-space:pre-wrap>    if (length(MARGIN) == 1L &amp;&amp; len.a == d2) {</span>\n",
       "<span style=white-space:pre-wrap>        names(ans) &lt;- if (length(dn.ans[[1L]])) </span>\n",
       "<span style=white-space:pre-wrap>            dn.ans[[1L]]</span>\n",
       "<span style=white-space:pre-wrap>        ans</span>\n",
       "<span style=white-space:pre-wrap>    }</span>\n",
       "<span style=white-space:pre-wrap>    else if (len.a == d2) </span>\n",
       "<span style=white-space:pre-wrap>        array(ans, d.ans, dn.ans)</span>\n",
       "<span style=white-space:pre-wrap>    else if (len.a &amp;&amp; len.a%%d2 == 0L) {</span>\n",
       "<span style=white-space:pre-wrap>        if (is.null(dn.ans)) </span>\n",
       "<span style=white-space:pre-wrap>            dn.ans &lt;- vector(mode = \"list\", length(d.ans))</span>\n",
       "<span style=white-space:pre-wrap>        dn1 &lt;- list(ans.names)</span>\n",
       "<span style=white-space:pre-wrap>        if (length(dn.call) &amp;&amp; !is.null(n1 &lt;- names(dn &lt;- dn.call[1])) &amp;&amp; </span>\n",
       "<span style=white-space:pre-wrap>            nzchar(n1) &amp;&amp; length(ans.names) == length(dn[[1]])) </span>\n",
       "<span style=white-space:pre-wrap>            names(dn1) &lt;- n1</span>\n",
       "<span style=white-space:pre-wrap>        dn.ans &lt;- c(dn1, dn.ans)</span>\n",
       "<span style=white-space:pre-wrap>        array(ans, c(len.a%/%d2, d.ans), if (!is.null(names(dn.ans)) || </span>\n",
       "<span style=white-space:pre-wrap>            !all(vapply(dn.ans, is.null, NA))) </span>\n",
       "<span style=white-space:pre-wrap>            dn.ans)</span>\n",
       "<span style=white-space:pre-wrap>    }</span>\n",
       "<span style=white-space:pre-wrap>    else ans</span>\n",
       "}</code></pre>"
      ],
      "text/latex": [
       "\\begin{minted}{r}\n",
       "function (X, MARGIN, FUN, ...) \n",
       "\\{\n",
       "    FUN <- match.fun(FUN)\n",
       "    dl <- length(dim(X))\n",
       "    if (!dl) \n",
       "        stop(\"dim(X) must have a positive length\")\n",
       "    if (is.object(X)) \n",
       "        X <- if (dl == 2L) \n",
       "            as.matrix(X)\n",
       "        else as.array(X)\n",
       "    d <- dim(X)\n",
       "    dn <- dimnames(X)\n",
       "    ds <- seq\\_len(dl)\n",
       "    if (is.character(MARGIN)) \\{\n",
       "        if (is.null(dnn <- names(dn))) \n",
       "            stop(\"'X' must have named dimnames\")\n",
       "        MARGIN <- match(MARGIN, dnn)\n",
       "        if (anyNA(MARGIN)) \n",
       "            stop(\"not all elements of 'MARGIN' are names of dimensions\")\n",
       "    \\}\n",
       "    d.call <- d{[}-MARGIN{]}\n",
       "    d.ans <- d{[}MARGIN{]}\n",
       "    if (anyNA(d.call) \\textbar{}\\textbar{} anyNA(d.ans)) \n",
       "        stop(\"'MARGIN' does not match dim(X)\")\n",
       "    s.call <- ds{[}-MARGIN{]}\n",
       "    s.ans <- ds{[}MARGIN{]}\n",
       "    dn.call <- dn{[}-MARGIN{]}\n",
       "    dn.ans <- dn{[}MARGIN{]}\n",
       "    d2 <- prod(d.ans)\n",
       "    if (d2 == 0L) \\{\n",
       "        newX <- array(vector(typeof(X), 1L), dim = c(prod(d.call), \n",
       "            1L))\n",
       "        ans <- forceAndCall(1, FUN, if (length(d.call) < 2L) newX{[}, \n",
       "            1{]} else array(newX{[}, 1L{]}, d.call, dn.call), ...)\n",
       "        return(if (is.null(ans)) ans else if (length(d.ans) < \n",
       "            2L) ans{[}1L{]}{[}-1L{]} else array(ans, d.ans, dn.ans))\n",
       "    \\}\n",
       "    newX <- aperm(X, c(s.call, s.ans))\n",
       "    dim(newX) <- c(prod(d.call), d2)\n",
       "    ans <- vector(\"list\", d2)\n",
       "    if (length(d.call) < 2L) \\{\n",
       "        if (length(dn.call)) \n",
       "            dimnames(newX) <- c(dn.call, list(NULL))\n",
       "        for (i in 1L:d2) \\{\n",
       "            tmp <- forceAndCall(1, FUN, newX{[}, i{]}, ...)\n",
       "            if (!is.null(tmp)) \n",
       "                ans{[}{[}i{]}{]} <- tmp\n",
       "        \\}\n",
       "    \\}\n",
       "    else for (i in 1L:d2) \\{\n",
       "        tmp <- forceAndCall(1, FUN, array(newX{[}, i{]}, d.call, \n",
       "            dn.call), ...)\n",
       "        if (!is.null(tmp)) \n",
       "            ans{[}{[}i{]}{]} <- tmp\n",
       "    \\}\n",
       "    ans.list <- is.recursive(ans{[}{[}1L{]}{]})\n",
       "    l.ans <- length(ans{[}{[}1L{]}{]})\n",
       "    ans.names <- names(ans{[}{[}1L{]}{]})\n",
       "    if (!ans.list) \n",
       "        ans.list <- any(lengths(ans) != l.ans)\n",
       "    if (!ans.list \\&\\& length(ans.names)) \\{\n",
       "        all.same <- vapply(ans, function(x) identical(names(x), \n",
       "            ans.names), NA)\n",
       "        if (!all(all.same)) \n",
       "            ans.names <- NULL\n",
       "    \\}\n",
       "    len.a <- if (ans.list) \n",
       "        d2\n",
       "    else length(ans <- unlist(ans, recursive = FALSE))\n",
       "    if (length(MARGIN) == 1L \\&\\& len.a == d2) \\{\n",
       "        names(ans) <- if (length(dn.ans{[}{[}1L{]}{]})) \n",
       "            dn.ans{[}{[}1L{]}{]}\n",
       "        ans\n",
       "    \\}\n",
       "    else if (len.a == d2) \n",
       "        array(ans, d.ans, dn.ans)\n",
       "    else if (len.a \\&\\& len.a\\%\\%d2 == 0L) \\{\n",
       "        if (is.null(dn.ans)) \n",
       "            dn.ans <- vector(mode = \"list\", length(d.ans))\n",
       "        dn1 <- list(ans.names)\n",
       "        if (length(dn.call) \\&\\& !is.null(n1 <- names(dn <- dn.call{[}1{]})) \\&\\& \n",
       "            nzchar(n1) \\&\\& length(ans.names) == length(dn{[}{[}1{]}{]})) \n",
       "            names(dn1) <- n1\n",
       "        dn.ans <- c(dn1, dn.ans)\n",
       "        array(ans, c(len.a\\%/\\%d2, d.ans), if (!is.null(names(dn.ans)) \\textbar{}\\textbar{} \n",
       "            !all(vapply(dn.ans, is.null, NA))) \n",
       "            dn.ans)\n",
       "    \\}\n",
       "    else ans\n",
       "\\}\n",
       "\\end{minted}"
      ],
      "text/markdown": [
       "```r\n",
       "function (X, MARGIN, FUN, ...) \n",
       "{\n",
       "    FUN <- match.fun(FUN)\n",
       "    dl <- length(dim(X))\n",
       "    if (!dl) \n",
       "        stop(\"dim(X) must have a positive length\")\n",
       "    if (is.object(X)) \n",
       "        X <- if (dl == 2L) \n",
       "            as.matrix(X)\n",
       "        else as.array(X)\n",
       "    d <- dim(X)\n",
       "    dn <- dimnames(X)\n",
       "    ds <- seq_len(dl)\n",
       "    if (is.character(MARGIN)) {\n",
       "        if (is.null(dnn <- names(dn))) \n",
       "            stop(\"'X' must have named dimnames\")\n",
       "        MARGIN <- match(MARGIN, dnn)\n",
       "        if (anyNA(MARGIN)) \n",
       "            stop(\"not all elements of 'MARGIN' are names of dimensions\")\n",
       "    }\n",
       "    d.call <- d[-MARGIN]\n",
       "    d.ans <- d[MARGIN]\n",
       "    if (anyNA(d.call) || anyNA(d.ans)) \n",
       "        stop(\"'MARGIN' does not match dim(X)\")\n",
       "    s.call <- ds[-MARGIN]\n",
       "    s.ans <- ds[MARGIN]\n",
       "    dn.call <- dn[-MARGIN]\n",
       "    dn.ans <- dn[MARGIN]\n",
       "    d2 <- prod(d.ans)\n",
       "    if (d2 == 0L) {\n",
       "        newX <- array(vector(typeof(X), 1L), dim = c(prod(d.call), \n",
       "            1L))\n",
       "        ans <- forceAndCall(1, FUN, if (length(d.call) < 2L) newX[, \n",
       "            1] else array(newX[, 1L], d.call, dn.call), ...)\n",
       "        return(if (is.null(ans)) ans else if (length(d.ans) < \n",
       "            2L) ans[1L][-1L] else array(ans, d.ans, dn.ans))\n",
       "    }\n",
       "    newX <- aperm(X, c(s.call, s.ans))\n",
       "    dim(newX) <- c(prod(d.call), d2)\n",
       "    ans <- vector(\"list\", d2)\n",
       "    if (length(d.call) < 2L) {\n",
       "        if (length(dn.call)) \n",
       "            dimnames(newX) <- c(dn.call, list(NULL))\n",
       "        for (i in 1L:d2) {\n",
       "            tmp <- forceAndCall(1, FUN, newX[, i], ...)\n",
       "            if (!is.null(tmp)) \n",
       "                ans[[i]] <- tmp\n",
       "        }\n",
       "    }\n",
       "    else for (i in 1L:d2) {\n",
       "        tmp <- forceAndCall(1, FUN, array(newX[, i], d.call, \n",
       "            dn.call), ...)\n",
       "        if (!is.null(tmp)) \n",
       "            ans[[i]] <- tmp\n",
       "    }\n",
       "    ans.list <- is.recursive(ans[[1L]])\n",
       "    l.ans <- length(ans[[1L]])\n",
       "    ans.names <- names(ans[[1L]])\n",
       "    if (!ans.list) \n",
       "        ans.list <- any(lengths(ans) != l.ans)\n",
       "    if (!ans.list && length(ans.names)) {\n",
       "        all.same <- vapply(ans, function(x) identical(names(x), \n",
       "            ans.names), NA)\n",
       "        if (!all(all.same)) \n",
       "            ans.names <- NULL\n",
       "    }\n",
       "    len.a <- if (ans.list) \n",
       "        d2\n",
       "    else length(ans <- unlist(ans, recursive = FALSE))\n",
       "    if (length(MARGIN) == 1L && len.a == d2) {\n",
       "        names(ans) <- if (length(dn.ans[[1L]])) \n",
       "            dn.ans[[1L]]\n",
       "        ans\n",
       "    }\n",
       "    else if (len.a == d2) \n",
       "        array(ans, d.ans, dn.ans)\n",
       "    else if (len.a && len.a%%d2 == 0L) {\n",
       "        if (is.null(dn.ans)) \n",
       "            dn.ans <- vector(mode = \"list\", length(d.ans))\n",
       "        dn1 <- list(ans.names)\n",
       "        if (length(dn.call) && !is.null(n1 <- names(dn <- dn.call[1])) && \n",
       "            nzchar(n1) && length(ans.names) == length(dn[[1]])) \n",
       "            names(dn1) <- n1\n",
       "        dn.ans <- c(dn1, dn.ans)\n",
       "        array(ans, c(len.a%/%d2, d.ans), if (!is.null(names(dn.ans)) || \n",
       "            !all(vapply(dn.ans, is.null, NA))) \n",
       "            dn.ans)\n",
       "    }\n",
       "    else ans\n",
       "}\n",
       "```"
      ],
      "text/plain": [
       "function (X, MARGIN, FUN, ...) \n",
       "{\n",
       "    FUN <- match.fun(FUN)\n",
       "    dl <- length(dim(X))\n",
       "    if (!dl) \n",
       "        stop(\"dim(X) must have a positive length\")\n",
       "    if (is.object(X)) \n",
       "        X <- if (dl == 2L) \n",
       "            as.matrix(X)\n",
       "        else as.array(X)\n",
       "    d <- dim(X)\n",
       "    dn <- dimnames(X)\n",
       "    ds <- seq_len(dl)\n",
       "    if (is.character(MARGIN)) {\n",
       "        if (is.null(dnn <- names(dn))) \n",
       "            stop(\"'X' must have named dimnames\")\n",
       "        MARGIN <- match(MARGIN, dnn)\n",
       "        if (anyNA(MARGIN)) \n",
       "            stop(\"not all elements of 'MARGIN' are names of dimensions\")\n",
       "    }\n",
       "    d.call <- d[-MARGIN]\n",
       "    d.ans <- d[MARGIN]\n",
       "    if (anyNA(d.call) || anyNA(d.ans)) \n",
       "        stop(\"'MARGIN' does not match dim(X)\")\n",
       "    s.call <- ds[-MARGIN]\n",
       "    s.ans <- ds[MARGIN]\n",
       "    dn.call <- dn[-MARGIN]\n",
       "    dn.ans <- dn[MARGIN]\n",
       "    d2 <- prod(d.ans)\n",
       "    if (d2 == 0L) {\n",
       "        newX <- array(vector(typeof(X), 1L), dim = c(prod(d.call), \n",
       "            1L))\n",
       "        ans <- forceAndCall(1, FUN, if (length(d.call) < 2L) newX[, \n",
       "            1] else array(newX[, 1L], d.call, dn.call), ...)\n",
       "        return(if (is.null(ans)) ans else if (length(d.ans) < \n",
       "            2L) ans[1L][-1L] else array(ans, d.ans, dn.ans))\n",
       "    }\n",
       "    newX <- aperm(X, c(s.call, s.ans))\n",
       "    dim(newX) <- c(prod(d.call), d2)\n",
       "    ans <- vector(\"list\", d2)\n",
       "    if (length(d.call) < 2L) {\n",
       "        if (length(dn.call)) \n",
       "            dimnames(newX) <- c(dn.call, list(NULL))\n",
       "        for (i in 1L:d2) {\n",
       "            tmp <- forceAndCall(1, FUN, newX[, i], ...)\n",
       "            if (!is.null(tmp)) \n",
       "                ans[[i]] <- tmp\n",
       "        }\n",
       "    }\n",
       "    else for (i in 1L:d2) {\n",
       "        tmp <- forceAndCall(1, FUN, array(newX[, i], d.call, \n",
       "            dn.call), ...)\n",
       "        if (!is.null(tmp)) \n",
       "            ans[[i]] <- tmp\n",
       "    }\n",
       "    ans.list <- is.recursive(ans[[1L]])\n",
       "    l.ans <- length(ans[[1L]])\n",
       "    ans.names <- names(ans[[1L]])\n",
       "    if (!ans.list) \n",
       "        ans.list <- any(lengths(ans) != l.ans)\n",
       "    if (!ans.list && length(ans.names)) {\n",
       "        all.same <- vapply(ans, function(x) identical(names(x), \n",
       "            ans.names), NA)\n",
       "        if (!all(all.same)) \n",
       "            ans.names <- NULL\n",
       "    }\n",
       "    len.a <- if (ans.list) \n",
       "        d2\n",
       "    else length(ans <- unlist(ans, recursive = FALSE))\n",
       "    if (length(MARGIN) == 1L && len.a == d2) {\n",
       "        names(ans) <- if (length(dn.ans[[1L]])) \n",
       "            dn.ans[[1L]]\n",
       "        ans\n",
       "    }\n",
       "    else if (len.a == d2) \n",
       "        array(ans, d.ans, dn.ans)\n",
       "    else if (len.a && len.a%%d2 == 0L) {\n",
       "        if (is.null(dn.ans)) \n",
       "            dn.ans <- vector(mode = \"list\", length(d.ans))\n",
       "        dn1 <- list(ans.names)\n",
       "        if (length(dn.call) && !is.null(n1 <- names(dn <- dn.call[1])) && \n",
       "            nzchar(n1) && length(ans.names) == length(dn[[1]])) \n",
       "            names(dn1) <- n1\n",
       "        dn.ans <- c(dn1, dn.ans)\n",
       "        array(ans, c(len.a%/%d2, d.ans), if (!is.null(names(dn.ans)) || \n",
       "            !all(vapply(dn.ans, is.null, NA))) \n",
       "            dn.ans)\n",
       "    }\n",
       "    else ans\n",
       "}\n",
       "<bytecode: 0x000000001592b488>\n",
       "<environment: namespace:base>"
      ]
     },
     "metadata": {},
     "output_type": "display_data"
    }
   ],
   "source": [
    "apply"
   ]
  },
  {
   "cell_type": "code",
   "execution_count": 19,
   "metadata": {
    "scrolled": false
   },
   "outputs": [
    {
     "name": "stdout",
     "output_type": "stream",
     "text": [
      "     [,1] [,2] [,3] [,4]\n",
      "[1,]    1    4    7   10\n",
      "[2,]    2    5    8   11\n",
      "[3,]    3    6    9   12\n"
     ]
    }
   ],
   "source": [
    "a=matrix(1:12, c(3,4))\n",
    "print(a)"
   ]
  },
  {
   "cell_type": "code",
   "execution_count": 20,
   "metadata": {
    "scrolled": true
   },
   "outputs": [
    {
     "name": "stdout",
     "output_type": "stream",
     "text": [
      "[1] 22 26 30\n"
     ]
    }
   ],
   "source": [
    "x=apply(a, 1, sum) #apply function \"sum\" on each row, i.e., keep dim 1\n",
    "print(x)"
   ]
  },
  {
   "cell_type": "code",
   "execution_count": 21,
   "metadata": {
    "scrolled": false
   },
   "outputs": [
    {
     "data": {
      "text/html": [
       "'numeric'"
      ],
      "text/latex": [
       "'numeric'"
      ],
      "text/markdown": [
       "'numeric'"
      ],
      "text/plain": [
       "[1] \"numeric\""
      ]
     },
     "metadata": {},
     "output_type": "display_data"
    },
    {
     "name": "stdout",
     "output_type": "stream",
     "text": [
      "[1]  2  5  8 11\n"
     ]
    }
   ],
   "source": [
    "x=apply(a, 2, mean) #apply function \"sum\" on each column, i.e., keep dim 2\n",
    "class(x)\n",
    "print(x)"
   ]
  },
  {
   "cell_type": "code",
   "execution_count": 22,
   "metadata": {
    "scrolled": false
   },
   "outputs": [
    {
     "name": "stdout",
     "output_type": "stream",
     "text": [
      ", , 1\n",
      "\n",
      "     [,1] [,2]\n",
      "[1,]    1    3\n",
      "[2,]    2    4\n",
      "\n",
      ", , 2\n",
      "\n",
      "     [,1] [,2]\n",
      "[1,]    5    7\n",
      "[2,]    6    8\n",
      "\n",
      ", , 3\n",
      "\n",
      "     [,1] [,2]\n",
      "[1,]    9   11\n",
      "[2,]   10   12\n",
      "\n",
      "     [,1] [,2]\n",
      "[1,]   15   21\n",
      "[2,]   18   24\n"
     ]
    }
   ],
   "source": [
    "a=array(1:(2 * 2 * 3), c(2, 2, 3))\n",
    "print(a)\n",
    "x=apply(a, c(1, 2), sum) #keep dim 1 and 2\n",
    "print(x)"
   ]
  },
  {
   "cell_type": "code",
   "execution_count": 23,
   "metadata": {},
   "outputs": [
    {
     "name": "stdout",
     "output_type": "stream",
     "text": [
      "     [,1] [,2] [,3]\n",
      "[1,]    3   11   19\n",
      "[2,]    7   15   23\n"
     ]
    }
   ],
   "source": [
    "x=apply(a, c(2, 3), sum)\n",
    "print(x)"
   ]
  },
  {
   "cell_type": "code",
   "execution_count": 24,
   "metadata": {
    "scrolled": false
   },
   "outputs": [
    {
     "name": "stdout",
     "output_type": "stream",
     "text": [
      ", , 1\n",
      "\n",
      "     [,1] [,2]\n",
      "[1,]    1    3\n",
      "[2,]    2    4\n",
      "\n",
      ", , 2\n",
      "\n",
      "     [,1] [,2]\n",
      "[1,]    5    7\n",
      "[2,]    6    8\n",
      "\n",
      ", , 3\n",
      "\n",
      "     [,1] [,2]\n",
      "[1,]    9   11\n",
      "[2,]   10   12\n",
      "\n"
     ]
    },
    {
     "data": {
      "text/html": [
       "'matrix'"
      ],
      "text/latex": [
       "'matrix'"
      ],
      "text/markdown": [
       "'matrix'"
      ],
      "text/plain": [
       "[1] \"matrix\""
      ]
     },
     "metadata": {},
     "output_type": "display_data"
    },
    {
     "name": "stdout",
     "output_type": "stream",
     "text": [
      "     [,1] [,2]\n",
      "[1,]    1    4\n",
      "[2,]    9   16\n",
      "[3,]   25   36\n",
      "[4,]   49   64\n",
      "[5,]   81  100\n",
      "[6,]  121  144\n"
     ]
    }
   ],
   "source": [
    "print(a)\n",
    "x=apply(a, 1, function(x) {x^2})\n",
    "class(x)\n",
    "print(x)"
   ]
  },
  {
   "cell_type": "code",
   "execution_count": 25,
   "metadata": {
    "scrolled": true
   },
   "outputs": [
    {
     "name": "stdout",
     "output_type": "stream",
     "text": [
      "[1] \"the input is\"\n",
      "     [,1] [,2] [,3]\n",
      "[1,]    1    5    9\n",
      "[2,]    3    7   11\n",
      "     [,1] [,2] [,3]\n",
      "[1,]    1   25   81\n",
      "[2,]    9   49  121\n",
      "[1] \"the input is\"\n",
      "     [,1] [,2] [,3]\n",
      "[1,]    2    6   10\n",
      "[2,]    4    8   12\n",
      "     [,1] [,2] [,3]\n",
      "[1,]    4   36  100\n",
      "[2,]   16   64  144\n"
     ]
    },
    {
     "data": {
      "text/html": [
       "'matrix'"
      ],
      "text/latex": [
       "'matrix'"
      ],
      "text/markdown": [
       "'matrix'"
      ],
      "text/plain": [
       "[1] \"matrix\""
      ]
     },
     "metadata": {},
     "output_type": "display_data"
    }
   ],
   "source": [
    "x=apply(a, 1, function(x) {print(\"the input is\");print(x); print(x^2);x^2})\n",
    "class(x)"
   ]
  },
  {
   "cell_type": "code",
   "execution_count": 26,
   "metadata": {
    "scrolled": false
   },
   "outputs": [
    {
     "data": {
      "text/html": [
       "<table>\n",
       "<caption>A matrix: 8 × 2 of type dbl</caption>\n",
       "<thead>\n",
       "\t<tr><th scope=col>x1</th><th scope=col>x2</th></tr>\n",
       "</thead>\n",
       "<tbody>\n",
       "\t<tr><td>3</td><td>4</td></tr>\n",
       "\t<tr><td>3</td><td>3</td></tr>\n",
       "\t<tr><td>3</td><td>2</td></tr>\n",
       "\t<tr><td>3</td><td>1</td></tr>\n",
       "\t<tr><td>3</td><td>2</td></tr>\n",
       "\t<tr><td>3</td><td>3</td></tr>\n",
       "\t<tr><td>3</td><td>4</td></tr>\n",
       "\t<tr><td>3</td><td>5</td></tr>\n",
       "</tbody>\n",
       "</table>\n"
      ],
      "text/latex": [
       "A matrix: 8 × 2 of type dbl\n",
       "\\begin{tabular}{ll}\n",
       " x1 & x2\\\\\n",
       "\\hline\n",
       "\t 3 & 4\\\\\n",
       "\t 3 & 3\\\\\n",
       "\t 3 & 2\\\\\n",
       "\t 3 & 1\\\\\n",
       "\t 3 & 2\\\\\n",
       "\t 3 & 3\\\\\n",
       "\t 3 & 4\\\\\n",
       "\t 3 & 5\\\\\n",
       "\\end{tabular}\n"
      ],
      "text/markdown": [
       "\n",
       "A matrix: 8 × 2 of type dbl\n",
       "\n",
       "| x1 | x2 |\n",
       "|---|---|\n",
       "| 3 | 4 |\n",
       "| 3 | 3 |\n",
       "| 3 | 2 |\n",
       "| 3 | 1 |\n",
       "| 3 | 2 |\n",
       "| 3 | 3 |\n",
       "| 3 | 4 |\n",
       "| 3 | 5 |\n",
       "\n"
      ],
      "text/plain": [
       "     x1 x2\n",
       "[1,] 3  4 \n",
       "[2,] 3  3 \n",
       "[3,] 3  2 \n",
       "[4,] 3  1 \n",
       "[5,] 3  2 \n",
       "[6,] 3  3 \n",
       "[7,] 3  4 \n",
       "[8,] 3  5 "
      ]
     },
     "metadata": {},
     "output_type": "display_data"
    },
    {
     "data": {
      "text/html": [
       "'matrix'"
      ],
      "text/latex": [
       "'matrix'"
      ],
      "text/markdown": [
       "'matrix'"
      ],
      "text/plain": [
       "[1] \"matrix\""
      ]
     },
     "metadata": {},
     "output_type": "display_data"
    },
    {
     "name": "stdout",
     "output_type": "stream",
     "text": [
      "x1 x2 \n",
      " 3  4 \n",
      "x1 x2 \n",
      " 3  3 \n",
      "x1 x2 \n",
      " 3  2 \n",
      "x1 x2 \n",
      " 3  1 \n",
      "x1 x2 \n",
      " 3  2 \n",
      "x1 x2 \n",
      " 3  3 \n",
      "x1 x2 \n",
      " 3  4 \n",
      "x1 x2 \n",
      " 3  5 \n"
     ]
    },
    {
     "data": {
      "text/html": [
       "<table>\n",
       "<caption>A matrix: 2 × 8 of type dbl</caption>\n",
       "<tbody>\n",
       "\t<tr><td>4.0</td><td>4</td><td>4.0</td><td>4</td><td>4.0</td><td>4</td><td>4.0</td><td>4</td></tr>\n",
       "\t<tr><td>3.5</td><td>3</td><td>2.5</td><td>2</td><td>2.5</td><td>3</td><td>3.5</td><td>4</td></tr>\n",
       "</tbody>\n",
       "</table>\n"
      ],
      "text/latex": [
       "A matrix: 2 × 8 of type dbl\n",
       "\\begin{tabular}{llllllll}\n",
       "\t 4.0 & 4 & 4.0 & 4 & 4.0 & 4 & 4.0 & 4\\\\\n",
       "\t 3.5 & 3 & 2.5 & 2 & 2.5 & 3 & 3.5 & 4\\\\\n",
       "\\end{tabular}\n"
      ],
      "text/markdown": [
       "\n",
       "A matrix: 2 × 8 of type dbl\n",
       "\n",
       "| 4.0 | 4 | 4.0 | 4 | 4.0 | 4 | 4.0 | 4 |\n",
       "| 3.5 | 3 | 2.5 | 2 | 2.5 | 3 | 3.5 | 4 |\n",
       "\n"
      ],
      "text/plain": [
       "     [,1] [,2] [,3] [,4] [,5] [,6] [,7] [,8]\n",
       "[1,] 4.0  4    4.0  4    4.0  4    4.0  4   \n",
       "[2,] 3.5  3    2.5  2    2.5  3    3.5  4   "
      ]
     },
     "metadata": {},
     "output_type": "display_data"
    }
   ],
   "source": [
    "x <- cbind(x1 = 3, x2 = c(4:1, 2:5)); x\n",
    "class(x)\n",
    "myFUN<- function(x, c1, c2) {\n",
    "  print(x)\n",
    "  c(sum(x[c1],1), mean(x[c2]))\n",
    "  }\n",
    "apply(x,1,myFUN,c1='x1',c2=c('x1','x2')) #pass c1 and c2 into myFUN"
   ]
  },
  {
   "cell_type": "code",
   "execution_count": 27,
   "metadata": {},
   "outputs": [
    {
     "data": {
      "text/plain": [
       "   user  system elapsed \n",
       "      0       0       0 "
      ]
     },
     "metadata": {},
     "output_type": "display_data"
    },
    {
     "data": {
      "text/plain": [
       "   user  system elapsed \n",
       "   0.10    0.00    0.09 "
      ]
     },
     "metadata": {},
     "output_type": "display_data"
    },
    {
     "data": {
      "text/plain": [
       "   user  system elapsed \n",
       "      0       0       0 "
      ]
     },
     "metadata": {},
     "output_type": "display_data"
    }
   ],
   "source": [
    "rm(list=ls())\n",
    "\n",
    "fun1<-function(x){\n",
    " myFUN<- function(x, c1, c2) {\n",
    " c(sum(x[c1],1), mean(x[c2]))\n",
    " }\n",
    " apply(x,1,myFUN,c1='x1',c2=c('x1','x2'))\n",
    " }\n",
    "\n",
    "fun2<-function(x){\n",
    " df<-data.frame()\n",
    " for(i in 1:nrow(x)){\n",
    " row<-x[i,]\n",
    " df<-rbind(df,rbind(c(sum(row[1],1), mean(row))))\n",
    " }\n",
    " }\n",
    "\n",
    "fun3<-function(x){\n",
    " data.frame(x1=x[,1]+1,x2=rowMeans(x))\n",
    " }\n",
    "\n",
    "x <- cbind(x1=3, x2 = c(400:1, 2:500))\n",
    "# cpu time\n",
    "system.time(fun1(x))\n",
    "system.time(fun2(x))\n",
    "system.time(fun3(x))"
   ]
  },
  {
   "cell_type": "code",
   "execution_count": 28,
   "metadata": {},
   "outputs": [
    {
     "data": {
      "text/html": [
       "<pre class=language-r><code>function (X, FUN, ...) \n",
       "{\n",
       "<span style=white-space:pre-wrap>    FUN &lt;- match.fun(FUN)</span>\n",
       "<span style=white-space:pre-wrap>    if (!is.vector(X) || is.object(X)) </span>\n",
       "<span style=white-space:pre-wrap>        X &lt;- as.list(X)</span>\n",
       "<span style=white-space:pre-wrap>    .Internal(lapply(X, FUN))</span>\n",
       "}</code></pre>"
      ],
      "text/latex": [
       "\\begin{minted}{r}\n",
       "function (X, FUN, ...) \n",
       "\\{\n",
       "    FUN <- match.fun(FUN)\n",
       "    if (!is.vector(X) \\textbar{}\\textbar{} is.object(X)) \n",
       "        X <- as.list(X)\n",
       "    .Internal(lapply(X, FUN))\n",
       "\\}\n",
       "\\end{minted}"
      ],
      "text/markdown": [
       "```r\n",
       "function (X, FUN, ...) \n",
       "{\n",
       "    FUN <- match.fun(FUN)\n",
       "    if (!is.vector(X) || is.object(X)) \n",
       "        X <- as.list(X)\n",
       "    .Internal(lapply(X, FUN))\n",
       "}\n",
       "```"
      ],
      "text/plain": [
       "function (X, FUN, ...) \n",
       "{\n",
       "    FUN <- match.fun(FUN)\n",
       "    if (!is.vector(X) || is.object(X)) \n",
       "        X <- as.list(X)\n",
       "    .Internal(lapply(X, FUN))\n",
       "}\n",
       "<bytecode: 0x00000000135ae438>\n",
       "<environment: namespace:base>"
      ]
     },
     "metadata": {},
     "output_type": "display_data"
    }
   ],
   "source": [
    "lapply"
   ]
  },
  {
   "cell_type": "code",
   "execution_count": 29,
   "metadata": {},
   "outputs": [
    {
     "data": {
      "text/html": [
       "<ol>\n",
       "\t<li>1</li>\n",
       "\t<li>1.4142135623731</li>\n",
       "\t<li>1.73205080756888</li>\n",
       "\t<li>2</li>\n",
       "\t<li>2.23606797749979</li>\n",
       "\t<li>2.44948974278318</li>\n",
       "\t<li>2.64575131106459</li>\n",
       "\t<li>2.82842712474619</li>\n",
       "\t<li>3</li>\n",
       "\t<li>3.16227766016838</li>\n",
       "</ol>\n"
      ],
      "text/latex": [
       "\\begin{enumerate}\n",
       "\\item 1\n",
       "\\item 1.4142135623731\n",
       "\\item 1.73205080756888\n",
       "\\item 2\n",
       "\\item 2.23606797749979\n",
       "\\item 2.44948974278318\n",
       "\\item 2.64575131106459\n",
       "\\item 2.82842712474619\n",
       "\\item 3\n",
       "\\item 3.16227766016838\n",
       "\\end{enumerate}\n"
      ],
      "text/markdown": [
       "1. 1\n",
       "2. 1.4142135623731\n",
       "3. 1.73205080756888\n",
       "4. 2\n",
       "5. 2.23606797749979\n",
       "6. 2.44948974278318\n",
       "7. 2.64575131106459\n",
       "8. 2.82842712474619\n",
       "9. 3\n",
       "10. 3.16227766016838\n",
       "\n",
       "\n"
      ],
      "text/plain": [
       "[[1]]\n",
       "[1] 1\n",
       "\n",
       "[[2]]\n",
       "[1] 1.414214\n",
       "\n",
       "[[3]]\n",
       "[1] 1.732051\n",
       "\n",
       "[[4]]\n",
       "[1] 2\n",
       "\n",
       "[[5]]\n",
       "[1] 2.236068\n",
       "\n",
       "[[6]]\n",
       "[1] 2.44949\n",
       "\n",
       "[[7]]\n",
       "[1] 2.645751\n",
       "\n",
       "[[8]]\n",
       "[1] 2.828427\n",
       "\n",
       "[[9]]\n",
       "[1] 3\n",
       "\n",
       "[[10]]\n",
       "[1] 3.162278\n"
      ]
     },
     "metadata": {},
     "output_type": "display_data"
    },
    {
     "data": {
      "text/html": [
       "'list'"
      ],
      "text/latex": [
       "'list'"
      ],
      "text/markdown": [
       "'list'"
      ],
      "text/plain": [
       "[1] \"list\""
      ]
     },
     "metadata": {},
     "output_type": "display_data"
    },
    {
     "name": "stdout",
     "output_type": "stream",
     "text": [
      "[[1]]\n",
      "[1] 1\n",
      "\n",
      "[[2]]\n",
      "[1] 1.414214\n",
      "\n",
      "[[3]]\n",
      "[1] 1.732051\n",
      "\n",
      "[[4]]\n",
      "[1] 2\n",
      "\n",
      "[[5]]\n",
      "[1] 2.236068\n",
      "\n",
      "[[6]]\n",
      "[1] 2.44949\n",
      "\n",
      "[[7]]\n",
      "[1] 2.645751\n",
      "\n",
      "[[8]]\n",
      "[1] 2.828427\n",
      "\n",
      "[[9]]\n",
      "[1] 3\n",
      "\n",
      "[[10]]\n",
      "[1] 3.162278\n",
      "\n"
     ]
    },
    {
     "data": {
      "text/html": [
       "'=============='"
      ],
      "text/latex": [
       "'=============='"
      ],
      "text/markdown": [
       "'=============='"
      ],
      "text/plain": [
       "[1] \"==============\""
      ]
     },
     "metadata": {},
     "output_type": "display_data"
    },
    {
     "name": "stdout",
     "output_type": "stream",
     "text": [
      "[1] 1.414214\n"
     ]
    }
   ],
   "source": [
    "x=lapply(1:10, sqrt); x  #vector 1:10 is converted to list internally\n",
    "class(x)\n",
    "print(x)\n",
    "\"==============\"\n",
    "print(x[[2]])"
   ]
  },
  {
   "cell_type": "code",
   "execution_count": 30,
   "metadata": {
    "scrolled": true
   },
   "outputs": [
    {
     "name": "stdout",
     "output_type": "stream",
     "text": [
      "[[1]]\n",
      "[1] 1\n",
      "\n",
      "[[2]]\n",
      "[1] 1 2\n",
      "\n",
      "[[3]]\n",
      "[1] 1 2 3\n",
      "\n",
      "[[4]]\n",
      "[1] 1 2 3 4\n",
      "\n",
      "[[5]]\n",
      "[1] 1 2 3 4 5\n",
      "\n"
     ]
    },
    {
     "data": {
      "text/html": [
       "<ol class=list-inline>\n",
       "\t<li>1</li>\n",
       "\t<li>2</li>\n",
       "\t<li>3</li>\n",
       "\t<li>4</li>\n",
       "\t<li>5</li>\n",
       "</ol>\n"
      ],
      "text/latex": [
       "\\begin{enumerate*}\n",
       "\\item 1\n",
       "\\item 2\n",
       "\\item 3\n",
       "\\item 4\n",
       "\\item 5\n",
       "\\end{enumerate*}\n"
      ],
      "text/markdown": [
       "1. 1\n",
       "2. 2\n",
       "3. 3\n",
       "4. 4\n",
       "5. 5\n",
       "\n",
       "\n"
      ],
      "text/plain": [
       "[1] 1 2 3 4 5"
      ]
     },
     "metadata": {},
     "output_type": "display_data"
    }
   ],
   "source": [
    "x=lapply(1:5, seq_len)\n",
    "print(x)\n",
    "x[[5]]"
   ]
  },
  {
   "cell_type": "code",
   "execution_count": 31,
   "metadata": {
    "scrolled": false
   },
   "outputs": [
    {
     "name": "stdout",
     "output_type": "stream",
     "text": [
      "[[1]]\n",
      "[1] 0.5346563\n",
      "\n",
      "[[2]]\n",
      "[1] 0.9588834 0.2374637\n",
      "\n",
      "[[3]]\n",
      "[1] 0.2383953 0.7170434 0.6741510\n",
      "\n",
      "[[4]]\n",
      "[1] 0.4314373 0.1022024 0.1269728 0.1043447\n",
      "\n",
      "[[5]]\n",
      "[1] 0.74491883 0.74519997 0.09529168 0.24219422 0.51232126\n",
      "\n"
     ]
    }
   ],
   "source": [
    "x=lapply(1:5, runif)\n",
    "print(x)"
   ]
  },
  {
   "cell_type": "code",
   "execution_count": 32,
   "metadata": {
    "scrolled": true
   },
   "outputs": [
    {
     "data": {
      "text/html": [
       "<ol>\n",
       "\t<li>8.96697200136259</li>\n",
       "\t<li><ol class=list-inline>\n",
       "\t<li>2.655086631421</li>\n",
       "\t<li>3.7212389963679</li>\n",
       "</ol>\n",
       "</li>\n",
       "\t<li><ol class=list-inline>\n",
       "\t<li>5.72853363351896</li>\n",
       "\t<li>9.08207789994776</li>\n",
       "\t<li>2.01681931037456</li>\n",
       "</ol>\n",
       "</li>\n",
       "\t<li><ol class=list-inline>\n",
       "\t<li>8.98389684967697</li>\n",
       "\t<li>9.44675268605351</li>\n",
       "\t<li>6.60797792486846</li>\n",
       "\t<li>6.2911404389888</li>\n",
       "</ol>\n",
       "</li>\n",
       "\t<li><ol class=list-inline>\n",
       "\t<li>0.617862704675645</li>\n",
       "\t<li>2.05974574899301</li>\n",
       "\t<li>1.76556752528995</li>\n",
       "\t<li>6.87022846657783</li>\n",
       "\t<li>3.84103718213737</li>\n",
       "</ol>\n",
       "</li>\n",
       "</ol>\n"
      ],
      "text/latex": [
       "\\begin{enumerate}\n",
       "\\item 8.96697200136259\n",
       "\\item \\begin{enumerate*}\n",
       "\\item 2.655086631421\n",
       "\\item 3.7212389963679\n",
       "\\end{enumerate*}\n",
       "\n",
       "\\item \\begin{enumerate*}\n",
       "\\item 5.72853363351896\n",
       "\\item 9.08207789994776\n",
       "\\item 2.01681931037456\n",
       "\\end{enumerate*}\n",
       "\n",
       "\\item \\begin{enumerate*}\n",
       "\\item 8.98389684967697\n",
       "\\item 9.44675268605351\n",
       "\\item 6.60797792486846\n",
       "\\item 6.2911404389888\n",
       "\\end{enumerate*}\n",
       "\n",
       "\\item \\begin{enumerate*}\n",
       "\\item 0.617862704675645\n",
       "\\item 2.05974574899301\n",
       "\\item 1.76556752528995\n",
       "\\item 6.87022846657783\n",
       "\\item 3.84103718213737\n",
       "\\end{enumerate*}\n",
       "\n",
       "\\end{enumerate}\n"
      ],
      "text/markdown": [
       "1. 8.96697200136259\n",
       "2. 1. 2.655086631421\n",
       "2. 3.7212389963679\n",
       "\n",
       "\n",
       "\n",
       "3. 1. 5.72853363351896\n",
       "2. 9.08207789994776\n",
       "3. 2.01681931037456\n",
       "\n",
       "\n",
       "\n",
       "4. 1. 8.98389684967697\n",
       "2. 9.44675268605351\n",
       "3. 6.60797792486846\n",
       "4. 6.2911404389888\n",
       "\n",
       "\n",
       "\n",
       "5. 1. 0.617862704675645\n",
       "2. 2.05974574899301\n",
       "3. 1.76556752528995\n",
       "4. 6.87022846657783\n",
       "5. 3.84103718213737\n",
       "\n",
       "\n",
       "\n",
       "\n",
       "\n"
      ],
      "text/plain": [
       "[[1]]\n",
       "[1] 8.966972\n",
       "\n",
       "[[2]]\n",
       "[1] 2.655087 3.721239\n",
       "\n",
       "[[3]]\n",
       "[1] 5.728534 9.082078 2.016819\n",
       "\n",
       "[[4]]\n",
       "[1] 8.983897 9.446753 6.607978 6.291140\n",
       "\n",
       "[[5]]\n",
       "[1] 0.6178627 2.0597457 1.7655675 6.8702285 3.8410372\n"
      ]
     },
     "metadata": {},
     "output_type": "display_data"
    },
    {
     "data": {
      "text/html": [
       "<ol>\n",
       "\t<li>8.96697200136259</li>\n",
       "\t<li><ol class=list-inline>\n",
       "\t<li>2.655086631421</li>\n",
       "\t<li>3.7212389963679</li>\n",
       "</ol>\n",
       "</li>\n",
       "\t<li><ol class=list-inline>\n",
       "\t<li>5.72853363351896</li>\n",
       "\t<li>9.08207789994776</li>\n",
       "\t<li>2.01681931037456</li>\n",
       "</ol>\n",
       "</li>\n",
       "\t<li><ol class=list-inline>\n",
       "\t<li>8.98389684967697</li>\n",
       "\t<li>9.44675268605351</li>\n",
       "\t<li>6.60797792486846</li>\n",
       "\t<li>6.2911404389888</li>\n",
       "</ol>\n",
       "</li>\n",
       "\t<li><ol class=list-inline>\n",
       "\t<li>0.617862704675645</li>\n",
       "\t<li>2.05974574899301</li>\n",
       "\t<li>1.76556752528995</li>\n",
       "\t<li>6.87022846657783</li>\n",
       "\t<li>3.84103718213737</li>\n",
       "</ol>\n",
       "</li>\n",
       "</ol>\n"
      ],
      "text/latex": [
       "\\begin{enumerate}\n",
       "\\item 8.96697200136259\n",
       "\\item \\begin{enumerate*}\n",
       "\\item 2.655086631421\n",
       "\\item 3.7212389963679\n",
       "\\end{enumerate*}\n",
       "\n",
       "\\item \\begin{enumerate*}\n",
       "\\item 5.72853363351896\n",
       "\\item 9.08207789994776\n",
       "\\item 2.01681931037456\n",
       "\\end{enumerate*}\n",
       "\n",
       "\\item \\begin{enumerate*}\n",
       "\\item 8.98389684967697\n",
       "\\item 9.44675268605351\n",
       "\\item 6.60797792486846\n",
       "\\item 6.2911404389888\n",
       "\\end{enumerate*}\n",
       "\n",
       "\\item \\begin{enumerate*}\n",
       "\\item 0.617862704675645\n",
       "\\item 2.05974574899301\n",
       "\\item 1.76556752528995\n",
       "\\item 6.87022846657783\n",
       "\\item 3.84103718213737\n",
       "\\end{enumerate*}\n",
       "\n",
       "\\end{enumerate}\n"
      ],
      "text/markdown": [
       "1. 8.96697200136259\n",
       "2. 1. 2.655086631421\n",
       "2. 3.7212389963679\n",
       "\n",
       "\n",
       "\n",
       "3. 1. 5.72853363351896\n",
       "2. 9.08207789994776\n",
       "3. 2.01681931037456\n",
       "\n",
       "\n",
       "\n",
       "4. 1. 8.98389684967697\n",
       "2. 9.44675268605351\n",
       "3. 6.60797792486846\n",
       "4. 6.2911404389888\n",
       "\n",
       "\n",
       "\n",
       "5. 1. 0.617862704675645\n",
       "2. 2.05974574899301\n",
       "3. 1.76556752528995\n",
       "4. 6.87022846657783\n",
       "5. 3.84103718213737\n",
       "\n",
       "\n",
       "\n",
       "\n",
       "\n"
      ],
      "text/plain": [
       "[[1]]\n",
       "[1] 8.966972\n",
       "\n",
       "[[2]]\n",
       "[1] 2.655087 3.721239\n",
       "\n",
       "[[3]]\n",
       "[1] 5.728534 9.082078 2.016819\n",
       "\n",
       "[[4]]\n",
       "[1] 8.983897 9.446753 6.607978 6.291140\n",
       "\n",
       "[[5]]\n",
       "[1] 0.6178627 2.0597457 1.7655675 6.8702285 3.8410372\n"
      ]
     },
     "metadata": {},
     "output_type": "display_data"
    }
   ],
   "source": [
    "set.seed(0)\n",
    "lapply(1:5, runif, min=0, max=10) #pass more args into FUN\n",
    "set.seed(0)\n",
    "myunif=function(x){runif(x, min=0, max=10)}\n",
    "# lapply(1:5, function(x){runif(x, min=0, max=10)})\n",
    "lapply(1:5, myunif)"
   ]
  },
  {
   "cell_type": "code",
   "execution_count": 33,
   "metadata": {},
   "outputs": [
    {
     "name": "stdout",
     "output_type": "stream",
     "text": [
      "$a\n",
      "[1] 1 2 3 4 5\n",
      "\n",
      "$b\n",
      " [1]  0.73832471  0.57578135 -0.30538839  1.51178117  0.38984324 -0.62124058\n",
      " [7] -2.21469989  1.12493092 -0.04493361 -0.01619026\n",
      "\n",
      "$a\n",
      "[1] 3\n",
      "\n",
      "$b\n",
      "[1] 0.1138209\n",
      "\n",
      "[1] \"list\"\n",
      "[1] 3\n",
      "[1] 3\n",
      "[1] 0.1138209\n"
     ]
    }
   ],
   "source": [
    "x=list(a=1:5, b=rnorm(10))\n",
    "print(x)\n",
    "y=lapply(x, mean)\n",
    "print(y)\n",
    "print(typeof(y))\n",
    "print(y[[1]])\n",
    "print(y$a)\n",
    "print(y$b)"
   ]
  },
  {
   "cell_type": "code",
   "execution_count": 34,
   "metadata": {
    "scrolled": false
   },
   "outputs": [
    {
     "name": "stdout",
     "output_type": "stream",
     "text": [
      "$a\n",
      "[1] 1 2 3 4\n",
      "\n",
      "$b\n",
      " [1]  0.94383621  0.82122120  0.59390132  0.91897737  0.78213630  0.07456498\n",
      " [7] -1.98935170  0.61982575 -0.05612874 -0.15579551\n",
      "\n",
      "$c\n",
      " [1] -0.4707524  0.5218499  1.4179416  2.3586796  0.8972123  1.3876716\n",
      " [7]  0.9461950 -0.3770596  0.5850054  0.6057100  0.9406866  2.1000254\n",
      "[13]  1.7631757  0.8354764  0.7466383  1.6969634  1.5566632  0.3112443\n",
      "[19]  0.2925048  1.3645820\n",
      "\n",
      "$d\n",
      " [1] 0.7789147 0.7973088 0.4552745 0.4100841 0.8108702 0.6049333 0.6547239\n",
      " [8] 0.3531973 0.2702601 0.9926841\n",
      "\n",
      "$a\n",
      "[1] 2.5\n",
      "\n",
      "$b\n",
      "[1] 0.2553187\n",
      "\n",
      "$c\n",
      "[1] 0.9740207\n",
      "\n",
      "$d\n",
      "[1] 0.6128251\n",
      "\n"
     ]
    }
   ],
   "source": [
    "x=list(a=1:4, b=rnorm(10), c=rnorm(20, 1), d=runif(10)); print(x)\n",
    "y=lapply(x, mean)\n",
    "print(y)"
   ]
  },
  {
   "cell_type": "code",
   "execution_count": 36,
   "metadata": {},
   "outputs": [
    {
     "data": {
      "text/html": [
       "81"
      ],
      "text/latex": [
       "81"
      ],
      "text/markdown": [
       "81"
      ],
      "text/plain": [
       "[1] 81"
      ]
     },
     "metadata": {},
     "output_type": "display_data"
    },
    {
     "data": {
      "text/html": [
       "81"
      ],
      "text/latex": [
       "81"
      ],
      "text/markdown": [
       "81"
      ],
      "text/plain": [
       "[1] 81"
      ]
     },
     "metadata": {},
     "output_type": "display_data"
    }
   ],
   "source": [
    "y=function(x){x*x}\n",
    "# formals(y)\n",
    "# body(y)\n",
    "# environment(y)\n",
    "y(9)\n",
    "(function(x){x*x})(9)"
   ]
  },
  {
   "cell_type": "code",
   "execution_count": 68,
   "metadata": {
    "scrolled": false
   },
   "outputs": [
    {
     "data": {
      "text/html": [
       "<dl>\n",
       "\t<dt>$a</dt>\n",
       "\t\t<dd><ol class=list-inline>\n",
       "\t<li>1</li>\n",
       "\t<li>2</li>\n",
       "\t<li>3</li>\n",
       "\t<li>4</li>\n",
       "</ol>\n",
       "</dd>\n",
       "\t<dt>$b</dt>\n",
       "\t\t<dd><ol class=list-inline>\n",
       "\t<li>1.26295428488079</li>\n",
       "\t<li>-0.326233360705649</li>\n",
       "\t<li>1.3297992629225</li>\n",
       "\t<li>1.2724293214294</li>\n",
       "\t<li>0.414641434456408</li>\n",
       "\t<li>-1.53995004190371</li>\n",
       "\t<li>-0.928567034713538</li>\n",
       "\t<li>-0.29472044679056</li>\n",
       "\t<li>-0.00576717274753696</li>\n",
       "\t<li>2.40465338885795</li>\n",
       "</ol>\n",
       "</dd>\n",
       "\t<dt>$c</dt>\n",
       "\t\t<dd><ol class=list-inline>\n",
       "\t<li>1.76359346114046</li>\n",
       "\t<li>0.200990751010632</li>\n",
       "\t<li>-0.147657009236351</li>\n",
       "\t<li>0.710538426311777</li>\n",
       "\t<li>0.700784882102684</li>\n",
       "\t<li>0.588489167204933</li>\n",
       "\t<li>1.25222344815613</li>\n",
       "\t<li>0.108078872715431</li>\n",
       "\t<li>1.43568329935572</li>\n",
       "\t<li>-0.237538421929958</li>\n",
       "\t<li>0.775732114721691</li>\n",
       "\t<li>1.3773956459817</li>\n",
       "\t<li>1.13333636081484</li>\n",
       "\t<li>1.80418950974491</li>\n",
       "\t<li>0.942893225616191</li>\n",
       "\t<li>1.50360797223373</li>\n",
       "\t<li>2.08576936214569</li>\n",
       "\t<li>0.30904616030317</li>\n",
       "\t<li>-0.284599353872188</li>\n",
       "\t<li>1.04672617218835</li>\n",
       "</ol>\n",
       "</dd>\n",
       "\t<dt>$d</dt>\n",
       "\t\t<dd><ol class=list-inline>\n",
       "\t<li>0.406830187188461</li>\n",
       "\t<li>0.912875924259424</li>\n",
       "\t<li>0.293603372760117</li>\n",
       "\t<li>0.459065726259723</li>\n",
       "\t<li>0.332394674187526</li>\n",
       "\t<li>0.65087046707049</li>\n",
       "\t<li>0.258016780717298</li>\n",
       "\t<li>0.478545248275623</li>\n",
       "\t<li>0.766310670645908</li>\n",
       "\t<li>0.0842469143681228</li>\n",
       "</ol>\n",
       "</dd>\n",
       "</dl>\n"
      ],
      "text/latex": [
       "\\begin{description}\n",
       "\\item[\\$a] \\begin{enumerate*}\n",
       "\\item 1\n",
       "\\item 2\n",
       "\\item 3\n",
       "\\item 4\n",
       "\\end{enumerate*}\n",
       "\n",
       "\\item[\\$b] \\begin{enumerate*}\n",
       "\\item 1.26295428488079\n",
       "\\item -0.326233360705649\n",
       "\\item 1.3297992629225\n",
       "\\item 1.2724293214294\n",
       "\\item 0.414641434456408\n",
       "\\item -1.53995004190371\n",
       "\\item -0.928567034713538\n",
       "\\item -0.29472044679056\n",
       "\\item -0.00576717274753696\n",
       "\\item 2.40465338885795\n",
       "\\end{enumerate*}\n",
       "\n",
       "\\item[\\$c] \\begin{enumerate*}\n",
       "\\item 1.76359346114046\n",
       "\\item 0.200990751010632\n",
       "\\item -0.147657009236351\n",
       "\\item 0.710538426311777\n",
       "\\item 0.700784882102684\n",
       "\\item 0.588489167204933\n",
       "\\item 1.25222344815613\n",
       "\\item 0.108078872715431\n",
       "\\item 1.43568329935572\n",
       "\\item -0.237538421929958\n",
       "\\item 0.775732114721691\n",
       "\\item 1.3773956459817\n",
       "\\item 1.13333636081484\n",
       "\\item 1.80418950974491\n",
       "\\item 0.942893225616191\n",
       "\\item 1.50360797223373\n",
       "\\item 2.08576936214569\n",
       "\\item 0.30904616030317\n",
       "\\item -0.284599353872188\n",
       "\\item 1.04672617218835\n",
       "\\end{enumerate*}\n",
       "\n",
       "\\item[\\$d] \\begin{enumerate*}\n",
       "\\item 0.406830187188461\n",
       "\\item 0.912875924259424\n",
       "\\item 0.293603372760117\n",
       "\\item 0.459065726259723\n",
       "\\item 0.332394674187526\n",
       "\\item 0.65087046707049\n",
       "\\item 0.258016780717298\n",
       "\\item 0.478545248275623\n",
       "\\item 0.766310670645908\n",
       "\\item 0.0842469143681228\n",
       "\\end{enumerate*}\n",
       "\n",
       "\\end{description}\n"
      ],
      "text/markdown": [
       "$a\n",
       ":   1. 1\n",
       "2. 2\n",
       "3. 3\n",
       "4. 4\n",
       "\n",
       "\n",
       "\n",
       "$b\n",
       ":   1. 1.26295428488079\n",
       "2. -0.326233360705649\n",
       "3. 1.3297992629225\n",
       "4. 1.2724293214294\n",
       "5. 0.414641434456408\n",
       "6. -1.53995004190371\n",
       "7. -0.928567034713538\n",
       "8. -0.29472044679056\n",
       "9. -0.00576717274753696\n",
       "10. 2.40465338885795\n",
       "\n",
       "\n",
       "\n",
       "$c\n",
       ":   1. 1.76359346114046\n",
       "2. 0.200990751010632\n",
       "3. -0.147657009236351\n",
       "4. 0.710538426311777\n",
       "5. 0.700784882102684\n",
       "6. 0.588489167204933\n",
       "7. 1.25222344815613\n",
       "8. 0.108078872715431\n",
       "9. 1.43568329935572\n",
       "10. -0.237538421929958\n",
       "11. 0.775732114721691\n",
       "12. 1.3773956459817\n",
       "13. 1.13333636081484\n",
       "14. 1.80418950974491\n",
       "15. 0.942893225616191\n",
       "16. 1.50360797223373\n",
       "17. 2.08576936214569\n",
       "18. 0.30904616030317\n",
       "19. -0.284599353872188\n",
       "20. 1.04672617218835\n",
       "\n",
       "\n",
       "\n",
       "$d\n",
       ":   1. 0.406830187188461\n",
       "2. 0.912875924259424\n",
       "3. 0.293603372760117\n",
       "4. 0.459065726259723\n",
       "5. 0.332394674187526\n",
       "6. 0.65087046707049\n",
       "7. 0.258016780717298\n",
       "8. 0.478545248275623\n",
       "9. 0.766310670645908\n",
       "10. 0.0842469143681228\n",
       "\n",
       "\n",
       "\n",
       "\n",
       "\n"
      ],
      "text/plain": [
       "$a\n",
       "[1] 1 2 3 4\n",
       "\n",
       "$b\n",
       " [1]  1.262954285 -0.326233361  1.329799263  1.272429321  0.414641434\n",
       " [6] -1.539950042 -0.928567035 -0.294720447 -0.005767173  2.404653389\n",
       "\n",
       "$c\n",
       " [1]  1.7635935  0.2009908 -0.1476570  0.7105384  0.7007849  0.5884892\n",
       " [7]  1.2522234  0.1080789  1.4356833 -0.2375384  0.7757321  1.3773956\n",
       "[13]  1.1333364  1.8041895  0.9428932  1.5036080  2.0857694  0.3090462\n",
       "[19] -0.2845994  1.0467262\n",
       "\n",
       "$d\n",
       " [1] 0.40683019 0.91287592 0.29360337 0.45906573 0.33239467 0.65087047\n",
       " [7] 0.25801678 0.47854525 0.76631067 0.08424691\n"
      ]
     },
     "metadata": {},
     "output_type": "display_data"
    },
    {
     "name": "stderr",
     "output_type": "stream",
     "text": [
      "Warning message in FUN(X[[i]], ...):\n",
      "\"NaNs produced\"\n",
      "Warning message in FUN(X[[i]], ...):\n",
      "\"NaNs produced\"\n"
     ]
    },
    {
     "data": {
      "text/html": [
       "<dl>\n",
       "\t<dt>$a</dt>\n",
       "\t\t<dd><ol class=list-inline>\n",
       "\t<li>1</li>\n",
       "\t<li>1.4142135623731</li>\n",
       "\t<li>1.73205080756888</li>\n",
       "\t<li>2</li>\n",
       "</ol>\n",
       "</dd>\n",
       "\t<dt>$b</dt>\n",
       "\t\t<dd><ol class=list-inline>\n",
       "\t<li>1.12381238864892</li>\n",
       "\t<li>NaN</li>\n",
       "\t<li>1.15316922562237</li>\n",
       "\t<li>1.1280200891072</li>\n",
       "\t<li>0.643926575361204</li>\n",
       "\t<li>NaN</li>\n",
       "\t<li>NaN</li>\n",
       "\t<li>NaN</li>\n",
       "\t<li>NaN</li>\n",
       "\t<li>1.55069448598296</li>\n",
       "</ol>\n",
       "</dd>\n",
       "\t<dt>$c</dt>\n",
       "\t\t<dd><ol class=list-inline>\n",
       "\t<li>1.3280035621716</li>\n",
       "\t<li>0.448319920381229</li>\n",
       "\t<li>NaN</li>\n",
       "\t<li>0.842934414003709</li>\n",
       "\t<li>0.837128951896112</li>\n",
       "\t<li>0.76713047599801</li>\n",
       "\t<li>1.11902790320712</li>\n",
       "\t<li>0.328753513616861</li>\n",
       "\t<li>1.1982000247687</li>\n",
       "\t<li>NaN</li>\n",
       "\t<li>0.880756558148556</li>\n",
       "\t<li>1.17362500228212</li>\n",
       "\t<li>1.06458271675565</li>\n",
       "\t<li>1.3432012171469</li>\n",
       "\t<li>0.97102689232389</li>\n",
       "\t<li>1.22621693522546</li>\n",
       "\t<li>1.44421929157095</li>\n",
       "\t<li>0.55591920303509</li>\n",
       "\t<li>NaN</li>\n",
       "\t<li>1.0230963650548</li>\n",
       "</ol>\n",
       "</dd>\n",
       "\t<dt>$d</dt>\n",
       "\t\t<dd><ol class=list-inline>\n",
       "\t<li>0.637832413090195</li>\n",
       "\t<li>0.955445406216087</li>\n",
       "\t<li>0.541851799628014</li>\n",
       "\t<li>0.677543892496806</li>\n",
       "\t<li>0.576536793437788</li>\n",
       "\t<li>0.806765434975055</li>\n",
       "\t<li>0.507953522201883</li>\n",
       "\t<li>0.691769649721367</li>\n",
       "\t<li>0.875391724113215</li>\n",
       "\t<li>0.290253190108434</li>\n",
       "</ol>\n",
       "</dd>\n",
       "</dl>\n"
      ],
      "text/latex": [
       "\\begin{description}\n",
       "\\item[\\$a] \\begin{enumerate*}\n",
       "\\item 1\n",
       "\\item 1.4142135623731\n",
       "\\item 1.73205080756888\n",
       "\\item 2\n",
       "\\end{enumerate*}\n",
       "\n",
       "\\item[\\$b] \\begin{enumerate*}\n",
       "\\item 1.12381238864892\n",
       "\\item NaN\n",
       "\\item 1.15316922562237\n",
       "\\item 1.1280200891072\n",
       "\\item 0.643926575361204\n",
       "\\item NaN\n",
       "\\item NaN\n",
       "\\item NaN\n",
       "\\item NaN\n",
       "\\item 1.55069448598296\n",
       "\\end{enumerate*}\n",
       "\n",
       "\\item[\\$c] \\begin{enumerate*}\n",
       "\\item 1.3280035621716\n",
       "\\item 0.448319920381229\n",
       "\\item NaN\n",
       "\\item 0.842934414003709\n",
       "\\item 0.837128951896112\n",
       "\\item 0.76713047599801\n",
       "\\item 1.11902790320712\n",
       "\\item 0.328753513616861\n",
       "\\item 1.1982000247687\n",
       "\\item NaN\n",
       "\\item 0.880756558148556\n",
       "\\item 1.17362500228212\n",
       "\\item 1.06458271675565\n",
       "\\item 1.3432012171469\n",
       "\\item 0.97102689232389\n",
       "\\item 1.22621693522546\n",
       "\\item 1.44421929157095\n",
       "\\item 0.55591920303509\n",
       "\\item NaN\n",
       "\\item 1.0230963650548\n",
       "\\end{enumerate*}\n",
       "\n",
       "\\item[\\$d] \\begin{enumerate*}\n",
       "\\item 0.637832413090195\n",
       "\\item 0.955445406216087\n",
       "\\item 0.541851799628014\n",
       "\\item 0.677543892496806\n",
       "\\item 0.576536793437788\n",
       "\\item 0.806765434975055\n",
       "\\item 0.507953522201883\n",
       "\\item 0.691769649721367\n",
       "\\item 0.875391724113215\n",
       "\\item 0.290253190108434\n",
       "\\end{enumerate*}\n",
       "\n",
       "\\end{description}\n"
      ],
      "text/markdown": [
       "$a\n",
       ":   1. 1\n",
       "2. 1.4142135623731\n",
       "3. 1.73205080756888\n",
       "4. 2\n",
       "\n",
       "\n",
       "\n",
       "$b\n",
       ":   1. 1.12381238864892\n",
       "2. NaN\n",
       "3. 1.15316922562237\n",
       "4. 1.1280200891072\n",
       "5. 0.643926575361204\n",
       "6. NaN\n",
       "7. NaN\n",
       "8. NaN\n",
       "9. NaN\n",
       "10. 1.55069448598296\n",
       "\n",
       "\n",
       "\n",
       "$c\n",
       ":   1. 1.3280035621716\n",
       "2. 0.448319920381229\n",
       "3. NaN\n",
       "4. 0.842934414003709\n",
       "5. 0.837128951896112\n",
       "6. 0.76713047599801\n",
       "7. 1.11902790320712\n",
       "8. 0.328753513616861\n",
       "9. 1.1982000247687\n",
       "10. NaN\n",
       "11. 0.880756558148556\n",
       "12. 1.17362500228212\n",
       "13. 1.06458271675565\n",
       "14. 1.3432012171469\n",
       "15. 0.97102689232389\n",
       "16. 1.22621693522546\n",
       "17. 1.44421929157095\n",
       "18. 0.55591920303509\n",
       "19. NaN\n",
       "20. 1.0230963650548\n",
       "\n",
       "\n",
       "\n",
       "$d\n",
       ":   1. 0.637832413090195\n",
       "2. 0.955445406216087\n",
       "3. 0.541851799628014\n",
       "4. 0.677543892496806\n",
       "5. 0.576536793437788\n",
       "6. 0.806765434975055\n",
       "7. 0.507953522201883\n",
       "8. 0.691769649721367\n",
       "9. 0.875391724113215\n",
       "10. 0.290253190108434\n",
       "\n",
       "\n",
       "\n",
       "\n",
       "\n"
      ],
      "text/plain": [
       "$a\n",
       "[1] 1.000000 1.414214 1.732051 2.000000\n",
       "\n",
       "$b\n",
       " [1] 1.1238124       NaN 1.1531692 1.1280201 0.6439266       NaN       NaN\n",
       " [8]       NaN       NaN 1.5506945\n",
       "\n",
       "$c\n",
       " [1] 1.3280036 0.4483199       NaN 0.8429344 0.8371290 0.7671305 1.1190279\n",
       " [8] 0.3287535 1.1982000       NaN 0.8807566 1.1736250 1.0645827 1.3432012\n",
       "[15] 0.9710269 1.2262169 1.4442193 0.5559192       NaN 1.0230964\n",
       "\n",
       "$d\n",
       " [1] 0.6378324 0.9554454 0.5418518 0.6775439 0.5765368 0.8067654 0.5079535\n",
       " [8] 0.6917696 0.8753917 0.2902532\n"
      ]
     },
     "metadata": {},
     "output_type": "display_data"
    },
    {
     "data": {
      "text/html": [
       "<dl>\n",
       "\t<dt>$a</dt>\n",
       "\t\t<dd><ol class=list-inline>\n",
       "\t<li>1</li>\n",
       "\t<li>1.4142135623731</li>\n",
       "\t<li>1.73205080756888</li>\n",
       "\t<li>2</li>\n",
       "</ol>\n",
       "</dd>\n",
       "\t<dt>$b</dt>\n",
       "\t\t<dd><ol class=list-inline>\n",
       "\t<li>1.12381238864892</li>\n",
       "\t<li>&lt;NA&gt;</li>\n",
       "\t<li>1.15316922562237</li>\n",
       "\t<li>1.1280200891072</li>\n",
       "\t<li>0.643926575361204</li>\n",
       "\t<li>&lt;NA&gt;</li>\n",
       "\t<li>&lt;NA&gt;</li>\n",
       "\t<li>&lt;NA&gt;</li>\n",
       "\t<li>&lt;NA&gt;</li>\n",
       "\t<li>1.55069448598296</li>\n",
       "</ol>\n",
       "</dd>\n",
       "\t<dt>$c</dt>\n",
       "\t\t<dd><ol class=list-inline>\n",
       "\t<li>1.3280035621716</li>\n",
       "\t<li>0.448319920381229</li>\n",
       "\t<li>&lt;NA&gt;</li>\n",
       "\t<li>0.842934414003709</li>\n",
       "\t<li>0.837128951896112</li>\n",
       "\t<li>0.76713047599801</li>\n",
       "\t<li>1.11902790320712</li>\n",
       "\t<li>0.328753513616861</li>\n",
       "\t<li>1.1982000247687</li>\n",
       "\t<li>&lt;NA&gt;</li>\n",
       "\t<li>0.880756558148556</li>\n",
       "\t<li>1.17362500228212</li>\n",
       "\t<li>1.06458271675565</li>\n",
       "\t<li>1.3432012171469</li>\n",
       "\t<li>0.97102689232389</li>\n",
       "\t<li>1.22621693522546</li>\n",
       "\t<li>1.44421929157095</li>\n",
       "\t<li>0.55591920303509</li>\n",
       "\t<li>&lt;NA&gt;</li>\n",
       "\t<li>1.0230963650548</li>\n",
       "</ol>\n",
       "</dd>\n",
       "\t<dt>$d</dt>\n",
       "\t\t<dd><ol class=list-inline>\n",
       "\t<li>0.637832413090195</li>\n",
       "\t<li>0.955445406216087</li>\n",
       "\t<li>0.541851799628014</li>\n",
       "\t<li>0.677543892496806</li>\n",
       "\t<li>0.576536793437788</li>\n",
       "\t<li>0.806765434975055</li>\n",
       "\t<li>0.507953522201883</li>\n",
       "\t<li>0.691769649721367</li>\n",
       "\t<li>0.875391724113215</li>\n",
       "\t<li>0.290253190108434</li>\n",
       "</ol>\n",
       "</dd>\n",
       "</dl>\n"
      ],
      "text/latex": [
       "\\begin{description}\n",
       "\\item[\\$a] \\begin{enumerate*}\n",
       "\\item 1\n",
       "\\item 1.4142135623731\n",
       "\\item 1.73205080756888\n",
       "\\item 2\n",
       "\\end{enumerate*}\n",
       "\n",
       "\\item[\\$b] \\begin{enumerate*}\n",
       "\\item 1.12381238864892\n",
       "\\item <NA>\n",
       "\\item 1.15316922562237\n",
       "\\item 1.1280200891072\n",
       "\\item 0.643926575361204\n",
       "\\item <NA>\n",
       "\\item <NA>\n",
       "\\item <NA>\n",
       "\\item <NA>\n",
       "\\item 1.55069448598296\n",
       "\\end{enumerate*}\n",
       "\n",
       "\\item[\\$c] \\begin{enumerate*}\n",
       "\\item 1.3280035621716\n",
       "\\item 0.448319920381229\n",
       "\\item <NA>\n",
       "\\item 0.842934414003709\n",
       "\\item 0.837128951896112\n",
       "\\item 0.76713047599801\n",
       "\\item 1.11902790320712\n",
       "\\item 0.328753513616861\n",
       "\\item 1.1982000247687\n",
       "\\item <NA>\n",
       "\\item 0.880756558148556\n",
       "\\item 1.17362500228212\n",
       "\\item 1.06458271675565\n",
       "\\item 1.3432012171469\n",
       "\\item 0.97102689232389\n",
       "\\item 1.22621693522546\n",
       "\\item 1.44421929157095\n",
       "\\item 0.55591920303509\n",
       "\\item <NA>\n",
       "\\item 1.0230963650548\n",
       "\\end{enumerate*}\n",
       "\n",
       "\\item[\\$d] \\begin{enumerate*}\n",
       "\\item 0.637832413090195\n",
       "\\item 0.955445406216087\n",
       "\\item 0.541851799628014\n",
       "\\item 0.677543892496806\n",
       "\\item 0.576536793437788\n",
       "\\item 0.806765434975055\n",
       "\\item 0.507953522201883\n",
       "\\item 0.691769649721367\n",
       "\\item 0.875391724113215\n",
       "\\item 0.290253190108434\n",
       "\\end{enumerate*}\n",
       "\n",
       "\\end{description}\n"
      ],
      "text/markdown": [
       "$a\n",
       ":   1. 1\n",
       "2. 1.4142135623731\n",
       "3. 1.73205080756888\n",
       "4. 2\n",
       "\n",
       "\n",
       "\n",
       "$b\n",
       ":   1. 1.12381238864892\n",
       "2. &lt;NA&gt;\n",
       "3. 1.15316922562237\n",
       "4. 1.1280200891072\n",
       "5. 0.643926575361204\n",
       "6. &lt;NA&gt;\n",
       "7. &lt;NA&gt;\n",
       "8. &lt;NA&gt;\n",
       "9. &lt;NA&gt;\n",
       "10. 1.55069448598296\n",
       "\n",
       "\n",
       "\n",
       "$c\n",
       ":   1. 1.3280035621716\n",
       "2. 0.448319920381229\n",
       "3. &lt;NA&gt;\n",
       "4. 0.842934414003709\n",
       "5. 0.837128951896112\n",
       "6. 0.76713047599801\n",
       "7. 1.11902790320712\n",
       "8. 0.328753513616861\n",
       "9. 1.1982000247687\n",
       "10. &lt;NA&gt;\n",
       "11. 0.880756558148556\n",
       "12. 1.17362500228212\n",
       "13. 1.06458271675565\n",
       "14. 1.3432012171469\n",
       "15. 0.97102689232389\n",
       "16. 1.22621693522546\n",
       "17. 1.44421929157095\n",
       "18. 0.55591920303509\n",
       "19. &lt;NA&gt;\n",
       "20. 1.0230963650548\n",
       "\n",
       "\n",
       "\n",
       "$d\n",
       ":   1. 0.637832413090195\n",
       "2. 0.955445406216087\n",
       "3. 0.541851799628014\n",
       "4. 0.677543892496806\n",
       "5. 0.576536793437788\n",
       "6. 0.806765434975055\n",
       "7. 0.507953522201883\n",
       "8. 0.691769649721367\n",
       "9. 0.875391724113215\n",
       "10. 0.290253190108434\n",
       "\n",
       "\n",
       "\n",
       "\n",
       "\n"
      ],
      "text/plain": [
       "$a\n",
       "[1] 1.000000 1.414214 1.732051 2.000000\n",
       "\n",
       "$b\n",
       " [1] 1.1238124        NA 1.1531692 1.1280201 0.6439266        NA        NA\n",
       " [8]        NA        NA 1.5506945\n",
       "\n",
       "$c\n",
       " [1] 1.3280036 0.4483199        NA 0.8429344 0.8371290 0.7671305 1.1190279\n",
       " [8] 0.3287535 1.1982000        NA 0.8807566 1.1736250 1.0645827 1.3432012\n",
       "[15] 0.9710269 1.2262169 1.4442193 0.5559192        NA 1.0230964\n",
       "\n",
       "$d\n",
       " [1] 0.6378324 0.9554454 0.5418518 0.6775439 0.5765368 0.8067654 0.5079535\n",
       " [8] 0.6917696 0.8753917 0.2902532\n"
      ]
     },
     "metadata": {},
     "output_type": "display_data"
    }
   ],
   "source": [
    "set.seed(0)\n",
    "x=list(a=1:4, b=rnorm(10), c=rnorm(20, 1), d=runif(10)); x\n",
    "z=lapply(x, sqrt); z\n",
    "z=lapply(x, function(x){x[x<0]=NA; sqrt(x)}); z"
   ]
  },
  {
   "cell_type": "code",
   "execution_count": 37,
   "metadata": {
    "scrolled": false
   },
   "outputs": [
    {
     "data": {
      "text/html": [
       "<dl>\n",
       "\t<dt>$a</dt>\n",
       "\t\t<dd><ol class=list-inline>\n",
       "\t<li>1</li>\n",
       "\t<li>2</li>\n",
       "\t<li>3</li>\n",
       "\t<li>4</li>\n",
       "</ol>\n",
       "</dd>\n",
       "\t<dt>$b</dt>\n",
       "\t\t<dd><ol class=list-inline>\n",
       "\t<li>1.26295428488079</li>\n",
       "\t<li>-0.326233360705649</li>\n",
       "\t<li>1.3297992629225</li>\n",
       "\t<li>1.2724293214294</li>\n",
       "\t<li>0.414641434456408</li>\n",
       "\t<li>-1.53995004190371</li>\n",
       "\t<li>-0.928567034713538</li>\n",
       "\t<li>-0.29472044679056</li>\n",
       "\t<li>-0.00576717274753696</li>\n",
       "\t<li>2.40465338885795</li>\n",
       "</ol>\n",
       "</dd>\n",
       "\t<dt>$c</dt>\n",
       "\t\t<dd><ol class=list-inline>\n",
       "\t<li>1.76359346114046</li>\n",
       "\t<li>0.200990751010632</li>\n",
       "\t<li>-0.147657009236351</li>\n",
       "\t<li>0.710538426311777</li>\n",
       "\t<li>0.700784882102684</li>\n",
       "\t<li>0.588489167204933</li>\n",
       "\t<li>1.25222344815613</li>\n",
       "\t<li>0.108078872715431</li>\n",
       "\t<li>1.43568329935572</li>\n",
       "\t<li>-0.237538421929958</li>\n",
       "\t<li>0.775732114721691</li>\n",
       "\t<li>1.3773956459817</li>\n",
       "\t<li>1.13333636081484</li>\n",
       "\t<li>1.80418950974491</li>\n",
       "\t<li>0.942893225616191</li>\n",
       "\t<li>1.50360797223373</li>\n",
       "\t<li>2.08576936214569</li>\n",
       "\t<li>0.30904616030317</li>\n",
       "\t<li>-0.284599353872188</li>\n",
       "\t<li>1.04672617218835</li>\n",
       "</ol>\n",
       "</dd>\n",
       "\t<dt>$d</dt>\n",
       "\t\t<dd><ol class=list-inline>\n",
       "\t<li>0.406830187188461</li>\n",
       "\t<li>0.912875924259424</li>\n",
       "\t<li>0.293603372760117</li>\n",
       "\t<li>0.459065726259723</li>\n",
       "\t<li>0.332394674187526</li>\n",
       "\t<li>0.65087046707049</li>\n",
       "\t<li>0.258016780717298</li>\n",
       "\t<li>0.478545248275623</li>\n",
       "\t<li>0.766310670645908</li>\n",
       "\t<li>0.0842469143681228</li>\n",
       "</ol>\n",
       "</dd>\n",
       "</dl>\n"
      ],
      "text/latex": [
       "\\begin{description}\n",
       "\\item[\\$a] \\begin{enumerate*}\n",
       "\\item 1\n",
       "\\item 2\n",
       "\\item 3\n",
       "\\item 4\n",
       "\\end{enumerate*}\n",
       "\n",
       "\\item[\\$b] \\begin{enumerate*}\n",
       "\\item 1.26295428488079\n",
       "\\item -0.326233360705649\n",
       "\\item 1.3297992629225\n",
       "\\item 1.2724293214294\n",
       "\\item 0.414641434456408\n",
       "\\item -1.53995004190371\n",
       "\\item -0.928567034713538\n",
       "\\item -0.29472044679056\n",
       "\\item -0.00576717274753696\n",
       "\\item 2.40465338885795\n",
       "\\end{enumerate*}\n",
       "\n",
       "\\item[\\$c] \\begin{enumerate*}\n",
       "\\item 1.76359346114046\n",
       "\\item 0.200990751010632\n",
       "\\item -0.147657009236351\n",
       "\\item 0.710538426311777\n",
       "\\item 0.700784882102684\n",
       "\\item 0.588489167204933\n",
       "\\item 1.25222344815613\n",
       "\\item 0.108078872715431\n",
       "\\item 1.43568329935572\n",
       "\\item -0.237538421929958\n",
       "\\item 0.775732114721691\n",
       "\\item 1.3773956459817\n",
       "\\item 1.13333636081484\n",
       "\\item 1.80418950974491\n",
       "\\item 0.942893225616191\n",
       "\\item 1.50360797223373\n",
       "\\item 2.08576936214569\n",
       "\\item 0.30904616030317\n",
       "\\item -0.284599353872188\n",
       "\\item 1.04672617218835\n",
       "\\end{enumerate*}\n",
       "\n",
       "\\item[\\$d] \\begin{enumerate*}\n",
       "\\item 0.406830187188461\n",
       "\\item 0.912875924259424\n",
       "\\item 0.293603372760117\n",
       "\\item 0.459065726259723\n",
       "\\item 0.332394674187526\n",
       "\\item 0.65087046707049\n",
       "\\item 0.258016780717298\n",
       "\\item 0.478545248275623\n",
       "\\item 0.766310670645908\n",
       "\\item 0.0842469143681228\n",
       "\\end{enumerate*}\n",
       "\n",
       "\\end{description}\n"
      ],
      "text/markdown": [
       "$a\n",
       ":   1. 1\n",
       "2. 2\n",
       "3. 3\n",
       "4. 4\n",
       "\n",
       "\n",
       "\n",
       "$b\n",
       ":   1. 1.26295428488079\n",
       "2. -0.326233360705649\n",
       "3. 1.3297992629225\n",
       "4. 1.2724293214294\n",
       "5. 0.414641434456408\n",
       "6. -1.53995004190371\n",
       "7. -0.928567034713538\n",
       "8. -0.29472044679056\n",
       "9. -0.00576717274753696\n",
       "10. 2.40465338885795\n",
       "\n",
       "\n",
       "\n",
       "$c\n",
       ":   1. 1.76359346114046\n",
       "2. 0.200990751010632\n",
       "3. -0.147657009236351\n",
       "4. 0.710538426311777\n",
       "5. 0.700784882102684\n",
       "6. 0.588489167204933\n",
       "7. 1.25222344815613\n",
       "8. 0.108078872715431\n",
       "9. 1.43568329935572\n",
       "10. -0.237538421929958\n",
       "11. 0.775732114721691\n",
       "12. 1.3773956459817\n",
       "13. 1.13333636081484\n",
       "14. 1.80418950974491\n",
       "15. 0.942893225616191\n",
       "16. 1.50360797223373\n",
       "17. 2.08576936214569\n",
       "18. 0.30904616030317\n",
       "19. -0.284599353872188\n",
       "20. 1.04672617218835\n",
       "\n",
       "\n",
       "\n",
       "$d\n",
       ":   1. 0.406830187188461\n",
       "2. 0.912875924259424\n",
       "3. 0.293603372760117\n",
       "4. 0.459065726259723\n",
       "5. 0.332394674187526\n",
       "6. 0.65087046707049\n",
       "7. 0.258016780717298\n",
       "8. 0.478545248275623\n",
       "9. 0.766310670645908\n",
       "10. 0.0842469143681228\n",
       "\n",
       "\n",
       "\n",
       "\n",
       "\n"
      ],
      "text/plain": [
       "$a\n",
       "[1] 1 2 3 4\n",
       "\n",
       "$b\n",
       " [1]  1.262954285 -0.326233361  1.329799263  1.272429321  0.414641434\n",
       " [6] -1.539950042 -0.928567035 -0.294720447 -0.005767173  2.404653389\n",
       "\n",
       "$c\n",
       " [1]  1.7635935  0.2009908 -0.1476570  0.7105384  0.7007849  0.5884892\n",
       " [7]  1.2522234  0.1080789  1.4356833 -0.2375384  0.7757321  1.3773956\n",
       "[13]  1.1333364  1.8041895  0.9428932  1.5036080  2.0857694  0.3090462\n",
       "[19] -0.2845994  1.0467262\n",
       "\n",
       "$d\n",
       " [1] 0.40683019 0.91287592 0.29360337 0.45906573 0.33239467 0.65087047\n",
       " [7] 0.25801678 0.47854525 0.76631067 0.08424691\n"
      ]
     },
     "metadata": {},
     "output_type": "display_data"
    },
    {
     "data": {
      "text/html": [
       "<dl>\n",
       "\t<dt>$a</dt>\n",
       "\t\t<dd><ol class=list-inline>\n",
       "\t<li>1</li>\n",
       "\t<li>1.4142135623731</li>\n",
       "\t<li>1.73205080756888</li>\n",
       "\t<li>2</li>\n",
       "</ol>\n",
       "</dd>\n",
       "\t<dt>$b</dt>\n",
       "\t\t<dd><ol class=list-inline>\n",
       "\t<li>1.12381238864892</li>\n",
       "\t<li>0</li>\n",
       "\t<li>1.15316922562237</li>\n",
       "\t<li>1.1280200891072</li>\n",
       "\t<li>0.643926575361204</li>\n",
       "\t<li>0</li>\n",
       "\t<li>0</li>\n",
       "\t<li>0</li>\n",
       "\t<li>0</li>\n",
       "\t<li>1.55069448598296</li>\n",
       "</ol>\n",
       "</dd>\n",
       "\t<dt>$c</dt>\n",
       "\t\t<dd><ol class=list-inline>\n",
       "\t<li>1.3280035621716</li>\n",
       "\t<li>0.448319920381229</li>\n",
       "\t<li>0</li>\n",
       "\t<li>0.842934414003709</li>\n",
       "\t<li>0.837128951896112</li>\n",
       "\t<li>0.76713047599801</li>\n",
       "\t<li>1.11902790320712</li>\n",
       "\t<li>0.328753513616861</li>\n",
       "\t<li>1.1982000247687</li>\n",
       "\t<li>0</li>\n",
       "\t<li>0.880756558148556</li>\n",
       "\t<li>1.17362500228212</li>\n",
       "\t<li>1.06458271675565</li>\n",
       "\t<li>1.3432012171469</li>\n",
       "\t<li>0.97102689232389</li>\n",
       "\t<li>1.22621693522546</li>\n",
       "\t<li>1.44421929157095</li>\n",
       "\t<li>0.55591920303509</li>\n",
       "\t<li>0</li>\n",
       "\t<li>1.0230963650548</li>\n",
       "</ol>\n",
       "</dd>\n",
       "\t<dt>$d</dt>\n",
       "\t\t<dd><ol class=list-inline>\n",
       "\t<li>0.637832413090195</li>\n",
       "\t<li>0.955445406216087</li>\n",
       "\t<li>0.541851799628014</li>\n",
       "\t<li>0.677543892496806</li>\n",
       "\t<li>0.576536793437788</li>\n",
       "\t<li>0.806765434975055</li>\n",
       "\t<li>0.507953522201883</li>\n",
       "\t<li>0.691769649721367</li>\n",
       "\t<li>0.875391724113215</li>\n",
       "\t<li>0.290253190108434</li>\n",
       "</ol>\n",
       "</dd>\n",
       "</dl>\n"
      ],
      "text/latex": [
       "\\begin{description}\n",
       "\\item[\\$a] \\begin{enumerate*}\n",
       "\\item 1\n",
       "\\item 1.4142135623731\n",
       "\\item 1.73205080756888\n",
       "\\item 2\n",
       "\\end{enumerate*}\n",
       "\n",
       "\\item[\\$b] \\begin{enumerate*}\n",
       "\\item 1.12381238864892\n",
       "\\item 0\n",
       "\\item 1.15316922562237\n",
       "\\item 1.1280200891072\n",
       "\\item 0.643926575361204\n",
       "\\item 0\n",
       "\\item 0\n",
       "\\item 0\n",
       "\\item 0\n",
       "\\item 1.55069448598296\n",
       "\\end{enumerate*}\n",
       "\n",
       "\\item[\\$c] \\begin{enumerate*}\n",
       "\\item 1.3280035621716\n",
       "\\item 0.448319920381229\n",
       "\\item 0\n",
       "\\item 0.842934414003709\n",
       "\\item 0.837128951896112\n",
       "\\item 0.76713047599801\n",
       "\\item 1.11902790320712\n",
       "\\item 0.328753513616861\n",
       "\\item 1.1982000247687\n",
       "\\item 0\n",
       "\\item 0.880756558148556\n",
       "\\item 1.17362500228212\n",
       "\\item 1.06458271675565\n",
       "\\item 1.3432012171469\n",
       "\\item 0.97102689232389\n",
       "\\item 1.22621693522546\n",
       "\\item 1.44421929157095\n",
       "\\item 0.55591920303509\n",
       "\\item 0\n",
       "\\item 1.0230963650548\n",
       "\\end{enumerate*}\n",
       "\n",
       "\\item[\\$d] \\begin{enumerate*}\n",
       "\\item 0.637832413090195\n",
       "\\item 0.955445406216087\n",
       "\\item 0.541851799628014\n",
       "\\item 0.677543892496806\n",
       "\\item 0.576536793437788\n",
       "\\item 0.806765434975055\n",
       "\\item 0.507953522201883\n",
       "\\item 0.691769649721367\n",
       "\\item 0.875391724113215\n",
       "\\item 0.290253190108434\n",
       "\\end{enumerate*}\n",
       "\n",
       "\\end{description}\n"
      ],
      "text/markdown": [
       "$a\n",
       ":   1. 1\n",
       "2. 1.4142135623731\n",
       "3. 1.73205080756888\n",
       "4. 2\n",
       "\n",
       "\n",
       "\n",
       "$b\n",
       ":   1. 1.12381238864892\n",
       "2. 0\n",
       "3. 1.15316922562237\n",
       "4. 1.1280200891072\n",
       "5. 0.643926575361204\n",
       "6. 0\n",
       "7. 0\n",
       "8. 0\n",
       "9. 0\n",
       "10. 1.55069448598296\n",
       "\n",
       "\n",
       "\n",
       "$c\n",
       ":   1. 1.3280035621716\n",
       "2. 0.448319920381229\n",
       "3. 0\n",
       "4. 0.842934414003709\n",
       "5. 0.837128951896112\n",
       "6. 0.76713047599801\n",
       "7. 1.11902790320712\n",
       "8. 0.328753513616861\n",
       "9. 1.1982000247687\n",
       "10. 0\n",
       "11. 0.880756558148556\n",
       "12. 1.17362500228212\n",
       "13. 1.06458271675565\n",
       "14. 1.3432012171469\n",
       "15. 0.97102689232389\n",
       "16. 1.22621693522546\n",
       "17. 1.44421929157095\n",
       "18. 0.55591920303509\n",
       "19. 0\n",
       "20. 1.0230963650548\n",
       "\n",
       "\n",
       "\n",
       "$d\n",
       ":   1. 0.637832413090195\n",
       "2. 0.955445406216087\n",
       "3. 0.541851799628014\n",
       "4. 0.677543892496806\n",
       "5. 0.576536793437788\n",
       "6. 0.806765434975055\n",
       "7. 0.507953522201883\n",
       "8. 0.691769649721367\n",
       "9. 0.875391724113215\n",
       "10. 0.290253190108434\n",
       "\n",
       "\n",
       "\n",
       "\n",
       "\n"
      ],
      "text/plain": [
       "$a\n",
       "[1] 1.000000 1.414214 1.732051 2.000000\n",
       "\n",
       "$b\n",
       " [1] 1.1238124 0.0000000 1.1531692 1.1280201 0.6439266 0.0000000 0.0000000\n",
       " [8] 0.0000000 0.0000000 1.5506945\n",
       "\n",
       "$c\n",
       " [1] 1.3280036 0.4483199 0.0000000 0.8429344 0.8371290 0.7671305 1.1190279\n",
       " [8] 0.3287535 1.1982000 0.0000000 0.8807566 1.1736250 1.0645827 1.3432012\n",
       "[15] 0.9710269 1.2262169 1.4442193 0.5559192 0.0000000 1.0230964\n",
       "\n",
       "$d\n",
       " [1] 0.6378324 0.9554454 0.5418518 0.6775439 0.5765368 0.8067654 0.5079535\n",
       " [8] 0.6917696 0.8753917 0.2902532\n"
      ]
     },
     "metadata": {},
     "output_type": "display_data"
    }
   ],
   "source": [
    "set.seed(0)\n",
    "x=list(a=1:4, b=rnorm(10), c=rnorm(20, 1), d=runif(10)); x\n",
    "\n",
    "mysqrt = function(x){\n",
    "    sqrt(ifelse(x>=0, x, 0))\n",
    "}\n",
    "# z=lapply(x, mysqrt); z\n",
    "z=lapply(x, function(x){sqrt(ifelse(x>=0, x, 0))}); z"
   ]
  },
  {
   "cell_type": "code",
   "execution_count": 38,
   "metadata": {},
   "outputs": [
    {
     "data": {
      "text/html": [
       "<dl>\n",
       "\t<dt>$a</dt>\n",
       "\t\t<dd><table>\n",
       "<caption>A matrix: 2 × 2 of type int</caption>\n",
       "<tbody>\n",
       "\t<tr><td>1</td><td>3</td></tr>\n",
       "\t<tr><td>2</td><td>4</td></tr>\n",
       "</tbody>\n",
       "</table>\n",
       "</dd>\n",
       "\t<dt>$b</dt>\n",
       "\t\t<dd><table>\n",
       "<caption>A matrix: 3 × 2 of type int</caption>\n",
       "<tbody>\n",
       "\t<tr><td>1</td><td>4</td></tr>\n",
       "\t<tr><td>2</td><td>5</td></tr>\n",
       "\t<tr><td>3</td><td>6</td></tr>\n",
       "</tbody>\n",
       "</table>\n",
       "</dd>\n",
       "</dl>\n"
      ],
      "text/latex": [
       "\\begin{description}\n",
       "\\item[\\$a] A matrix: 2 × 2 of type int\n",
       "\\begin{tabular}{ll}\n",
       "\t 1 & 3\\\\\n",
       "\t 2 & 4\\\\\n",
       "\\end{tabular}\n",
       "\n",
       "\\item[\\$b] A matrix: 3 × 2 of type int\n",
       "\\begin{tabular}{ll}\n",
       "\t 1 & 4\\\\\n",
       "\t 2 & 5\\\\\n",
       "\t 3 & 6\\\\\n",
       "\\end{tabular}\n",
       "\n",
       "\\end{description}\n"
      ],
      "text/markdown": [
       "$a\n",
       ":   \n",
       "A matrix: 2 × 2 of type int\n",
       "\n",
       "| 1 | 3 |\n",
       "| 2 | 4 |\n",
       "\n",
       "\n",
       "$b\n",
       ":   \n",
       "A matrix: 3 × 2 of type int\n",
       "\n",
       "| 1 | 4 |\n",
       "| 2 | 5 |\n",
       "| 3 | 6 |\n",
       "\n",
       "\n",
       "\n",
       "\n"
      ],
      "text/plain": [
       "$a\n",
       "     [,1] [,2]\n",
       "[1,]    1    3\n",
       "[2,]    2    4\n",
       "\n",
       "$b\n",
       "     [,1] [,2]\n",
       "[1,]    1    4\n",
       "[2,]    2    5\n",
       "[3,]    3    6\n"
      ]
     },
     "metadata": {},
     "output_type": "display_data"
    },
    {
     "name": "stdout",
     "output_type": "stream",
     "text": [
      "$a\n",
      "[1] 1 2\n",
      "\n",
      "$b\n",
      "[1] 1 2 3\n",
      "\n",
      "[1] 1 2 3\n",
      "[1] 1 2 3\n"
     ]
    }
   ],
   "source": [
    "x=list(a = matrix(1:4, 2, 2), b = matrix(1:6, 3, 2)); x\n",
    "y=lapply(x, function(elt) { elt[,1] }) # first column\n",
    "print(y)\n",
    "print(y[[2]])\n",
    "print(y$b)"
   ]
  },
  {
   "cell_type": "code",
   "execution_count": 39,
   "metadata": {},
   "outputs": [
    {
     "data": {
      "text/html": [
       "<dl>\n",
       "\t<dt>$a</dt>\n",
       "\t\t<dd><ol class=list-inline>\n",
       "\t<li>1</li>\n",
       "\t<li>2</li>\n",
       "\t<li>3</li>\n",
       "\t<li>4</li>\n",
       "\t<li>5</li>\n",
       "\t<li>6</li>\n",
       "\t<li>7</li>\n",
       "\t<li>8</li>\n",
       "\t<li>9</li>\n",
       "\t<li>10</li>\n",
       "</ol>\n",
       "</dd>\n",
       "\t<dt>$b</dt>\n",
       "\t\t<dd><ol class=list-inline>\n",
       "\t<li>15.759558770436</li>\n",
       "\t<li>14.960801827229</li>\n",
       "\t<li>7.85243445254059</li>\n",
       "\t<li>16.1915205042669</li>\n",
       "\t<li>8.60326859072865</li>\n",
       "\t<li>18.7895154490535</li>\n",
       "</ol>\n",
       "</dd>\n",
       "\t<dt>$c</dt>\n",
       "\t\t<dd><ol class=list-inline>\n",
       "\t<li>TRUE</li>\n",
       "\t<li>FALSE</li>\n",
       "\t<li>FALSE</li>\n",
       "\t<li>TRUE</li>\n",
       "</ol>\n",
       "</dd>\n",
       "</dl>\n"
      ],
      "text/latex": [
       "\\begin{description}\n",
       "\\item[\\$a] \\begin{enumerate*}\n",
       "\\item 1\n",
       "\\item 2\n",
       "\\item 3\n",
       "\\item 4\n",
       "\\item 5\n",
       "\\item 6\n",
       "\\item 7\n",
       "\\item 8\n",
       "\\item 9\n",
       "\\item 10\n",
       "\\end{enumerate*}\n",
       "\n",
       "\\item[\\$b] \\begin{enumerate*}\n",
       "\\item 15.759558770436\n",
       "\\item 14.960801827229\n",
       "\\item 7.85243445254059\n",
       "\\item 16.1915205042669\n",
       "\\item 8.60326859072865\n",
       "\\item 18.7895154490535\n",
       "\\end{enumerate*}\n",
       "\n",
       "\\item[\\$c] \\begin{enumerate*}\n",
       "\\item TRUE\n",
       "\\item FALSE\n",
       "\\item FALSE\n",
       "\\item TRUE\n",
       "\\end{enumerate*}\n",
       "\n",
       "\\end{description}\n"
      ],
      "text/markdown": [
       "$a\n",
       ":   1. 1\n",
       "2. 2\n",
       "3. 3\n",
       "4. 4\n",
       "5. 5\n",
       "6. 6\n",
       "7. 7\n",
       "8. 8\n",
       "9. 9\n",
       "10. 10\n",
       "\n",
       "\n",
       "\n",
       "$b\n",
       ":   1. 15.759558770436\n",
       "2. 14.960801827229\n",
       "3. 7.85243445254059\n",
       "4. 16.1915205042669\n",
       "5. 8.60326859072865\n",
       "6. 18.7895154490535\n",
       "\n",
       "\n",
       "\n",
       "$c\n",
       ":   1. TRUE\n",
       "2. FALSE\n",
       "3. FALSE\n",
       "4. TRUE\n",
       "\n",
       "\n",
       "\n",
       "\n",
       "\n"
      ],
      "text/plain": [
       "$a\n",
       " [1]  1  2  3  4  5  6  7  8  9 10\n",
       "\n",
       "$b\n",
       "[1] 15.759559 14.960802  7.852434 16.191521  8.603269 18.789515\n",
       "\n",
       "$c\n",
       "[1]  TRUE FALSE FALSE  TRUE\n"
      ]
     },
     "metadata": {},
     "output_type": "display_data"
    },
    {
     "data": {
      "text/html": [
       "<dl>\n",
       "\t<dt>$a</dt>\n",
       "\t\t<dd><ol class=list-inline>\n",
       "\t<li>1</li>\n",
       "\t<li>3</li>\n",
       "\t<li>5.5</li>\n",
       "\t<li>8</li>\n",
       "\t<li>10</li>\n",
       "</ol>\n",
       "</dd>\n",
       "\t<dt>$b</dt>\n",
       "\t\t<dd><ol class=list-inline>\n",
       "\t<li>7.85243445254059</li>\n",
       "\t<li>8.60326859072865</li>\n",
       "\t<li>15.3601802988325</li>\n",
       "\t<li>16.1915205042669</li>\n",
       "\t<li>18.7895154490535</li>\n",
       "</ol>\n",
       "</dd>\n",
       "\t<dt>$c</dt>\n",
       "\t\t<dd><ol class=list-inline>\n",
       "\t<li>0</li>\n",
       "\t<li>0</li>\n",
       "\t<li>0.5</li>\n",
       "\t<li>1</li>\n",
       "\t<li>1</li>\n",
       "</ol>\n",
       "</dd>\n",
       "</dl>\n"
      ],
      "text/latex": [
       "\\begin{description}\n",
       "\\item[\\$a] \\begin{enumerate*}\n",
       "\\item 1\n",
       "\\item 3\n",
       "\\item 5.5\n",
       "\\item 8\n",
       "\\item 10\n",
       "\\end{enumerate*}\n",
       "\n",
       "\\item[\\$b] \\begin{enumerate*}\n",
       "\\item 7.85243445254059\n",
       "\\item 8.60326859072865\n",
       "\\item 15.3601802988325\n",
       "\\item 16.1915205042669\n",
       "\\item 18.7895154490535\n",
       "\\end{enumerate*}\n",
       "\n",
       "\\item[\\$c] \\begin{enumerate*}\n",
       "\\item 0\n",
       "\\item 0\n",
       "\\item 0.5\n",
       "\\item 1\n",
       "\\item 1\n",
       "\\end{enumerate*}\n",
       "\n",
       "\\end{description}\n"
      ],
      "text/markdown": [
       "$a\n",
       ":   1. 1\n",
       "2. 3\n",
       "3. 5.5\n",
       "4. 8\n",
       "5. 10\n",
       "\n",
       "\n",
       "\n",
       "$b\n",
       ":   1. 7.85243445254059\n",
       "2. 8.60326859072865\n",
       "3. 15.3601802988325\n",
       "4. 16.1915205042669\n",
       "5. 18.7895154490535\n",
       "\n",
       "\n",
       "\n",
       "$c\n",
       ":   1. 0\n",
       "2. 0\n",
       "3. 0.5\n",
       "4. 1\n",
       "5. 1\n",
       "\n",
       "\n",
       "\n",
       "\n",
       "\n"
      ],
      "text/plain": [
       "$a\n",
       "[1]  1.0  3.0  5.5  8.0 10.0\n",
       "\n",
       "$b\n",
       "[1]  7.852434  8.603269 15.360180 16.191521 18.789515\n",
       "\n",
       "$c\n",
       "[1] 0.0 0.0 0.5 1.0 1.0\n"
      ]
     },
     "metadata": {},
     "output_type": "display_data"
    }
   ],
   "source": [
    "x = list(a = 1:10, b = rnorm(6,10,5), c = c(TRUE,FALSE,FALSE,TRUE));x\n",
    "lapply(x,fivenum) #five sample percentiles for each element vector"
   ]
  },
  {
   "cell_type": "code",
   "execution_count": 40,
   "metadata": {
    "scrolled": true
   },
   "outputs": [
    {
     "data": {
      "text/html": [
       "'list'"
      ],
      "text/latex": [
       "'list'"
      ],
      "text/markdown": [
       "'list'"
      ],
      "text/plain": [
       "[1] \"list\""
      ]
     },
     "metadata": {},
     "output_type": "display_data"
    },
    {
     "name": "stdout",
     "output_type": "stream",
     "text": [
      "[[1]]\n",
      "[1] 1\n",
      "\n",
      "[[2]]\n",
      "[1] 1 2\n",
      "\n",
      "[[3]]\n",
      "[1] 1 2 3\n",
      "\n",
      "[[4]]\n",
      "[1] 1 2 3 4\n",
      "\n",
      "[[5]]\n",
      "[1] 1 2 3 4 5\n",
      "\n"
     ]
    }
   ],
   "source": [
    "l=lapply(1:5, seq_len) #return list\n",
    "class(l)\n",
    "print(l)"
   ]
  },
  {
   "cell_type": "code",
   "execution_count": 41,
   "metadata": {
    "scrolled": false
   },
   "outputs": [
    {
     "data": {
      "text/html": [
       "<table>\n",
       "<caption>A matrix: 4 × 2 of type dbl</caption>\n",
       "<thead>\n",
       "\t<tr><th scope=col>x1</th><th scope=col>x2</th></tr>\n",
       "</thead>\n",
       "<tbody>\n",
       "\t<tr><td>3</td><td>2</td></tr>\n",
       "\t<tr><td>3</td><td>1</td></tr>\n",
       "\t<tr><td>3</td><td>4</td></tr>\n",
       "\t<tr><td>3</td><td>5</td></tr>\n",
       "</tbody>\n",
       "</table>\n"
      ],
      "text/latex": [
       "A matrix: 4 × 2 of type dbl\n",
       "\\begin{tabular}{ll}\n",
       " x1 & x2\\\\\n",
       "\\hline\n",
       "\t 3 & 2\\\\\n",
       "\t 3 & 1\\\\\n",
       "\t 3 & 4\\\\\n",
       "\t 3 & 5\\\\\n",
       "\\end{tabular}\n"
      ],
      "text/markdown": [
       "\n",
       "A matrix: 4 × 2 of type dbl\n",
       "\n",
       "| x1 | x2 |\n",
       "|---|---|\n",
       "| 3 | 2 |\n",
       "| 3 | 1 |\n",
       "| 3 | 4 |\n",
       "| 3 | 5 |\n",
       "\n"
      ],
      "text/plain": [
       "     x1 x2\n",
       "[1,] 3  2 \n",
       "[2,] 3  1 \n",
       "[3,] 3  4 \n",
       "[4,] 3  5 "
      ]
     },
     "metadata": {},
     "output_type": "display_data"
    },
    {
     "data": {
      "text/html": [
       "'matrix'"
      ],
      "text/latex": [
       "'matrix'"
      ],
      "text/markdown": [
       "'matrix'"
      ],
      "text/plain": [
       "[1] \"matrix\""
      ]
     },
     "metadata": {},
     "output_type": "display_data"
    },
    {
     "data": {
      "text/html": [
       "'double'"
      ],
      "text/latex": [
       "'double'"
      ],
      "text/markdown": [
       "'double'"
      ],
      "text/plain": [
       "[1] \"double\""
      ]
     },
     "metadata": {},
     "output_type": "display_data"
    },
    {
     "name": "stdout",
     "output_type": "stream",
     "text": [
      "[[1]]\n",
      "[1] 3\n",
      "\n",
      "[[2]]\n",
      "[1] 3\n",
      "\n",
      "[[3]]\n",
      "[1] 3\n",
      "\n",
      "[[4]]\n",
      "[1] 3\n",
      "\n",
      "[[5]]\n",
      "[1] 2\n",
      "\n",
      "[[6]]\n",
      "[1] 1\n",
      "\n",
      "[[7]]\n",
      "[1] 4\n",
      "\n",
      "[[8]]\n",
      "[1] 5\n",
      "\n",
      "[1] 3\n",
      "[1] 3\n",
      "[1] 3\n",
      "[1] 3\n",
      "[1] 2\n",
      "[1] 1\n",
      "[1] 4\n",
      "[1] 5\n"
     ]
    },
    {
     "data": {
      "text/html": [
       "8"
      ],
      "text/latex": [
       "8"
      ],
      "text/markdown": [
       "8"
      ],
      "text/plain": [
       "[1] 8"
      ]
     },
     "metadata": {},
     "output_type": "display_data"
    }
   ],
   "source": [
    "x=cbind(x1=3, x2=c(2:1, 4:5));x\n",
    "class(x)\n",
    "typeof(x)\n",
    "y=lapply(x, sum) #convert x to a list then run sum on each element\n",
    "print(y)\n",
    "for (i in x) print(i)  #matrix internally is a vector\n",
    "length(x)"
   ]
  },
  {
   "cell_type": "code",
   "execution_count": 70,
   "metadata": {
    "scrolled": false
   },
   "outputs": [
    {
     "data": {
      "text/html": [
       "<dl>\n",
       "\t<dt>$a</dt>\n",
       "\t\t<dd><ol class=list-inline>\n",
       "\t<li>1</li>\n",
       "\t<li>2</li>\n",
       "\t<li>3</li>\n",
       "\t<li>4</li>\n",
       "</ol>\n",
       "</dd>\n",
       "\t<dt>$b</dt>\n",
       "\t\t<dd><ol class=list-inline>\n",
       "\t<li>0.358728895971352</li>\n",
       "\t<li>-0.0110454784656636</li>\n",
       "\t<li>-0.940649162618608</li>\n",
       "\t<li>-0.115825322156954</li>\n",
       "\t<li>-0.814968708869917</li>\n",
       "\t<li>0.242263480859686</li>\n",
       "\t<li>-1.4250983947325</li>\n",
       "\t<li>0.36594112304922</li>\n",
       "\t<li>0.248412648872596</li>\n",
       "\t<li>0.0652881816716207</li>\n",
       "</ol>\n",
       "</dd>\n",
       "\t<dt>$c</dt>\n",
       "\t\t<dd><ol class=list-inline>\n",
       "\t<li>1.01915639166027</li>\n",
       "\t<li>1.25733837715553</li>\n",
       "\t<li>0.350989922291102</li>\n",
       "\t<li>0.880831237581962</li>\n",
       "\t<li>1.66413569989411</li>\n",
       "</ol>\n",
       "</dd>\n",
       "\t<dt>$d</dt>\n",
       "\t\t<dd><ol class=list-inline>\n",
       "\t<li>6.10096910219409</li>\n",
       "\t<li>5.14377148075807</li>\n",
       "\t<li>4.88224640183405</li>\n",
       "\t<li>4.08793163305166</li>\n",
       "\t<li>3.56241375917002</li>\n",
       "\t<li>4.20291047492804</li>\n",
       "\t<li>6.25408310644997</li>\n",
       "\t<li>5.77214218580453</li>\n",
       "\t<li>4.78048437324656</li>\n",
       "\t<li>4.57518971662271</li>\n",
       "</ol>\n",
       "</dd>\n",
       "</dl>\n"
      ],
      "text/latex": [
       "\\begin{description}\n",
       "\\item[\\$a] \\begin{enumerate*}\n",
       "\\item 1\n",
       "\\item 2\n",
       "\\item 3\n",
       "\\item 4\n",
       "\\end{enumerate*}\n",
       "\n",
       "\\item[\\$b] \\begin{enumerate*}\n",
       "\\item 0.358728895971352\n",
       "\\item -0.0110454784656636\n",
       "\\item -0.940649162618608\n",
       "\\item -0.115825322156954\n",
       "\\item -0.814968708869917\n",
       "\\item 0.242263480859686\n",
       "\\item -1.4250983947325\n",
       "\\item 0.36594112304922\n",
       "\\item 0.248412648872596\n",
       "\\item 0.0652881816716207\n",
       "\\end{enumerate*}\n",
       "\n",
       "\\item[\\$c] \\begin{enumerate*}\n",
       "\\item 1.01915639166027\n",
       "\\item 1.25733837715553\n",
       "\\item 0.350989922291102\n",
       "\\item 0.880831237581962\n",
       "\\item 1.66413569989411\n",
       "\\end{enumerate*}\n",
       "\n",
       "\\item[\\$d] \\begin{enumerate*}\n",
       "\\item 6.10096910219409\n",
       "\\item 5.14377148075807\n",
       "\\item 4.88224640183405\n",
       "\\item 4.08793163305166\n",
       "\\item 3.56241375917002\n",
       "\\item 4.20291047492804\n",
       "\\item 6.25408310644997\n",
       "\\item 5.77214218580453\n",
       "\\item 4.78048437324656\n",
       "\\item 4.57518971662271\n",
       "\\end{enumerate*}\n",
       "\n",
       "\\end{description}\n"
      ],
      "text/markdown": [
       "$a\n",
       ":   1. 1\n",
       "2. 2\n",
       "3. 3\n",
       "4. 4\n",
       "\n",
       "\n",
       "\n",
       "$b\n",
       ":   1. 0.358728895971352\n",
       "2. -0.0110454784656636\n",
       "3. -0.940649162618608\n",
       "4. -0.115825322156954\n",
       "5. -0.814968708869917\n",
       "6. 0.242263480859686\n",
       "7. -1.4250983947325\n",
       "8. 0.36594112304922\n",
       "9. 0.248412648872596\n",
       "10. 0.0652881816716207\n",
       "\n",
       "\n",
       "\n",
       "$c\n",
       ":   1. 1.01915639166027\n",
       "2. 1.25733837715553\n",
       "3. 0.350989922291102\n",
       "4. 0.880831237581962\n",
       "5. 1.66413569989411\n",
       "\n",
       "\n",
       "\n",
       "$d\n",
       ":   1. 6.10096910219409\n",
       "2. 5.14377148075807\n",
       "3. 4.88224640183405\n",
       "4. 4.08793163305166\n",
       "5. 3.56241375917002\n",
       "6. 4.20291047492804\n",
       "7. 6.25408310644997\n",
       "8. 5.77214218580453\n",
       "9. 4.78048437324656\n",
       "10. 4.57518971662271\n",
       "\n",
       "\n",
       "\n",
       "\n",
       "\n"
      ],
      "text/plain": [
       "$a\n",
       "[1] 1 2 3 4\n",
       "\n",
       "$b\n",
       " [1]  0.35872890 -0.01104548 -0.94064916 -0.11582532 -0.81496871  0.24226348\n",
       " [7] -1.42509839  0.36594112  0.24841265  0.06528818\n",
       "\n",
       "$c\n",
       "[1] 1.0191564 1.2573384 0.3509899 0.8808312 1.6641357\n",
       "\n",
       "$d\n",
       " [1] 6.100969 5.143771 4.882246 4.087932 3.562414 4.202910 6.254083 5.772142\n",
       " [9] 4.780484 4.575190\n"
      ]
     },
     "metadata": {},
     "output_type": "display_data"
    },
    {
     "name": "stdout",
     "output_type": "stream",
     "text": [
      "[1] \"========lapply======\"\n",
      "$a\n",
      "[1] 2.5\n",
      "\n",
      "$b\n",
      "[1] -0.2026953\n",
      "\n",
      "$c\n",
      "[1] 1.03449\n",
      "\n",
      "$d\n",
      "[1] 4.936214\n",
      "\n",
      "[1] \"========sapply======\"\n",
      "         a          b          c          d \n",
      " 2.5000000 -0.2026953  1.0344903  4.9362142 \n"
     ]
    },
    {
     "data": {
      "text/html": [
       "'list'"
      ],
      "text/latex": [
       "'list'"
      ],
      "text/markdown": [
       "'list'"
      ],
      "text/plain": [
       "[1] \"list\""
      ]
     },
     "metadata": {},
     "output_type": "display_data"
    },
    {
     "data": {
      "text/html": [
       "-0.202695273641917"
      ],
      "text/latex": [
       "-0.202695273641917"
      ],
      "text/markdown": [
       "-0.202695273641917"
      ],
      "text/plain": [
       "[1] -0.2026953"
      ]
     },
     "metadata": {},
     "output_type": "display_data"
    },
    {
     "data": {
      "text/html": [
       "'numeric'"
      ],
      "text/latex": [
       "'numeric'"
      ],
      "text/markdown": [
       "'numeric'"
      ],
      "text/plain": [
       "[1] \"numeric\""
      ]
     },
     "metadata": {},
     "output_type": "display_data"
    },
    {
     "data": {
      "text/html": [
       "<strong>b:</strong> -0.202695273641917"
      ],
      "text/latex": [
       "\\textbf{b:} -0.202695273641917"
      ],
      "text/markdown": [
       "**b:** -0.202695273641917"
      ],
      "text/plain": [
       "         b \n",
       "-0.2026953 "
      ]
     },
     "metadata": {},
     "output_type": "display_data"
    }
   ],
   "source": [
    "x=list(a=1:4, b=rnorm(10), c=rnorm(5, 1), d=rnorm(10, 5));x\n",
    "print(\"========lapply======\")\n",
    "l=lapply(x, mean);print(l) #list\n",
    "print(\"========sapply======\")\n",
    "s=sapply(x, mean);print(s) #vector\n",
    "# print(l)\n",
    "class(l)\n",
    "l[[2]]  #access element of list\n",
    "\n",
    "# print(s)\n",
    "class(s)\n",
    "s[2]"
   ]
  },
  {
   "cell_type": "code",
   "execution_count": 43,
   "metadata": {
    "scrolled": false
   },
   "outputs": [
    {
     "data": {
      "text/html": [
       "<dl>\n",
       "\t<dt>$a</dt>\n",
       "\t\t<dd><ol class=list-inline>\n",
       "\t<li>1</li>\n",
       "\t<li>2</li>\n",
       "\t<li>3</li>\n",
       "\t<li>4</li>\n",
       "</ol>\n",
       "</dd>\n",
       "\t<dt>$b</dt>\n",
       "\t\t<dd><ol class=list-inline>\n",
       "\t<li>-1.4250983947325</li>\n",
       "\t<li>0.36594112304922</li>\n",
       "\t<li>0.248412648872596</li>\n",
       "\t<li>0.0652881816716207</li>\n",
       "\t<li>0.0191563916602738</li>\n",
       "\t<li>0.257338377155533</li>\n",
       "\t<li>-0.649010077708898</li>\n",
       "\t<li>-0.119168762418038</li>\n",
       "\t<li>0.66413569989411</li>\n",
       "\t<li>1.10096910219409</li>\n",
       "</ol>\n",
       "</dd>\n",
       "\t<dt>$c</dt>\n",
       "\t\t<dd><ol class=list-inline>\n",
       "\t<li>1.14377148075807</li>\n",
       "\t<li>0.882246401834049</li>\n",
       "\t<li>0.0879316330516621</li>\n",
       "\t<li>-0.437586240829979</li>\n",
       "\t<li>0.202910474928035</li>\n",
       "</ol>\n",
       "</dd>\n",
       "\t<dt>$d</dt>\n",
       "\t\t<dd><ol class=list-inline>\n",
       "\t<li>6.25408310644997</li>\n",
       "\t<li>5.77214218580453</li>\n",
       "\t<li>4.78048437324656</li>\n",
       "\t<li>4.57518971662271</li>\n",
       "\t<li>4.58101990057804</li>\n",
       "\t<li>5.99698686090911</li>\n",
       "\t<li>4.72422197091197</li>\n",
       "\t<li>6.2560188173061</li>\n",
       "\t<li>5.64667439049535</li>\n",
       "\t<li>6.29931230256343</li>\n",
       "</ol>\n",
       "</dd>\n",
       "</dl>\n"
      ],
      "text/latex": [
       "\\begin{description}\n",
       "\\item[\\$a] \\begin{enumerate*}\n",
       "\\item 1\n",
       "\\item 2\n",
       "\\item 3\n",
       "\\item 4\n",
       "\\end{enumerate*}\n",
       "\n",
       "\\item[\\$b] \\begin{enumerate*}\n",
       "\\item -1.4250983947325\n",
       "\\item 0.36594112304922\n",
       "\\item 0.248412648872596\n",
       "\\item 0.0652881816716207\n",
       "\\item 0.0191563916602738\n",
       "\\item 0.257338377155533\n",
       "\\item -0.649010077708898\n",
       "\\item -0.119168762418038\n",
       "\\item 0.66413569989411\n",
       "\\item 1.10096910219409\n",
       "\\end{enumerate*}\n",
       "\n",
       "\\item[\\$c] \\begin{enumerate*}\n",
       "\\item 1.14377148075807\n",
       "\\item 0.882246401834049\n",
       "\\item 0.0879316330516621\n",
       "\\item -0.437586240829979\n",
       "\\item 0.202910474928035\n",
       "\\end{enumerate*}\n",
       "\n",
       "\\item[\\$d] \\begin{enumerate*}\n",
       "\\item 6.25408310644997\n",
       "\\item 5.77214218580453\n",
       "\\item 4.78048437324656\n",
       "\\item 4.57518971662271\n",
       "\\item 4.58101990057804\n",
       "\\item 5.99698686090911\n",
       "\\item 4.72422197091197\n",
       "\\item 6.2560188173061\n",
       "\\item 5.64667439049535\n",
       "\\item 6.29931230256343\n",
       "\\end{enumerate*}\n",
       "\n",
       "\\end{description}\n"
      ],
      "text/markdown": [
       "$a\n",
       ":   1. 1\n",
       "2. 2\n",
       "3. 3\n",
       "4. 4\n",
       "\n",
       "\n",
       "\n",
       "$b\n",
       ":   1. -1.4250983947325\n",
       "2. 0.36594112304922\n",
       "3. 0.248412648872596\n",
       "4. 0.0652881816716207\n",
       "5. 0.0191563916602738\n",
       "6. 0.257338377155533\n",
       "7. -0.649010077708898\n",
       "8. -0.119168762418038\n",
       "9. 0.66413569989411\n",
       "10. 1.10096910219409\n",
       "\n",
       "\n",
       "\n",
       "$c\n",
       ":   1. 1.14377148075807\n",
       "2. 0.882246401834049\n",
       "3. 0.0879316330516621\n",
       "4. -0.437586240829979\n",
       "5. 0.202910474928035\n",
       "\n",
       "\n",
       "\n",
       "$d\n",
       ":   1. 6.25408310644997\n",
       "2. 5.77214218580453\n",
       "3. 4.78048437324656\n",
       "4. 4.57518971662271\n",
       "5. 4.58101990057804\n",
       "6. 5.99698686090911\n",
       "7. 4.72422197091197\n",
       "8. 6.2560188173061\n",
       "9. 5.64667439049535\n",
       "10. 6.29931230256343\n",
       "\n",
       "\n",
       "\n",
       "\n",
       "\n"
      ],
      "text/plain": [
       "$a\n",
       "[1] 1 2 3 4\n",
       "\n",
       "$b\n",
       " [1] -1.42509839  0.36594112  0.24841265  0.06528818  0.01915639  0.25733838\n",
       " [7] -0.64901008 -0.11916876  0.66413570  1.10096910\n",
       "\n",
       "$c\n",
       "[1]  1.14377148  0.88224640  0.08793163 -0.43758624  0.20291047\n",
       "\n",
       "$d\n",
       " [1] 6.254083 5.772142 4.780484 4.575190 4.581020 5.996987 4.724222 6.256019\n",
       " [9] 5.646674 6.299312\n"
      ]
     },
     "metadata": {},
     "output_type": "display_data"
    },
    {
     "data": {
      "text/html": [
       "<dl>\n",
       "\t<dt>$a</dt>\n",
       "\t\t<dd><ol class=list-inline>\n",
       "\t<li>1</li>\n",
       "\t<li>4</li>\n",
       "\t<li>9</li>\n",
       "\t<li>16</li>\n",
       "</ol>\n",
       "</dd>\n",
       "\t<dt>$b</dt>\n",
       "\t\t<dd><ol class=list-inline>\n",
       "\t<li>2.03090543466915</li>\n",
       "\t<li>0.133912905538524</li>\n",
       "\t<li>0.0617088441198999</li>\n",
       "\t<li>0.00426254666598655</li>\n",
       "\t<li>0.000366967341441809</li>\n",
       "\t<li>0.0662230403570435</li>\n",
       "\t<li>0.42121408096771</li>\n",
       "\t<li>0.0142011939362468</li>\n",
       "\t<li>0.44107622787384</li>\n",
       "\t<li>1.21213296398605</li>\n",
       "</ol>\n",
       "</dd>\n",
       "\t<dt>$c</dt>\n",
       "\t\t<dd><ol class=list-inline>\n",
       "\t<li>1.30821320019551</li>\n",
       "\t<li>0.778358713549126</li>\n",
       "\t<li>0.00773197209113215</li>\n",
       "\t<li>0.191481718163712</li>\n",
       "\t<li>0.0411726608355209</li>\n",
       "</ol>\n",
       "</dd>\n",
       "\t<dt>$d</dt>\n",
       "\t\t<dd><ol class=list-inline>\n",
       "\t<li>39.1135555023829</li>\n",
       "\t<li>33.3176254131443</li>\n",
       "\t<li>22.8530308428546</li>\n",
       "\t<li>20.9323609430902</li>\n",
       "\t<li>20.985743329492</li>\n",
       "\t<li>35.9638514099164</li>\n",
       "\t<li>22.3182732304474</li>\n",
       "\t<li>39.137771442488</li>\n",
       "\t<li>31.884931672276</li>\n",
       "\t<li>39.681335485227</li>\n",
       "</ol>\n",
       "</dd>\n",
       "</dl>\n"
      ],
      "text/latex": [
       "\\begin{description}\n",
       "\\item[\\$a] \\begin{enumerate*}\n",
       "\\item 1\n",
       "\\item 4\n",
       "\\item 9\n",
       "\\item 16\n",
       "\\end{enumerate*}\n",
       "\n",
       "\\item[\\$b] \\begin{enumerate*}\n",
       "\\item 2.03090543466915\n",
       "\\item 0.133912905538524\n",
       "\\item 0.0617088441198999\n",
       "\\item 0.00426254666598655\n",
       "\\item 0.000366967341441809\n",
       "\\item 0.0662230403570435\n",
       "\\item 0.42121408096771\n",
       "\\item 0.0142011939362468\n",
       "\\item 0.44107622787384\n",
       "\\item 1.21213296398605\n",
       "\\end{enumerate*}\n",
       "\n",
       "\\item[\\$c] \\begin{enumerate*}\n",
       "\\item 1.30821320019551\n",
       "\\item 0.778358713549126\n",
       "\\item 0.00773197209113215\n",
       "\\item 0.191481718163712\n",
       "\\item 0.0411726608355209\n",
       "\\end{enumerate*}\n",
       "\n",
       "\\item[\\$d] \\begin{enumerate*}\n",
       "\\item 39.1135555023829\n",
       "\\item 33.3176254131443\n",
       "\\item 22.8530308428546\n",
       "\\item 20.9323609430902\n",
       "\\item 20.985743329492\n",
       "\\item 35.9638514099164\n",
       "\\item 22.3182732304474\n",
       "\\item 39.137771442488\n",
       "\\item 31.884931672276\n",
       "\\item 39.681335485227\n",
       "\\end{enumerate*}\n",
       "\n",
       "\\end{description}\n"
      ],
      "text/markdown": [
       "$a\n",
       ":   1. 1\n",
       "2. 4\n",
       "3. 9\n",
       "4. 16\n",
       "\n",
       "\n",
       "\n",
       "$b\n",
       ":   1. 2.03090543466915\n",
       "2. 0.133912905538524\n",
       "3. 0.0617088441198999\n",
       "4. 0.00426254666598655\n",
       "5. 0.000366967341441809\n",
       "6. 0.0662230403570435\n",
       "7. 0.42121408096771\n",
       "8. 0.0142011939362468\n",
       "9. 0.44107622787384\n",
       "10. 1.21213296398605\n",
       "\n",
       "\n",
       "\n",
       "$c\n",
       ":   1. 1.30821320019551\n",
       "2. 0.778358713549126\n",
       "3. 0.00773197209113215\n",
       "4. 0.191481718163712\n",
       "5. 0.0411726608355209\n",
       "\n",
       "\n",
       "\n",
       "$d\n",
       ":   1. 39.1135555023829\n",
       "2. 33.3176254131443\n",
       "3. 22.8530308428546\n",
       "4. 20.9323609430902\n",
       "5. 20.985743329492\n",
       "6. 35.9638514099164\n",
       "7. 22.3182732304474\n",
       "8. 39.137771442488\n",
       "9. 31.884931672276\n",
       "10. 39.681335485227\n",
       "\n",
       "\n",
       "\n",
       "\n",
       "\n"
      ],
      "text/plain": [
       "$a\n",
       "[1]  1  4  9 16\n",
       "\n",
       "$b\n",
       " [1] 2.0309054347 0.1339129055 0.0617088441 0.0042625467 0.0003669673\n",
       " [6] 0.0662230404 0.4212140810 0.0142011939 0.4410762279 1.2121329640\n",
       "\n",
       "$c\n",
       "[1] 1.308213200 0.778358714 0.007731972 0.191481718 0.041172661\n",
       "\n",
       "$d\n",
       " [1] 39.11356 33.31763 22.85303 20.93236 20.98574 35.96385 22.31827 39.13777\n",
       " [9] 31.88493 39.68134\n"
      ]
     },
     "metadata": {},
     "output_type": "display_data"
    },
    {
     "data": {
      "text/html": [
       "'list'"
      ],
      "text/latex": [
       "'list'"
      ],
      "text/markdown": [
       "'list'"
      ],
      "text/plain": [
       "[1] \"list\""
      ]
     },
     "metadata": {},
     "output_type": "display_data"
    },
    {
     "data": {
      "text/html": [
       "<dl>\n",
       "\t<dt>$a</dt>\n",
       "\t\t<dd><ol class=list-inline>\n",
       "\t<li>1</li>\n",
       "\t<li>4</li>\n",
       "\t<li>9</li>\n",
       "\t<li>16</li>\n",
       "</ol>\n",
       "</dd>\n",
       "\t<dt>$b</dt>\n",
       "\t\t<dd><ol class=list-inline>\n",
       "\t<li>2.03090543466915</li>\n",
       "\t<li>0.133912905538524</li>\n",
       "\t<li>0.0617088441198999</li>\n",
       "\t<li>0.00426254666598655</li>\n",
       "\t<li>0.000366967341441809</li>\n",
       "\t<li>0.0662230403570435</li>\n",
       "\t<li>0.42121408096771</li>\n",
       "\t<li>0.0142011939362468</li>\n",
       "\t<li>0.44107622787384</li>\n",
       "\t<li>1.21213296398605</li>\n",
       "</ol>\n",
       "</dd>\n",
       "\t<dt>$c</dt>\n",
       "\t\t<dd><ol class=list-inline>\n",
       "\t<li>1.30821320019551</li>\n",
       "\t<li>0.778358713549126</li>\n",
       "\t<li>0.00773197209113215</li>\n",
       "\t<li>0.191481718163712</li>\n",
       "\t<li>0.0411726608355209</li>\n",
       "</ol>\n",
       "</dd>\n",
       "\t<dt>$d</dt>\n",
       "\t\t<dd><ol class=list-inline>\n",
       "\t<li>39.1135555023829</li>\n",
       "\t<li>33.3176254131443</li>\n",
       "\t<li>22.8530308428546</li>\n",
       "\t<li>20.9323609430902</li>\n",
       "\t<li>20.985743329492</li>\n",
       "\t<li>35.9638514099164</li>\n",
       "\t<li>22.3182732304474</li>\n",
       "\t<li>39.137771442488</li>\n",
       "\t<li>31.884931672276</li>\n",
       "\t<li>39.681335485227</li>\n",
       "</ol>\n",
       "</dd>\n",
       "</dl>\n"
      ],
      "text/latex": [
       "\\begin{description}\n",
       "\\item[\\$a] \\begin{enumerate*}\n",
       "\\item 1\n",
       "\\item 4\n",
       "\\item 9\n",
       "\\item 16\n",
       "\\end{enumerate*}\n",
       "\n",
       "\\item[\\$b] \\begin{enumerate*}\n",
       "\\item 2.03090543466915\n",
       "\\item 0.133912905538524\n",
       "\\item 0.0617088441198999\n",
       "\\item 0.00426254666598655\n",
       "\\item 0.000366967341441809\n",
       "\\item 0.0662230403570435\n",
       "\\item 0.42121408096771\n",
       "\\item 0.0142011939362468\n",
       "\\item 0.44107622787384\n",
       "\\item 1.21213296398605\n",
       "\\end{enumerate*}\n",
       "\n",
       "\\item[\\$c] \\begin{enumerate*}\n",
       "\\item 1.30821320019551\n",
       "\\item 0.778358713549126\n",
       "\\item 0.00773197209113215\n",
       "\\item 0.191481718163712\n",
       "\\item 0.0411726608355209\n",
       "\\end{enumerate*}\n",
       "\n",
       "\\item[\\$d] \\begin{enumerate*}\n",
       "\\item 39.1135555023829\n",
       "\\item 33.3176254131443\n",
       "\\item 22.8530308428546\n",
       "\\item 20.9323609430902\n",
       "\\item 20.985743329492\n",
       "\\item 35.9638514099164\n",
       "\\item 22.3182732304474\n",
       "\\item 39.137771442488\n",
       "\\item 31.884931672276\n",
       "\\item 39.681335485227\n",
       "\\end{enumerate*}\n",
       "\n",
       "\\end{description}\n"
      ],
      "text/markdown": [
       "$a\n",
       ":   1. 1\n",
       "2. 4\n",
       "3. 9\n",
       "4. 16\n",
       "\n",
       "\n",
       "\n",
       "$b\n",
       ":   1. 2.03090543466915\n",
       "2. 0.133912905538524\n",
       "3. 0.0617088441198999\n",
       "4. 0.00426254666598655\n",
       "5. 0.000366967341441809\n",
       "6. 0.0662230403570435\n",
       "7. 0.42121408096771\n",
       "8. 0.0142011939362468\n",
       "9. 0.44107622787384\n",
       "10. 1.21213296398605\n",
       "\n",
       "\n",
       "\n",
       "$c\n",
       ":   1. 1.30821320019551\n",
       "2. 0.778358713549126\n",
       "3. 0.00773197209113215\n",
       "4. 0.191481718163712\n",
       "5. 0.0411726608355209\n",
       "\n",
       "\n",
       "\n",
       "$d\n",
       ":   1. 39.1135555023829\n",
       "2. 33.3176254131443\n",
       "3. 22.8530308428546\n",
       "4. 20.9323609430902\n",
       "5. 20.985743329492\n",
       "6. 35.9638514099164\n",
       "7. 22.3182732304474\n",
       "8. 39.137771442488\n",
       "9. 31.884931672276\n",
       "10. 39.681335485227\n",
       "\n",
       "\n",
       "\n",
       "\n",
       "\n"
      ],
      "text/plain": [
       "$a\n",
       "[1]  1  4  9 16\n",
       "\n",
       "$b\n",
       " [1] 2.0309054347 0.1339129055 0.0617088441 0.0042625467 0.0003669673\n",
       " [6] 0.0662230404 0.4212140810 0.0142011939 0.4410762279 1.2121329640\n",
       "\n",
       "$c\n",
       "[1] 1.308213200 0.778358714 0.007731972 0.191481718 0.041172661\n",
       "\n",
       "$d\n",
       " [1] 39.11356 33.31763 22.85303 20.93236 20.98574 35.96385 22.31827 39.13777\n",
       " [9] 31.88493 39.68134\n"
      ]
     },
     "metadata": {},
     "output_type": "display_data"
    },
    {
     "data": {
      "text/html": [
       "'list'"
      ],
      "text/latex": [
       "'list'"
      ],
      "text/markdown": [
       "'list'"
      ],
      "text/plain": [
       "[1] \"list\""
      ]
     },
     "metadata": {},
     "output_type": "display_data"
    }
   ],
   "source": [
    "x=list(a=1:4, b=rnorm(10), c=rnorm(5, 1), d=rnorm(10, 5));x\n",
    "l=lapply(x, function(i){i*i});l\n",
    "# print(l)\n",
    "class(l)\n",
    "s=sapply(x, function(i){i*i});s #can't figure out the different size vectors, so return list, same as lapply\n",
    "# print(s)\n",
    "class(s)"
   ]
  },
  {
   "cell_type": "code",
   "execution_count": 44,
   "metadata": {
    "scrolled": false
   },
   "outputs": [
    {
     "name": "stdout",
     "output_type": "stream",
     "text": [
      "[[1]]\n",
      "[1] 1\n",
      "\n",
      "[[2]]\n",
      "[1] 1 2\n",
      "\n",
      "[[3]]\n",
      "[1] 1 2 3\n",
      "\n",
      "[[4]]\n",
      "[1] 1 2 3 4\n",
      "\n",
      "[[5]]\n",
      "[1] 1 2 3 4 5\n",
      "\n",
      "[[1]]\n",
      "[1] 1\n",
      "\n",
      "[[2]]\n",
      "[1] 1 2\n",
      "\n",
      "[[3]]\n",
      "[1] 1 2 3\n",
      "\n",
      "[[4]]\n",
      "[1] 1 2 3 4\n",
      "\n",
      "[[5]]\n",
      "[1] 1 2 3 4 5\n",
      "\n"
     ]
    }
   ],
   "source": [
    "s=sapply(1:5, seq_len); print(s) #return list\n",
    "l=lapply(1:5, seq_len); print(l) #return list"
   ]
  },
  {
   "cell_type": "code",
   "execution_count": 45,
   "metadata": {
    "scrolled": true
   },
   "outputs": [
    {
     "name": "stdout",
     "output_type": "stream",
     "text": [
      "[1] 1.000000 1.414214 1.732051 2.000000 2.236068\n"
     ]
    }
   ],
   "source": [
    "s2=sapply(1:5, sqrt) #return vector\n",
    "print(s2)  "
   ]
  },
  {
   "cell_type": "code",
   "execution_count": 46,
   "metadata": {
    "scrolled": false
   },
   "outputs": [
    {
     "name": "stdout",
     "output_type": "stream",
     "text": [
      "     [,1] [,2] [,3]\n",
      "[1,]    1    1    1\n",
      "[2,]    2    2    2\n",
      "[3,]    3    3    3\n"
     ]
    }
   ],
   "source": [
    "m=sapply(c(3,3,3), seq_len) #return matrix, each result is a column\n",
    "print(m)"
   ]
  },
  {
   "cell_type": "code",
   "execution_count": 47,
   "metadata": {
    "scrolled": true
   },
   "outputs": [
    {
     "data": {
      "text/html": [
       "3"
      ],
      "text/latex": [
       "3"
      ],
      "text/markdown": [
       "3"
      ],
      "text/plain": [
       "[1] 3"
      ]
     },
     "metadata": {},
     "output_type": "display_data"
    },
    {
     "data": {
      "text/html": [
       "4"
      ],
      "text/latex": [
       "4"
      ],
      "text/markdown": [
       "4"
      ],
      "text/plain": [
       "[1] 4"
      ]
     },
     "metadata": {},
     "output_type": "display_data"
    },
    {
     "data": {
      "text/html": [
       "5"
      ],
      "text/latex": [
       "5"
      ],
      "text/markdown": [
       "5"
      ],
      "text/plain": [
       "[1] 5"
      ]
     },
     "metadata": {},
     "output_type": "display_data"
    },
    {
     "data": {
      "text/html": [
       "'matrix'"
      ],
      "text/latex": [
       "'matrix'"
      ],
      "text/markdown": [
       "'matrix'"
      ],
      "text/plain": [
       "[1] \"matrix\""
      ]
     },
     "metadata": {},
     "output_type": "display_data"
    },
    {
     "data": {
      "text/html": [
       "<strong>$dim</strong> = <ol class=list-inline>\n",
       "\t<li>4</li>\n",
       "\t<li>5</li>\n",
       "</ol>\n"
      ],
      "text/latex": [
       "\\textbf{\\$dim} = \\begin{enumerate*}\n",
       "\\item 4\n",
       "\\item 5\n",
       "\\end{enumerate*}\n"
      ],
      "text/markdown": [
       "**$dim** = 1. 4\n",
       "2. 5\n",
       "\n",
       "\n"
      ],
      "text/plain": [
       "$dim\n",
       "[1] 4 5\n"
      ]
     },
     "metadata": {},
     "output_type": "display_data"
    },
    {
     "name": "stdout",
     "output_type": "stream",
     "text": [
      "     [,1] [,2] [,3] [,4] [,5]\n",
      "[1,]    1    2    3    4    5\n",
      "[2,]    1    2    3    4    5\n",
      "[3,]    1    2    3    4    5\n",
      "[4,]    1    2    3    4    5\n"
     ]
    }
   ],
   "source": [
    "x=sapply(1:5,function(x) {matrix(x,2,2)}) # a matrix becomes an array and then becomes a column in result\n",
    "x[12]\n",
    "x[13] #access matrix element as vector\n",
    "x[4,5]\n",
    "class(x) #matrix is 2d array\n",
    "attributes(x)\n",
    "print(x)"
   ]
  },
  {
   "cell_type": "code",
   "execution_count": 48,
   "metadata": {
    "scrolled": true
   },
   "outputs": [
    {
     "data": {
      "text/html": [
       "'matrix'"
      ],
      "text/latex": [
       "'matrix'"
      ],
      "text/markdown": [
       "'matrix'"
      ],
      "text/plain": [
       "[1] \"matrix\""
      ]
     },
     "metadata": {},
     "output_type": "display_data"
    },
    {
     "data": {
      "text/html": [
       "'integer'"
      ],
      "text/latex": [
       "'integer'"
      ],
      "text/markdown": [
       "'integer'"
      ],
      "text/plain": [
       "[1] \"integer\""
      ]
     },
     "metadata": {},
     "output_type": "display_data"
    },
    {
     "name": "stdout",
     "output_type": "stream",
     "text": [
      "     [,1] [,2]\n",
      "[1,]    1    2\n",
      "[2,]    1    2\n",
      "[3,]    1    2\n",
      "[4,]    1    2\n"
     ]
    }
   ],
   "source": [
    "x=sapply(1:2,function(x){matrix(x,2,2)})\n",
    "class(x)\n",
    "typeof(x)\n",
    "print(x)"
   ]
  },
  {
   "cell_type": "code",
   "execution_count": 49,
   "metadata": {
    "scrolled": false
   },
   "outputs": [
    {
     "name": "stdout",
     "output_type": "stream",
     "text": [
      ", , 1\n",
      "\n",
      "     [,1] [,2]\n",
      "[1,]    1    1\n",
      "[2,]    1    1\n",
      "\n",
      ", , 2\n",
      "\n",
      "     [,1] [,2]\n",
      "[1,]    2    2\n",
      "[2,]    2    2\n",
      "\n",
      ", , 3\n",
      "\n",
      "     [,1] [,2]\n",
      "[1,]    3    3\n",
      "[2,]    3    3\n",
      "\n",
      ", , 4\n",
      "\n",
      "     [,1] [,2]\n",
      "[1,]    4    4\n",
      "[2,]    4    4\n",
      "\n",
      ", , 5\n",
      "\n",
      "     [,1] [,2]\n",
      "[1,]    5    5\n",
      "[2,]    5    5\n",
      "\n"
     ]
    }
   ],
   "source": [
    "x=sapply(1:5,function(x){matrix(x,2,2)}, simplify='array') #return 3d array\n",
    "print(x)"
   ]
  },
  {
   "cell_type": "code",
   "execution_count": 50,
   "metadata": {
    "scrolled": false
   },
   "outputs": [
    {
     "data": {
      "text/html": [
       "'array'"
      ],
      "text/latex": [
       "'array'"
      ],
      "text/markdown": [
       "'array'"
      ],
      "text/plain": [
       "[1] \"array\""
      ]
     },
     "metadata": {},
     "output_type": "display_data"
    },
    {
     "data": {
      "text/html": [
       "<ol class=list-inline>\n",
       "\t<li>2</li>\n",
       "\t<li>2</li>\n",
       "\t<li>5</li>\n",
       "</ol>\n"
      ],
      "text/latex": [
       "\\begin{enumerate*}\n",
       "\\item 2\n",
       "\\item 2\n",
       "\\item 5\n",
       "\\end{enumerate*}\n"
      ],
      "text/markdown": [
       "1. 2\n",
       "2. 2\n",
       "3. 5\n",
       "\n",
       "\n"
      ],
      "text/plain": [
       "[1] 2 2 5"
      ]
     },
     "metadata": {},
     "output_type": "display_data"
    },
    {
     "data": {
      "text/html": [
       "2"
      ],
      "text/latex": [
       "2"
      ],
      "text/markdown": [
       "2"
      ],
      "text/plain": [
       "[1] 2"
      ]
     },
     "metadata": {},
     "output_type": "display_data"
    },
    {
     "data": {
      "text/html": [
       "3"
      ],
      "text/latex": [
       "3"
      ],
      "text/markdown": [
       "3"
      ],
      "text/plain": [
       "[1] 3"
      ]
     },
     "metadata": {},
     "output_type": "display_data"
    },
    {
     "name": "stdout",
     "output_type": "stream",
     "text": [
      " int [1:2, 1:2, 1:5] 1 1 1 1 2 2 2 2 3 3 ...\n"
     ]
    },
    {
     "data": {
      "text/html": [
       "3"
      ],
      "text/latex": [
       "3"
      ],
      "text/markdown": [
       "3"
      ],
      "text/plain": [
       "[1] 3"
      ]
     },
     "metadata": {},
     "output_type": "display_data"
    },
    {
     "name": "stdout",
     "output_type": "stream",
     "text": [
      ", , 1\n",
      "\n",
      "     [,1] [,2]\n",
      "[1,]    1    1\n",
      "[2,]    1    1\n",
      "\n",
      ", , 2\n",
      "\n",
      "     [,1] [,2]\n",
      "[1,]    2    2\n",
      "[2,]    2    2\n",
      "\n",
      ", , 3\n",
      "\n",
      "     [,1] [,2]\n",
      "[1,]    3    3\n",
      "[2,]    3    3\n",
      "\n",
      ", , 4\n",
      "\n",
      "     [,1] [,2]\n",
      "[1,]    4    4\n",
      "[2,]    4    4\n",
      "\n",
      ", , 5\n",
      "\n",
      "     [,1] [,2]\n",
      "[1,]    5    5\n",
      "[2,]    5    5\n",
      "\n"
     ]
    }
   ],
   "source": [
    "class(x)\n",
    "dim(x)\n",
    "x[6]\n",
    "x[9]\n",
    "str(x)\n",
    "x[1,2,3]\n",
    "print(x)"
   ]
  },
  {
   "cell_type": "code",
   "execution_count": 51,
   "metadata": {
    "scrolled": false
   },
   "outputs": [
    {
     "data": {
      "text/html": [
       "<table>\n",
       "<caption>A data.frame: 4 × 2</caption>\n",
       "<thead>\n",
       "\t<tr><th scope=col>x1</th><th scope=col>x2</th></tr>\n",
       "\t<tr><th scope=col>&lt;dbl&gt;</th><th scope=col>&lt;dbl&gt;</th></tr>\n",
       "</thead>\n",
       "<tbody>\n",
       "\t<tr><td>3</td><td>2</td></tr>\n",
       "\t<tr><td>3</td><td>1</td></tr>\n",
       "\t<tr><td>3</td><td>4</td></tr>\n",
       "\t<tr><td>3</td><td>5</td></tr>\n",
       "</tbody>\n",
       "</table>\n"
      ],
      "text/latex": [
       "A data.frame: 4 × 2\n",
       "\\begin{tabular}{ll}\n",
       " x1 & x2\\\\\n",
       " <dbl> & <dbl>\\\\\n",
       "\\hline\n",
       "\t 3 & 2\\\\\n",
       "\t 3 & 1\\\\\n",
       "\t 3 & 4\\\\\n",
       "\t 3 & 5\\\\\n",
       "\\end{tabular}\n"
      ],
      "text/markdown": [
       "\n",
       "A data.frame: 4 × 2\n",
       "\n",
       "| x1 &lt;dbl&gt; | x2 &lt;dbl&gt; |\n",
       "|---|---|\n",
       "| 3 | 2 |\n",
       "| 3 | 1 |\n",
       "| 3 | 4 |\n",
       "| 3 | 5 |\n",
       "\n"
      ],
      "text/plain": [
       "  x1 x2\n",
       "1 3  2 \n",
       "2 3  1 \n",
       "3 3  4 \n",
       "4 3  5 "
      ]
     },
     "metadata": {},
     "output_type": "display_data"
    },
    {
     "data": {
      "text/html": [
       "<table>\n",
       "<caption>A matrix: 4 × 2 of type dbl</caption>\n",
       "<thead>\n",
       "\t<tr><th></th><th scope=col>x1</th><th scope=col>x2</th></tr>\n",
       "</thead>\n",
       "<tbody>\n",
       "\t<tr><th scope=row>a</th><td> 3</td><td> 2</td></tr>\n",
       "\t<tr><th scope=row>b</th><td> 6</td><td> 3</td></tr>\n",
       "\t<tr><th scope=row>c</th><td> 9</td><td> 7</td></tr>\n",
       "\t<tr><th scope=row>d</th><td>12</td><td>12</td></tr>\n",
       "</tbody>\n",
       "</table>\n"
      ],
      "text/latex": [
       "A matrix: 4 × 2 of type dbl\n",
       "\\begin{tabular}{r|ll}\n",
       "  & x1 & x2\\\\\n",
       "\\hline\n",
       "\ta &  3 &  2\\\\\n",
       "\tb &  6 &  3\\\\\n",
       "\tc &  9 &  7\\\\\n",
       "\td & 12 & 12\\\\\n",
       "\\end{tabular}\n"
      ],
      "text/markdown": [
       "\n",
       "A matrix: 4 × 2 of type dbl\n",
       "\n",
       "| <!--/--> | x1 | x2 |\n",
       "|---|---|---|\n",
       "| a |  3 |  2 |\n",
       "| b |  6 |  3 |\n",
       "| c |  9 |  7 |\n",
       "| d | 12 | 12 |\n",
       "\n"
      ],
      "text/plain": [
       "  x1 x2\n",
       "a  3  2\n",
       "b  6  3\n",
       "c  9  7\n",
       "d 12 12"
      ]
     },
     "metadata": {},
     "output_type": "display_data"
    },
    {
     "data": {
      "text/html": [
       "<table>\n",
       "<caption>A matrix: 4 × 2 of type dbl</caption>\n",
       "<thead>\n",
       "\t<tr><th scope=col>x1</th><th scope=col>x2</th></tr>\n",
       "</thead>\n",
       "<tbody>\n",
       "\t<tr><td> 3</td><td> 2</td></tr>\n",
       "\t<tr><td> 6</td><td> 3</td></tr>\n",
       "\t<tr><td> 9</td><td> 7</td></tr>\n",
       "\t<tr><td>12</td><td>12</td></tr>\n",
       "</tbody>\n",
       "</table>\n"
      ],
      "text/latex": [
       "A matrix: 4 × 2 of type dbl\n",
       "\\begin{tabular}{ll}\n",
       " x1 & x2\\\\\n",
       "\\hline\n",
       "\t  3 &  2\\\\\n",
       "\t  6 &  3\\\\\n",
       "\t  9 &  7\\\\\n",
       "\t 12 & 12\\\\\n",
       "\\end{tabular}\n"
      ],
      "text/markdown": [
       "\n",
       "A matrix: 4 × 2 of type dbl\n",
       "\n",
       "| x1 | x2 |\n",
       "|---|---|\n",
       "|  3 |  2 |\n",
       "|  6 |  3 |\n",
       "|  9 |  7 |\n",
       "| 12 | 12 |\n",
       "\n"
      ],
      "text/plain": [
       "     x1 x2\n",
       "[1,]  3  2\n",
       "[2,]  6  3\n",
       "[3,]  9  7\n",
       "[4,] 12 12"
      ]
     },
     "metadata": {},
     "output_type": "display_data"
    },
    {
     "data": {
      "text/html": [
       "<table>\n",
       "<caption>A matrix: 4 × 2 of type dbl</caption>\n",
       "<thead>\n",
       "\t<tr><th></th><th scope=col>x1</th><th scope=col>x2</th></tr>\n",
       "</thead>\n",
       "<tbody>\n",
       "\t<tr><th scope=row>a</th><td> 3</td><td> 2</td></tr>\n",
       "\t<tr><th scope=row>b</th><td> 6</td><td> 3</td></tr>\n",
       "\t<tr><th scope=row>c</th><td> 9</td><td> 7</td></tr>\n",
       "\t<tr><th scope=row>d</th><td>12</td><td>12</td></tr>\n",
       "</tbody>\n",
       "</table>\n"
      ],
      "text/latex": [
       "A matrix: 4 × 2 of type dbl\n",
       "\\begin{tabular}{r|ll}\n",
       "  & x1 & x2\\\\\n",
       "\\hline\n",
       "\ta &  3 &  2\\\\\n",
       "\tb &  6 &  3\\\\\n",
       "\tc &  9 &  7\\\\\n",
       "\td & 12 & 12\\\\\n",
       "\\end{tabular}\n"
      ],
      "text/markdown": [
       "\n",
       "A matrix: 4 × 2 of type dbl\n",
       "\n",
       "| <!--/--> | x1 | x2 |\n",
       "|---|---|---|\n",
       "| a |  3 |  2 |\n",
       "| b |  6 |  3 |\n",
       "| c |  9 |  7 |\n",
       "| d | 12 | 12 |\n",
       "\n"
      ],
      "text/plain": [
       "  x1 x2\n",
       "a  3  2\n",
       "b  6  3\n",
       "c  9  7\n",
       "d 12 12"
      ]
     },
     "metadata": {},
     "output_type": "display_data"
    }
   ],
   "source": [
    "x <- data.frame(cbind(x1=3, x2=c(2:1,4:5)));x\n",
    "\n",
    "# a more strict apply function called vapply(), which contains an extra argument \n",
    "# FUN.VALUE where you can specify the type and length of the output that should \n",
    "# be returned each time your applied function is called.\n",
    "vapply(x,cumsum,FUN.VALUE=c('a'=0,'b'=0,'c'=0,'d'=0))\n",
    "a<-sapply(x,cumsum);a\n",
    "row.names(a)<-c('a','b','c','d');a"
   ]
  },
  {
   "cell_type": "code",
   "execution_count": 52,
   "metadata": {
    "scrolled": false
   },
   "outputs": [
    {
     "data": {
      "text/html": [
       "<table>\n",
       "<caption>A data.frame: 6 × 6</caption>\n",
       "<thead>\n",
       "\t<tr><th></th><th scope=col>Ozone</th><th scope=col>Solar.R</th><th scope=col>Wind</th><th scope=col>Temp</th><th scope=col>Month</th><th scope=col>Day</th></tr>\n",
       "\t<tr><th></th><th scope=col>&lt;int&gt;</th><th scope=col>&lt;int&gt;</th><th scope=col>&lt;dbl&gt;</th><th scope=col>&lt;int&gt;</th><th scope=col>&lt;int&gt;</th><th scope=col>&lt;int&gt;</th></tr>\n",
       "</thead>\n",
       "<tbody>\n",
       "\t<tr><th scope=row>1</th><td>41</td><td>190</td><td> 7.4</td><td>67</td><td>5</td><td>1</td></tr>\n",
       "\t<tr><th scope=row>2</th><td>36</td><td>118</td><td> 8.0</td><td>72</td><td>5</td><td>2</td></tr>\n",
       "\t<tr><th scope=row>3</th><td>12</td><td>149</td><td>12.6</td><td>74</td><td>5</td><td>3</td></tr>\n",
       "\t<tr><th scope=row>4</th><td>18</td><td>313</td><td>11.5</td><td>62</td><td>5</td><td>4</td></tr>\n",
       "\t<tr><th scope=row>5</th><td>NA</td><td> NA</td><td>14.3</td><td>56</td><td>5</td><td>5</td></tr>\n",
       "\t<tr><th scope=row>6</th><td>28</td><td> NA</td><td>14.9</td><td>66</td><td>5</td><td>6</td></tr>\n",
       "</tbody>\n",
       "</table>\n"
      ],
      "text/latex": [
       "A data.frame: 6 × 6\n",
       "\\begin{tabular}{r|llllll}\n",
       "  & Ozone & Solar.R & Wind & Temp & Month & Day\\\\\n",
       "  & <int> & <int> & <dbl> & <int> & <int> & <int>\\\\\n",
       "\\hline\n",
       "\t1 & 41 & 190 &  7.4 & 67 & 5 & 1\\\\\n",
       "\t2 & 36 & 118 &  8.0 & 72 & 5 & 2\\\\\n",
       "\t3 & 12 & 149 & 12.6 & 74 & 5 & 3\\\\\n",
       "\t4 & 18 & 313 & 11.5 & 62 & 5 & 4\\\\\n",
       "\t5 & NA &  NA & 14.3 & 56 & 5 & 5\\\\\n",
       "\t6 & 28 &  NA & 14.9 & 66 & 5 & 6\\\\\n",
       "\\end{tabular}\n"
      ],
      "text/markdown": [
       "\n",
       "A data.frame: 6 × 6\n",
       "\n",
       "| <!--/--> | Ozone &lt;int&gt; | Solar.R &lt;int&gt; | Wind &lt;dbl&gt; | Temp &lt;int&gt; | Month &lt;int&gt; | Day &lt;int&gt; |\n",
       "|---|---|---|---|---|---|---|\n",
       "| 1 | 41 | 190 |  7.4 | 67 | 5 | 1 |\n",
       "| 2 | 36 | 118 |  8.0 | 72 | 5 | 2 |\n",
       "| 3 | 12 | 149 | 12.6 | 74 | 5 | 3 |\n",
       "| 4 | 18 | 313 | 11.5 | 62 | 5 | 4 |\n",
       "| 5 | NA |  NA | 14.3 | 56 | 5 | 5 |\n",
       "| 6 | 28 |  NA | 14.9 | 66 | 5 | 6 |\n",
       "\n"
      ],
      "text/plain": [
       "  Ozone Solar.R Wind Temp Month Day\n",
       "1 41    190      7.4 67   5     1  \n",
       "2 36    118      8.0 72   5     2  \n",
       "3 12    149     12.6 74   5     3  \n",
       "4 18    313     11.5 62   5     4  \n",
       "5 NA     NA     14.3 56   5     5  \n",
       "6 28     NA     14.9 66   5     6  "
      ]
     },
     "metadata": {},
     "output_type": "display_data"
    },
    {
     "name": "stdout",
     "output_type": "stream",
     "text": [
      "'data.frame':\t153 obs. of  6 variables:\n",
      " $ Ozone  : int  41 36 12 18 NA 28 23 19 8 NA ...\n",
      " $ Solar.R: int  190 118 149 313 NA NA 299 99 19 194 ...\n",
      " $ Wind   : num  7.4 8 12.6 11.5 14.3 14.9 8.6 13.8 20.1 8.6 ...\n",
      " $ Temp   : int  67 72 74 62 56 66 65 59 61 69 ...\n",
      " $ Month  : int  5 5 5 5 5 5 5 5 5 5 ...\n",
      " $ Day    : int  1 2 3 4 5 6 7 8 9 10 ...\n",
      "List of 5\n",
      " $ 5:'data.frame':\t31 obs. of  6 variables:\n",
      "  ..$ Ozone  : int [1:31] 41 36 12 18 NA 28 23 19 8 NA ...\n",
      "  ..$ Solar.R: int [1:31] 190 118 149 313 NA NA 299 99 19 194 ...\n",
      "  ..$ Wind   : num [1:31] 7.4 8 12.6 11.5 14.3 14.9 8.6 13.8 20.1 8.6 ...\n",
      "  ..$ Temp   : int [1:31] 67 72 74 62 56 66 65 59 61 69 ...\n",
      "  ..$ Month  : int [1:31] 5 5 5 5 5 5 5 5 5 5 ...\n",
      "  ..$ Day    : int [1:31] 1 2 3 4 5 6 7 8 9 10 ...\n",
      " $ 6:'data.frame':\t30 obs. of  6 variables:\n",
      "  ..$ Ozone  : int [1:30] NA NA NA NA NA NA 29 NA 71 39 ...\n",
      "  ..$ Solar.R: int [1:30] 286 287 242 186 220 264 127 273 291 323 ...\n",
      "  ..$ Wind   : num [1:30] 8.6 9.7 16.1 9.2 8.6 14.3 9.7 6.9 13.8 11.5 ...\n",
      "  ..$ Temp   : int [1:30] 78 74 67 84 85 79 82 87 90 87 ...\n",
      "  ..$ Month  : int [1:30] 6 6 6 6 6 6 6 6 6 6 ...\n",
      "  ..$ Day    : int [1:30] 1 2 3 4 5 6 7 8 9 10 ...\n",
      " $ 7:'data.frame':\t31 obs. of  6 variables:\n",
      "  ..$ Ozone  : int [1:31] 135 49 32 NA 64 40 77 97 97 85 ...\n",
      "  ..$ Solar.R: int [1:31] 269 248 236 101 175 314 276 267 272 175 ...\n",
      "  ..$ Wind   : num [1:31] 4.1 9.2 9.2 10.9 4.6 10.9 5.1 6.3 5.7 7.4 ...\n",
      "  ..$ Temp   : int [1:31] 84 85 81 84 83 83 88 92 92 89 ...\n",
      "  ..$ Month  : int [1:31] 7 7 7 7 7 7 7 7 7 7 ...\n",
      "  ..$ Day    : int [1:31] 1 2 3 4 5 6 7 8 9 10 ...\n",
      " $ 8:'data.frame':\t31 obs. of  6 variables:\n",
      "  ..$ Ozone  : int [1:31] 39 9 16 78 35 66 122 89 110 NA ...\n",
      "  ..$ Solar.R: int [1:31] 83 24 77 NA NA NA 255 229 207 222 ...\n",
      "  ..$ Wind   : num [1:31] 6.9 13.8 7.4 6.9 7.4 4.6 4 10.3 8 8.6 ...\n",
      "  ..$ Temp   : int [1:31] 81 81 82 86 85 87 89 90 90 92 ...\n",
      "  ..$ Month  : int [1:31] 8 8 8 8 8 8 8 8 8 8 ...\n",
      "  ..$ Day    : int [1:31] 1 2 3 4 5 6 7 8 9 10 ...\n",
      " $ 9:'data.frame':\t30 obs. of  6 variables:\n",
      "  ..$ Ozone  : int [1:30] 96 78 73 91 47 32 20 23 21 24 ...\n",
      "  ..$ Solar.R: int [1:30] 167 197 183 189 95 92 252 220 230 259 ...\n",
      "  ..$ Wind   : num [1:30] 6.9 5.1 2.8 4.6 7.4 15.5 10.9 10.3 10.9 9.7 ...\n",
      "  ..$ Temp   : int [1:30] 91 92 93 93 87 84 80 78 75 73 ...\n",
      "  ..$ Month  : int [1:30] 9 9 9 9 9 9 9 9 9 9 ...\n",
      "  ..$ Day    : int [1:30] 1 2 3 4 5 6 7 8 9 10 ...\n",
      "List of 1\n",
      " $ 5:'data.frame':\t31 obs. of  6 variables:\n",
      "  ..$ Ozone  : int [1:31] 41 36 12 18 NA 28 23 19 8 NA ...\n",
      "  ..$ Solar.R: int [1:31] 190 118 149 313 NA NA 299 99 19 194 ...\n",
      "  ..$ Wind   : num [1:31] 7.4 8 12.6 11.5 14.3 14.9 8.6 13.8 20.1 8.6 ...\n",
      "  ..$ Temp   : int [1:31] 67 72 74 62 56 66 65 59 61 69 ...\n",
      "  ..$ Month  : int [1:31] 5 5 5 5 5 5 5 5 5 5 ...\n",
      "  ..$ Day    : int [1:31] 1 2 3 4 5 6 7 8 9 10 ...\n",
      "'data.frame':\t31 obs. of  6 variables:\n",
      " $ Ozone  : int  41 36 12 18 NA 28 23 19 8 NA ...\n",
      " $ Solar.R: int  190 118 149 313 NA NA 299 99 19 194 ...\n",
      " $ Wind   : num  7.4 8 12.6 11.5 14.3 14.9 8.6 13.8 20.1 8.6 ...\n",
      " $ Temp   : int  67 72 74 62 56 66 65 59 61 69 ...\n",
      " $ Month  : int  5 5 5 5 5 5 5 5 5 5 ...\n",
      " $ Day    : int  1 2 3 4 5 6 7 8 9 10 ...\n",
      "'data.frame':\t31 obs. of  6 variables:\n",
      " $ Ozone  : int  41 36 12 18 NA 28 23 19 8 NA ...\n",
      " $ Solar.R: int  190 118 149 313 NA NA 299 99 19 194 ...\n",
      " $ Wind   : num  7.4 8 12.6 11.5 14.3 14.9 8.6 13.8 20.1 8.6 ...\n",
      " $ Temp   : int  67 72 74 62 56 66 65 59 61 69 ...\n",
      " $ Month  : int  5 5 5 5 5 5 5 5 5 5 ...\n",
      " $ Day    : int  1 2 3 4 5 6 7 8 9 10 ...\n",
      "List of 1\n",
      " $ 5:'data.frame':\t31 obs. of  6 variables:\n",
      "  ..$ Ozone  : int [1:31] 41 36 12 18 NA 28 23 19 8 NA ...\n",
      "  ..$ Solar.R: int [1:31] 190 118 149 313 NA NA 299 99 19 194 ...\n",
      "  ..$ Wind   : num [1:31] 7.4 8 12.6 11.5 14.3 14.9 8.6 13.8 20.1 8.6 ...\n",
      "  ..$ Temp   : int [1:31] 67 72 74 62 56 66 65 59 61 69 ...\n",
      "  ..$ Month  : int [1:31] 5 5 5 5 5 5 5 5 5 5 ...\n",
      "  ..$ Day    : int [1:31] 1 2 3 4 5 6 7 8 9 10 ...\n",
      "'data.frame':\t31 obs. of  6 variables:\n",
      " $ Ozone  : int  41 36 12 18 NA 28 23 19 8 NA ...\n",
      " $ Solar.R: int  190 118 149 313 NA NA 299 99 19 194 ...\n",
      " $ Wind   : num  7.4 8 12.6 11.5 14.3 14.9 8.6 13.8 20.1 8.6 ...\n",
      " $ Temp   : int  67 72 74 62 56 66 65 59 61 69 ...\n",
      " $ Month  : int  5 5 5 5 5 5 5 5 5 5 ...\n",
      " $ Day    : int  1 2 3 4 5 6 7 8 9 10 ...\n"
     ]
    }
   ],
   "source": [
    "library(datasets)\n",
    "head(airquality)\n",
    "s=split(airquality, airquality$Month)\n",
    "str(airquality)\n",
    "str(s)           #list\n",
    "str(s[1])        #list\n",
    "str(s[1]$'5')    #dataframe\n",
    "str(s[[1]])      #dataframe\n",
    "str(s['5'])      #list\n",
    "str(s['5']$'5')  #dataframe"
   ]
  },
  {
   "cell_type": "code",
   "execution_count": 53,
   "metadata": {},
   "outputs": [
    {
     "name": "stdout",
     "output_type": "stream",
     "text": [
      "$`5`\n",
      "   Ozone Solar.R Wind Temp Month Day\n",
      "1     41     190  7.4   67     5   1\n",
      "2     36     118  8.0   72     5   2\n",
      "3     12     149 12.6   74     5   3\n",
      "4     18     313 11.5   62     5   4\n",
      "5     NA      NA 14.3   56     5   5\n",
      "6     28      NA 14.9   66     5   6\n",
      "7     23     299  8.6   65     5   7\n",
      "8     19      99 13.8   59     5   8\n",
      "9      8      19 20.1   61     5   9\n",
      "10    NA     194  8.6   69     5  10\n",
      "11     7      NA  6.9   74     5  11\n",
      "12    16     256  9.7   69     5  12\n",
      "13    11     290  9.2   66     5  13\n",
      "14    14     274 10.9   68     5  14\n",
      "15    18      65 13.2   58     5  15\n",
      "16    14     334 11.5   64     5  16\n",
      "17    34     307 12.0   66     5  17\n",
      "18     6      78 18.4   57     5  18\n",
      "19    30     322 11.5   68     5  19\n",
      "20    11      44  9.7   62     5  20\n",
      "21     1       8  9.7   59     5  21\n",
      "22    11     320 16.6   73     5  22\n",
      "23     4      25  9.7   61     5  23\n",
      "24    32      92 12.0   61     5  24\n",
      "25    NA      66 16.6   57     5  25\n",
      "26    NA     266 14.9   58     5  26\n",
      "27    NA      NA  8.0   57     5  27\n",
      "28    23      13 12.0   67     5  28\n",
      "29    45     252 14.9   81     5  29\n",
      "30   115     223  5.7   79     5  30\n",
      "31    37     279  7.4   76     5  31\n",
      "\n",
      "$`6`\n",
      "   Ozone Solar.R Wind Temp Month Day\n",
      "32    NA     286  8.6   78     6   1\n",
      "33    NA     287  9.7   74     6   2\n",
      "34    NA     242 16.1   67     6   3\n",
      "35    NA     186  9.2   84     6   4\n",
      "36    NA     220  8.6   85     6   5\n",
      "37    NA     264 14.3   79     6   6\n",
      "38    29     127  9.7   82     6   7\n",
      "39    NA     273  6.9   87     6   8\n",
      "40    71     291 13.8   90     6   9\n",
      "41    39     323 11.5   87     6  10\n",
      "42    NA     259 10.9   93     6  11\n",
      "43    NA     250  9.2   92     6  12\n",
      "44    23     148  8.0   82     6  13\n",
      "45    NA     332 13.8   80     6  14\n",
      "46    NA     322 11.5   79     6  15\n",
      "47    21     191 14.9   77     6  16\n",
      "48    37     284 20.7   72     6  17\n",
      "49    20      37  9.2   65     6  18\n",
      "50    12     120 11.5   73     6  19\n",
      "51    13     137 10.3   76     6  20\n",
      "52    NA     150  6.3   77     6  21\n",
      "53    NA      59  1.7   76     6  22\n",
      "54    NA      91  4.6   76     6  23\n",
      "55    NA     250  6.3   76     6  24\n",
      "56    NA     135  8.0   75     6  25\n",
      "57    NA     127  8.0   78     6  26\n",
      "58    NA      47 10.3   73     6  27\n",
      "59    NA      98 11.5   80     6  28\n",
      "60    NA      31 14.9   77     6  29\n",
      "61    NA     138  8.0   83     6  30\n",
      "\n",
      "$`7`\n",
      "   Ozone Solar.R Wind Temp Month Day\n",
      "62   135     269  4.1   84     7   1\n",
      "63    49     248  9.2   85     7   2\n",
      "64    32     236  9.2   81     7   3\n",
      "65    NA     101 10.9   84     7   4\n",
      "66    64     175  4.6   83     7   5\n",
      "67    40     314 10.9   83     7   6\n",
      "68    77     276  5.1   88     7   7\n",
      "69    97     267  6.3   92     7   8\n",
      "70    97     272  5.7   92     7   9\n",
      "71    85     175  7.4   89     7  10\n",
      "72    NA     139  8.6   82     7  11\n",
      "73    10     264 14.3   73     7  12\n",
      "74    27     175 14.9   81     7  13\n",
      "75    NA     291 14.9   91     7  14\n",
      "76     7      48 14.3   80     7  15\n",
      "77    48     260  6.9   81     7  16\n",
      "78    35     274 10.3   82     7  17\n",
      "79    61     285  6.3   84     7  18\n",
      "80    79     187  5.1   87     7  19\n",
      "81    63     220 11.5   85     7  20\n",
      "82    16       7  6.9   74     7  21\n",
      "83    NA     258  9.7   81     7  22\n",
      "84    NA     295 11.5   82     7  23\n",
      "85    80     294  8.6   86     7  24\n",
      "86   108     223  8.0   85     7  25\n",
      "87    20      81  8.6   82     7  26\n",
      "88    52      82 12.0   86     7  27\n",
      "89    82     213  7.4   88     7  28\n",
      "90    50     275  7.4   86     7  29\n",
      "91    64     253  7.4   83     7  30\n",
      "92    59     254  9.2   81     7  31\n",
      "\n",
      "$`8`\n",
      "    Ozone Solar.R Wind Temp Month Day\n",
      "93     39      83  6.9   81     8   1\n",
      "94      9      24 13.8   81     8   2\n",
      "95     16      77  7.4   82     8   3\n",
      "96     78      NA  6.9   86     8   4\n",
      "97     35      NA  7.4   85     8   5\n",
      "98     66      NA  4.6   87     8   6\n",
      "99    122     255  4.0   89     8   7\n",
      "100    89     229 10.3   90     8   8\n",
      "101   110     207  8.0   90     8   9\n",
      "102    NA     222  8.6   92     8  10\n",
      "103    NA     137 11.5   86     8  11\n",
      "104    44     192 11.5   86     8  12\n",
      "105    28     273 11.5   82     8  13\n",
      "106    65     157  9.7   80     8  14\n",
      "107    NA      64 11.5   79     8  15\n",
      "108    22      71 10.3   77     8  16\n",
      "109    59      51  6.3   79     8  17\n",
      "110    23     115  7.4   76     8  18\n",
      "111    31     244 10.9   78     8  19\n",
      "112    44     190 10.3   78     8  20\n",
      "113    21     259 15.5   77     8  21\n",
      "114     9      36 14.3   72     8  22\n",
      "115    NA     255 12.6   75     8  23\n",
      "116    45     212  9.7   79     8  24\n",
      "117   168     238  3.4   81     8  25\n",
      "118    73     215  8.0   86     8  26\n",
      "119    NA     153  5.7   88     8  27\n",
      "120    76     203  9.7   97     8  28\n",
      "121   118     225  2.3   94     8  29\n",
      "122    84     237  6.3   96     8  30\n",
      "123    85     188  6.3   94     8  31\n",
      "\n",
      "$`9`\n",
      "    Ozone Solar.R Wind Temp Month Day\n",
      "124    96     167  6.9   91     9   1\n",
      "125    78     197  5.1   92     9   2\n",
      "126    73     183  2.8   93     9   3\n",
      "127    91     189  4.6   93     9   4\n",
      "128    47      95  7.4   87     9   5\n",
      "129    32      92 15.5   84     9   6\n",
      "130    20     252 10.9   80     9   7\n",
      "131    23     220 10.3   78     9   8\n",
      "132    21     230 10.9   75     9   9\n",
      "133    24     259  9.7   73     9  10\n",
      "134    44     236 14.9   81     9  11\n",
      "135    21     259 15.5   76     9  12\n",
      "136    28     238  6.3   77     9  13\n",
      "137     9      24 10.9   71     9  14\n",
      "138    13     112 11.5   71     9  15\n",
      "139    46     237  6.9   78     9  16\n",
      "140    18     224 13.8   67     9  17\n",
      "141    13      27 10.3   76     9  18\n",
      "142    24     238 10.3   68     9  19\n",
      "143    16     201  8.0   82     9  20\n",
      "144    13     238 12.6   64     9  21\n",
      "145    23      14  9.2   71     9  22\n",
      "146    36     139 10.3   81     9  23\n",
      "147     7      49 10.3   69     9  24\n",
      "148    14      20 16.6   63     9  25\n",
      "149    30     193  6.9   70     9  26\n",
      "150    NA     145 13.2   77     9  27\n",
      "151    14     191 14.3   75     9  28\n",
      "152    18     131  8.0   76     9  29\n",
      "153    20     223 11.5   68     9  30\n",
      "\n"
     ]
    }
   ],
   "source": [
    "print(s)"
   ]
  },
  {
   "cell_type": "code",
   "execution_count": 54,
   "metadata": {
    "scrolled": true
   },
   "outputs": [
    {
     "name": "stdout",
     "output_type": "stream",
     "text": [
      "List of 2\n",
      " $ a: num [1:3] 1 2 3\n",
      " $ b: num [1:3] 4 5 6\n",
      "List of 1\n",
      " $ a: num [1:3] 1 2 3\n"
     ]
    },
    {
     "data": {
      "text/html": [
       "<strong>$a</strong> = <ol class=list-inline>\n",
       "\t<li>1</li>\n",
       "\t<li>2</li>\n",
       "\t<li>3</li>\n",
       "</ol>\n"
      ],
      "text/latex": [
       "\\textbf{\\$a} = \\begin{enumerate*}\n",
       "\\item 1\n",
       "\\item 2\n",
       "\\item 3\n",
       "\\end{enumerate*}\n"
      ],
      "text/markdown": [
       "**$a** = 1. 1\n",
       "2. 2\n",
       "3. 3\n",
       "\n",
       "\n"
      ],
      "text/plain": [
       "$a\n",
       "[1] 1 2 3\n"
      ]
     },
     "metadata": {},
     "output_type": "display_data"
    },
    {
     "data": {
      "text/html": [
       "<strong>$a</strong> = <ol class=list-inline>\n",
       "\t<li>1</li>\n",
       "\t<li>2</li>\n",
       "\t<li>3</li>\n",
       "</ol>\n"
      ],
      "text/latex": [
       "\\textbf{\\$a} = \\begin{enumerate*}\n",
       "\\item 1\n",
       "\\item 2\n",
       "\\item 3\n",
       "\\end{enumerate*}\n"
      ],
      "text/markdown": [
       "**$a** = 1. 1\n",
       "2. 2\n",
       "3. 3\n",
       "\n",
       "\n"
      ],
      "text/plain": [
       "$a\n",
       "[1] 1 2 3\n"
      ]
     },
     "metadata": {},
     "output_type": "display_data"
    },
    {
     "data": {
      "text/html": [
       "'============'"
      ],
      "text/latex": [
       "'============'"
      ],
      "text/markdown": [
       "'============'"
      ],
      "text/plain": [
       "[1] \"============\""
      ]
     },
     "metadata": {},
     "output_type": "display_data"
    },
    {
     "data": {
      "text/html": [
       "<ol class=list-inline>\n",
       "\t<li>1</li>\n",
       "\t<li>2</li>\n",
       "\t<li>3</li>\n",
       "</ol>\n"
      ],
      "text/latex": [
       "\\begin{enumerate*}\n",
       "\\item 1\n",
       "\\item 2\n",
       "\\item 3\n",
       "\\end{enumerate*}\n"
      ],
      "text/markdown": [
       "1. 1\n",
       "2. 2\n",
       "3. 3\n",
       "\n",
       "\n"
      ],
      "text/plain": [
       "[1] 1 2 3"
      ]
     },
     "metadata": {},
     "output_type": "display_data"
    },
    {
     "data": {
      "text/html": [
       "<ol class=list-inline>\n",
       "\t<li>1</li>\n",
       "\t<li>2</li>\n",
       "\t<li>3</li>\n",
       "</ol>\n"
      ],
      "text/latex": [
       "\\begin{enumerate*}\n",
       "\\item 1\n",
       "\\item 2\n",
       "\\item 3\n",
       "\\end{enumerate*}\n"
      ],
      "text/markdown": [
       "1. 1\n",
       "2. 2\n",
       "3. 3\n",
       "\n",
       "\n"
      ],
      "text/plain": [
       "[1] 1 2 3"
      ]
     },
     "metadata": {},
     "output_type": "display_data"
    },
    {
     "data": {
      "text/html": [
       "2"
      ],
      "text/latex": [
       "2"
      ],
      "text/markdown": [
       "2"
      ],
      "text/plain": [
       "[1] 2"
      ]
     },
     "metadata": {},
     "output_type": "display_data"
    }
   ],
   "source": [
    "x=list(a=c(1,2,3), b=c(4,5,6))\n",
    "# x=list(c(1,2,3), c(4,5,6))\n",
    "str(x)\n",
    "str(x[1])\n",
    "x[1]\n",
    "x[1][1][1][1]\n",
    "\"============\"\n",
    "x[1][1][1][1][[1]]\n",
    "x[[1]]\n",
    "x[[1]][2]"
   ]
  },
  {
   "cell_type": "code",
   "execution_count": 55,
   "metadata": {
    "scrolled": false
   },
   "outputs": [
    {
     "data": {
      "text/html": [
       "<table>\n",
       "<caption>A data.frame: 6 × 6</caption>\n",
       "<thead>\n",
       "\t<tr><th></th><th scope=col>Ozone</th><th scope=col>Solar.R</th><th scope=col>Wind</th><th scope=col>Temp</th><th scope=col>Month</th><th scope=col>Day</th></tr>\n",
       "\t<tr><th></th><th scope=col>&lt;int&gt;</th><th scope=col>&lt;int&gt;</th><th scope=col>&lt;dbl&gt;</th><th scope=col>&lt;int&gt;</th><th scope=col>&lt;int&gt;</th><th scope=col>&lt;int&gt;</th></tr>\n",
       "</thead>\n",
       "<tbody>\n",
       "\t<tr><th scope=row>1</th><td>41</td><td>190</td><td> 7.4</td><td>67</td><td>5</td><td>1</td></tr>\n",
       "\t<tr><th scope=row>2</th><td>36</td><td>118</td><td> 8.0</td><td>72</td><td>5</td><td>2</td></tr>\n",
       "\t<tr><th scope=row>3</th><td>12</td><td>149</td><td>12.6</td><td>74</td><td>5</td><td>3</td></tr>\n",
       "\t<tr><th scope=row>4</th><td>18</td><td>313</td><td>11.5</td><td>62</td><td>5</td><td>4</td></tr>\n",
       "\t<tr><th scope=row>5</th><td>NA</td><td> NA</td><td>14.3</td><td>56</td><td>5</td><td>5</td></tr>\n",
       "\t<tr><th scope=row>6</th><td>28</td><td> NA</td><td>14.9</td><td>66</td><td>5</td><td>6</td></tr>\n",
       "</tbody>\n",
       "</table>\n"
      ],
      "text/latex": [
       "A data.frame: 6 × 6\n",
       "\\begin{tabular}{r|llllll}\n",
       "  & Ozone & Solar.R & Wind & Temp & Month & Day\\\\\n",
       "  & <int> & <int> & <dbl> & <int> & <int> & <int>\\\\\n",
       "\\hline\n",
       "\t1 & 41 & 190 &  7.4 & 67 & 5 & 1\\\\\n",
       "\t2 & 36 & 118 &  8.0 & 72 & 5 & 2\\\\\n",
       "\t3 & 12 & 149 & 12.6 & 74 & 5 & 3\\\\\n",
       "\t4 & 18 & 313 & 11.5 & 62 & 5 & 4\\\\\n",
       "\t5 & NA &  NA & 14.3 & 56 & 5 & 5\\\\\n",
       "\t6 & 28 &  NA & 14.9 & 66 & 5 & 6\\\\\n",
       "\\end{tabular}\n"
      ],
      "text/markdown": [
       "\n",
       "A data.frame: 6 × 6\n",
       "\n",
       "| <!--/--> | Ozone &lt;int&gt; | Solar.R &lt;int&gt; | Wind &lt;dbl&gt; | Temp &lt;int&gt; | Month &lt;int&gt; | Day &lt;int&gt; |\n",
       "|---|---|---|---|---|---|---|\n",
       "| 1 | 41 | 190 |  7.4 | 67 | 5 | 1 |\n",
       "| 2 | 36 | 118 |  8.0 | 72 | 5 | 2 |\n",
       "| 3 | 12 | 149 | 12.6 | 74 | 5 | 3 |\n",
       "| 4 | 18 | 313 | 11.5 | 62 | 5 | 4 |\n",
       "| 5 | NA |  NA | 14.3 | 56 | 5 | 5 |\n",
       "| 6 | 28 |  NA | 14.9 | 66 | 5 | 6 |\n",
       "\n"
      ],
      "text/plain": [
       "  Ozone Solar.R Wind Temp Month Day\n",
       "1 41    190      7.4 67   5     1  \n",
       "2 36    118      8.0 72   5     2  \n",
       "3 12    149     12.6 74   5     3  \n",
       "4 18    313     11.5 62   5     4  \n",
       "5 NA     NA     14.3 56   5     5  \n",
       "6 28     NA     14.9 66   5     6  "
      ]
     },
     "metadata": {},
     "output_type": "display_data"
    },
    {
     "data": {
      "text/html": [
       "<table>\n",
       "<caption>A data.frame: 30 × 6</caption>\n",
       "<thead>\n",
       "\t<tr><th></th><th scope=col>Ozone</th><th scope=col>Solar.R</th><th scope=col>Wind</th><th scope=col>Temp</th><th scope=col>Month</th><th scope=col>Day</th></tr>\n",
       "\t<tr><th></th><th scope=col>&lt;int&gt;</th><th scope=col>&lt;int&gt;</th><th scope=col>&lt;dbl&gt;</th><th scope=col>&lt;int&gt;</th><th scope=col>&lt;int&gt;</th><th scope=col>&lt;int&gt;</th></tr>\n",
       "</thead>\n",
       "<tbody>\n",
       "\t<tr><th scope=row>32</th><td>NA</td><td>286</td><td> 8.6</td><td>78</td><td>6</td><td> 1</td></tr>\n",
       "\t<tr><th scope=row>33</th><td>NA</td><td>287</td><td> 9.7</td><td>74</td><td>6</td><td> 2</td></tr>\n",
       "\t<tr><th scope=row>34</th><td>NA</td><td>242</td><td>16.1</td><td>67</td><td>6</td><td> 3</td></tr>\n",
       "\t<tr><th scope=row>35</th><td>NA</td><td>186</td><td> 9.2</td><td>84</td><td>6</td><td> 4</td></tr>\n",
       "\t<tr><th scope=row>36</th><td>NA</td><td>220</td><td> 8.6</td><td>85</td><td>6</td><td> 5</td></tr>\n",
       "\t<tr><th scope=row>37</th><td>NA</td><td>264</td><td>14.3</td><td>79</td><td>6</td><td> 6</td></tr>\n",
       "\t<tr><th scope=row>38</th><td>29</td><td>127</td><td> 9.7</td><td>82</td><td>6</td><td> 7</td></tr>\n",
       "\t<tr><th scope=row>39</th><td>NA</td><td>273</td><td> 6.9</td><td>87</td><td>6</td><td> 8</td></tr>\n",
       "\t<tr><th scope=row>40</th><td>71</td><td>291</td><td>13.8</td><td>90</td><td>6</td><td> 9</td></tr>\n",
       "\t<tr><th scope=row>41</th><td>39</td><td>323</td><td>11.5</td><td>87</td><td>6</td><td>10</td></tr>\n",
       "\t<tr><th scope=row>42</th><td>NA</td><td>259</td><td>10.9</td><td>93</td><td>6</td><td>11</td></tr>\n",
       "\t<tr><th scope=row>43</th><td>NA</td><td>250</td><td> 9.2</td><td>92</td><td>6</td><td>12</td></tr>\n",
       "\t<tr><th scope=row>44</th><td>23</td><td>148</td><td> 8.0</td><td>82</td><td>6</td><td>13</td></tr>\n",
       "\t<tr><th scope=row>45</th><td>NA</td><td>332</td><td>13.8</td><td>80</td><td>6</td><td>14</td></tr>\n",
       "\t<tr><th scope=row>46</th><td>NA</td><td>322</td><td>11.5</td><td>79</td><td>6</td><td>15</td></tr>\n",
       "\t<tr><th scope=row>47</th><td>21</td><td>191</td><td>14.9</td><td>77</td><td>6</td><td>16</td></tr>\n",
       "\t<tr><th scope=row>48</th><td>37</td><td>284</td><td>20.7</td><td>72</td><td>6</td><td>17</td></tr>\n",
       "\t<tr><th scope=row>49</th><td>20</td><td> 37</td><td> 9.2</td><td>65</td><td>6</td><td>18</td></tr>\n",
       "\t<tr><th scope=row>50</th><td>12</td><td>120</td><td>11.5</td><td>73</td><td>6</td><td>19</td></tr>\n",
       "\t<tr><th scope=row>51</th><td>13</td><td>137</td><td>10.3</td><td>76</td><td>6</td><td>20</td></tr>\n",
       "\t<tr><th scope=row>52</th><td>NA</td><td>150</td><td> 6.3</td><td>77</td><td>6</td><td>21</td></tr>\n",
       "\t<tr><th scope=row>53</th><td>NA</td><td> 59</td><td> 1.7</td><td>76</td><td>6</td><td>22</td></tr>\n",
       "\t<tr><th scope=row>54</th><td>NA</td><td> 91</td><td> 4.6</td><td>76</td><td>6</td><td>23</td></tr>\n",
       "\t<tr><th scope=row>55</th><td>NA</td><td>250</td><td> 6.3</td><td>76</td><td>6</td><td>24</td></tr>\n",
       "\t<tr><th scope=row>56</th><td>NA</td><td>135</td><td> 8.0</td><td>75</td><td>6</td><td>25</td></tr>\n",
       "\t<tr><th scope=row>57</th><td>NA</td><td>127</td><td> 8.0</td><td>78</td><td>6</td><td>26</td></tr>\n",
       "\t<tr><th scope=row>58</th><td>NA</td><td> 47</td><td>10.3</td><td>73</td><td>6</td><td>27</td></tr>\n",
       "\t<tr><th scope=row>59</th><td>NA</td><td> 98</td><td>11.5</td><td>80</td><td>6</td><td>28</td></tr>\n",
       "\t<tr><th scope=row>60</th><td>NA</td><td> 31</td><td>14.9</td><td>77</td><td>6</td><td>29</td></tr>\n",
       "\t<tr><th scope=row>61</th><td>NA</td><td>138</td><td> 8.0</td><td>83</td><td>6</td><td>30</td></tr>\n",
       "</tbody>\n",
       "</table>\n"
      ],
      "text/latex": [
       "A data.frame: 30 × 6\n",
       "\\begin{tabular}{r|llllll}\n",
       "  & Ozone & Solar.R & Wind & Temp & Month & Day\\\\\n",
       "  & <int> & <int> & <dbl> & <int> & <int> & <int>\\\\\n",
       "\\hline\n",
       "\t32 & NA & 286 &  8.6 & 78 & 6 &  1\\\\\n",
       "\t33 & NA & 287 &  9.7 & 74 & 6 &  2\\\\\n",
       "\t34 & NA & 242 & 16.1 & 67 & 6 &  3\\\\\n",
       "\t35 & NA & 186 &  9.2 & 84 & 6 &  4\\\\\n",
       "\t36 & NA & 220 &  8.6 & 85 & 6 &  5\\\\\n",
       "\t37 & NA & 264 & 14.3 & 79 & 6 &  6\\\\\n",
       "\t38 & 29 & 127 &  9.7 & 82 & 6 &  7\\\\\n",
       "\t39 & NA & 273 &  6.9 & 87 & 6 &  8\\\\\n",
       "\t40 & 71 & 291 & 13.8 & 90 & 6 &  9\\\\\n",
       "\t41 & 39 & 323 & 11.5 & 87 & 6 & 10\\\\\n",
       "\t42 & NA & 259 & 10.9 & 93 & 6 & 11\\\\\n",
       "\t43 & NA & 250 &  9.2 & 92 & 6 & 12\\\\\n",
       "\t44 & 23 & 148 &  8.0 & 82 & 6 & 13\\\\\n",
       "\t45 & NA & 332 & 13.8 & 80 & 6 & 14\\\\\n",
       "\t46 & NA & 322 & 11.5 & 79 & 6 & 15\\\\\n",
       "\t47 & 21 & 191 & 14.9 & 77 & 6 & 16\\\\\n",
       "\t48 & 37 & 284 & 20.7 & 72 & 6 & 17\\\\\n",
       "\t49 & 20 &  37 &  9.2 & 65 & 6 & 18\\\\\n",
       "\t50 & 12 & 120 & 11.5 & 73 & 6 & 19\\\\\n",
       "\t51 & 13 & 137 & 10.3 & 76 & 6 & 20\\\\\n",
       "\t52 & NA & 150 &  6.3 & 77 & 6 & 21\\\\\n",
       "\t53 & NA &  59 &  1.7 & 76 & 6 & 22\\\\\n",
       "\t54 & NA &  91 &  4.6 & 76 & 6 & 23\\\\\n",
       "\t55 & NA & 250 &  6.3 & 76 & 6 & 24\\\\\n",
       "\t56 & NA & 135 &  8.0 & 75 & 6 & 25\\\\\n",
       "\t57 & NA & 127 &  8.0 & 78 & 6 & 26\\\\\n",
       "\t58 & NA &  47 & 10.3 & 73 & 6 & 27\\\\\n",
       "\t59 & NA &  98 & 11.5 & 80 & 6 & 28\\\\\n",
       "\t60 & NA &  31 & 14.9 & 77 & 6 & 29\\\\\n",
       "\t61 & NA & 138 &  8.0 & 83 & 6 & 30\\\\\n",
       "\\end{tabular}\n"
      ],
      "text/markdown": [
       "\n",
       "A data.frame: 30 × 6\n",
       "\n",
       "| <!--/--> | Ozone &lt;int&gt; | Solar.R &lt;int&gt; | Wind &lt;dbl&gt; | Temp &lt;int&gt; | Month &lt;int&gt; | Day &lt;int&gt; |\n",
       "|---|---|---|---|---|---|---|\n",
       "| 32 | NA | 286 |  8.6 | 78 | 6 |  1 |\n",
       "| 33 | NA | 287 |  9.7 | 74 | 6 |  2 |\n",
       "| 34 | NA | 242 | 16.1 | 67 | 6 |  3 |\n",
       "| 35 | NA | 186 |  9.2 | 84 | 6 |  4 |\n",
       "| 36 | NA | 220 |  8.6 | 85 | 6 |  5 |\n",
       "| 37 | NA | 264 | 14.3 | 79 | 6 |  6 |\n",
       "| 38 | 29 | 127 |  9.7 | 82 | 6 |  7 |\n",
       "| 39 | NA | 273 |  6.9 | 87 | 6 |  8 |\n",
       "| 40 | 71 | 291 | 13.8 | 90 | 6 |  9 |\n",
       "| 41 | 39 | 323 | 11.5 | 87 | 6 | 10 |\n",
       "| 42 | NA | 259 | 10.9 | 93 | 6 | 11 |\n",
       "| 43 | NA | 250 |  9.2 | 92 | 6 | 12 |\n",
       "| 44 | 23 | 148 |  8.0 | 82 | 6 | 13 |\n",
       "| 45 | NA | 332 | 13.8 | 80 | 6 | 14 |\n",
       "| 46 | NA | 322 | 11.5 | 79 | 6 | 15 |\n",
       "| 47 | 21 | 191 | 14.9 | 77 | 6 | 16 |\n",
       "| 48 | 37 | 284 | 20.7 | 72 | 6 | 17 |\n",
       "| 49 | 20 |  37 |  9.2 | 65 | 6 | 18 |\n",
       "| 50 | 12 | 120 | 11.5 | 73 | 6 | 19 |\n",
       "| 51 | 13 | 137 | 10.3 | 76 | 6 | 20 |\n",
       "| 52 | NA | 150 |  6.3 | 77 | 6 | 21 |\n",
       "| 53 | NA |  59 |  1.7 | 76 | 6 | 22 |\n",
       "| 54 | NA |  91 |  4.6 | 76 | 6 | 23 |\n",
       "| 55 | NA | 250 |  6.3 | 76 | 6 | 24 |\n",
       "| 56 | NA | 135 |  8.0 | 75 | 6 | 25 |\n",
       "| 57 | NA | 127 |  8.0 | 78 | 6 | 26 |\n",
       "| 58 | NA |  47 | 10.3 | 73 | 6 | 27 |\n",
       "| 59 | NA |  98 | 11.5 | 80 | 6 | 28 |\n",
       "| 60 | NA |  31 | 14.9 | 77 | 6 | 29 |\n",
       "| 61 | NA | 138 |  8.0 | 83 | 6 | 30 |\n",
       "\n"
      ],
      "text/plain": [
       "   Ozone Solar.R Wind Temp Month Day\n",
       "32 NA    286      8.6 78   6      1 \n",
       "33 NA    287      9.7 74   6      2 \n",
       "34 NA    242     16.1 67   6      3 \n",
       "35 NA    186      9.2 84   6      4 \n",
       "36 NA    220      8.6 85   6      5 \n",
       "37 NA    264     14.3 79   6      6 \n",
       "38 29    127      9.7 82   6      7 \n",
       "39 NA    273      6.9 87   6      8 \n",
       "40 71    291     13.8 90   6      9 \n",
       "41 39    323     11.5 87   6     10 \n",
       "42 NA    259     10.9 93   6     11 \n",
       "43 NA    250      9.2 92   6     12 \n",
       "44 23    148      8.0 82   6     13 \n",
       "45 NA    332     13.8 80   6     14 \n",
       "46 NA    322     11.5 79   6     15 \n",
       "47 21    191     14.9 77   6     16 \n",
       "48 37    284     20.7 72   6     17 \n",
       "49 20     37      9.2 65   6     18 \n",
       "50 12    120     11.5 73   6     19 \n",
       "51 13    137     10.3 76   6     20 \n",
       "52 NA    150      6.3 77   6     21 \n",
       "53 NA     59      1.7 76   6     22 \n",
       "54 NA     91      4.6 76   6     23 \n",
       "55 NA    250      6.3 76   6     24 \n",
       "56 NA    135      8.0 75   6     25 \n",
       "57 NA    127      8.0 78   6     26 \n",
       "58 NA     47     10.3 73   6     27 \n",
       "59 NA     98     11.5 80   6     28 \n",
       "60 NA     31     14.9 77   6     29 \n",
       "61 NA    138      8.0 83   6     30 "
      ]
     },
     "metadata": {},
     "output_type": "display_data"
    },
    {
     "data": {
      "text/html": [
       "<dl class=dl-horizontal>\n",
       "\t<dt>Ozone</dt>\n",
       "\t\t<dd>29.4444444444444</dd>\n",
       "\t<dt>Solar.R</dt>\n",
       "\t\t<dd>190.166666666667</dd>\n",
       "</dl>\n"
      ],
      "text/latex": [
       "\\begin{description*}\n",
       "\\item[Ozone] 29.4444444444444\n",
       "\\item[Solar.R] 190.166666666667\n",
       "\\end{description*}\n"
      ],
      "text/markdown": [
       "Ozone\n",
       ":   29.4444444444444Solar.R\n",
       ":   190.166666666667\n",
       "\n"
      ],
      "text/plain": [
       "    Ozone   Solar.R \n",
       " 29.44444 190.16667 "
      ]
     },
     "metadata": {},
     "output_type": "display_data"
    },
    {
     "name": "stdout",
     "output_type": "stream",
     "text": [
      "List of 5\n",
      " $ 5: Named num [1:2] 23.6 181.3\n",
      "  ..- attr(*, \"names\")= chr [1:2] \"Ozone\" \"Solar.R\"\n",
      " $ 6: Named num [1:2] 29.4 190.2\n",
      "  ..- attr(*, \"names\")= chr [1:2] \"Ozone\" \"Solar.R\"\n",
      " $ 7: Named num [1:2] 59.1 216.5\n",
      "  ..- attr(*, \"names\")= chr [1:2] \"Ozone\" \"Solar.R\"\n",
      " $ 8: Named num [1:2] 60 172\n",
      "  ..- attr(*, \"names\")= chr [1:2] \"Ozone\" \"Solar.R\"\n",
      " $ 9: Named num [1:2] 31.4 167.4\n",
      "  ..- attr(*, \"names\")= chr [1:2] \"Ozone\" \"Solar.R\"\n"
     ]
    },
    {
     "data": {
      "text/html": [
       "<dl>\n",
       "\t<dt>$`5`</dt>\n",
       "\t\t<dd><dl class=dl-horizontal>\n",
       "\t<dt>Ozone</dt>\n",
       "\t\t<dd>23.6153846153846</dd>\n",
       "\t<dt>Solar.R</dt>\n",
       "\t\t<dd>181.296296296296</dd>\n",
       "</dl>\n",
       "</dd>\n",
       "\t<dt>$`6`</dt>\n",
       "\t\t<dd><dl class=dl-horizontal>\n",
       "\t<dt>Ozone</dt>\n",
       "\t\t<dd>29.4444444444444</dd>\n",
       "\t<dt>Solar.R</dt>\n",
       "\t\t<dd>190.166666666667</dd>\n",
       "</dl>\n",
       "</dd>\n",
       "\t<dt>$`7`</dt>\n",
       "\t\t<dd><dl class=dl-horizontal>\n",
       "\t<dt>Ozone</dt>\n",
       "\t\t<dd>59.1153846153846</dd>\n",
       "\t<dt>Solar.R</dt>\n",
       "\t\t<dd>216.483870967742</dd>\n",
       "</dl>\n",
       "</dd>\n",
       "\t<dt>$`8`</dt>\n",
       "\t\t<dd><dl class=dl-horizontal>\n",
       "\t<dt>Ozone</dt>\n",
       "\t\t<dd>59.9615384615385</dd>\n",
       "\t<dt>Solar.R</dt>\n",
       "\t\t<dd>171.857142857143</dd>\n",
       "</dl>\n",
       "</dd>\n",
       "\t<dt>$`9`</dt>\n",
       "\t\t<dd><dl class=dl-horizontal>\n",
       "\t<dt>Ozone</dt>\n",
       "\t\t<dd>31.448275862069</dd>\n",
       "\t<dt>Solar.R</dt>\n",
       "\t\t<dd>167.433333333333</dd>\n",
       "</dl>\n",
       "</dd>\n",
       "</dl>\n"
      ],
      "text/latex": [
       "\\begin{description}\n",
       "\\item[\\$`5`] \\begin{description*}\n",
       "\\item[Ozone] 23.6153846153846\n",
       "\\item[Solar.R] 181.296296296296\n",
       "\\end{description*}\n",
       "\n",
       "\\item[\\$`6`] \\begin{description*}\n",
       "\\item[Ozone] 29.4444444444444\n",
       "\\item[Solar.R] 190.166666666667\n",
       "\\end{description*}\n",
       "\n",
       "\\item[\\$`7`] \\begin{description*}\n",
       "\\item[Ozone] 59.1153846153846\n",
       "\\item[Solar.R] 216.483870967742\n",
       "\\end{description*}\n",
       "\n",
       "\\item[\\$`8`] \\begin{description*}\n",
       "\\item[Ozone] 59.9615384615385\n",
       "\\item[Solar.R] 171.857142857143\n",
       "\\end{description*}\n",
       "\n",
       "\\item[\\$`9`] \\begin{description*}\n",
       "\\item[Ozone] 31.448275862069\n",
       "\\item[Solar.R] 167.433333333333\n",
       "\\end{description*}\n",
       "\n",
       "\\end{description}\n"
      ],
      "text/markdown": [
       "$`5`\n",
       ":   Ozone\n",
       ":   23.6153846153846Solar.R\n",
       ":   181.296296296296\n",
       "\n",
       "\n",
       "$`6`\n",
       ":   Ozone\n",
       ":   29.4444444444444Solar.R\n",
       ":   190.166666666667\n",
       "\n",
       "\n",
       "$`7`\n",
       ":   Ozone\n",
       ":   59.1153846153846Solar.R\n",
       ":   216.483870967742\n",
       "\n",
       "\n",
       "$`8`\n",
       ":   Ozone\n",
       ":   59.9615384615385Solar.R\n",
       ":   171.857142857143\n",
       "\n",
       "\n",
       "$`9`\n",
       ":   Ozone\n",
       ":   31.448275862069Solar.R\n",
       ":   167.433333333333\n",
       "\n",
       "\n",
       "\n",
       "\n"
      ],
      "text/plain": [
       "$`5`\n",
       "    Ozone   Solar.R \n",
       " 23.61538 181.29630 \n",
       "\n",
       "$`6`\n",
       "    Ozone   Solar.R \n",
       " 29.44444 190.16667 \n",
       "\n",
       "$`7`\n",
       "    Ozone   Solar.R \n",
       " 59.11538 216.48387 \n",
       "\n",
       "$`8`\n",
       "    Ozone   Solar.R \n",
       " 59.96154 171.85714 \n",
       "\n",
       "$`9`\n",
       "    Ozone   Solar.R \n",
       " 31.44828 167.43333 \n"
      ]
     },
     "metadata": {},
     "output_type": "display_data"
    },
    {
     "name": "stdout",
     "output_type": "stream",
     "text": [
      " num [1:2, 1:5] 23.6 181.3 29.4 190.2 59.1 ...\n",
      " - attr(*, \"dimnames\")=List of 2\n",
      "  ..$ : chr [1:2] \"Ozone\" \"Solar.R\"\n",
      "  ..$ : chr [1:5] \"5\" \"6\" \"7\" \"8\" ...\n"
     ]
    },
    {
     "data": {
      "text/html": [
       "<table>\n",
       "<caption>A matrix: 2 × 5 of type dbl</caption>\n",
       "<thead>\n",
       "\t<tr><th></th><th scope=col>5</th><th scope=col>6</th><th scope=col>7</th><th scope=col>8</th><th scope=col>9</th></tr>\n",
       "</thead>\n",
       "<tbody>\n",
       "\t<tr><th scope=row>Ozone</th><td> 23.61538</td><td> 29.44444</td><td> 59.11538</td><td> 59.96154</td><td> 31.44828</td></tr>\n",
       "\t<tr><th scope=row>Solar.R</th><td>181.29630</td><td>190.16667</td><td>216.48387</td><td>171.85714</td><td>167.43333</td></tr>\n",
       "</tbody>\n",
       "</table>\n"
      ],
      "text/latex": [
       "A matrix: 2 × 5 of type dbl\n",
       "\\begin{tabular}{r|lllll}\n",
       "  & 5 & 6 & 7 & 8 & 9\\\\\n",
       "\\hline\n",
       "\tOzone &  23.61538 &  29.44444 &  59.11538 &  59.96154 &  31.44828\\\\\n",
       "\tSolar.R & 181.29630 & 190.16667 & 216.48387 & 171.85714 & 167.43333\\\\\n",
       "\\end{tabular}\n"
      ],
      "text/markdown": [
       "\n",
       "A matrix: 2 × 5 of type dbl\n",
       "\n",
       "| <!--/--> | 5 | 6 | 7 | 8 | 9 |\n",
       "|---|---|---|---|---|---|\n",
       "| Ozone |  23.61538 |  29.44444 |  59.11538 |  59.96154 |  31.44828 |\n",
       "| Solar.R | 181.29630 | 190.16667 | 216.48387 | 171.85714 | 167.43333 |\n",
       "\n"
      ],
      "text/plain": [
       "        5         6         7         8         9        \n",
       "Ozone    23.61538  29.44444  59.11538  59.96154  31.44828\n",
       "Solar.R 181.29630 190.16667 216.48387 171.85714 167.43333"
      ]
     },
     "metadata": {},
     "output_type": "display_data"
    }
   ],
   "source": [
    "library(datasets)\n",
    "head(airquality)\n",
    "s=split(airquality, airquality$Month) #list\n",
    "means=function(x){colMeans(x[c('Ozone', 'Solar.R')], na.rm=T)}\n",
    "s[[2]]\n",
    "means(s[[2]])\n",
    "\n",
    "str(lapply(s, means))\n",
    "lapply(s, means)\n",
    "\n",
    "str(sapply(s, means)) #smartly make a matrix\n",
    "sapply(s, means)"
   ]
  },
  {
   "cell_type": "code",
   "execution_count": 56,
   "metadata": {
    "scrolled": false
   },
   "outputs": [
    {
     "data": {
      "text/html": [
       "<ol class=list-inline>\n",
       "\t<li>1</li>\n",
       "\t<li>1</li>\n",
       "\t<li>1</li>\n",
       "\t<li>1</li>\n",
       "\t<li>1</li>\n",
       "\t<li>1</li>\n",
       "\t<li>1</li>\n",
       "\t<li>1</li>\n",
       "\t<li>1</li>\n",
       "\t<li>1</li>\n",
       "\t<li>11</li>\n",
       "\t<li>12</li>\n",
       "\t<li>13</li>\n",
       "\t<li>14</li>\n",
       "\t<li>15</li>\n",
       "\t<li>16</li>\n",
       "\t<li>17</li>\n",
       "\t<li>18</li>\n",
       "\t<li>19</li>\n",
       "\t<li>20</li>\n",
       "\t<li>10</li>\n",
       "\t<li>10</li>\n",
       "\t<li>10</li>\n",
       "\t<li>10</li>\n",
       "\t<li>10</li>\n",
       "\t<li>10</li>\n",
       "\t<li>10</li>\n",
       "\t<li>10</li>\n",
       "\t<li>10</li>\n",
       "\t<li>10</li>\n",
       "</ol>\n"
      ],
      "text/latex": [
       "\\begin{enumerate*}\n",
       "\\item 1\n",
       "\\item 1\n",
       "\\item 1\n",
       "\\item 1\n",
       "\\item 1\n",
       "\\item 1\n",
       "\\item 1\n",
       "\\item 1\n",
       "\\item 1\n",
       "\\item 1\n",
       "\\item 11\n",
       "\\item 12\n",
       "\\item 13\n",
       "\\item 14\n",
       "\\item 15\n",
       "\\item 16\n",
       "\\item 17\n",
       "\\item 18\n",
       "\\item 19\n",
       "\\item 20\n",
       "\\item 10\n",
       "\\item 10\n",
       "\\item 10\n",
       "\\item 10\n",
       "\\item 10\n",
       "\\item 10\n",
       "\\item 10\n",
       "\\item 10\n",
       "\\item 10\n",
       "\\item 10\n",
       "\\end{enumerate*}\n"
      ],
      "text/markdown": [
       "1. 1\n",
       "2. 1\n",
       "3. 1\n",
       "4. 1\n",
       "5. 1\n",
       "6. 1\n",
       "7. 1\n",
       "8. 1\n",
       "9. 1\n",
       "10. 1\n",
       "11. 11\n",
       "12. 12\n",
       "13. 13\n",
       "14. 14\n",
       "15. 15\n",
       "16. 16\n",
       "17. 17\n",
       "18. 18\n",
       "19. 19\n",
       "20. 20\n",
       "21. 10\n",
       "22. 10\n",
       "23. 10\n",
       "24. 10\n",
       "25. 10\n",
       "26. 10\n",
       "27. 10\n",
       "28. 10\n",
       "29. 10\n",
       "30. 10\n",
       "\n",
       "\n"
      ],
      "text/plain": [
       " [1]  1  1  1  1  1  1  1  1  1  1 11 12 13 14 15 16 17 18 19 20 10 10 10 10 10\n",
       "[26] 10 10 10 10 10"
      ]
     },
     "metadata": {},
     "output_type": "display_data"
    },
    {
     "data": {
      "text/html": [
       "<ol class=list-inline>\n",
       "\t<li>1</li>\n",
       "\t<li>1</li>\n",
       "\t<li>1</li>\n",
       "\t<li>1</li>\n",
       "\t<li>1</li>\n",
       "\t<li>1</li>\n",
       "\t<li>1</li>\n",
       "\t<li>1</li>\n",
       "\t<li>1</li>\n",
       "\t<li>1</li>\n",
       "\t<li>2</li>\n",
       "\t<li>2</li>\n",
       "\t<li>2</li>\n",
       "\t<li>2</li>\n",
       "\t<li>2</li>\n",
       "\t<li>2</li>\n",
       "\t<li>2</li>\n",
       "\t<li>2</li>\n",
       "\t<li>2</li>\n",
       "\t<li>2</li>\n",
       "\t<li>3</li>\n",
       "\t<li>3</li>\n",
       "\t<li>3</li>\n",
       "\t<li>3</li>\n",
       "\t<li>3</li>\n",
       "\t<li>3</li>\n",
       "\t<li>3</li>\n",
       "\t<li>3</li>\n",
       "\t<li>3</li>\n",
       "\t<li>3</li>\n",
       "</ol>\n",
       "\n",
       "<details>\n",
       "\t<summary style=display:list-item;cursor:pointer>\n",
       "\t\t<strong>Levels</strong>:\n",
       "\t</summary>\n",
       "\t<ol class=list-inline>\n",
       "\t\t<li>'1'</li>\n",
       "\t\t<li>'2'</li>\n",
       "\t\t<li>'3'</li>\n",
       "\t</ol>\n",
       "</details>"
      ],
      "text/latex": [
       "\\begin{enumerate*}\n",
       "\\item 1\n",
       "\\item 1\n",
       "\\item 1\n",
       "\\item 1\n",
       "\\item 1\n",
       "\\item 1\n",
       "\\item 1\n",
       "\\item 1\n",
       "\\item 1\n",
       "\\item 1\n",
       "\\item 2\n",
       "\\item 2\n",
       "\\item 2\n",
       "\\item 2\n",
       "\\item 2\n",
       "\\item 2\n",
       "\\item 2\n",
       "\\item 2\n",
       "\\item 2\n",
       "\\item 2\n",
       "\\item 3\n",
       "\\item 3\n",
       "\\item 3\n",
       "\\item 3\n",
       "\\item 3\n",
       "\\item 3\n",
       "\\item 3\n",
       "\\item 3\n",
       "\\item 3\n",
       "\\item 3\n",
       "\\end{enumerate*}\n",
       "\n",
       "\\emph{Levels}: \\begin{enumerate*}\n",
       "\\item '1'\n",
       "\\item '2'\n",
       "\\item '3'\n",
       "\\end{enumerate*}\n"
      ],
      "text/markdown": [
       "1. 1\n",
       "2. 1\n",
       "3. 1\n",
       "4. 1\n",
       "5. 1\n",
       "6. 1\n",
       "7. 1\n",
       "8. 1\n",
       "9. 1\n",
       "10. 1\n",
       "11. 2\n",
       "12. 2\n",
       "13. 2\n",
       "14. 2\n",
       "15. 2\n",
       "16. 2\n",
       "17. 2\n",
       "18. 2\n",
       "19. 2\n",
       "20. 2\n",
       "21. 3\n",
       "22. 3\n",
       "23. 3\n",
       "24. 3\n",
       "25. 3\n",
       "26. 3\n",
       "27. 3\n",
       "28. 3\n",
       "29. 3\n",
       "30. 3\n",
       "\n",
       "\n",
       "\n",
       "**Levels**: 1. '1'\n",
       "2. '2'\n",
       "3. '3'\n",
       "\n",
       "\n"
      ],
      "text/plain": [
       " [1] 1 1 1 1 1 1 1 1 1 1 2 2 2 2 2 2 2 2 2 2 3 3 3 3 3 3 3 3 3 3\n",
       "Levels: 1 2 3"
      ]
     },
     "metadata": {},
     "output_type": "display_data"
    },
    {
     "name": "stdout",
     "output_type": "stream",
     "text": [
      "   1    2    3 \n",
      " 1.0 15.5 10.0 \n"
     ]
    },
    {
     "data": {
      "text/html": [
       "'array'"
      ],
      "text/latex": [
       "'array'"
      ],
      "text/markdown": [
       "'array'"
      ],
      "text/plain": [
       "[1] \"array\""
      ]
     },
     "metadata": {},
     "output_type": "display_data"
    },
    {
     "data": {
      "text/html": [
       "'==========='"
      ],
      "text/latex": [
       "'==========='"
      ],
      "text/markdown": [
       "'==========='"
      ],
      "text/plain": [
       "[1] \"===========\""
      ]
     },
     "metadata": {},
     "output_type": "display_data"
    },
    {
     "data": {
      "text/html": [
       "'array'"
      ],
      "text/latex": [
       "'array'"
      ],
      "text/markdown": [
       "'array'"
      ],
      "text/plain": [
       "[1] \"array\""
      ]
     },
     "metadata": {},
     "output_type": "display_data"
    },
    {
     "name": "stdout",
     "output_type": "stream",
     "text": [
      "$`1`\n",
      "[1] 1 1\n",
      "\n",
      "$`2`\n",
      "[1] 11 20\n",
      "\n",
      "$`3`\n",
      "[1] 10 10\n",
      "\n"
     ]
    },
    {
     "data": {
      "text/html": [
       "<strong>$`2`</strong> = <ol class=list-inline>\n",
       "\t<li>11</li>\n",
       "\t<li>20</li>\n",
       "</ol>\n"
      ],
      "text/latex": [
       "\\textbf{\\$`2`} = \\begin{enumerate*}\n",
       "\\item 11\n",
       "\\item 20\n",
       "\\end{enumerate*}\n"
      ],
      "text/markdown": [
       "**$`2`** = 1. 11\n",
       "2. 20\n",
       "\n",
       "\n"
      ],
      "text/plain": [
       "$`2`\n",
       "[1] 11 20\n"
      ]
     },
     "metadata": {},
     "output_type": "display_data"
    }
   ],
   "source": [
    "# x=c(rnorm(10, 0), runif(10, min=10, max=20), rnorm(10, 10)); x\n",
    "x=c(rep(1, 10), 11:20, rep(10, 10)); x\n",
    "f=gl(3, 10); f #Generate Factor Levels\n",
    "# f=1:30; f\n",
    "y=tapply(x, f, mean)\n",
    "print(y)\n",
    "class(y)\n",
    "'==========='\n",
    "# y=tapply(x, f, mean, simplify=F); y\n",
    "\n",
    "z=tapply(x, f, range)\n",
    "class(z)\n",
    "print(z)\n",
    "z[2]"
   ]
  },
  {
   "cell_type": "code",
   "execution_count": 57,
   "metadata": {},
   "outputs": [
    {
     "data": {
      "text/html": [
       "'list'"
      ],
      "text/latex": [
       "'list'"
      ],
      "text/markdown": [
       "'list'"
      ],
      "text/plain": [
       "[1] \"list\""
      ]
     },
     "metadata": {},
     "output_type": "display_data"
    },
    {
     "name": "stdout",
     "output_type": "stream",
     "text": [
      "[[1]]\n",
      "[1] 1 1 1 1\n",
      "\n",
      "[[2]]\n",
      "[1] 2 2 2\n",
      "\n",
      "[[3]]\n",
      "[1] 3 3\n",
      "\n",
      "[[4]]\n",
      "[1] 4\n",
      "\n"
     ]
    }
   ],
   "source": [
    "x=mapply(rep, 1:4, 4:1)\n",
    "class(x)\n",
    "print(x)"
   ]
  },
  {
   "cell_type": "code",
   "execution_count": 58,
   "metadata": {
    "scrolled": false
   },
   "outputs": [
    {
     "name": "stdout",
     "output_type": "stream",
     "text": [
      "[[1]]\n",
      "[1] 1 1 1 1\n",
      "\n",
      "[[2]]\n",
      "[1] 2 2 2\n",
      "\n",
      "[[3]]\n",
      "[1] 3 3\n",
      "\n",
      "[[4]]\n",
      "[1] 4\n",
      "\n",
      "[[1]]\n",
      "[1] 1 1 1 1\n",
      "\n",
      "[[2]]\n",
      "[1] 2 2 2\n",
      "\n",
      "[[3]]\n",
      "[1] 3 3\n",
      "\n",
      "[[4]]\n",
      "[1] 4\n",
      "\n"
     ]
    }
   ],
   "source": [
    "x=mapply(rep, 1:4, 4:1)\n",
    "print(x)\n",
    "print(list(rep(1,4), rep(2,3), rep(3,2), rep(4,1)))"
   ]
  },
  {
   "cell_type": "code",
   "execution_count": 73,
   "metadata": {},
   "outputs": [
    {
     "name": "stdout",
     "output_type": "stream",
     "text": [
      "function (FUN, ..., MoreArgs = NULL, SIMPLIFY = TRUE, USE.NAMES = TRUE)  \n"
     ]
    },
    {
     "data": {
      "text/html": [
       "'character'"
      ],
      "text/latex": [
       "'character'"
      ],
      "text/markdown": [
       "'character'"
      ],
      "text/plain": [
       "[1] \"character\""
      ]
     },
     "metadata": {},
     "output_type": "display_data"
    },
    {
     "name": "stdout",
     "output_type": "stream",
     "text": [
      "[1] \"1 4 9\" \"2 5 9\" \"3 6 9\"\n"
     ]
    }
   ],
   "source": [
    "f=function(x,y,z){paste(x,y,z)}\n",
    "str(mapply)\n",
    "x=mapply(f, 1:3, 4:6, 9) #vector recycling\n",
    "class(x)\n",
    "print(x)"
   ]
  },
  {
   "cell_type": "code",
   "execution_count": 74,
   "metadata": {},
   "outputs": [
    {
     "data": {
      "text/html": [
       "<style>\n",
       ".list-inline {list-style: none; margin:0; padding: 0}\n",
       ".list-inline>li {display: inline-block}\n",
       ".list-inline>li:not(:last-child)::after {content: \"\\00b7\"; padding: 0 .5ex}\n",
       "</style>\n",
       "<ol class=list-inline><li>'1 4 1'</li><li>'2 5 2'</li><li>'3 6 3'</li><li>'1 4 4'</li><li>'2 5 5'</li><li>'3 6 6'</li><li>'1 4 7'</li><li>'2 5 8'</li><li>'3 6 9'</li></ol>\n"
      ],
      "text/latex": [
       "\\begin{enumerate*}\n",
       "\\item '1 4 1'\n",
       "\\item '2 5 2'\n",
       "\\item '3 6 3'\n",
       "\\item '1 4 4'\n",
       "\\item '2 5 5'\n",
       "\\item '3 6 6'\n",
       "\\item '1 4 7'\n",
       "\\item '2 5 8'\n",
       "\\item '3 6 9'\n",
       "\\end{enumerate*}\n"
      ],
      "text/markdown": [
       "1. '1 4 1'\n",
       "2. '2 5 2'\n",
       "3. '3 6 3'\n",
       "4. '1 4 4'\n",
       "5. '2 5 5'\n",
       "6. '3 6 6'\n",
       "7. '1 4 7'\n",
       "8. '2 5 8'\n",
       "9. '3 6 9'\n",
       "\n",
       "\n"
      ],
      "text/plain": [
       "[1] \"1 4 1\" \"2 5 2\" \"3 6 3\" \"1 4 4\" \"2 5 5\" \"3 6 6\" \"1 4 7\" \"2 5 8\" \"3 6 9\""
      ]
     },
     "metadata": {},
     "output_type": "display_data"
    }
   ],
   "source": [
    "# mapply(f, 1:3, 4:6, 1:8)\n",
    "mapply(f, 1:3, 4:6, 1:9)"
   ]
  },
  {
   "cell_type": "code",
   "execution_count": 77,
   "metadata": {
    "scrolled": true
   },
   "outputs": [
    {
     "data": {
      "text/html": [
       "'list'"
      ],
      "text/latex": [
       "'list'"
      ],
      "text/markdown": [
       "'list'"
      ],
      "text/plain": [
       "[1] \"list\""
      ]
     },
     "metadata": {},
     "output_type": "display_data"
    },
    {
     "name": "stdout",
     "output_type": "stream",
     "text": [
      "[[1]]\n",
      "[1] \"1 4 9\"\n",
      "\n",
      "[[2]]\n",
      "[1] \"2 5 9\"\n",
      "\n",
      "[[3]]\n",
      "[1] \"3 6 9\"\n",
      "\n"
     ]
    },
    {
     "data": {
      "text/html": [
       "<ol>\n",
       "\t<li>'1 4 9'</li>\n",
       "\t<li>'2 5 9'</li>\n",
       "\t<li>'3 6 9'</li>\n",
       "</ol>\n"
      ],
      "text/latex": [
       "\\begin{enumerate}\n",
       "\\item '1 4 9'\n",
       "\\item '2 5 9'\n",
       "\\item '3 6 9'\n",
       "\\end{enumerate}\n"
      ],
      "text/markdown": [
       "1. '1 4 9'\n",
       "2. '2 5 9'\n",
       "3. '3 6 9'\n",
       "\n",
       "\n"
      ],
      "text/plain": [
       "[[1]]\n",
       "[1] \"1 4 9\"\n",
       "\n",
       "[[2]]\n",
       "[1] \"2 5 9\"\n",
       "\n",
       "[[3]]\n",
       "[1] \"3 6 9\"\n"
      ]
     },
     "metadata": {},
     "output_type": "display_data"
    }
   ],
   "source": [
    "#SIMPLIFY logical or character string; attempt to reduce the result to a vector, matrix or higher dimensional array\n",
    "x=mapply(f, 1:3, 4:6, 9, SIMPLIFY=FALSE)\n",
    "class(x)\n",
    "print(x)\n",
    "list(f(1,4,9), f(2,5,9), f(3,6,9))"
   ]
  },
  {
   "cell_type": "code",
   "execution_count": 79,
   "metadata": {},
   "outputs": [
    {
     "data": {
      "text/html": [
       "<style>\n",
       ".list-inline {list-style: none; margin:0; padding: 0}\n",
       ".list-inline>li {display: inline-block}\n",
       ".list-inline>li:not(:last-child)::after {content: \"\\00b7\"; padding: 0 .5ex}\n",
       "</style>\n",
       "<ol class=list-inline><li>'1 4 9'</li><li>'2 5 9'</li><li>'3 6 9'</li></ol>\n"
      ],
      "text/latex": [
       "\\begin{enumerate*}\n",
       "\\item '1 4 9'\n",
       "\\item '2 5 9'\n",
       "\\item '3 6 9'\n",
       "\\end{enumerate*}\n"
      ],
      "text/markdown": [
       "1. '1 4 9'\n",
       "2. '2 5 9'\n",
       "3. '3 6 9'\n",
       "\n",
       "\n"
      ],
      "text/plain": [
       "[1] \"1 4 9\" \"2 5 9\" \"3 6 9\""
      ]
     },
     "metadata": {},
     "output_type": "display_data"
    }
   ],
   "source": [
    "mapply(f, 1:3, 4:6, 9, SIMPLIFY=TRUE)"
   ]
  },
  {
   "cell_type": "code",
   "execution_count": 60,
   "metadata": {},
   "outputs": [
    {
     "data": {
      "text/html": [
       "<ol class=list-inline>\n",
       "\t<li>-0.873262111744435</li>\n",
       "\t<li>0.00837095999603331</li>\n",
       "\t<li>-0.880871723252545</li>\n",
       "\t<li>0.59625901661066</li>\n",
       "\t<li>0.119717641289537</li>\n",
       "\t<li>-0.282173877322451</li>\n",
       "\t<li>1.45598840106634</li>\n",
       "\t<li>0.229019590694692</li>\n",
       "\t<li>0.996543928544126</li>\n",
       "\t<li>0.781859184600258</li>\n",
       "</ol>\n"
      ],
      "text/latex": [
       "\\begin{enumerate*}\n",
       "\\item -0.873262111744435\n",
       "\\item 0.00837095999603331\n",
       "\\item -0.880871723252545\n",
       "\\item 0.59625901661066\n",
       "\\item 0.119717641289537\n",
       "\\item -0.282173877322451\n",
       "\\item 1.45598840106634\n",
       "\\item 0.229019590694692\n",
       "\\item 0.996543928544126\n",
       "\\item 0.781859184600258\n",
       "\\end{enumerate*}\n"
      ],
      "text/markdown": [
       "1. -0.873262111744435\n",
       "2. 0.00837095999603331\n",
       "3. -0.880871723252545\n",
       "4. 0.59625901661066\n",
       "5. 0.119717641289537\n",
       "6. -0.282173877322451\n",
       "7. 1.45598840106634\n",
       "8. 0.229019590694692\n",
       "9. 0.996543928544126\n",
       "10. 0.781859184600258\n",
       "\n",
       "\n"
      ],
      "text/plain": [
       " [1] -0.87326211  0.00837096 -0.88087172  0.59625902  0.11971764 -0.28217388\n",
       " [7]  1.45598840  0.22901959  0.99654393  0.78185918"
      ]
     },
     "metadata": {},
     "output_type": "display_data"
    },
    {
     "data": {
      "text/html": [
       "<ol class=list-inline>\n",
       "\t<li>-0.776776621764597</li>\n",
       "\t<li>-0.615989907707918</li>\n",
       "\t<li>0.0465803028049967</li>\n",
       "\t<li>-1.13038577760069</li>\n",
       "\t<li>0.576718781896486</li>\n",
       "\t<li>-1.28074943178832</li>\n",
       "\t<li>1.62544730346494</li>\n",
       "\t<li>-0.500696596002705</li>\n",
       "\t<li>1.67829720781629</li>\n",
       "\t<li>-0.412519887482398</li>\n",
       "</ol>\n"
      ],
      "text/latex": [
       "\\begin{enumerate*}\n",
       "\\item -0.776776621764597\n",
       "\\item -0.615989907707918\n",
       "\\item 0.0465803028049967\n",
       "\\item -1.13038577760069\n",
       "\\item 0.576718781896486\n",
       "\\item -1.28074943178832\n",
       "\\item 1.62544730346494\n",
       "\\item -0.500696596002705\n",
       "\\item 1.67829720781629\n",
       "\\item -0.412519887482398\n",
       "\\end{enumerate*}\n"
      ],
      "text/markdown": [
       "1. -0.776776621764597\n",
       "2. -0.615989907707918\n",
       "3. 0.0465803028049967\n",
       "4. -1.13038577760069\n",
       "5. 0.576718781896486\n",
       "6. -1.28074943178832\n",
       "7. 1.62544730346494\n",
       "8. -0.500696596002705\n",
       "9. 1.67829720781629\n",
       "10. -0.412519887482398\n",
       "\n",
       "\n"
      ],
      "text/plain": [
       " [1] -0.7767766 -0.6159899  0.0465803 -1.1303858  0.5767188 -1.2807494\n",
       " [7]  1.6254473 -0.5006966  1.6782972 -0.4125199"
      ]
     },
     "metadata": {},
     "output_type": "display_data"
    },
    {
     "data": {
      "text/html": [
       "<ol class=list-inline>\n",
       "\t<li>-0.776776621764597</li>\n",
       "\t<li>0.00837095999603331</li>\n",
       "\t<li>0.0465803028049967</li>\n",
       "\t<li>0.59625901661066</li>\n",
       "\t<li>0.576718781896486</li>\n",
       "\t<li>-0.282173877322451</li>\n",
       "\t<li>1.62544730346494</li>\n",
       "\t<li>0.229019590694692</li>\n",
       "\t<li>1.67829720781629</li>\n",
       "\t<li>0.781859184600258</li>\n",
       "</ol>\n"
      ],
      "text/latex": [
       "\\begin{enumerate*}\n",
       "\\item -0.776776621764597\n",
       "\\item 0.00837095999603331\n",
       "\\item 0.0465803028049967\n",
       "\\item 0.59625901661066\n",
       "\\item 0.576718781896486\n",
       "\\item -0.282173877322451\n",
       "\\item 1.62544730346494\n",
       "\\item 0.229019590694692\n",
       "\\item 1.67829720781629\n",
       "\\item 0.781859184600258\n",
       "\\end{enumerate*}\n"
      ],
      "text/markdown": [
       "1. -0.776776621764597\n",
       "2. 0.00837095999603331\n",
       "3. 0.0465803028049967\n",
       "4. 0.59625901661066\n",
       "5. 0.576718781896486\n",
       "6. -0.282173877322451\n",
       "7. 1.62544730346494\n",
       "8. 0.229019590694692\n",
       "9. 1.67829720781629\n",
       "10. 0.781859184600258\n",
       "\n",
       "\n"
      ],
      "text/plain": [
       " [1] -0.77677662  0.00837096  0.04658030  0.59625902  0.57671878 -0.28217388\n",
       " [7]  1.62544730  0.22901959  1.67829721  0.78185918"
      ]
     },
     "metadata": {},
     "output_type": "display_data"
    },
    {
     "data": {
      "text/html": [
       "<ol class=list-inline>\n",
       "\t<li>1</li>\n",
       "\t<li>2</li>\n",
       "\t<li>3</li>\n",
       "\t<li>4</li>\n",
       "\t<li>5</li>\n",
       "</ol>\n"
      ],
      "text/latex": [
       "\\begin{enumerate*}\n",
       "\\item 1\n",
       "\\item 2\n",
       "\\item 3\n",
       "\\item 4\n",
       "\\item 5\n",
       "\\end{enumerate*}\n"
      ],
      "text/markdown": [
       "1. 1\n",
       "2. 2\n",
       "3. 3\n",
       "4. 4\n",
       "5. 5\n",
       "\n",
       "\n"
      ],
      "text/plain": [
       "[1] 1 2 3 4 5"
      ]
     },
     "metadata": {},
     "output_type": "display_data"
    },
    {
     "data": {
      "text/html": [
       "'=============='"
      ],
      "text/latex": [
       "'=============='"
      ],
      "text/markdown": [
       "'=============='"
      ],
      "text/plain": [
       "[1] \"==============\""
      ]
     },
     "metadata": {},
     "output_type": "display_data"
    },
    {
     "data": {
      "text/html": [
       "<ol class=list-inline>\n",
       "\t<li>-0.776776621764597</li>\n",
       "\t<li>0.00837095999603331</li>\n",
       "\t<li>0.0465803028049967</li>\n",
       "\t<li>0.59625901661066</li>\n",
       "\t<li>0.576718781896486</li>\n",
       "\t<li>-0.282173877322451</li>\n",
       "\t<li>1.62544730346494</li>\n",
       "\t<li>0.229019590694692</li>\n",
       "\t<li>1.67829720781629</li>\n",
       "\t<li>0.781859184600258</li>\n",
       "</ol>\n"
      ],
      "text/latex": [
       "\\begin{enumerate*}\n",
       "\\item -0.776776621764597\n",
       "\\item 0.00837095999603331\n",
       "\\item 0.0465803028049967\n",
       "\\item 0.59625901661066\n",
       "\\item 0.576718781896486\n",
       "\\item -0.282173877322451\n",
       "\\item 1.62544730346494\n",
       "\\item 0.229019590694692\n",
       "\\item 1.67829720781629\n",
       "\\item 0.781859184600258\n",
       "\\end{enumerate*}\n"
      ],
      "text/markdown": [
       "1. -0.776776621764597\n",
       "2. 0.00837095999603331\n",
       "3. 0.0465803028049967\n",
       "4. 0.59625901661066\n",
       "5. 0.576718781896486\n",
       "6. -0.282173877322451\n",
       "7. 1.62544730346494\n",
       "8. 0.229019590694692\n",
       "9. 1.67829720781629\n",
       "10. 0.781859184600258\n",
       "\n",
       "\n"
      ],
      "text/plain": [
       " [1] -0.77677662  0.00837096  0.04658030  0.59625902  0.57671878 -0.28217388\n",
       " [7]  1.62544730  0.22901959  1.67829721  0.78185918"
      ]
     },
     "metadata": {},
     "output_type": "display_data"
    },
    {
     "data": {
      "text/html": [
       "<ol class=list-inline>\n",
       "\t<li>1</li>\n",
       "\t<li>2</li>\n",
       "\t<li>3</li>\n",
       "\t<li>4</li>\n",
       "\t<li>5</li>\n",
       "</ol>\n"
      ],
      "text/latex": [
       "\\begin{enumerate*}\n",
       "\\item 1\n",
       "\\item 2\n",
       "\\item 3\n",
       "\\item 4\n",
       "\\item 5\n",
       "\\end{enumerate*}\n"
      ],
      "text/markdown": [
       "1. 1\n",
       "2. 2\n",
       "3. 3\n",
       "4. 4\n",
       "5. 5\n",
       "\n",
       "\n"
      ],
      "text/plain": [
       "[1] 1 2 3 4 5"
      ]
     },
     "metadata": {},
     "output_type": "display_data"
    }
   ],
   "source": [
    "m=function(x,y){ifelse(x>y, x, y)}\n",
    "# set.seed(0)\n",
    "x=rnorm(10)\n",
    "y=rnorm(10)\n",
    "x\n",
    "y\n",
    "m(x,y)\n",
    "m(1:5, 1)\n",
    "'=============='\n",
    "mapply(m, x, y)\n",
    "mapply(m, 1:5, 1)"
   ]
  },
  {
   "cell_type": "code",
   "execution_count": 61,
   "metadata": {},
   "outputs": [
    {
     "data": {
      "text/html": [
       "88.4722222222222"
      ],
      "text/latex": [
       "88.4722222222222"
      ],
      "text/markdown": [
       "88.4722222222222"
      ],
      "text/plain": [
       "[1] 88.47222"
      ]
     },
     "metadata": {},
     "output_type": "display_data"
    }
   ],
   "source": [
    "sumsq = function(mu, sigma, x){sum(((x-mu)/sigma)^2)}\n",
    "mu=1:3\n",
    "sigma=1:3\n",
    "x=5:10\n",
    "sumsq(mu, sigma, x)"
   ]
  },
  {
   "cell_type": "code",
   "execution_count": 62,
   "metadata": {},
   "outputs": [
    {
     "data": {
      "text/html": [
       "<ol class=list-inline>\n",
       "\t<li>4</li>\n",
       "\t<li>4</li>\n",
       "\t<li>4</li>\n",
       "\t<li>7</li>\n",
       "\t<li>7</li>\n",
       "\t<li>7</li>\n",
       "</ol>\n"
      ],
      "text/latex": [
       "\\begin{enumerate*}\n",
       "\\item 4\n",
       "\\item 4\n",
       "\\item 4\n",
       "\\item 7\n",
       "\\item 7\n",
       "\\item 7\n",
       "\\end{enumerate*}\n"
      ],
      "text/markdown": [
       "1. 4\n",
       "2. 4\n",
       "3. 4\n",
       "4. 7\n",
       "5. 7\n",
       "6. 7\n",
       "\n",
       "\n"
      ],
      "text/plain": [
       "[1] 4 4 4 7 7 7"
      ]
     },
     "metadata": {},
     "output_type": "display_data"
    },
    {
     "data": {
      "text/html": [
       "<ol class=list-inline>\n",
       "\t<li>4</li>\n",
       "\t<li>2</li>\n",
       "\t<li>1.33333333333333</li>\n",
       "\t<li>7</li>\n",
       "\t<li>3.5</li>\n",
       "\t<li>2.33333333333333</li>\n",
       "</ol>\n"
      ],
      "text/latex": [
       "\\begin{enumerate*}\n",
       "\\item 4\n",
       "\\item 2\n",
       "\\item 1.33333333333333\n",
       "\\item 7\n",
       "\\item 3.5\n",
       "\\item 2.33333333333333\n",
       "\\end{enumerate*}\n"
      ],
      "text/markdown": [
       "1. 4\n",
       "2. 2\n",
       "3. 1.33333333333333\n",
       "4. 7\n",
       "5. 3.5\n",
       "6. 2.33333333333333\n",
       "\n",
       "\n"
      ],
      "text/plain": [
       "[1] 4.000000 2.000000 1.333333 7.000000 3.500000 2.333333"
      ]
     },
     "metadata": {},
     "output_type": "display_data"
    },
    {
     "data": {
      "text/html": [
       "<ol class=list-inline>\n",
       "\t<li>4</li>\n",
       "\t<li>2</li>\n",
       "\t<li>1.33333333333333</li>\n",
       "\t<li>7</li>\n",
       "\t<li>3.5</li>\n",
       "\t<li>2.33333333333333</li>\n",
       "</ol>\n"
      ],
      "text/latex": [
       "\\begin{enumerate*}\n",
       "\\item 4\n",
       "\\item 2\n",
       "\\item 1.33333333333333\n",
       "\\item 7\n",
       "\\item 3.5\n",
       "\\item 2.33333333333333\n",
       "\\end{enumerate*}\n"
      ],
      "text/markdown": [
       "1. 4\n",
       "2. 2\n",
       "3. 1.33333333333333\n",
       "4. 7\n",
       "5. 3.5\n",
       "6. 2.33333333333333\n",
       "\n",
       "\n"
      ],
      "text/plain": [
       "[1] 4.000000 2.000000 1.333333 7.000000 3.500000 2.333333"
      ]
     },
     "metadata": {},
     "output_type": "display_data"
    }
   ],
   "source": [
    "x-mu\n",
    "(x-mu)/sigma\n",
    "c((5-1)/1, (6-2)/2, (7-3)/3, (8-1)/1, (9-2)/2, (10-3)/3)"
   ]
  },
  {
   "cell_type": "code",
   "execution_count": 63,
   "metadata": {},
   "outputs": [
    {
     "data": {
      "text/html": [
       "<ol class=list-inline>\n",
       "\t<li>16</li>\n",
       "\t<li>4</li>\n",
       "\t<li>1.77777777777778</li>\n",
       "\t<li>49</li>\n",
       "\t<li>12.25</li>\n",
       "\t<li>5.44444444444445</li>\n",
       "</ol>\n"
      ],
      "text/latex": [
       "\\begin{enumerate*}\n",
       "\\item 16\n",
       "\\item 4\n",
       "\\item 1.77777777777778\n",
       "\\item 49\n",
       "\\item 12.25\n",
       "\\item 5.44444444444445\n",
       "\\end{enumerate*}\n"
      ],
      "text/markdown": [
       "1. 16\n",
       "2. 4\n",
       "3. 1.77777777777778\n",
       "4. 49\n",
       "5. 12.25\n",
       "6. 5.44444444444445\n",
       "\n",
       "\n"
      ],
      "text/plain": [
       "[1] 16.000000  4.000000  1.777778 49.000000 12.250000  5.444444"
      ]
     },
     "metadata": {},
     "output_type": "display_data"
    }
   ],
   "source": [
    "((x-mu)/sigma)^2"
   ]
  },
  {
   "cell_type": "code",
   "execution_count": 64,
   "metadata": {},
   "outputs": [
    {
     "data": {
      "text/html": [
       "88.4722222222222"
      ],
      "text/latex": [
       "88.4722222222222"
      ],
      "text/markdown": [
       "88.4722222222222"
      ],
      "text/plain": [
       "[1] 88.47222"
      ]
     },
     "metadata": {},
     "output_type": "display_data"
    }
   ],
   "source": [
    "sum(((x-mu)/sigma)^2)"
   ]
  },
  {
   "cell_type": "code",
   "execution_count": 1,
   "metadata": {},
   "outputs": [
    {
     "data": {
      "text/html": [
       "<ol class=list-inline>\n",
       "\t<li>1</li>\n",
       "\t<li>2</li>\n",
       "\t<li>3</li>\n",
       "\t<li>4</li>\n",
       "\t<li>5</li>\n",
       "\t<li>6</li>\n",
       "\t<li>7</li>\n",
       "\t<li>8</li>\n",
       "\t<li>9</li>\n",
       "\t<li>10</li>\n",
       "</ol>\n"
      ],
      "text/latex": [
       "\\begin{enumerate*}\n",
       "\\item 1\n",
       "\\item 2\n",
       "\\item 3\n",
       "\\item 4\n",
       "\\item 5\n",
       "\\item 6\n",
       "\\item 7\n",
       "\\item 8\n",
       "\\item 9\n",
       "\\item 10\n",
       "\\end{enumerate*}\n"
      ],
      "text/markdown": [
       "1. 1\n",
       "2. 2\n",
       "3. 3\n",
       "4. 4\n",
       "5. 5\n",
       "6. 6\n",
       "7. 7\n",
       "8. 8\n",
       "9. 9\n",
       "10. 10\n",
       "\n",
       "\n"
      ],
      "text/plain": [
       " [1]  1  2  3  4  5  6  7  8  9 10"
      ]
     },
     "metadata": {},
     "output_type": "display_data"
    },
    {
     "data": {
      "text/html": [
       "<ol class=list-inline>\n",
       "\t<li>1</li>\n",
       "\t<li>2</li>\n",
       "\t<li>3</li>\n",
       "\t<li>4</li>\n",
       "\t<li>5</li>\n",
       "\t<li>6</li>\n",
       "\t<li>7</li>\n",
       "\t<li>8</li>\n",
       "\t<li>9</li>\n",
       "\t<li>10</li>\n",
       "</ol>\n"
      ],
      "text/latex": [
       "\\begin{enumerate*}\n",
       "\\item 1\n",
       "\\item 2\n",
       "\\item 3\n",
       "\\item 4\n",
       "\\item 5\n",
       "\\item 6\n",
       "\\item 7\n",
       "\\item 8\n",
       "\\item 9\n",
       "\\item 10\n",
       "\\end{enumerate*}\n"
      ],
      "text/markdown": [
       "1. 1\n",
       "2. 2\n",
       "3. 3\n",
       "4. 4\n",
       "5. 5\n",
       "6. 6\n",
       "7. 7\n",
       "8. 8\n",
       "9. 9\n",
       "10. 10\n",
       "\n",
       "\n"
      ],
      "text/plain": [
       " [1]  1  2  3  4  5  6  7  8  9 10"
      ]
     },
     "metadata": {},
     "output_type": "display_data"
    },
    {
     "data": {
      "text/html": [
       "<ol class=list-inline>\n",
       "\t<li>'1,1,1'</li>\n",
       "\t<li>'2,2,2'</li>\n",
       "\t<li>'3,3,1'</li>\n",
       "\t<li>'4,4,2'</li>\n",
       "\t<li>'5,5,1'</li>\n",
       "\t<li>'6,6,2'</li>\n",
       "\t<li>'7,7,1'</li>\n",
       "\t<li>'8,8,2'</li>\n",
       "\t<li>'9,9,1'</li>\n",
       "\t<li>'10,10,2'</li>\n",
       "</ol>\n"
      ],
      "text/latex": [
       "\\begin{enumerate*}\n",
       "\\item '1,1,1'\n",
       "\\item '2,2,2'\n",
       "\\item '3,3,1'\n",
       "\\item '4,4,2'\n",
       "\\item '5,5,1'\n",
       "\\item '6,6,2'\n",
       "\\item '7,7,1'\n",
       "\\item '8,8,2'\n",
       "\\item '9,9,1'\n",
       "\\item '10,10,2'\n",
       "\\end{enumerate*}\n"
      ],
      "text/markdown": [
       "1. '1,1,1'\n",
       "2. '2,2,2'\n",
       "3. '3,3,1'\n",
       "4. '4,4,2'\n",
       "5. '5,5,1'\n",
       "6. '6,6,2'\n",
       "7. '7,7,1'\n",
       "8. '8,8,2'\n",
       "9. '9,9,1'\n",
       "10. '10,10,2'\n",
       "\n",
       "\n"
      ],
      "text/plain": [
       " [1] \"1,1,1\"   \"2,2,2\"   \"3,3,1\"   \"4,4,2\"   \"5,5,1\"   \"6,6,2\"   \"7,7,1\"  \n",
       " [8] \"8,8,2\"   \"9,9,1\"   \"10,10,2\""
      ]
     },
     "metadata": {},
     "output_type": "display_data"
    }
   ],
   "source": [
    "x=1:10;x\n",
    "y=1:10;y\n",
    "m=function(x,y,z){paste(x, y, z, sep=\",\")}\n",
    "m(x, y, 1:2)"
   ]
  },
  {
   "cell_type": "code",
   "execution_count": 3,
   "metadata": {},
   "outputs": [
    {
     "data": {
      "text/html": [
       "'character'"
      ],
      "text/latex": [
       "'character'"
      ],
      "text/markdown": [
       "'character'"
      ],
      "text/plain": [
       "[1] \"character\""
      ]
     },
     "metadata": {},
     "output_type": "display_data"
    },
    {
     "name": "stdout",
     "output_type": "stream",
     "text": [
      " [1] \"1,1,1\"   \"2,2,2\"   \"3,3,3\"   \"4,4,4\"   \"5,5,5\"   \"6,6,1\"   \"7,7,2\"  \n",
      " [8] \"8,8,3\"   \"9,9,4\"   \"10,10,5\"\n"
     ]
    }
   ],
   "source": [
    "z=mapply(m, x, y, 1:5)\n",
    "class(z);print(z)"
   ]
  },
  {
   "cell_type": "code",
   "execution_count": 4,
   "metadata": {
    "scrolled": false
   },
   "outputs": [
    {
     "data": {
      "text/html": [
       "'matrix'"
      ],
      "text/latex": [
       "'matrix'"
      ],
      "text/markdown": [
       "'matrix'"
      ],
      "text/plain": [
       "[1] \"matrix\""
      ]
     },
     "metadata": {},
     "output_type": "display_data"
    },
    {
     "name": "stdout",
     "output_type": "stream",
     "text": [
      "     [,1]    [,2]    [,3]    [,4]    [,5]    [,6]    [,7]    [,8]    [,9]   \n",
      "[1,] \"1,1,1\" \"2,2,1\" \"3,3,1\" \"4,4,1\" \"5,5,1\" \"6,6,1\" \"7,7,1\" \"8,8,1\" \"9,9,1\"\n",
      "[2,] \"1,1,2\" \"2,2,2\" \"3,3,2\" \"4,4,2\" \"5,5,2\" \"6,6,2\" \"7,7,2\" \"8,8,2\" \"9,9,2\"\n",
      "[3,] \"1,1,3\" \"2,2,3\" \"3,3,3\" \"4,4,3\" \"5,5,3\" \"6,6,3\" \"7,7,3\" \"8,8,3\" \"9,9,3\"\n",
      "[4,] \"1,1,4\" \"2,2,4\" \"3,3,4\" \"4,4,4\" \"5,5,4\" \"6,6,4\" \"7,7,4\" \"8,8,4\" \"9,9,4\"\n",
      "[5,] \"1,1,5\" \"2,2,5\" \"3,3,5\" \"4,4,5\" \"5,5,5\" \"6,6,5\" \"7,7,5\" \"8,8,5\" \"9,9,5\"\n",
      "     [,10]    \n",
      "[1,] \"10,10,1\"\n",
      "[2,] \"10,10,2\"\n",
      "[3,] \"10,10,3\"\n",
      "[4,] \"10,10,4\"\n",
      "[5,] \"10,10,5\"\n"
     ]
    }
   ],
   "source": [
    "z=mapply(m, x, y, MoreArgs=list(z=1:5))\n",
    "class(z);print(z)"
   ]
  },
  {
   "cell_type": "code",
   "execution_count": 66,
   "metadata": {
    "scrolled": true
   },
   "outputs": [
    {
     "name": "stdout",
     "output_type": "stream",
     "text": [
      "function (x, y, z)  \n"
     ]
    },
    {
     "data": {
      "text/html": [
       "<table>\n",
       "<caption>A matrix: 5 × 10 of type chr</caption>\n",
       "<tbody>\n",
       "\t<tr><td>1,1,1</td><td>2,2,1</td><td>3,3,1</td><td>4,4,1</td><td>5,5,1</td><td>6,6,1</td><td>7,7,1</td><td>8,8,1</td><td>9,9,1</td><td>10,10,1</td></tr>\n",
       "\t<tr><td>1,1,2</td><td>2,2,2</td><td>3,3,2</td><td>4,4,2</td><td>5,5,2</td><td>6,6,2</td><td>7,7,2</td><td>8,8,2</td><td>9,9,2</td><td>10,10,2</td></tr>\n",
       "\t<tr><td>1,1,3</td><td>2,2,3</td><td>3,3,3</td><td>4,4,3</td><td>5,5,3</td><td>6,6,3</td><td>7,7,3</td><td>8,8,3</td><td>9,9,3</td><td>10,10,3</td></tr>\n",
       "\t<tr><td>1,1,4</td><td>2,2,4</td><td>3,3,4</td><td>4,4,4</td><td>5,5,4</td><td>6,6,4</td><td>7,7,4</td><td>8,8,4</td><td>9,9,4</td><td>10,10,4</td></tr>\n",
       "\t<tr><td>1,1,5</td><td>2,2,5</td><td>3,3,5</td><td>4,4,5</td><td>5,5,5</td><td>6,6,5</td><td>7,7,5</td><td>8,8,5</td><td>9,9,5</td><td>10,10,5</td></tr>\n",
       "</tbody>\n",
       "</table>\n"
      ],
      "text/latex": [
       "A matrix: 5 × 10 of type chr\n",
       "\\begin{tabular}{llllllllll}\n",
       "\t 1,1,1 & 2,2,1 & 3,3,1 & 4,4,1 & 5,5,1 & 6,6,1 & 7,7,1 & 8,8,1 & 9,9,1 & 10,10,1\\\\\n",
       "\t 1,1,2 & 2,2,2 & 3,3,2 & 4,4,2 & 5,5,2 & 6,6,2 & 7,7,2 & 8,8,2 & 9,9,2 & 10,10,2\\\\\n",
       "\t 1,1,3 & 2,2,3 & 3,3,3 & 4,4,3 & 5,5,3 & 6,6,3 & 7,7,3 & 8,8,3 & 9,9,3 & 10,10,3\\\\\n",
       "\t 1,1,4 & 2,2,4 & 3,3,4 & 4,4,4 & 5,5,4 & 6,6,4 & 7,7,4 & 8,8,4 & 9,9,4 & 10,10,4\\\\\n",
       "\t 1,1,5 & 2,2,5 & 3,3,5 & 4,4,5 & 5,5,5 & 6,6,5 & 7,7,5 & 8,8,5 & 9,9,5 & 10,10,5\\\\\n",
       "\\end{tabular}\n"
      ],
      "text/markdown": [
       "\n",
       "A matrix: 5 × 10 of type chr\n",
       "\n",
       "| 1,1,1 | 2,2,1 | 3,3,1 | 4,4,1 | 5,5,1 | 6,6,1 | 7,7,1 | 8,8,1 | 9,9,1 | 10,10,1 |\n",
       "| 1,1,2 | 2,2,2 | 3,3,2 | 4,4,2 | 5,5,2 | 6,6,2 | 7,7,2 | 8,8,2 | 9,9,2 | 10,10,2 |\n",
       "| 1,1,3 | 2,2,3 | 3,3,3 | 4,4,3 | 5,5,3 | 6,6,3 | 7,7,3 | 8,8,3 | 9,9,3 | 10,10,3 |\n",
       "| 1,1,4 | 2,2,4 | 3,3,4 | 4,4,4 | 5,5,4 | 6,6,4 | 7,7,4 | 8,8,4 | 9,9,4 | 10,10,4 |\n",
       "| 1,1,5 | 2,2,5 | 3,3,5 | 4,4,5 | 5,5,5 | 6,6,5 | 7,7,5 | 8,8,5 | 9,9,5 | 10,10,5 |\n",
       "\n"
      ],
      "text/plain": [
       "     [,1]  [,2]  [,3]  [,4]  [,5]  [,6]  [,7]  [,8]  [,9]  [,10]  \n",
       "[1,] 1,1,1 2,2,1 3,3,1 4,4,1 5,5,1 6,6,1 7,7,1 8,8,1 9,9,1 10,10,1\n",
       "[2,] 1,1,2 2,2,2 3,3,2 4,4,2 5,5,2 6,6,2 7,7,2 8,8,2 9,9,2 10,10,2\n",
       "[3,] 1,1,3 2,2,3 3,3,3 4,4,3 5,5,3 6,6,3 7,7,3 8,8,3 9,9,3 10,10,3\n",
       "[4,] 1,1,4 2,2,4 3,3,4 4,4,4 5,5,4 6,6,4 7,7,4 8,8,4 9,9,4 10,10,4\n",
       "[5,] 1,1,5 2,2,5 3,3,5 4,4,5 5,5,5 6,6,5 7,7,5 8,8,5 9,9,5 10,10,5"
      ]
     },
     "metadata": {},
     "output_type": "display_data"
    }
   ],
   "source": [
    "m=function(x,y,z){paste(x, y, z, sep=\",\")}\n",
    "m2=Vectorize(m, c(\"x\", \"y\"))\n",
    "str(m2)\n",
    "m2(1:10, 1:10, 1:5)"
   ]
  },
  {
   "cell_type": "markdown",
   "metadata": {},
   "source": [
    "## Lab exercise: Bond Volume Analysis\n",
    "\n",
    "### Data Preparation\n",
    "\n",
    "Download the csv file and load into data frame.\n",
    "\n",
    "https://njit.instructure.com/files/483333/download?download_frd=1&verifier=In8pFaKc70FCfXfIQJ0BkKp9RxuJ4fHatnZRo91X\n",
    "\n",
    "### Write R code to answer the following questions\n",
    "\n",
    "1. What's the total amount issued in each currency? Sort the result by total amount with the largest amount on the top.\n",
    "2. How many bonds in each currency?\n",
    "3. How many bonds issued by each company?\n",
    "4. What's the total amount issued in each currency by each company? Result should look like\n",
    "\n",
    "```\n",
    "Name | Total Amount Issued | Currency\n",
    "\n",
    "```\n",
    "\n",
    "\n",
    "5. Change all currencies to columns and the total amount issued to the value under the currency column so that the data frame looks like\n",
    "\n",
    "```\n",
    "Name| EUR | CHF | SEK | \n",
    "Telia Co | 500000000 | NA | NA |\n",
    "```\n",
    "\n"
   ]
  },
  {
   "attachments": {
    "image.png": {
     "image/png": "[encoded data removed]"
    }
   },
   "cell_type": "markdown",
   "metadata": {},
   "source": [
    "## Homework Assignment 2. \n",
    "### Problem 1. Find the two most correlated stocks.\n",
    "\n",
    "#### The sample correlation coefficient formula is\n",
    "\n",
    "<img src=\"https://wikimedia.org/api/rest_v1/media/math/render/svg/332ae9dcde34d03f30ed6e1880af8b43327dd49c\">\n",
    "\n",
    "#### where ${\\overline {x}}$ and ${\\overline {y}}$ are the sample means of $[x1, x2, ..., xn]$ and $[y1, y2, ..., yn]$\n",
    "\n",
    "### Data Preparation\n",
    "\n",
    "Download the historial daily data of the entire 2018 for the 6 stocks \n",
    "\n",
    "```python\n",
    "tks = ['IBM', 'MSFT', 'GOOG', 'AAPL', 'AMZN', 'FB']\n",
    "```\n",
    "\n",
    "For example, to download IBM data, use the following link to go to yahoo finance page. Find the \"Download Data\" link to download the csv file to you local disk.\n",
    "https://finance.yahoo.com/quote/IBM/history?period1=1514782800&period2=1546232400&interval=1d&filter=history&frequency=1d\n",
    "\n",
    "Replace \"IBM\" with other stock symbol in the above URL, you will be able to download data for other 5 stocks.\n",
    "\n",
    "You should have 6 csv files on your disk now. IBM.csv, MSFT.csv, etc. Each of the csv file should look like,\n",
    "\n",
    "![image.png](attachment:image.png)\n",
    "\n",
    "### Retrieve the \"Adj Close\" column values as the daily prices of each stock\n",
    "\n",
    "Load the data into data frame and retrieve the \"Adj Close\" column values\n",
    "\n",
    "\n",
    "### Compute the correlation between any two stocks' \"Adj Close\" prices. \n",
    "\n",
    "You should use the above formula to implement the correlation algorithm. Try to avoid looping.\n",
    "\n",
    "### Conclusion\n",
    "\n",
    "Print all stock pairs and their correlations from max to min. The format should look like below. The numbers here are dummy numbers.\n",
    "\n",
    "```python\n",
    "IBM:MSFT = 0.763 (dummy numbers. your result will be different)\n",
    "IBM:GOOG = 0.627\n",
    "...\n",
    "AMZN:FB = 0.234\n",
    "```\n",
    "#### Tips: By definition, the correlation is symmetrical, i.e., r_xy = r_yx, so when you have IBM:MSFT, you can skip MSFT:IBM.\n",
    "\n",
    "\n"
   ]
  },
  {
   "attachments": {
    "image.png": {
     "image/png": "[encoded data removed]"
    }
   },
   "cell_type": "markdown",
   "metadata": {},
   "source": [
    "### Problem 2. Compute all dividends (this problem is useful in your midterm project)\n",
    "\n",
    "### Data Preparation\n",
    "\n",
    "Use the 6 stocks ['IBM', 'MSFT', 'GOOG', 'AAPL', 'AMZN', 'FB'] historical data as above.\n",
    "\n",
    "### Load the data to dataframes\n",
    "\n",
    "You will have 6 dataframes.\n",
    "\n",
    "### Understand how to compute the dividends\n",
    "\n",
    "There are two columns in each csv file, \"Close\" and \"Adj Close\". If we compute the ratio of previous day's \"Close\" price and today's \"Close\" price, then compare with the ratio of previous day's \"Adj Close\" price and today's \"Adj Close\" price, on most of days, the two ratios should be equal. On dividend day, the two ratios will have a difference. The difference times today's \"Close\" price, you will get the dividend. As the example below, you should be able to use the method to reproduce the $1.5 dividend on 2/8/2018.\n",
    "\n",
    "![image.png](attachment:image.png)\n",
    "\n",
    "### The result\n",
    "\n",
    "You result will have 6 dataframes, each of them have two columns, Date and Dividend. The dataframe should only have the rows that represent the divident day and amount.\n",
    "\n",
    "### Submit\n",
    "\n",
    "Submit your jupyter notebook file with all intermediate results and the final dataframe. "
   ]
  },
  {
   "cell_type": "markdown",
   "metadata": {},
   "source": [
    "### Please submit your jupyter notebook to canvas. <font color=red>Deadline is 06/12/2020 midnight.</font>"
   ]
  },
  {
   "cell_type": "code",
   "execution_count": null,
   "metadata": {},
   "outputs": [],
   "source": [
    "## Midterm project: Equity Portfolio Management\n",
    "\n",
    "### Data Preparation\n",
    "\n",
    "Download the historial daily data of the entire 2018 for the 10 stocks \n",
    "\n",
    "```python\n",
    "universe = ['IBM', 'MSFT', 'GOOG', 'AAPL', 'AMZN', 'FB', 'NFLX', 'TSLA', 'ORCL', 'SAP']\n",
    "```\n",
    "\n",
    "For example, to download IBM data, use the following link to go to yahoo finance page. Find the \"Download Data\" link to download the csv file to you local disk.\n",
    "https://finance.yahoo.com/quote/IBM/history?period1=1514782800&period2=1546232400&interval=1d&filter=history&frequency=1d\n",
    "\n",
    "Replace \"IBM\" with other stock symbol in the above URL, you will be able to download data for other 9 stocks.\n",
    "\n",
    "You should have 10 csv files on your disk now. IBM.csv, MSFT.csv, etc. We call the 10 stocks \"universe\" which is the entire stock market you can trade.\n",
    "\n",
    "\n",
    "![image.png](attachment:image.png)\n",
    "\n",
    "\n",
    "### Retrieve the \"Close\" and \"Adj Close\" values for each stock\n",
    "\n",
    "You will create a dataframe where there are 20 columns for the 10 stocks, each row is the \"Close\" and \"Adj Close\" prices for the 10 stocks on each day, in the order of the business days in 2018. Assume all buy/sell on the \"Close\" prices and there is no transaction cost.\n",
    "\n",
    "### You start to manage 5 million dollars fund on Jan 02, 2018\n",
    "\n",
    "You have a strategy to manage the fund.\n",
    "\n",
    "1. On Jan 02 2018, you split the \\\\$5m into 5 \\\\$1m, and use them to buy 5 stocks from the 10 stocks. For example, IBM close price was \\\\$154.25. With \\\\$1m, you can buy max 6482 shares with cost \\\\$999848.5 with \\\\$151.5‬ cash left. You decided to spend \\\\$1m on each of ['IBM', 'MSFT', 'GOOG', 'AAPL', 'AMZN'] respectively and keep the rest cash into a zero-interest cash account. On Jan 02 2018, your mark to market value (MTM) is \\$5m if combining all stocks value and cash. Your holdings of stocks and cach account is your portfolio.\n",
    "\n",
    "\\begin{equation*}\n",
    "\\ MTM^t =  cash^t + \\sum_{k=1}^5 Shares_k^t \\times ClosePrice_k^t \\\n",
    "\\end{equation*}\n",
    "\n",
    "\n",
    "2. Your trading strategy is \"5 days rebalancing of buying low\". Here is how it works. You keep your portfolio unchanged until 5 days later on Jan 09 2018. Now you want to re-check the market and adjust your portfolio. You will compute the \"Adj Close\" price changes from Jan 02 to Jan 09, and find the 5 stocks whose \"Adj Close\" prices dropped the most in terms of percentage. You sell all current holdings on Jan 09 \"Close\" prices to convert your portfolio to all cash. Then immediately split your cash, including your cash account, to 5 equal parts to buy the 5 stocks that dropped the most from Jan 02 to Jan 09 on 'Adj Close' prices. You always buy the max shares of stock on the \"Close\" price and keep the rest cash in cash account. Now the portfolio should be different from 5 days ago. This operation is called \"rebalancing\".\n",
    "\n",
    "    Keep in mind, the MTM will change every day, even when your portfolio holdings don't change, because the stock prices change.\n",
    "\n",
    "\n",
    "3. Corporations generally issue stock dividends on some days. The total dividend you get on such a day is the stock dividend  times your shares if you have shares of this stock on the dividend day. If you buy shares on the dividend day, these bought shares are not qualified to get dividend. If you sell shares on the dividend day, the sold shares are qualified to get dividend. For example, on 2/8/2018, IBM issued \\$1.5 dividend per share. In your cash account, you will automatically get\n",
    "\n",
    "\\begin{equation*}\n",
    "\\$1.5 \\times \\left(your\\ IBM\\ shares\\ on\\ 2/8/2018\\right)\n",
    "\\end{equation*} \n",
    "\n",
    "\n",
    "\n",
    "4. 5 business days later on Jan 17 (Jan 15 was a holiday), you re-check the market and adjust your portfolio again. You will have a new portfolio on Jan 17.\n",
    "\n",
    "\n",
    "5. If you run this strategy every 5 days all the way to Dec 31 2018, you will have a daily MTM. You expect the MTM on Dec 31 2018 should be higher than \\$5m because you always buy the stocks that dropped the most, i.e., you always buy low.\n",
    "\n",
    "\n",
    "6. Another strategy is \"5 days rebalancing of buying high\". You always buy the 5 stocks whose \"Adj Close\" prices surge the most in terms of percentage because you believe the trend will continue. Run the new strategy and see how the MTM will change.\n",
    "\n",
    "\n",
    "7. You will create a \"high tech index\" which is simply the daily average of the 10 stocks \"Close\" prices. Compare your MTM series with the \"high tech index\" and plot their curves. To plot the two curves together, you may want to convert the series to daily percentage change with regard to Jan 02 2018.\n",
    "\n",
    "\n",
    "8. Download the USD/JPY 2018 historical data at https://www.myfxbook.com/en/forex-market/currencies/USDJPY-historical-data then use the \"Close\" column as the rate to convert your MTM series from USD to JPY. Plot the two MTM curves. You will need to convert to daily percentage change too.\n",
    "\n",
    "\n",
    "9. The above two strategies both rebalance every 5 days. Try to change the days interval and find the optimal days interval that maximizes the MTM on 12/31/2018. \n",
    "\n",
    "### Submit\n",
    "\n",
    "* This project can be in R or Python.\n",
    "\n",
    "* This is a group project. Your group may have up to 3 members for this project. One person group is ok too.\n",
    "\n",
    "* Prepare for a 15 minutes demo for your work.  \n",
    "\n",
    "* June 26 2020 midnight -- Submit your jupyter notebook file with all intermediate results and the final dataframe. Plot the curves. Each member will need to submit a copy on canvas.\n",
    "\n",
    "\n",
    "\n"
   ]
  },
  {
   "cell_type": "code",
   "execution_count": null,
   "metadata": {},
   "outputs": [],
   "source": []
  }
 ],
 "metadata": {
  "kernelspec": {
   "display_name": "R",
   "language": "R",
   "name": "ir"
  },
  "language_info": {
   "codemirror_mode": "r",
   "file_extension": ".r",
   "mimetype": "text/x-r-source",
   "name": "R",
   "pygments_lexer": "r",
   "version": "3.6.1"
  }
 },
 "nbformat": 4,
 "nbformat_minor": 2
}
